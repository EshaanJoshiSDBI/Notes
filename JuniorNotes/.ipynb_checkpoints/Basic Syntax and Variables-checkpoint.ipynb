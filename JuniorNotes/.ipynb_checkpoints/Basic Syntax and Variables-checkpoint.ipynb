{
 "cells": [
  {
   "cell_type": "markdown",
   "id": "c037061f",
   "metadata": {},
   "source": [
    " # Basic Syntax"
   ]
  },
  {
   "cell_type": "markdown",
   "id": "8c7d0034",
   "metadata": {},
   "source": [
    "To print something to the console we use the `print()` function"
   ]
  },
  {
   "cell_type": "code",
   "execution_count": 1,
   "id": "adc9610e",
   "metadata": {},
   "outputs": [
    {
     "name": "stdout",
     "output_type": "stream",
     "text": [
      "Hello World\n"
     ]
    }
   ],
   "source": [
    "print('Hello World')"
   ]
  },
  {
   "cell_type": "code",
   "execution_count": 2,
   "id": "61214277",
   "metadata": {},
   "outputs": [
    {
     "name": "stdout",
     "output_type": "stream",
     "text": [
      "Hello World\n"
     ]
    }
   ],
   "source": [
    "print(\"Hello World\")"
   ]
  },
  {
   "cell_type": "markdown",
   "id": "8230ae98",
   "metadata": {},
   "source": [
    "- In python we can use both `'` and `\"` for strings"
   ]
  },
  {
   "cell_type": "markdown",
   "id": "bcd70338",
   "metadata": {},
   "source": [
    "#### Comments\n",
    "- Comments are used to explain the code\n",
    "- In python comment starts with a `#`"
   ]
  },
  {
   "cell_type": "code",
   "execution_count": 5,
   "id": "e4f5b3ec",
   "metadata": {},
   "outputs": [
    {
     "name": "stdout",
     "output_type": "stream",
     "text": [
      "Hello\n",
      "World\n"
     ]
    }
   ],
   "source": [
    "# Printing hello and world\n",
    "print('Hello')\n",
    "print(\"World\")"
   ]
  },
  {
   "cell_type": "code",
   "execution_count": 4,
   "id": "a906c6ee",
   "metadata": {},
   "outputs": [
    {
     "name": "stdout",
     "output_type": "stream",
     "text": [
      "Hello\n"
     ]
    }
   ],
   "source": [
    "print('Hello')\n",
    "# print('World')"
   ]
  },
  {
   "cell_type": "markdown",
   "id": "bb6a590d",
   "metadata": {},
   "source": [
    "#### Indentation\n",
    "- Python uses indentation to indicate a block of code"
   ]
  },
  {
   "cell_type": "code",
   "execution_count": 7,
   "id": "7aae23d2",
   "metadata": {},
   "outputs": [
    {
     "name": "stdout",
     "output_type": "stream",
     "text": [
      "0\n",
      "1\n",
      "2\n",
      "3\n",
      "4\n"
     ]
    }
   ],
   "source": [
    "for i in range(5):\n",
    "    print(i)"
   ]
  },
  {
   "cell_type": "markdown",
   "id": "178735d6",
   "metadata": {},
   "source": [
    "# Variables"
   ]
  },
  {
   "cell_type": "markdown",
   "id": "d170c07f",
   "metadata": {},
   "source": [
    "### Assigning variables"
   ]
  },
  {
   "cell_type": "markdown",
   "id": "c63f95e8",
   "metadata": {},
   "source": [
    "### Commonly used Data types\n",
    "- Integer\n",
    "- string\n",
    "- tuple\n",
    "- list\n",
    "- dictionary\n",
    "- boolean\n",
    "- float"
   ]
  },
  {
   "cell_type": "code",
   "execution_count": 8,
   "id": "48e70cf4",
   "metadata": {},
   "outputs": [
    {
     "name": "stdout",
     "output_type": "stream",
     "text": [
      "1\n"
     ]
    }
   ],
   "source": [
    "# Integer\n",
    "x = 1\n",
    "print(x)"
   ]
  },
  {
   "cell_type": "code",
   "execution_count": 21,
   "id": "051416cc",
   "metadata": {},
   "outputs": [
    {
     "name": "stdout",
     "output_type": "stream",
     "text": [
      "1.5\n"
     ]
    }
   ],
   "source": [
    "# Float\n",
    "x = 1.5\n",
    "print(x)"
   ]
  },
  {
   "cell_type": "code",
   "execution_count": 10,
   "id": "fabfb798",
   "metadata": {},
   "outputs": [
    {
     "name": "stdout",
     "output_type": "stream",
     "text": [
      "Hello World\n"
     ]
    }
   ],
   "source": [
    "# String\n",
    "x = 'Hello'\n",
    "y = 'World'\n",
    "# Multiple values can be printed inside a single print statement by seperating the values with ',',\n",
    "print(x,y)"
   ]
  },
  {
   "cell_type": "code",
   "execution_count": 14,
   "id": "f528b947",
   "metadata": {},
   "outputs": [
    {
     "name": "stdout",
     "output_type": "stream",
     "text": [
      "(1, 2, 3, 4, 5)\n"
     ]
    }
   ],
   "source": [
    "# tuple\n",
    "tple = (1,2,3,4,5)\n",
    "print(tple)"
   ]
  },
  {
   "cell_type": "code",
   "execution_count": 16,
   "id": "90919a21",
   "metadata": {},
   "outputs": [
    {
     "name": "stdout",
     "output_type": "stream",
     "text": [
      "[1, 2, 3, 4, 5]\n"
     ]
    }
   ],
   "source": [
    "# List\n",
    "lst = [1,2,3,4,5]\n",
    "print(lst)"
   ]
  },
  {
   "cell_type": "code",
   "execution_count": 20,
   "id": "d151e403",
   "metadata": {},
   "outputs": [
    {
     "name": "stdout",
     "output_type": "stream",
     "text": [
      "{1: 'a', 2: 'b', 3: 'c', 4: 'd', 5: 'e'}\n",
      "e\n"
     ]
    }
   ],
   "source": [
    "dictionary = {1:'a',2:'b',3:'c',4:'d',5:'e'}\n",
    "print(dictionary)\n",
    "print(dictionary[5])"
   ]
  },
  {
   "cell_type": "code",
   "execution_count": 22,
   "id": "6dfef75e",
   "metadata": {},
   "outputs": [
    {
     "name": "stdout",
     "output_type": "stream",
     "text": [
      "True\n"
     ]
    }
   ],
   "source": [
    "boolean = True\n",
    "print(boolean)"
   ]
  }
 ],
 "metadata": {
  "kernelspec": {
   "display_name": "Python 3 (ipykernel)",
   "language": "python",
   "name": "python3"
  },
  "language_info": {
   "codemirror_mode": {
    "name": "ipython",
    "version": 3
   },
   "file_extension": ".py",
   "mimetype": "text/x-python",
   "name": "python",
   "nbconvert_exporter": "python",
   "pygments_lexer": "ipython3",
   "version": "3.9.5"
  }
 },
 "nbformat": 4,
 "nbformat_minor": 5
}
