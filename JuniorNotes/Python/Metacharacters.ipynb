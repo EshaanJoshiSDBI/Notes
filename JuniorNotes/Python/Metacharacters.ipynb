{
 "cells": [
  {
   "cell_type": "markdown",
   "id": "f3d0b5c2-fb5f-4f99-89f3-465288c6504d",
   "metadata": {},
   "source": [
    "# Metacharacters"
   ]
  },
  {
   "cell_type": "code",
   "execution_count": 1,
   "id": "bd1f7369-ef48-41f5-b8d6-4b7176639ee8",
   "metadata": {},
   "outputs": [],
   "source": [
    "import re"
   ]
  },
  {
   "cell_type": "markdown",
   "id": "4507b1f1-4122-40bd-8bfc-157562286730",
   "metadata": {},
   "source": [
    "`[]` A set of characters"
   ]
  },
  {
   "cell_type": "code",
   "execution_count": 2,
   "id": "739e21b2-c109-4d41-aa12-4d7d41c9b4c6",
   "metadata": {},
   "outputs": [
    {
     "data": {
      "text/plain": [
       "['e', 'a', 'a']"
      ]
     },
     "execution_count": 2,
     "metadata": {},
     "output_type": "execute_result"
    }
   ],
   "source": [
    "txt = 'The rain in Spain'\n",
    "re.findall('[a-e]',txt)"
   ]
  },
  {
   "cell_type": "markdown",
   "id": "ff64a21e-5e56-4f0f-87f5-7b71cbb8272b",
   "metadata": {},
   "source": [
    "`\\` Signals a special sequence (can also be used to escape special characters)"
   ]
  },
  {
   "cell_type": "code",
   "execution_count": 4,
   "id": "3acebf5d-faf4-4c50-b976-8eb265fe69b1",
   "metadata": {},
   "outputs": [
    {
     "data": {
      "text/plain": [
       "['5', '9']"
      ]
     },
     "execution_count": 4,
     "metadata": {},
     "output_type": "execute_result"
    }
   ],
   "source": [
    "txt = 'That will be 59 dollars'\n",
    "re.findall('\\d',txt)"
   ]
  },
  {
   "cell_type": "markdown",
   "id": "f36f40bb-5e61-4bff-a61a-b23d4d86afcd",
   "metadata": {},
   "source": [
    "`.` Any character (except newline character)"
   ]
  },
  {
   "cell_type": "code",
   "execution_count": 5,
   "id": "f352baa0-4a2a-4ed9-bb0b-19532736b7cd",
   "metadata": {},
   "outputs": [
    {
     "data": {
      "text/plain": [
       "['hello']"
      ]
     },
     "execution_count": 5,
     "metadata": {},
     "output_type": "execute_result"
    }
   ],
   "source": [
    "txt = 'hello world'\n",
    "re.findall('he..o',txt)"
   ]
  },
  {
   "cell_type": "markdown",
   "id": "3c743536-7ebe-4c6b-9444-530f5f56047b",
   "metadata": {},
   "source": [
    "we have to specify the number of dots, if here we have a single dot the output will be a blank list as there are two letters in the original string, hence he.o doesn't exist."
   ]
  },
  {
   "cell_type": "markdown",
   "id": "cc34ff94-1b01-49c8-887a-fe7560828862",
   "metadata": {},
   "source": [
    "`^` Starts with"
   ]
  },
  {
   "cell_type": "code",
   "execution_count": 7,
   "id": "75f8300d-a8fc-431c-821b-a16789ddc2e6",
   "metadata": {},
   "outputs": [
    {
     "data": {
      "text/plain": [
       "['hello']"
      ]
     },
     "execution_count": 7,
     "metadata": {},
     "output_type": "execute_result"
    }
   ],
   "source": [
    "txt = 'hello world'\n",
    "re.findall('^hello',txt)"
   ]
  },
  {
   "cell_type": "markdown",
   "id": "b81086e1-81f3-4915-bdf7-b3db15a85d99",
   "metadata": {},
   "source": [
    "`$` Ends with * Zero or more occurences, one or more occurences"
   ]
  },
  {
   "cell_type": "code",
   "execution_count": 8,
   "id": "cf8e46cf-2f25-42ed-ae47-14fe30d9051f",
   "metadata": {},
   "outputs": [
    {
     "name": "stdout",
     "output_type": "stream",
     "text": [
      "Yes, the string ends with world\n"
     ]
    }
   ],
   "source": [
    "txt = 'hello world'\n",
    "search = re.findall('world$',txt)\n",
    "if search:\n",
    "    print('Yes, the string ends with world')\n",
    "else:\n",
    "    print('No match')"
   ]
  },
  {
   "cell_type": "markdown",
   "id": "19170389-b55f-43ef-8bba-4a345044c5d6",
   "metadata": {},
   "source": [
    "`{}` Exactly the specified number of occurences"
   ]
  },
  {
   "cell_type": "code",
   "execution_count": 9,
   "id": "edf49a1e-a5fc-461e-8131-566c734dc369",
   "metadata": {},
   "outputs": [
    {
     "name": "stdout",
     "output_type": "stream",
     "text": [
      "Yes, there is at least one match!\n"
     ]
    }
   ],
   "source": [
    "txt = \"The rain in Spain falls mainly in the plain!\"\n",
    "# Check if the string contains \"a\" followed by exactly two \"l\" characters:\n",
    "search = re.findall('al{2}',txt)\n",
    "if search:\n",
    "  print(\"Yes, there is at least one match!\")\n",
    "else:\n",
    "  print(\"No match\")"
   ]
  },
  {
   "cell_type": "markdown",
   "id": "8379c20c-99f1-4e6d-9303-fc1b2760a383",
   "metadata": {},
   "source": [
    "`|` Either or"
   ]
  },
  {
   "cell_type": "code",
   "execution_count": 10,
   "id": "9cbb3705-5e11-4176-a1b5-0928fb48d339",
   "metadata": {},
   "outputs": [
    {
     "name": "stdout",
     "output_type": "stream",
     "text": [
      "Yes, there is at least one match!\n"
     ]
    }
   ],
   "source": [
    "txt = \"The rain in Spain falls mainly in the plain!\"\n",
    "#Check if the string contains either \"falls\" or \"stays\":\n",
    "search = re.findall(\"falls|stays\", txt)\n",
    "if search:\n",
    "  print(\"Yes, there is at least one match!\")\n",
    "else:\n",
    "  print(\"No match\")"
   ]
  }
 ],
 "metadata": {
  "kernelspec": {
   "display_name": "Python 3 (ipykernel)",
   "language": "python",
   "name": "python3"
  },
  "language_info": {
   "codemirror_mode": {
    "name": "ipython",
    "version": 3
   },
   "file_extension": ".py",
   "mimetype": "text/x-python",
   "name": "python",
   "nbconvert_exporter": "python",
   "pygments_lexer": "ipython3",
   "version": "3.9.5"
  }
 },
 "nbformat": 4,
 "nbformat_minor": 5
}
