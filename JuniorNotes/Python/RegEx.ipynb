{
 "cells": [
  {
   "cell_type": "markdown",
   "id": "c23e7a72-6849-4869-bb86-d08d1c82ba2a",
   "metadata": {},
   "source": [
    "### Regex\n",
    "- A RegEx or regular expression, is a sequence of characters that forms a search pattern\n",
    "- RegEx can be used to check if a string contains the specifies search pattern\n",
    "#### Module\n",
    "- Python has a built-in package called `re`, which can be used to work with regular expressions"
   ]
  },
  {
   "cell_type": "markdown",
   "id": "5de171ca-db93-4c56-833a-64b7adb1cd0d",
   "metadata": {},
   "source": [
    "### Regex functions\n",
    "- `re.findall` Returns a list containing all matches\n",
    "- `re.search` Returns a match object if there is a match anywhere in the string\n",
    "- `re.split` Returns a list where the string has been split at each match\n",
    "- `re.sub` Returns one or many matches with a string"
   ]
  },
  {
   "cell_type": "code",
   "execution_count": 1,
   "id": "70c300b0-b308-482c-99f5-9949a347cce3",
   "metadata": {},
   "outputs": [],
   "source": [
    "import re"
   ]
  },
  {
   "cell_type": "markdown",
   "id": "b234e3ef-2582-4c71-9489-d99e4095f24a",
   "metadata": {},
   "source": [
    "1. The findall() function\n",
    "- Returns a list containing all matches"
   ]
  },
  {
   "cell_type": "code",
   "execution_count": 3,
   "id": "8e366cba-0c2a-4254-979a-a697ad88d301",
   "metadata": {},
   "outputs": [
    {
     "name": "stdout",
     "output_type": "stream",
     "text": [
      "['ai', 'ai']\n"
     ]
    }
   ],
   "source": [
    "txt = 'The rain in Spain'\n",
    "search = re.findall('ai',txt)\n",
    "print(search)"
   ]
  },
  {
   "cell_type": "code",
   "execution_count": 6,
   "id": "9fe3f01b-6803-4b81-b7d6-6feeff1e396b",
   "metadata": {},
   "outputs": [
    {
     "data": {
      "text/plain": [
       "['1', '3', '0']"
      ]
     },
     "execution_count": 6,
     "metadata": {},
     "output_type": "execute_result"
    }
   ],
   "source": [
    "txt = 'The totl bill was $130 for lunch Eshaan, Parth, Srushti and Aditi need to pay the amoutn equally'\n",
    "re.findall('\\d',txt)"
   ]
  },
  {
   "cell_type": "code",
   "execution_count": 10,
   "id": "95070093-fb68-4e43-999d-3f0cac5cdb47",
   "metadata": {},
   "outputs": [
    {
     "data": {
      "text/plain": [
       "['$120']"
      ]
     },
     "execution_count": 10,
     "metadata": {},
     "output_type": "execute_result"
    }
   ],
   "source": [
    "txt = 'The total bill was $120 for lucnh, Eshaan, Parth, srushti and Aditi need to pay the amount equally. They arrived at the restaurant at 4.30 pm to 7.30pm and ordered 6 dishes and 2 bottles of wine'\n",
    "# if we just put\\$ then it won't return the amount and only the dollar sign, + means both conditions are find\n",
    "re.findall('\\$+\\d+',txt)"
   ]
  },
  {
   "cell_type": "code",
   "execution_count": 11,
   "id": "50509c4f-f444-4354-a502-d7a9e092c293",
   "metadata": {},
   "outputs": [
    {
     "data": {
      "text/plain": [
       "['4.30', '7.30']"
      ]
     },
     "execution_count": 11,
     "metadata": {},
     "output_type": "execute_result"
    }
   ],
   "source": [
    "re.findall('\\d+\\.+\\d+',txt) # will check if the pattern is occurrening once or more."
   ]
  },
  {
   "cell_type": "code",
   "execution_count": 13,
   "id": "edf992c7-0157-4d7a-9482-ed30e6ecb02d",
   "metadata": {},
   "outputs": [
    {
     "data": {
      "text/plain": [
       "['4.30 pm', '7.30pm']"
      ]
     },
     "execution_count": 13,
     "metadata": {},
     "output_type": "execute_result"
    }
   ],
   "source": [
    "re.findall('\\d+\\.+\\d+\\s*[pm]+',txt)"
   ]
  },
  {
   "cell_type": "markdown",
   "id": "0b37e3ab-d79d-407c-ba1e-64e191bc1afc",
   "metadata": {},
   "source": [
    "2. The search() function\n",
    "- The `search()` function searches the string for a match and returns a match object if there's a match. If there is more than one match only the first occurence of the match will be returned"
   ]
  },
  {
   "cell_type": "code",
   "execution_count": 15,
   "id": "cd2d60c1-6406-4249-a2d1-0687654267e7",
   "metadata": {},
   "outputs": [
    {
     "name": "stdout",
     "output_type": "stream",
     "text": [
      "The first whte-space character is located in position:  3\n"
     ]
    }
   ],
   "source": [
    "txt = 'The rain in Spain'\n",
    "search = re.search('\\s',txt)\n",
    "print('The first whte-space character is located in position: ',search.start())"
   ]
  },
  {
   "cell_type": "markdown",
   "id": "6eeb4f3c-75f2-497c-932a-0452a43b5402",
   "metadata": {},
   "source": [
    "- If no matches are found the value None is returned"
   ]
  },
  {
   "cell_type": "code",
   "execution_count": 16,
   "id": "6207eae8-b9b2-40ba-a94f-ac84a3a8175f",
   "metadata": {},
   "outputs": [
    {
     "name": "stdout",
     "output_type": "stream",
     "text": [
      "None\n"
     ]
    }
   ],
   "source": [
    "txt = 'The rain in Spain'\n",
    "search = re.search('Portugal',txt)\n",
    "print(search)"
   ]
  },
  {
   "cell_type": "markdown",
   "id": "2e6fd4ad-e171-4adf-a849-4ec0ddbd637e",
   "metadata": {},
   "source": [
    "3. The split() function\n",
    "- The spit() function returns a list where the string is spit at each match"
   ]
  },
  {
   "cell_type": "code",
   "execution_count": 17,
   "id": "02b4a7d6-6439-474f-aecf-72740ce4ec52",
   "metadata": {},
   "outputs": [
    {
     "name": "stdout",
     "output_type": "stream",
     "text": [
      "['The', 'rain', 'in', 'Spain']\n"
     ]
    }
   ],
   "source": [
    "txt = 'The rain in Spain'\n",
    "search = re.split('\\s',txt)\n",
    "print(search)"
   ]
  },
  {
   "cell_type": "markdown",
   "id": "178b55b5-5fd4-4dbc-a4c6-1b58d8f37a20",
   "metadata": {},
   "source": [
    "You can control the number of occurences by specifying the maxsplit parameter"
   ]
  },
  {
   "cell_type": "code",
   "execution_count": 18,
   "id": "e45b932e-5cb3-4fff-b133-cb6d8b3045eb",
   "metadata": {},
   "outputs": [
    {
     "data": {
      "text/plain": [
       "['The', 'rain in Spain']"
      ]
     },
     "execution_count": 18,
     "metadata": {},
     "output_type": "execute_result"
    }
   ],
   "source": [
    "txt = 'The rain in Spain'\n",
    "re.split('\\s',txt,1)"
   ]
  },
  {
   "cell_type": "code",
   "execution_count": 19,
   "id": "d38fa35d-1dda-4cc7-99c6-a4bf5f1aa8cc",
   "metadata": {},
   "outputs": [
    {
     "data": {
      "text/plain": [
       "['The', 'rain', 'in Spain']"
      ]
     },
     "execution_count": 19,
     "metadata": {},
     "output_type": "execute_result"
    }
   ],
   "source": [
    "txt = 'The rain in Spain'\n",
    "re.split('\\s',txt,2)"
   ]
  },
  {
   "cell_type": "markdown",
   "id": "256ead69-afbc-4502-8b3f-08f95b94a1a7",
   "metadata": {},
   "source": [
    "4. The sub() function\n",
    "- The sub() function replaces the math with the text of our choice"
   ]
  },
  {
   "cell_type": "code",
   "execution_count": 20,
   "id": "8e405f48-8862-4aaa-9a19-65673bc626ed",
   "metadata": {},
   "outputs": [
    {
     "data": {
      "text/plain": [
       "'The_rain_in_Spain'"
      ]
     },
     "execution_count": 20,
     "metadata": {},
     "output_type": "execute_result"
    }
   ],
   "source": [
    "txt = 'The rain in Spain'\n",
    "re.sub('\\s','_',txt)"
   ]
  },
  {
   "cell_type": "markdown",
   "id": "685ab656-f1b2-40ab-8f7a-0c3b745b5b54",
   "metadata": {},
   "source": [
    "You can control the number of replacements by specifying the maxsplit parameter"
   ]
  },
  {
   "cell_type": "code",
   "execution_count": 22,
   "id": "cef346c8-cda8-49f2-bb49-39825e0f7c17",
   "metadata": {},
   "outputs": [
    {
     "data": {
      "text/plain": [
       "'The_rain_in Spain'"
      ]
     },
     "execution_count": 22,
     "metadata": {},
     "output_type": "execute_result"
    }
   ],
   "source": [
    "txt = 'The rain in Spain'\n",
    "re.sub('\\s','_',txt,2)"
   ]
  },
  {
   "cell_type": "markdown",
   "id": "93948dcb-d971-46fb-8b9b-9caee424b6d3",
   "metadata": {},
   "source": [
    "### Match Object\n",
    "A match objet is an object containing information about the search and the result\n",
    "- If there's no match, the value **None** will be returned, instead of the Match object"
   ]
  },
  {
   "cell_type": "code",
   "execution_count": 23,
   "id": "1e6ff0c9-92e9-47aa-940b-b0dd0d97c95a",
   "metadata": {},
   "outputs": [
    {
     "data": {
      "text/plain": [
       "<re.Match object; span=(5, 7), match='ai'>"
      ]
     },
     "execution_count": 23,
     "metadata": {},
     "output_type": "execute_result"
    }
   ],
   "source": [
    "txt = 'The rain in Spain'\n",
    "re.search('ai',txt)"
   ]
  },
  {
   "cell_type": "markdown",
   "id": "ad2dc1da-2c3c-4c33-b74b-42900d4bf333",
   "metadata": {},
   "source": [
    "The match object has properties and methods used to retrieve information about the search and the result:\n",
    "- `.span()` returns a tuple containing the start and end positions of the match\n",
    "- `.group()` returns the part of the string where there was a match"
   ]
  },
  {
   "cell_type": "code",
   "execution_count": 26,
   "id": "972106de-26f8-4d38-aae2-ce5fbb120ea2",
   "metadata": {},
   "outputs": [],
   "source": [
    "txt = 'The rain in Spain'\n",
    "search = re.search(r'\\bS\\w+',txt)"
   ]
  },
  {
   "cell_type": "code",
   "execution_count": 27,
   "id": "0ea972a7-610f-4edd-a9cf-30ccceb9ddad",
   "metadata": {},
   "outputs": [
    {
     "data": {
      "text/plain": [
       "(12, 17)"
      ]
     },
     "execution_count": 27,
     "metadata": {},
     "output_type": "execute_result"
    }
   ],
   "source": [
    "# span()\n",
    "search.span()"
   ]
  },
  {
   "cell_type": "code",
   "execution_count": 29,
   "id": "d4d11e9a-eaa6-4233-9d1b-3c96bea8e558",
   "metadata": {
    "tags": []
   },
   "outputs": [
    {
     "data": {
      "text/plain": [
       "'Spain'"
      ]
     },
     "execution_count": 29,
     "metadata": {},
     "output_type": "execute_result"
    }
   ],
   "source": [
    "search.group()"
   ]
  }
 ],
 "metadata": {
  "kernelspec": {
   "display_name": "Python 3 (ipykernel)",
   "language": "python",
   "name": "python3"
  },
  "language_info": {
   "codemirror_mode": {
    "name": "ipython",
    "version": 3
   },
   "file_extension": ".py",
   "mimetype": "text/x-python",
   "name": "python",
   "nbconvert_exporter": "python",
   "pygments_lexer": "ipython3",
   "version": "3.9.5"
  }
 },
 "nbformat": 4,
 "nbformat_minor": 5
}
