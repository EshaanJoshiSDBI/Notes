{
 "cells": [
  {
   "cell_type": "markdown",
   "id": "6bfafa43-ebbe-41ff-8e68-a342458fc952",
   "metadata": {},
   "source": [
    "# Special Sequences"
   ]
  },
  {
   "cell_type": "markdown",
   "id": "e715bafa-66ca-4ef6-8153-9a83e2af539c",
   "metadata": {},
   "source": [
    "`\\A` Returns a match if the specified characters are at the beginning of the string"
   ]
  },
  {
   "cell_type": "code",
   "execution_count": 1,
   "id": "1e3fe960-9b57-4a5c-bf3d-281a350dda92",
   "metadata": {},
   "outputs": [],
   "source": [
    "import re"
   ]
  },
  {
   "cell_type": "code",
   "execution_count": 3,
   "id": "cd35d277-b26d-45cd-a6f1-4fe589669e3a",
   "metadata": {},
   "outputs": [
    {
     "name": "stdout",
     "output_type": "stream",
     "text": [
      "['The']\n",
      "Yes, there is a match!\n"
     ]
    }
   ],
   "source": [
    "txt = 'The rain in Spain'\n",
    "search = re.findall('\\AThe',txt)\n",
    "print(search)\n",
    "if search:\n",
    "  print(\"Yes, there is a match!\")\n",
    "else:\n",
    "  print(\"No match\")"
   ]
  },
  {
   "cell_type": "markdown",
   "id": "8c2b1ed1-f7e7-492a-a78b-4606897a9951",
   "metadata": {},
   "source": [
    "`\\b` Returns a match where the specified characters are at the beginning or at the end of a word"
   ]
  },
  {
   "cell_type": "markdown",
   "id": "8d7f82a2-f47c-4cff-b0e3-c74d3238631b",
   "metadata": {},
   "source": [
    "The `r` in the beginning is making sure that the string is being treated as a raw string"
   ]
  },
  {
   "cell_type": "code",
   "execution_count": 12,
   "id": "154613b1-c528-4d05-860b-93180832a98e",
   "metadata": {},
   "outputs": [
    {
     "name": "stdout",
     "output_type": "stream",
     "text": [
      "[]\n",
      "No match\n"
     ]
    }
   ],
   "source": [
    "txt = 'The rain in Spain'\n",
    "search = re.findall(r'\\bain',txt)\n",
    "print(search)\n",
    "if search:\n",
    "  print(\"Yes, there is at least one match!\")\n",
    "else:\n",
    "  print(\"No match\")"
   ]
  },
  {
   "cell_type": "code",
   "execution_count": 11,
   "id": "11ab54d7-edb6-47f8-a50b-5466fbe07097",
   "metadata": {},
   "outputs": [
    {
     "name": "stdout",
     "output_type": "stream",
     "text": [
      "['ain', 'ain']\n",
      "Yes, there is at least one match!\n"
     ]
    }
   ],
   "source": [
    "txt = 'The rain in Spain'\n",
    "search = re.findall(r'ain\\b',txt)\n",
    "print(search)\n",
    "if search:\n",
    "  print(\"Yes, there is at least one match!\")\n",
    "else:\n",
    "  print(\"No match\")"
   ]
  },
  {
   "cell_type": "markdown",
   "id": "4bd3445c-4af0-46eb-a157-3f640d188a11",
   "metadata": {},
   "source": [
    "`\\B` Returns a match where the specified characters are present, but NOT at the beginning or at the end of the word"
   ]
  },
  {
   "cell_type": "code",
   "execution_count": 13,
   "id": "f502f2b9-1d44-40ea-8cd8-a4564960bd3d",
   "metadata": {},
   "outputs": [
    {
     "name": "stdout",
     "output_type": "stream",
     "text": [
      "['ain', 'ain']\n",
      "Yes, there is at least one match!\n"
     ]
    }
   ],
   "source": [
    "txt = 'The rain in Spain'\n",
    "search = re.findall(r'\\Bain',txt)\n",
    "print(search)\n",
    "if search:\n",
    "  print(\"Yes, there is at least one match!\")\n",
    "else:\n",
    "  print(\"No match\")"
   ]
  },
  {
   "cell_type": "code",
   "execution_count": 14,
   "id": "8a55b804-4175-4b14-9088-79fb209a3031",
   "metadata": {},
   "outputs": [
    {
     "name": "stdout",
     "output_type": "stream",
     "text": [
      "[]\n",
      "No match\n"
     ]
    }
   ],
   "source": [
    "txt = 'The rain in Spain'\n",
    "search = re.findall(r'ain\\B',txt)\n",
    "print(search)\n",
    "if search:\n",
    "  print(\"Yes, there is at least one match!\")\n",
    "else:\n",
    "  print(\"No match\")"
   ]
  },
  {
   "cell_type": "markdown",
   "id": "14f55490-34de-4da2-8d55-6fdf9fca1b32",
   "metadata": {},
   "source": [
    "'\\d' Returns a match where the string contains digits (numbers from 0 to 9)"
   ]
  },
  {
   "cell_type": "code",
   "execution_count": 15,
   "id": "d79157e4-3d93-4f56-825a-c6fc5d3b076e",
   "metadata": {},
   "outputs": [
    {
     "name": "stdout",
     "output_type": "stream",
     "text": [
      "[]\n",
      "No match\n"
     ]
    }
   ],
   "source": [
    "txt = 'The rain in Spain'\n",
    "search = re.findall('\\d',txt)\n",
    "print(search)\n",
    "if search:\n",
    "  print(\"Yes, there is at least one match!\")\n",
    "else:\n",
    "  print(\"No match\")"
   ]
  },
  {
   "cell_type": "code",
   "execution_count": 16,
   "id": "86ccd8c9-81be-4a9b-b7b9-fee1fb0df8e8",
   "metadata": {},
   "outputs": [
    {
     "name": "stdout",
     "output_type": "stream",
     "text": [
      "['5', '9']\n",
      "Yes, there is at least one match!\n"
     ]
    }
   ],
   "source": [
    "txt = 'That will be 59 dollars'\n",
    "search = re.findall('\\d',txt)\n",
    "print(search)\n",
    "if search:\n",
    "  print(\"Yes, there is at least one match!\")\n",
    "else:\n",
    "  print(\"No match\")"
   ]
  },
  {
   "cell_type": "code",
   "execution_count": 17,
   "id": "4d6b1925-cffb-4fc6-9702-9f2f6a297848",
   "metadata": {},
   "outputs": [
    {
     "name": "stdout",
     "output_type": "stream",
     "text": [
      "['59']\n",
      "Yes, there is at least one match!\n"
     ]
    }
   ],
   "source": [
    "search = re.findall('\\d+',txt)\n",
    "print(search)\n",
    "if search:\n",
    "  print(\"Yes, there is at least one match!\")\n",
    "else:\n",
    "  print(\"No match\")"
   ]
  },
  {
   "cell_type": "markdown",
   "id": "df284191-7a54-4ae2-b2f0-6d8230b9b554",
   "metadata": {},
   "source": [
    "`\\D` Returns a match where the string DOES NOT contain digits"
   ]
  },
  {
   "cell_type": "code",
   "execution_count": 18,
   "id": "d9b3b5c5-9b8d-437a-a8e3-54437ce64d05",
   "metadata": {},
   "outputs": [
    {
     "name": "stdout",
     "output_type": "stream",
     "text": [
      "['T', 'h', 'e', ' ', 'r', 'a', 'i', 'n', ' ', 'i', 'n', ' ', 'S', 'p', 'a', 'i', 'n']\n",
      "Yes, there is at least one match!\n"
     ]
    }
   ],
   "source": [
    "txt = \"The rain in Spain\"\n",
    "search = re.findall(\"\\D\", txt)\n",
    "print(search)\n",
    "if search:\n",
    "  print(\"Yes, there is at least one match!\")\n",
    "else:\n",
    "  print(\"No match\")"
   ]
  },
  {
   "cell_type": "markdown",
   "id": "0d4389f5-fd44-4401-a107-3d1432f10eee",
   "metadata": {},
   "source": [
    "`\\s` Returns a match where the string contains a white space character"
   ]
  },
  {
   "cell_type": "code",
   "execution_count": 3,
   "id": "475e31af-6496-49d6-9e69-8651e90d337f",
   "metadata": {},
   "outputs": [
    {
     "data": {
      "text/plain": [
       "[' ', ' ', ' ']"
      ]
     },
     "execution_count": 3,
     "metadata": {},
     "output_type": "execute_result"
    }
   ],
   "source": [
    "txt = 'The rain in Spain'\n",
    "re.findall('\\s',txt)"
   ]
  },
  {
   "cell_type": "markdown",
   "id": "e374e4ce-95ff-4d17-8431-5e07adde8b23",
   "metadata": {},
   "source": [
    "`\\S` Returns a match where the string DOES NOT contain a white space characters"
   ]
  },
  {
   "cell_type": "code",
   "execution_count": 4,
   "id": "f4daa5f3-311c-4aba-bceb-6d55fbfccd97",
   "metadata": {},
   "outputs": [
    {
     "data": {
      "text/plain": [
       "['T', 'h', 'e', 'r', 'a', 'i', 'n', 'i', 'n', 'S', 'p', 'a', 'i', 'n']"
      ]
     },
     "execution_count": 4,
     "metadata": {},
     "output_type": "execute_result"
    }
   ],
   "source": [
    "re.findall('\\S',txt)"
   ]
  },
  {
   "cell_type": "markdown",
   "id": "4ccd63c7-6c5c-4f95-95ba-94797e19e858",
   "metadata": {},
   "source": [
    "`\\w` Returns a match where the string contains any word characters any word charcters (characters from a to Z, digits from 0 to 9 and the underscore character `_`)"
   ]
  },
  {
   "cell_type": "code",
   "execution_count": 5,
   "id": "57d5acf8-d58e-450d-a49d-069c70b5dcf7",
   "metadata": {},
   "outputs": [
    {
     "data": {
      "text/plain": [
       "['T', 'h', 'e', 'r', 'a', 'i', 'n', 'i', 'n', 'S', 'p', 'a', 'i', 'n']"
      ]
     },
     "execution_count": 5,
     "metadata": {},
     "output_type": "execute_result"
    }
   ],
   "source": [
    "re.findall('\\w',txt)"
   ]
  },
  {
   "cell_type": "markdown",
   "id": "c93086ac-4fc0-4986-811a-1a4f4d6386b7",
   "metadata": {},
   "source": [
    "`\\W` Returns a match where the string DOES NOT contain any word characters"
   ]
  },
  {
   "cell_type": "code",
   "execution_count": 6,
   "id": "5eb63308-df20-40f8-a8f2-80bfe3a0548d",
   "metadata": {},
   "outputs": [
    {
     "data": {
      "text/plain": [
       "[' ', ' ', ' ']"
      ]
     },
     "execution_count": 6,
     "metadata": {},
     "output_type": "execute_result"
    }
   ],
   "source": [
    "re.findall('\\W',txt)"
   ]
  },
  {
   "cell_type": "markdown",
   "id": "88ff459f-88f4-408d-abaa-ffa5e5cf5ab5",
   "metadata": {},
   "source": [
    "`\\Z` Returns a match if the specified characters ar at the end of the string"
   ]
  },
  {
   "cell_type": "code",
   "execution_count": 10,
   "id": "0938482a-f7e0-43ab-b733-cb4569b2a189",
   "metadata": {},
   "outputs": [
    {
     "data": {
      "text/plain": [
       "['ain']"
      ]
     },
     "execution_count": 10,
     "metadata": {},
     "output_type": "execute_result"
    }
   ],
   "source": [
    "re.findall('ain\\Z',txt)"
   ]
  },
  {
   "cell_type": "code",
   "execution_count": 11,
   "id": "8e32d80e-9d8a-4bd8-953a-8ff3f7279bdd",
   "metadata": {},
   "outputs": [
    {
     "data": {
      "text/plain": [
       "[]"
      ]
     },
     "execution_count": 11,
     "metadata": {},
     "output_type": "execute_result"
    }
   ],
   "source": [
    "re.findall('he\\Z',txt)"
   ]
  }
 ],
 "metadata": {
  "kernelspec": {
   "display_name": "Python 3 (ipykernel)",
   "language": "python",
   "name": "python3"
  },
  "language_info": {
   "codemirror_mode": {
    "name": "ipython",
    "version": 3
   },
   "file_extension": ".py",
   "mimetype": "text/x-python",
   "name": "python",
   "nbconvert_exporter": "python",
   "pygments_lexer": "ipython3",
   "version": "3.9.5"
  }
 },
 "nbformat": 4,
 "nbformat_minor": 5
}
