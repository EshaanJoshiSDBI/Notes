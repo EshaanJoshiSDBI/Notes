{
 "cells": [
  {
   "cell_type": "markdown",
   "id": "1620eecf",
   "metadata": {},
   "source": [
    "# Arithemetic Operators"
   ]
  },
  {
   "cell_type": "markdown",
   "id": "d71725e2",
   "metadata": {},
   "source": [
    "|Operator|Name|Example|\n",
    "|--------|----|-------|\n",
    "|+|Addition|x + y|\n",
    "|-|Subtraction|x - y|\n",
    "|\\*|Multiplication| x \\* y|\n",
    "|/|Division|x / y|\n",
    "|%|Modulus|x % y|\n",
    "|**|Exponential|x ** y|\n",
    "|//|Floor division|x // y|"
   ]
  },
  {
   "cell_type": "code",
   "execution_count": 1,
   "id": "ebd3890e",
   "metadata": {},
   "outputs": [],
   "source": [
    "x = 6\n",
    "y = 7"
   ]
  },
  {
   "cell_type": "code",
   "execution_count": 16,
   "id": "5756c796",
   "metadata": {},
   "outputs": [
    {
     "name": "stdout",
     "output_type": "stream",
     "text": [
      "x + y =  13\n",
      "x + 2 =  8\n"
     ]
    }
   ],
   "source": [
    "# Addition\n",
    "print('x + y = ',x + y)\n",
    "print('x + 2 = ',x + 2)"
   ]
  },
  {
   "cell_type": "code",
   "execution_count": 17,
   "id": "6b36b57f",
   "metadata": {},
   "outputs": [
    {
     "name": "stdout",
     "output_type": "stream",
     "text": [
      "x - y =  -1\n",
      "y - x =  1\n",
      "y - 3 =  4\n"
     ]
    }
   ],
   "source": [
    "# Subtraction\n",
    "print('x - y = ',x - y)\n",
    "print('y - x = ',y - x)\n",
    "print('y - 3 = ',y - 3)"
   ]
  },
  {
   "cell_type": "code",
   "execution_count": 18,
   "id": "43619245",
   "metadata": {},
   "outputs": [
    {
     "name": "stdout",
     "output_type": "stream",
     "text": [
      "x * y =  42\n",
      "x * 2 =  12\n"
     ]
    }
   ],
   "source": [
    "# Multiplication\n",
    "print('x * y = ',x * y)\n",
    "print('x * 2 = ',x * 2)"
   ]
  },
  {
   "cell_type": "code",
   "execution_count": 20,
   "id": "56e79af7",
   "metadata": {},
   "outputs": [
    {
     "name": "stdout",
     "output_type": "stream",
     "text": [
      "x / y =  0.8571428571428571\n",
      "y / x =  1.1666666666666667\n",
      "y / 2 =  3.5\n"
     ]
    }
   ],
   "source": [
    "# Division\n",
    "print('x / y = ',x / y)\n",
    "print('y / x = ',y / x)\n",
    "print('y / 2 = ',y / 2)"
   ]
  },
  {
   "cell_type": "code",
   "execution_count": 14,
   "id": "47d0bbc9",
   "metadata": {},
   "outputs": [
    {
     "name": "stdout",
     "output_type": "stream",
     "text": [
      "x % y =  6\n",
      "y % x =  1\n"
     ]
    }
   ],
   "source": [
    "# Modulus\n",
    "print('x % y = ',x % y)\n",
    "print('y % x = ',y % x)"
   ]
  },
  {
   "cell_type": "code",
   "execution_count": 21,
   "id": "d690672a",
   "metadata": {},
   "outputs": [
    {
     "name": "stdout",
     "output_type": "stream",
     "text": [
      "x ^ y =  279936\n",
      "y ^ x =  117649\n",
      "x ^ 2 =  36\n"
     ]
    }
   ],
   "source": [
    "# Exponential\n",
    "print('x ^ y = ',x ** y)\n",
    "print('y ^ x = ',y ** x)\n",
    "print('x ^ 2 = ',x ** 2)"
   ]
  },
  {
   "cell_type": "code",
   "execution_count": 25,
   "id": "30aef7f7",
   "metadata": {},
   "outputs": [
    {
     "name": "stdout",
     "output_type": "stream",
     "text": [
      "x // y =  0\n",
      "y // x =  1\n",
      "y // 2 =  3\n"
     ]
    }
   ],
   "source": [
    "# Floor\n",
    "print('x // y = ',x // y)\n",
    "print('y // x = ',y // x)\n",
    "print('y // 2 = ',y // 2)"
   ]
  },
  {
   "cell_type": "markdown",
   "id": "12aa0ff2",
   "metadata": {},
   "source": [
    "# Assignment Operators"
   ]
  },
  {
   "cell_type": "markdown",
   "id": "8e596888",
   "metadata": {},
   "source": [
    "|Operator|What does it do?|Example|\n",
    "|--------|----------------|-------|\n",
    "|=|assigns the value on the right to the variable on the left|x = 3|\n",
    "|+=|increments the variable on the left by the value on the right|x += 1|\n",
    "|-=|decrements the variable on the left by the value on the right| x -= 1|\n",
    "|\\*=|number is assigned the product of itself and the value on the right| x \\*= 2|\n",
    "|/=|number is assigned the quotient of the division of itself and the value on the right|x /= 2|\n",
    "|\\*\\*=|number is assigned the exponential of the variable's value itself and the value on the right|x **= 2|"
   ]
  },
  {
   "cell_type": "code",
   "execution_count": 28,
   "id": "9ec7fdbe",
   "metadata": {},
   "outputs": [],
   "source": [
    "x = 6\n",
    "y = 7"
   ]
  },
  {
   "cell_type": "code",
   "execution_count": 29,
   "id": "88a32826",
   "metadata": {},
   "outputs": [
    {
     "name": "stdout",
     "output_type": "stream",
     "text": [
      "x =  7\n",
      "y =  9\n"
     ]
    }
   ],
   "source": [
    "x += 1\n",
    "y += 2\n",
    "print('x = ',x)\n",
    "print('y = ',y)"
   ]
  },
  {
   "cell_type": "code",
   "execution_count": 30,
   "id": "c4c83b40",
   "metadata": {},
   "outputs": [
    {
     "name": "stdout",
     "output_type": "stream",
     "text": [
      "x =  6\n",
      "y =  7\n"
     ]
    }
   ],
   "source": [
    "x -= 1\n",
    "y -= 2\n",
    "print('x = ',x)\n",
    "print('y = ',y)"
   ]
  },
  {
   "cell_type": "code",
   "execution_count": 31,
   "id": "1195979a",
   "metadata": {},
   "outputs": [
    {
     "name": "stdout",
     "output_type": "stream",
     "text": [
      "x =  12\n",
      "y =  21\n"
     ]
    }
   ],
   "source": [
    "x *= 2\n",
    "y *= 3\n",
    "print('x = ',x)\n",
    "print('y = ',y)"
   ]
  },
  {
   "cell_type": "code",
   "execution_count": 32,
   "id": "4d4d3887",
   "metadata": {},
   "outputs": [
    {
     "name": "stdout",
     "output_type": "stream",
     "text": [
      "x =  6.0\n",
      "y =  7.0\n"
     ]
    }
   ],
   "source": [
    "x /= 2\n",
    "y /= 3\n",
    "print('x = ',x)\n",
    "print('y = ',y)"
   ]
  },
  {
   "cell_type": "code",
   "execution_count": 33,
   "id": "c6c4136b",
   "metadata": {},
   "outputs": [
    {
     "name": "stdout",
     "output_type": "stream",
     "text": [
      "x =  36.0\n"
     ]
    }
   ],
   "source": [
    "x **= 2\n",
    "print('x = ',x)"
   ]
  },
  {
   "cell_type": "markdown",
   "id": "1d6e0cfd",
   "metadata": {},
   "source": [
    "# Comparison Operators"
   ]
  },
  {
   "cell_type": "markdown",
   "id": "3ff62bda",
   "metadata": {},
   "source": [
    "|Operator|Name|Example|\n",
    "|--------|----|-------|\n",
    "|==|Equal|x == y|\n",
    "|!=|Not equal|x != y|\n",
    "|>|Greater than|x > y|\n",
    "|<|Less than|x < y|\n",
    "|>=|Greater than or equal to|x >= y|\n",
    "|<=|Less than or equal to|x <= y|"
   ]
  },
  {
   "cell_type": "code",
   "execution_count": 34,
   "id": "c622cf2f",
   "metadata": {},
   "outputs": [],
   "source": [
    "x = 6\n",
    "y = 7"
   ]
  },
  {
   "cell_type": "code",
   "execution_count": 36,
   "id": "26b95f45",
   "metadata": {},
   "outputs": [
    {
     "data": {
      "text/plain": [
       "False"
      ]
     },
     "execution_count": 36,
     "metadata": {},
     "output_type": "execute_result"
    }
   ],
   "source": [
    "x == y"
   ]
  },
  {
   "cell_type": "code",
   "execution_count": 37,
   "id": "21106790",
   "metadata": {},
   "outputs": [
    {
     "data": {
      "text/plain": [
       "True"
      ]
     },
     "execution_count": 37,
     "metadata": {},
     "output_type": "execute_result"
    }
   ],
   "source": [
    "x != y"
   ]
  },
  {
   "cell_type": "code",
   "execution_count": 38,
   "id": "2a43fdc4",
   "metadata": {},
   "outputs": [
    {
     "data": {
      "text/plain": [
       "False"
      ]
     },
     "execution_count": 38,
     "metadata": {},
     "output_type": "execute_result"
    }
   ],
   "source": [
    "x > y"
   ]
  },
  {
   "cell_type": "code",
   "execution_count": 39,
   "id": "8dfbdf6d",
   "metadata": {},
   "outputs": [
    {
     "data": {
      "text/plain": [
       "True"
      ]
     },
     "execution_count": 39,
     "metadata": {},
     "output_type": "execute_result"
    }
   ],
   "source": [
    "x < y"
   ]
  },
  {
   "cell_type": "code",
   "execution_count": 41,
   "id": "ee98661e",
   "metadata": {},
   "outputs": [
    {
     "data": {
      "text/plain": [
       "False"
      ]
     },
     "execution_count": 41,
     "metadata": {},
     "output_type": "execute_result"
    }
   ],
   "source": [
    "x >= y"
   ]
  },
  {
   "cell_type": "code",
   "execution_count": 42,
   "id": "61267dd1",
   "metadata": {},
   "outputs": [
    {
     "data": {
      "text/plain": [
       "True"
      ]
     },
     "execution_count": 42,
     "metadata": {},
     "output_type": "execute_result"
    }
   ],
   "source": [
    "x >= 6"
   ]
  },
  {
   "cell_type": "code",
   "execution_count": 43,
   "id": "49b7969e",
   "metadata": {},
   "outputs": [
    {
     "data": {
      "text/plain": [
       "True"
      ]
     },
     "execution_count": 43,
     "metadata": {},
     "output_type": "execute_result"
    }
   ],
   "source": [
    "y <= 7"
   ]
  },
  {
   "cell_type": "markdown",
   "id": "25d3d51c",
   "metadata": {},
   "source": [
    "# Logical Operators"
   ]
  },
  {
   "cell_type": "markdown",
   "id": "c5e530e4",
   "metadata": {},
   "source": [
    "|Operator|Description|Example|\n",
    "|--------|-----------|-------|\n",
    "|and|Will return true if both conditions are true| x < 10 and y < 10|\n",
    "|or|Will return true if one of the conditions is true|x < 10 or y > 10|\n",
    "|not|Reverses the results|not(x < 10 and y  10)|"
   ]
  },
  {
   "cell_type": "markdown",
   "id": "d46db16f",
   "metadata": {},
   "source": [
    "### AND"
   ]
  },
  {
   "cell_type": "code",
   "execution_count": 44,
   "id": "fc1121a4",
   "metadata": {},
   "outputs": [
    {
     "data": {
      "text/plain": [
       "True"
      ]
     },
     "execution_count": 44,
     "metadata": {},
     "output_type": "execute_result"
    }
   ],
   "source": [
    "x < 10 and y < 10"
   ]
  },
  {
   "cell_type": "code",
   "execution_count": 45,
   "id": "948d7b20",
   "metadata": {},
   "outputs": [
    {
     "data": {
      "text/plain": [
       "False"
      ]
     },
     "execution_count": 45,
     "metadata": {},
     "output_type": "execute_result"
    }
   ],
   "source": [
    "x < 10 and y > 10"
   ]
  },
  {
   "cell_type": "markdown",
   "id": "ec8075f8",
   "metadata": {},
   "source": [
    "## OR"
   ]
  },
  {
   "cell_type": "code",
   "execution_count": 46,
   "id": "db599012",
   "metadata": {},
   "outputs": [
    {
     "data": {
      "text/plain": [
       "True"
      ]
     },
     "execution_count": 46,
     "metadata": {},
     "output_type": "execute_result"
    }
   ],
   "source": [
    "x < 10 or y > 10"
   ]
  },
  {
   "cell_type": "markdown",
   "id": "57f3d6c7",
   "metadata": {},
   "source": [
    " NOT"
   ]
  },
  {
   "cell_type": "code",
   "execution_count": 47,
   "id": "4aa77da5",
   "metadata": {},
   "outputs": [
    {
     "data": {
      "text/plain": [
       "False"
      ]
     },
     "execution_count": 47,
     "metadata": {},
     "output_type": "execute_result"
    }
   ],
   "source": [
    "not(x < 10 and y < 10)"
   ]
  },
  {
   "cell_type": "markdown",
   "id": "f3509bef",
   "metadata": {},
   "source": [
    "# Identity Operator"
   ]
  },
  {
   "cell_type": "markdown",
   "id": "a45159f2",
   "metadata": {},
   "source": [
    "|Operator|Description|Example|\n",
    "|--------|-----------|-------|\n",
    "|is|Returns true if both objects are the same|x is y|\n",
    "|is not|Returns true if both objects are not the same|x is not y|"
   ]
  },
  {
   "cell_type": "code",
   "execution_count": 48,
   "id": "716488d8",
   "metadata": {},
   "outputs": [
    {
     "data": {
      "text/plain": [
       "False"
      ]
     },
     "execution_count": 48,
     "metadata": {},
     "output_type": "execute_result"
    }
   ],
   "source": [
    "x is y"
   ]
  },
  {
   "cell_type": "code",
   "execution_count": 49,
   "id": "5894e80b",
   "metadata": {},
   "outputs": [
    {
     "data": {
      "text/plain": [
       "True"
      ]
     },
     "execution_count": 49,
     "metadata": {},
     "output_type": "execute_result"
    }
   ],
   "source": [
    "x is not y"
   ]
  },
  {
   "cell_type": "markdown",
   "id": "0ae1f639",
   "metadata": {},
   "source": [
    "# Membership Operators"
   ]
  },
  {
   "cell_type": "markdown",
   "id": "9223c79c",
   "metadata": {},
   "source": [
    "|Operator|Description|Example|\n",
    "|--------|-----------|-------|\n",
    "|in|Returns true if a value is present in the sequence|x in y|\n",
    "|not in|Returns true if a value is **not** present in the sequence|x not in y|"
   ]
  },
  {
   "cell_type": "code",
   "execution_count": 50,
   "id": "a5a108c2",
   "metadata": {},
   "outputs": [
    {
     "data": {
      "text/plain": [
       "False"
      ]
     },
     "execution_count": 50,
     "metadata": {},
     "output_type": "execute_result"
    }
   ],
   "source": [
    "x in [1,2,3,4,5]"
   ]
  },
  {
   "cell_type": "code",
   "execution_count": 51,
   "id": "371c51b2",
   "metadata": {},
   "outputs": [
    {
     "data": {
      "text/plain": [
       "True"
      ]
     },
     "execution_count": 51,
     "metadata": {},
     "output_type": "execute_result"
    }
   ],
   "source": [
    "y in [1,3,5,7,9]"
   ]
  },
  {
   "cell_type": "code",
   "execution_count": 52,
   "id": "b79a317e",
   "metadata": {},
   "outputs": [
    {
     "data": {
      "text/plain": [
       "True"
      ]
     },
     "execution_count": 52,
     "metadata": {},
     "output_type": "execute_result"
    }
   ],
   "source": [
    "x not in [1,2,3,4,5]"
   ]
  },
  {
   "cell_type": "code",
   "execution_count": 53,
   "id": "dbced05d",
   "metadata": {},
   "outputs": [
    {
     "data": {
      "text/plain": [
       "False"
      ]
     },
     "execution_count": 53,
     "metadata": {},
     "output_type": "execute_result"
    }
   ],
   "source": [
    "y not in [1,3,5,7,9]"
   ]
  }
 ],
 "metadata": {
  "kernelspec": {
   "display_name": "Python 3 (ipykernel)",
   "language": "python",
   "name": "python3"
  },
  "language_info": {
   "codemirror_mode": {
    "name": "ipython",
    "version": 3
   },
   "file_extension": ".py",
   "mimetype": "text/x-python",
   "name": "python",
   "nbconvert_exporter": "python",
   "pygments_lexer": "ipython3",
   "version": "3.9.5"
  }
 },
 "nbformat": 4,
 "nbformat_minor": 5
}
