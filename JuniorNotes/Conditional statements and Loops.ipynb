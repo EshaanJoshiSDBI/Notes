{
 "cells": [
  {
   "cell_type": "markdown",
   "id": "efdb8464",
   "metadata": {},
   "source": [
    "## IF condition\n",
    "Basic syntax\n",
    "\n",
    "if `condition`:\n",
    "\n",
    "      body"
   ]
  },
  {
   "cell_type": "code",
   "execution_count": 1,
   "id": "abb511d8",
   "metadata": {},
   "outputs": [],
   "source": [
    "i = 7"
   ]
  },
  {
   "cell_type": "code",
   "execution_count": 2,
   "id": "599f4b97",
   "metadata": {},
   "outputs": [
    {
     "name": "stdout",
     "output_type": "stream",
     "text": [
      "i is seven\n"
     ]
    }
   ],
   "source": [
    "if i == 7:\n",
    "    print('i is seven')"
   ]
  },
  {
   "cell_type": "code",
   "execution_count": 9,
   "id": "fcfeecf7",
   "metadata": {},
   "outputs": [],
   "source": [
    "i = 8\n",
    "if i == 7:\n",
    "    print('i is seven')"
   ]
  },
  {
   "cell_type": "markdown",
   "id": "10d6a2da",
   "metadata": {},
   "source": [
    "# ELIF condition\n",
    "Basic syntax\n",
    "\n",
    "elif condition:\n",
    "\n",
    "    body"
   ]
  },
  {
   "cell_type": "code",
   "execution_count": 10,
   "id": "ff9a17eb",
   "metadata": {},
   "outputs": [
    {
     "name": "stdout",
     "output_type": "stream",
     "text": [
      "i is eight\n"
     ]
    }
   ],
   "source": [
    "if i == 7:\n",
    "    print('i is seven')\n",
    "elif i == 8:\n",
    "    print('i is eight')"
   ]
  },
  {
   "cell_type": "markdown",
   "id": "4f8189ac",
   "metadata": {},
   "source": [
    "# ELSE condition\n",
    "Basic syntax\n",
    "\n",
    "else:\n",
    "\n",
    "    body"
   ]
  },
  {
   "cell_type": "code",
   "execution_count": 12,
   "id": "6ea53b1b",
   "metadata": {},
   "outputs": [],
   "source": [
    "i = 11"
   ]
  },
  {
   "cell_type": "code",
   "execution_count": 13,
   "id": "2ab55334",
   "metadata": {},
   "outputs": [
    {
     "name": "stdout",
     "output_type": "stream",
     "text": [
      "i is neither seven nor eight\n"
     ]
    }
   ],
   "source": [
    "if i == 7:\n",
    "    print('i is seven')\n",
    "elif i == 8:\n",
    "    print('i is eight')\n",
    "else:\n",
    "    print('i is neither seven nor eight')"
   ]
  },
  {
   "cell_type": "markdown",
   "id": "0b763338",
   "metadata": {},
   "source": [
    "# FOR loop\n",
    "Basic syntax\n",
    "\n",
    "for value is list:\n",
    "\n",
    "    body"
   ]
  },
  {
   "cell_type": "code",
   "execution_count": 14,
   "id": "7d97c98a",
   "metadata": {},
   "outputs": [
    {
     "name": "stdout",
     "output_type": "stream",
     "text": [
      "0\n",
      "1\n",
      "2\n",
      "3\n",
      "4\n"
     ]
    }
   ],
   "source": [
    "for i in range(5):\n",
    "    print(i)"
   ]
  },
  {
   "cell_type": "code",
   "execution_count": 15,
   "id": "a071e40c",
   "metadata": {},
   "outputs": [
    {
     "name": "stdout",
     "output_type": "stream",
     "text": [
      "a\n",
      "b\n",
      "c\n",
      "d\n",
      "e\n"
     ]
    }
   ],
   "source": [
    "lst = ['a','b','c','d','e']\n",
    "for i in lst:\n",
    "    print(i)"
   ]
  },
  {
   "cell_type": "markdown",
   "id": "f8200a97",
   "metadata": {},
   "source": [
    "# While loop\n",
    "Basic syntax\n",
    "\n",
    "while condition:\n",
    "    \n",
    "    body"
   ]
  },
  {
   "cell_type": "code",
   "execution_count": 18,
   "id": "8d72be32",
   "metadata": {},
   "outputs": [
    {
     "name": "stdout",
     "output_type": "stream",
     "text": [
      "0\n",
      "1\n",
      "2\n",
      "3\n",
      "4\n"
     ]
    }
   ],
   "source": [
    "j = 0\n",
    "while j < 5:\n",
    "    print(j)\n",
    "    j += 1"
   ]
  },
  {
   "cell_type": "markdown",
   "id": "e190066d",
   "metadata": {},
   "source": [
    "---"
   ]
  },
  {
   "cell_type": "code",
   "execution_count": 20,
   "id": "bb18b1c1",
   "metadata": {
    "collapsed": true
   },
   "outputs": [
    {
     "name": "stdout",
     "output_type": "stream",
     "text": [
      "10\n",
      "12\n",
      "14\n",
      "16\n",
      "18\n",
      "20\n",
      "22\n",
      "24\n",
      "26\n",
      "28\n",
      "30\n",
      "32\n",
      "34\n",
      "36\n",
      "38\n",
      "40\n",
      "42\n",
      "44\n",
      "46\n",
      "48\n",
      "50\n",
      "52\n",
      "54\n",
      "56\n",
      "58\n",
      "60\n",
      "62\n",
      "64\n",
      "66\n",
      "68\n",
      "70\n",
      "72\n",
      "74\n",
      "76\n",
      "78\n",
      "80\n",
      "82\n",
      "84\n",
      "86\n",
      "88\n",
      "90\n",
      "92\n",
      "94\n",
      "96\n",
      "98\n",
      "100\n"
     ]
    }
   ],
   "source": [
    "# Printing all even numbers between 10 and 100\n",
    "for i in range(10,101):\n",
    "    if i % 2 == 0:\n",
    "        print(i)"
   ]
  },
  {
   "cell_type": "markdown",
   "id": "0590ca31",
   "metadata": {},
   "source": [
    "## Break statement"
   ]
  },
  {
   "cell_type": "code",
   "execution_count": 23,
   "id": "ecf30e79",
   "metadata": {},
   "outputs": [
    {
     "name": "stdout",
     "output_type": "stream",
     "text": [
      "0\n",
      "1\n",
      "2\n",
      "3\n",
      "4\n",
      "5\n",
      "6\n",
      "7\n",
      "8\n",
      "9\n"
     ]
    }
   ],
   "source": [
    "i = 0\n",
    "while i < 10:\n",
    "    print(i)\n",
    "    i += 1"
   ]
  },
  {
   "cell_type": "code",
   "execution_count": 22,
   "id": "7e1f6873",
   "metadata": {},
   "outputs": [
    {
     "name": "stdout",
     "output_type": "stream",
     "text": [
      "0\n",
      "1\n",
      "2\n",
      "3\n",
      "4\n",
      "5\n"
     ]
    }
   ],
   "source": [
    "i = 0\n",
    "while i < 10:\n",
    "    if i == 6:\n",
    "        break\n",
    "    print(i)\n",
    "    i += 1"
   ]
  },
  {
   "cell_type": "markdown",
   "id": "53f2d051",
   "metadata": {},
   "source": [
    "## Continue"
   ]
  },
  {
   "cell_type": "code",
   "execution_count": 26,
   "id": "3701dd6f",
   "metadata": {},
   "outputs": [
    {
     "name": "stdout",
     "output_type": "stream",
     "text": [
      "1\n",
      "2\n",
      "3\n",
      "4\n",
      "5\n",
      "7\n",
      "8\n",
      "9\n",
      "10\n"
     ]
    }
   ],
   "source": [
    "i = 0\n",
    "while i < 10:\n",
    "    i += 1\n",
    "    if i == 6:\n",
    "        continue\n",
    "    print(i)"
   ]
  }
 ],
 "metadata": {
  "kernelspec": {
   "display_name": "Python 3 (ipykernel)",
   "language": "python",
   "name": "python3"
  },
  "language_info": {
   "codemirror_mode": {
    "name": "ipython",
    "version": 3
   },
   "file_extension": ".py",
   "mimetype": "text/x-python",
   "name": "python",
   "nbconvert_exporter": "python",
   "pygments_lexer": "ipython3",
   "version": "3.9.5"
  }
 },
 "nbformat": 4,
 "nbformat_minor": 5
}
