{
 "cells": [
  {
   "cell_type": "code",
   "execution_count": 31,
   "id": "2763bb41",
   "metadata": {},
   "outputs": [],
   "source": [
    "import numpy as np\n",
    "import pandas as pd\n",
    "import sklearn\n",
    "from sklearn import linear_model\n",
    "from sklearn.model_selection import train_test_split\n",
    "from sklearn.metrics import classification_report\n",
    "from sklearn.metrics import confusion_matrix\n",
    "import mord\n",
    "from mord import LogisticAT"
   ]
  },
  {
   "cell_type": "code",
   "execution_count": 3,
   "id": "1b1cac28",
   "metadata": {},
   "outputs": [],
   "source": [
    "df = pd.read_excel('LogisticRegression.xlsx',sheet_name='nominal')"
   ]
  },
  {
   "cell_type": "code",
   "execution_count": 4,
   "id": "4e091e5d",
   "metadata": {},
   "outputs": [
    {
     "data": {
      "text/html": [
       "<div>\n",
       "<style scoped>\n",
       "    .dataframe tbody tr th:only-of-type {\n",
       "        vertical-align: middle;\n",
       "    }\n",
       "\n",
       "    .dataframe tbody tr th {\n",
       "        vertical-align: top;\n",
       "    }\n",
       "\n",
       "    .dataframe thead th {\n",
       "        text-align: right;\n",
       "    }\n",
       "</style>\n",
       "<table border=\"1\" class=\"dataframe\">\n",
       "  <thead>\n",
       "    <tr style=\"text-align: right;\">\n",
       "      <th></th>\n",
       "      <th>ses</th>\n",
       "      <th>write</th>\n",
       "      <th>prog</th>\n",
       "    </tr>\n",
       "  </thead>\n",
       "  <tbody>\n",
       "    <tr>\n",
       "      <th>0</th>\n",
       "      <td>low</td>\n",
       "      <td>35</td>\n",
       "      <td>vocation</td>\n",
       "    </tr>\n",
       "    <tr>\n",
       "      <th>1</th>\n",
       "      <td>middle</td>\n",
       "      <td>33</td>\n",
       "      <td>general</td>\n",
       "    </tr>\n",
       "    <tr>\n",
       "      <th>2</th>\n",
       "      <td>high</td>\n",
       "      <td>39</td>\n",
       "      <td>vocation</td>\n",
       "    </tr>\n",
       "    <tr>\n",
       "      <th>3</th>\n",
       "      <td>low</td>\n",
       "      <td>37</td>\n",
       "      <td>vocation</td>\n",
       "    </tr>\n",
       "    <tr>\n",
       "      <th>4</th>\n",
       "      <td>middle</td>\n",
       "      <td>31</td>\n",
       "      <td>vocation</td>\n",
       "    </tr>\n",
       "  </tbody>\n",
       "</table>\n",
       "</div>"
      ],
      "text/plain": [
       "      ses  write      prog\n",
       "0     low     35  vocation\n",
       "1  middle     33   general\n",
       "2    high     39  vocation\n",
       "3     low     37  vocation\n",
       "4  middle     31  vocation"
      ]
     },
     "execution_count": 4,
     "metadata": {},
     "output_type": "execute_result"
    }
   ],
   "source": [
    "df.head()"
   ]
  },
  {
   "cell_type": "code",
   "execution_count": 7,
   "id": "85e2610f",
   "metadata": {},
   "outputs": [],
   "source": [
    "x = list(df['ses'])"
   ]
  },
  {
   "cell_type": "code",
   "execution_count": 12,
   "id": "7cb75693",
   "metadata": {},
   "outputs": [],
   "source": [
    "ses_num = []\n",
    "for ctr in x:\n",
    "    if ctr=='low':\n",
    "        ses_num.append(0)\n",
    "    elif ctr=='middle':\n",
    "        ses_num.append(1)\n",
    "    else:\n",
    "        ses_num.append(2)"
   ]
  },
  {
   "cell_type": "code",
   "execution_count": 13,
   "id": "48e7613b",
   "metadata": {},
   "outputs": [],
   "source": [
    "ses_num = [0 if i == 'low' else 1 if i == 'middle' else 2 for i in x]"
   ]
  },
  {
   "cell_type": "code",
   "execution_count": 14,
   "id": "b820d3f8",
   "metadata": {},
   "outputs": [
    {
     "data": {
      "text/plain": [
       "True"
      ]
     },
     "execution_count": 14,
     "metadata": {},
     "output_type": "execute_result"
    }
   ],
   "source": [
    "ses_num == num"
   ]
  },
  {
   "cell_type": "code",
   "execution_count": 15,
   "id": "58070cbf",
   "metadata": {},
   "outputs": [],
   "source": [
    "df['ses'] = ses_num"
   ]
  },
  {
   "cell_type": "code",
   "execution_count": 16,
   "id": "0618a0fe",
   "metadata": {},
   "outputs": [],
   "source": [
    "x_train,x_test,y_train,y_test = train_test_split(df.drop('prog',axis=1),df['prog'],test_size=0.2)"
   ]
  },
  {
   "cell_type": "code",
   "execution_count": 22,
   "id": "d2844998",
   "metadata": {},
   "outputs": [],
   "source": [
    "model = linear_model.LogisticRegression(multi_class = 'multinomial', solver='newton-cg').fit(x_train,y_train)"
   ]
  },
  {
   "cell_type": "code",
   "execution_count": 23,
   "id": "41c7b193",
   "metadata": {},
   "outputs": [],
   "source": [
    "pred_y = model.predict(x_test)"
   ]
  },
  {
   "cell_type": "code",
   "execution_count": 24,
   "id": "e978b959",
   "metadata": {},
   "outputs": [
    {
     "data": {
      "text/plain": [
       "array([[18,  0,  2],\n",
       "       [ 8,  1,  1],\n",
       "       [ 5,  0,  5]])"
      ]
     },
     "execution_count": 24,
     "metadata": {},
     "output_type": "execute_result"
    }
   ],
   "source": [
    "confusion_matrix(y_test,pred_y)"
   ]
  },
  {
   "cell_type": "code",
   "execution_count": 25,
   "id": "7cb42aca",
   "metadata": {},
   "outputs": [
    {
     "data": {
      "text/plain": [
       "0.6"
      ]
     },
     "execution_count": 25,
     "metadata": {},
     "output_type": "execute_result"
    }
   ],
   "source": [
    "(18+1+5)/(20+10+10)"
   ]
  },
  {
   "cell_type": "code",
   "execution_count": 27,
   "id": "7055288f",
   "metadata": {},
   "outputs": [
    {
     "name": "stdout",
     "output_type": "stream",
     "text": [
      "              precision    recall  f1-score   support\n",
      "\n",
      "    academic       0.58      0.90      0.71        20\n",
      "     general       1.00      0.10      0.18        10\n",
      "    vocation       0.62      0.50      0.56        10\n",
      "\n",
      "    accuracy                           0.60        40\n",
      "   macro avg       0.74      0.50      0.48        40\n",
      "weighted avg       0.70      0.60      0.54        40\n",
      "\n"
     ]
    }
   ],
   "source": [
    "print(classification_report(y_test,pred_y))"
   ]
  },
  {
   "cell_type": "code",
   "execution_count": 44,
   "id": "c12f4001",
   "metadata": {},
   "outputs": [],
   "source": [
    "df = pd.read_excel('LogisticRegression.xlsx',sheet_name = 'ordinal2')"
   ]
  },
  {
   "cell_type": "code",
   "execution_count": 45,
   "id": "1c03a180",
   "metadata": {},
   "outputs": [],
   "source": [
    "x_train,x_test,y_train,y_test = train_test_split(df.drop('Survival',axis=1),df['Survival'],test_size=0.2)"
   ]
  },
  {
   "cell_type": "code",
   "execution_count": 46,
   "id": "8af2050d",
   "metadata": {},
   "outputs": [],
   "source": [
    "model = LogisticAT().fit(x_train,y_train)"
   ]
  },
  {
   "cell_type": "code",
   "execution_count": 47,
   "id": "9dd298f7",
   "metadata": {},
   "outputs": [],
   "source": [
    "pred_y = model.predict(x_test)"
   ]
  },
  {
   "cell_type": "code",
   "execution_count": 48,
   "id": "88fce5a7",
   "metadata": {},
   "outputs": [
    {
     "data": {
      "text/plain": [
       "array([[0, 3, 0],\n",
       "       [0, 9, 0],\n",
       "       [0, 3, 0]])"
      ]
     },
     "execution_count": 48,
     "metadata": {},
     "output_type": "execute_result"
    }
   ],
   "source": [
    "confusion_matrix(y_test,pred_y)"
   ]
  },
  {
   "cell_type": "code",
   "execution_count": 49,
   "id": "c36afbe8",
   "metadata": {},
   "outputs": [
    {
     "data": {
      "text/plain": [
       "0.8"
      ]
     },
     "execution_count": 49,
     "metadata": {},
     "output_type": "execute_result"
    }
   ],
   "source": [
    "12/(1+12+2)"
   ]
  },
  {
   "cell_type": "code",
   "execution_count": 52,
   "id": "e38d8708",
   "metadata": {},
   "outputs": [
    {
     "name": "stdout",
     "output_type": "stream",
     "text": [
      "              precision    recall  f1-score   support\n",
      "\n",
      "           1       0.00      0.00      0.00         3\n",
      "           2       0.54      0.78      0.64         9\n",
      "           3       0.00      0.00      0.00         3\n",
      "\n",
      "    accuracy                           0.47        15\n",
      "   macro avg       0.18      0.26      0.21        15\n",
      "weighted avg       0.32      0.47      0.38        15\n",
      "\n"
     ]
    }
   ],
   "source": [
    "print(classification_report(y_test,pred_y))"
   ]
  },
  {
   "cell_type": "code",
   "execution_count": 51,
   "id": "5f75fa19",
   "metadata": {},
   "outputs": [
    {
     "name": "stdout",
     "output_type": "stream",
     "text": [
      "[[0 3 0]\n",
      " [1 8 0]\n",
      " [0 2 1]]\n",
      "              precision    recall  f1-score   support\n",
      "\n",
      "           1       0.00      0.00      0.00         3\n",
      "           2       0.62      0.89      0.73         9\n",
      "           3       1.00      0.33      0.50         3\n",
      "\n",
      "    accuracy                           0.60        15\n",
      "   macro avg       0.54      0.41      0.41        15\n",
      "weighted avg       0.57      0.60      0.54        15\n",
      "\n"
     ]
    }
   ],
   "source": [
    "x1, x2, y1, y2 = train_test_split(df.drop('Survival', axis=1), df['Survival'], test_size=0.2)\n",
    "mod2 = LogisticAT().fit(x1,y1)\n",
    "pred_y = mod2.predict(x2)\n",
    "print(confusion_matrix(y2,pred_y))\n",
    "print(classification_report(y2,pred_y))"
   ]
  }
 ],
 "metadata": {
  "kernelspec": {
   "display_name": "Python 3 (ipykernel)",
   "language": "python",
   "name": "python3"
  },
  "language_info": {
   "codemirror_mode": {
    "name": "ipython",
    "version": 3
   },
   "file_extension": ".py",
   "mimetype": "text/x-python",
   "name": "python",
   "nbconvert_exporter": "python",
   "pygments_lexer": "ipython3",
   "version": "3.9.5"
  }
 },
 "nbformat": 4,
 "nbformat_minor": 5
}
