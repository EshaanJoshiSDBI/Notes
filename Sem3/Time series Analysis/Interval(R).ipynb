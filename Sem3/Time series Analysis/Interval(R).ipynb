{
 "cells": [
  {
   "cell_type": "code",
   "execution_count": 4,
   "id": "6ab2a80d",
   "metadata": {},
   "outputs": [],
   "source": [
    "library(readxl)\n",
    "library(survival)"
   ]
  },
  {
   "cell_type": "code",
   "execution_count": 2,
   "id": "4c7eee5c",
   "metadata": {},
   "outputs": [],
   "source": [
    "df = read_excel('interval.xlsx')"
   ]
  },
  {
   "cell_type": "code",
   "execution_count": 3,
   "id": "09671471",
   "metadata": {},
   "outputs": [
    {
     "data": {
      "text/html": [
       "<table class=\"dataframe\">\n",
       "<caption>A tibble: 6 × 5</caption>\n",
       "<thead>\n",
       "\t<tr><th scope=col>lgpa</th><th scope=col>ugpa</th><th scope=col>write</th><th scope=col>rating</th><th scope=col>type</th></tr>\n",
       "\t<tr><th scope=col>&lt;dbl&gt;</th><th scope=col>&lt;dbl&gt;</th><th scope=col>&lt;dbl&gt;</th><th scope=col>&lt;dbl&gt;</th><th scope=col>&lt;chr&gt;</th></tr>\n",
       "</thead>\n",
       "<tbody>\n",
       "\t<tr><td>2.5</td><td>3.0</td><td>175</td><td>54.0</td><td>general   </td></tr>\n",
       "\t<tr><td>3.4</td><td>3.8</td><td>125</td><td>68.0</td><td>academic  </td></tr>\n",
       "\t<tr><td>2.5</td><td>3.0</td><td> 70</td><td>48.0</td><td>general   </td></tr>\n",
       "\t<tr><td>0.0</td><td>2.0</td><td> 50</td><td>52.0</td><td>vocational</td></tr>\n",
       "\t<tr><td>3.0</td><td>3.4</td><td> 70</td><td>49.0</td><td>academic  </td></tr>\n",
       "\t<tr><td>3.4</td><td>3.8</td><td>205</td><td>53.5</td><td>general   </td></tr>\n",
       "</tbody>\n",
       "</table>\n"
      ],
      "text/latex": [
       "A tibble: 6 × 5\n",
       "\\begin{tabular}{lllll}\n",
       " lgpa & ugpa & write & rating & type\\\\\n",
       " <dbl> & <dbl> & <dbl> & <dbl> & <chr>\\\\\n",
       "\\hline\n",
       "\t 2.5 & 3.0 & 175 & 54.0 & general   \\\\\n",
       "\t 3.4 & 3.8 & 125 & 68.0 & academic  \\\\\n",
       "\t 2.5 & 3.0 &  70 & 48.0 & general   \\\\\n",
       "\t 0.0 & 2.0 &  50 & 52.0 & vocational\\\\\n",
       "\t 3.0 & 3.4 &  70 & 49.0 & academic  \\\\\n",
       "\t 3.4 & 3.8 & 205 & 53.5 & general   \\\\\n",
       "\\end{tabular}\n"
      ],
      "text/markdown": [
       "\n",
       "A tibble: 6 × 5\n",
       "\n",
       "| lgpa &lt;dbl&gt; | ugpa &lt;dbl&gt; | write &lt;dbl&gt; | rating &lt;dbl&gt; | type &lt;chr&gt; |\n",
       "|---|---|---|---|---|\n",
       "| 2.5 | 3.0 | 175 | 54.0 | general    |\n",
       "| 3.4 | 3.8 | 125 | 68.0 | academic   |\n",
       "| 2.5 | 3.0 |  70 | 48.0 | general    |\n",
       "| 0.0 | 2.0 |  50 | 52.0 | vocational |\n",
       "| 3.0 | 3.4 |  70 | 49.0 | academic   |\n",
       "| 3.4 | 3.8 | 205 | 53.5 | general    |\n",
       "\n"
      ],
      "text/plain": [
       "  lgpa ugpa write rating type      \n",
       "1 2.5  3.0  175   54.0   general   \n",
       "2 3.4  3.8  125   68.0   academic  \n",
       "3 2.5  3.0   70   48.0   general   \n",
       "4 0.0  2.0   50   52.0   vocational\n",
       "5 3.0  3.4   70   49.0   academic  \n",
       "6 3.4  3.8  205   53.5   general   "
      ]
     },
     "metadata": {},
     "output_type": "display_data"
    }
   ],
   "source": [
    "head(df)"
   ]
  },
  {
   "cell_type": "code",
   "execution_count": 16,
   "id": "c7213983",
   "metadata": {},
   "outputs": [
    {
     "data": {
      "text/html": [
       "<style>\n",
       ".list-inline {list-style: none; margin:0; padding: 0}\n",
       ".list-inline>li {display: inline-block}\n",
       ".list-inline>li:not(:last-child)::after {content: \"\\00b7\"; padding: 0 .5ex}\n",
       "</style>\n",
       "<ol class=list-inline><li>general</li><li>academic</li><li>vocational</li></ol>\n",
       "\n",
       "<details>\n",
       "\t<summary style=display:list-item;cursor:pointer>\n",
       "\t\t<strong>Levels</strong>:\n",
       "\t</summary>\n",
       "\t<style>\n",
       "\t.list-inline {list-style: none; margin:0; padding: 0}\n",
       "\t.list-inline>li {display: inline-block}\n",
       "\t.list-inline>li:not(:last-child)::after {content: \"\\00b7\"; padding: 0 .5ex}\n",
       "\t</style>\n",
       "\t<ol class=list-inline><li>'academic'</li><li>'general'</li><li>'vocational'</li></ol>\n",
       "</details>"
      ],
      "text/latex": [
       "\\begin{enumerate*}\n",
       "\\item general\n",
       "\\item academic\n",
       "\\item vocational\n",
       "\\end{enumerate*}\n",
       "\n",
       "\\emph{Levels}: \\begin{enumerate*}\n",
       "\\item 'academic'\n",
       "\\item 'general'\n",
       "\\item 'vocational'\n",
       "\\end{enumerate*}\n"
      ],
      "text/markdown": [
       "1. general\n",
       "2. academic\n",
       "3. vocational\n",
       "\n",
       "\n",
       "\n",
       "**Levels**: 1. 'academic'\n",
       "2. 'general'\n",
       "3. 'vocational'\n",
       "\n",
       "\n"
      ],
      "text/plain": [
       "[1] general    academic   vocational\n",
       "Levels: academic general vocational"
      ]
     },
     "metadata": {},
     "output_type": "display_data"
    }
   ],
   "source": [
    "unique(df$type)"
   ]
  },
  {
   "cell_type": "code",
   "execution_count": 5,
   "id": "b15ac3ca",
   "metadata": {},
   "outputs": [],
   "source": [
    "df$type = as.factor(df$type)"
   ]
  },
  {
   "cell_type": "code",
   "execution_count": 6,
   "id": "3ff211c3",
   "metadata": {},
   "outputs": [],
   "source": [
    "gpa_int = with(df,Surv(lgpa,ugpa,event=rep(3,nrow(df)),type='interval'))"
   ]
  },
  {
   "cell_type": "code",
   "execution_count": 7,
   "id": "9932bc22",
   "metadata": {},
   "outputs": [
    {
     "data": {
      "text/plain": [
       "     time1         time2           status \n",
       " Min.   :0.0   Min.   :2.000   Min.   :3  \n",
       " 1st Qu.:2.0   1st Qu.:2.500   1st Qu.:3  \n",
       " Median :2.5   Median :3.000   Median :3  \n",
       " Mean   :2.6   Mean   :3.097   Mean   :3  \n",
       " 3rd Qu.:3.3   3rd Qu.:3.700   3rd Qu.:3  \n",
       " Max.   :3.8   Max.   :4.000   Max.   :3  "
      ]
     },
     "metadata": {},
     "output_type": "display_data"
    }
   ],
   "source": [
    "summary(gpa_int)"
   ]
  },
  {
   "cell_type": "code",
   "execution_count": 8,
   "id": "4de3ece7",
   "metadata": {},
   "outputs": [
    {
     "data": {
      "text/plain": [
       " [1] [2.5, 3.0] [3.4, 3.8] [2.5, 3.0] [0.0, 2.0] [3.0, 3.4] [3.4, 3.8]\n",
       " [7] [3.8, 4.0] [2.0, 2.5] [3.0, 3.4] [3.4, 3.8] [2.0, 2.5] [2.0, 2.5]\n",
       "[13] [2.0, 2.5] [2.5, 3.0] [2.5, 3.0] [2.5, 3.0] [3.4, 3.8] [2.5, 3.0]\n",
       "[19] [2.0, 2.5] [3.0, 3.4] [3.4, 3.8] [3.8, 4.0] [2.0, 2.5] [3.0, 3.4]\n",
       "[25] [3.4, 3.8] [2.0, 2.5] [2.0, 2.5] [2.0, 2.5] [2.5, 3.0] [2.5, 3.0]"
      ]
     },
     "metadata": {},
     "output_type": "display_data"
    }
   ],
   "source": [
    "gpa_int"
   ]
  },
  {
   "cell_type": "code",
   "execution_count": 14,
   "id": "10a6fcf6",
   "metadata": {},
   "outputs": [],
   "source": [
    "model = survreg(gpa_int~write+rating+type,data=df,dist='gaussian')"
   ]
  },
  {
   "cell_type": "code",
   "execution_count": 15,
   "id": "54075c3d",
   "metadata": {},
   "outputs": [
    {
     "data": {
      "text/plain": [
       "\n",
       "Call:\n",
       "survreg(formula = gpa_int ~ write + rating + type, data = df, \n",
       "    dist = \"gaussian\")\n",
       "                  Value Std. Error     z       p\n",
       "(Intercept)     1.81361    0.50107  3.62  0.0003\n",
       "write           0.00528    0.00169  3.12  0.0018\n",
       "rating          0.01331    0.00912  1.46  0.1443\n",
       "typegeneral    -0.33489    0.16176 -2.07  0.0384\n",
       "typevocational -0.70975    0.16684 -4.25 2.1e-05\n",
       "Log(scale)     -1.23726    0.15964 -7.75 9.2e-15\n",
       "\n",
       "Scale= 0.29 \n",
       "\n",
       "Gaussian distribution\n",
       "Loglik(model)= -33.1   Loglik(intercept only)= -51.7\n",
       "\tChisq= 37.24 on 4 degrees of freedom, p= 1.6e-07 \n",
       "Number of Newton-Raphson Iterations: 5 \n",
       "n= 30 \n"
      ]
     },
     "metadata": {},
     "output_type": "display_data"
    }
   ],
   "source": [
    "summary(model)"
   ]
  },
  {
   "cell_type": "markdown",
   "id": "28dfc1a3",
   "metadata": {},
   "source": [
    "- No statistical influence of rating on gpa\n",
    "- Chances of higher GPA is when type of course is academic"
   ]
  },
  {
   "cell_type": "code",
   "execution_count": 17,
   "id": "fecb109a",
   "metadata": {},
   "outputs": [],
   "source": [
    "data = data.frame(write=50,rating=70,type=c('academic','general','vocational'))"
   ]
  },
  {
   "cell_type": "code",
   "execution_count": 18,
   "id": "a1d83d67",
   "metadata": {},
   "outputs": [
    {
     "data": {
      "text/html": [
       "<style>\n",
       ".dl-inline {width: auto; margin:0; padding: 0}\n",
       ".dl-inline>dt, .dl-inline>dd {float: none; width: auto; display: inline-block}\n",
       ".dl-inline>dt::after {content: \":\\0020\"; padding-right: .5ex}\n",
       ".dl-inline>dt:not(:first-of-type) {padding-left: .5ex}\n",
       "</style><dl class=dl-inline><dt>1</dt><dd>3.00984536720561</dd><dt>2</dt><dd>2.67495159523571</dd><dt>3</dt><dd>2.30009863828583</dd></dl>\n"
      ],
      "text/latex": [
       "\\begin{description*}\n",
       "\\item[1] 3.00984536720561\n",
       "\\item[2] 2.67495159523571\n",
       "\\item[3] 2.30009863828583\n",
       "\\end{description*}\n"
      ],
      "text/markdown": [
       "1\n",
       ":   3.009845367205612\n",
       ":   2.674951595235713\n",
       ":   2.30009863828583\n",
       "\n"
      ],
      "text/plain": [
       "       1        2        3 \n",
       "3.009845 2.674952 2.300099 "
      ]
     },
     "metadata": {},
     "output_type": "display_data"
    }
   ],
   "source": [
    "predict(model,data)"
   ]
  },
  {
   "cell_type": "code",
   "execution_count": null,
   "id": "362303bf",
   "metadata": {},
   "outputs": [],
   "source": []
  }
 ],
 "metadata": {
  "kernelspec": {
   "display_name": "R",
   "language": "R",
   "name": "ir"
  },
  "language_info": {
   "codemirror_mode": "r",
   "file_extension": ".r",
   "mimetype": "text/x-r-source",
   "name": "R",
   "pygments_lexer": "r",
   "version": "4.1.1"
  }
 },
 "nbformat": 4,
 "nbformat_minor": 5
}
