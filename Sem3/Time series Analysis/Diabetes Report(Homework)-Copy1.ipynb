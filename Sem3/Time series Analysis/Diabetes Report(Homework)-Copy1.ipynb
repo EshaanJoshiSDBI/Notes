{
 "cells": [
  {
   "cell_type": "code",
   "execution_count": 8,
   "id": "81baecd9",
   "metadata": {},
   "outputs": [
    {
     "name": "stderr",
     "output_type": "stream",
     "text": [
      "Loading required package: lattice\n",
      "\n",
      "Loading required package: ggplot2\n",
      "\n"
     ]
    }
   ],
   "source": [
    "library(caret)"
   ]
  },
  {
   "cell_type": "code",
   "execution_count": 2,
   "id": "d31f6931",
   "metadata": {},
   "outputs": [],
   "source": [
    "df = read.csv('diabetes.csv')"
   ]
  },
  {
   "cell_type": "code",
   "execution_count": 4,
   "id": "3bf04878",
   "metadata": {},
   "outputs": [
    {
     "data": {
      "text/html": [
       "<table class=\"dataframe\">\n",
       "<caption>A data.frame: 6 × 8</caption>\n",
       "<thead>\n",
       "\t<tr><th></th><th scope=col>Glucose</th><th scope=col>BloodPressure</th><th scope=col>SkinThickness</th><th scope=col>Insulin</th><th scope=col>BMI</th><th scope=col>DiabetesPedigreeFunction</th><th scope=col>Age</th><th scope=col>Outcome</th></tr>\n",
       "\t<tr><th></th><th scope=col>&lt;int&gt;</th><th scope=col>&lt;int&gt;</th><th scope=col>&lt;int&gt;</th><th scope=col>&lt;int&gt;</th><th scope=col>&lt;dbl&gt;</th><th scope=col>&lt;dbl&gt;</th><th scope=col>&lt;int&gt;</th><th scope=col>&lt;int&gt;</th></tr>\n",
       "</thead>\n",
       "<tbody>\n",
       "\t<tr><th scope=row>1</th><td>148</td><td>72</td><td>35</td><td>  0</td><td>33.6</td><td>0.63</td><td>50</td><td>1</td></tr>\n",
       "\t<tr><th scope=row>2</th><td> 85</td><td>66</td><td>29</td><td>  0</td><td>26.6</td><td>0.35</td><td>31</td><td>0</td></tr>\n",
       "\t<tr><th scope=row>3</th><td>183</td><td>64</td><td> 0</td><td>  0</td><td>23.3</td><td>0.67</td><td>32</td><td>1</td></tr>\n",
       "\t<tr><th scope=row>4</th><td> 89</td><td>66</td><td>23</td><td> 94</td><td>28.1</td><td>0.17</td><td>21</td><td>0</td></tr>\n",
       "\t<tr><th scope=row>5</th><td>137</td><td>40</td><td>35</td><td>168</td><td>43.1</td><td>2.29</td><td>33</td><td>1</td></tr>\n",
       "\t<tr><th scope=row>6</th><td>116</td><td>74</td><td> 0</td><td>  0</td><td>25.6</td><td>0.20</td><td>30</td><td>0</td></tr>\n",
       "</tbody>\n",
       "</table>\n"
      ],
      "text/latex": [
       "A data.frame: 6 × 8\n",
       "\\begin{tabular}{r|llllllll}\n",
       "  & Glucose & BloodPressure & SkinThickness & Insulin & BMI & DiabetesPedigreeFunction & Age & Outcome\\\\\n",
       "  & <int> & <int> & <int> & <int> & <dbl> & <dbl> & <int> & <int>\\\\\n",
       "\\hline\n",
       "\t1 & 148 & 72 & 35 &   0 & 33.6 & 0.63 & 50 & 1\\\\\n",
       "\t2 &  85 & 66 & 29 &   0 & 26.6 & 0.35 & 31 & 0\\\\\n",
       "\t3 & 183 & 64 &  0 &   0 & 23.3 & 0.67 & 32 & 1\\\\\n",
       "\t4 &  89 & 66 & 23 &  94 & 28.1 & 0.17 & 21 & 0\\\\\n",
       "\t5 & 137 & 40 & 35 & 168 & 43.1 & 2.29 & 33 & 1\\\\\n",
       "\t6 & 116 & 74 &  0 &   0 & 25.6 & 0.20 & 30 & 0\\\\\n",
       "\\end{tabular}\n"
      ],
      "text/markdown": [
       "\n",
       "A data.frame: 6 × 8\n",
       "\n",
       "| <!--/--> | Glucose &lt;int&gt; | BloodPressure &lt;int&gt; | SkinThickness &lt;int&gt; | Insulin &lt;int&gt; | BMI &lt;dbl&gt; | DiabetesPedigreeFunction &lt;dbl&gt; | Age &lt;int&gt; | Outcome &lt;int&gt; |\n",
       "|---|---|---|---|---|---|---|---|---|\n",
       "| 1 | 148 | 72 | 35 |   0 | 33.6 | 0.63 | 50 | 1 |\n",
       "| 2 |  85 | 66 | 29 |   0 | 26.6 | 0.35 | 31 | 0 |\n",
       "| 3 | 183 | 64 |  0 |   0 | 23.3 | 0.67 | 32 | 1 |\n",
       "| 4 |  89 | 66 | 23 |  94 | 28.1 | 0.17 | 21 | 0 |\n",
       "| 5 | 137 | 40 | 35 | 168 | 43.1 | 2.29 | 33 | 1 |\n",
       "| 6 | 116 | 74 |  0 |   0 | 25.6 | 0.20 | 30 | 0 |\n",
       "\n"
      ],
      "text/plain": [
       "  Glucose BloodPressure SkinThickness Insulin BMI  DiabetesPedigreeFunction Age\n",
       "1 148     72            35              0     33.6 0.63                     50 \n",
       "2  85     66            29              0     26.6 0.35                     31 \n",
       "3 183     64             0              0     23.3 0.67                     32 \n",
       "4  89     66            23             94     28.1 0.17                     21 \n",
       "5 137     40            35            168     43.1 2.29                     33 \n",
       "6 116     74             0              0     25.6 0.20                     30 \n",
       "  Outcome\n",
       "1 1      \n",
       "2 0      \n",
       "3 1      \n",
       "4 0      \n",
       "5 1      \n",
       "6 0      "
      ]
     },
     "metadata": {},
     "output_type": "display_data"
    }
   ],
   "source": [
    "head(df)"
   ]
  },
  {
   "cell_type": "code",
   "execution_count": 3,
   "id": "089f2942",
   "metadata": {},
   "outputs": [
    {
     "data": {
      "text/plain": [
       "    Glucose      BloodPressure    SkinThickness      Insulin     \n",
       " Min.   :  0.0   Min.   :  0.00   Min.   : 0.00   Min.   :  0.0  \n",
       " 1st Qu.: 99.0   1st Qu.: 62.00   1st Qu.: 0.00   1st Qu.:  0.0  \n",
       " Median :117.0   Median : 72.00   Median :23.00   Median : 30.5  \n",
       " Mean   :120.9   Mean   : 69.11   Mean   :20.54   Mean   : 79.8  \n",
       " 3rd Qu.:140.2   3rd Qu.: 80.00   3rd Qu.:32.00   3rd Qu.:127.2  \n",
       " Max.   :199.0   Max.   :122.00   Max.   :99.00   Max.   :846.0  \n",
       "      BMI        DiabetesPedigreeFunction      Age           Outcome     \n",
       " Min.   : 0.00   Min.   :0.0800           Min.   :21.00   Min.   :0.000  \n",
       " 1st Qu.:27.30   1st Qu.:0.2400           1st Qu.:24.00   1st Qu.:0.000  \n",
       " Median :32.00   Median :0.3700           Median :29.00   Median :0.000  \n",
       " Mean   :31.99   Mean   :0.4724           Mean   :33.24   Mean   :0.349  \n",
       " 3rd Qu.:36.60   3rd Qu.:0.6300           3rd Qu.:41.00   3rd Qu.:1.000  \n",
       " Max.   :67.10   Max.   :2.4200           Max.   :81.00   Max.   :1.000  "
      ]
     },
     "metadata": {},
     "output_type": "display_data"
    }
   ],
   "source": [
    "summary(df)"
   ]
  },
  {
   "cell_type": "code",
   "execution_count": 5,
   "id": "9440741c",
   "metadata": {},
   "outputs": [],
   "source": [
    "df$Outcome = as.factor(df$Outcome)"
   ]
  },
  {
   "cell_type": "code",
   "execution_count": 6,
   "id": "70922ccc",
   "metadata": {},
   "outputs": [
    {
     "data": {
      "text/plain": [
       "    Glucose      BloodPressure    SkinThickness      Insulin     \n",
       " Min.   :  0.0   Min.   :  0.00   Min.   : 0.00   Min.   :  0.0  \n",
       " 1st Qu.: 99.0   1st Qu.: 62.00   1st Qu.: 0.00   1st Qu.:  0.0  \n",
       " Median :117.0   Median : 72.00   Median :23.00   Median : 30.5  \n",
       " Mean   :120.9   Mean   : 69.11   Mean   :20.54   Mean   : 79.8  \n",
       " 3rd Qu.:140.2   3rd Qu.: 80.00   3rd Qu.:32.00   3rd Qu.:127.2  \n",
       " Max.   :199.0   Max.   :122.00   Max.   :99.00   Max.   :846.0  \n",
       "      BMI        DiabetesPedigreeFunction      Age        Outcome\n",
       " Min.   : 0.00   Min.   :0.0800           Min.   :21.00   0:500  \n",
       " 1st Qu.:27.30   1st Qu.:0.2400           1st Qu.:24.00   1:268  \n",
       " Median :32.00   Median :0.3700           Median :29.00          \n",
       " Mean   :31.99   Mean   :0.4724           Mean   :33.24          \n",
       " 3rd Qu.:36.60   3rd Qu.:0.6300           3rd Qu.:41.00          \n",
       " Max.   :67.10   Max.   :2.4200           Max.   :81.00          "
      ]
     },
     "metadata": {},
     "output_type": "display_data"
    }
   ],
   "source": [
    "summary(df)"
   ]
  },
  {
   "cell_type": "code",
   "execution_count": 10,
   "id": "62d59a0b",
   "metadata": {},
   "outputs": [],
   "source": [
    "model = preProcess(df,method = 'range')"
   ]
  },
  {
   "cell_type": "code",
   "execution_count": 11,
   "id": "f588b153",
   "metadata": {},
   "outputs": [],
   "source": [
    "train_df = predict(model,newdata = df)"
   ]
  },
  {
   "cell_type": "code",
   "execution_count": 15,
   "id": "32490a2c",
   "metadata": {},
   "outputs": [
    {
     "data": {
      "text/plain": [
       "    Glucose       BloodPressure    SkinThickness       Insulin       \n",
       " Min.   :0.0000   Min.   :0.0000   Min.   :0.0000   Min.   :0.00000  \n",
       " 1st Qu.:0.4975   1st Qu.:0.5082   1st Qu.:0.0000   1st Qu.:0.00000  \n",
       " Median :0.5879   Median :0.5902   Median :0.2323   Median :0.03605  \n",
       " Mean   :0.6075   Mean   :0.5664   Mean   :0.2074   Mean   :0.09433  \n",
       " 3rd Qu.:0.7048   3rd Qu.:0.6557   3rd Qu.:0.3232   3rd Qu.:0.15041  \n",
       " Max.   :1.0000   Max.   :1.0000   Max.   :1.0000   Max.   :1.00000  \n",
       "      BMI         DiabetesPedigreeFunction      Age           Outcome   \n",
       " Min.   :0.0000   Min.   :0.00000          Min.   :0.0000   Class0:500  \n",
       " 1st Qu.:0.4069   1st Qu.:0.06838          1st Qu.:0.0500   Class1:268  \n",
       " Median :0.4769   Median :0.12393          Median :0.1333               \n",
       " Mean   :0.4768   Mean   :0.16769          Mean   :0.2040               \n",
       " 3rd Qu.:0.5455   3rd Qu.:0.23504          3rd Qu.:0.3333               \n",
       " Max.   :1.0000   Max.   :1.00000          Max.   :1.0000               "
      ]
     },
     "metadata": {},
     "output_type": "display_data"
    }
   ],
   "source": [
    "summary(train_df)"
   ]
  },
  {
   "cell_type": "code",
   "execution_count": 13,
   "id": "1fd9d88f",
   "metadata": {},
   "outputs": [
    {
     "data": {
      "text/html": [
       "<table class=\"dataframe\">\n",
       "<caption>A data.frame: 6 × 8</caption>\n",
       "<thead>\n",
       "\t<tr><th></th><th scope=col>Glucose</th><th scope=col>BloodPressure</th><th scope=col>SkinThickness</th><th scope=col>Insulin</th><th scope=col>BMI</th><th scope=col>DiabetesPedigreeFunction</th><th scope=col>Age</th><th scope=col>Outcome</th></tr>\n",
       "\t<tr><th></th><th scope=col>&lt;dbl&gt;</th><th scope=col>&lt;dbl&gt;</th><th scope=col>&lt;dbl&gt;</th><th scope=col>&lt;dbl&gt;</th><th scope=col>&lt;dbl&gt;</th><th scope=col>&lt;dbl&gt;</th><th scope=col>&lt;dbl&gt;</th><th scope=col>&lt;fct&gt;</th></tr>\n",
       "</thead>\n",
       "<tbody>\n",
       "\t<tr><th scope=row>1</th><td>0.7437186</td><td>0.5901639</td><td>0.3535354</td><td>0.0000000</td><td>0.5007452</td><td>0.23504274</td><td>0.4833333</td><td>Class1</td></tr>\n",
       "\t<tr><th scope=row>2</th><td>0.4271357</td><td>0.5409836</td><td>0.2929293</td><td>0.0000000</td><td>0.3964232</td><td>0.11538462</td><td>0.1666667</td><td>Class0</td></tr>\n",
       "\t<tr><th scope=row>3</th><td>0.9195980</td><td>0.5245902</td><td>0.0000000</td><td>0.0000000</td><td>0.3472429</td><td>0.25213675</td><td>0.1833333</td><td>Class1</td></tr>\n",
       "\t<tr><th scope=row>4</th><td>0.4472362</td><td>0.5409836</td><td>0.2323232</td><td>0.1111111</td><td>0.4187779</td><td>0.03846154</td><td>0.0000000</td><td>Class0</td></tr>\n",
       "\t<tr><th scope=row>5</th><td>0.6884422</td><td>0.3278689</td><td>0.3535354</td><td>0.1985816</td><td>0.6423249</td><td>0.94444444</td><td>0.2000000</td><td>Class1</td></tr>\n",
       "\t<tr><th scope=row>6</th><td>0.5829146</td><td>0.6065574</td><td>0.0000000</td><td>0.0000000</td><td>0.3815201</td><td>0.05128205</td><td>0.1500000</td><td>Class0</td></tr>\n",
       "</tbody>\n",
       "</table>\n"
      ],
      "text/latex": [
       "A data.frame: 6 × 8\n",
       "\\begin{tabular}{r|llllllll}\n",
       "  & Glucose & BloodPressure & SkinThickness & Insulin & BMI & DiabetesPedigreeFunction & Age & Outcome\\\\\n",
       "  & <dbl> & <dbl> & <dbl> & <dbl> & <dbl> & <dbl> & <dbl> & <fct>\\\\\n",
       "\\hline\n",
       "\t1 & 0.7437186 & 0.5901639 & 0.3535354 & 0.0000000 & 0.5007452 & 0.23504274 & 0.4833333 & Class1\\\\\n",
       "\t2 & 0.4271357 & 0.5409836 & 0.2929293 & 0.0000000 & 0.3964232 & 0.11538462 & 0.1666667 & Class0\\\\\n",
       "\t3 & 0.9195980 & 0.5245902 & 0.0000000 & 0.0000000 & 0.3472429 & 0.25213675 & 0.1833333 & Class1\\\\\n",
       "\t4 & 0.4472362 & 0.5409836 & 0.2323232 & 0.1111111 & 0.4187779 & 0.03846154 & 0.0000000 & Class0\\\\\n",
       "\t5 & 0.6884422 & 0.3278689 & 0.3535354 & 0.1985816 & 0.6423249 & 0.94444444 & 0.2000000 & Class1\\\\\n",
       "\t6 & 0.5829146 & 0.6065574 & 0.0000000 & 0.0000000 & 0.3815201 & 0.05128205 & 0.1500000 & Class0\\\\\n",
       "\\end{tabular}\n"
      ],
      "text/markdown": [
       "\n",
       "A data.frame: 6 × 8\n",
       "\n",
       "| <!--/--> | Glucose &lt;dbl&gt; | BloodPressure &lt;dbl&gt; | SkinThickness &lt;dbl&gt; | Insulin &lt;dbl&gt; | BMI &lt;dbl&gt; | DiabetesPedigreeFunction &lt;dbl&gt; | Age &lt;dbl&gt; | Outcome &lt;fct&gt; |\n",
       "|---|---|---|---|---|---|---|---|---|\n",
       "| 1 | 0.7437186 | 0.5901639 | 0.3535354 | 0.0000000 | 0.5007452 | 0.23504274 | 0.4833333 | Class1 |\n",
       "| 2 | 0.4271357 | 0.5409836 | 0.2929293 | 0.0000000 | 0.3964232 | 0.11538462 | 0.1666667 | Class0 |\n",
       "| 3 | 0.9195980 | 0.5245902 | 0.0000000 | 0.0000000 | 0.3472429 | 0.25213675 | 0.1833333 | Class1 |\n",
       "| 4 | 0.4472362 | 0.5409836 | 0.2323232 | 0.1111111 | 0.4187779 | 0.03846154 | 0.0000000 | Class0 |\n",
       "| 5 | 0.6884422 | 0.3278689 | 0.3535354 | 0.1985816 | 0.6423249 | 0.94444444 | 0.2000000 | Class1 |\n",
       "| 6 | 0.5829146 | 0.6065574 | 0.0000000 | 0.0000000 | 0.3815201 | 0.05128205 | 0.1500000 | Class0 |\n",
       "\n"
      ],
      "text/plain": [
       "  Glucose   BloodPressure SkinThickness Insulin   BMI      \n",
       "1 0.7437186 0.5901639     0.3535354     0.0000000 0.5007452\n",
       "2 0.4271357 0.5409836     0.2929293     0.0000000 0.3964232\n",
       "3 0.9195980 0.5245902     0.0000000     0.0000000 0.3472429\n",
       "4 0.4472362 0.5409836     0.2323232     0.1111111 0.4187779\n",
       "5 0.6884422 0.3278689     0.3535354     0.1985816 0.6423249\n",
       "6 0.5829146 0.6065574     0.0000000     0.0000000 0.3815201\n",
       "  DiabetesPedigreeFunction Age       Outcome\n",
       "1 0.23504274               0.4833333 Class1 \n",
       "2 0.11538462               0.1666667 Class0 \n",
       "3 0.25213675               0.1833333 Class1 \n",
       "4 0.03846154               0.0000000 Class0 \n",
       "5 0.94444444               0.2000000 Class1 \n",
       "6 0.05128205               0.1500000 Class0 "
      ]
     },
     "metadata": {},
     "output_type": "display_data"
    }
   ],
   "source": [
    "head(train_df)"
   ]
  },
  {
   "cell_type": "code",
   "execution_count": 12,
   "id": "62d5f892",
   "metadata": {},
   "outputs": [],
   "source": [
    "levels(train_df$Outcome) = c('Class0','Class1')"
   ]
  },
  {
   "cell_type": "code",
   "execution_count": 19,
   "id": "54bbc019",
   "metadata": {},
   "outputs": [],
   "source": [
    "mod1 = glm(Outcome ~ .-Outcome, data = train_df, family = 'binomial')"
   ]
  },
  {
   "cell_type": "code",
   "execution_count": 21,
   "id": "8fc2eced",
   "metadata": {},
   "outputs": [
    {
     "data": {
      "text/plain": [
       "\n",
       "Call:\n",
       "glm(formula = Outcome ~ . - Outcome, family = \"binomial\", data = train_df)\n",
       "\n",
       "Deviance Residuals: \n",
       "    Min       1Q   Median       3Q      Max  \n",
       "-2.5802  -0.7285  -0.4332   0.7438   2.9185  \n",
       "\n",
       "Coefficients:\n",
       "                         Estimate Std. Error z value Pr(>|z|)    \n",
       "(Intercept)              -7.65947    0.67748 -11.306  < 2e-16 ***\n",
       "Glucose                   6.88437    0.72945   9.438  < 2e-16 ***\n",
       "BloodPressure            -1.49034    0.63819  -2.335  0.01953 *  \n",
       "SkinThickness             0.08276    0.68338   0.121  0.90361    \n",
       "Insulin                  -1.15890    0.77140  -1.502  0.13301    \n",
       "BMI                       5.89540    0.99659   5.916 3.31e-09 ***\n",
       "DiabetesPedigreeFunction  2.08405    0.69220   3.011  0.00261 ** \n",
       "Age                       1.95961    0.48657   4.027 5.64e-05 ***\n",
       "---\n",
       "Signif. codes:  0 '***' 0.001 '**' 0.01 '*' 0.05 '.' 0.1 ' ' 1\n",
       "\n",
       "(Dispersion parameter for binomial family taken to be 1)\n",
       "\n",
       "    Null deviance: 993.48  on 767  degrees of freedom\n",
       "Residual deviance: 738.68  on 760  degrees of freedom\n",
       "AIC: 754.68\n",
       "\n",
       "Number of Fisher Scoring iterations: 5\n"
      ]
     },
     "metadata": {},
     "output_type": "display_data"
    }
   ],
   "source": [
    "summary(mod1)"
   ]
  },
  {
   "cell_type": "markdown",
   "id": "606666cd",
   "metadata": {},
   "source": [
    "- Diabetes depends on the glucose levels of the person\n",
    "- Diabetes depends on the BloodPressure levels of the person\n",
    "- Diabetes **does not** depend on SkinThickness of the person\n",
    "- Diabetes <strong>does not</strong> depend on the Insulin level of the person\n",
    "- Diabetes depends on the BMI of the person\n",
    "- Diabetes depends on the DiabetesPedigreeFunction of the person\n",
    "- Diabetes depends on the Age of the person"
   ]
  },
  {
   "cell_type": "code",
   "execution_count": 29,
   "id": "a3111768",
   "metadata": {},
   "outputs": [
    {
     "data": {
      "text/html": [
       "<style>\n",
       ".dl-inline {width: auto; margin:0; padding: 0}\n",
       ".dl-inline>dt, .dl-inline>dd {float: none; width: auto; display: inline-block}\n",
       ".dl-inline>dt::after {content: \":\\0020\"; padding-right: .5ex}\n",
       ".dl-inline>dt:not(:first-of-type) {padding-left: .5ex}\n",
       "</style><dl class=dl-inline><dt>1</dt><dd>0.730931962716392</dd><dt>2</dt><dd>0.0693463684214077</dd><dt>3</dt><dd>0.694539733044749</dd><dt>4</dt><dd>0.049864299559108</dd><dt>5</dt><dd>0.926726696415656</dd><dt>6</dt><dd>0.130061398147774</dd></dl>\n"
      ],
      "text/latex": [
       "\\begin{description*}\n",
       "\\item[1] 0.730931962716392\n",
       "\\item[2] 0.0693463684214077\n",
       "\\item[3] 0.694539733044749\n",
       "\\item[4] 0.049864299559108\n",
       "\\item[5] 0.926726696415656\n",
       "\\item[6] 0.130061398147774\n",
       "\\end{description*}\n"
      ],
      "text/markdown": [
       "1\n",
       ":   0.7309319627163922\n",
       ":   0.06934636842140773\n",
       ":   0.6945397330447494\n",
       ":   0.0498642995591085\n",
       ":   0.9267266964156566\n",
       ":   0.130061398147774\n",
       "\n"
      ],
      "text/plain": [
       "         1          2          3          4          5          6 \n",
       "0.73093196 0.06934637 0.69453973 0.04986430 0.92672670 0.13006140 "
      ]
     },
     "metadata": {},
     "output_type": "display_data"
    }
   ],
   "source": [
    "head(predict(mod1,train_df,type = 'response'))"
   ]
  },
  {
   "cell_type": "code",
   "execution_count": 68,
   "id": "3d9e6bd0",
   "metadata": {},
   "outputs": [],
   "source": [
    "ans = as.data.frame(predict(mod1,train_df,type = 'response'))"
   ]
  },
  {
   "cell_type": "code",
   "execution_count": 69,
   "id": "90f70495",
   "metadata": {},
   "outputs": [],
   "source": [
    "ans = round(ans*100,2)"
   ]
  },
  {
   "cell_type": "code",
   "execution_count": 70,
   "id": "921fef70",
   "metadata": {},
   "outputs": [
    {
     "data": {
      "text/html": [
       "<table class=\"dataframe\">\n",
       "<caption>A data.frame: 6 × 1</caption>\n",
       "<thead>\n",
       "\t<tr><th></th><th scope=col>predict(mod1, train_df, type = \"response\")</th></tr>\n",
       "\t<tr><th></th><th scope=col>&lt;dbl&gt;</th></tr>\n",
       "</thead>\n",
       "<tbody>\n",
       "\t<tr><th scope=row>1</th><td>73.09</td></tr>\n",
       "\t<tr><th scope=row>2</th><td> 6.93</td></tr>\n",
       "\t<tr><th scope=row>3</th><td>69.45</td></tr>\n",
       "\t<tr><th scope=row>4</th><td> 4.99</td></tr>\n",
       "\t<tr><th scope=row>5</th><td>92.67</td></tr>\n",
       "\t<tr><th scope=row>6</th><td>13.01</td></tr>\n",
       "</tbody>\n",
       "</table>\n"
      ],
      "text/latex": [
       "A data.frame: 6 × 1\n",
       "\\begin{tabular}{r|l}\n",
       "  & predict(mod1, train\\_df, type = \"response\")\\\\\n",
       "  & <dbl>\\\\\n",
       "\\hline\n",
       "\t1 & 73.09\\\\\n",
       "\t2 &  6.93\\\\\n",
       "\t3 & 69.45\\\\\n",
       "\t4 &  4.99\\\\\n",
       "\t5 & 92.67\\\\\n",
       "\t6 & 13.01\\\\\n",
       "\\end{tabular}\n"
      ],
      "text/markdown": [
       "\n",
       "A data.frame: 6 × 1\n",
       "\n",
       "| <!--/--> | predict(mod1, train_df, type = \"response\") &lt;dbl&gt; |\n",
       "|---|---|\n",
       "| 1 | 73.09 |\n",
       "| 2 |  6.93 |\n",
       "| 3 | 69.45 |\n",
       "| 4 |  4.99 |\n",
       "| 5 | 92.67 |\n",
       "| 6 | 13.01 |\n",
       "\n"
      ],
      "text/plain": [
       "  predict(mod1, train_df, type = \"response\")\n",
       "1 73.09                                     \n",
       "2  6.93                                     \n",
       "3 69.45                                     \n",
       "4  4.99                                     \n",
       "5 92.67                                     \n",
       "6 13.01                                     "
      ]
     },
     "metadata": {},
     "output_type": "display_data"
    }
   ],
   "source": [
    "head(ans)"
   ]
  },
  {
   "cell_type": "code",
   "execution_count": 71,
   "id": "36ab7974",
   "metadata": {},
   "outputs": [],
   "source": [
    "colnames(ans) = 'Probability'"
   ]
  },
  {
   "cell_type": "code",
   "execution_count": 82,
   "id": "f753cc9b",
   "metadata": {},
   "outputs": [],
   "source": [
    "ans_str = strsplit(toString(unlist(ans$Probability)),',')"
   ]
  },
  {
   "cell_type": "code",
   "execution_count": 83,
   "id": "b0f08bd3",
   "metadata": {},
   "outputs": [],
   "source": [
    "ans_str = as.data.frame(sapply(ans_str, paste,'%',sep=''))"
   ]
  },
  {
   "cell_type": "code",
   "execution_count": 87,
   "id": "3d98f914",
   "metadata": {},
   "outputs": [],
   "source": [
    "colnames(ans_str) = 'Probability'"
   ]
  },
  {
   "cell_type": "code",
   "execution_count": 88,
   "id": "adc956a9",
   "metadata": {},
   "outputs": [
    {
     "data": {
      "text/html": [
       "<table class=\"dataframe\">\n",
       "<caption>A data.frame: 6 × 1</caption>\n",
       "<thead>\n",
       "\t<tr><th></th><th scope=col>Probability</th></tr>\n",
       "\t<tr><th></th><th scope=col>&lt;chr&gt;</th></tr>\n",
       "</thead>\n",
       "<tbody>\n",
       "\t<tr><th scope=row>1</th><td>73.09% </td></tr>\n",
       "\t<tr><th scope=row>2</th><td> 6.93% </td></tr>\n",
       "\t<tr><th scope=row>3</th><td> 69.45%</td></tr>\n",
       "\t<tr><th scope=row>4</th><td> 4.99% </td></tr>\n",
       "\t<tr><th scope=row>5</th><td> 92.67%</td></tr>\n",
       "\t<tr><th scope=row>6</th><td> 13.01%</td></tr>\n",
       "</tbody>\n",
       "</table>\n"
      ],
      "text/latex": [
       "A data.frame: 6 × 1\n",
       "\\begin{tabular}{r|l}\n",
       "  & Probability\\\\\n",
       "  & <chr>\\\\\n",
       "\\hline\n",
       "\t1 & 73.09\\% \\\\\n",
       "\t2 &  6.93\\% \\\\\n",
       "\t3 &  69.45\\%\\\\\n",
       "\t4 &  4.99\\% \\\\\n",
       "\t5 &  92.67\\%\\\\\n",
       "\t6 &  13.01\\%\\\\\n",
       "\\end{tabular}\n"
      ],
      "text/markdown": [
       "\n",
       "A data.frame: 6 × 1\n",
       "\n",
       "| <!--/--> | Probability &lt;chr&gt; |\n",
       "|---|---|\n",
       "| 1 | 73.09%  |\n",
       "| 2 |  6.93%  |\n",
       "| 3 |  69.45% |\n",
       "| 4 |  4.99%  |\n",
       "| 5 |  92.67% |\n",
       "| 6 |  13.01% |\n",
       "\n"
      ],
      "text/plain": [
       "  Probability\n",
       "1 73.09%     \n",
       "2  6.93%     \n",
       "3  69.45%    \n",
       "4  4.99%     \n",
       "5  92.67%    \n",
       "6  13.01%    "
      ]
     },
     "metadata": {},
     "output_type": "display_data"
    }
   ],
   "source": [
    "head(ans_str)"
   ]
  }
 ],
 "metadata": {
  "kernelspec": {
   "display_name": "R",
   "language": "R",
   "name": "ir"
  },
  "language_info": {
   "codemirror_mode": "r",
   "file_extension": ".r",
   "mimetype": "text/x-r-source",
   "name": "R",
   "pygments_lexer": "r",
   "version": "4.1.0"
  }
 },
 "nbformat": 4,
 "nbformat_minor": 5
}
