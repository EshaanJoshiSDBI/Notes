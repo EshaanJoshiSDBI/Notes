{
 "cells": [
  {
   "cell_type": "code",
   "execution_count": 1,
   "id": "b71e59ee",
   "metadata": {},
   "outputs": [],
   "source": [
    "library(readxl)"
   ]
  },
  {
   "cell_type": "code",
   "execution_count": 8,
   "id": "263a002c",
   "metadata": {},
   "outputs": [],
   "source": [
    "library(sandwich)\n",
    "library(msm)"
   ]
  },
  {
   "cell_type": "code",
   "execution_count": 17,
   "id": "82d3ca40",
   "metadata": {},
   "outputs": [],
   "source": [
    "df = read_excel('CountsData.xlsx',sheet = 'poisson')"
   ]
  },
  {
   "cell_type": "code",
   "execution_count": 10,
   "id": "8f1cf0a8",
   "metadata": {},
   "outputs": [
    {
     "data": {
      "text/html": [
       "<table class=\"dataframe\">\n",
       "<caption>A tibble: 10 × 3</caption>\n",
       "<thead>\n",
       "\t<tr><th scope=col>num_awards</th><th scope=col>prog</th><th scope=col>math</th></tr>\n",
       "\t<tr><th scope=col>&lt;dbl&gt;</th><th scope=col>&lt;dbl&gt;</th><th scope=col>&lt;dbl&gt;</th></tr>\n",
       "</thead>\n",
       "<tbody>\n",
       "\t<tr><td>0</td><td>3</td><td>41</td></tr>\n",
       "\t<tr><td>0</td><td>1</td><td>41</td></tr>\n",
       "\t<tr><td>0</td><td>3</td><td>44</td></tr>\n",
       "\t<tr><td>0</td><td>3</td><td>42</td></tr>\n",
       "\t<tr><td>0</td><td>3</td><td>40</td></tr>\n",
       "\t<tr><td>0</td><td>1</td><td>42</td></tr>\n",
       "\t<tr><td>0</td><td>3</td><td>46</td></tr>\n",
       "\t<tr><td>0</td><td>3</td><td>40</td></tr>\n",
       "\t<tr><td>0</td><td>3</td><td>33</td></tr>\n",
       "\t<tr><td>0</td><td>3</td><td>46</td></tr>\n",
       "</tbody>\n",
       "</table>\n"
      ],
      "text/latex": [
       "A tibble: 10 × 3\n",
       "\\begin{tabular}{lll}\n",
       " num\\_awards & prog & math\\\\\n",
       " <dbl> & <dbl> & <dbl>\\\\\n",
       "\\hline\n",
       "\t 0 & 3 & 41\\\\\n",
       "\t 0 & 1 & 41\\\\\n",
       "\t 0 & 3 & 44\\\\\n",
       "\t 0 & 3 & 42\\\\\n",
       "\t 0 & 3 & 40\\\\\n",
       "\t 0 & 1 & 42\\\\\n",
       "\t 0 & 3 & 46\\\\\n",
       "\t 0 & 3 & 40\\\\\n",
       "\t 0 & 3 & 33\\\\\n",
       "\t 0 & 3 & 46\\\\\n",
       "\\end{tabular}\n"
      ],
      "text/markdown": [
       "\n",
       "A tibble: 10 × 3\n",
       "\n",
       "| num_awards &lt;dbl&gt; | prog &lt;dbl&gt; | math &lt;dbl&gt; |\n",
       "|---|---|---|\n",
       "| 0 | 3 | 41 |\n",
       "| 0 | 1 | 41 |\n",
       "| 0 | 3 | 44 |\n",
       "| 0 | 3 | 42 |\n",
       "| 0 | 3 | 40 |\n",
       "| 0 | 1 | 42 |\n",
       "| 0 | 3 | 46 |\n",
       "| 0 | 3 | 40 |\n",
       "| 0 | 3 | 33 |\n",
       "| 0 | 3 | 46 |\n",
       "\n"
      ],
      "text/plain": [
       "   num_awards prog math\n",
       "1  0          3    41  \n",
       "2  0          1    41  \n",
       "3  0          3    44  \n",
       "4  0          3    42  \n",
       "5  0          3    40  \n",
       "6  0          1    42  \n",
       "7  0          3    46  \n",
       "8  0          3    40  \n",
       "9  0          3    33  \n",
       "10 0          3    46  "
      ]
     },
     "metadata": {},
     "output_type": "display_data"
    }
   ],
   "source": [
    "head(df,10)"
   ]
  },
  {
   "cell_type": "markdown",
   "id": "519a66b7",
   "metadata": {},
   "source": [
    "- program is a categorical data( 1,2,3 is type of program)\n",
    "- math is a continuous data(41,44,.. etc are scores)"
   ]
  },
  {
   "cell_type": "code",
   "execution_count": 11,
   "id": "c1f77b0b",
   "metadata": {},
   "outputs": [
    {
     "data": {
      "text/html": [
       "<style>\n",
       ".list-inline {list-style: none; margin:0; padding: 0}\n",
       ".list-inline>li {display: inline-block}\n",
       ".list-inline>li:not(:last-child)::after {content: \"\\00b7\"; padding: 0 .5ex}\n",
       "</style>\n",
       "<ol class=list-inline><li>0</li><li>1</li><li>3</li><li>2</li><li>5</li><li>4</li><li>6</li></ol>\n"
      ],
      "text/latex": [
       "\\begin{enumerate*}\n",
       "\\item 0\n",
       "\\item 1\n",
       "\\item 3\n",
       "\\item 2\n",
       "\\item 5\n",
       "\\item 4\n",
       "\\item 6\n",
       "\\end{enumerate*}\n"
      ],
      "text/markdown": [
       "1. 0\n",
       "2. 1\n",
       "3. 3\n",
       "4. 2\n",
       "5. 5\n",
       "6. 4\n",
       "7. 6\n",
       "\n",
       "\n"
      ],
      "text/plain": [
       "[1] 0 1 3 2 5 4 6"
      ]
     },
     "metadata": {},
     "output_type": "display_data"
    }
   ],
   "source": [
    "unique(df$num_awards)"
   ]
  },
  {
   "cell_type": "code",
   "execution_count": 12,
   "id": "eddf31f3",
   "metadata": {},
   "outputs": [
    {
     "data": {
      "text/html": [
       "0.476758793969849"
      ],
      "text/latex": [
       "0.476758793969849"
      ],
      "text/markdown": [
       "0.476758793969849"
      ],
      "text/plain": [
       "[1] 0.4767588"
      ]
     },
     "metadata": {},
     "output_type": "display_data"
    }
   ],
   "source": [
    "var(df$prog)"
   ]
  },
  {
   "cell_type": "code",
   "execution_count": 13,
   "id": "9054a73d",
   "metadata": {},
   "outputs": [
    {
     "data": {
      "text/html": [
       "1.1086432160804"
      ],
      "text/latex": [
       "1.1086432160804"
      ],
      "text/markdown": [
       "1.1086432160804"
      ],
      "text/plain": [
       "[1] 1.108643"
      ]
     },
     "metadata": {},
     "output_type": "display_data"
    }
   ],
   "source": [
    "var(df$num_awards)"
   ]
  },
  {
   "cell_type": "code",
   "execution_count": 18,
   "id": "40a1874d",
   "metadata": {},
   "outputs": [
    {
     "name": "stdout",
     "output_type": "stream",
     "text": [
      "tibble [200 x 3] (S3: tbl_df/tbl/data.frame)\n",
      " $ num_awards: num [1:200] 0 0 0 0 0 0 0 0 0 0 ...\n",
      " $ prog      : num [1:200] 3 1 3 3 3 1 3 3 3 3 ...\n",
      " $ math      : num [1:200] 41 41 44 42 40 42 46 40 33 46 ...\n"
     ]
    }
   ],
   "source": [
    "str(df)"
   ]
  },
  {
   "cell_type": "code",
   "execution_count": 19,
   "id": "6ff3ba28",
   "metadata": {},
   "outputs": [],
   "source": [
    "df$prog = as.factor(df$prog)"
   ]
  },
  {
   "cell_type": "code",
   "execution_count": 20,
   "id": "58ce5221",
   "metadata": {},
   "outputs": [
    {
     "name": "stdout",
     "output_type": "stream",
     "text": [
      "tibble [200 x 3] (S3: tbl_df/tbl/data.frame)\n",
      " $ num_awards: num [1:200] 0 0 0 0 0 0 0 0 0 0 ...\n",
      " $ prog      : Factor w/ 3 levels \"1\",\"2\",\"3\": 3 1 3 3 3 1 3 3 3 3 ...\n",
      " $ math      : num [1:200] 41 41 44 42 40 42 46 40 33 46 ...\n"
     ]
    }
   ],
   "source": [
    "str(df)"
   ]
  },
  {
   "cell_type": "code",
   "execution_count": 22,
   "id": "45291f1a",
   "metadata": {},
   "outputs": [
    {
     "data": {
      "text/html": [
       "124"
      ],
      "text/latex": [
       "124"
      ],
      "text/markdown": [
       "124"
      ],
      "text/plain": [
       "[1] 124"
      ]
     },
     "metadata": {},
     "output_type": "display_data"
    }
   ],
   "source": [
    "length(which(df$num_awards == 0))"
   ]
  },
  {
   "cell_type": "code",
   "execution_count": 25,
   "id": "9ec6a770",
   "metadata": {},
   "outputs": [
    {
     "data": {
      "text/html": [
       "173"
      ],
      "text/latex": [
       "173"
      ],
      "text/markdown": [
       "173"
      ],
      "text/plain": [
       "[1] 173"
      ]
     },
     "metadata": {},
     "output_type": "display_data"
    }
   ],
   "source": [
    "length(which(df$num_awards == 0|df$num_awards == 1))"
   ]
  },
  {
   "cell_type": "code",
   "execution_count": 26,
   "id": "77ecfb14",
   "metadata": {},
   "outputs": [
    {
     "data": {
      "text/html": [
       "<style>\n",
       ".list-inline {list-style: none; margin:0; padding: 0}\n",
       ".list-inline>li {display: inline-block}\n",
       ".list-inline>li:not(:last-child)::after {content: \"\\00b7\"; padding: 0 .5ex}\n",
       "</style>\n",
       "<ol class=list-inline><li>0</li><li>1</li><li>3</li><li>2</li><li>5</li><li>4</li><li>6</li></ol>\n"
      ],
      "text/latex": [
       "\\begin{enumerate*}\n",
       "\\item 0\n",
       "\\item 1\n",
       "\\item 3\n",
       "\\item 2\n",
       "\\item 5\n",
       "\\item 4\n",
       "\\item 6\n",
       "\\end{enumerate*}\n"
      ],
      "text/markdown": [
       "1. 0\n",
       "2. 1\n",
       "3. 3\n",
       "4. 2\n",
       "5. 5\n",
       "6. 4\n",
       "7. 6\n",
       "\n",
       "\n"
      ],
      "text/plain": [
       "[1] 0 1 3 2 5 4 6"
      ]
     },
     "metadata": {},
     "output_type": "display_data"
    }
   ],
   "source": [
    "unique(df$num_awards)"
   ]
  },
  {
   "cell_type": "code",
   "execution_count": 32,
   "id": "e6b4f9b8",
   "metadata": {},
   "outputs": [
    {
     "data": {
      "text/html": [
       "<table class=\"dataframe\">\n",
       "<caption>A tibble: 2 × 3</caption>\n",
       "<thead>\n",
       "\t<tr><th scope=col>num_awards</th><th scope=col>prog</th><th scope=col>math</th></tr>\n",
       "\t<tr><th scope=col>&lt;dbl&gt;</th><th scope=col>&lt;fct&gt;</th><th scope=col>&lt;dbl&gt;</th></tr>\n",
       "</thead>\n",
       "<tbody>\n",
       "\t<tr><td>5</td><td>2</td><td>61</td></tr>\n",
       "\t<tr><td>5</td><td>2</td><td>71</td></tr>\n",
       "</tbody>\n",
       "</table>\n"
      ],
      "text/latex": [
       "A tibble: 2 × 3\n",
       "\\begin{tabular}{lll}\n",
       " num\\_awards & prog & math\\\\\n",
       " <dbl> & <fct> & <dbl>\\\\\n",
       "\\hline\n",
       "\t 5 & 2 & 61\\\\\n",
       "\t 5 & 2 & 71\\\\\n",
       "\\end{tabular}\n"
      ],
      "text/markdown": [
       "\n",
       "A tibble: 2 × 3\n",
       "\n",
       "| num_awards &lt;dbl&gt; | prog &lt;fct&gt; | math &lt;dbl&gt; |\n",
       "|---|---|---|\n",
       "| 5 | 2 | 61 |\n",
       "| 5 | 2 | 71 |\n",
       "\n"
      ],
      "text/plain": [
       "  num_awards prog math\n",
       "1 5          2    61  \n",
       "2 5          2    71  "
      ]
     },
     "metadata": {},
     "output_type": "display_data"
    }
   ],
   "source": [
    "df[which(df$num_awards == 5),]"
   ]
  },
  {
   "cell_type": "code",
   "execution_count": 33,
   "id": "2e42a13c",
   "metadata": {},
   "outputs": [],
   "source": [
    "mod = glm(num_awards ~ prog + math, data = df, family = 'poisson')"
   ]
  },
  {
   "cell_type": "code",
   "execution_count": 34,
   "id": "2687af13",
   "metadata": {},
   "outputs": [
    {
     "data": {
      "text/plain": [
       "\n",
       "Call:\n",
       "glm(formula = num_awards ~ prog + math, family = \"poisson\", data = df)\n",
       "\n",
       "Deviance Residuals: \n",
       "    Min       1Q   Median       3Q      Max  \n",
       "-2.2043  -0.8436  -0.5106   0.2558   2.6796  \n",
       "\n",
       "Coefficients:\n",
       "            Estimate Std. Error z value Pr(>|z|)    \n",
       "(Intercept) -5.24712    0.65845  -7.969 1.60e-15 ***\n",
       "prog2        1.08386    0.35825   3.025  0.00248 ** \n",
       "prog3        0.36981    0.44107   0.838  0.40179    \n",
       "math         0.07015    0.01060   6.619 3.63e-11 ***\n",
       "---\n",
       "Signif. codes:  0 '***' 0.001 '**' 0.01 '*' 0.05 '.' 0.1 ' ' 1\n",
       "\n",
       "(Dispersion parameter for poisson family taken to be 1)\n",
       "\n",
       "    Null deviance: 287.67  on 199  degrees of freedom\n",
       "Residual deviance: 189.45  on 196  degrees of freedom\n",
       "AIC: 373.5\n",
       "\n",
       "Number of Fisher Scoring iterations: 6\n"
      ]
     },
     "metadata": {},
     "output_type": "display_data"
    }
   ],
   "source": [
    "summary(mod)"
   ]
  }
 ],
 "metadata": {
  "kernelspec": {
   "display_name": "R",
   "language": "R",
   "name": "ir"
  },
  "language_info": {
   "codemirror_mode": "r",
   "file_extension": ".r",
   "mimetype": "text/x-r-source",
   "name": "R",
   "pygments_lexer": "r",
   "version": "4.1.0"
  }
 },
 "nbformat": 4,
 "nbformat_minor": 5
}
