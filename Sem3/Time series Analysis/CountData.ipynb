{
 "cells": [
  {
   "cell_type": "code",
   "execution_count": 3,
   "id": "b71e59ee",
   "metadata": {},
   "outputs": [],
   "source": [
    "library(readxl)"
   ]
  },
  {
   "cell_type": "code",
   "execution_count": 4,
   "id": "263a002c",
   "metadata": {},
   "outputs": [],
   "source": [
    "library(sandwich)\n",
    "library(msm)"
   ]
  },
  {
   "cell_type": "code",
   "execution_count": 5,
   "id": "82d3ca40",
   "metadata": {},
   "outputs": [],
   "source": [
    "df = read_excel('CountsData.xlsx',sheet = 'poisson')"
   ]
  },
  {
   "cell_type": "code",
   "execution_count": 6,
   "id": "8f1cf0a8",
   "metadata": {},
   "outputs": [
    {
     "data": {
      "text/html": [
       "<table class=\"dataframe\">\n",
       "<caption>A tibble: 10 × 3</caption>\n",
       "<thead>\n",
       "\t<tr><th scope=col>num_awards</th><th scope=col>prog</th><th scope=col>math</th></tr>\n",
       "\t<tr><th scope=col>&lt;dbl&gt;</th><th scope=col>&lt;dbl&gt;</th><th scope=col>&lt;dbl&gt;</th></tr>\n",
       "</thead>\n",
       "<tbody>\n",
       "\t<tr><td>0</td><td>3</td><td>41</td></tr>\n",
       "\t<tr><td>0</td><td>1</td><td>41</td></tr>\n",
       "\t<tr><td>0</td><td>3</td><td>44</td></tr>\n",
       "\t<tr><td>0</td><td>3</td><td>42</td></tr>\n",
       "\t<tr><td>0</td><td>3</td><td>40</td></tr>\n",
       "\t<tr><td>0</td><td>1</td><td>42</td></tr>\n",
       "\t<tr><td>0</td><td>3</td><td>46</td></tr>\n",
       "\t<tr><td>0</td><td>3</td><td>40</td></tr>\n",
       "\t<tr><td>0</td><td>3</td><td>33</td></tr>\n",
       "\t<tr><td>0</td><td>3</td><td>46</td></tr>\n",
       "</tbody>\n",
       "</table>\n"
      ],
      "text/latex": [
       "A tibble: 10 × 3\n",
       "\\begin{tabular}{lll}\n",
       " num\\_awards & prog & math\\\\\n",
       " <dbl> & <dbl> & <dbl>\\\\\n",
       "\\hline\n",
       "\t 0 & 3 & 41\\\\\n",
       "\t 0 & 1 & 41\\\\\n",
       "\t 0 & 3 & 44\\\\\n",
       "\t 0 & 3 & 42\\\\\n",
       "\t 0 & 3 & 40\\\\\n",
       "\t 0 & 1 & 42\\\\\n",
       "\t 0 & 3 & 46\\\\\n",
       "\t 0 & 3 & 40\\\\\n",
       "\t 0 & 3 & 33\\\\\n",
       "\t 0 & 3 & 46\\\\\n",
       "\\end{tabular}\n"
      ],
      "text/markdown": [
       "\n",
       "A tibble: 10 × 3\n",
       "\n",
       "| num_awards &lt;dbl&gt; | prog &lt;dbl&gt; | math &lt;dbl&gt; |\n",
       "|---|---|---|\n",
       "| 0 | 3 | 41 |\n",
       "| 0 | 1 | 41 |\n",
       "| 0 | 3 | 44 |\n",
       "| 0 | 3 | 42 |\n",
       "| 0 | 3 | 40 |\n",
       "| 0 | 1 | 42 |\n",
       "| 0 | 3 | 46 |\n",
       "| 0 | 3 | 40 |\n",
       "| 0 | 3 | 33 |\n",
       "| 0 | 3 | 46 |\n",
       "\n"
      ],
      "text/plain": [
       "   num_awards prog math\n",
       "1  0          3    41  \n",
       "2  0          1    41  \n",
       "3  0          3    44  \n",
       "4  0          3    42  \n",
       "5  0          3    40  \n",
       "6  0          1    42  \n",
       "7  0          3    46  \n",
       "8  0          3    40  \n",
       "9  0          3    33  \n",
       "10 0          3    46  "
      ]
     },
     "metadata": {},
     "output_type": "display_data"
    }
   ],
   "source": [
    "head(df,10)"
   ]
  },
  {
   "cell_type": "markdown",
   "id": "519a66b7",
   "metadata": {},
   "source": [
    "- program is a categorical data( 1,2,3 is type of program)\n",
    "- math is a continuous data(41,44,.. etc are scores)"
   ]
  },
  {
   "cell_type": "code",
   "execution_count": 7,
   "id": "c1f77b0b",
   "metadata": {},
   "outputs": [
    {
     "data": {
      "text/html": [
       "<style>\n",
       ".list-inline {list-style: none; margin:0; padding: 0}\n",
       ".list-inline>li {display: inline-block}\n",
       ".list-inline>li:not(:last-child)::after {content: \"\\00b7\"; padding: 0 .5ex}\n",
       "</style>\n",
       "<ol class=list-inline><li>0</li><li>1</li><li>3</li><li>2</li><li>5</li><li>4</li><li>6</li></ol>\n"
      ],
      "text/latex": [
       "\\begin{enumerate*}\n",
       "\\item 0\n",
       "\\item 1\n",
       "\\item 3\n",
       "\\item 2\n",
       "\\item 5\n",
       "\\item 4\n",
       "\\item 6\n",
       "\\end{enumerate*}\n"
      ],
      "text/markdown": [
       "1. 0\n",
       "2. 1\n",
       "3. 3\n",
       "4. 2\n",
       "5. 5\n",
       "6. 4\n",
       "7. 6\n",
       "\n",
       "\n"
      ],
      "text/plain": [
       "[1] 0 1 3 2 5 4 6"
      ]
     },
     "metadata": {},
     "output_type": "display_data"
    }
   ],
   "source": [
    "unique(df$num_awards)"
   ]
  },
  {
   "cell_type": "code",
   "execution_count": 8,
   "id": "eddf31f3",
   "metadata": {},
   "outputs": [
    {
     "data": {
      "text/html": [
       "0.476758793969849"
      ],
      "text/latex": [
       "0.476758793969849"
      ],
      "text/markdown": [
       "0.476758793969849"
      ],
      "text/plain": [
       "[1] 0.4767588"
      ]
     },
     "metadata": {},
     "output_type": "display_data"
    }
   ],
   "source": [
    "var(df$prog)"
   ]
  },
  {
   "cell_type": "code",
   "execution_count": 9,
   "id": "9054a73d",
   "metadata": {},
   "outputs": [
    {
     "data": {
      "text/html": [
       "1.1086432160804"
      ],
      "text/latex": [
       "1.1086432160804"
      ],
      "text/markdown": [
       "1.1086432160804"
      ],
      "text/plain": [
       "[1] 1.108643"
      ]
     },
     "metadata": {},
     "output_type": "display_data"
    }
   ],
   "source": [
    "var(df$num_awards)"
   ]
  },
  {
   "cell_type": "code",
   "execution_count": 10,
   "id": "40a1874d",
   "metadata": {},
   "outputs": [
    {
     "name": "stdout",
     "output_type": "stream",
     "text": [
      "tibble [200 x 3] (S3: tbl_df/tbl/data.frame)\n",
      " $ num_awards: num [1:200] 0 0 0 0 0 0 0 0 0 0 ...\n",
      " $ prog      : num [1:200] 3 1 3 3 3 1 3 3 3 3 ...\n",
      " $ math      : num [1:200] 41 41 44 42 40 42 46 40 33 46 ...\n"
     ]
    }
   ],
   "source": [
    "str(df)"
   ]
  },
  {
   "cell_type": "code",
   "execution_count": 11,
   "id": "6ff3ba28",
   "metadata": {},
   "outputs": [],
   "source": [
    "df$prog = as.factor(df$prog)"
   ]
  },
  {
   "cell_type": "code",
   "execution_count": 12,
   "id": "58ce5221",
   "metadata": {},
   "outputs": [
    {
     "name": "stdout",
     "output_type": "stream",
     "text": [
      "tibble [200 x 3] (S3: tbl_df/tbl/data.frame)\n",
      " $ num_awards: num [1:200] 0 0 0 0 0 0 0 0 0 0 ...\n",
      " $ prog      : Factor w/ 3 levels \"1\",\"2\",\"3\": 3 1 3 3 3 1 3 3 3 3 ...\n",
      " $ math      : num [1:200] 41 41 44 42 40 42 46 40 33 46 ...\n"
     ]
    }
   ],
   "source": [
    "str(df)"
   ]
  },
  {
   "cell_type": "code",
   "execution_count": 13,
   "id": "45291f1a",
   "metadata": {},
   "outputs": [
    {
     "data": {
      "text/html": [
       "124"
      ],
      "text/latex": [
       "124"
      ],
      "text/markdown": [
       "124"
      ],
      "text/plain": [
       "[1] 124"
      ]
     },
     "metadata": {},
     "output_type": "display_data"
    }
   ],
   "source": [
    "length(which(df$num_awards == 0))"
   ]
  },
  {
   "cell_type": "code",
   "execution_count": 14,
   "id": "9ec6a770",
   "metadata": {},
   "outputs": [
    {
     "data": {
      "text/html": [
       "173"
      ],
      "text/latex": [
       "173"
      ],
      "text/markdown": [
       "173"
      ],
      "text/plain": [
       "[1] 173"
      ]
     },
     "metadata": {},
     "output_type": "display_data"
    }
   ],
   "source": [
    "length(which(df$num_awards == 0|df$num_awards == 1))"
   ]
  },
  {
   "cell_type": "code",
   "execution_count": 15,
   "id": "77ecfb14",
   "metadata": {},
   "outputs": [
    {
     "data": {
      "text/html": [
       "<style>\n",
       ".list-inline {list-style: none; margin:0; padding: 0}\n",
       ".list-inline>li {display: inline-block}\n",
       ".list-inline>li:not(:last-child)::after {content: \"\\00b7\"; padding: 0 .5ex}\n",
       "</style>\n",
       "<ol class=list-inline><li>0</li><li>1</li><li>3</li><li>2</li><li>5</li><li>4</li><li>6</li></ol>\n"
      ],
      "text/latex": [
       "\\begin{enumerate*}\n",
       "\\item 0\n",
       "\\item 1\n",
       "\\item 3\n",
       "\\item 2\n",
       "\\item 5\n",
       "\\item 4\n",
       "\\item 6\n",
       "\\end{enumerate*}\n"
      ],
      "text/markdown": [
       "1. 0\n",
       "2. 1\n",
       "3. 3\n",
       "4. 2\n",
       "5. 5\n",
       "6. 4\n",
       "7. 6\n",
       "\n",
       "\n"
      ],
      "text/plain": [
       "[1] 0 1 3 2 5 4 6"
      ]
     },
     "metadata": {},
     "output_type": "display_data"
    }
   ],
   "source": [
    "unique(df$num_awards)"
   ]
  },
  {
   "cell_type": "code",
   "execution_count": 16,
   "id": "e6b4f9b8",
   "metadata": {},
   "outputs": [
    {
     "data": {
      "text/html": [
       "<table class=\"dataframe\">\n",
       "<caption>A tibble: 2 × 3</caption>\n",
       "<thead>\n",
       "\t<tr><th scope=col>num_awards</th><th scope=col>prog</th><th scope=col>math</th></tr>\n",
       "\t<tr><th scope=col>&lt;dbl&gt;</th><th scope=col>&lt;fct&gt;</th><th scope=col>&lt;dbl&gt;</th></tr>\n",
       "</thead>\n",
       "<tbody>\n",
       "\t<tr><td>5</td><td>2</td><td>61</td></tr>\n",
       "\t<tr><td>5</td><td>2</td><td>71</td></tr>\n",
       "</tbody>\n",
       "</table>\n"
      ],
      "text/latex": [
       "A tibble: 2 × 3\n",
       "\\begin{tabular}{lll}\n",
       " num\\_awards & prog & math\\\\\n",
       " <dbl> & <fct> & <dbl>\\\\\n",
       "\\hline\n",
       "\t 5 & 2 & 61\\\\\n",
       "\t 5 & 2 & 71\\\\\n",
       "\\end{tabular}\n"
      ],
      "text/markdown": [
       "\n",
       "A tibble: 2 × 3\n",
       "\n",
       "| num_awards &lt;dbl&gt; | prog &lt;fct&gt; | math &lt;dbl&gt; |\n",
       "|---|---|---|\n",
       "| 5 | 2 | 61 |\n",
       "| 5 | 2 | 71 |\n",
       "\n"
      ],
      "text/plain": [
       "  num_awards prog math\n",
       "1 5          2    61  \n",
       "2 5          2    71  "
      ]
     },
     "metadata": {},
     "output_type": "display_data"
    }
   ],
   "source": [
    "df[which(df$num_awards == 5),]"
   ]
  },
  {
   "cell_type": "code",
   "execution_count": 17,
   "id": "2e42a13c",
   "metadata": {},
   "outputs": [],
   "source": [
    "mod = glm(num_awards ~ prog + math, data = df, family = 'poisson')"
   ]
  },
  {
   "cell_type": "code",
   "execution_count": 18,
   "id": "2687af13",
   "metadata": {},
   "outputs": [
    {
     "data": {
      "text/plain": [
       "\n",
       "Call:\n",
       "glm(formula = num_awards ~ prog + math, family = \"poisson\", data = df)\n",
       "\n",
       "Deviance Residuals: \n",
       "    Min       1Q   Median       3Q      Max  \n",
       "-2.2043  -0.8436  -0.5106   0.2558   2.6796  \n",
       "\n",
       "Coefficients:\n",
       "            Estimate Std. Error z value Pr(>|z|)    \n",
       "(Intercept) -5.24712    0.65845  -7.969 1.60e-15 ***\n",
       "prog2        1.08386    0.35825   3.025  0.00248 ** \n",
       "prog3        0.36981    0.44107   0.838  0.40179    \n",
       "math         0.07015    0.01060   6.619 3.63e-11 ***\n",
       "---\n",
       "Signif. codes:  0 '***' 0.001 '**' 0.01 '*' 0.05 '.' 0.1 ' ' 1\n",
       "\n",
       "(Dispersion parameter for poisson family taken to be 1)\n",
       "\n",
       "    Null deviance: 287.67  on 199  degrees of freedom\n",
       "Residual deviance: 189.45  on 196  degrees of freedom\n",
       "AIC: 373.5\n",
       "\n",
       "Number of Fisher Scoring iterations: 6\n"
      ]
     },
     "metadata": {},
     "output_type": "display_data"
    }
   ],
   "source": [
    "summary(mod)"
   ]
  },
  {
   "cell_type": "code",
   "execution_count": 21,
   "id": "1e983b6d",
   "metadata": {},
   "outputs": [],
   "source": [
    "data = data.frame(prog=c('1','2','3'),math = 60)"
   ]
  },
  {
   "cell_type": "code",
   "execution_count": 22,
   "id": "fdbcd11c",
   "metadata": {},
   "outputs": [
    {
     "data": {
      "text/html": [
       "<style>\n",
       ".dl-inline {width: auto; margin:0; padding: 0}\n",
       ".dl-inline>dt, .dl-inline>dd {float: none; width: auto; display: inline-block}\n",
       ".dl-inline>dt::after {content: \":\\0020\"; padding-right: .5ex}\n",
       ".dl-inline>dt:not(:first-of-type) {padding-left: .5ex}\n",
       "</style><dl class=dl-inline><dt>1</dt><dd>0.354169187611336</dd><dt>2</dt><dd>1.04694730038951</dd><dt>3</dt><dd>0.512645185620289</dd></dl>\n"
      ],
      "text/latex": [
       "\\begin{description*}\n",
       "\\item[1] 0.354169187611336\n",
       "\\item[2] 1.04694730038951\n",
       "\\item[3] 0.512645185620289\n",
       "\\end{description*}\n"
      ],
      "text/markdown": [
       "1\n",
       ":   0.3541691876113362\n",
       ":   1.046947300389513\n",
       ":   0.512645185620289\n",
       "\n"
      ],
      "text/plain": [
       "        1         2         3 \n",
       "0.3541692 1.0469473 0.5126452 "
      ]
     },
     "metadata": {},
     "output_type": "display_data"
    }
   ],
   "source": [
    "predict(mod,data,type = 'response')"
   ]
  },
  {
   "cell_type": "code",
   "execution_count": 23,
   "id": "5f6749da",
   "metadata": {},
   "outputs": [],
   "source": [
    "data = data.frame(prog=c('2'),math = c(60,85))"
   ]
  },
  {
   "cell_type": "code",
   "execution_count": 24,
   "id": "07463971",
   "metadata": {},
   "outputs": [
    {
     "data": {
      "text/html": [
       "<style>\n",
       ".dl-inline {width: auto; margin:0; padding: 0}\n",
       ".dl-inline>dt, .dl-inline>dd {float: none; width: auto; display: inline-block}\n",
       ".dl-inline>dt::after {content: \":\\0020\"; padding-right: .5ex}\n",
       ".dl-inline>dt:not(:first-of-type) {padding-left: .5ex}\n",
       "</style><dl class=dl-inline><dt>1</dt><dd>1.04694730038951</dd><dt>2</dt><dd>6.04776349861754</dd></dl>\n"
      ],
      "text/latex": [
       "\\begin{description*}\n",
       "\\item[1] 1.04694730038951\n",
       "\\item[2] 6.04776349861754\n",
       "\\end{description*}\n"
      ],
      "text/markdown": [
       "1\n",
       ":   1.046947300389512\n",
       ":   6.04776349861754\n",
       "\n"
      ],
      "text/plain": [
       "       1        2 \n",
       "1.046947 6.047763 "
      ]
     },
     "metadata": {},
     "output_type": "display_data"
    }
   ],
   "source": [
    "predict(mod,data,type = 'response')"
   ]
  },
  {
   "cell_type": "code",
   "execution_count": 25,
   "id": "fb761484",
   "metadata": {},
   "outputs": [],
   "source": [
    "library(MASS)"
   ]
  },
  {
   "cell_type": "markdown",
   "id": "3d05786e",
   "metadata": {},
   "source": [
    "When counts in the response are over dispersed(variation is high. Use negative binomial regression"
   ]
  },
  {
   "cell_type": "code",
   "execution_count": 26,
   "id": "46da4c3d",
   "metadata": {},
   "outputs": [],
   "source": [
    "df = read_excel('CountsData.xlsx',sheet = 'neg_bin')"
   ]
  },
  {
   "cell_type": "code",
   "execution_count": 27,
   "id": "369b8afc",
   "metadata": {},
   "outputs": [
    {
     "data": {
      "text/html": [
       "<table class=\"dataframe\">\n",
       "<caption>A tibble: 6 × 3</caption>\n",
       "<thead>\n",
       "\t<tr><th scope=col>math</th><th scope=col>prog</th><th scope=col>daysabs</th></tr>\n",
       "\t<tr><th scope=col>&lt;dbl&gt;</th><th scope=col>&lt;chr&gt;</th><th scope=col>&lt;dbl&gt;</th></tr>\n",
       "</thead>\n",
       "<tbody>\n",
       "\t<tr><td>63</td><td>Academic</td><td> 4</td></tr>\n",
       "\t<tr><td>27</td><td>Academic</td><td> 4</td></tr>\n",
       "\t<tr><td>20</td><td>Academic</td><td> 2</td></tr>\n",
       "\t<tr><td>16</td><td>Academic</td><td> 3</td></tr>\n",
       "\t<tr><td> 2</td><td>Academic</td><td> 3</td></tr>\n",
       "\t<tr><td>71</td><td>Academic</td><td>13</td></tr>\n",
       "</tbody>\n",
       "</table>\n"
      ],
      "text/latex": [
       "A tibble: 6 × 3\n",
       "\\begin{tabular}{lll}\n",
       " math & prog & daysabs\\\\\n",
       " <dbl> & <chr> & <dbl>\\\\\n",
       "\\hline\n",
       "\t 63 & Academic &  4\\\\\n",
       "\t 27 & Academic &  4\\\\\n",
       "\t 20 & Academic &  2\\\\\n",
       "\t 16 & Academic &  3\\\\\n",
       "\t  2 & Academic &  3\\\\\n",
       "\t 71 & Academic & 13\\\\\n",
       "\\end{tabular}\n"
      ],
      "text/markdown": [
       "\n",
       "A tibble: 6 × 3\n",
       "\n",
       "| math &lt;dbl&gt; | prog &lt;chr&gt; | daysabs &lt;dbl&gt; |\n",
       "|---|---|---|\n",
       "| 63 | Academic |  4 |\n",
       "| 27 | Academic |  4 |\n",
       "| 20 | Academic |  2 |\n",
       "| 16 | Academic |  3 |\n",
       "|  2 | Academic |  3 |\n",
       "| 71 | Academic | 13 |\n",
       "\n"
      ],
      "text/plain": [
       "  math prog     daysabs\n",
       "1 63   Academic  4     \n",
       "2 27   Academic  4     \n",
       "3 20   Academic  2     \n",
       "4 16   Academic  3     \n",
       "5  2   Academic  3     \n",
       "6 71   Academic 13     "
      ]
     },
     "metadata": {},
     "output_type": "display_data"
    }
   ],
   "source": [
    "head(df)"
   ]
  },
  {
   "cell_type": "code",
   "execution_count": 29,
   "id": "150eb7e3",
   "metadata": {},
   "outputs": [],
   "source": [
    "df$prog = as.factor(df$prog)"
   ]
  },
  {
   "cell_type": "code",
   "execution_count": 30,
   "id": "564bddb4",
   "metadata": {},
   "outputs": [
    {
     "name": "stdout",
     "output_type": "stream",
     "text": [
      "tibble [314 x 3] (S3: tbl_df/tbl/data.frame)\n",
      " $ math   : num [1:314] 63 27 20 16 2 71 63 3 51 49 ...\n",
      " $ prog   : Factor w/ 3 levels \"Academic\",\"General\",..: 1 1 1 1 1 1 1 1 1 3 ...\n",
      " $ daysabs: num [1:314] 4 4 2 3 3 13 11 7 10 9 ...\n"
     ]
    }
   ],
   "source": [
    "str(df)"
   ]
  },
  {
   "cell_type": "code",
   "execution_count": 32,
   "id": "215a0c2e",
   "metadata": {},
   "outputs": [
    {
     "data": {
      "text/html": [
       "7.03695761758957"
      ],
      "text/latex": [
       "7.03695761758957"
      ],
      "text/markdown": [
       "7.03695761758957"
      ],
      "text/plain": [
       "[1] 7.036958"
      ]
     },
     "metadata": {},
     "output_type": "display_data"
    }
   ],
   "source": [
    "sd(df$daysabs)"
   ]
  },
  {
   "cell_type": "code",
   "execution_count": 33,
   "id": "30d85da1",
   "metadata": {},
   "outputs": [],
   "source": [
    "mod = glm.nb(daysabs ~ .,data = df)"
   ]
  },
  {
   "cell_type": "code",
   "execution_count": 34,
   "id": "838952c4",
   "metadata": {},
   "outputs": [
    {
     "data": {
      "text/plain": [
       "\n",
       "Call:\n",
       "glm.nb(formula = daysabs ~ ., data = df, init.theta = 1.032713156, \n",
       "    link = log)\n",
       "\n",
       "Deviance Residuals: \n",
       "    Min       1Q   Median       3Q      Max  \n",
       "-2.1547  -1.0192  -0.3694   0.2285   2.5273  \n",
       "\n",
       "Coefficients:\n",
       "                Estimate Std. Error z value Pr(>|z|)    \n",
       "(Intercept)     2.174505   0.133411  16.299  < 2e-16 ***\n",
       "math           -0.005993   0.002505  -2.392   0.0167 *  \n",
       "progGeneral     0.440760   0.182610   2.414   0.0158 *  \n",
       "progVocational -0.837891   0.144087  -5.815 6.06e-09 ***\n",
       "---\n",
       "Signif. codes:  0 '***' 0.001 '**' 0.01 '*' 0.05 '.' 0.1 ' ' 1\n",
       "\n",
       "(Dispersion parameter for Negative Binomial(1.0327) family taken to be 1)\n",
       "\n",
       "    Null deviance: 427.54  on 313  degrees of freedom\n",
       "Residual deviance: 358.52  on 310  degrees of freedom\n",
       "AIC: 1741.3\n",
       "\n",
       "Number of Fisher Scoring iterations: 1\n",
       "\n",
       "\n",
       "              Theta:  1.033 \n",
       "          Std. Err.:  0.106 \n",
       "\n",
       " 2 x log-likelihood:  -1731.258 "
      ]
     },
     "metadata": {},
     "output_type": "display_data"
    }
   ],
   "source": [
    "summary(mod)"
   ]
  },
  {
   "cell_type": "code",
   "execution_count": 35,
   "id": "d902dff7",
   "metadata": {},
   "outputs": [],
   "source": [
    "data = data.frame(prog = c('Academic','General','Vocational'),math = 60)"
   ]
  },
  {
   "cell_type": "code",
   "execution_count": 36,
   "id": "4052b5df",
   "metadata": {},
   "outputs": [
    {
     "data": {
      "text/html": [
       "<style>\n",
       ".dl-inline {width: auto; margin:0; padding: 0}\n",
       ".dl-inline>dt, .dl-inline>dd {float: none; width: auto; display: inline-block}\n",
       ".dl-inline>dt::after {content: \":\\0020\"; padding-right: .5ex}\n",
       ".dl-inline>dt:not(:first-of-type) {padding-left: .5ex}\n",
       "</style><dl class=dl-inline><dt>1</dt><dd>6.14062253523958</dd><dt>2</dt><dd>9.54183809322709</dd><dt>3</dt><dd>2.65656893932669</dd></dl>\n"
      ],
      "text/latex": [
       "\\begin{description*}\n",
       "\\item[1] 6.14062253523958\n",
       "\\item[2] 9.54183809322709\n",
       "\\item[3] 2.65656893932669\n",
       "\\end{description*}\n"
      ],
      "text/markdown": [
       "1\n",
       ":   6.140622535239582\n",
       ":   9.541838093227093\n",
       ":   2.65656893932669\n",
       "\n"
      ],
      "text/plain": [
       "       1        2        3 \n",
       "6.140623 9.541838 2.656569 "
      ]
     },
     "metadata": {},
     "output_type": "display_data"
    }
   ],
   "source": [
    "predict(mod,data,type = 'response')"
   ]
  },
  {
   "cell_type": "code",
   "execution_count": 39,
   "id": "2553075d",
   "metadata": {},
   "outputs": [],
   "source": [
    "df$prog = relevel(df$prog,ref = 'Academic')"
   ]
  },
  {
   "cell_type": "code",
   "execution_count": 40,
   "id": "782acfe9",
   "metadata": {},
   "outputs": [],
   "source": [
    "mod = glm.nb(daysabs ~ .,data = df)"
   ]
  },
  {
   "cell_type": "code",
   "execution_count": 41,
   "id": "f2a30d18",
   "metadata": {},
   "outputs": [
    {
     "data": {
      "text/plain": [
       "\n",
       "Call:\n",
       "glm.nb(formula = daysabs ~ ., data = df, init.theta = 1.032713156, \n",
       "    link = log)\n",
       "\n",
       "Deviance Residuals: \n",
       "    Min       1Q   Median       3Q      Max  \n",
       "-2.1547  -1.0192  -0.3694   0.2285   2.5273  \n",
       "\n",
       "Coefficients:\n",
       "                Estimate Std. Error z value Pr(>|z|)    \n",
       "(Intercept)     2.174505   0.133411  16.299  < 2e-16 ***\n",
       "math           -0.005993   0.002505  -2.392   0.0167 *  \n",
       "progGeneral     0.440760   0.182610   2.414   0.0158 *  \n",
       "progVocational -0.837891   0.144087  -5.815 6.06e-09 ***\n",
       "---\n",
       "Signif. codes:  0 '***' 0.001 '**' 0.01 '*' 0.05 '.' 0.1 ' ' 1\n",
       "\n",
       "(Dispersion parameter for Negative Binomial(1.0327) family taken to be 1)\n",
       "\n",
       "    Null deviance: 427.54  on 313  degrees of freedom\n",
       "Residual deviance: 358.52  on 310  degrees of freedom\n",
       "AIC: 1741.3\n",
       "\n",
       "Number of Fisher Scoring iterations: 1\n",
       "\n",
       "\n",
       "              Theta:  1.033 \n",
       "          Std. Err.:  0.106 \n",
       "\n",
       " 2 x log-likelihood:  -1731.258 "
      ]
     },
     "metadata": {},
     "output_type": "display_data"
    }
   ],
   "source": [
    "summary(mod)"
   ]
  },
  {
   "cell_type": "code",
   "execution_count": 42,
   "id": "e5b03259",
   "metadata": {},
   "outputs": [],
   "source": [
    "data = data.frame(prog = 'General',math = c(40,50,60,80))"
   ]
  },
  {
   "cell_type": "code",
   "execution_count": 43,
   "id": "e03066c5",
   "metadata": {},
   "outputs": [
    {
     "data": {
      "text/html": [
       "<style>\n",
       ".dl-inline {width: auto; margin:0; padding: 0}\n",
       ".dl-inline>dt, .dl-inline>dd {float: none; width: auto; display: inline-block}\n",
       ".dl-inline>dt::after {content: \":\\0020\"; padding-right: .5ex}\n",
       ".dl-inline>dt:not(:first-of-type) {padding-left: .5ex}\n",
       "</style><dl class=dl-inline><dt>1</dt><dd>10.7568838544397</dd><dt>2</dt><dd>10.1311620323984</dd><dt>3</dt><dd>9.54183809322709</dd><dt>4</dt><dd>8.46403804571918</dd></dl>\n"
      ],
      "text/latex": [
       "\\begin{description*}\n",
       "\\item[1] 10.7568838544397\n",
       "\\item[2] 10.1311620323984\n",
       "\\item[3] 9.54183809322709\n",
       "\\item[4] 8.46403804571918\n",
       "\\end{description*}\n"
      ],
      "text/markdown": [
       "1\n",
       ":   10.75688385443972\n",
       ":   10.13116203239843\n",
       ":   9.541838093227094\n",
       ":   8.46403804571918\n",
       "\n"
      ],
      "text/plain": [
       "        1         2         3         4 \n",
       "10.756884 10.131162  9.541838  8.464038 "
      ]
     },
     "metadata": {},
     "output_type": "display_data"
    }
   ],
   "source": [
    "predict(mod,data,type = 'response')"
   ]
  }
 ],
 "metadata": {
  "kernelspec": {
   "display_name": "R",
   "language": "R",
   "name": "ir"
  },
  "language_info": {
   "codemirror_mode": "r",
   "file_extension": ".r",
   "mimetype": "text/x-r-source",
   "name": "R",
   "pygments_lexer": "r",
   "version": "4.1.0"
  }
 },
 "nbformat": 4,
 "nbformat_minor": 5
}
