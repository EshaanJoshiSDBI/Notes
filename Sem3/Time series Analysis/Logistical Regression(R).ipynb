{
 "cells": [
  {
   "cell_type": "code",
   "execution_count": 1,
   "id": "8d777ca8",
   "metadata": {},
   "outputs": [
    {
     "data": {
      "text/html": [
       "<table class=\"dataframe\">\n",
       "<caption>A data.frame: 6 × 11</caption>\n",
       "<thead>\n",
       "\t<tr><th></th><th scope=col>mpg</th><th scope=col>cyl</th><th scope=col>disp</th><th scope=col>hp</th><th scope=col>drat</th><th scope=col>wt</th><th scope=col>qsec</th><th scope=col>vs</th><th scope=col>am</th><th scope=col>gear</th><th scope=col>carb</th></tr>\n",
       "\t<tr><th></th><th scope=col>&lt;dbl&gt;</th><th scope=col>&lt;dbl&gt;</th><th scope=col>&lt;dbl&gt;</th><th scope=col>&lt;dbl&gt;</th><th scope=col>&lt;dbl&gt;</th><th scope=col>&lt;dbl&gt;</th><th scope=col>&lt;dbl&gt;</th><th scope=col>&lt;dbl&gt;</th><th scope=col>&lt;dbl&gt;</th><th scope=col>&lt;dbl&gt;</th><th scope=col>&lt;dbl&gt;</th></tr>\n",
       "</thead>\n",
       "<tbody>\n",
       "\t<tr><th scope=row>Mazda RX4</th><td>21.0</td><td>6</td><td>160</td><td>110</td><td>3.90</td><td>2.620</td><td>16.46</td><td>0</td><td>1</td><td>4</td><td>4</td></tr>\n",
       "\t<tr><th scope=row>Mazda RX4 Wag</th><td>21.0</td><td>6</td><td>160</td><td>110</td><td>3.90</td><td>2.875</td><td>17.02</td><td>0</td><td>1</td><td>4</td><td>4</td></tr>\n",
       "\t<tr><th scope=row>Datsun 710</th><td>22.8</td><td>4</td><td>108</td><td> 93</td><td>3.85</td><td>2.320</td><td>18.61</td><td>1</td><td>1</td><td>4</td><td>1</td></tr>\n",
       "\t<tr><th scope=row>Hornet 4 Drive</th><td>21.4</td><td>6</td><td>258</td><td>110</td><td>3.08</td><td>3.215</td><td>19.44</td><td>1</td><td>0</td><td>3</td><td>1</td></tr>\n",
       "\t<tr><th scope=row>Hornet Sportabout</th><td>18.7</td><td>8</td><td>360</td><td>175</td><td>3.15</td><td>3.440</td><td>17.02</td><td>0</td><td>0</td><td>3</td><td>2</td></tr>\n",
       "\t<tr><th scope=row>Valiant</th><td>18.1</td><td>6</td><td>225</td><td>105</td><td>2.76</td><td>3.460</td><td>20.22</td><td>1</td><td>0</td><td>3</td><td>1</td></tr>\n",
       "</tbody>\n",
       "</table>\n"
      ],
      "text/latex": [
       "A data.frame: 6 × 11\n",
       "\\begin{tabular}{r|lllllllllll}\n",
       "  & mpg & cyl & disp & hp & drat & wt & qsec & vs & am & gear & carb\\\\\n",
       "  & <dbl> & <dbl> & <dbl> & <dbl> & <dbl> & <dbl> & <dbl> & <dbl> & <dbl> & <dbl> & <dbl>\\\\\n",
       "\\hline\n",
       "\tMazda RX4 & 21.0 & 6 & 160 & 110 & 3.90 & 2.620 & 16.46 & 0 & 1 & 4 & 4\\\\\n",
       "\tMazda RX4 Wag & 21.0 & 6 & 160 & 110 & 3.90 & 2.875 & 17.02 & 0 & 1 & 4 & 4\\\\\n",
       "\tDatsun 710 & 22.8 & 4 & 108 &  93 & 3.85 & 2.320 & 18.61 & 1 & 1 & 4 & 1\\\\\n",
       "\tHornet 4 Drive & 21.4 & 6 & 258 & 110 & 3.08 & 3.215 & 19.44 & 1 & 0 & 3 & 1\\\\\n",
       "\tHornet Sportabout & 18.7 & 8 & 360 & 175 & 3.15 & 3.440 & 17.02 & 0 & 0 & 3 & 2\\\\\n",
       "\tValiant & 18.1 & 6 & 225 & 105 & 2.76 & 3.460 & 20.22 & 1 & 0 & 3 & 1\\\\\n",
       "\\end{tabular}\n"
      ],
      "text/markdown": [
       "\n",
       "A data.frame: 6 × 11\n",
       "\n",
       "| <!--/--> | mpg &lt;dbl&gt; | cyl &lt;dbl&gt; | disp &lt;dbl&gt; | hp &lt;dbl&gt; | drat &lt;dbl&gt; | wt &lt;dbl&gt; | qsec &lt;dbl&gt; | vs &lt;dbl&gt; | am &lt;dbl&gt; | gear &lt;dbl&gt; | carb &lt;dbl&gt; |\n",
       "|---|---|---|---|---|---|---|---|---|---|---|---|\n",
       "| Mazda RX4 | 21.0 | 6 | 160 | 110 | 3.90 | 2.620 | 16.46 | 0 | 1 | 4 | 4 |\n",
       "| Mazda RX4 Wag | 21.0 | 6 | 160 | 110 | 3.90 | 2.875 | 17.02 | 0 | 1 | 4 | 4 |\n",
       "| Datsun 710 | 22.8 | 4 | 108 |  93 | 3.85 | 2.320 | 18.61 | 1 | 1 | 4 | 1 |\n",
       "| Hornet 4 Drive | 21.4 | 6 | 258 | 110 | 3.08 | 3.215 | 19.44 | 1 | 0 | 3 | 1 |\n",
       "| Hornet Sportabout | 18.7 | 8 | 360 | 175 | 3.15 | 3.440 | 17.02 | 0 | 0 | 3 | 2 |\n",
       "| Valiant | 18.1 | 6 | 225 | 105 | 2.76 | 3.460 | 20.22 | 1 | 0 | 3 | 1 |\n",
       "\n"
      ],
      "text/plain": [
       "                  mpg  cyl disp hp  drat wt    qsec  vs am gear carb\n",
       "Mazda RX4         21.0 6   160  110 3.90 2.620 16.46 0  1  4    4   \n",
       "Mazda RX4 Wag     21.0 6   160  110 3.90 2.875 17.02 0  1  4    4   \n",
       "Datsun 710        22.8 4   108   93 3.85 2.320 18.61 1  1  4    1   \n",
       "Hornet 4 Drive    21.4 6   258  110 3.08 3.215 19.44 1  0  3    1   \n",
       "Hornet Sportabout 18.7 8   360  175 3.15 3.440 17.02 0  0  3    2   \n",
       "Valiant           18.1 6   225  105 2.76 3.460 20.22 1  0  3    1   "
      ]
     },
     "metadata": {},
     "output_type": "display_data"
    }
   ],
   "source": [
    "head(mtcars)"
   ]
  },
  {
   "cell_type": "code",
   "execution_count": 2,
   "id": "d1cb84bf",
   "metadata": {},
   "outputs": [],
   "source": [
    "mtcars$cyl = as.factor(mtcars$cyl)"
   ]
  },
  {
   "cell_type": "code",
   "execution_count": 3,
   "id": "c30c058b",
   "metadata": {},
   "outputs": [],
   "source": [
    "mod2 = glm(am ~ cyl, data = mtcars, family = 'binomial')"
   ]
  },
  {
   "cell_type": "code",
   "execution_count": 4,
   "id": "5e97a0a8",
   "metadata": {},
   "outputs": [
    {
     "data": {
      "text/plain": [
       "\n",
       "Call:\n",
       "glm(formula = am ~ cyl, family = \"binomial\", data = mtcars)\n",
       "\n",
       "Deviance Residuals: \n",
       "    Min       1Q   Median       3Q      Max  \n",
       "-1.6120  -0.5553  -0.5553   0.7981   1.9728  \n",
       "\n",
       "Coefficients:\n",
       "            Estimate Std. Error z value Pr(>|z|)   \n",
       "(Intercept)   0.9808     0.6770   1.449   0.1474   \n",
       "cyl6         -1.2685     1.0206  -1.243   0.2139   \n",
       "cyl8         -2.7726     1.0206  -2.717   0.0066 **\n",
       "---\n",
       "Signif. codes:  0 '***' 0.001 '**' 0.01 '*' 0.05 '.' 0.1 ' ' 1\n",
       "\n",
       "(Dispersion parameter for binomial family taken to be 1)\n",
       "\n",
       "    Null deviance: 43.230  on 31  degrees of freedom\n",
       "Residual deviance: 33.935  on 29  degrees of freedom\n",
       "AIC: 39.935\n",
       "\n",
       "Number of Fisher Scoring iterations: 4\n"
      ]
     },
     "metadata": {},
     "output_type": "display_data"
    }
   ],
   "source": [
    "summary(mod2)"
   ]
  },
  {
   "cell_type": "markdown",
   "id": "4ca40347",
   "metadata": {},
   "source": [
    "- if # of cylinders are increased from 4 to 6 then chances of automatic transmission decreases\n",
    "- if # of cylinders are increased from 4 to 8 then chances of automatic transmission decreases further"
   ]
  },
  {
   "cell_type": "markdown",
   "id": "eaf85ea6",
   "metadata": {},
   "source": [
    "- Ho: Chances of automatic transmission doesn't change when # of cylinders are increased from 4 to 6\n",
    "- Ho: Chances of automatic transmission doesn't change when # of cylinders are increased from 4 to 8\n",
    "\n",
    "#### Conclusion\n",
    "_Change if # of cylinders from 4 to 8 has statistical significant change on the chances of the car having automatic transmission but change in # of cylinders from 4 to 6 does not_\n",
    "> i.e As number of cylinders increase the chances of the car having automatic transmission decreases (They are inversely proportional)"
   ]
  },
  {
   "cell_type": "code",
   "execution_count": 5,
   "id": "924e1424",
   "metadata": {},
   "outputs": [],
   "source": [
    "my_data = data.frame(cyl = c('4','6','8'))"
   ]
  },
  {
   "cell_type": "code",
   "execution_count": 6,
   "id": "9d45e1cf",
   "metadata": {},
   "outputs": [
    {
     "data": {
      "text/html": [
       "<style>\n",
       ".dl-inline {width: auto; margin:0; padding: 0}\n",
       ".dl-inline>dt, .dl-inline>dd {float: none; width: auto; display: inline-block}\n",
       ".dl-inline>dt::after {content: \":\\0020\"; padding-right: .5ex}\n",
       ".dl-inline>dt:not(:first-of-type) {padding-left: .5ex}\n",
       "</style><dl class=dl-inline><dt>1</dt><dd>0.727272727272216</dd><dt>2</dt><dd>0.428571428571428</dd><dt>3</dt><dd>0.142857142857149</dd></dl>\n"
      ],
      "text/latex": [
       "\\begin{description*}\n",
       "\\item[1] 0.727272727272216\n",
       "\\item[2] 0.428571428571428\n",
       "\\item[3] 0.142857142857149\n",
       "\\end{description*}\n"
      ],
      "text/markdown": [
       "1\n",
       ":   0.7272727272722162\n",
       ":   0.4285714285714283\n",
       ":   0.142857142857149\n",
       "\n"
      ],
      "text/plain": [
       "        1         2         3 \n",
       "0.7272727 0.4285714 0.1428571 "
      ]
     },
     "metadata": {},
     "output_type": "display_data"
    }
   ],
   "source": [
    "predict(mod2, my_data, type = 'response')"
   ]
  },
  {
   "cell_type": "markdown",
   "id": "4c31cd4c",
   "metadata": {},
   "source": [
    "- Car having 4 cylinders have ~73% chance of having automatic transmission\n",
    "- Car having 6 cylinders have ~43% chance of having automatic transmission\n",
    "- Car having 8 cylinders have ~14% chance of having automatic transmission"
   ]
  },
  {
   "cell_type": "markdown",
   "id": "b6fce013",
   "metadata": {},
   "source": [
    "## log of ods = ln(p)/ln(1-p)"
   ]
  },
  {
   "cell_type": "code",
   "execution_count": 8,
   "id": "de5634fa",
   "metadata": {},
   "outputs": [],
   "source": [
    "ln_odd4 = log(0.727272727272216)/log(1 - 0.727272727272216)\n",
    "ln_odd6 = log(0.428571428571428)/log(1 - 0.428571428571428)\n",
    "ln_odd8 = log(0.142857142857149)/log(1 - 0.142857142857149)"
   ]
  },
  {
   "cell_type": "code",
   "execution_count": 9,
   "id": "fa6c1396",
   "metadata": {},
   "outputs": [
    {
     "data": {
      "text/html": [
       "0.245099593398331"
      ],
      "text/latex": [
       "0.245099593398331"
      ],
      "text/markdown": [
       "0.245099593398331"
      ],
      "text/plain": [
       "[1] 0.2450996"
      ]
     },
     "metadata": {},
     "output_type": "display_data"
    }
   ],
   "source": [
    "ln_odd4"
   ]
  },
  {
   "cell_type": "code",
   "execution_count": 10,
   "id": "2809551b",
   "metadata": {},
   "outputs": [
    {
     "data": {
      "text/html": [
       "1.51407068680661"
      ],
      "text/latex": [
       "1.51407068680661"
      ],
      "text/markdown": [
       "1.51407068680661"
      ],
      "text/plain": [
       "[1] 1.514071"
      ]
     },
     "metadata": {},
     "output_type": "display_data"
    }
   ],
   "source": [
    "ln_odd6"
   ]
  },
  {
   "cell_type": "code",
   "execution_count": 11,
   "id": "60dfa0ba",
   "metadata": {},
   "outputs": [
    {
     "data": {
      "text/html": [
       "12.6234289153689"
      ],
      "text/latex": [
       "12.6234289153689"
      ],
      "text/markdown": [
       "12.6234289153689"
      ],
      "text/plain": [
       "[1] 12.62343"
      ]
     },
     "metadata": {},
     "output_type": "display_data"
    }
   ],
   "source": [
    "ln_odd8"
   ]
  },
  {
   "cell_type": "code",
   "execution_count": 12,
   "id": "29062283",
   "metadata": {},
   "outputs": [
    {
     "data": {
      "text/html": [
       "-1.26897109340828"
      ],
      "text/latex": [
       "-1.26897109340828"
      ],
      "text/markdown": [
       "-1.26897109340828"
      ],
      "text/plain": [
       "[1] -1.268971"
      ]
     },
     "metadata": {},
     "output_type": "display_data"
    }
   ],
   "source": [
    "ln_odd4 - ln_odd6"
   ]
  },
  {
   "cell_type": "markdown",
   "id": "12d4ea85",
   "metadata": {},
   "source": [
    "magnitude tells the change in log of odds, sign tells whether its a drop or a rise"
   ]
  },
  {
   "cell_type": "code",
   "execution_count": null,
   "id": "a73e1f2f",
   "metadata": {},
   "outputs": [],
   "source": []
  }
 ],
 "metadata": {
  "kernelspec": {
   "display_name": "R",
   "language": "R",
   "name": "ir"
  },
  "language_info": {
   "codemirror_mode": "r",
   "file_extension": ".r",
   "mimetype": "text/x-r-source",
   "name": "R",
   "pygments_lexer": "r",
   "version": "4.1.0"
  }
 },
 "nbformat": 4,
 "nbformat_minor": 5
}
