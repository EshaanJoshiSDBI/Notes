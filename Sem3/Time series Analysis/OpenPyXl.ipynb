{
 "cells": [
  {
   "cell_type": "code",
   "execution_count": 1,
   "id": "exterior-consequence",
   "metadata": {},
   "outputs": [],
   "source": [
    "import openpyxl as xl"
   ]
  },
  {
   "cell_type": "code",
   "execution_count": 2,
   "id": "modern-canadian",
   "metadata": {},
   "outputs": [],
   "source": [
    "wb = xl.load_workbook('temp.xlsx')\n",
    "ws = wb['India']"
   ]
  },
  {
   "cell_type": "code",
   "execution_count": 3,
   "id": "genetic-radius",
   "metadata": {},
   "outputs": [
    {
     "name": "stdout",
     "output_type": "stream",
     "text": [
      "Virat\n",
      "3434\n",
      "Virat\n",
      "6\n",
      "3\n"
     ]
    }
   ],
   "source": [
    "print(ws['A2'].value)\n",
    "print(ws['C2'].value)\n",
    "print(ws.cell(2,1).value)\n",
    "print(ws.max_row)\n",
    "print(ws.max_column)"
   ]
  },
  {
   "cell_type": "code",
   "execution_count": 5,
   "id": "rising-august",
   "metadata": {},
   "outputs": [
    {
     "name": "stdout",
     "output_type": "stream",
     "text": [
      "['Virat', 'Rohit', 'Sachin', 'Dhoni', 'Shikhar']\n"
     ]
    }
   ],
   "source": [
    "players = []\n",
    "# row numbers - 2,3,4,5,6\n",
    "# indexes - 1,2,3,4,5\n",
    "for i in range(2,ws.max_row + 1):\n",
    "    players.append(ws.cell(i,1).value)\n",
    "print(players)"
   ]
  },
  {
   "cell_type": "code",
   "execution_count": 7,
   "id": "premier-receiver",
   "metadata": {},
   "outputs": [
    {
     "name": "stdout",
     "output_type": "stream",
     "text": [
      "['Rohit', 'MI', 3674]\n"
     ]
    }
   ],
   "source": [
    "captain = []\n",
    "for i in range(1,ws.max_column + 1):\n",
    "    captain.append(ws.cell(3,i).value)\n",
    "print(captain)"
   ]
  },
  {
   "cell_type": "code",
   "execution_count": 11,
   "id": "prostate-mounting",
   "metadata": {},
   "outputs": [
    {
     "ename": "ValueError",
     "evalue": "too many values to unpack (expected 2)",
     "output_type": "error",
     "traceback": [
      "\u001b[0;31m---------------------------------------------------------------------------\u001b[0m",
      "\u001b[0;31mValueError\u001b[0m                                Traceback (most recent call last)",
      "\u001b[0;32m<ipython-input-11-c92e6930a64e>\u001b[0m in \u001b[0;36m<module>\u001b[0;34m\u001b[0m\n\u001b[1;32m      1\u001b[0m \u001b[0mtemp\u001b[0m \u001b[0;34m=\u001b[0m \u001b[0;34m[\u001b[0m\u001b[0;34m]\u001b[0m\u001b[0;34m\u001b[0m\u001b[0;34m\u001b[0m\u001b[0m\n\u001b[1;32m      2\u001b[0m \u001b[0mrow_nums\u001b[0m \u001b[0;34m=\u001b[0m \u001b[0;34m[\u001b[0m\u001b[0;36m2\u001b[0m\u001b[0;34m,\u001b[0m\u001b[0;36m3\u001b[0m\u001b[0;34m,\u001b[0m\u001b[0;36m5\u001b[0m\u001b[0;34m]\u001b[0m\u001b[0;34m\u001b[0m\u001b[0;34m\u001b[0m\u001b[0m\n\u001b[0;32m----> 3\u001b[0;31m \u001b[0;32mfor\u001b[0m \u001b[0mi\u001b[0m\u001b[0;34m,\u001b[0m\u001b[0mj\u001b[0m \u001b[0;32min\u001b[0m \u001b[0mrange\u001b[0m\u001b[0;34m(\u001b[0m\u001b[0;36m1\u001b[0m\u001b[0;34m,\u001b[0m\u001b[0mws\u001b[0m\u001b[0;34m.\u001b[0m\u001b[0mmax_row\u001b[0m \u001b[0;34m+\u001b[0m \u001b[0;36m1\u001b[0m\u001b[0;34m)\u001b[0m\u001b[0;34m,\u001b[0m\u001b[0mrange\u001b[0m\u001b[0;34m(\u001b[0m\u001b[0;36m1\u001b[0m\u001b[0;34m,\u001b[0m\u001b[0mws\u001b[0m\u001b[0;34m.\u001b[0m\u001b[0mmax_column\u001b[0m \u001b[0;34m+\u001b[0m \u001b[0;36m1\u001b[0m\u001b[0;34m)\u001b[0m\u001b[0;34m:\u001b[0m\u001b[0;34m\u001b[0m\u001b[0;34m\u001b[0m\u001b[0m\n\u001b[0m\u001b[1;32m      4\u001b[0m     \u001b[0;32mif\u001b[0m\u001b[0;34m(\u001b[0m\u001b[0mi\u001b[0m \u001b[0;32min\u001b[0m \u001b[0mrow_nums\u001b[0m\u001b[0;34m)\u001b[0m\u001b[0;34m:\u001b[0m\u001b[0;34m\u001b[0m\u001b[0;34m\u001b[0m\u001b[0m\n\u001b[1;32m      5\u001b[0m         \u001b[0mtemp\u001b[0m\u001b[0;34m.\u001b[0m\u001b[0mappend\u001b[0m\u001b[0;34m(\u001b[0m\u001b[0mws\u001b[0m\u001b[0;34m.\u001b[0m\u001b[0mcell\u001b[0m\u001b[0;34m(\u001b[0m\u001b[0mi\u001b[0m\u001b[0;34m,\u001b[0m\u001b[0;36m1\u001b[0m\u001b[0;34m)\u001b[0m\u001b[0;34m.\u001b[0m\u001b[0mvalue\u001b[0m\u001b[0;34m)\u001b[0m\u001b[0;34m\u001b[0m\u001b[0;34m\u001b[0m\u001b[0m\n",
      "\u001b[0;31mValueError\u001b[0m: too many values to unpack (expected 2)"
     ]
    }
   ],
   "source": [
    "temp = []\n",
    "row_nums = [2,3,5]\n",
    "for i,j in range(1,ws.max_row + 1),range(1,ws.max_column + 1):\n",
    "    if(i in row_nums):\n",
    "        temp.append(ws.cell(i,1).value)\n",
    "print(temp)"
   ]
  },
  {
   "cell_type": "code",
   "execution_count": 14,
   "id": "miniature-character",
   "metadata": {},
   "outputs": [
    {
     "name": "stdout",
     "output_type": "stream",
     "text": [
      "[]\n"
     ]
    }
   ],
   "source": [
    "for i in ws.iter_rows(1,1,ws.max_row,ws.max_column):\n",
    "    for ii in i:\n",
    "        temp.append(ii.value,end = '')\n",
    "print(temp)"
   ]
  },
  {
   "cell_type": "code",
   "execution_count": 23,
   "id": "optimum-volunteer",
   "metadata": {},
   "outputs": [],
   "source": [
    "wb2 = xl.load_workbook('SDBI1.xlsx')"
   ]
  },
  {
   "cell_type": "code",
   "execution_count": 24,
   "id": "higher-mayor",
   "metadata": {},
   "outputs": [],
   "source": [
    "ws2 = wb2['s1']"
   ]
  },
  {
   "cell_type": "code",
   "execution_count": 25,
   "id": "coupled-citizenship",
   "metadata": {},
   "outputs": [],
   "source": [
    "ws2['A1'] = 'Employee Name'\n",
    "ws2['B1'] = 'Employee Department'\n",
    "ws2['C1'] = 'Salary'"
   ]
  },
  {
   "cell_type": "code",
   "execution_count": 29,
   "id": "incorporate-traffic",
   "metadata": {},
   "outputs": [],
   "source": [
    "name = ['Eshaan','Sharvari','Ajitesh','Aditi']\n",
    "dept = ['Prodn','Quality','Sales','Admin']\n",
    "sala = [34,31,28,27]\n",
    "for i in range(len(name)):\n",
    "    ws2.cell(i+2,1).value = name[i]\n",
    "    ws2.cell(i+2,2).value = dept[i]\n",
    "    ws2.cell(i+2,3).value = sala[i]"
   ]
  },
  {
   "cell_type": "code",
   "execution_count": 31,
   "id": "limited-canyon",
   "metadata": {},
   "outputs": [
    {
     "name": "stdout",
     "output_type": "stream",
     "text": [
      "['Eshaan', 'Prodn', 34]\n"
     ]
    }
   ],
   "source": [
    "captain = []\n",
    "for i in range(1,ws2.max_column + 1):\n",
    "    captain.append(ws2.cell(2,i).value)\n",
    "print(captain)"
   ]
  }
 ],
 "metadata": {
  "kernelspec": {
   "display_name": "Python 3 (ipykernel)",
   "language": "python",
   "name": "python3"
  },
  "language_info": {
   "codemirror_mode": {
    "name": "ipython",
    "version": 3
   },
   "file_extension": ".py",
   "mimetype": "text/x-python",
   "name": "python",
   "nbconvert_exporter": "python",
   "pygments_lexer": "ipython3",
   "version": "3.9.6"
  }
 },
 "nbformat": 4,
 "nbformat_minor": 5
}
