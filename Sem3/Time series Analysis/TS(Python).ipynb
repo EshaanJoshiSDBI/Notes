{
 "cells": [
  {
   "cell_type": "markdown",
   "id": "bed1e325",
   "metadata": {},
   "source": [
    "# 2021/15/09"
   ]
  },
  {
   "cell_type": "code",
   "execution_count": 18,
   "id": "4004337f",
   "metadata": {},
   "outputs": [],
   "source": [
    "import pandas as pd\n",
    "import numpy as np\n",
    "import matplotlib.pyplot as plt\n",
    "from statsmodels.tsa.seasonal import seasonal_decompose"
   ]
  },
  {
   "cell_type": "code",
   "execution_count": 2,
   "id": "b4c0d365",
   "metadata": {},
   "outputs": [],
   "source": [
    "df = pd.read_excel('BirthRate.xlsx')"
   ]
  },
  {
   "cell_type": "code",
   "execution_count": 3,
   "id": "2b9d4cfd",
   "metadata": {},
   "outputs": [
    {
     "data": {
      "text/html": [
       "<div>\n",
       "<style scoped>\n",
       "    .dataframe tbody tr th:only-of-type {\n",
       "        vertical-align: middle;\n",
       "    }\n",
       "\n",
       "    .dataframe tbody tr th {\n",
       "        vertical-align: top;\n",
       "    }\n",
       "\n",
       "    .dataframe thead th {\n",
       "        text-align: right;\n",
       "    }\n",
       "</style>\n",
       "<table border=\"1\" class=\"dataframe\">\n",
       "  <thead>\n",
       "    <tr style=\"text-align: right;\">\n",
       "      <th></th>\n",
       "      <th>BirthRate</th>\n",
       "    </tr>\n",
       "  </thead>\n",
       "  <tbody>\n",
       "    <tr>\n",
       "      <th>0</th>\n",
       "      <td>26.663</td>\n",
       "    </tr>\n",
       "    <tr>\n",
       "      <th>1</th>\n",
       "      <td>23.598</td>\n",
       "    </tr>\n",
       "    <tr>\n",
       "      <th>2</th>\n",
       "      <td>26.931</td>\n",
       "    </tr>\n",
       "    <tr>\n",
       "      <th>3</th>\n",
       "      <td>24.740</td>\n",
       "    </tr>\n",
       "    <tr>\n",
       "      <th>4</th>\n",
       "      <td>25.806</td>\n",
       "    </tr>\n",
       "  </tbody>\n",
       "</table>\n",
       "</div>"
      ],
      "text/plain": [
       "   BirthRate\n",
       "0     26.663\n",
       "1     23.598\n",
       "2     26.931\n",
       "3     24.740\n",
       "4     25.806"
      ]
     },
     "execution_count": 3,
     "metadata": {},
     "output_type": "execute_result"
    }
   ],
   "source": [
    "df.head()"
   ]
  },
  {
   "cell_type": "code",
   "execution_count": 4,
   "id": "65ec32a4",
   "metadata": {},
   "outputs": [],
   "source": [
    "df['month'] = pd.date_range(start = '1/1/2005',periods = len(df),freq = 'M')"
   ]
  },
  {
   "cell_type": "code",
   "execution_count": 5,
   "id": "6e54af43",
   "metadata": {},
   "outputs": [
    {
     "data": {
      "text/html": [
       "<div>\n",
       "<style scoped>\n",
       "    .dataframe tbody tr th:only-of-type {\n",
       "        vertical-align: middle;\n",
       "    }\n",
       "\n",
       "    .dataframe tbody tr th {\n",
       "        vertical-align: top;\n",
       "    }\n",
       "\n",
       "    .dataframe thead th {\n",
       "        text-align: right;\n",
       "    }\n",
       "</style>\n",
       "<table border=\"1\" class=\"dataframe\">\n",
       "  <thead>\n",
       "    <tr style=\"text-align: right;\">\n",
       "      <th></th>\n",
       "      <th>BirthRate</th>\n",
       "      <th>month</th>\n",
       "    </tr>\n",
       "  </thead>\n",
       "  <tbody>\n",
       "    <tr>\n",
       "      <th>0</th>\n",
       "      <td>26.663</td>\n",
       "      <td>2005-01-31</td>\n",
       "    </tr>\n",
       "    <tr>\n",
       "      <th>1</th>\n",
       "      <td>23.598</td>\n",
       "      <td>2005-02-28</td>\n",
       "    </tr>\n",
       "    <tr>\n",
       "      <th>2</th>\n",
       "      <td>26.931</td>\n",
       "      <td>2005-03-31</td>\n",
       "    </tr>\n",
       "    <tr>\n",
       "      <th>3</th>\n",
       "      <td>24.740</td>\n",
       "      <td>2005-04-30</td>\n",
       "    </tr>\n",
       "    <tr>\n",
       "      <th>4</th>\n",
       "      <td>25.806</td>\n",
       "      <td>2005-05-31</td>\n",
       "    </tr>\n",
       "  </tbody>\n",
       "</table>\n",
       "</div>"
      ],
      "text/plain": [
       "   BirthRate      month\n",
       "0     26.663 2005-01-31\n",
       "1     23.598 2005-02-28\n",
       "2     26.931 2005-03-31\n",
       "3     24.740 2005-04-30\n",
       "4     25.806 2005-05-31"
      ]
     },
     "execution_count": 5,
     "metadata": {},
     "output_type": "execute_result"
    }
   ],
   "source": [
    "df.head()"
   ]
  },
  {
   "cell_type": "code",
   "execution_count": 7,
   "id": "bc2942c7",
   "metadata": {},
   "outputs": [],
   "source": [
    "df = df.set_index('month')"
   ]
  },
  {
   "cell_type": "code",
   "execution_count": 8,
   "id": "d947bba6",
   "metadata": {},
   "outputs": [
    {
     "data": {
      "text/html": [
       "<div>\n",
       "<style scoped>\n",
       "    .dataframe tbody tr th:only-of-type {\n",
       "        vertical-align: middle;\n",
       "    }\n",
       "\n",
       "    .dataframe tbody tr th {\n",
       "        vertical-align: top;\n",
       "    }\n",
       "\n",
       "    .dataframe thead th {\n",
       "        text-align: right;\n",
       "    }\n",
       "</style>\n",
       "<table border=\"1\" class=\"dataframe\">\n",
       "  <thead>\n",
       "    <tr style=\"text-align: right;\">\n",
       "      <th></th>\n",
       "      <th>BirthRate</th>\n",
       "    </tr>\n",
       "    <tr>\n",
       "      <th>month</th>\n",
       "      <th></th>\n",
       "    </tr>\n",
       "  </thead>\n",
       "  <tbody>\n",
       "    <tr>\n",
       "      <th>2005-01-31</th>\n",
       "      <td>26.663</td>\n",
       "    </tr>\n",
       "    <tr>\n",
       "      <th>2005-02-28</th>\n",
       "      <td>23.598</td>\n",
       "    </tr>\n",
       "    <tr>\n",
       "      <th>2005-03-31</th>\n",
       "      <td>26.931</td>\n",
       "    </tr>\n",
       "    <tr>\n",
       "      <th>2005-04-30</th>\n",
       "      <td>24.740</td>\n",
       "    </tr>\n",
       "    <tr>\n",
       "      <th>2005-05-31</th>\n",
       "      <td>25.806</td>\n",
       "    </tr>\n",
       "  </tbody>\n",
       "</table>\n",
       "</div>"
      ],
      "text/plain": [
       "            BirthRate\n",
       "month                \n",
       "2005-01-31     26.663\n",
       "2005-02-28     23.598\n",
       "2005-03-31     26.931\n",
       "2005-04-30     24.740\n",
       "2005-05-31     25.806"
      ]
     },
     "execution_count": 8,
     "metadata": {},
     "output_type": "execute_result"
    }
   ],
   "source": [
    "df.head()"
   ]
  },
  {
   "cell_type": "code",
   "execution_count": 9,
   "id": "6194cb8a",
   "metadata": {},
   "outputs": [],
   "source": [
    "birth_ts = df['BirthRate']"
   ]
  },
  {
   "cell_type": "code",
   "execution_count": 10,
   "id": "1e7a0e8b",
   "metadata": {},
   "outputs": [
    {
     "data": {
      "text/plain": [
       "month\n",
       "2005-01-31    26.663\n",
       "2005-02-28    23.598\n",
       "2005-03-31    26.931\n",
       "2005-04-30    24.740\n",
       "2005-05-31    25.806\n",
       "               ...  \n",
       "2018-08-31    30.000\n",
       "2018-09-30    29.261\n",
       "2018-10-31    29.012\n",
       "2018-11-30    26.992\n",
       "2018-12-31    27.897\n",
       "Name: BirthRate, Length: 168, dtype: float64"
      ]
     },
     "execution_count": 10,
     "metadata": {},
     "output_type": "execute_result"
    }
   ],
   "source": [
    "birth_ts"
   ]
  },
  {
   "cell_type": "code",
   "execution_count": 11,
   "id": "6625134a",
   "metadata": {},
   "outputs": [],
   "source": [
    "sales_data = [13,17,19,14,12,17,13,15,16,18,14]"
   ]
  },
  {
   "cell_type": "code",
   "execution_count": 13,
   "id": "f820352f",
   "metadata": {},
   "outputs": [],
   "source": [
    "ind = pd.date_range(start='2009',periods = len(sales_data),freq = 'A')"
   ]
  },
  {
   "cell_type": "code",
   "execution_count": 14,
   "id": "e7c24f7a",
   "metadata": {},
   "outputs": [],
   "source": [
    "my_ts = pd.Series(sales_data,index = ind)"
   ]
  },
  {
   "cell_type": "code",
   "execution_count": 15,
   "id": "c0ed0025",
   "metadata": {},
   "outputs": [
    {
     "data": {
      "text/plain": [
       "2009-12-31    13\n",
       "2010-12-31    17\n",
       "2011-12-31    19\n",
       "2012-12-31    14\n",
       "2013-12-31    12\n",
       "2014-12-31    17\n",
       "2015-12-31    13\n",
       "2016-12-31    15\n",
       "2017-12-31    16\n",
       "2018-12-31    18\n",
       "2019-12-31    14\n",
       "Freq: A-DEC, dtype: int64"
      ]
     },
     "execution_count": 15,
     "metadata": {},
     "output_type": "execute_result"
    }
   ],
   "source": [
    "my_ts"
   ]
  },
  {
   "cell_type": "code",
   "execution_count": 17,
   "id": "2f245077",
   "metadata": {},
   "outputs": [
    {
     "data": {
      "text/plain": [
       "[<matplotlib.lines.Line2D at 0x7fb73953a0d0>]"
      ]
     },
     "execution_count": 17,
     "metadata": {},
     "output_type": "execute_result"
    },
    {
     "data": {
      "image/png": "[encoded data removed]",
      "text/plain": [
       "<Figure size 432x288 with 1 Axes>"
      ]
     },
     "metadata": {
      "needs_background": "light"
     },
     "output_type": "display_data"
    }
   ],
   "source": [
    "plt.plot(birth_ts)"
   ]
  },
  {
   "cell_type": "code",
   "execution_count": 19,
   "id": "26617a20",
   "metadata": {},
   "outputs": [],
   "source": [
    "birth_comp = seasonal_decompose(df.BirthRate,model = 'additive')"
   ]
  },
  {
   "cell_type": "code",
   "execution_count": 25,
   "id": "cca82946",
   "metadata": {},
   "outputs": [
    {
     "data": {
      "text/plain": [
       "<AxesSubplot:xlabel='month'>"
      ]
     },
     "execution_count": 25,
     "metadata": {},
     "output_type": "execute_result"
    },
    {
     "data": {
      "image/png": "[encoded data removed]",
      "text/plain": [
       "<Figure size 432x288 with 1 Axes>"
      ]
     },
     "metadata": {
      "needs_background": "light"
     },
     "output_type": "display_data"
    }
   ],
   "source": [
    "birth_comp.trend.plot()"
   ]
  },
  {
   "cell_type": "code",
   "execution_count": 26,
   "id": "b10ed9ae",
   "metadata": {
    "scrolled": true
   },
   "outputs": [
    {
     "data": {
      "image/png": "[encoded data removed]",
      "text/plain": [
       "<Figure size 432x288 with 4 Axes>"
      ]
     },
     "execution_count": 26,
     "metadata": {},
     "output_type": "execute_result"
    },
    {
     "data": {
      "image/png": "[encoded data removed]",
      "text/plain": [
       "<Figure size 432x288 with 4 Axes>"
      ]
     },
     "metadata": {
      "needs_background": "light"
     },
     "output_type": "display_data"
    }
   ],
   "source": [
    "birth_comp.plot()"
   ]
  },
  {
   "cell_type": "code",
   "execution_count": 28,
   "id": "fe957a9b",
   "metadata": {},
   "outputs": [
    {
     "data": {
      "text/plain": [
       "array([        nan,         nan,         nan,         nan,         nan,\n",
       "               nan, 23.98433333, 23.662125  , 23.42333333, 23.161125  ,\n",
       "       22.86425   , 22.54520833, 22.3535    , 22.30870833, 22.30258333,\n",
       "       22.29479167, 22.29354167, 22.305625  , 22.33483333, 22.31166667,\n",
       "       22.26279167, 22.25795833, 22.27766667, 22.354     , 22.430375  ,\n",
       "       22.43666667, 22.38720833, 22.35241667, 22.32458333, 22.27458333,\n",
       "       22.23754167, 22.219875  , 22.16983333, 22.07720833, 22.01395833,\n",
       "       22.02604167, 22.06375   , 22.08033333, 22.13316667, 22.16604167,\n",
       "       22.17541667, 22.21341667, 22.27625   , 22.3575    , 22.488625  ,\n",
       "       22.70991667, 22.985625  , 23.16345833, 23.216625  , 23.26966667,\n",
       "       23.33491667, 23.42679167, 23.506375  , 23.57016667, 23.638875  ,\n",
       "       23.757125  , 23.86354167, 23.89533333, 23.87341667, 23.8815    ,\n",
       "       24.00083333, 24.1235    , 24.20916667, 24.28208333, 24.3545    ,\n",
       "       24.43241667, 24.49495833, 24.48379167, 24.43879167, 24.36829167,\n",
       "       24.29191667, 24.27641667, 24.27204167, 24.273     , 24.28941667,\n",
       "       24.30129167, 24.31325   , 24.35175   , 24.40558333, 24.44475   ,\n",
       "       24.49325   , 24.58516667, 24.70429167, 24.76016667, 24.78645833,\n",
       "       24.84991667, 24.92691667, 25.023625  , 25.16308333, 25.269625  ,\n",
       "       25.30154167, 25.34125   , 25.42779167, 25.575875  , 25.73904167,\n",
       "       25.875125  , 25.92445833, 25.92316667, 25.92966667, 25.921375  ,\n",
       "       25.89566667, 25.89458333, 25.929625  , 25.98245833, 26.01054167,\n",
       "       25.88616667, 25.670875  , 25.573125  , 25.646125  , 25.78679167,\n",
       "       25.93191667, 26.063875  , 26.16329167, 26.253875  , 26.35470833,\n",
       "       26.40495833, 26.45379167, 26.64933333, 26.95183333, 27.14683333,\n",
       "       27.21104167, 27.219     , 27.207     , 27.26925   , 27.3505    ,\n",
       "       27.37983333, 27.39975   , 27.4415    , 27.45229167, 27.43354167,\n",
       "       27.444875  , 27.46995833, 27.44220833, 27.40283333, 27.443     ,\n",
       "       27.45716667, 27.44429167, 27.48975   , 27.54354167, 27.56933333,\n",
       "       27.63166667, 27.67804167, 27.62579167, 27.612125  , 27.68641667,\n",
       "       27.76066667, 27.759625  , 27.710375  , 27.65783333, 27.58125   ,\n",
       "       27.49075   , 27.46183333, 27.422625  , 27.34175   , 27.25129167,\n",
       "       27.08558333, 26.96858333, 27.005125  , 27.0925    , 27.172625  ,\n",
       "       27.26208333, 27.36033333,         nan,         nan,         nan,\n",
       "               nan,         nan,         nan])"
      ]
     },
     "execution_count": 28,
     "metadata": {},
     "output_type": "execute_result"
    }
   ],
   "source": [
    "birth_comp.trend.values"
   ]
  },
  {
   "cell_type": "code",
   "execution_count": 29,
   "id": "9a1023da",
   "metadata": {},
   "outputs": [
    {
     "data": {
      "text/plain": [
       "array([-0.67719471, -2.08296074,  0.86252324, -0.80167869,  0.25165144,\n",
       "       -0.15325561,  1.45604567,  1.16459375,  0.69161619,  0.77524439,\n",
       "       -1.10976522, -0.37681971, -0.67719471, -2.08296074,  0.86252324,\n",
       "       -0.80167869,  0.25165144, -0.15325561,  1.45604567,  1.16459375,\n",
       "        0.69161619,  0.77524439, -1.10976522, -0.37681971, -0.67719471,\n",
       "       -2.08296074,  0.86252324, -0.80167869,  0.25165144, -0.15325561,\n",
       "        1.45604567,  1.16459375,  0.69161619,  0.77524439, -1.10976522,\n",
       "       -0.37681971, -0.67719471, -2.08296074,  0.86252324, -0.80167869,\n",
       "        0.25165144, -0.15325561,  1.45604567,  1.16459375,  0.69161619,\n",
       "        0.77524439, -1.10976522, -0.37681971, -0.67719471, -2.08296074,\n",
       "        0.86252324, -0.80167869,  0.25165144, -0.15325561,  1.45604567,\n",
       "        1.16459375,  0.69161619,  0.77524439, -1.10976522, -0.37681971,\n",
       "       -0.67719471, -2.08296074,  0.86252324, -0.80167869,  0.25165144,\n",
       "       -0.15325561,  1.45604567,  1.16459375,  0.69161619,  0.77524439,\n",
       "       -1.10976522, -0.37681971, -0.67719471, -2.08296074,  0.86252324,\n",
       "       -0.80167869,  0.25165144, -0.15325561,  1.45604567,  1.16459375,\n",
       "        0.69161619,  0.77524439, -1.10976522, -0.37681971, -0.67719471,\n",
       "       -2.08296074,  0.86252324, -0.80167869,  0.25165144, -0.15325561,\n",
       "        1.45604567,  1.16459375,  0.69161619,  0.77524439, -1.10976522,\n",
       "       -0.37681971, -0.67719471, -2.08296074,  0.86252324, -0.80167869,\n",
       "        0.25165144, -0.15325561,  1.45604567,  1.16459375,  0.69161619,\n",
       "        0.77524439, -1.10976522, -0.37681971, -0.67719471, -2.08296074,\n",
       "        0.86252324, -0.80167869,  0.25165144, -0.15325561,  1.45604567,\n",
       "        1.16459375,  0.69161619,  0.77524439, -1.10976522, -0.37681971,\n",
       "       -0.67719471, -2.08296074,  0.86252324, -0.80167869,  0.25165144,\n",
       "       -0.15325561,  1.45604567,  1.16459375,  0.69161619,  0.77524439,\n",
       "       -1.10976522, -0.37681971, -0.67719471, -2.08296074,  0.86252324,\n",
       "       -0.80167869,  0.25165144, -0.15325561,  1.45604567,  1.16459375,\n",
       "        0.69161619,  0.77524439, -1.10976522, -0.37681971, -0.67719471,\n",
       "       -2.08296074,  0.86252324, -0.80167869,  0.25165144, -0.15325561,\n",
       "        1.45604567,  1.16459375,  0.69161619,  0.77524439, -1.10976522,\n",
       "       -0.37681971, -0.67719471, -2.08296074,  0.86252324, -0.80167869,\n",
       "        0.25165144, -0.15325561,  1.45604567,  1.16459375,  0.69161619,\n",
       "        0.77524439, -1.10976522, -0.37681971])"
      ]
     },
     "execution_count": 29,
     "metadata": {},
     "output_type": "execute_result"
    }
   ],
   "source": [
    "birth_comp.seasonal.values"
   ]
  },
  {
   "cell_type": "code",
   "execution_count": 30,
   "id": "1598451e",
   "metadata": {},
   "outputs": [
    {
     "data": {
      "text/html": [
       "<div>\n",
       "<style scoped>\n",
       "    .dataframe tbody tr th:only-of-type {\n",
       "        vertical-align: middle;\n",
       "    }\n",
       "\n",
       "    .dataframe tbody tr th {\n",
       "        vertical-align: top;\n",
       "    }\n",
       "\n",
       "    .dataframe thead th {\n",
       "        text-align: right;\n",
       "    }\n",
       "</style>\n",
       "<table border=\"1\" class=\"dataframe\">\n",
       "  <thead>\n",
       "    <tr style=\"text-align: right;\">\n",
       "      <th></th>\n",
       "      <th>BirthRate</th>\n",
       "    </tr>\n",
       "    <tr>\n",
       "      <th>month</th>\n",
       "      <th></th>\n",
       "    </tr>\n",
       "  </thead>\n",
       "  <tbody>\n",
       "    <tr>\n",
       "      <th>2005-01-31</th>\n",
       "      <td>26.663</td>\n",
       "    </tr>\n",
       "    <tr>\n",
       "      <th>2005-02-28</th>\n",
       "      <td>23.598</td>\n",
       "    </tr>\n",
       "    <tr>\n",
       "      <th>2005-03-31</th>\n",
       "      <td>26.931</td>\n",
       "    </tr>\n",
       "    <tr>\n",
       "      <th>2005-04-30</th>\n",
       "      <td>24.740</td>\n",
       "    </tr>\n",
       "    <tr>\n",
       "      <th>2005-05-31</th>\n",
       "      <td>25.806</td>\n",
       "    </tr>\n",
       "    <tr>\n",
       "      <th>...</th>\n",
       "      <td>...</td>\n",
       "    </tr>\n",
       "    <tr>\n",
       "      <th>2018-08-31</th>\n",
       "      <td>30.000</td>\n",
       "    </tr>\n",
       "    <tr>\n",
       "      <th>2018-09-30</th>\n",
       "      <td>29.261</td>\n",
       "    </tr>\n",
       "    <tr>\n",
       "      <th>2018-10-31</th>\n",
       "      <td>29.012</td>\n",
       "    </tr>\n",
       "    <tr>\n",
       "      <th>2018-11-30</th>\n",
       "      <td>26.992</td>\n",
       "    </tr>\n",
       "    <tr>\n",
       "      <th>2018-12-31</th>\n",
       "      <td>27.897</td>\n",
       "    </tr>\n",
       "  </tbody>\n",
       "</table>\n",
       "<p>168 rows × 1 columns</p>\n",
       "</div>"
      ],
      "text/plain": [
       "            BirthRate\n",
       "month                \n",
       "2005-01-31     26.663\n",
       "2005-02-28     23.598\n",
       "2005-03-31     26.931\n",
       "2005-04-30     24.740\n",
       "2005-05-31     25.806\n",
       "...               ...\n",
       "2018-08-31     30.000\n",
       "2018-09-30     29.261\n",
       "2018-10-31     29.012\n",
       "2018-11-30     26.992\n",
       "2018-12-31     27.897\n",
       "\n",
       "[168 rows x 1 columns]"
      ]
     },
     "execution_count": 30,
     "metadata": {},
     "output_type": "execute_result"
    }
   ],
   "source": [
    "df"
   ]
  },
  {
   "cell_type": "markdown",
   "id": "3b1a1e83",
   "metadata": {},
   "source": [
    "## Naive method"
   ]
  },
  {
   "cell_type": "code",
   "execution_count": 34,
   "id": "41818d09",
   "metadata": {},
   "outputs": [],
   "source": [
    "my_list = [4,7,5,3,2,4,7,8,5,6,2,3]"
   ]
  },
  {
   "cell_type": "code",
   "execution_count": 32,
   "id": "552eeab2",
   "metadata": {},
   "outputs": [
    {
     "data": {
      "text/plain": [
       "3"
      ]
     },
     "execution_count": 32,
     "metadata": {},
     "output_type": "execute_result"
    }
   ],
   "source": [
    "my_list[3]"
   ]
  },
  {
   "cell_type": "code",
   "execution_count": 36,
   "id": "1fab572e",
   "metadata": {},
   "outputs": [],
   "source": [
    "my_list.append(my_list[-12])\n",
    "my_list.append(my_list[-12])"
   ]
  },
  {
   "cell_type": "code",
   "execution_count": 37,
   "id": "84d07278",
   "metadata": {},
   "outputs": [
    {
     "data": {
      "text/plain": [
       "[4, 7, 5, 3, 2, 4, 7, 8, 5, 6, 2, 3, 4, 7]"
      ]
     },
     "execution_count": 37,
     "metadata": {},
     "output_type": "execute_result"
    }
   ],
   "source": [
    "my_list"
   ]
  },
  {
   "cell_type": "code",
   "execution_count": 38,
   "id": "a0ac3872",
   "metadata": {},
   "outputs": [],
   "source": [
    "my_list.append(my_list[-12])"
   ]
  },
  {
   "cell_type": "code",
   "execution_count": 39,
   "id": "c3f9ec0d",
   "metadata": {},
   "outputs": [
    {
     "data": {
      "text/plain": [
       "[4, 7, 5, 3, 2, 4, 7, 8, 5, 6, 2, 3, 4, 7, 5]"
      ]
     },
     "execution_count": 39,
     "metadata": {},
     "output_type": "execute_result"
    }
   ],
   "source": [
    "my_list"
   ]
  },
  {
   "cell_type": "code",
   "execution_count": 40,
   "id": "0cf78b03",
   "metadata": {},
   "outputs": [
    {
     "data": {
      "text/plain": [
       "5"
      ]
     },
     "execution_count": 40,
     "metadata": {},
     "output_type": "execute_result"
    }
   ],
   "source": [
    "my_list[-1]"
   ]
  },
  {
   "cell_type": "markdown",
   "id": "1ec25652",
   "metadata": {},
   "source": [
    "## Seasonal Naive"
   ]
  },
  {
   "cell_type": "code",
   "execution_count": 41,
   "id": "ed87c7ac",
   "metadata": {},
   "outputs": [],
   "source": [
    "my_list.extend(my_list)"
   ]
  },
  {
   "cell_type": "code",
   "execution_count": 43,
   "id": "0e879d2b",
   "metadata": {},
   "outputs": [
    {
     "name": "stdout",
     "output_type": "stream",
     "text": [
      "[4, 7, 5, 3, 2, 4, 7, 8, 5, 6, 2, 3, 4, 7, 5, 4, 7, 5, 3, 2, 4, 7, 8, 5, 6, 2, 3, 4, 7, 5]\n"
     ]
    }
   ],
   "source": [
    "print(my_list)"
   ]
  },
  {
   "cell_type": "markdown",
   "id": "29416c92",
   "metadata": {},
   "source": [
    "## Simple Average Method\n",
    "- What happens next is the mean of the previous period"
   ]
  },
  {
   "cell_type": "code",
   "execution_count": 44,
   "id": "a5796845",
   "metadata": {},
   "outputs": [],
   "source": [
    "my_list = [4,7,5,3,2,4,7,8,5,6,2,3]"
   ]
  },
  {
   "cell_type": "code",
   "execution_count": 45,
   "id": "d68e9cce",
   "metadata": {},
   "outputs": [
    {
     "data": {
      "text/plain": [
       "4.666666666666667"
      ]
     },
     "execution_count": 45,
     "metadata": {},
     "output_type": "execute_result"
    }
   ],
   "source": [
    "np.mean(my_list)"
   ]
  },
  {
   "cell_type": "code",
   "execution_count": 46,
   "id": "85572bdd",
   "metadata": {},
   "outputs": [],
   "source": [
    "my_list.append(np.mean(my_list))"
   ]
  },
  {
   "cell_type": "code",
   "execution_count": 47,
   "id": "bbec1b63",
   "metadata": {},
   "outputs": [
    {
     "data": {
      "text/plain": [
       "[4, 7, 5, 3, 2, 4, 7, 8, 5, 6, 2, 3, 4.666666666666667]"
      ]
     },
     "execution_count": 47,
     "metadata": {},
     "output_type": "execute_result"
    }
   ],
   "source": [
    "my_list"
   ]
  },
  {
   "cell_type": "markdown",
   "id": "6d44516a",
   "metadata": {},
   "source": [
    "## Moving Average"
   ]
  },
  {
   "cell_type": "code",
   "execution_count": 48,
   "id": "6c7e0f69",
   "metadata": {},
   "outputs": [
    {
     "data": {
      "text/plain": [
       "month\n",
       "2005-01-31         NaN\n",
       "2005-02-28         NaN\n",
       "2005-03-31         NaN\n",
       "2005-04-30    25.48300\n",
       "2005-05-31    25.26875\n",
       "                ...   \n",
       "2018-08-31    27.70700\n",
       "2018-09-30    28.42275\n",
       "2018-10-31    29.28450\n",
       "2018-11-30    28.81625\n",
       "2018-12-31    28.29050\n",
       "Name: BirthRate, Length: 168, dtype: float64"
      ]
     },
     "execution_count": 48,
     "metadata": {},
     "output_type": "execute_result"
    }
   ],
   "source": [
    "df.BirthRate.rolling(4).mean()"
   ]
  }
 ],
 "metadata": {
  "kernelspec": {
   "display_name": "Python 3 (ipykernel)",
   "language": "python",
   "name": "python3"
  },
  "language_info": {
   "codemirror_mode": {
    "name": "ipython",
    "version": 3
   },
   "file_extension": ".py",
   "mimetype": "text/x-python",
   "name": "python",
   "nbconvert_exporter": "python",
   "pygments_lexer": "ipython3",
   "version": "3.9.5"
  }
 },
 "nbformat": 4,
 "nbformat_minor": 5
}
