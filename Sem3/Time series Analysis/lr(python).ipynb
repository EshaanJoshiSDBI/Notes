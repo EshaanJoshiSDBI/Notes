{
 "cells": [
  {
   "cell_type": "code",
   "execution_count": 1,
   "id": "scientific-domestic",
   "metadata": {},
   "outputs": [],
   "source": [
    "import pandas as pd\n",
    "import numpy as np\n",
    "import statsmodels as st\n",
    "import statsmodels.api as sm\n",
    "import statsmodels.formula.api as smf"
   ]
  },
  {
   "cell_type": "code",
   "execution_count": 2,
   "id": "serial-columbus",
   "metadata": {},
   "outputs": [],
   "source": [
    "from scipy import stats"
   ]
  },
  {
   "cell_type": "code",
   "execution_count": 3,
   "id": "decent-vacuum",
   "metadata": {},
   "outputs": [],
   "source": [
    "df = pd.read_excel('mult_regr.xlsx')"
   ]
  },
  {
   "cell_type": "code",
   "execution_count": 3,
   "id": "resistant-explorer",
   "metadata": {},
   "outputs": [
    {
     "data": {
      "text/html": [
       "<div>\n",
       "<style scoped>\n",
       "    .dataframe tbody tr th:only-of-type {\n",
       "        vertical-align: middle;\n",
       "    }\n",
       "\n",
       "    .dataframe tbody tr th {\n",
       "        vertical-align: top;\n",
       "    }\n",
       "\n",
       "    .dataframe thead th {\n",
       "        text-align: right;\n",
       "    }\n",
       "</style>\n",
       "<table border=\"1\" class=\"dataframe\">\n",
       "  <thead>\n",
       "    <tr style=\"text-align: right;\">\n",
       "      <th></th>\n",
       "      <th>HeatFlux</th>\n",
       "      <th>East</th>\n",
       "      <th>South</th>\n",
       "      <th>North</th>\n",
       "    </tr>\n",
       "  </thead>\n",
       "  <tbody>\n",
       "    <tr>\n",
       "      <th>0</th>\n",
       "      <td>271.8</td>\n",
       "      <td>33.53</td>\n",
       "      <td>40.55</td>\n",
       "      <td>16.66</td>\n",
       "    </tr>\n",
       "    <tr>\n",
       "      <th>1</th>\n",
       "      <td>264.0</td>\n",
       "      <td>36.50</td>\n",
       "      <td>36.19</td>\n",
       "      <td>16.46</td>\n",
       "    </tr>\n",
       "    <tr>\n",
       "      <th>2</th>\n",
       "      <td>238.8</td>\n",
       "      <td>34.66</td>\n",
       "      <td>37.31</td>\n",
       "      <td>17.66</td>\n",
       "    </tr>\n",
       "    <tr>\n",
       "      <th>3</th>\n",
       "      <td>230.7</td>\n",
       "      <td>33.13</td>\n",
       "      <td>32.52</td>\n",
       "      <td>17.50</td>\n",
       "    </tr>\n",
       "    <tr>\n",
       "      <th>4</th>\n",
       "      <td>251.6</td>\n",
       "      <td>35.75</td>\n",
       "      <td>33.71</td>\n",
       "      <td>16.40</td>\n",
       "    </tr>\n",
       "  </tbody>\n",
       "</table>\n",
       "</div>"
      ],
      "text/plain": [
       "   HeatFlux   East  South  North\n",
       "0     271.8  33.53  40.55  16.66\n",
       "1     264.0  36.50  36.19  16.46\n",
       "2     238.8  34.66  37.31  17.66\n",
       "3     230.7  33.13  32.52  17.50\n",
       "4     251.6  35.75  33.71  16.40"
      ]
     },
     "execution_count": 3,
     "metadata": {},
     "output_type": "execute_result"
    }
   ],
   "source": [
    "df.head()"
   ]
  },
  {
   "cell_type": "code",
   "execution_count": 4,
   "id": "confused-philip",
   "metadata": {},
   "outputs": [
    {
     "data": {
      "text/plain": [
       "(29, 4)"
      ]
     },
     "execution_count": 4,
     "metadata": {},
     "output_type": "execute_result"
    }
   ],
   "source": [
    "df.shape"
   ]
  },
  {
   "cell_type": "code",
   "execution_count": 7,
   "id": "bronze-particular",
   "metadata": {},
   "outputs": [],
   "source": [
    "flux = df[df.columns[0]]"
   ]
  },
  {
   "cell_type": "code",
   "execution_count": 9,
   "id": "baking-basin",
   "metadata": {},
   "outputs": [
    {
     "data": {
      "text/plain": [
       "0    271.8\n",
       "1    264.0\n",
       "2    238.8\n",
       "3    230.7\n",
       "4    251.6\n",
       "Name: HeatFlux, dtype: float64"
      ]
     },
     "execution_count": 9,
     "metadata": {},
     "output_type": "execute_result"
    }
   ],
   "source": [
    "flux.head()"
   ]
  },
  {
   "cell_type": "code",
   "execution_count": 10,
   "id": "beginning-ocean",
   "metadata": {},
   "outputs": [
    {
     "data": {
      "text/plain": [
       "0    271.8\n",
       "1    264.0\n",
       "2    238.8\n",
       "3    230.7\n",
       "Name: HeatFlux, dtype: float64"
      ]
     },
     "execution_count": 10,
     "metadata": {},
     "output_type": "execute_result"
    }
   ],
   "source": [
    "flux[:4]"
   ]
  },
  {
   "cell_type": "code",
   "execution_count": 11,
   "id": "contained-thunder",
   "metadata": {},
   "outputs": [],
   "source": [
    "flux = df.HeatFlux"
   ]
  },
  {
   "cell_type": "code",
   "execution_count": 13,
   "id": "buried-finance",
   "metadata": {},
   "outputs": [
    {
     "data": {
      "text/plain": [
       "0    271.8\n",
       "1    264.0\n",
       "2    238.8\n",
       "3    230.7\n",
       "4    251.6\n",
       "Name: HeatFlux, dtype: float64"
      ]
     },
     "execution_count": 13,
     "metadata": {},
     "output_type": "execute_result"
    }
   ],
   "source": [
    "flux.head()"
   ]
  },
  {
   "cell_type": "code",
   "execution_count": 14,
   "id": "musical-contribution",
   "metadata": {},
   "outputs": [
    {
     "data": {
      "text/plain": [
       "0    271.8\n",
       "1    264.0\n",
       "2    238.8\n",
       "3    230.7\n",
       "4    251.6\n",
       "Name: HeatFlux, dtype: float64"
      ]
     },
     "execution_count": 14,
     "metadata": {},
     "output_type": "execute_result"
    }
   ],
   "source": [
    "flux[:5]"
   ]
  },
  {
   "cell_type": "code",
   "execution_count": 18,
   "id": "statutory-snake",
   "metadata": {},
   "outputs": [],
   "source": [
    "factor1 = df.East\n",
    "factor3 = df.North\n",
    "factor2 = df.South"
   ]
  },
  {
   "cell_type": "code",
   "execution_count": 19,
   "id": "elementary-superintendent",
   "metadata": {},
   "outputs": [],
   "source": [
    "factor_table = np.column_stack((factor1,factor2,factor3))"
   ]
  },
  {
   "cell_type": "code",
   "execution_count": 20,
   "id": "outside-conservation",
   "metadata": {
    "scrolled": false
   },
   "outputs": [
    {
     "data": {
      "text/plain": [
       "array([[33.53, 40.55, 16.66],\n",
       "       [36.5 , 36.19, 16.46],\n",
       "       [34.66, 37.31, 17.66],\n",
       "       [33.13, 32.52, 17.5 ],\n",
       "       [35.75, 33.71, 16.4 ],\n",
       "       [34.46, 34.14, 16.28],\n",
       "       [34.6 , 34.85, 16.06],\n",
       "       [35.38, 35.89, 15.93],\n",
       "       [35.85, 33.53, 16.6 ],\n",
       "       [35.68, 33.79, 16.41],\n",
       "       [35.35, 34.72, 16.17],\n",
       "       [35.04, 35.22, 15.92],\n",
       "       [34.07, 36.5 , 16.04],\n",
       "       [32.2 , 37.6 , 16.19],\n",
       "       [34.32, 37.89, 16.62],\n",
       "       [31.08, 37.71, 17.37],\n",
       "       [35.73, 37.  , 18.12],\n",
       "       [34.11, 36.76, 18.53],\n",
       "       [34.79, 34.62, 15.54],\n",
       "       [35.77, 35.4 , 15.7 ],\n",
       "       [36.44, 35.96, 16.45],\n",
       "       [37.82, 36.26, 17.62],\n",
       "       [35.07, 36.34, 18.12],\n",
       "       [35.26, 35.9 , 19.05],\n",
       "       [35.56, 31.84, 16.51],\n",
       "       [35.73, 33.16, 16.02],\n",
       "       [36.46, 33.83, 15.89],\n",
       "       [36.26, 34.89, 15.83],\n",
       "       [37.2 , 36.27, 16.71]])"
      ]
     },
     "execution_count": 20,
     "metadata": {},
     "output_type": "execute_result"
    }
   ],
   "source": [
    "factor_table"
   ]
  },
  {
   "cell_type": "code",
   "execution_count": 22,
   "id": "careful-wisdom",
   "metadata": {},
   "outputs": [],
   "source": [
    "x = sm.add_constant(factor_table, prepend=True)"
   ]
  },
  {
   "cell_type": "code",
   "execution_count": 23,
   "id": "assigned-tablet",
   "metadata": {},
   "outputs": [
    {
     "data": {
      "text/plain": [
       "array([[ 1.  , 33.53, 40.55, 16.66],\n",
       "       [ 1.  , 36.5 , 36.19, 16.46],\n",
       "       [ 1.  , 34.66, 37.31, 17.66],\n",
       "       [ 1.  , 33.13, 32.52, 17.5 ],\n",
       "       [ 1.  , 35.75, 33.71, 16.4 ],\n",
       "       [ 1.  , 34.46, 34.14, 16.28],\n",
       "       [ 1.  , 34.6 , 34.85, 16.06],\n",
       "       [ 1.  , 35.38, 35.89, 15.93],\n",
       "       [ 1.  , 35.85, 33.53, 16.6 ],\n",
       "       [ 1.  , 35.68, 33.79, 16.41],\n",
       "       [ 1.  , 35.35, 34.72, 16.17],\n",
       "       [ 1.  , 35.04, 35.22, 15.92],\n",
       "       [ 1.  , 34.07, 36.5 , 16.04],\n",
       "       [ 1.  , 32.2 , 37.6 , 16.19],\n",
       "       [ 1.  , 34.32, 37.89, 16.62],\n",
       "       [ 1.  , 31.08, 37.71, 17.37],\n",
       "       [ 1.  , 35.73, 37.  , 18.12],\n",
       "       [ 1.  , 34.11, 36.76, 18.53],\n",
       "       [ 1.  , 34.79, 34.62, 15.54],\n",
       "       [ 1.  , 35.77, 35.4 , 15.7 ],\n",
       "       [ 1.  , 36.44, 35.96, 16.45],\n",
       "       [ 1.  , 37.82, 36.26, 17.62],\n",
       "       [ 1.  , 35.07, 36.34, 18.12],\n",
       "       [ 1.  , 35.26, 35.9 , 19.05],\n",
       "       [ 1.  , 35.56, 31.84, 16.51],\n",
       "       [ 1.  , 35.73, 33.16, 16.02],\n",
       "       [ 1.  , 36.46, 33.83, 15.89],\n",
       "       [ 1.  , 36.26, 34.89, 15.83],\n",
       "       [ 1.  , 37.2 , 36.27, 16.71]])"
      ]
     },
     "execution_count": 23,
     "metadata": {},
     "output_type": "execute_result"
    }
   ],
   "source": [
    "x"
   ]
  },
  {
   "cell_type": "code",
   "execution_count": 26,
   "id": "imposed-anchor",
   "metadata": {},
   "outputs": [],
   "source": [
    "results = sm.OLS(flux,x).fit()"
   ]
  },
  {
   "cell_type": "code",
   "execution_count": 27,
   "id": "blind-simple",
   "metadata": {},
   "outputs": [
    {
     "data": {
      "text/html": [
       "<table class=\"simpletable\">\n",
       "<caption>OLS Regression Results</caption>\n",
       "<tr>\n",
       "  <th>Dep. Variable:</th>        <td>HeatFlux</td>     <th>  R-squared:         </th> <td>   0.874</td>\n",
       "</tr>\n",
       "<tr>\n",
       "  <th>Model:</th>                   <td>OLS</td>       <th>  Adj. R-squared:    </th> <td>   0.859</td>\n",
       "</tr>\n",
       "<tr>\n",
       "  <th>Method:</th>             <td>Least Squares</td>  <th>  F-statistic:       </th> <td>   57.87</td>\n",
       "</tr>\n",
       "<tr>\n",
       "  <th>Date:</th>             <td>Fri, 02 Jul 2021</td> <th>  Prob (F-statistic):</th> <td>2.17e-11</td>\n",
       "</tr>\n",
       "<tr>\n",
       "  <th>Time:</th>                 <td>12:39:42</td>     <th>  Log-Likelihood:    </th> <td> -101.39</td>\n",
       "</tr>\n",
       "<tr>\n",
       "  <th>No. Observations:</th>      <td>    29</td>      <th>  AIC:               </th> <td>   210.8</td>\n",
       "</tr>\n",
       "<tr>\n",
       "  <th>Df Residuals:</th>          <td>    25</td>      <th>  BIC:               </th> <td>   216.3</td>\n",
       "</tr>\n",
       "<tr>\n",
       "  <th>Df Model:</th>              <td>     3</td>      <th>                     </th>     <td> </td>   \n",
       "</tr>\n",
       "<tr>\n",
       "  <th>Covariance Type:</th>      <td>nonrobust</td>    <th>                     </th>     <td> </td>   \n",
       "</tr>\n",
       "</table>\n",
       "<table class=\"simpletable\">\n",
       "<tr>\n",
       "    <td></td>       <th>coef</th>     <th>std err</th>      <th>t</th>      <th>P>|t|</th>  <th>[0.025</th>    <th>0.975]</th>  \n",
       "</tr>\n",
       "<tr>\n",
       "  <th>const</th> <td>  389.1659</td> <td>   66.094</td> <td>    5.888</td> <td> 0.000</td> <td>  253.043</td> <td>  525.288</td>\n",
       "</tr>\n",
       "<tr>\n",
       "  <th>x1</th>    <td>    2.1247</td> <td>    1.214</td> <td>    1.750</td> <td> 0.092</td> <td>   -0.376</td> <td>    4.626</td>\n",
       "</tr>\n",
       "<tr>\n",
       "  <th>x2</th>    <td>    5.3185</td> <td>    0.963</td> <td>    5.523</td> <td> 0.000</td> <td>    3.335</td> <td>    7.302</td>\n",
       "</tr>\n",
       "<tr>\n",
       "  <th>x3</th>    <td>  -24.1324</td> <td>    1.869</td> <td>  -12.915</td> <td> 0.000</td> <td>  -27.981</td> <td>  -20.284</td>\n",
       "</tr>\n",
       "</table>\n",
       "<table class=\"simpletable\">\n",
       "<tr>\n",
       "  <th>Omnibus:</th>       <td> 1.833</td> <th>  Durbin-Watson:     </th> <td>   1.484</td>\n",
       "</tr>\n",
       "<tr>\n",
       "  <th>Prob(Omnibus):</th> <td> 0.400</td> <th>  Jarque-Bera (JB):  </th> <td>   0.778</td>\n",
       "</tr>\n",
       "<tr>\n",
       "  <th>Skew:</th>          <td> 0.328</td> <th>  Prob(JB):          </th> <td>   0.678</td>\n",
       "</tr>\n",
       "<tr>\n",
       "  <th>Kurtosis:</th>      <td> 3.462</td> <th>  Cond. No.          </th> <td>2.18e+03</td>\n",
       "</tr>\n",
       "</table><br/><br/>Notes:<br/>[1] Standard Errors assume that the covariance matrix of the errors is correctly specified.<br/>[2] The condition number is large, 2.18e+03. This might indicate that there are<br/>strong multicollinearity or other numerical problems."
      ],
      "text/plain": [
       "<class 'statsmodels.iolib.summary.Summary'>\n",
       "\"\"\"\n",
       "                            OLS Regression Results                            \n",
       "==============================================================================\n",
       "Dep. Variable:               HeatFlux   R-squared:                       0.874\n",
       "Model:                            OLS   Adj. R-squared:                  0.859\n",
       "Method:                 Least Squares   F-statistic:                     57.87\n",
       "Date:                Fri, 02 Jul 2021   Prob (F-statistic):           2.17e-11\n",
       "Time:                        12:39:42   Log-Likelihood:                -101.39\n",
       "No. Observations:                  29   AIC:                             210.8\n",
       "Df Residuals:                      25   BIC:                             216.3\n",
       "Df Model:                           3                                         \n",
       "Covariance Type:            nonrobust                                         \n",
       "==============================================================================\n",
       "                 coef    std err          t      P>|t|      [0.025      0.975]\n",
       "------------------------------------------------------------------------------\n",
       "const        389.1659     66.094      5.888      0.000     253.043     525.288\n",
       "x1             2.1247      1.214      1.750      0.092      -0.376       4.626\n",
       "x2             5.3185      0.963      5.523      0.000       3.335       7.302\n",
       "x3           -24.1324      1.869    -12.915      0.000     -27.981     -20.284\n",
       "==============================================================================\n",
       "Omnibus:                        1.833   Durbin-Watson:                   1.484\n",
       "Prob(Omnibus):                  0.400   Jarque-Bera (JB):                0.778\n",
       "Skew:                           0.328   Prob(JB):                        0.678\n",
       "Kurtosis:                       3.462   Cond. No.                     2.18e+03\n",
       "==============================================================================\n",
       "\n",
       "Notes:\n",
       "[1] Standard Errors assume that the covariance matrix of the errors is correctly specified.\n",
       "[2] The condition number is large, 2.18e+03. This might indicate that there are\n",
       "strong multicollinearity or other numerical problems.\n",
       "\"\"\""
      ]
     },
     "execution_count": 27,
     "metadata": {},
     "output_type": "execute_result"
    }
   ],
   "source": [
    "results.summary()"
   ]
  },
  {
   "cell_type": "markdown",
   "id": "mighty-homework",
   "metadata": {},
   "source": [
    "heatflux = 2.1 * East + 5.3 * North - 24.1 * South + 389.16"
   ]
  },
  {
   "cell_type": "code",
   "execution_count": 1,
   "id": "abstract-insurance",
   "metadata": {},
   "outputs": [],
   "source": [
    "salary = [34.7,28.9,26.7,32.8,43.6,37.9,28.7]\n",
    "marks = [67.8,59.3,54.7,65.8,78.6,72.9,58.9]"
   ]
  },
  {
   "cell_type": "code",
   "execution_count": 6,
   "id": "intimate-helen",
   "metadata": {},
   "outputs": [
    {
     "data": {
      "text/plain": [
       "LinregressResult(slope=0.699363979179945, intercept=-12.429814637773546, rvalue=0.9928474346463362, pvalue=8.278321576159311e-06, stderr=0.037610030299421816, intercept_stderr=2.4783774749114253)"
      ]
     },
     "execution_count": 6,
     "metadata": {},
     "output_type": "execute_result"
    }
   ],
   "source": [
    "stats.linregress(marks,salary)"
   ]
  },
  {
   "cell_type": "markdown",
   "id": "mysterious-internet",
   "metadata": {},
   "source": [
    "y = 0.699 * x - 12.4298"
   ]
  },
  {
   "cell_type": "markdown",
   "id": "moral-colors",
   "metadata": {},
   "source": [
    "IF THE REGRESSION LINE OFTWO VARIABLES MAKES AN ACUTE ANGLE WITH THE X-AXIS IT INDICATES A POSITIVE CORRELATION AND THE SLOP OFTHE LINE WILL BE POSITIVE"
   ]
  },
  {
   "cell_type": "markdown",
   "id": "million-christian",
   "metadata": {},
   "source": [
    "R squared is the correlation coefficient.\n",
    "The sign of the correlation coefficient shows whether the correlation is positive or negative, a positive sign shows that there's a positive correlation and a negative sign shows that the correlation is negative.\n",
    "- Positive correlation means the variables are directly proportional\n",
    "- Negative correlation means the variables are inversely proportional\n",
    "\n",
    "The closer the mod of correlation is to 1 the stronger the correlation is\n",
    "\n",
    "i.e as |correlation coefficient| approaches 1 the correlation becomes stronger"
   ]
  },
  {
   "cell_type": "markdown",
   "id": "infinite-oriental",
   "metadata": {},
   "source": [
    "standard error = standard deviation / sqrt(n)\n",
    "\n",
    "it indicates the uncertainity in the prediction of the mean on the basis of the sample data"
   ]
  },
  {
   "cell_type": "markdown",
   "id": "difficult-action",
   "metadata": {},
   "source": [
    "Ho response does not depend on predictor"
   ]
  },
  {
   "cell_type": "code",
   "execution_count": 4,
   "id": "social-maldives",
   "metadata": {},
   "outputs": [
    {
     "data": {
      "text/html": [
       "<div>\n",
       "<style scoped>\n",
       "    .dataframe tbody tr th:only-of-type {\n",
       "        vertical-align: middle;\n",
       "    }\n",
       "\n",
       "    .dataframe tbody tr th {\n",
       "        vertical-align: top;\n",
       "    }\n",
       "\n",
       "    .dataframe thead th {\n",
       "        text-align: right;\n",
       "    }\n",
       "</style>\n",
       "<table border=\"1\" class=\"dataframe\">\n",
       "  <thead>\n",
       "    <tr style=\"text-align: right;\">\n",
       "      <th></th>\n",
       "      <th>HeatFlux</th>\n",
       "      <th>East</th>\n",
       "      <th>South</th>\n",
       "      <th>North</th>\n",
       "    </tr>\n",
       "  </thead>\n",
       "  <tbody>\n",
       "    <tr>\n",
       "      <th>0</th>\n",
       "      <td>271.8</td>\n",
       "      <td>33.53</td>\n",
       "      <td>40.55</td>\n",
       "      <td>16.66</td>\n",
       "    </tr>\n",
       "    <tr>\n",
       "      <th>1</th>\n",
       "      <td>264.0</td>\n",
       "      <td>36.50</td>\n",
       "      <td>36.19</td>\n",
       "      <td>16.46</td>\n",
       "    </tr>\n",
       "    <tr>\n",
       "      <th>2</th>\n",
       "      <td>238.8</td>\n",
       "      <td>34.66</td>\n",
       "      <td>37.31</td>\n",
       "      <td>17.66</td>\n",
       "    </tr>\n",
       "    <tr>\n",
       "      <th>3</th>\n",
       "      <td>230.7</td>\n",
       "      <td>33.13</td>\n",
       "      <td>32.52</td>\n",
       "      <td>17.50</td>\n",
       "    </tr>\n",
       "    <tr>\n",
       "      <th>4</th>\n",
       "      <td>251.6</td>\n",
       "      <td>35.75</td>\n",
       "      <td>33.71</td>\n",
       "      <td>16.40</td>\n",
       "    </tr>\n",
       "  </tbody>\n",
       "</table>\n",
       "</div>"
      ],
      "text/plain": [
       "   HeatFlux   East  South  North\n",
       "0     271.8  33.53  40.55  16.66\n",
       "1     264.0  36.50  36.19  16.46\n",
       "2     238.8  34.66  37.31  17.66\n",
       "3     230.7  33.13  32.52  17.50\n",
       "4     251.6  35.75  33.71  16.40"
      ]
     },
     "execution_count": 4,
     "metadata": {},
     "output_type": "execute_result"
    }
   ],
   "source": [
    "df.head()"
   ]
  },
  {
   "cell_type": "code",
   "execution_count": 5,
   "id": "forward-commercial",
   "metadata": {},
   "outputs": [],
   "source": [
    "resp = list(df.HeatFlux)"
   ]
  },
  {
   "cell_type": "code",
   "execution_count": 6,
   "id": "measured-costs",
   "metadata": {},
   "outputs": [],
   "source": [
    "east = list(df.East)\n",
    "south = list(df.South)\n",
    "north = list(df.North)"
   ]
  },
  {
   "cell_type": "code",
   "execution_count": 11,
   "id": "received-permission",
   "metadata": {},
   "outputs": [],
   "source": [
    "x = np.column_stack((east,north,south))\n",
    "x = sm.add_constant(x, prepend = True)"
   ]
  },
  {
   "cell_type": "code",
   "execution_count": 12,
   "id": "wireless-puzzle",
   "metadata": {},
   "outputs": [],
   "source": [
    "results = sm.OLS(resp,x).fit()"
   ]
  },
  {
   "cell_type": "code",
   "execution_count": 13,
   "id": "creative-infection",
   "metadata": {},
   "outputs": [
    {
     "data": {
      "text/html": [
       "<table class=\"simpletable\">\n",
       "<caption>OLS Regression Results</caption>\n",
       "<tr>\n",
       "  <th>Dep. Variable:</th>            <td>y</td>        <th>  R-squared:         </th> <td>   0.874</td>\n",
       "</tr>\n",
       "<tr>\n",
       "  <th>Model:</th>                   <td>OLS</td>       <th>  Adj. R-squared:    </th> <td>   0.859</td>\n",
       "</tr>\n",
       "<tr>\n",
       "  <th>Method:</th>             <td>Least Squares</td>  <th>  F-statistic:       </th> <td>   57.87</td>\n",
       "</tr>\n",
       "<tr>\n",
       "  <th>Date:</th>             <td>Tue, 06 Jul 2021</td> <th>  Prob (F-statistic):</th> <td>2.17e-11</td>\n",
       "</tr>\n",
       "<tr>\n",
       "  <th>Time:</th>                 <td>12:51:15</td>     <th>  Log-Likelihood:    </th> <td> -101.39</td>\n",
       "</tr>\n",
       "<tr>\n",
       "  <th>No. Observations:</th>      <td>    29</td>      <th>  AIC:               </th> <td>   210.8</td>\n",
       "</tr>\n",
       "<tr>\n",
       "  <th>Df Residuals:</th>          <td>    25</td>      <th>  BIC:               </th> <td>   216.3</td>\n",
       "</tr>\n",
       "<tr>\n",
       "  <th>Df Model:</th>              <td>     3</td>      <th>                     </th>     <td> </td>   \n",
       "</tr>\n",
       "<tr>\n",
       "  <th>Covariance Type:</th>      <td>nonrobust</td>    <th>                     </th>     <td> </td>   \n",
       "</tr>\n",
       "</table>\n",
       "<table class=\"simpletable\">\n",
       "<tr>\n",
       "    <td></td>       <th>coef</th>     <th>std err</th>      <th>t</th>      <th>P>|t|</th>  <th>[0.025</th>    <th>0.975]</th>  \n",
       "</tr>\n",
       "<tr>\n",
       "  <th>const</th> <td>  389.1659</td> <td>   66.094</td> <td>    5.888</td> <td> 0.000</td> <td>  253.043</td> <td>  525.288</td>\n",
       "</tr>\n",
       "<tr>\n",
       "  <th>x1</th>    <td>    2.1247</td> <td>    1.214</td> <td>    1.750</td> <td> 0.092</td> <td>   -0.376</td> <td>    4.626</td>\n",
       "</tr>\n",
       "<tr>\n",
       "  <th>x2</th>    <td>  -24.1324</td> <td>    1.869</td> <td>  -12.915</td> <td> 0.000</td> <td>  -27.981</td> <td>  -20.284</td>\n",
       "</tr>\n",
       "<tr>\n",
       "  <th>x3</th>    <td>    5.3185</td> <td>    0.963</td> <td>    5.523</td> <td> 0.000</td> <td>    3.335</td> <td>    7.302</td>\n",
       "</tr>\n",
       "</table>\n",
       "<table class=\"simpletable\">\n",
       "<tr>\n",
       "  <th>Omnibus:</th>       <td> 1.833</td> <th>  Durbin-Watson:     </th> <td>   1.484</td>\n",
       "</tr>\n",
       "<tr>\n",
       "  <th>Prob(Omnibus):</th> <td> 0.400</td> <th>  Jarque-Bera (JB):  </th> <td>   0.778</td>\n",
       "</tr>\n",
       "<tr>\n",
       "  <th>Skew:</th>          <td> 0.328</td> <th>  Prob(JB):          </th> <td>   0.678</td>\n",
       "</tr>\n",
       "<tr>\n",
       "  <th>Kurtosis:</th>      <td> 3.462</td> <th>  Cond. No.          </th> <td>2.18e+03</td>\n",
       "</tr>\n",
       "</table><br/><br/>Notes:<br/>[1] Standard Errors assume that the covariance matrix of the errors is correctly specified.<br/>[2] The condition number is large, 2.18e+03. This might indicate that there are<br/>strong multicollinearity or other numerical problems."
      ],
      "text/plain": [
       "<class 'statsmodels.iolib.summary.Summary'>\n",
       "\"\"\"\n",
       "                            OLS Regression Results                            \n",
       "==============================================================================\n",
       "Dep. Variable:                      y   R-squared:                       0.874\n",
       "Model:                            OLS   Adj. R-squared:                  0.859\n",
       "Method:                 Least Squares   F-statistic:                     57.87\n",
       "Date:                Tue, 06 Jul 2021   Prob (F-statistic):           2.17e-11\n",
       "Time:                        12:51:15   Log-Likelihood:                -101.39\n",
       "No. Observations:                  29   AIC:                             210.8\n",
       "Df Residuals:                      25   BIC:                             216.3\n",
       "Df Model:                           3                                         \n",
       "Covariance Type:            nonrobust                                         \n",
       "==============================================================================\n",
       "                 coef    std err          t      P>|t|      [0.025      0.975]\n",
       "------------------------------------------------------------------------------\n",
       "const        389.1659     66.094      5.888      0.000     253.043     525.288\n",
       "x1             2.1247      1.214      1.750      0.092      -0.376       4.626\n",
       "x2           -24.1324      1.869    -12.915      0.000     -27.981     -20.284\n",
       "x3             5.3185      0.963      5.523      0.000       3.335       7.302\n",
       "==============================================================================\n",
       "Omnibus:                        1.833   Durbin-Watson:                   1.484\n",
       "Prob(Omnibus):                  0.400   Jarque-Bera (JB):                0.778\n",
       "Skew:                           0.328   Prob(JB):                        0.678\n",
       "Kurtosis:                       3.462   Cond. No.                     2.18e+03\n",
       "==============================================================================\n",
       "\n",
       "Notes:\n",
       "[1] Standard Errors assume that the covariance matrix of the errors is correctly specified.\n",
       "[2] The condition number is large, 2.18e+03. This might indicate that there are\n",
       "strong multicollinearity or other numerical problems.\n",
       "\"\"\""
      ]
     },
     "execution_count": 13,
     "metadata": {},
     "output_type": "execute_result"
    }
   ],
   "source": [
    "results.summary()"
   ]
  },
  {
   "cell_type": "markdown",
   "id": "adequate-boston",
   "metadata": {},
   "source": [
    "There is a 95% chance that the const value will fall between 253.043 and 525.288"
   ]
  },
  {
   "cell_type": "markdown",
   "id": "disciplinary-accountability",
   "metadata": {},
   "source": [
    "As the interval reduces r-square increases, i.e model becomes more accurate"
   ]
  },
  {
   "cell_type": "markdown",
   "id": "pending-behalf",
   "metadata": {},
   "source": [
    "### Equation\n",
    "y = m1x1 + m2x2 + m3x3 + c"
   ]
  },
  {
   "cell_type": "markdown",
   "id": "embedded-insight",
   "metadata": {},
   "source": [
    "Heatflux = 2.12 * east - 24.13 * north + 5.31 * south + 389.16"
   ]
  }
 ],
 "metadata": {
  "kernelspec": {
   "display_name": "Python 3",
   "language": "python",
   "name": "python3"
  },
  "language_info": {
   "codemirror_mode": {
    "name": "ipython",
    "version": 3
   },
   "file_extension": ".py",
   "mimetype": "text/x-python",
   "name": "python",
   "nbconvert_exporter": "python",
   "pygments_lexer": "ipython3",
   "version": "3.9.5"
  }
 },
 "nbformat": 4,
 "nbformat_minor": 5
}
