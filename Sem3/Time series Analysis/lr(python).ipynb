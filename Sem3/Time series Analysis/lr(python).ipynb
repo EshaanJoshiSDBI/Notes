{
 "cells": [
  {
   "cell_type": "code",
   "execution_count": 1,
   "id": "scientific-domestic",
   "metadata": {},
   "outputs": [],
   "source": [
    "import pandas as pd\n",
    "import numpy as np\n",
    "import statsmodels as st\n",
    "import statsmodels.api as sm\n",
    "import statsmodels.formula.api as smf"
   ]
  },
  {
   "cell_type": "code",
   "execution_count": 2,
   "id": "serial-columbus",
   "metadata": {},
   "outputs": [],
   "source": [
    "from scipy import stats"
   ]
  },
  {
   "cell_type": "code",
   "execution_count": 2,
   "id": "decent-vacuum",
   "metadata": {},
   "outputs": [],
   "source": [
    "df = pd.read_excel('mult_regr.xlsx')"
   ]
  },
  {
   "cell_type": "code",
   "execution_count": 3,
   "id": "resistant-explorer",
   "metadata": {},
   "outputs": [
    {
     "data": {
      "text/html": [
       "<div>\n",
       "<style scoped>\n",
       "    .dataframe tbody tr th:only-of-type {\n",
       "        vertical-align: middle;\n",
       "    }\n",
       "\n",
       "    .dataframe tbody tr th {\n",
       "        vertical-align: top;\n",
       "    }\n",
       "\n",
       "    .dataframe thead th {\n",
       "        text-align: right;\n",
       "    }\n",
       "</style>\n",
       "<table border=\"1\" class=\"dataframe\">\n",
       "  <thead>\n",
       "    <tr style=\"text-align: right;\">\n",
       "      <th></th>\n",
       "      <th>HeatFlux</th>\n",
       "      <th>East</th>\n",
       "      <th>South</th>\n",
       "      <th>North</th>\n",
       "    </tr>\n",
       "  </thead>\n",
       "  <tbody>\n",
       "    <tr>\n",
       "      <th>0</th>\n",
       "      <td>271.8</td>\n",
       "      <td>33.53</td>\n",
       "      <td>40.55</td>\n",
       "      <td>16.66</td>\n",
       "    </tr>\n",
       "    <tr>\n",
       "      <th>1</th>\n",
       "      <td>264.0</td>\n",
       "      <td>36.50</td>\n",
       "      <td>36.19</td>\n",
       "      <td>16.46</td>\n",
       "    </tr>\n",
       "    <tr>\n",
       "      <th>2</th>\n",
       "      <td>238.8</td>\n",
       "      <td>34.66</td>\n",
       "      <td>37.31</td>\n",
       "      <td>17.66</td>\n",
       "    </tr>\n",
       "    <tr>\n",
       "      <th>3</th>\n",
       "      <td>230.7</td>\n",
       "      <td>33.13</td>\n",
       "      <td>32.52</td>\n",
       "      <td>17.50</td>\n",
       "    </tr>\n",
       "    <tr>\n",
       "      <th>4</th>\n",
       "      <td>251.6</td>\n",
       "      <td>35.75</td>\n",
       "      <td>33.71</td>\n",
       "      <td>16.40</td>\n",
       "    </tr>\n",
       "  </tbody>\n",
       "</table>\n",
       "</div>"
      ],
      "text/plain": [
       "   HeatFlux   East  South  North\n",
       "0     271.8  33.53  40.55  16.66\n",
       "1     264.0  36.50  36.19  16.46\n",
       "2     238.8  34.66  37.31  17.66\n",
       "3     230.7  33.13  32.52  17.50\n",
       "4     251.6  35.75  33.71  16.40"
      ]
     },
     "execution_count": 3,
     "metadata": {},
     "output_type": "execute_result"
    }
   ],
   "source": [
    "df.head()"
   ]
  },
  {
   "cell_type": "code",
   "execution_count": 4,
   "id": "confused-philip",
   "metadata": {},
   "outputs": [
    {
     "data": {
      "text/plain": [
       "(29, 4)"
      ]
     },
     "execution_count": 4,
     "metadata": {},
     "output_type": "execute_result"
    }
   ],
   "source": [
    "df.shape"
   ]
  },
  {
   "cell_type": "code",
   "execution_count": 7,
   "id": "bronze-particular",
   "metadata": {},
   "outputs": [],
   "source": [
    "flux = df[df.columns[0]]"
   ]
  },
  {
   "cell_type": "code",
   "execution_count": 9,
   "id": "baking-basin",
   "metadata": {},
   "outputs": [
    {
     "data": {
      "text/plain": [
       "0    271.8\n",
       "1    264.0\n",
       "2    238.8\n",
       "3    230.7\n",
       "4    251.6\n",
       "Name: HeatFlux, dtype: float64"
      ]
     },
     "execution_count": 9,
     "metadata": {},
     "output_type": "execute_result"
    }
   ],
   "source": [
    "flux.head()"
   ]
  },
  {
   "cell_type": "code",
   "execution_count": 10,
   "id": "beginning-ocean",
   "metadata": {},
   "outputs": [
    {
     "data": {
      "text/plain": [
       "0    271.8\n",
       "1    264.0\n",
       "2    238.8\n",
       "3    230.7\n",
       "Name: HeatFlux, dtype: float64"
      ]
     },
     "execution_count": 10,
     "metadata": {},
     "output_type": "execute_result"
    }
   ],
   "source": [
    "flux[:4]"
   ]
  },
  {
   "cell_type": "code",
   "execution_count": 11,
   "id": "contained-thunder",
   "metadata": {},
   "outputs": [],
   "source": [
    "flux = df.HeatFlux"
   ]
  },
  {
   "cell_type": "code",
   "execution_count": 13,
   "id": "buried-finance",
   "metadata": {},
   "outputs": [
    {
     "data": {
      "text/plain": [
       "0    271.8\n",
       "1    264.0\n",
       "2    238.8\n",
       "3    230.7\n",
       "4    251.6\n",
       "Name: HeatFlux, dtype: float64"
      ]
     },
     "execution_count": 13,
     "metadata": {},
     "output_type": "execute_result"
    }
   ],
   "source": [
    "flux.head()"
   ]
  },
  {
   "cell_type": "code",
   "execution_count": 14,
   "id": "musical-contribution",
   "metadata": {},
   "outputs": [
    {
     "data": {
      "text/plain": [
       "0    271.8\n",
       "1    264.0\n",
       "2    238.8\n",
       "3    230.7\n",
       "4    251.6\n",
       "Name: HeatFlux, dtype: float64"
      ]
     },
     "execution_count": 14,
     "metadata": {},
     "output_type": "execute_result"
    }
   ],
   "source": [
    "flux[:5]"
   ]
  },
  {
   "cell_type": "code",
   "execution_count": 18,
   "id": "statutory-snake",
   "metadata": {},
   "outputs": [],
   "source": [
    "factor1 = df.East\n",
    "factor3 = df.North\n",
    "factor2 = df.South"
   ]
  },
  {
   "cell_type": "code",
   "execution_count": 19,
   "id": "elementary-superintendent",
   "metadata": {},
   "outputs": [],
   "source": [
    "factor_table = np.column_stack((factor1,factor2,factor3))"
   ]
  },
  {
   "cell_type": "code",
   "execution_count": 20,
   "id": "outside-conservation",
   "metadata": {
    "scrolled": false
   },
   "outputs": [
    {
     "data": {
      "text/plain": [
       "array([[33.53, 40.55, 16.66],\n",
       "       [36.5 , 36.19, 16.46],\n",
       "       [34.66, 37.31, 17.66],\n",
       "       [33.13, 32.52, 17.5 ],\n",
       "       [35.75, 33.71, 16.4 ],\n",
       "       [34.46, 34.14, 16.28],\n",
       "       [34.6 , 34.85, 16.06],\n",
       "       [35.38, 35.89, 15.93],\n",
       "       [35.85, 33.53, 16.6 ],\n",
       "       [35.68, 33.79, 16.41],\n",
       "       [35.35, 34.72, 16.17],\n",
       "       [35.04, 35.22, 15.92],\n",
       "       [34.07, 36.5 , 16.04],\n",
       "       [32.2 , 37.6 , 16.19],\n",
       "       [34.32, 37.89, 16.62],\n",
       "       [31.08, 37.71, 17.37],\n",
       "       [35.73, 37.  , 18.12],\n",
       "       [34.11, 36.76, 18.53],\n",
       "       [34.79, 34.62, 15.54],\n",
       "       [35.77, 35.4 , 15.7 ],\n",
       "       [36.44, 35.96, 16.45],\n",
       "       [37.82, 36.26, 17.62],\n",
       "       [35.07, 36.34, 18.12],\n",
       "       [35.26, 35.9 , 19.05],\n",
       "       [35.56, 31.84, 16.51],\n",
       "       [35.73, 33.16, 16.02],\n",
       "       [36.46, 33.83, 15.89],\n",
       "       [36.26, 34.89, 15.83],\n",
       "       [37.2 , 36.27, 16.71]])"
      ]
     },
     "execution_count": 20,
     "metadata": {},
     "output_type": "execute_result"
    }
   ],
   "source": [
    "factor_table"
   ]
  },
  {
   "cell_type": "code",
   "execution_count": 22,
   "id": "careful-wisdom",
   "metadata": {},
   "outputs": [],
   "source": [
    "x = sm.add_constant(factor_table, prepend=True)"
   ]
  },
  {
   "cell_type": "code",
   "execution_count": 23,
   "id": "assigned-tablet",
   "metadata": {},
   "outputs": [
    {
     "data": {
      "text/plain": [
       "array([[ 1.  , 33.53, 40.55, 16.66],\n",
       "       [ 1.  , 36.5 , 36.19, 16.46],\n",
       "       [ 1.  , 34.66, 37.31, 17.66],\n",
       "       [ 1.  , 33.13, 32.52, 17.5 ],\n",
       "       [ 1.  , 35.75, 33.71, 16.4 ],\n",
       "       [ 1.  , 34.46, 34.14, 16.28],\n",
       "       [ 1.  , 34.6 , 34.85, 16.06],\n",
       "       [ 1.  , 35.38, 35.89, 15.93],\n",
       "       [ 1.  , 35.85, 33.53, 16.6 ],\n",
       "       [ 1.  , 35.68, 33.79, 16.41],\n",
       "       [ 1.  , 35.35, 34.72, 16.17],\n",
       "       [ 1.  , 35.04, 35.22, 15.92],\n",
       "       [ 1.  , 34.07, 36.5 , 16.04],\n",
       "       [ 1.  , 32.2 , 37.6 , 16.19],\n",
       "       [ 1.  , 34.32, 37.89, 16.62],\n",
       "       [ 1.  , 31.08, 37.71, 17.37],\n",
       "       [ 1.  , 35.73, 37.  , 18.12],\n",
       "       [ 1.  , 34.11, 36.76, 18.53],\n",
       "       [ 1.  , 34.79, 34.62, 15.54],\n",
       "       [ 1.  , 35.77, 35.4 , 15.7 ],\n",
       "       [ 1.  , 36.44, 35.96, 16.45],\n",
       "       [ 1.  , 37.82, 36.26, 17.62],\n",
       "       [ 1.  , 35.07, 36.34, 18.12],\n",
       "       [ 1.  , 35.26, 35.9 , 19.05],\n",
       "       [ 1.  , 35.56, 31.84, 16.51],\n",
       "       [ 1.  , 35.73, 33.16, 16.02],\n",
       "       [ 1.  , 36.46, 33.83, 15.89],\n",
       "       [ 1.  , 36.26, 34.89, 15.83],\n",
       "       [ 1.  , 37.2 , 36.27, 16.71]])"
      ]
     },
     "execution_count": 23,
     "metadata": {},
     "output_type": "execute_result"
    }
   ],
   "source": [
    "x"
   ]
  },
  {
   "cell_type": "code",
   "execution_count": 26,
   "id": "imposed-anchor",
   "metadata": {},
   "outputs": [],
   "source": [
    "results = sm.OLS(flux,x).fit()"
   ]
  },
  {
   "cell_type": "code",
   "execution_count": 27,
   "id": "blind-simple",
   "metadata": {},
   "outputs": [
    {
     "data": {
      "text/html": [
       "<table class=\"simpletable\">\n",
       "<caption>OLS Regression Results</caption>\n",
       "<tr>\n",
       "  <th>Dep. Variable:</th>        <td>HeatFlux</td>     <th>  R-squared:         </th> <td>   0.874</td>\n",
       "</tr>\n",
       "<tr>\n",
       "  <th>Model:</th>                   <td>OLS</td>       <th>  Adj. R-squared:    </th> <td>   0.859</td>\n",
       "</tr>\n",
       "<tr>\n",
       "  <th>Method:</th>             <td>Least Squares</td>  <th>  F-statistic:       </th> <td>   57.87</td>\n",
       "</tr>\n",
       "<tr>\n",
       "  <th>Date:</th>             <td>Fri, 02 Jul 2021</td> <th>  Prob (F-statistic):</th> <td>2.17e-11</td>\n",
       "</tr>\n",
       "<tr>\n",
       "  <th>Time:</th>                 <td>12:39:42</td>     <th>  Log-Likelihood:    </th> <td> -101.39</td>\n",
       "</tr>\n",
       "<tr>\n",
       "  <th>No. Observations:</th>      <td>    29</td>      <th>  AIC:               </th> <td>   210.8</td>\n",
       "</tr>\n",
       "<tr>\n",
       "  <th>Df Residuals:</th>          <td>    25</td>      <th>  BIC:               </th> <td>   216.3</td>\n",
       "</tr>\n",
       "<tr>\n",
       "  <th>Df Model:</th>              <td>     3</td>      <th>                     </th>     <td> </td>   \n",
       "</tr>\n",
       "<tr>\n",
       "  <th>Covariance Type:</th>      <td>nonrobust</td>    <th>                     </th>     <td> </td>   \n",
       "</tr>\n",
       "</table>\n",
       "<table class=\"simpletable\">\n",
       "<tr>\n",
       "    <td></td>       <th>coef</th>     <th>std err</th>      <th>t</th>      <th>P>|t|</th>  <th>[0.025</th>    <th>0.975]</th>  \n",
       "</tr>\n",
       "<tr>\n",
       "  <th>const</th> <td>  389.1659</td> <td>   66.094</td> <td>    5.888</td> <td> 0.000</td> <td>  253.043</td> <td>  525.288</td>\n",
       "</tr>\n",
       "<tr>\n",
       "  <th>x1</th>    <td>    2.1247</td> <td>    1.214</td> <td>    1.750</td> <td> 0.092</td> <td>   -0.376</td> <td>    4.626</td>\n",
       "</tr>\n",
       "<tr>\n",
       "  <th>x2</th>    <td>    5.3185</td> <td>    0.963</td> <td>    5.523</td> <td> 0.000</td> <td>    3.335</td> <td>    7.302</td>\n",
       "</tr>\n",
       "<tr>\n",
       "  <th>x3</th>    <td>  -24.1324</td> <td>    1.869</td> <td>  -12.915</td> <td> 0.000</td> <td>  -27.981</td> <td>  -20.284</td>\n",
       "</tr>\n",
       "</table>\n",
       "<table class=\"simpletable\">\n",
       "<tr>\n",
       "  <th>Omnibus:</th>       <td> 1.833</td> <th>  Durbin-Watson:     </th> <td>   1.484</td>\n",
       "</tr>\n",
       "<tr>\n",
       "  <th>Prob(Omnibus):</th> <td> 0.400</td> <th>  Jarque-Bera (JB):  </th> <td>   0.778</td>\n",
       "</tr>\n",
       "<tr>\n",
       "  <th>Skew:</th>          <td> 0.328</td> <th>  Prob(JB):          </th> <td>   0.678</td>\n",
       "</tr>\n",
       "<tr>\n",
       "  <th>Kurtosis:</th>      <td> 3.462</td> <th>  Cond. No.          </th> <td>2.18e+03</td>\n",
       "</tr>\n",
       "</table><br/><br/>Notes:<br/>[1] Standard Errors assume that the covariance matrix of the errors is correctly specified.<br/>[2] The condition number is large, 2.18e+03. This might indicate that there are<br/>strong multicollinearity or other numerical problems."
      ],
      "text/plain": [
       "<class 'statsmodels.iolib.summary.Summary'>\n",
       "\"\"\"\n",
       "                            OLS Regression Results                            \n",
       "==============================================================================\n",
       "Dep. Variable:               HeatFlux   R-squared:                       0.874\n",
       "Model:                            OLS   Adj. R-squared:                  0.859\n",
       "Method:                 Least Squares   F-statistic:                     57.87\n",
       "Date:                Fri, 02 Jul 2021   Prob (F-statistic):           2.17e-11\n",
       "Time:                        12:39:42   Log-Likelihood:                -101.39\n",
       "No. Observations:                  29   AIC:                             210.8\n",
       "Df Residuals:                      25   BIC:                             216.3\n",
       "Df Model:                           3                                         \n",
       "Covariance Type:            nonrobust                                         \n",
       "==============================================================================\n",
       "                 coef    std err          t      P>|t|      [0.025      0.975]\n",
       "------------------------------------------------------------------------------\n",
       "const        389.1659     66.094      5.888      0.000     253.043     525.288\n",
       "x1             2.1247      1.214      1.750      0.092      -0.376       4.626\n",
       "x2             5.3185      0.963      5.523      0.000       3.335       7.302\n",
       "x3           -24.1324      1.869    -12.915      0.000     -27.981     -20.284\n",
       "==============================================================================\n",
       "Omnibus:                        1.833   Durbin-Watson:                   1.484\n",
       "Prob(Omnibus):                  0.400   Jarque-Bera (JB):                0.778\n",
       "Skew:                           0.328   Prob(JB):                        0.678\n",
       "Kurtosis:                       3.462   Cond. No.                     2.18e+03\n",
       "==============================================================================\n",
       "\n",
       "Notes:\n",
       "[1] Standard Errors assume that the covariance matrix of the errors is correctly specified.\n",
       "[2] The condition number is large, 2.18e+03. This might indicate that there are\n",
       "strong multicollinearity or other numerical problems.\n",
       "\"\"\""
      ]
     },
     "execution_count": 27,
     "metadata": {},
     "output_type": "execute_result"
    }
   ],
   "source": [
    "results.summary()"
   ]
  },
  {
   "cell_type": "markdown",
   "id": "mighty-homework",
   "metadata": {},
   "source": [
    "heatflux = 2.1 * East + 5.3 * North - 24.1 * South + 389.16"
   ]
  },
  {
   "cell_type": "code",
   "execution_count": 1,
   "id": "abstract-insurance",
   "metadata": {},
   "outputs": [],
   "source": [
    "salary = [34.7,28.9,26.7,32.8,43.6,37.9,28.7]\n",
    "marks = [67.8,59.3,54.7,65.8,78.6,72.9,58.9]"
   ]
  },
  {
   "cell_type": "code",
   "execution_count": 6,
   "id": "intimate-helen",
   "metadata": {},
   "outputs": [
    {
     "data": {
      "text/plain": [
       "LinregressResult(slope=0.699363979179945, intercept=-12.429814637773546, rvalue=0.9928474346463362, pvalue=8.278321576159311e-06, stderr=0.037610030299421816, intercept_stderr=2.4783774749114253)"
      ]
     },
     "execution_count": 6,
     "metadata": {},
     "output_type": "execute_result"
    }
   ],
   "source": [
    "stats.linregress(marks,salary)"
   ]
  },
  {
   "cell_type": "markdown",
   "id": "mysterious-internet",
   "metadata": {},
   "source": [
    "y = 0.699 * x - 12.4298"
   ]
  },
  {
   "cell_type": "markdown",
   "id": "moral-colors",
   "metadata": {},
   "source": [
    "IF THE REGRESSION LINE OFTWO VARIABLES MAKES AN ACUTE ANGLE WITH THE X-AXIS IT INDICATES A POSITIVE CORRELATION AND THE SLOP OFTHE LINE WILL BE POSITIVE"
   ]
  },
  {
   "cell_type": "markdown",
   "id": "million-christian",
   "metadata": {},
   "source": [
    "R squared is the correlation coefficient.\n",
    "The sign of the correlation coefficient shows whether the correlation is positive or negative, a positive sign shows that there's a positive correlation and a negative sign shows that the correlation is negative.\n",
    "- Positive correlation means the variables are directly proportional\n",
    "- Negative correlation means the variables are inversely proportional\n",
    "\n",
    "The closer the mod of correlation is to 1 the stronger the correlation is\n",
    "\n",
    "i.e as |correlation coefficient| approaches 1 the correlation becomes stronger"
   ]
  },
  {
   "cell_type": "markdown",
   "id": "infinite-oriental",
   "metadata": {},
   "source": [
    "standard error = standard deviation / sqrt(n)\n",
    "\n",
    "it indicates the uncertainity in the prediction of the mean on the basis of the sample data"
   ]
  },
  {
   "cell_type": "markdown",
   "id": "difficult-action",
   "metadata": {},
   "source": [
    "Ho response does not depend on predictor"
   ]
  },
  {
   "cell_type": "code",
   "execution_count": 4,
   "id": "social-maldives",
   "metadata": {},
   "outputs": [
    {
     "data": {
      "text/html": [
       "<div>\n",
       "<style scoped>\n",
       "    .dataframe tbody tr th:only-of-type {\n",
       "        vertical-align: middle;\n",
       "    }\n",
       "\n",
       "    .dataframe tbody tr th {\n",
       "        vertical-align: top;\n",
       "    }\n",
       "\n",
       "    .dataframe thead th {\n",
       "        text-align: right;\n",
       "    }\n",
       "</style>\n",
       "<table border=\"1\" class=\"dataframe\">\n",
       "  <thead>\n",
       "    <tr style=\"text-align: right;\">\n",
       "      <th></th>\n",
       "      <th>HeatFlux</th>\n",
       "      <th>East</th>\n",
       "      <th>South</th>\n",
       "      <th>North</th>\n",
       "    </tr>\n",
       "  </thead>\n",
       "  <tbody>\n",
       "    <tr>\n",
       "      <th>0</th>\n",
       "      <td>271.8</td>\n",
       "      <td>33.53</td>\n",
       "      <td>40.55</td>\n",
       "      <td>16.66</td>\n",
       "    </tr>\n",
       "    <tr>\n",
       "      <th>1</th>\n",
       "      <td>264.0</td>\n",
       "      <td>36.50</td>\n",
       "      <td>36.19</td>\n",
       "      <td>16.46</td>\n",
       "    </tr>\n",
       "    <tr>\n",
       "      <th>2</th>\n",
       "      <td>238.8</td>\n",
       "      <td>34.66</td>\n",
       "      <td>37.31</td>\n",
       "      <td>17.66</td>\n",
       "    </tr>\n",
       "    <tr>\n",
       "      <th>3</th>\n",
       "      <td>230.7</td>\n",
       "      <td>33.13</td>\n",
       "      <td>32.52</td>\n",
       "      <td>17.50</td>\n",
       "    </tr>\n",
       "    <tr>\n",
       "      <th>4</th>\n",
       "      <td>251.6</td>\n",
       "      <td>35.75</td>\n",
       "      <td>33.71</td>\n",
       "      <td>16.40</td>\n",
       "    </tr>\n",
       "  </tbody>\n",
       "</table>\n",
       "</div>"
      ],
      "text/plain": [
       "   HeatFlux   East  South  North\n",
       "0     271.8  33.53  40.55  16.66\n",
       "1     264.0  36.50  36.19  16.46\n",
       "2     238.8  34.66  37.31  17.66\n",
       "3     230.7  33.13  32.52  17.50\n",
       "4     251.6  35.75  33.71  16.40"
      ]
     },
     "execution_count": 4,
     "metadata": {},
     "output_type": "execute_result"
    }
   ],
   "source": [
    "df.head()"
   ]
  },
  {
   "cell_type": "code",
   "execution_count": 5,
   "id": "forward-commercial",
   "metadata": {},
   "outputs": [],
   "source": [
    "resp = list(df.HeatFlux)"
   ]
  },
  {
   "cell_type": "code",
   "execution_count": 6,
   "id": "measured-costs",
   "metadata": {},
   "outputs": [],
   "source": [
    "east = list(df.East)\n",
    "south = list(df.South)\n",
    "north = list(df.North)"
   ]
  },
  {
   "cell_type": "code",
   "execution_count": 11,
   "id": "received-permission",
   "metadata": {},
   "outputs": [],
   "source": [
    "x = np.column_stack((east,north,south))\n",
    "x = sm.add_constant(x, prepend = True)"
   ]
  },
  {
   "cell_type": "code",
   "execution_count": 12,
   "id": "wireless-puzzle",
   "metadata": {},
   "outputs": [],
   "source": [
    "results = sm.OLS(resp,x).fit()"
   ]
  },
  {
   "cell_type": "code",
   "execution_count": 13,
   "id": "creative-infection",
   "metadata": {},
   "outputs": [
    {
     "data": {
      "text/html": [
       "<table class=\"simpletable\">\n",
       "<caption>OLS Regression Results</caption>\n",
       "<tr>\n",
       "  <th>Dep. Variable:</th>            <td>y</td>        <th>  R-squared:         </th> <td>   0.874</td>\n",
       "</tr>\n",
       "<tr>\n",
       "  <th>Model:</th>                   <td>OLS</td>       <th>  Adj. R-squared:    </th> <td>   0.859</td>\n",
       "</tr>\n",
       "<tr>\n",
       "  <th>Method:</th>             <td>Least Squares</td>  <th>  F-statistic:       </th> <td>   57.87</td>\n",
       "</tr>\n",
       "<tr>\n",
       "  <th>Date:</th>             <td>Tue, 06 Jul 2021</td> <th>  Prob (F-statistic):</th> <td>2.17e-11</td>\n",
       "</tr>\n",
       "<tr>\n",
       "  <th>Time:</th>                 <td>12:51:15</td>     <th>  Log-Likelihood:    </th> <td> -101.39</td>\n",
       "</tr>\n",
       "<tr>\n",
       "  <th>No. Observations:</th>      <td>    29</td>      <th>  AIC:               </th> <td>   210.8</td>\n",
       "</tr>\n",
       "<tr>\n",
       "  <th>Df Residuals:</th>          <td>    25</td>      <th>  BIC:               </th> <td>   216.3</td>\n",
       "</tr>\n",
       "<tr>\n",
       "  <th>Df Model:</th>              <td>     3</td>      <th>                     </th>     <td> </td>   \n",
       "</tr>\n",
       "<tr>\n",
       "  <th>Covariance Type:</th>      <td>nonrobust</td>    <th>                     </th>     <td> </td>   \n",
       "</tr>\n",
       "</table>\n",
       "<table class=\"simpletable\">\n",
       "<tr>\n",
       "    <td></td>       <th>coef</th>     <th>std err</th>      <th>t</th>      <th>P>|t|</th>  <th>[0.025</th>    <th>0.975]</th>  \n",
       "</tr>\n",
       "<tr>\n",
       "  <th>const</th> <td>  389.1659</td> <td>   66.094</td> <td>    5.888</td> <td> 0.000</td> <td>  253.043</td> <td>  525.288</td>\n",
       "</tr>\n",
       "<tr>\n",
       "  <th>x1</th>    <td>    2.1247</td> <td>    1.214</td> <td>    1.750</td> <td> 0.092</td> <td>   -0.376</td> <td>    4.626</td>\n",
       "</tr>\n",
       "<tr>\n",
       "  <th>x2</th>    <td>  -24.1324</td> <td>    1.869</td> <td>  -12.915</td> <td> 0.000</td> <td>  -27.981</td> <td>  -20.284</td>\n",
       "</tr>\n",
       "<tr>\n",
       "  <th>x3</th>    <td>    5.3185</td> <td>    0.963</td> <td>    5.523</td> <td> 0.000</td> <td>    3.335</td> <td>    7.302</td>\n",
       "</tr>\n",
       "</table>\n",
       "<table class=\"simpletable\">\n",
       "<tr>\n",
       "  <th>Omnibus:</th>       <td> 1.833</td> <th>  Durbin-Watson:     </th> <td>   1.484</td>\n",
       "</tr>\n",
       "<tr>\n",
       "  <th>Prob(Omnibus):</th> <td> 0.400</td> <th>  Jarque-Bera (JB):  </th> <td>   0.778</td>\n",
       "</tr>\n",
       "<tr>\n",
       "  <th>Skew:</th>          <td> 0.328</td> <th>  Prob(JB):          </th> <td>   0.678</td>\n",
       "</tr>\n",
       "<tr>\n",
       "  <th>Kurtosis:</th>      <td> 3.462</td> <th>  Cond. No.          </th> <td>2.18e+03</td>\n",
       "</tr>\n",
       "</table><br/><br/>Notes:<br/>[1] Standard Errors assume that the covariance matrix of the errors is correctly specified.<br/>[2] The condition number is large, 2.18e+03. This might indicate that there are<br/>strong multicollinearity or other numerical problems."
      ],
      "text/plain": [
       "<class 'statsmodels.iolib.summary.Summary'>\n",
       "\"\"\"\n",
       "                            OLS Regression Results                            \n",
       "==============================================================================\n",
       "Dep. Variable:                      y   R-squared:                       0.874\n",
       "Model:                            OLS   Adj. R-squared:                  0.859\n",
       "Method:                 Least Squares   F-statistic:                     57.87\n",
       "Date:                Tue, 06 Jul 2021   Prob (F-statistic):           2.17e-11\n",
       "Time:                        12:51:15   Log-Likelihood:                -101.39\n",
       "No. Observations:                  29   AIC:                             210.8\n",
       "Df Residuals:                      25   BIC:                             216.3\n",
       "Df Model:                           3                                         \n",
       "Covariance Type:            nonrobust                                         \n",
       "==============================================================================\n",
       "                 coef    std err          t      P>|t|      [0.025      0.975]\n",
       "------------------------------------------------------------------------------\n",
       "const        389.1659     66.094      5.888      0.000     253.043     525.288\n",
       "x1             2.1247      1.214      1.750      0.092      -0.376       4.626\n",
       "x2           -24.1324      1.869    -12.915      0.000     -27.981     -20.284\n",
       "x3             5.3185      0.963      5.523      0.000       3.335       7.302\n",
       "==============================================================================\n",
       "Omnibus:                        1.833   Durbin-Watson:                   1.484\n",
       "Prob(Omnibus):                  0.400   Jarque-Bera (JB):                0.778\n",
       "Skew:                           0.328   Prob(JB):                        0.678\n",
       "Kurtosis:                       3.462   Cond. No.                     2.18e+03\n",
       "==============================================================================\n",
       "\n",
       "Notes:\n",
       "[1] Standard Errors assume that the covariance matrix of the errors is correctly specified.\n",
       "[2] The condition number is large, 2.18e+03. This might indicate that there are\n",
       "strong multicollinearity or other numerical problems.\n",
       "\"\"\""
      ]
     },
     "execution_count": 13,
     "metadata": {},
     "output_type": "execute_result"
    }
   ],
   "source": [
    "results.summary()"
   ]
  },
  {
   "cell_type": "markdown",
   "id": "adequate-boston",
   "metadata": {},
   "source": [
    "There is a 95% chance that the const value will fall between 253.043 and 525.288"
   ]
  },
  {
   "cell_type": "markdown",
   "id": "disciplinary-accountability",
   "metadata": {},
   "source": [
    "As the interval reduces r-square increases, i.e model becomes more accurate"
   ]
  },
  {
   "cell_type": "markdown",
   "id": "pending-behalf",
   "metadata": {},
   "source": [
    "### Equation\n",
    "y = m1x1 + m2x2 + m3x3 + c"
   ]
  },
  {
   "cell_type": "markdown",
   "id": "embedded-insight",
   "metadata": {},
   "source": [
    "Heatflux = 2.12 * east - 24.13 * north + 5.31 * south + 389.16"
   ]
  },
  {
   "cell_type": "markdown",
   "id": "incident-april",
   "metadata": {},
   "source": [
    "## Other method"
   ]
  },
  {
   "cell_type": "code",
   "execution_count": 3,
   "id": "separated-clark",
   "metadata": {},
   "outputs": [],
   "source": [
    "import sklearn"
   ]
  },
  {
   "cell_type": "code",
   "execution_count": 33,
   "id": "automated-maldives",
   "metadata": {},
   "outputs": [],
   "source": [
    "from sklearn import linear_model\n",
    "from sklearn.model_selection import train_test_split"
   ]
  },
  {
   "cell_type": "code",
   "execution_count": 5,
   "id": "caroline-event",
   "metadata": {},
   "outputs": [
    {
     "data": {
      "text/plain": [
       "Index(['HeatFlux', 'East', 'South', 'North'], dtype='object')"
      ]
     },
     "execution_count": 5,
     "metadata": {},
     "output_type": "execute_result"
    }
   ],
   "source": [
    "df.columns"
   ]
  },
  {
   "cell_type": "code",
   "execution_count": 44,
   "id": "young-concentration",
   "metadata": {},
   "outputs": [],
   "source": [
    "x_train, x_test, y_train, y_test = train_test_split(df[['East','South','North']],df['HeatFlux'],test_size = 0.30, random_state = 45)"
   ]
  },
  {
   "cell_type": "code",
   "execution_count": 45,
   "id": "stuffed-reality",
   "metadata": {},
   "outputs": [
    {
     "data": {
      "text/html": [
       "<div>\n",
       "<style scoped>\n",
       "    .dataframe tbody tr th:only-of-type {\n",
       "        vertical-align: middle;\n",
       "    }\n",
       "\n",
       "    .dataframe tbody tr th {\n",
       "        vertical-align: top;\n",
       "    }\n",
       "\n",
       "    .dataframe thead th {\n",
       "        text-align: right;\n",
       "    }\n",
       "</style>\n",
       "<table border=\"1\" class=\"dataframe\">\n",
       "  <thead>\n",
       "    <tr style=\"text-align: right;\">\n",
       "      <th></th>\n",
       "      <th>East</th>\n",
       "      <th>South</th>\n",
       "      <th>North</th>\n",
       "    </tr>\n",
       "  </thead>\n",
       "  <tbody>\n",
       "    <tr>\n",
       "      <th>23</th>\n",
       "      <td>35.26</td>\n",
       "      <td>35.90</td>\n",
       "      <td>19.05</td>\n",
       "    </tr>\n",
       "    <tr>\n",
       "      <th>6</th>\n",
       "      <td>34.60</td>\n",
       "      <td>34.85</td>\n",
       "      <td>16.06</td>\n",
       "    </tr>\n",
       "    <tr>\n",
       "      <th>25</th>\n",
       "      <td>35.73</td>\n",
       "      <td>33.16</td>\n",
       "      <td>16.02</td>\n",
       "    </tr>\n",
       "    <tr>\n",
       "      <th>18</th>\n",
       "      <td>34.79</td>\n",
       "      <td>34.62</td>\n",
       "      <td>15.54</td>\n",
       "    </tr>\n",
       "    <tr>\n",
       "      <th>17</th>\n",
       "      <td>34.11</td>\n",
       "      <td>36.76</td>\n",
       "      <td>18.53</td>\n",
       "    </tr>\n",
       "  </tbody>\n",
       "</table>\n",
       "</div>"
      ],
      "text/plain": [
       "     East  South  North\n",
       "23  35.26  35.90  19.05\n",
       "6   34.60  34.85  16.06\n",
       "25  35.73  33.16  16.02\n",
       "18  34.79  34.62  15.54\n",
       "17  34.11  36.76  18.53"
      ]
     },
     "execution_count": 45,
     "metadata": {},
     "output_type": "execute_result"
    }
   ],
   "source": [
    "x_train.head()"
   ]
  },
  {
   "cell_type": "code",
   "execution_count": 46,
   "id": "awful-candidate",
   "metadata": {},
   "outputs": [],
   "source": [
    "model = linear_model.LinearRegression()"
   ]
  },
  {
   "cell_type": "code",
   "execution_count": 47,
   "id": "exceptional-bride",
   "metadata": {},
   "outputs": [
    {
     "data": {
      "text/plain": [
       "LinearRegression()"
      ]
     },
     "execution_count": 47,
     "metadata": {},
     "output_type": "execute_result"
    }
   ],
   "source": [
    "model.fit(x_train,y_train)"
   ]
  },
  {
   "cell_type": "code",
   "execution_count": 48,
   "id": "fifteen-butterfly",
   "metadata": {},
   "outputs": [
    {
     "data": {
      "text/plain": [
       "array([264.71861099, 271.22059752, 238.56181156, 257.3579877 ,\n",
       "       252.75703802, 250.28913652, 219.03096573, 259.85262505,\n",
       "       266.67448733])"
      ]
     },
     "execution_count": 48,
     "metadata": {},
     "output_type": "execute_result"
    }
   ],
   "source": [
    "model.predict(x_test)"
   ]
  },
  {
   "cell_type": "code",
   "execution_count": 49,
   "id": "invalid-thumbnail",
   "metadata": {},
   "outputs": [
    {
     "data": {
      "text/plain": [
       "26    263.0\n",
       "7     266.5\n",
       "24    227.5\n",
       "28    263.8\n",
       "5     257.9\n",
       "9     239.3\n",
       "22    224.7\n",
       "10    258.0\n",
       "13    267.0\n",
       "Name: HeatFlux, dtype: float64"
      ]
     },
     "execution_count": 49,
     "metadata": {},
     "output_type": "execute_result"
    }
   ],
   "source": [
    "y_test"
   ]
  },
  {
   "cell_type": "markdown",
   "id": "contemporary-military",
   "metadata": {},
   "source": [
    "###### Residual = Predicted value - Actual value"
   ]
  },
  {
   "cell_type": "code",
   "execution_count": 50,
   "id": "found-sydney",
   "metadata": {},
   "outputs": [],
   "source": [
    "resd = list(np.subtract(model.predict(x_test), y_test))\n",
    "resd_sq = [i**2 for i in resd]"
   ]
  },
  {
   "cell_type": "code",
   "execution_count": 51,
   "id": "enhanced-intersection",
   "metadata": {},
   "outputs": [
    {
     "data": {
      "text/plain": [
       "[1.7186109895577033,\n",
       " 4.72059752017185,\n",
       " 11.061811563817344,\n",
       " -6.44201230147462,\n",
       " -5.142961975594062,\n",
       " 10.989136515776124,\n",
       " -5.669034272722001,\n",
       " 1.852625050879908,\n",
       " -0.32551267343058043]"
      ]
     },
     "execution_count": 51,
     "metadata": {},
     "output_type": "execute_result"
    }
   ],
   "source": [
    "resd"
   ]
  },
  {
   "cell_type": "code",
   "execution_count": 52,
   "id": "awful-toyota",
   "metadata": {},
   "outputs": [
    {
     "data": {
      "text/plain": [
       "[2.953623733428508,\n",
       " 22.28404094745262,\n",
       " 122.3636750734031,\n",
       " 41.49952249235032,\n",
       " 26.450057882406377,\n",
       " 120.76112136236422,\n",
       " 32.137949585296674,\n",
       " 3.4322195791477816,\n",
       " 0.10595850056392371]"
      ]
     },
     "execution_count": 52,
     "metadata": {},
     "output_type": "execute_result"
    }
   ],
   "source": [
    "resd_sq"
   ]
  },
  {
   "cell_type": "code",
   "execution_count": 53,
   "id": "supreme-ladder",
   "metadata": {},
   "outputs": [
    {
     "data": {
      "text/plain": [
       "371.98816915641356"
      ]
     },
     "execution_count": 53,
     "metadata": {},
     "output_type": "execute_result"
    }
   ],
   "source": [
    "sum(resd_sq)"
   ]
  },
  {
   "cell_type": "code",
   "execution_count": 54,
   "id": "rental-communist",
   "metadata": {},
   "outputs": [
    {
     "data": {
      "text/plain": [
       "1.4181400463312963"
      ]
     },
     "execution_count": 54,
     "metadata": {},
     "output_type": "execute_result"
    }
   ],
   "source": [
    "np.mean(resd)"
   ]
  },
  {
   "cell_type": "markdown",
   "id": "current-sauce",
   "metadata": {},
   "source": [
    "## Exercise"
   ]
  },
  {
   "cell_type": "code",
   "execution_count": 55,
   "id": "hawaiian-movement",
   "metadata": {},
   "outputs": [],
   "source": [
    "salary = [34.7,28.9,26.7,32.8,43.6,37.9,28.7]\n",
    "marks = [67.8,59.3,54.7,65.8,78.6,72.9,58.9]"
   ]
  },
  {
   "cell_type": "code",
   "execution_count": 63,
   "id": "living-failure",
   "metadata": {},
   "outputs": [],
   "source": [
    "X_train, X_test, Y_train, Y_test = train_test_split(np.array(marks),np.array(salary),test_size = 0.30)"
   ]
  },
  {
   "cell_type": "code",
   "execution_count": 65,
   "id": "covered-quilt",
   "metadata": {},
   "outputs": [
    {
     "data": {
      "text/plain": [
       "LinearRegression()"
      ]
     },
     "execution_count": 65,
     "metadata": {},
     "output_type": "execute_result"
    }
   ],
   "source": [
    "model.fit(X_train.reshape(-1,1),Y_train.reshape(-1,1))"
   ]
  },
  {
   "cell_type": "code",
   "execution_count": 68,
   "id": "great-basics",
   "metadata": {},
   "outputs": [
    {
     "data": {
      "text/plain": [
       "array([[28.25644352],\n",
       "       [33.40323791],\n",
       "       [25.12361215]])"
      ]
     },
     "execution_count": 68,
     "metadata": {},
     "output_type": "execute_result"
    }
   ],
   "source": [
    "model.predict(X_test.reshape(-1,1))"
   ]
  },
  {
   "cell_type": "code",
   "execution_count": 70,
   "id": "applicable-secret",
   "metadata": {},
   "outputs": [],
   "source": [
    "resd = list(np.subtract(model.predict(X_test.reshape(-1,1)), Y_test.reshape(-1,1)))\n",
    "resd_sq = [i**2 for i in resd]"
   ]
  },
  {
   "cell_type": "code",
   "execution_count": 71,
   "id": "cooked-catering",
   "metadata": {},
   "outputs": [
    {
     "data": {
      "text/plain": [
       "[array([-0.44355648]), array([0.60323791]), array([-1.57638785])]"
      ]
     },
     "execution_count": 71,
     "metadata": {},
     "output_type": "execute_result"
    }
   ],
   "source": [
    "resd"
   ]
  },
  {
   "cell_type": "code",
   "execution_count": 72,
   "id": "subjective-exercise",
   "metadata": {},
   "outputs": [
    {
     "data": {
      "text/plain": [
       "[array([0.19674235]), array([0.36389598]), array([2.48499866])]"
      ]
     },
     "execution_count": 72,
     "metadata": {},
     "output_type": "execute_result"
    }
   ],
   "source": [
    "resd_sq"
   ]
  },
  {
   "cell_type": "code",
   "execution_count": 75,
   "id": "centered-ukraine",
   "metadata": {},
   "outputs": [
    {
     "data": {
      "text/plain": [
       "3.0456369953098923"
      ]
     },
     "execution_count": 75,
     "metadata": {},
     "output_type": "execute_result"
    }
   ],
   "source": [
    "float(sum(resd_sq))"
   ]
  },
  {
   "cell_type": "markdown",
   "id": "pharmaceutical-cleaner",
   "metadata": {},
   "source": [
    "# Multi-Collinearity"
   ]
  },
  {
   "cell_type": "markdown",
   "id": "authorized-doctor",
   "metadata": {},
   "source": [
    "# 15/7"
   ]
  },
  {
   "cell_type": "code",
   "execution_count": 5,
   "id": "nuclear-heath",
   "metadata": {},
   "outputs": [],
   "source": [
    "import pandas as pd\n",
    "import sklearn\n",
    "from sklearn.preprocessing import StandardScaler"
   ]
  },
  {
   "cell_type": "code",
   "execution_count": 3,
   "id": "cognitive-scheduling",
   "metadata": {},
   "outputs": [],
   "source": [
    "df = pd.read_csv('Salary.csv')"
   ]
  },
  {
   "cell_type": "code",
   "execution_count": 4,
   "id": "approximate-arthur",
   "metadata": {},
   "outputs": [
    {
     "data": {
      "text/html": [
       "<div>\n",
       "<style scoped>\n",
       "    .dataframe tbody tr th:only-of-type {\n",
       "        vertical-align: middle;\n",
       "    }\n",
       "\n",
       "    .dataframe tbody tr th {\n",
       "        vertical-align: top;\n",
       "    }\n",
       "\n",
       "    .dataframe thead th {\n",
       "        text-align: right;\n",
       "    }\n",
       "</style>\n",
       "<table border=\"1\" class=\"dataframe\">\n",
       "  <thead>\n",
       "    <tr style=\"text-align: right;\">\n",
       "      <th></th>\n",
       "      <th>Exp</th>\n",
       "      <th>Salary</th>\n",
       "    </tr>\n",
       "  </thead>\n",
       "  <tbody>\n",
       "    <tr>\n",
       "      <th>0</th>\n",
       "      <td>1.1</td>\n",
       "      <td>39343</td>\n",
       "    </tr>\n",
       "    <tr>\n",
       "      <th>1</th>\n",
       "      <td>1.3</td>\n",
       "      <td>46205</td>\n",
       "    </tr>\n",
       "    <tr>\n",
       "      <th>2</th>\n",
       "      <td>1.5</td>\n",
       "      <td>37731</td>\n",
       "    </tr>\n",
       "    <tr>\n",
       "      <th>3</th>\n",
       "      <td>2.0</td>\n",
       "      <td>43525</td>\n",
       "    </tr>\n",
       "    <tr>\n",
       "      <th>4</th>\n",
       "      <td>2.2</td>\n",
       "      <td>39891</td>\n",
       "    </tr>\n",
       "  </tbody>\n",
       "</table>\n",
       "</div>"
      ],
      "text/plain": [
       "   Exp  Salary\n",
       "0  1.1   39343\n",
       "1  1.3   46205\n",
       "2  1.5   37731\n",
       "3  2.0   43525\n",
       "4  2.2   39891"
      ]
     },
     "execution_count": 4,
     "metadata": {},
     "output_type": "execute_result"
    }
   ],
   "source": [
    "df.head()"
   ]
  },
  {
   "cell_type": "code",
   "execution_count": 6,
   "id": "proper-thriller",
   "metadata": {},
   "outputs": [],
   "source": [
    "scaler = StandardScaler()"
   ]
  },
  {
   "cell_type": "code",
   "execution_count": 9,
   "id": "expired-compact",
   "metadata": {},
   "outputs": [],
   "source": [
    "scaled_df = pd.DataFrame(scaler.fit_transform(df))"
   ]
  },
  {
   "cell_type": "code",
   "execution_count": 11,
   "id": "becoming-complaint",
   "metadata": {},
   "outputs": [
    {
     "data": {
      "text/html": [
       "<div>\n",
       "<style scoped>\n",
       "    .dataframe tbody tr th:only-of-type {\n",
       "        vertical-align: middle;\n",
       "    }\n",
       "\n",
       "    .dataframe tbody tr th {\n",
       "        vertical-align: top;\n",
       "    }\n",
       "\n",
       "    .dataframe thead th {\n",
       "        text-align: right;\n",
       "    }\n",
       "</style>\n",
       "<table border=\"1\" class=\"dataframe\">\n",
       "  <thead>\n",
       "    <tr style=\"text-align: right;\">\n",
       "      <th></th>\n",
       "      <th>0</th>\n",
       "      <th>1</th>\n",
       "    </tr>\n",
       "  </thead>\n",
       "  <tbody>\n",
       "    <tr>\n",
       "      <th>0</th>\n",
       "      <td>-1.460399</td>\n",
       "      <td>-1.407028</td>\n",
       "    </tr>\n",
       "    <tr>\n",
       "      <th>1</th>\n",
       "      <td>-1.404322</td>\n",
       "      <td>-1.190560</td>\n",
       "    </tr>\n",
       "    <tr>\n",
       "      <th>2</th>\n",
       "      <td>-1.348245</td>\n",
       "      <td>-1.457879</td>\n",
       "    </tr>\n",
       "    <tr>\n",
       "      <th>3</th>\n",
       "      <td>-1.208053</td>\n",
       "      <td>-1.275103</td>\n",
       "    </tr>\n",
       "    <tr>\n",
       "      <th>4</th>\n",
       "      <td>-1.151977</td>\n",
       "      <td>-1.389740</td>\n",
       "    </tr>\n",
       "  </tbody>\n",
       "</table>\n",
       "</div>"
      ],
      "text/plain": [
       "          0         1\n",
       "0 -1.460399 -1.407028\n",
       "1 -1.404322 -1.190560\n",
       "2 -1.348245 -1.457879\n",
       "3 -1.208053 -1.275103\n",
       "4 -1.151977 -1.389740"
      ]
     },
     "execution_count": 11,
     "metadata": {},
     "output_type": "execute_result"
    }
   ],
   "source": [
    "scaled_df.head()"
   ]
  },
  {
   "cell_type": "code",
   "execution_count": 12,
   "id": "structured-venue",
   "metadata": {},
   "outputs": [
    {
     "data": {
      "text/plain": [
       "-3.1720657846433045e-16"
      ]
     },
     "execution_count": 12,
     "metadata": {},
     "output_type": "execute_result"
    }
   ],
   "source": [
    "np.mean(scaled_df[0])"
   ]
  },
  {
   "cell_type": "code",
   "execution_count": 13,
   "id": "individual-divide",
   "metadata": {},
   "outputs": [
    {
     "data": {
      "text/plain": [
       "1.0"
      ]
     },
     "execution_count": 13,
     "metadata": {},
     "output_type": "execute_result"
    }
   ],
   "source": [
    "np.std(scaled_df[1])"
   ]
  },
  {
   "cell_type": "code",
   "execution_count": 14,
   "id": "square-turkish",
   "metadata": {},
   "outputs": [
    {
     "data": {
      "text/plain": [
       "-1.8397981550931167e-16"
      ]
     },
     "execution_count": 14,
     "metadata": {},
     "output_type": "execute_result"
    }
   ],
   "source": [
    "np.mean(scaled_df[1])"
   ]
  },
  {
   "cell_type": "code",
   "execution_count": 15,
   "id": "common-singing",
   "metadata": {},
   "outputs": [
    {
     "data": {
      "text/plain": [
       "1.0145993123917847"
      ]
     },
     "execution_count": 15,
     "metadata": {},
     "output_type": "execute_result"
    }
   ],
   "source": [
    "np.std(scaled_df[1],ddof = 1)"
   ]
  },
  {
   "cell_type": "code",
   "execution_count": 16,
   "id": "equipped-zambia",
   "metadata": {},
   "outputs": [],
   "source": [
    "from sklearn.preprocessing import MinMaxScaler"
   ]
  },
  {
   "cell_type": "code",
   "execution_count": 17,
   "id": "valued-tongue",
   "metadata": {},
   "outputs": [],
   "source": [
    "scaler2 = MinMaxScaler(feature_range = (-1,1))"
   ]
  },
  {
   "cell_type": "code",
   "execution_count": 20,
   "id": "stuck-drive",
   "metadata": {},
   "outputs": [],
   "source": [
    "scaled_minmax = pd.DataFrame(scaler2.fit_transform(df))"
   ]
  },
  {
   "cell_type": "code",
   "execution_count": 21,
   "id": "loved-wrist",
   "metadata": {},
   "outputs": [
    {
     "data": {
      "text/html": [
       "<div>\n",
       "<style scoped>\n",
       "    .dataframe tbody tr th:only-of-type {\n",
       "        vertical-align: middle;\n",
       "    }\n",
       "\n",
       "    .dataframe tbody tr th {\n",
       "        vertical-align: top;\n",
       "    }\n",
       "\n",
       "    .dataframe thead th {\n",
       "        text-align: right;\n",
       "    }\n",
       "</style>\n",
       "<table border=\"1\" class=\"dataframe\">\n",
       "  <thead>\n",
       "    <tr style=\"text-align: right;\">\n",
       "      <th></th>\n",
       "      <th>0</th>\n",
       "      <th>1</th>\n",
       "    </tr>\n",
       "  </thead>\n",
       "  <tbody>\n",
       "    <tr>\n",
       "      <th>0</th>\n",
       "      <td>-1.000000</td>\n",
       "      <td>-0.968310</td>\n",
       "    </tr>\n",
       "    <tr>\n",
       "      <th>1</th>\n",
       "      <td>-0.967742</td>\n",
       "      <td>-0.833409</td>\n",
       "    </tr>\n",
       "    <tr>\n",
       "      <th>2</th>\n",
       "      <td>-0.935484</td>\n",
       "      <td>-1.000000</td>\n",
       "    </tr>\n",
       "    <tr>\n",
       "      <th>3</th>\n",
       "      <td>-0.854839</td>\n",
       "      <td>-0.886095</td>\n",
       "    </tr>\n",
       "    <tr>\n",
       "      <th>4</th>\n",
       "      <td>-0.822581</td>\n",
       "      <td>-0.957536</td>\n",
       "    </tr>\n",
       "  </tbody>\n",
       "</table>\n",
       "</div>"
      ],
      "text/plain": [
       "          0         1\n",
       "0 -1.000000 -0.968310\n",
       "1 -0.967742 -0.833409\n",
       "2 -0.935484 -1.000000\n",
       "3 -0.854839 -0.886095\n",
       "4 -0.822581 -0.957536"
      ]
     },
     "execution_count": 21,
     "metadata": {},
     "output_type": "execute_result"
    }
   ],
   "source": [
    "scaled_minmax.head()"
   ]
  },
  {
   "cell_type": "markdown",
   "id": "missing-algebra",
   "metadata": {},
   "source": [
    "## Bank data"
   ]
  },
  {
   "cell_type": "code",
   "execution_count": 22,
   "id": "ideal-nigeria",
   "metadata": {},
   "outputs": [],
   "source": [
    "df = pd.read_excel('BankLoan.xlsx')"
   ]
  },
  {
   "cell_type": "code",
   "execution_count": 23,
   "id": "thorough-brain",
   "metadata": {},
   "outputs": [
    {
     "data": {
      "text/html": [
       "<div>\n",
       "<style scoped>\n",
       "    .dataframe tbody tr th:only-of-type {\n",
       "        vertical-align: middle;\n",
       "    }\n",
       "\n",
       "    .dataframe tbody tr th {\n",
       "        vertical-align: top;\n",
       "    }\n",
       "\n",
       "    .dataframe thead th {\n",
       "        text-align: right;\n",
       "    }\n",
       "</style>\n",
       "<table border=\"1\" class=\"dataframe\">\n",
       "  <thead>\n",
       "    <tr style=\"text-align: right;\">\n",
       "      <th></th>\n",
       "      <th>Married</th>\n",
       "      <th>Dependents</th>\n",
       "      <th>Education</th>\n",
       "      <th>Self_Employed</th>\n",
       "      <th>ApplicantIncome</th>\n",
       "      <th>CoapplicantIncome</th>\n",
       "      <th>LoanAmount</th>\n",
       "      <th>Loan_Amount_Term</th>\n",
       "      <th>Credit_History</th>\n",
       "      <th>Property_Area</th>\n",
       "      <th>Loan_Amt</th>\n",
       "    </tr>\n",
       "  </thead>\n",
       "  <tbody>\n",
       "    <tr>\n",
       "      <th>0</th>\n",
       "      <td>Yes</td>\n",
       "      <td>1</td>\n",
       "      <td>Graduate</td>\n",
       "      <td>No</td>\n",
       "      <td>4583</td>\n",
       "      <td>1508.0</td>\n",
       "      <td>128</td>\n",
       "      <td>360</td>\n",
       "      <td>1</td>\n",
       "      <td>Rural</td>\n",
       "      <td>0</td>\n",
       "    </tr>\n",
       "    <tr>\n",
       "      <th>1</th>\n",
       "      <td>Yes</td>\n",
       "      <td>0</td>\n",
       "      <td>Graduate</td>\n",
       "      <td>Yes</td>\n",
       "      <td>3000</td>\n",
       "      <td>0.0</td>\n",
       "      <td>66</td>\n",
       "      <td>360</td>\n",
       "      <td>1</td>\n",
       "      <td>Urban</td>\n",
       "      <td>8</td>\n",
       "    </tr>\n",
       "    <tr>\n",
       "      <th>2</th>\n",
       "      <td>Yes</td>\n",
       "      <td>0</td>\n",
       "      <td>Not Graduate</td>\n",
       "      <td>No</td>\n",
       "      <td>2583</td>\n",
       "      <td>2358.0</td>\n",
       "      <td>120</td>\n",
       "      <td>360</td>\n",
       "      <td>1</td>\n",
       "      <td>Urban</td>\n",
       "      <td>12</td>\n",
       "    </tr>\n",
       "    <tr>\n",
       "      <th>3</th>\n",
       "      <td>No</td>\n",
       "      <td>0</td>\n",
       "      <td>Graduate</td>\n",
       "      <td>No</td>\n",
       "      <td>6000</td>\n",
       "      <td>0.0</td>\n",
       "      <td>141</td>\n",
       "      <td>360</td>\n",
       "      <td>1</td>\n",
       "      <td>Urban</td>\n",
       "      <td>15</td>\n",
       "    </tr>\n",
       "    <tr>\n",
       "      <th>4</th>\n",
       "      <td>Yes</td>\n",
       "      <td>2</td>\n",
       "      <td>Graduate</td>\n",
       "      <td>Yes</td>\n",
       "      <td>5417</td>\n",
       "      <td>4196.0</td>\n",
       "      <td>267</td>\n",
       "      <td>360</td>\n",
       "      <td>1</td>\n",
       "      <td>Urban</td>\n",
       "      <td>10</td>\n",
       "    </tr>\n",
       "  </tbody>\n",
       "</table>\n",
       "</div>"
      ],
      "text/plain": [
       "  Married  Dependents     Education Self_Employed  ApplicantIncome  \\\n",
       "0     Yes           1      Graduate            No             4583   \n",
       "1     Yes           0      Graduate           Yes             3000   \n",
       "2     Yes           0  Not Graduate            No             2583   \n",
       "3      No           0      Graduate            No             6000   \n",
       "4     Yes           2      Graduate           Yes             5417   \n",
       "\n",
       "   CoapplicantIncome  LoanAmount  Loan_Amount_Term  Credit_History  \\\n",
       "0             1508.0         128               360               1   \n",
       "1                0.0          66               360               1   \n",
       "2             2358.0         120               360               1   \n",
       "3                0.0         141               360               1   \n",
       "4             4196.0         267               360               1   \n",
       "\n",
       "  Property_Area  Loan_Amt  \n",
       "0         Rural         0  \n",
       "1         Urban         8  \n",
       "2         Urban        12  \n",
       "3         Urban        15  \n",
       "4         Urban        10  "
      ]
     },
     "execution_count": 23,
     "metadata": {},
     "output_type": "execute_result"
    }
   ],
   "source": [
    "df.head()"
   ]
  },
  {
   "cell_type": "code",
   "execution_count": 25,
   "id": "changing-clause",
   "metadata": {},
   "outputs": [
    {
     "data": {
      "text/plain": [
       "(492, 11)"
      ]
     },
     "execution_count": 25,
     "metadata": {},
     "output_type": "execute_result"
    }
   ],
   "source": [
    "df.shape"
   ]
  },
  {
   "cell_type": "code",
   "execution_count": 26,
   "id": "intimate-change",
   "metadata": {},
   "outputs": [
    {
     "data": {
      "text/plain": [
       "Index(['Married', 'Dependents', 'Education', 'Self_Employed',\n",
       "       'ApplicantIncome', 'CoapplicantIncome', 'LoanAmount',\n",
       "       'Loan_Amount_Term', 'Credit_History', 'Property_Area', 'Loan_Amt'],\n",
       "      dtype='object')"
      ]
     },
     "execution_count": 26,
     "metadata": {},
     "output_type": "execute_result"
    }
   ],
   "source": [
    "df.columns"
   ]
  },
  {
   "cell_type": "code",
   "execution_count": 27,
   "id": "catholic-release",
   "metadata": {},
   "outputs": [
    {
     "name": "stdout",
     "output_type": "stream",
     "text": [
      "<class 'pandas.core.frame.DataFrame'>\n",
      "RangeIndex: 492 entries, 0 to 491\n",
      "Data columns (total 11 columns):\n",
      " #   Column             Non-Null Count  Dtype  \n",
      "---  ------             --------------  -----  \n",
      " 0   Married            492 non-null    object \n",
      " 1   Dependents         492 non-null    int64  \n",
      " 2   Education          492 non-null    object \n",
      " 3   Self_Employed      492 non-null    object \n",
      " 4   ApplicantIncome    492 non-null    int64  \n",
      " 5   CoapplicantIncome  492 non-null    float64\n",
      " 6   LoanAmount         492 non-null    int64  \n",
      " 7   Loan_Amount_Term   492 non-null    int64  \n",
      " 8   Credit_History     492 non-null    int64  \n",
      " 9   Property_Area      492 non-null    object \n",
      " 10  Loan_Amt           492 non-null    int64  \n",
      "dtypes: float64(1), int64(6), object(4)\n",
      "memory usage: 42.4+ KB\n"
     ]
    }
   ],
   "source": [
    "df.info()"
   ]
  },
  {
   "cell_type": "code",
   "execution_count": 29,
   "id": "cooked-penalty",
   "metadata": {},
   "outputs": [],
   "source": [
    "x = df.drop('Loan_Amt',axis = 1)"
   ]
  },
  {
   "cell_type": "code",
   "execution_count": 30,
   "id": "offshore-solomon",
   "metadata": {},
   "outputs": [
    {
     "data": {
      "text/html": [
       "<div>\n",
       "<style scoped>\n",
       "    .dataframe tbody tr th:only-of-type {\n",
       "        vertical-align: middle;\n",
       "    }\n",
       "\n",
       "    .dataframe tbody tr th {\n",
       "        vertical-align: top;\n",
       "    }\n",
       "\n",
       "    .dataframe thead th {\n",
       "        text-align: right;\n",
       "    }\n",
       "</style>\n",
       "<table border=\"1\" class=\"dataframe\">\n",
       "  <thead>\n",
       "    <tr style=\"text-align: right;\">\n",
       "      <th></th>\n",
       "      <th>Married</th>\n",
       "      <th>Dependents</th>\n",
       "      <th>Education</th>\n",
       "      <th>Self_Employed</th>\n",
       "      <th>ApplicantIncome</th>\n",
       "      <th>CoapplicantIncome</th>\n",
       "      <th>LoanAmount</th>\n",
       "      <th>Loan_Amount_Term</th>\n",
       "      <th>Credit_History</th>\n",
       "      <th>Property_Area</th>\n",
       "    </tr>\n",
       "  </thead>\n",
       "  <tbody>\n",
       "    <tr>\n",
       "      <th>0</th>\n",
       "      <td>Yes</td>\n",
       "      <td>1</td>\n",
       "      <td>Graduate</td>\n",
       "      <td>No</td>\n",
       "      <td>4583</td>\n",
       "      <td>1508.0</td>\n",
       "      <td>128</td>\n",
       "      <td>360</td>\n",
       "      <td>1</td>\n",
       "      <td>Rural</td>\n",
       "    </tr>\n",
       "    <tr>\n",
       "      <th>1</th>\n",
       "      <td>Yes</td>\n",
       "      <td>0</td>\n",
       "      <td>Graduate</td>\n",
       "      <td>Yes</td>\n",
       "      <td>3000</td>\n",
       "      <td>0.0</td>\n",
       "      <td>66</td>\n",
       "      <td>360</td>\n",
       "      <td>1</td>\n",
       "      <td>Urban</td>\n",
       "    </tr>\n",
       "    <tr>\n",
       "      <th>2</th>\n",
       "      <td>Yes</td>\n",
       "      <td>0</td>\n",
       "      <td>Not Graduate</td>\n",
       "      <td>No</td>\n",
       "      <td>2583</td>\n",
       "      <td>2358.0</td>\n",
       "      <td>120</td>\n",
       "      <td>360</td>\n",
       "      <td>1</td>\n",
       "      <td>Urban</td>\n",
       "    </tr>\n",
       "    <tr>\n",
       "      <th>3</th>\n",
       "      <td>No</td>\n",
       "      <td>0</td>\n",
       "      <td>Graduate</td>\n",
       "      <td>No</td>\n",
       "      <td>6000</td>\n",
       "      <td>0.0</td>\n",
       "      <td>141</td>\n",
       "      <td>360</td>\n",
       "      <td>1</td>\n",
       "      <td>Urban</td>\n",
       "    </tr>\n",
       "    <tr>\n",
       "      <th>4</th>\n",
       "      <td>Yes</td>\n",
       "      <td>2</td>\n",
       "      <td>Graduate</td>\n",
       "      <td>Yes</td>\n",
       "      <td>5417</td>\n",
       "      <td>4196.0</td>\n",
       "      <td>267</td>\n",
       "      <td>360</td>\n",
       "      <td>1</td>\n",
       "      <td>Urban</td>\n",
       "    </tr>\n",
       "  </tbody>\n",
       "</table>\n",
       "</div>"
      ],
      "text/plain": [
       "  Married  Dependents     Education Self_Employed  ApplicantIncome  \\\n",
       "0     Yes           1      Graduate            No             4583   \n",
       "1     Yes           0      Graduate           Yes             3000   \n",
       "2     Yes           0  Not Graduate            No             2583   \n",
       "3      No           0      Graduate            No             6000   \n",
       "4     Yes           2      Graduate           Yes             5417   \n",
       "\n",
       "   CoapplicantIncome  LoanAmount  Loan_Amount_Term  Credit_History  \\\n",
       "0             1508.0         128               360               1   \n",
       "1                0.0          66               360               1   \n",
       "2             2358.0         120               360               1   \n",
       "3                0.0         141               360               1   \n",
       "4             4196.0         267               360               1   \n",
       "\n",
       "  Property_Area  \n",
       "0         Rural  \n",
       "1         Urban  \n",
       "2         Urban  \n",
       "3         Urban  \n",
       "4         Urban  "
      ]
     },
     "execution_count": 30,
     "metadata": {},
     "output_type": "execute_result"
    }
   ],
   "source": [
    "x.head()"
   ]
  },
  {
   "cell_type": "code",
   "execution_count": 31,
   "id": "capable-transfer",
   "metadata": {},
   "outputs": [],
   "source": [
    "y = df.Loan_Amt"
   ]
  },
  {
   "cell_type": "code",
   "execution_count": 37,
   "id": "younger-proportion",
   "metadata": {},
   "outputs": [],
   "source": [
    "x_train,x_test,y_train,y_test = train_test_split(x,y,test_size = 0.25)"
   ]
  },
  {
   "cell_type": "code",
   "execution_count": 43,
   "id": "protected-aging",
   "metadata": {},
   "outputs": [
    {
     "data": {
      "text/html": [
       "<div>\n",
       "<style scoped>\n",
       "    .dataframe tbody tr th:only-of-type {\n",
       "        vertical-align: middle;\n",
       "    }\n",
       "\n",
       "    .dataframe tbody tr th {\n",
       "        vertical-align: top;\n",
       "    }\n",
       "\n",
       "    .dataframe thead th {\n",
       "        text-align: right;\n",
       "    }\n",
       "</style>\n",
       "<table border=\"1\" class=\"dataframe\">\n",
       "  <thead>\n",
       "    <tr style=\"text-align: right;\">\n",
       "      <th></th>\n",
       "      <th>Married</th>\n",
       "      <th>Dependents</th>\n",
       "      <th>Education</th>\n",
       "      <th>Self_Employed</th>\n",
       "      <th>ApplicantIncome</th>\n",
       "      <th>CoapplicantIncome</th>\n",
       "      <th>LoanAmount</th>\n",
       "      <th>Loan_Amount_Term</th>\n",
       "      <th>Credit_History</th>\n",
       "      <th>Property_Area</th>\n",
       "    </tr>\n",
       "  </thead>\n",
       "  <tbody>\n",
       "    <tr>\n",
       "      <th>300</th>\n",
       "      <td>Yes</td>\n",
       "      <td>2</td>\n",
       "      <td>Graduate</td>\n",
       "      <td>No</td>\n",
       "      <td>5391</td>\n",
       "      <td>0.000000</td>\n",
       "      <td>130</td>\n",
       "      <td>360</td>\n",
       "      <td>1</td>\n",
       "      <td>Urban</td>\n",
       "    </tr>\n",
       "    <tr>\n",
       "      <th>100</th>\n",
       "      <td>Yes</td>\n",
       "      <td>0</td>\n",
       "      <td>Graduate</td>\n",
       "      <td>Yes</td>\n",
       "      <td>3459</td>\n",
       "      <td>0.000000</td>\n",
       "      <td>25</td>\n",
       "      <td>120</td>\n",
       "      <td>1</td>\n",
       "      <td>Semiurban</td>\n",
       "    </tr>\n",
       "    <tr>\n",
       "      <th>169</th>\n",
       "      <td>Yes</td>\n",
       "      <td>3</td>\n",
       "      <td>Graduate</td>\n",
       "      <td>No</td>\n",
       "      <td>3430</td>\n",
       "      <td>1250.000000</td>\n",
       "      <td>128</td>\n",
       "      <td>360</td>\n",
       "      <td>0</td>\n",
       "      <td>Semiurban</td>\n",
       "    </tr>\n",
       "    <tr>\n",
       "      <th>341</th>\n",
       "      <td>Yes</td>\n",
       "      <td>0</td>\n",
       "      <td>Graduate</td>\n",
       "      <td>No</td>\n",
       "      <td>2920</td>\n",
       "      <td>16.120001</td>\n",
       "      <td>87</td>\n",
       "      <td>360</td>\n",
       "      <td>1</td>\n",
       "      <td>Rural</td>\n",
       "    </tr>\n",
       "    <tr>\n",
       "      <th>388</th>\n",
       "      <td>Yes</td>\n",
       "      <td>1</td>\n",
       "      <td>Graduate</td>\n",
       "      <td>No</td>\n",
       "      <td>18333</td>\n",
       "      <td>0.000000</td>\n",
       "      <td>500</td>\n",
       "      <td>360</td>\n",
       "      <td>1</td>\n",
       "      <td>Urban</td>\n",
       "    </tr>\n",
       "  </tbody>\n",
       "</table>\n",
       "</div>"
      ],
      "text/plain": [
       "    Married  Dependents Education Self_Employed  ApplicantIncome  \\\n",
       "300     Yes           2  Graduate            No             5391   \n",
       "100     Yes           0  Graduate           Yes             3459   \n",
       "169     Yes           3  Graduate            No             3430   \n",
       "341     Yes           0  Graduate            No             2920   \n",
       "388     Yes           1  Graduate            No            18333   \n",
       "\n",
       "     CoapplicantIncome  LoanAmount  Loan_Amount_Term  Credit_History  \\\n",
       "300           0.000000         130               360               1   \n",
       "100           0.000000          25               120               1   \n",
       "169        1250.000000         128               360               0   \n",
       "341          16.120001          87               360               1   \n",
       "388           0.000000         500               360               1   \n",
       "\n",
       "    Property_Area  \n",
       "300         Urban  \n",
       "100     Semiurban  \n",
       "169     Semiurban  \n",
       "341         Rural  \n",
       "388         Urban  "
      ]
     },
     "execution_count": 43,
     "metadata": {},
     "output_type": "execute_result"
    }
   ],
   "source": [
    "x_train.head()"
   ]
  },
  {
   "cell_type": "code",
   "execution_count": 39,
   "id": "instructional-forest",
   "metadata": {},
   "outputs": [
    {
     "data": {
      "text/plain": [
       "(369, 10)"
      ]
     },
     "execution_count": 39,
     "metadata": {},
     "output_type": "execute_result"
    }
   ],
   "source": [
    "x_train.shape"
   ]
  },
  {
   "cell_type": "code",
   "execution_count": 40,
   "id": "professional-aquarium",
   "metadata": {},
   "outputs": [],
   "source": [
    "x_train_numcols = x_train.select_dtypes(exclude=object)"
   ]
  },
  {
   "cell_type": "code",
   "execution_count": 41,
   "id": "academic-secret",
   "metadata": {},
   "outputs": [
    {
     "data": {
      "text/html": [
       "<div>\n",
       "<style scoped>\n",
       "    .dataframe tbody tr th:only-of-type {\n",
       "        vertical-align: middle;\n",
       "    }\n",
       "\n",
       "    .dataframe tbody tr th {\n",
       "        vertical-align: top;\n",
       "    }\n",
       "\n",
       "    .dataframe thead th {\n",
       "        text-align: right;\n",
       "    }\n",
       "</style>\n",
       "<table border=\"1\" class=\"dataframe\">\n",
       "  <thead>\n",
       "    <tr style=\"text-align: right;\">\n",
       "      <th></th>\n",
       "      <th>Dependents</th>\n",
       "      <th>ApplicantIncome</th>\n",
       "      <th>CoapplicantIncome</th>\n",
       "      <th>LoanAmount</th>\n",
       "      <th>Loan_Amount_Term</th>\n",
       "      <th>Credit_History</th>\n",
       "    </tr>\n",
       "  </thead>\n",
       "  <tbody>\n",
       "    <tr>\n",
       "      <th>300</th>\n",
       "      <td>2</td>\n",
       "      <td>5391</td>\n",
       "      <td>0.000000</td>\n",
       "      <td>130</td>\n",
       "      <td>360</td>\n",
       "      <td>1</td>\n",
       "    </tr>\n",
       "    <tr>\n",
       "      <th>100</th>\n",
       "      <td>0</td>\n",
       "      <td>3459</td>\n",
       "      <td>0.000000</td>\n",
       "      <td>25</td>\n",
       "      <td>120</td>\n",
       "      <td>1</td>\n",
       "    </tr>\n",
       "    <tr>\n",
       "      <th>169</th>\n",
       "      <td>3</td>\n",
       "      <td>3430</td>\n",
       "      <td>1250.000000</td>\n",
       "      <td>128</td>\n",
       "      <td>360</td>\n",
       "      <td>0</td>\n",
       "    </tr>\n",
       "    <tr>\n",
       "      <th>341</th>\n",
       "      <td>0</td>\n",
       "      <td>2920</td>\n",
       "      <td>16.120001</td>\n",
       "      <td>87</td>\n",
       "      <td>360</td>\n",
       "      <td>1</td>\n",
       "    </tr>\n",
       "    <tr>\n",
       "      <th>388</th>\n",
       "      <td>1</td>\n",
       "      <td>18333</td>\n",
       "      <td>0.000000</td>\n",
       "      <td>500</td>\n",
       "      <td>360</td>\n",
       "      <td>1</td>\n",
       "    </tr>\n",
       "  </tbody>\n",
       "</table>\n",
       "</div>"
      ],
      "text/plain": [
       "     Dependents  ApplicantIncome  CoapplicantIncome  LoanAmount  \\\n",
       "300           2             5391           0.000000         130   \n",
       "100           0             3459           0.000000          25   \n",
       "169           3             3430        1250.000000         128   \n",
       "341           0             2920          16.120001          87   \n",
       "388           1            18333           0.000000         500   \n",
       "\n",
       "     Loan_Amount_Term  Credit_History  \n",
       "300               360               1  \n",
       "100               120               1  \n",
       "169               360               0  \n",
       "341               360               1  \n",
       "388               360               1  "
      ]
     },
     "execution_count": 41,
     "metadata": {},
     "output_type": "execute_result"
    }
   ],
   "source": [
    "x_train_numcols.head()"
   ]
  },
  {
   "cell_type": "code",
   "execution_count": 42,
   "id": "varying-exhibition",
   "metadata": {},
   "outputs": [
    {
     "data": {
      "text/plain": [
       "(369, 6)"
      ]
     },
     "execution_count": 42,
     "metadata": {},
     "output_type": "execute_result"
    }
   ],
   "source": [
    "x_train_numcols.shape"
   ]
  },
  {
   "cell_type": "code",
   "execution_count": 44,
   "id": "laughing-europe",
   "metadata": {},
   "outputs": [],
   "source": [
    "x_train_chrcol = x_train.select_dtypes(include = object)"
   ]
  },
  {
   "cell_type": "code",
   "execution_count": 45,
   "id": "hidden-drive",
   "metadata": {},
   "outputs": [
    {
     "data": {
      "text/html": [
       "<div>\n",
       "<style scoped>\n",
       "    .dataframe tbody tr th:only-of-type {\n",
       "        vertical-align: middle;\n",
       "    }\n",
       "\n",
       "    .dataframe tbody tr th {\n",
       "        vertical-align: top;\n",
       "    }\n",
       "\n",
       "    .dataframe thead th {\n",
       "        text-align: right;\n",
       "    }\n",
       "</style>\n",
       "<table border=\"1\" class=\"dataframe\">\n",
       "  <thead>\n",
       "    <tr style=\"text-align: right;\">\n",
       "      <th></th>\n",
       "      <th>Married</th>\n",
       "      <th>Education</th>\n",
       "      <th>Self_Employed</th>\n",
       "      <th>Property_Area</th>\n",
       "    </tr>\n",
       "  </thead>\n",
       "  <tbody>\n",
       "    <tr>\n",
       "      <th>300</th>\n",
       "      <td>Yes</td>\n",
       "      <td>Graduate</td>\n",
       "      <td>No</td>\n",
       "      <td>Urban</td>\n",
       "    </tr>\n",
       "    <tr>\n",
       "      <th>100</th>\n",
       "      <td>Yes</td>\n",
       "      <td>Graduate</td>\n",
       "      <td>Yes</td>\n",
       "      <td>Semiurban</td>\n",
       "    </tr>\n",
       "    <tr>\n",
       "      <th>169</th>\n",
       "      <td>Yes</td>\n",
       "      <td>Graduate</td>\n",
       "      <td>No</td>\n",
       "      <td>Semiurban</td>\n",
       "    </tr>\n",
       "    <tr>\n",
       "      <th>341</th>\n",
       "      <td>Yes</td>\n",
       "      <td>Graduate</td>\n",
       "      <td>No</td>\n",
       "      <td>Rural</td>\n",
       "    </tr>\n",
       "    <tr>\n",
       "      <th>388</th>\n",
       "      <td>Yes</td>\n",
       "      <td>Graduate</td>\n",
       "      <td>No</td>\n",
       "      <td>Urban</td>\n",
       "    </tr>\n",
       "  </tbody>\n",
       "</table>\n",
       "</div>"
      ],
      "text/plain": [
       "    Married Education Self_Employed Property_Area\n",
       "300     Yes  Graduate            No         Urban\n",
       "100     Yes  Graduate           Yes     Semiurban\n",
       "169     Yes  Graduate            No     Semiurban\n",
       "341     Yes  Graduate            No         Rural\n",
       "388     Yes  Graduate            No         Urban"
      ]
     },
     "execution_count": 45,
     "metadata": {},
     "output_type": "execute_result"
    }
   ],
   "source": [
    "x_train_chrcol.head()"
   ]
  },
  {
   "cell_type": "code",
   "execution_count": 46,
   "id": "martial-screening",
   "metadata": {},
   "outputs": [
    {
     "data": {
      "text/plain": [
       "(369, 4)"
      ]
     },
     "execution_count": 46,
     "metadata": {},
     "output_type": "execute_result"
    }
   ],
   "source": [
    "x_train_chrcol.shape"
   ]
  }
 ],
 "metadata": {
  "kernelspec": {
   "display_name": "Python 3 (ipykernel)",
   "language": "python",
   "name": "python3"
  },
  "language_info": {
   "codemirror_mode": {
    "name": "ipython",
    "version": 3
   },
   "file_extension": ".py",
   "mimetype": "text/x-python",
   "name": "python",
   "nbconvert_exporter": "python",
   "pygments_lexer": "ipython3",
   "version": "3.9.5"
  }
 },
 "nbformat": 4,
 "nbformat_minor": 5
}
