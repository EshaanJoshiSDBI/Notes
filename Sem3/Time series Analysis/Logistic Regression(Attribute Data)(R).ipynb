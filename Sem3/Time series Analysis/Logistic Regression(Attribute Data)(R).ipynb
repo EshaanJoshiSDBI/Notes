{
 "cells": [
  {
   "cell_type": "markdown",
   "id": "12366223",
   "metadata": {},
   "source": [
    "- Type of Data\n",
    "    - Continuous\n",
    "    - Discrete\n",
    "    - Attribute\n",
    "- Scale\n",
    "    - Nominal\n",
    "        - Different categories\n",
    "        - There is no logical order to the categories\n",
    "        - Does not depend on the order of data given\n",
    "        - Languages I know, companies I've worked for\n",
    "    - Ordinal\n",
    "        - Different categories\n",
    "        - There is a logical order to the categores\n",
    "        - Used for sequencing or ranking\n",
    "        - Rating something\n",
    "    - Interval\n",
    "        - We are not concerned about the actual count / measurement, we are just concerned about the interval/category it falls into.\n",
    "        \n",
    "_Both Nominal and ordinal will be used to collect `Attribute Type`_"
   ]
  },
  {
   "cell_type": "markdown",
   "id": "61575257",
   "metadata": {},
   "source": [
    "# Nominal Logistic Regression\n",
    "- Response is on the nominal scale and is an attribute data\n",
    "- Eg\n",
    "    - What do students do after graduating\n",
    "        - PG\n",
    "        - Job\n",
    "        - Start their own business    "
   ]
  },
  {
   "cell_type": "code",
   "execution_count": 4,
   "id": "205b00d0",
   "metadata": {},
   "outputs": [],
   "source": [
    "library(readxl)\n",
    "library(nnet)"
   ]
  },
  {
   "cell_type": "code",
   "execution_count": 2,
   "id": "087952e1",
   "metadata": {},
   "outputs": [],
   "source": [
    "df = read_excel('LogisticRegression.xlsx',sheet='nominal')"
   ]
  },
  {
   "cell_type": "code",
   "execution_count": 3,
   "id": "ceebea6f",
   "metadata": {},
   "outputs": [
    {
     "data": {
      "text/html": [
       "<table class=\"dataframe\">\n",
       "<caption>A tibble: 6 × 3</caption>\n",
       "<thead>\n",
       "\t<tr><th scope=col>ses</th><th scope=col>write</th><th scope=col>prog</th></tr>\n",
       "\t<tr><th scope=col>&lt;chr&gt;</th><th scope=col>&lt;dbl&gt;</th><th scope=col>&lt;chr&gt;</th></tr>\n",
       "</thead>\n",
       "<tbody>\n",
       "\t<tr><td>low   </td><td>35</td><td>vocation</td></tr>\n",
       "\t<tr><td>middle</td><td>33</td><td>general </td></tr>\n",
       "\t<tr><td>high  </td><td>39</td><td>vocation</td></tr>\n",
       "\t<tr><td>low   </td><td>37</td><td>vocation</td></tr>\n",
       "\t<tr><td>middle</td><td>31</td><td>vocation</td></tr>\n",
       "\t<tr><td>high  </td><td>36</td><td>general </td></tr>\n",
       "</tbody>\n",
       "</table>\n"
      ],
      "text/latex": [
       "A tibble: 6 × 3\n",
       "\\begin{tabular}{lll}\n",
       " ses & write & prog\\\\\n",
       " <chr> & <dbl> & <chr>\\\\\n",
       "\\hline\n",
       "\t low    & 35 & vocation\\\\\n",
       "\t middle & 33 & general \\\\\n",
       "\t high   & 39 & vocation\\\\\n",
       "\t low    & 37 & vocation\\\\\n",
       "\t middle & 31 & vocation\\\\\n",
       "\t high   & 36 & general \\\\\n",
       "\\end{tabular}\n"
      ],
      "text/markdown": [
       "\n",
       "A tibble: 6 × 3\n",
       "\n",
       "| ses &lt;chr&gt; | write &lt;dbl&gt; | prog &lt;chr&gt; |\n",
       "|---|---|---|\n",
       "| low    | 35 | vocation |\n",
       "| middle | 33 | general  |\n",
       "| high   | 39 | vocation |\n",
       "| low    | 37 | vocation |\n",
       "| middle | 31 | vocation |\n",
       "| high   | 36 | general  |\n",
       "\n"
      ],
      "text/plain": [
       "  ses    write prog    \n",
       "1 low    35    vocation\n",
       "2 middle 33    general \n",
       "3 high   39    vocation\n",
       "4 low    37    vocation\n",
       "5 middle 31    vocation\n",
       "6 high   36    general "
      ]
     },
     "metadata": {},
     "output_type": "display_data"
    }
   ],
   "source": [
    "head(df)"
   ]
  },
  {
   "cell_type": "markdown",
   "id": "8c2b7844",
   "metadata": {},
   "source": [
    "- Ses\n",
    "    - Socio-Economic Status\n",
    "- write\n",
    "    - marks obtained\n",
    "- prog\n",
    "    - Program taken by the student"
   ]
  },
  {
   "cell_type": "code",
   "execution_count": 5,
   "id": "4f308c01",
   "metadata": {},
   "outputs": [],
   "source": [
    "df$ses = as.factor(df$ses)\n",
    "df$prog = as.factor(df$prog)"
   ]
  },
  {
   "cell_type": "code",
   "execution_count": 6,
   "id": "3a68836c",
   "metadata": {},
   "outputs": [
    {
     "name": "stdout",
     "output_type": "stream",
     "text": [
      "tibble [200 × 3] (S3: tbl_df/tbl/data.frame)\n",
      " $ ses  : Factor w/ 3 levels \"high\",\"low\",\"middle\": 2 3 1 2 3 1 3 3 3 3 ...\n",
      " $ write: num [1:200] 35 33 39 37 31 36 36 31 41 37 ...\n",
      " $ prog : Factor w/ 3 levels \"academic\",\"general\",..: 3 2 3 3 3 2 3 3 3 3 ...\n"
     ]
    }
   ],
   "source": [
    "str(df)"
   ]
  },
  {
   "cell_type": "code",
   "execution_count": 7,
   "id": "e0ced4a3",
   "metadata": {},
   "outputs": [],
   "source": [
    "df$ses = relevel(df$ses,ref='low')\n",
    "df$prog = relevel(df$prog,ref='academic')"
   ]
  },
  {
   "cell_type": "code",
   "execution_count": 8,
   "id": "82892ae1",
   "metadata": {},
   "outputs": [
    {
     "name": "stdout",
     "output_type": "stream",
     "text": [
      "# weights:  15 (8 variable)\n",
      "initial  value 219.722458 \n",
      "iter  10 value 179.982880\n",
      "final  value 179.981726 \n",
      "converged\n"
     ]
    }
   ],
   "source": [
    "mod = multinom(prog ~ ses + write,data=df)"
   ]
  },
  {
   "cell_type": "code",
   "execution_count": 9,
   "id": "a3d763db",
   "metadata": {},
   "outputs": [
    {
     "data": {
      "text/plain": [
       "Call:\n",
       "multinom(formula = prog ~ ses + write, data = df)\n",
       "\n",
       "Coefficients:\n",
       "         (Intercept)    seshigh  sesmiddle      write\n",
       "general     2.852198 -1.1628226 -0.5332810 -0.0579287\n",
       "vocation    5.218260 -0.9826649  0.2913859 -0.1136037\n",
       "\n",
       "Std. Errors:\n",
       "         (Intercept)   seshigh sesmiddle      write\n",
       "general     1.166441 0.5142196 0.4437323 0.02141097\n",
       "vocation    1.163552 0.5955665 0.4763739 0.02221996\n",
       "\n",
       "Residual Deviance: 359.9635 \n",
       "AIC: 375.9635 "
      ]
     },
     "metadata": {},
     "output_type": "display_data"
    }
   ],
   "source": [
    "summary(mod)"
   ]
  },
  {
   "cell_type": "markdown",
   "id": "a7067b38",
   "metadata": {},
   "source": [
    "- (G,W)\n",
    "    - log of odds of student taking general instead of academic decreases by ~0.05 if marks increase\n",
    "- If you are coming from a high income group, then as compered to someone from low income group, you have an inclination more towards the academic courses as compared to the general course because the coefficient is negative"
   ]
  },
  {
   "cell_type": "code",
   "execution_count": 11,
   "id": "7f7b1932",
   "metadata": {},
   "outputs": [],
   "source": [
    "z = summary(mod)$coefficients/summary(mod)$standard.errors"
   ]
  },
  {
   "cell_type": "code",
   "execution_count": 12,
   "id": "81927b8e",
   "metadata": {},
   "outputs": [
    {
     "data": {
      "text/html": [
       "<table class=\"dataframe\">\n",
       "<caption>A matrix: 2 × 4 of type dbl</caption>\n",
       "<thead>\n",
       "\t<tr><th></th><th scope=col>(Intercept)</th><th scope=col>seshigh</th><th scope=col>sesmiddle</th><th scope=col>write</th></tr>\n",
       "</thead>\n",
       "<tbody>\n",
       "\t<tr><th scope=row>general</th><td>2.445214</td><td>-2.261334</td><td>-1.2018081</td><td>-2.705562</td></tr>\n",
       "\t<tr><th scope=row>vocation</th><td>4.484769</td><td>-1.649967</td><td> 0.6116747</td><td>-5.112689</td></tr>\n",
       "</tbody>\n",
       "</table>\n"
      ],
      "text/latex": [
       "A matrix: 2 × 4 of type dbl\n",
       "\\begin{tabular}{r|llll}\n",
       "  & (Intercept) & seshigh & sesmiddle & write\\\\\n",
       "\\hline\n",
       "\tgeneral & 2.445214 & -2.261334 & -1.2018081 & -2.705562\\\\\n",
       "\tvocation & 4.484769 & -1.649967 &  0.6116747 & -5.112689\\\\\n",
       "\\end{tabular}\n"
      ],
      "text/markdown": [
       "\n",
       "A matrix: 2 × 4 of type dbl\n",
       "\n",
       "| <!--/--> | (Intercept) | seshigh | sesmiddle | write |\n",
       "|---|---|---|---|---|\n",
       "| general | 2.445214 | -2.261334 | -1.2018081 | -2.705562 |\n",
       "| vocation | 4.484769 | -1.649967 |  0.6116747 | -5.112689 |\n",
       "\n"
      ],
      "text/plain": [
       "         (Intercept) seshigh   sesmiddle  write    \n",
       "general  2.445214    -2.261334 -1.2018081 -2.705562\n",
       "vocation 4.484769    -1.649967  0.6116747 -5.112689"
      ]
     },
     "metadata": {},
     "output_type": "display_data"
    }
   ],
   "source": [
    "z"
   ]
  },
  {
   "cell_type": "code",
   "execution_count": 13,
   "id": "a53b5fe8",
   "metadata": {},
   "outputs": [],
   "source": [
    "p = (1 - pnorm(abs(z), 0, 1)) * 2"
   ]
  },
  {
   "cell_type": "code",
   "execution_count": 14,
   "id": "f0ed0f4f",
   "metadata": {},
   "outputs": [
    {
     "data": {
      "text/html": [
       "<table class=\"dataframe\">\n",
       "<caption>A matrix: 2 × 4 of type dbl</caption>\n",
       "<thead>\n",
       "\t<tr><th></th><th scope=col>(Intercept)</th><th scope=col>seshigh</th><th scope=col>sesmiddle</th><th scope=col>write</th></tr>\n",
       "</thead>\n",
       "<tbody>\n",
       "\t<tr><th scope=row>general</th><td>0.0144766100</td><td>0.02373856</td><td>0.2294379</td><td>6.818902e-03</td></tr>\n",
       "\t<tr><th scope=row>vocation</th><td>0.0000072993</td><td>0.09894976</td><td>0.5407530</td><td>3.176045e-07</td></tr>\n",
       "</tbody>\n",
       "</table>\n"
      ],
      "text/latex": [
       "A matrix: 2 × 4 of type dbl\n",
       "\\begin{tabular}{r|llll}\n",
       "  & (Intercept) & seshigh & sesmiddle & write\\\\\n",
       "\\hline\n",
       "\tgeneral & 0.0144766100 & 0.02373856 & 0.2294379 & 6.818902e-03\\\\\n",
       "\tvocation & 0.0000072993 & 0.09894976 & 0.5407530 & 3.176045e-07\\\\\n",
       "\\end{tabular}\n"
      ],
      "text/markdown": [
       "\n",
       "A matrix: 2 × 4 of type dbl\n",
       "\n",
       "| <!--/--> | (Intercept) | seshigh | sesmiddle | write |\n",
       "|---|---|---|---|---|\n",
       "| general | 0.0144766100 | 0.02373856 | 0.2294379 | 6.818902e-03 |\n",
       "| vocation | 0.0000072993 | 0.09894976 | 0.5407530 | 3.176045e-07 |\n",
       "\n"
      ],
      "text/plain": [
       "         (Intercept)  seshigh    sesmiddle write       \n",
       "general  0.0144766100 0.02373856 0.2294379 6.818902e-03\n",
       "vocation 0.0000072993 0.09894976 0.5407530 3.176045e-07"
      ]
     },
     "metadata": {},
     "output_type": "display_data"
    }
   ],
   "source": [
    "p"
   ]
  },
  {
   "attachments": {
    "image-2.png": {
     "image/png": "[encoded data removed]"
    },
    "image.png": {
     "image/png": "[encoded data removed]"
    }
   },
   "cell_type": "markdown",
   "id": "a9acc86b",
   "metadata": {},
   "source": [
    "![image.png](attachment:image.png)\n",
    "![image-2.png](attachment:image-2.png)"
   ]
  },
  {
   "cell_type": "markdown",
   "id": "4d4d05b7",
   "metadata": {},
   "source": [
    "# Ordinal"
   ]
  },
  {
   "cell_type": "code",
   "execution_count": 11,
   "id": "e7f20018",
   "metadata": {},
   "outputs": [],
   "source": [
    "library(Hmisc)"
   ]
  },
  {
   "cell_type": "code",
   "execution_count": 12,
   "id": "911dbddb",
   "metadata": {},
   "outputs": [],
   "source": [
    "library(MASS)"
   ]
  },
  {
   "cell_type": "code",
   "execution_count": 6,
   "id": "e5eb07e6",
   "metadata": {},
   "outputs": [],
   "source": [
    "library(readxl)"
   ]
  },
  {
   "cell_type": "markdown",
   "id": "5f108f13",
   "metadata": {},
   "source": [
    "Oridnal scale - ranking / rating<br>\n",
    "i.e categories will have a logical order, change in order will impact the result\n",
    "<br><em>When type of data is attribute and type of data is ordinal</em>"
   ]
  },
  {
   "cell_type": "code",
   "execution_count": 7,
   "id": "501b2d58",
   "metadata": {},
   "outputs": [],
   "source": [
    "df = read_excel('LogisticRegression.xlsx',sheet='ordinal2')"
   ]
  },
  {
   "cell_type": "code",
   "execution_count": 8,
   "id": "3c3b7777",
   "metadata": {},
   "outputs": [],
   "source": [
    "df$Survival = as.factor(df$Survival)\n",
    "df$Region = as.factor(df$Region)"
   ]
  },
  {
   "cell_type": "code",
   "execution_count": 9,
   "id": "943eaf87",
   "metadata": {},
   "outputs": [
    {
     "name": "stdout",
     "output_type": "stream",
     "text": [
      "tibble [73 × 3] (S3: tbl_df/tbl/data.frame)\n",
      " $ Survival  : Factor w/ 3 levels \"1\",\"2\",\"3\": 1 1 2 3 2 1 2 3 2 1 ...\n",
      " $ Region    : Factor w/ 2 levels \"1\",\"2\": 1 2 1 2 1 1 2 1 1 2 ...\n",
      " $ ToxicLevel: num [1:73] 62 46 48.5 32 63.5 ...\n"
     ]
    }
   ],
   "source": [
    "str(df)"
   ]
  },
  {
   "cell_type": "code",
   "execution_count": 23,
   "id": "7be2bb12",
   "metadata": {},
   "outputs": [],
   "source": [
    "mod = polr(Survival ~ Region + ToxicLevel,data=df,Hess=TRUE)"
   ]
  },
  {
   "cell_type": "code",
   "execution_count": 24,
   "id": "33241644",
   "metadata": {},
   "outputs": [
    {
     "data": {
      "text/plain": [
       "Call:\n",
       "polr(formula = Survival ~ Region + ToxicLevel, data = df, Hess = TRUE)\n",
       "\n",
       "Coefficients:\n",
       "             Value Std. Error t value\n",
       "Region2    -0.2015    0.49300 -0.4086\n",
       "ToxicLevel -0.1213    0.03471 -3.4946\n",
       "\n",
       "Intercepts:\n",
       "    Value   Std. Error t value\n",
       "1|2 -7.0434  1.7025    -4.1371\n",
       "2|3 -3.5227  1.4818    -2.3773\n",
       "\n",
       "Residual Deviance: 118.5799 \n",
       "AIC: 126.5799 "
      ]
     },
     "metadata": {},
     "output_type": "display_data"
    }
   ],
   "source": [
    "summary(mod)"
   ]
  },
  {
   "cell_type": "markdown",
   "id": "fae53423",
   "metadata": {},
   "source": [
    "- 1 is the worst survival rating, 3 is the best"
   ]
  },
  {
   "cell_type": "markdown",
   "id": "ed54f622",
   "metadata": {},
   "source": [
    "- As one goes from Region1 to Region2 the survival rating goes from 3 to 2 or 2 to 1 or 3 to 1\n",
    "- If toxic level increases then suvival rating goes down"
   ]
  },
  {
   "cell_type": "code",
   "execution_count": 25,
   "id": "8236491d",
   "metadata": {},
   "outputs": [],
   "source": [
    "ctable = coef(summary(mod))"
   ]
  },
  {
   "cell_type": "code",
   "execution_count": 26,
   "id": "8315b788",
   "metadata": {},
   "outputs": [
    {
     "data": {
      "text/html": [
       "<table class=\"dataframe\">\n",
       "<caption>A matrix: 4 × 3 of type dbl</caption>\n",
       "<thead>\n",
       "\t<tr><th></th><th scope=col>Value</th><th scope=col>Std. Error</th><th scope=col>t value</th></tr>\n",
       "</thead>\n",
       "<tbody>\n",
       "\t<tr><th scope=row>Region2</th><td>-0.2014544</td><td>0.49299720</td><td>-0.4086319</td></tr>\n",
       "\t<tr><th scope=row>ToxicLevel</th><td>-0.1212892</td><td>0.03470746</td><td>-3.4946162</td></tr>\n",
       "\t<tr><th scope=row>1|2</th><td>-7.0434351</td><td>1.70252014</td><td>-4.1370642</td></tr>\n",
       "\t<tr><th scope=row>2|3</th><td>-3.5227278</td><td>1.48179928</td><td>-2.3773313</td></tr>\n",
       "</tbody>\n",
       "</table>\n"
      ],
      "text/latex": [
       "A matrix: 4 × 3 of type dbl\n",
       "\\begin{tabular}{r|lll}\n",
       "  & Value & Std. Error & t value\\\\\n",
       "\\hline\n",
       "\tRegion2 & -0.2014544 & 0.49299720 & -0.4086319\\\\\n",
       "\tToxicLevel & -0.1212892 & 0.03470746 & -3.4946162\\\\\n",
       "\t1\\textbar{}2 & -7.0434351 & 1.70252014 & -4.1370642\\\\\n",
       "\t2\\textbar{}3 & -3.5227278 & 1.48179928 & -2.3773313\\\\\n",
       "\\end{tabular}\n"
      ],
      "text/markdown": [
       "\n",
       "A matrix: 4 × 3 of type dbl\n",
       "\n",
       "| <!--/--> | Value | Std. Error | t value |\n",
       "|---|---|---|---|\n",
       "| Region2 | -0.2014544 | 0.49299720 | -0.4086319 |\n",
       "| ToxicLevel | -0.1212892 | 0.03470746 | -3.4946162 |\n",
       "| 1|2 | -7.0434351 | 1.70252014 | -4.1370642 |\n",
       "| 2|3 | -3.5227278 | 1.48179928 | -2.3773313 |\n",
       "\n"
      ],
      "text/plain": [
       "           Value      Std. Error t value   \n",
       "Region2    -0.2014544 0.49299720 -0.4086319\n",
       "ToxicLevel -0.1212892 0.03470746 -3.4946162\n",
       "1|2        -7.0434351 1.70252014 -4.1370642\n",
       "2|3        -3.5227278 1.48179928 -2.3773313"
      ]
     },
     "metadata": {},
     "output_type": "display_data"
    }
   ],
   "source": [
    "ctable"
   ]
  },
  {
   "cell_type": "code",
   "execution_count": 27,
   "id": "603fb875",
   "metadata": {},
   "outputs": [],
   "source": [
    "p = pnorm(abs(ctable[,'t value']),lower.tail = FALSE) * 2"
   ]
  },
  {
   "cell_type": "code",
   "execution_count": 28,
   "id": "c62dbf1a",
   "metadata": {},
   "outputs": [
    {
     "data": {
      "text/html": [
       "<style>\n",
       ".dl-inline {width: auto; margin:0; padding: 0}\n",
       ".dl-inline>dt, .dl-inline>dd {float: none; width: auto; display: inline-block}\n",
       ".dl-inline>dt::after {content: \":\\0020\"; padding-right: .5ex}\n",
       ".dl-inline>dt:not(:first-of-type) {padding-left: .5ex}\n",
       "</style><dl class=dl-inline><dt>Region2</dt><dd>0.682809797569774</dd><dt>ToxicLevel</dt><dd>0.00047474384155764</dd><dt>1|2</dt><dd>3.51777755939651e-05</dd><dt>2|3</dt><dd>0.0174384182537055</dd></dl>\n"
      ],
      "text/latex": [
       "\\begin{description*}\n",
       "\\item[Region2] 0.682809797569774\n",
       "\\item[ToxicLevel] 0.00047474384155764\n",
       "\\item[1\\textbackslash{}textbar\\{\\}2] 3.51777755939651e-05\n",
       "\\item[2\\textbackslash{}textbar\\{\\}3] 0.0174384182537055\n",
       "\\end{description*}\n"
      ],
      "text/markdown": [
       "Region2\n",
       ":   0.682809797569774ToxicLevel\n",
       ":   0.000474743841557641|2\n",
       ":   3.51777755939651e-052|3\n",
       ":   0.0174384182537055\n",
       "\n"
      ],
      "text/plain": [
       "     Region2   ToxicLevel          1|2          2|3 \n",
       "6.828098e-01 4.747438e-04 3.517778e-05 1.743842e-02 "
      ]
     },
     "metadata": {},
     "output_type": "display_data"
    }
   ],
   "source": [
    "p"
   ]
  },
  {
   "cell_type": "markdown",
   "id": "8551beb9",
   "metadata": {},
   "source": [
    "- 1|2 and 2|3 is the degree of difference between 1 and 2 and 2 and 3\n",
    "- Whether the the difference between the categories can be ignored?\n",
    "<br>Ho: Categories are same\n",
    "<br>H1: Categories ain't same"
   ]
  },
  {
   "cell_type": "code",
   "execution_count": 29,
   "id": "4def88dc",
   "metadata": {},
   "outputs": [],
   "source": [
    "data = data.frame(Region=c('1','2'),ToxicLevel= 50)"
   ]
  },
  {
   "cell_type": "code",
   "execution_count": 31,
   "id": "f9da3a9c",
   "metadata": {},
   "outputs": [
    {
     "data": {
      "text/html": [
       "<table class=\"dataframe\">\n",
       "<caption>A data.frame: 2 × 2</caption>\n",
       "<thead>\n",
       "\t<tr><th scope=col>Region</th><th scope=col>ToxicLevel</th></tr>\n",
       "\t<tr><th scope=col>&lt;chr&gt;</th><th scope=col>&lt;dbl&gt;</th></tr>\n",
       "</thead>\n",
       "<tbody>\n",
       "\t<tr><td>1</td><td>50</td></tr>\n",
       "\t<tr><td>2</td><td>50</td></tr>\n",
       "</tbody>\n",
       "</table>\n"
      ],
      "text/latex": [
       "A data.frame: 2 × 2\n",
       "\\begin{tabular}{ll}\n",
       " Region & ToxicLevel\\\\\n",
       " <chr> & <dbl>\\\\\n",
       "\\hline\n",
       "\t 1 & 50\\\\\n",
       "\t 2 & 50\\\\\n",
       "\\end{tabular}\n"
      ],
      "text/markdown": [
       "\n",
       "A data.frame: 2 × 2\n",
       "\n",
       "| Region &lt;chr&gt; | ToxicLevel &lt;dbl&gt; |\n",
       "|---|---|\n",
       "| 1 | 50 |\n",
       "| 2 | 50 |\n",
       "\n"
      ],
      "text/plain": [
       "  Region ToxicLevel\n",
       "1 1      50        \n",
       "2 2      50        "
      ]
     },
     "metadata": {},
     "output_type": "display_data"
    }
   ],
   "source": [
    "data"
   ]
  },
  {
   "cell_type": "code",
   "execution_count": 30,
   "id": "dfb14e23",
   "metadata": {},
   "outputs": [
    {
     "data": {
      "text/html": [
       "<table class=\"dataframe\">\n",
       "<caption>A matrix: 2 × 3 of type dbl</caption>\n",
       "<thead>\n",
       "\t<tr><th></th><th scope=col>1</th><th scope=col>2</th><th scope=col>3</th></tr>\n",
       "</thead>\n",
       "<tbody>\n",
       "\t<tr><th scope=row>1</th><td>0.2730956</td><td>0.6539206</td><td>0.07298375</td></tr>\n",
       "\t<tr><th scope=row>2</th><td>0.3148549</td><td>0.6246726</td><td>0.06047248</td></tr>\n",
       "</tbody>\n",
       "</table>\n"
      ],
      "text/latex": [
       "A matrix: 2 × 3 of type dbl\n",
       "\\begin{tabular}{r|lll}\n",
       "  & 1 & 2 & 3\\\\\n",
       "\\hline\n",
       "\t1 & 0.2730956 & 0.6539206 & 0.07298375\\\\\n",
       "\t2 & 0.3148549 & 0.6246726 & 0.06047248\\\\\n",
       "\\end{tabular}\n"
      ],
      "text/markdown": [
       "\n",
       "A matrix: 2 × 3 of type dbl\n",
       "\n",
       "| <!--/--> | 1 | 2 | 3 |\n",
       "|---|---|---|---|\n",
       "| 1 | 0.2730956 | 0.6539206 | 0.07298375 |\n",
       "| 2 | 0.3148549 | 0.6246726 | 0.06047248 |\n",
       "\n"
      ],
      "text/plain": [
       "  1         2         3         \n",
       "1 0.2730956 0.6539206 0.07298375\n",
       "2 0.3148549 0.6246726 0.06047248"
      ]
     },
     "metadata": {},
     "output_type": "display_data"
    }
   ],
   "source": [
    "predict(mod,data,type='probs')"
   ]
  },
  {
   "cell_type": "code",
   "execution_count": 32,
   "id": "ab0da5dd",
   "metadata": {},
   "outputs": [],
   "source": [
    "data = data.frame(Region = '1',ToxicLevel = c(20,40,50,60,80))"
   ]
  },
  {
   "cell_type": "code",
   "execution_count": 33,
   "id": "0aecdc4d",
   "metadata": {},
   "outputs": [
    {
     "data": {
      "text/html": [
       "<table class=\"dataframe\">\n",
       "<caption>A matrix: 5 × 3 of type dbl</caption>\n",
       "<thead>\n",
       "\t<tr><th></th><th scope=col>1</th><th scope=col>2</th><th scope=col>3</th></tr>\n",
       "</thead>\n",
       "<tbody>\n",
       "\t<tr><th scope=row>1</th><td>0.009779394</td><td>0.2405337</td><td>0.749686870</td></tr>\n",
       "\t<tr><th scope=row>2</th><td>0.100483362</td><td>0.6901656</td><td>0.209350997</td></tr>\n",
       "\t<tr><th scope=row>3</th><td>0.273095615</td><td>0.6539206</td><td>0.072983749</td></tr>\n",
       "\t<tr><th scope=row>4</th><td>0.558214652</td><td>0.4189116</td><td>0.022873732</td></tr>\n",
       "\t<tr><th scope=row>5</th><td>0.934606596</td><td>0.0633281</td><td>0.002065302</td></tr>\n",
       "</tbody>\n",
       "</table>\n"
      ],
      "text/latex": [
       "A matrix: 5 × 3 of type dbl\n",
       "\\begin{tabular}{r|lll}\n",
       "  & 1 & 2 & 3\\\\\n",
       "\\hline\n",
       "\t1 & 0.009779394 & 0.2405337 & 0.749686870\\\\\n",
       "\t2 & 0.100483362 & 0.6901656 & 0.209350997\\\\\n",
       "\t3 & 0.273095615 & 0.6539206 & 0.072983749\\\\\n",
       "\t4 & 0.558214652 & 0.4189116 & 0.022873732\\\\\n",
       "\t5 & 0.934606596 & 0.0633281 & 0.002065302\\\\\n",
       "\\end{tabular}\n"
      ],
      "text/markdown": [
       "\n",
       "A matrix: 5 × 3 of type dbl\n",
       "\n",
       "| <!--/--> | 1 | 2 | 3 |\n",
       "|---|---|---|---|\n",
       "| 1 | 0.009779394 | 0.2405337 | 0.749686870 |\n",
       "| 2 | 0.100483362 | 0.6901656 | 0.209350997 |\n",
       "| 3 | 0.273095615 | 0.6539206 | 0.072983749 |\n",
       "| 4 | 0.558214652 | 0.4189116 | 0.022873732 |\n",
       "| 5 | 0.934606596 | 0.0633281 | 0.002065302 |\n",
       "\n"
      ],
      "text/plain": [
       "  1           2         3          \n",
       "1 0.009779394 0.2405337 0.749686870\n",
       "2 0.100483362 0.6901656 0.209350997\n",
       "3 0.273095615 0.6539206 0.072983749\n",
       "4 0.558214652 0.4189116 0.022873732\n",
       "5 0.934606596 0.0633281 0.002065302"
      ]
     },
     "metadata": {},
     "output_type": "display_data"
    }
   ],
   "source": [
    "predict(mod,data,type='probs')"
   ]
  },
  {
   "cell_type": "markdown",
   "id": "e129eaea",
   "metadata": {},
   "source": [
    "prac"
   ]
  },
  {
   "cell_type": "code",
   "execution_count": 34,
   "id": "757d14b1",
   "metadata": {},
   "outputs": [],
   "source": [
    "df = read_excel('LogisticRegression.xlsx',sheet='ordinal1')"
   ]
  },
  {
   "cell_type": "code",
   "execution_count": 35,
   "id": "f02f2bb3",
   "metadata": {},
   "outputs": [
    {
     "data": {
      "text/html": [
       "<table class=\"dataframe\">\n",
       "<caption>A tibble: 6 × 4</caption>\n",
       "<thead>\n",
       "\t<tr><th scope=col>apply</th><th scope=col>pared</th><th scope=col>public</th><th scope=col>gpa</th></tr>\n",
       "\t<tr><th scope=col>&lt;chr&gt;</th><th scope=col>&lt;dbl&gt;</th><th scope=col>&lt;dbl&gt;</th><th scope=col>&lt;dbl&gt;</th></tr>\n",
       "</thead>\n",
       "<tbody>\n",
       "\t<tr><td>very likely    </td><td>0</td><td>0</td><td>3.26</td></tr>\n",
       "\t<tr><td>somewhat likely</td><td>1</td><td>0</td><td>3.21</td></tr>\n",
       "\t<tr><td>unlikely       </td><td>1</td><td>1</td><td>3.94</td></tr>\n",
       "\t<tr><td>somewhat likely</td><td>0</td><td>0</td><td>2.81</td></tr>\n",
       "\t<tr><td>somewhat likely</td><td>0</td><td>0</td><td>2.53</td></tr>\n",
       "\t<tr><td>unlikely       </td><td>0</td><td>1</td><td>2.59</td></tr>\n",
       "</tbody>\n",
       "</table>\n"
      ],
      "text/latex": [
       "A tibble: 6 × 4\n",
       "\\begin{tabular}{llll}\n",
       " apply & pared & public & gpa\\\\\n",
       " <chr> & <dbl> & <dbl> & <dbl>\\\\\n",
       "\\hline\n",
       "\t very likely     & 0 & 0 & 3.26\\\\\n",
       "\t somewhat likely & 1 & 0 & 3.21\\\\\n",
       "\t unlikely        & 1 & 1 & 3.94\\\\\n",
       "\t somewhat likely & 0 & 0 & 2.81\\\\\n",
       "\t somewhat likely & 0 & 0 & 2.53\\\\\n",
       "\t unlikely        & 0 & 1 & 2.59\\\\\n",
       "\\end{tabular}\n"
      ],
      "text/markdown": [
       "\n",
       "A tibble: 6 × 4\n",
       "\n",
       "| apply &lt;chr&gt; | pared &lt;dbl&gt; | public &lt;dbl&gt; | gpa &lt;dbl&gt; |\n",
       "|---|---|---|---|\n",
       "| very likely     | 0 | 0 | 3.26 |\n",
       "| somewhat likely | 1 | 0 | 3.21 |\n",
       "| unlikely        | 1 | 1 | 3.94 |\n",
       "| somewhat likely | 0 | 0 | 2.81 |\n",
       "| somewhat likely | 0 | 0 | 2.53 |\n",
       "| unlikely        | 0 | 1 | 2.59 |\n",
       "\n"
      ],
      "text/plain": [
       "  apply           pared public gpa \n",
       "1 very likely     0     0      3.26\n",
       "2 somewhat likely 1     0      3.21\n",
       "3 unlikely        1     1      3.94\n",
       "4 somewhat likely 0     0      2.81\n",
       "5 somewhat likely 0     0      2.53\n",
       "6 unlikely        0     1      2.59"
      ]
     },
     "metadata": {},
     "output_type": "display_data"
    }
   ],
   "source": [
    "head(df)"
   ]
  },
  {
   "cell_type": "code",
   "execution_count": 36,
   "id": "9cc5fa7a",
   "metadata": {},
   "outputs": [],
   "source": [
    "df$apply = as.factor(df$apply)\n",
    "df$pared = as.factor(df$pared)\n",
    "df$public = as.factor(df$public)"
   ]
  },
  {
   "cell_type": "code",
   "execution_count": 37,
   "id": "392f3e46",
   "metadata": {},
   "outputs": [
    {
     "name": "stdout",
     "output_type": "stream",
     "text": [
      "tibble [400 × 4] (S3: tbl_df/tbl/data.frame)\n",
      " $ apply : Factor w/ 3 levels \"somewhat likely\",..: 3 1 2 1 1 2 1 1 2 1 ...\n",
      " $ pared : Factor w/ 2 levels \"0\",\"1\": 1 2 2 1 1 1 1 1 1 2 ...\n",
      " $ public: Factor w/ 2 levels \"0\",\"1\": 1 1 2 1 1 2 1 1 1 1 ...\n",
      " $ gpa   : num [1:400] 3.26 3.21 3.94 2.81 2.53 ...\n"
     ]
    }
   ],
   "source": [
    "str(df)"
   ]
  },
  {
   "cell_type": "code",
   "execution_count": 45,
   "id": "0ee4fd2d",
   "metadata": {},
   "outputs": [
    {
     "data": {
      "text/html": [
       "<style>\n",
       ".list-inline {list-style: none; margin:0; padding: 0}\n",
       ".list-inline>li {display: inline-block}\n",
       ".list-inline>li:not(:last-child)::after {content: \"\\00b7\"; padding: 0 .5ex}\n",
       "</style>\n",
       "<ol class=list-inline><li>'somewhat likely'</li><li>'unlikely'</li><li>'very likely'</li></ol>\n"
      ],
      "text/latex": [
       "\\begin{enumerate*}\n",
       "\\item 'somewhat likely'\n",
       "\\item 'unlikely'\n",
       "\\item 'very likely'\n",
       "\\end{enumerate*}\n"
      ],
      "text/markdown": [
       "1. 'somewhat likely'\n",
       "2. 'unlikely'\n",
       "3. 'very likely'\n",
       "\n",
       "\n"
      ],
      "text/plain": [
       "[1] \"somewhat likely\" \"unlikely\"        \"very likely\"    "
      ]
     },
     "metadata": {},
     "output_type": "display_data"
    }
   ],
   "source": [
    "levels(df$apply)"
   ]
  },
  {
   "cell_type": "code",
   "execution_count": 39,
   "id": "1226179e",
   "metadata": {},
   "outputs": [],
   "source": [
    "mod1 = polr(apply ~ pared + public + gpa,data=df,Hess=TRUE)"
   ]
  },
  {
   "cell_type": "code",
   "execution_count": 40,
   "id": "2a7dbfa2",
   "metadata": {},
   "outputs": [
    {
     "data": {
      "text/plain": [
       "Call:\n",
       "polr(formula = apply ~ pared + public + gpa, data = df, Hess = TRUE)\n",
       "\n",
       "Coefficients:\n",
       "          Value Std. Error t value\n",
       "pared1  -0.2635     0.2876 -0.9162\n",
       "public1  0.5600     0.2955  1.8953\n",
       "gpa     -0.0708     0.2533 -0.2795\n",
       "\n",
       "Intercepts:\n",
       "                         Value   Std. Error t value\n",
       "somewhat likely|unlikely -0.7959  0.7516    -1.0589\n",
       "unlikely|very likely      2.0445  0.7606     2.6882\n",
       "\n",
       "Residual Deviance: 736.9261 \n",
       "AIC: 746.9261 "
      ]
     },
     "metadata": {},
     "output_type": "display_data"
    }
   ],
   "source": [
    "summary(mod1)"
   ]
  },
  {
   "cell_type": "code",
   "execution_count": 42,
   "id": "f1d09917",
   "metadata": {},
   "outputs": [
    {
     "data": {
      "text/html": [
       "<table class=\"dataframe\">\n",
       "<caption>A matrix: 5 × 3 of type dbl</caption>\n",
       "<thead>\n",
       "\t<tr><th></th><th scope=col>Value</th><th scope=col>Std. Error</th><th scope=col>t value</th></tr>\n",
       "</thead>\n",
       "<tbody>\n",
       "\t<tr><th scope=row>pared1</th><td>-0.26352826</td><td>0.2876425</td><td>-0.9161658</td></tr>\n",
       "\t<tr><th scope=row>public1</th><td> 0.55999663</td><td>0.2954713</td><td> 1.8952655</td></tr>\n",
       "\t<tr><th scope=row>gpa</th><td>-0.07080247</td><td>0.2533390</td><td>-0.2794772</td></tr>\n",
       "\t<tr><th scope=row>somewhat likely|unlikely</th><td>-0.79587821</td><td>0.7516351</td><td>-1.0588625</td></tr>\n",
       "\t<tr><th scope=row>unlikely|very likely</th><td> 2.04454674</td><td>0.7605593</td><td> 2.6882148</td></tr>\n",
       "</tbody>\n",
       "</table>\n"
      ],
      "text/latex": [
       "A matrix: 5 × 3 of type dbl\n",
       "\\begin{tabular}{r|lll}\n",
       "  & Value & Std. Error & t value\\\\\n",
       "\\hline\n",
       "\tpared1 & -0.26352826 & 0.2876425 & -0.9161658\\\\\n",
       "\tpublic1 &  0.55999663 & 0.2954713 &  1.8952655\\\\\n",
       "\tgpa & -0.07080247 & 0.2533390 & -0.2794772\\\\\n",
       "\tsomewhat likely\\textbar{}unlikely & -0.79587821 & 0.7516351 & -1.0588625\\\\\n",
       "\tunlikely\\textbar{}very likely &  2.04454674 & 0.7605593 &  2.6882148\\\\\n",
       "\\end{tabular}\n"
      ],
      "text/markdown": [
       "\n",
       "A matrix: 5 × 3 of type dbl\n",
       "\n",
       "| <!--/--> | Value | Std. Error | t value |\n",
       "|---|---|---|---|\n",
       "| pared1 | -0.26352826 | 0.2876425 | -0.9161658 |\n",
       "| public1 |  0.55999663 | 0.2954713 |  1.8952655 |\n",
       "| gpa | -0.07080247 | 0.2533390 | -0.2794772 |\n",
       "| somewhat likely|unlikely | -0.79587821 | 0.7516351 | -1.0588625 |\n",
       "| unlikely|very likely |  2.04454674 | 0.7605593 |  2.6882148 |\n",
       "\n"
      ],
      "text/plain": [
       "                         Value       Std. Error t value   \n",
       "pared1                   -0.26352826 0.2876425  -0.9161658\n",
       "public1                   0.55999663 0.2954713   1.8952655\n",
       "gpa                      -0.07080247 0.2533390  -0.2794772\n",
       "somewhat likely|unlikely -0.79587821 0.7516351  -1.0588625\n",
       "unlikely|very likely      2.04454674 0.7605593   2.6882148"
      ]
     },
     "metadata": {},
     "output_type": "display_data"
    }
   ],
   "source": [
    "ctable = coef(summary(mod1))\n",
    "ctable"
   ]
  },
  {
   "cell_type": "code",
   "execution_count": 43,
   "id": "1ed58125",
   "metadata": {},
   "outputs": [],
   "source": [
    "p = pnorm(abs(ctable[,'t value']),lower.tail = FALSE) * 2"
   ]
  },
  {
   "cell_type": "code",
   "execution_count": 44,
   "id": "ff12edfe",
   "metadata": {},
   "outputs": [
    {
     "data": {
      "text/html": [
       "<style>\n",
       ".dl-inline {width: auto; margin:0; padding: 0}\n",
       ".dl-inline>dt, .dl-inline>dd {float: none; width: auto; display: inline-block}\n",
       ".dl-inline>dt::after {content: \":\\0020\"; padding-right: .5ex}\n",
       ".dl-inline>dt:not(:first-of-type) {padding-left: .5ex}\n",
       "</style><dl class=dl-inline><dt>pared1</dt><dd>0.359579939607006</dd><dt>public1</dt><dd>0.058057239655807</dd><dt>gpa</dt><dd>0.779878660750251</dd><dt>somewhat likely|unlikely</dt><dd>0.289662386199463</dd><dt>unlikely|very likely</dt><dd>0.00718351807172697</dd></dl>\n"
      ],
      "text/latex": [
       "\\begin{description*}\n",
       "\\item[pared1] 0.359579939607006\n",
       "\\item[public1] 0.058057239655807\n",
       "\\item[gpa] 0.779878660750251\n",
       "\\item[somewhat likely\\textbackslash{}textbar\\{\\}unlikely] 0.289662386199463\n",
       "\\item[unlikely\\textbackslash{}textbar\\{\\}very likely] 0.00718351807172697\n",
       "\\end{description*}\n"
      ],
      "text/markdown": [
       "pared1\n",
       ":   0.359579939607006public1\n",
       ":   0.058057239655807gpa\n",
       ":   0.779878660750251somewhat likely|unlikely\n",
       ":   0.289662386199463unlikely|very likely\n",
       ":   0.00718351807172697\n",
       "\n"
      ],
      "text/plain": [
       "                  pared1                  public1                      gpa \n",
       "             0.359579940              0.058057240              0.779878661 \n",
       "somewhat likely|unlikely     unlikely|very likely \n",
       "             0.289662386              0.007183518 "
      ]
     },
     "metadata": {},
     "output_type": "display_data"
    }
   ],
   "source": [
    "p"
   ]
  },
  {
   "cell_type": "code",
   "execution_count": 46,
   "id": "44331a2c",
   "metadata": {},
   "outputs": [
    {
     "data": {
      "text/html": [
       "<table class=\"dataframe\">\n",
       "<caption>A matrix: 5 × 4 of type dbl</caption>\n",
       "<thead>\n",
       "\t<tr><th></th><th scope=col>Value</th><th scope=col>Std. Error</th><th scope=col>t value</th><th scope=col>p value</th></tr>\n",
       "</thead>\n",
       "<tbody>\n",
       "\t<tr><th scope=row>pared1</th><td>-0.26352826</td><td>0.2876425</td><td>-0.9161658</td><td>0.359579940</td></tr>\n",
       "\t<tr><th scope=row>public1</th><td> 0.55999663</td><td>0.2954713</td><td> 1.8952655</td><td>0.058057240</td></tr>\n",
       "\t<tr><th scope=row>gpa</th><td>-0.07080247</td><td>0.2533390</td><td>-0.2794772</td><td>0.779878661</td></tr>\n",
       "\t<tr><th scope=row>somewhat likely|unlikely</th><td>-0.79587821</td><td>0.7516351</td><td>-1.0588625</td><td>0.289662386</td></tr>\n",
       "\t<tr><th scope=row>unlikely|very likely</th><td> 2.04454674</td><td>0.7605593</td><td> 2.6882148</td><td>0.007183518</td></tr>\n",
       "</tbody>\n",
       "</table>\n"
      ],
      "text/latex": [
       "A matrix: 5 × 4 of type dbl\n",
       "\\begin{tabular}{r|llll}\n",
       "  & Value & Std. Error & t value & p value\\\\\n",
       "\\hline\n",
       "\tpared1 & -0.26352826 & 0.2876425 & -0.9161658 & 0.359579940\\\\\n",
       "\tpublic1 &  0.55999663 & 0.2954713 &  1.8952655 & 0.058057240\\\\\n",
       "\tgpa & -0.07080247 & 0.2533390 & -0.2794772 & 0.779878661\\\\\n",
       "\tsomewhat likely\\textbar{}unlikely & -0.79587821 & 0.7516351 & -1.0588625 & 0.289662386\\\\\n",
       "\tunlikely\\textbar{}very likely &  2.04454674 & 0.7605593 &  2.6882148 & 0.007183518\\\\\n",
       "\\end{tabular}\n"
      ],
      "text/markdown": [
       "\n",
       "A matrix: 5 × 4 of type dbl\n",
       "\n",
       "| <!--/--> | Value | Std. Error | t value | p value |\n",
       "|---|---|---|---|---|\n",
       "| pared1 | -0.26352826 | 0.2876425 | -0.9161658 | 0.359579940 |\n",
       "| public1 |  0.55999663 | 0.2954713 |  1.8952655 | 0.058057240 |\n",
       "| gpa | -0.07080247 | 0.2533390 | -0.2794772 | 0.779878661 |\n",
       "| somewhat likely|unlikely | -0.79587821 | 0.7516351 | -1.0588625 | 0.289662386 |\n",
       "| unlikely|very likely |  2.04454674 | 0.7605593 |  2.6882148 | 0.007183518 |\n",
       "\n"
      ],
      "text/plain": [
       "                         Value       Std. Error t value    p value    \n",
       "pared1                   -0.26352826 0.2876425  -0.9161658 0.359579940\n",
       "public1                   0.55999663 0.2954713   1.8952655 0.058057240\n",
       "gpa                      -0.07080247 0.2533390  -0.2794772 0.779878661\n",
       "somewhat likely|unlikely -0.79587821 0.7516351  -1.0588625 0.289662386\n",
       "unlikely|very likely      2.04454674 0.7605593   2.6882148 0.007183518"
      ]
     },
     "metadata": {},
     "output_type": "display_data"
    }
   ],
   "source": [
    "(ctable <- cbind(ctable, \"p value\" = p))"
   ]
  },
  {
   "cell_type": "code",
   "execution_count": 47,
   "id": "6ba56ef8",
   "metadata": {},
   "outputs": [
    {
     "data": {
      "text/html": [
       "<table class=\"dataframe\">\n",
       "<caption>A matrix: 3 × 2 of type dbl</caption>\n",
       "<thead>\n",
       "\t<tr><th></th><th scope=col>2.5 %</th><th scope=col>97.5 %</th></tr>\n",
       "</thead>\n",
       "<tbody>\n",
       "\t<tr><th scope=row>pared1</th><td>-0.82729727</td><td>0.3002408</td></tr>\n",
       "\t<tr><th scope=row>public1</th><td>-0.01911656</td><td>1.1391098</td></tr>\n",
       "\t<tr><th scope=row>gpa</th><td>-0.56733779</td><td>0.4257329</td></tr>\n",
       "</tbody>\n",
       "</table>\n"
      ],
      "text/latex": [
       "A matrix: 3 × 2 of type dbl\n",
       "\\begin{tabular}{r|ll}\n",
       "  & 2.5 \\% & 97.5 \\%\\\\\n",
       "\\hline\n",
       "\tpared1 & -0.82729727 & 0.3002408\\\\\n",
       "\tpublic1 & -0.01911656 & 1.1391098\\\\\n",
       "\tgpa & -0.56733779 & 0.4257329\\\\\n",
       "\\end{tabular}\n"
      ],
      "text/markdown": [
       "\n",
       "A matrix: 3 × 2 of type dbl\n",
       "\n",
       "| <!--/--> | 2.5 % | 97.5 % |\n",
       "|---|---|---|\n",
       "| pared1 | -0.82729727 | 0.3002408 |\n",
       "| public1 | -0.01911656 | 1.1391098 |\n",
       "| gpa | -0.56733779 | 0.4257329 |\n",
       "\n"
      ],
      "text/plain": [
       "        2.5 %       97.5 %   \n",
       "pared1  -0.82729727 0.3002408\n",
       "public1 -0.01911656 1.1391098\n",
       "gpa     -0.56733779 0.4257329"
      ]
     },
     "metadata": {},
     "output_type": "display_data"
    }
   ],
   "source": [
    "confint.default(mod1)"
   ]
  },
  {
   "cell_type": "code",
   "execution_count": 49,
   "id": "5d127293",
   "metadata": {},
   "outputs": [
    {
     "data": {
      "text/html": [
       "<style>\n",
       ".dl-inline {width: auto; margin:0; padding: 0}\n",
       ".dl-inline>dt, .dl-inline>dd {float: none; width: auto; display: inline-block}\n",
       ".dl-inline>dt::after {content: \":\\0020\"; padding-right: .5ex}\n",
       ".dl-inline>dt:not(:first-of-type) {padding-left: .5ex}\n",
       "</style><dl class=dl-inline><dt>pared1</dt><dd>0.768335911501161</dd><dt>public1</dt><dd>1.7506666077398</dd><dt>gpa</dt><dd>0.931645905129217</dd></dl>\n"
      ],
      "text/latex": [
       "\\begin{description*}\n",
       "\\item[pared1] 0.768335911501161\n",
       "\\item[public1] 1.7506666077398\n",
       "\\item[gpa] 0.931645905129217\n",
       "\\end{description*}\n"
      ],
      "text/markdown": [
       "pared1\n",
       ":   0.768335911501161public1\n",
       ":   1.7506666077398gpa\n",
       ":   0.931645905129217\n",
       "\n"
      ],
      "text/plain": [
       "   pared1   public1       gpa \n",
       "0.7683359 1.7506666 0.9316459 "
      ]
     },
     "metadata": {},
     "output_type": "display_data"
    }
   ],
   "source": [
    "exp(coef(mod1))\n",
    "# odd ratios"
   ]
  },
  {
   "cell_type": "code",
   "execution_count": 51,
   "id": "c9e1d397",
   "metadata": {},
   "outputs": [
    {
     "data": {
      "text/html": [
       "<table class=\"dataframe\">\n",
       "<caption>A matrix: 3 × 3 of type dbl</caption>\n",
       "<thead>\n",
       "\t<tr><th></th><th scope=col>OR</th><th scope=col>2.5 %</th><th scope=col>97.5 %</th></tr>\n",
       "</thead>\n",
       "<tbody>\n",
       "\t<tr><th scope=row>pared1</th><td>0.7683359</td><td>0.4372294</td><td>1.350184</td></tr>\n",
       "\t<tr><th scope=row>public1</th><td>1.7506666</td><td>0.9810650</td><td>3.123986</td></tr>\n",
       "\t<tr><th scope=row>gpa</th><td>0.9316459</td><td>0.5670330</td><td>1.530712</td></tr>\n",
       "</tbody>\n",
       "</table>\n"
      ],
      "text/latex": [
       "A matrix: 3 × 3 of type dbl\n",
       "\\begin{tabular}{r|lll}\n",
       "  & OR & 2.5 \\% & 97.5 \\%\\\\\n",
       "\\hline\n",
       "\tpared1 & 0.7683359 & 0.4372294 & 1.350184\\\\\n",
       "\tpublic1 & 1.7506666 & 0.9810650 & 3.123986\\\\\n",
       "\tgpa & 0.9316459 & 0.5670330 & 1.530712\\\\\n",
       "\\end{tabular}\n"
      ],
      "text/markdown": [
       "\n",
       "A matrix: 3 × 3 of type dbl\n",
       "\n",
       "| <!--/--> | OR | 2.5 % | 97.5 % |\n",
       "|---|---|---|---|\n",
       "| pared1 | 0.7683359 | 0.4372294 | 1.350184 |\n",
       "| public1 | 1.7506666 | 0.9810650 | 3.123986 |\n",
       "| gpa | 0.9316459 | 0.5670330 | 1.530712 |\n",
       "\n"
      ],
      "text/plain": [
       "        OR        2.5 %     97.5 %  \n",
       "pared1  0.7683359 0.4372294 1.350184\n",
       "public1 1.7506666 0.9810650 3.123986\n",
       "gpa     0.9316459 0.5670330 1.530712"
      ]
     },
     "metadata": {},
     "output_type": "display_data"
    }
   ],
   "source": [
    "exp(cbind(OR = coef(mod1), confint.default(mod1)))"
   ]
  }
 ],
 "metadata": {
  "kernelspec": {
   "display_name": "R",
   "language": "R",
   "name": "ir"
  },
  "language_info": {
   "codemirror_mode": "r",
   "file_extension": ".r",
   "mimetype": "text/x-r-source",
   "name": "R",
   "pygments_lexer": "r",
   "version": "4.1.1"
  }
 },
 "nbformat": 4,
 "nbformat_minor": 5
}
