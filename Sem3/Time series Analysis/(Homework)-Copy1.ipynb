{
 "cells": [
  {
   "cell_type": "code",
   "execution_count": 8,
   "id": "08b76b00",
   "metadata": {},
   "outputs": [
    {
     "name": "stderr",
     "output_type": "stream",
     "text": [
      "Loading required package: lattice\n",
      "\n",
      "Loading required package: ggplot2\n",
      "\n"
     ]
    }
   ],
   "source": [
    "library(caret)"
   ]
  },
  {
   "cell_type": "code",
   "execution_count": 2,
   "id": "1dc47d8f",
   "metadata": {},
   "outputs": [],
   "source": [
    "df = read.csv('diabetes.csv')"
   ]
  },
  {
   "cell_type": "code",
   "execution_count": 4,
   "id": "167c03ec",
   "metadata": {},
   "outputs": [
    {
     "data": {
      "text/html": [
       "<table class=\"dataframe\">\n",
       "<caption>A data.frame: 6 × 8</caption>\n",
       "<thead>\n",
       "\t<tr><th></th><th scope=col>Glucose</th><th scope=col>BloodPressure</th><th scope=col>SkinThickness</th><th scope=col>Insulin</th><th scope=col>BMI</th><th scope=col>DiabetesPedigreeFunction</th><th scope=col>Age</th><th scope=col>Outcome</th></tr>\n",
       "\t<tr><th></th><th scope=col>&lt;int&gt;</th><th scope=col>&lt;int&gt;</th><th scope=col>&lt;int&gt;</th><th scope=col>&lt;int&gt;</th><th scope=col>&lt;dbl&gt;</th><th scope=col>&lt;dbl&gt;</th><th scope=col>&lt;int&gt;</th><th scope=col>&lt;int&gt;</th></tr>\n",
       "</thead>\n",
       "<tbody>\n",
       "\t<tr><th scope=row>1</th><td>148</td><td>72</td><td>35</td><td>  0</td><td>33.6</td><td>0.63</td><td>50</td><td>1</td></tr>\n",
       "\t<tr><th scope=row>2</th><td> 85</td><td>66</td><td>29</td><td>  0</td><td>26.6</td><td>0.35</td><td>31</td><td>0</td></tr>\n",
       "\t<tr><th scope=row>3</th><td>183</td><td>64</td><td> 0</td><td>  0</td><td>23.3</td><td>0.67</td><td>32</td><td>1</td></tr>\n",
       "\t<tr><th scope=row>4</th><td> 89</td><td>66</td><td>23</td><td> 94</td><td>28.1</td><td>0.17</td><td>21</td><td>0</td></tr>\n",
       "\t<tr><th scope=row>5</th><td>137</td><td>40</td><td>35</td><td>168</td><td>43.1</td><td>2.29</td><td>33</td><td>1</td></tr>\n",
       "\t<tr><th scope=row>6</th><td>116</td><td>74</td><td> 0</td><td>  0</td><td>25.6</td><td>0.20</td><td>30</td><td>0</td></tr>\n",
       "</tbody>\n",
       "</table>\n"
      ],
      "text/latex": [
       "A data.frame: 6 × 8\n",
       "\\begin{tabular}{r|llllllll}\n",
       "  & Glucose & BloodPressure & SkinThickness & Insulin & BMI & DiabetesPedigreeFunction & Age & Outcome\\\\\n",
       "  & <int> & <int> & <int> & <int> & <dbl> & <dbl> & <int> & <int>\\\\\n",
       "\\hline\n",
       "\t1 & 148 & 72 & 35 &   0 & 33.6 & 0.63 & 50 & 1\\\\\n",
       "\t2 &  85 & 66 & 29 &   0 & 26.6 & 0.35 & 31 & 0\\\\\n",
       "\t3 & 183 & 64 &  0 &   0 & 23.3 & 0.67 & 32 & 1\\\\\n",
       "\t4 &  89 & 66 & 23 &  94 & 28.1 & 0.17 & 21 & 0\\\\\n",
       "\t5 & 137 & 40 & 35 & 168 & 43.1 & 2.29 & 33 & 1\\\\\n",
       "\t6 & 116 & 74 &  0 &   0 & 25.6 & 0.20 & 30 & 0\\\\\n",
       "\\end{tabular}\n"
      ],
      "text/markdown": [
       "\n",
       "A data.frame: 6 × 8\n",
       "\n",
       "| <!--/--> | Glucose &lt;int&gt; | BloodPressure &lt;int&gt; | SkinThickness &lt;int&gt; | Insulin &lt;int&gt; | BMI &lt;dbl&gt; | DiabetesPedigreeFunction &lt;dbl&gt; | Age &lt;int&gt; | Outcome &lt;int&gt; |\n",
       "|---|---|---|---|---|---|---|---|---|\n",
       "| 1 | 148 | 72 | 35 |   0 | 33.6 | 0.63 | 50 | 1 |\n",
       "| 2 |  85 | 66 | 29 |   0 | 26.6 | 0.35 | 31 | 0 |\n",
       "| 3 | 183 | 64 |  0 |   0 | 23.3 | 0.67 | 32 | 1 |\n",
       "| 4 |  89 | 66 | 23 |  94 | 28.1 | 0.17 | 21 | 0 |\n",
       "| 5 | 137 | 40 | 35 | 168 | 43.1 | 2.29 | 33 | 1 |\n",
       "| 6 | 116 | 74 |  0 |   0 | 25.6 | 0.20 | 30 | 0 |\n",
       "\n"
      ],
      "text/plain": [
       "  Glucose BloodPressure SkinThickness Insulin BMI  DiabetesPedigreeFunction Age\n",
       "1 148     72            35              0     33.6 0.63                     50 \n",
       "2  85     66            29              0     26.6 0.35                     31 \n",
       "3 183     64             0              0     23.3 0.67                     32 \n",
       "4  89     66            23             94     28.1 0.17                     21 \n",
       "5 137     40            35            168     43.1 2.29                     33 \n",
       "6 116     74             0              0     25.6 0.20                     30 \n",
       "  Outcome\n",
       "1 1      \n",
       "2 0      \n",
       "3 1      \n",
       "4 0      \n",
       "5 1      \n",
       "6 0      "
      ]
     },
     "metadata": {},
     "output_type": "display_data"
    }
   ],
   "source": [
    "head(df)"
   ]
  },
  {
   "cell_type": "code",
   "execution_count": 3,
   "id": "ad82af9a",
   "metadata": {},
   "outputs": [
    {
     "data": {
      "text/plain": [
       "    Glucose      BloodPressure    SkinThickness      Insulin     \n",
       " Min.   :  0.0   Min.   :  0.00   Min.   : 0.00   Min.   :  0.0  \n",
       " 1st Qu.: 99.0   1st Qu.: 62.00   1st Qu.: 0.00   1st Qu.:  0.0  \n",
       " Median :117.0   Median : 72.00   Median :23.00   Median : 30.5  \n",
       " Mean   :120.9   Mean   : 69.11   Mean   :20.54   Mean   : 79.8  \n",
       " 3rd Qu.:140.2   3rd Qu.: 80.00   3rd Qu.:32.00   3rd Qu.:127.2  \n",
       " Max.   :199.0   Max.   :122.00   Max.   :99.00   Max.   :846.0  \n",
       "      BMI        DiabetesPedigreeFunction      Age           Outcome     \n",
       " Min.   : 0.00   Min.   :0.0800           Min.   :21.00   Min.   :0.000  \n",
       " 1st Qu.:27.30   1st Qu.:0.2400           1st Qu.:24.00   1st Qu.:0.000  \n",
       " Median :32.00   Median :0.3700           Median :29.00   Median :0.000  \n",
       " Mean   :31.99   Mean   :0.4724           Mean   :33.24   Mean   :0.349  \n",
       " 3rd Qu.:36.60   3rd Qu.:0.6300           3rd Qu.:41.00   3rd Qu.:1.000  \n",
       " Max.   :67.10   Max.   :2.4200           Max.   :81.00   Max.   :1.000  "
      ]
     },
     "metadata": {},
     "output_type": "display_data"
    }
   ],
   "source": [
    "summary(df)"
   ]
  },
  {
   "cell_type": "code",
   "execution_count": 5,
   "id": "12f792f3",
   "metadata": {},
   "outputs": [],
   "source": [
    "df$Outcome = as.factor(df$Outcome)"
   ]
  },
  {
   "cell_type": "code",
   "execution_count": 6,
   "id": "b08a26ee",
   "metadata": {},
   "outputs": [
    {
     "data": {
      "text/plain": [
       "    Glucose      BloodPressure    SkinThickness      Insulin     \n",
       " Min.   :  0.0   Min.   :  0.00   Min.   : 0.00   Min.   :  0.0  \n",
       " 1st Qu.: 99.0   1st Qu.: 62.00   1st Qu.: 0.00   1st Qu.:  0.0  \n",
       " Median :117.0   Median : 72.00   Median :23.00   Median : 30.5  \n",
       " Mean   :120.9   Mean   : 69.11   Mean   :20.54   Mean   : 79.8  \n",
       " 3rd Qu.:140.2   3rd Qu.: 80.00   3rd Qu.:32.00   3rd Qu.:127.2  \n",
       " Max.   :199.0   Max.   :122.00   Max.   :99.00   Max.   :846.0  \n",
       "      BMI        DiabetesPedigreeFunction      Age        Outcome\n",
       " Min.   : 0.00   Min.   :0.0800           Min.   :21.00   0:500  \n",
       " 1st Qu.:27.30   1st Qu.:0.2400           1st Qu.:24.00   1:268  \n",
       " Median :32.00   Median :0.3700           Median :29.00          \n",
       " Mean   :31.99   Mean   :0.4724           Mean   :33.24          \n",
       " 3rd Qu.:36.60   3rd Qu.:0.6300           3rd Qu.:41.00          \n",
       " Max.   :67.10   Max.   :2.4200           Max.   :81.00          "
      ]
     },
     "metadata": {},
     "output_type": "display_data"
    }
   ],
   "source": [
    "summary(df)"
   ]
  },
  {
   "cell_type": "code",
   "execution_count": 10,
   "id": "86f5bb27",
   "metadata": {},
   "outputs": [],
   "source": [
    "model = preProcess(df,method = 'range')"
   ]
  },
  {
   "cell_type": "code",
   "execution_count": 11,
   "id": "c369b7d4",
   "metadata": {},
   "outputs": [],
   "source": [
    "train_df = predict(model,newdata = df)"
   ]
  },
  {
   "cell_type": "code",
   "execution_count": 15,
   "id": "975a15d7",
   "metadata": {},
   "outputs": [
    {
     "data": {
      "text/plain": [
       "    Glucose       BloodPressure    SkinThickness       Insulin       \n",
       " Min.   :0.0000   Min.   :0.0000   Min.   :0.0000   Min.   :0.00000  \n",
       " 1st Qu.:0.4975   1st Qu.:0.5082   1st Qu.:0.0000   1st Qu.:0.00000  \n",
       " Median :0.5879   Median :0.5902   Median :0.2323   Median :0.03605  \n",
       " Mean   :0.6075   Mean   :0.5664   Mean   :0.2074   Mean   :0.09433  \n",
       " 3rd Qu.:0.7048   3rd Qu.:0.6557   3rd Qu.:0.3232   3rd Qu.:0.15041  \n",
       " Max.   :1.0000   Max.   :1.0000   Max.   :1.0000   Max.   :1.00000  \n",
       "      BMI         DiabetesPedigreeFunction      Age           Outcome   \n",
       " Min.   :0.0000   Min.   :0.00000          Min.   :0.0000   Class0:500  \n",
       " 1st Qu.:0.4069   1st Qu.:0.06838          1st Qu.:0.0500   Class1:268  \n",
       " Median :0.4769   Median :0.12393          Median :0.1333               \n",
       " Mean   :0.4768   Mean   :0.16769          Mean   :0.2040               \n",
       " 3rd Qu.:0.5455   3rd Qu.:0.23504          3rd Qu.:0.3333               \n",
       " Max.   :1.0000   Max.   :1.00000          Max.   :1.0000               "
      ]
     },
     "metadata": {},
     "output_type": "display_data"
    }
   ],
   "source": [
    "summary(train_df)"
   ]
  },
  {
   "cell_type": "code",
   "execution_count": 13,
   "id": "76218301",
   "metadata": {},
   "outputs": [
    {
     "data": {
      "text/html": [
       "<table class=\"dataframe\">\n",
       "<caption>A data.frame: 6 × 8</caption>\n",
       "<thead>\n",
       "\t<tr><th></th><th scope=col>Glucose</th><th scope=col>BloodPressure</th><th scope=col>SkinThickness</th><th scope=col>Insulin</th><th scope=col>BMI</th><th scope=col>DiabetesPedigreeFunction</th><th scope=col>Age</th><th scope=col>Outcome</th></tr>\n",
       "\t<tr><th></th><th scope=col>&lt;dbl&gt;</th><th scope=col>&lt;dbl&gt;</th><th scope=col>&lt;dbl&gt;</th><th scope=col>&lt;dbl&gt;</th><th scope=col>&lt;dbl&gt;</th><th scope=col>&lt;dbl&gt;</th><th scope=col>&lt;dbl&gt;</th><th scope=col>&lt;fct&gt;</th></tr>\n",
       "</thead>\n",
       "<tbody>\n",
       "\t<tr><th scope=row>1</th><td>0.7437186</td><td>0.5901639</td><td>0.3535354</td><td>0.0000000</td><td>0.5007452</td><td>0.23504274</td><td>0.4833333</td><td>Class1</td></tr>\n",
       "\t<tr><th scope=row>2</th><td>0.4271357</td><td>0.5409836</td><td>0.2929293</td><td>0.0000000</td><td>0.3964232</td><td>0.11538462</td><td>0.1666667</td><td>Class0</td></tr>\n",
       "\t<tr><th scope=row>3</th><td>0.9195980</td><td>0.5245902</td><td>0.0000000</td><td>0.0000000</td><td>0.3472429</td><td>0.25213675</td><td>0.1833333</td><td>Class1</td></tr>\n",
       "\t<tr><th scope=row>4</th><td>0.4472362</td><td>0.5409836</td><td>0.2323232</td><td>0.1111111</td><td>0.4187779</td><td>0.03846154</td><td>0.0000000</td><td>Class0</td></tr>\n",
       "\t<tr><th scope=row>5</th><td>0.6884422</td><td>0.3278689</td><td>0.3535354</td><td>0.1985816</td><td>0.6423249</td><td>0.94444444</td><td>0.2000000</td><td>Class1</td></tr>\n",
       "\t<tr><th scope=row>6</th><td>0.5829146</td><td>0.6065574</td><td>0.0000000</td><td>0.0000000</td><td>0.3815201</td><td>0.05128205</td><td>0.1500000</td><td>Class0</td></tr>\n",
       "</tbody>\n",
       "</table>\n"
      ],
      "text/latex": [
       "A data.frame: 6 × 8\n",
       "\\begin{tabular}{r|llllllll}\n",
       "  & Glucose & BloodPressure & SkinThickness & Insulin & BMI & DiabetesPedigreeFunction & Age & Outcome\\\\\n",
       "  & <dbl> & <dbl> & <dbl> & <dbl> & <dbl> & <dbl> & <dbl> & <fct>\\\\\n",
       "\\hline\n",
       "\t1 & 0.7437186 & 0.5901639 & 0.3535354 & 0.0000000 & 0.5007452 & 0.23504274 & 0.4833333 & Class1\\\\\n",
       "\t2 & 0.4271357 & 0.5409836 & 0.2929293 & 0.0000000 & 0.3964232 & 0.11538462 & 0.1666667 & Class0\\\\\n",
       "\t3 & 0.9195980 & 0.5245902 & 0.0000000 & 0.0000000 & 0.3472429 & 0.25213675 & 0.1833333 & Class1\\\\\n",
       "\t4 & 0.4472362 & 0.5409836 & 0.2323232 & 0.1111111 & 0.4187779 & 0.03846154 & 0.0000000 & Class0\\\\\n",
       "\t5 & 0.6884422 & 0.3278689 & 0.3535354 & 0.1985816 & 0.6423249 & 0.94444444 & 0.2000000 & Class1\\\\\n",
       "\t6 & 0.5829146 & 0.6065574 & 0.0000000 & 0.0000000 & 0.3815201 & 0.05128205 & 0.1500000 & Class0\\\\\n",
       "\\end{tabular}\n"
      ],
      "text/markdown": [
       "\n",
       "A data.frame: 6 × 8\n",
       "\n",
       "| <!--/--> | Glucose &lt;dbl&gt; | BloodPressure &lt;dbl&gt; | SkinThickness &lt;dbl&gt; | Insulin &lt;dbl&gt; | BMI &lt;dbl&gt; | DiabetesPedigreeFunction &lt;dbl&gt; | Age &lt;dbl&gt; | Outcome &lt;fct&gt; |\n",
       "|---|---|---|---|---|---|---|---|---|\n",
       "| 1 | 0.7437186 | 0.5901639 | 0.3535354 | 0.0000000 | 0.5007452 | 0.23504274 | 0.4833333 | Class1 |\n",
       "| 2 | 0.4271357 | 0.5409836 | 0.2929293 | 0.0000000 | 0.3964232 | 0.11538462 | 0.1666667 | Class0 |\n",
       "| 3 | 0.9195980 | 0.5245902 | 0.0000000 | 0.0000000 | 0.3472429 | 0.25213675 | 0.1833333 | Class1 |\n",
       "| 4 | 0.4472362 | 0.5409836 | 0.2323232 | 0.1111111 | 0.4187779 | 0.03846154 | 0.0000000 | Class0 |\n",
       "| 5 | 0.6884422 | 0.3278689 | 0.3535354 | 0.1985816 | 0.6423249 | 0.94444444 | 0.2000000 | Class1 |\n",
       "| 6 | 0.5829146 | 0.6065574 | 0.0000000 | 0.0000000 | 0.3815201 | 0.05128205 | 0.1500000 | Class0 |\n",
       "\n"
      ],
      "text/plain": [
       "  Glucose   BloodPressure SkinThickness Insulin   BMI      \n",
       "1 0.7437186 0.5901639     0.3535354     0.0000000 0.5007452\n",
       "2 0.4271357 0.5409836     0.2929293     0.0000000 0.3964232\n",
       "3 0.9195980 0.5245902     0.0000000     0.0000000 0.3472429\n",
       "4 0.4472362 0.5409836     0.2323232     0.1111111 0.4187779\n",
       "5 0.6884422 0.3278689     0.3535354     0.1985816 0.6423249\n",
       "6 0.5829146 0.6065574     0.0000000     0.0000000 0.3815201\n",
       "  DiabetesPedigreeFunction Age       Outcome\n",
       "1 0.23504274               0.4833333 Class1 \n",
       "2 0.11538462               0.1666667 Class0 \n",
       "3 0.25213675               0.1833333 Class1 \n",
       "4 0.03846154               0.0000000 Class0 \n",
       "5 0.94444444               0.2000000 Class1 \n",
       "6 0.05128205               0.1500000 Class0 "
      ]
     },
     "metadata": {},
     "output_type": "display_data"
    }
   ],
   "source": [
    "head(train_df)"
   ]
  },
  {
   "cell_type": "code",
   "execution_count": 12,
   "id": "72d25868",
   "metadata": {},
   "outputs": [],
   "source": [
    "levels(train_df$Outcome) = c('Class0','Class1')"
   ]
  },
  {
   "cell_type": "code",
   "execution_count": 19,
   "id": "818497b3",
   "metadata": {},
   "outputs": [],
   "source": [
    "mod1 = glm(Outcome ~ .-Outcome, data = train_df, family = 'binomial')"
   ]
  },
  {
   "cell_type": "code",
   "execution_count": 21,
   "id": "2351d443",
   "metadata": {},
   "outputs": [
    {
     "data": {
      "text/plain": [
       "\n",
       "Call:\n",
       "glm(formula = Outcome ~ . - Outcome, family = \"binomial\", data = train_df)\n",
       "\n",
       "Deviance Residuals: \n",
       "    Min       1Q   Median       3Q      Max  \n",
       "-2.5802  -0.7285  -0.4332   0.7438   2.9185  \n",
       "\n",
       "Coefficients:\n",
       "                         Estimate Std. Error z value Pr(>|z|)    \n",
       "(Intercept)              -7.65947    0.67748 -11.306  < 2e-16 ***\n",
       "Glucose                   6.88437    0.72945   9.438  < 2e-16 ***\n",
       "BloodPressure            -1.49034    0.63819  -2.335  0.01953 *  \n",
       "SkinThickness             0.08276    0.68338   0.121  0.90361    \n",
       "Insulin                  -1.15890    0.77140  -1.502  0.13301    \n",
       "BMI                       5.89540    0.99659   5.916 3.31e-09 ***\n",
       "DiabetesPedigreeFunction  2.08405    0.69220   3.011  0.00261 ** \n",
       "Age                       1.95961    0.48657   4.027 5.64e-05 ***\n",
       "---\n",
       "Signif. codes:  0 '***' 0.001 '**' 0.01 '*' 0.05 '.' 0.1 ' ' 1\n",
       "\n",
       "(Dispersion parameter for binomial family taken to be 1)\n",
       "\n",
       "    Null deviance: 993.48  on 767  degrees of freedom\n",
       "Residual deviance: 738.68  on 760  degrees of freedom\n",
       "AIC: 754.68\n",
       "\n",
       "Number of Fisher Scoring iterations: 5\n"
      ]
     },
     "metadata": {},
     "output_type": "display_data"
    }
   ],
   "source": [
    "summary(mod1)"
   ]
  },
  {
   "cell_type": "markdown",
   "id": "0b729472",
   "metadata": {},
   "source": [
    "- Diabetes depends on the glucose levels of the person\n",
    "- Diabetes depends on the BloodPressure levels of the person\n",
    "- Diabetes **does not** depend on SkinThickness of the person\n",
    "- Diabetes <strong>does not</strong> depend on the Insulin level of the person\n",
    "- Diabetes depends on the BMI of the person\n",
    "- Diabetes depends on the DiabetesPedigreeFunction of the person\n",
    "- Diabetes depends on the Age of the person"
   ]
  },
  {
   "cell_type": "code",
   "execution_count": 29,
   "id": "185aaaaa",
   "metadata": {},
   "outputs": [
    {
     "data": {
      "text/html": [
       "<style>\n",
       ".dl-inline {width: auto; margin:0; padding: 0}\n",
       ".dl-inline>dt, .dl-inline>dd {float: none; width: auto; display: inline-block}\n",
       ".dl-inline>dt::after {content: \":\\0020\"; padding-right: .5ex}\n",
       ".dl-inline>dt:not(:first-of-type) {padding-left: .5ex}\n",
       "</style><dl class=dl-inline><dt>1</dt><dd>0.730931962716392</dd><dt>2</dt><dd>0.0693463684214077</dd><dt>3</dt><dd>0.694539733044749</dd><dt>4</dt><dd>0.049864299559108</dd><dt>5</dt><dd>0.926726696415656</dd><dt>6</dt><dd>0.130061398147774</dd></dl>\n"
      ],
      "text/latex": [
       "\\begin{description*}\n",
       "\\item[1] 0.730931962716392\n",
       "\\item[2] 0.0693463684214077\n",
       "\\item[3] 0.694539733044749\n",
       "\\item[4] 0.049864299559108\n",
       "\\item[5] 0.926726696415656\n",
       "\\item[6] 0.130061398147774\n",
       "\\end{description*}\n"
      ],
      "text/markdown": [
       "1\n",
       ":   0.7309319627163922\n",
       ":   0.06934636842140773\n",
       ":   0.6945397330447494\n",
       ":   0.0498642995591085\n",
       ":   0.9267266964156566\n",
       ":   0.130061398147774\n",
       "\n"
      ],
      "text/plain": [
       "         1          2          3          4          5          6 \n",
       "0.73093196 0.06934637 0.69453973 0.04986430 0.92672670 0.13006140 "
      ]
     },
     "metadata": {},
     "output_type": "display_data"
    }
   ],
   "source": [
    "head(predict(mod1,train_df,type = 'response'))"
   ]
  },
  {
   "cell_type": "code",
   "execution_count": 68,
   "id": "ea19f12d",
   "metadata": {},
   "outputs": [],
   "source": [
    "ans = as.data.frame(predict(mod1,train_df,type = 'response'))"
   ]
  },
  {
   "cell_type": "code",
   "execution_count": 69,
   "id": "5355eb2e",
   "metadata": {},
   "outputs": [],
   "source": [
    "ans = round(ans*100,2)"
   ]
  },
  {
   "cell_type": "code",
   "execution_count": 70,
   "id": "7d217237",
   "metadata": {},
   "outputs": [
    {
     "data": {
      "text/html": [
       "<table class=\"dataframe\">\n",
       "<caption>A data.frame: 6 × 1</caption>\n",
       "<thead>\n",
       "\t<tr><th></th><th scope=col>predict(mod1, train_df, type = \"response\")</th></tr>\n",
       "\t<tr><th></th><th scope=col>&lt;dbl&gt;</th></tr>\n",
       "</thead>\n",
       "<tbody>\n",
       "\t<tr><th scope=row>1</th><td>73.09</td></tr>\n",
       "\t<tr><th scope=row>2</th><td> 6.93</td></tr>\n",
       "\t<tr><th scope=row>3</th><td>69.45</td></tr>\n",
       "\t<tr><th scope=row>4</th><td> 4.99</td></tr>\n",
       "\t<tr><th scope=row>5</th><td>92.67</td></tr>\n",
       "\t<tr><th scope=row>6</th><td>13.01</td></tr>\n",
       "</tbody>\n",
       "</table>\n"
      ],
      "text/latex": [
       "A data.frame: 6 × 1\n",
       "\\begin{tabular}{r|l}\n",
       "  & predict(mod1, train\\_df, type = \"response\")\\\\\n",
       "  & <dbl>\\\\\n",
       "\\hline\n",
       "\t1 & 73.09\\\\\n",
       "\t2 &  6.93\\\\\n",
       "\t3 & 69.45\\\\\n",
       "\t4 &  4.99\\\\\n",
       "\t5 & 92.67\\\\\n",
       "\t6 & 13.01\\\\\n",
       "\\end{tabular}\n"
      ],
      "text/markdown": [
       "\n",
       "A data.frame: 6 × 1\n",
       "\n",
       "| <!--/--> | predict(mod1, train_df, type = \"response\") &lt;dbl&gt; |\n",
       "|---|---|\n",
       "| 1 | 73.09 |\n",
       "| 2 |  6.93 |\n",
       "| 3 | 69.45 |\n",
       "| 4 |  4.99 |\n",
       "| 5 | 92.67 |\n",
       "| 6 | 13.01 |\n",
       "\n"
      ],
      "text/plain": [
       "  predict(mod1, train_df, type = \"response\")\n",
       "1 73.09                                     \n",
       "2  6.93                                     \n",
       "3 69.45                                     \n",
       "4  4.99                                     \n",
       "5 92.67                                     \n",
       "6 13.01                                     "
      ]
     },
     "metadata": {},
     "output_type": "display_data"
    }
   ],
   "source": [
    "head(ans)"
   ]
  },
  {
   "cell_type": "code",
   "execution_count": 71,
   "id": "e2cfcaf8",
   "metadata": {},
   "outputs": [],
   "source": [
    "colnames(ans) = 'Probability'"
   ]
  },
  {
   "cell_type": "code",
   "execution_count": 82,
   "id": "857bc4c6",
   "metadata": {},
   "outputs": [],
   "source": [
    "ans_str = strsplit(toString(unlist(ans$Probability)),',')"
   ]
  },
  {
   "cell_type": "code",
   "execution_count": 83,
   "id": "cbd085f3",
   "metadata": {},
   "outputs": [],
   "source": [
    "ans_str = as.data.frame(sapply(ans_str, paste,'%',sep=''))"
   ]
  },
  {
   "cell_type": "code",
   "execution_count": 87,
   "id": "e8f4191a",
   "metadata": {},
   "outputs": [],
   "source": [
    "colnames(ans_str) = 'Probability'"
   ]
  },
  {
   "cell_type": "code",
   "execution_count": 88,
   "id": "8e4621a7",
   "metadata": {},
   "outputs": [
    {
     "data": {
      "text/html": [
       "<table class=\"dataframe\">\n",
       "<caption>A data.frame: 6 × 1</caption>\n",
       "<thead>\n",
       "\t<tr><th></th><th scope=col>Probability</th></tr>\n",
       "\t<tr><th></th><th scope=col>&lt;chr&gt;</th></tr>\n",
       "</thead>\n",
       "<tbody>\n",
       "\t<tr><th scope=row>1</th><td>73.09% </td></tr>\n",
       "\t<tr><th scope=row>2</th><td> 6.93% </td></tr>\n",
       "\t<tr><th scope=row>3</th><td> 69.45%</td></tr>\n",
       "\t<tr><th scope=row>4</th><td> 4.99% </td></tr>\n",
       "\t<tr><th scope=row>5</th><td> 92.67%</td></tr>\n",
       "\t<tr><th scope=row>6</th><td> 13.01%</td></tr>\n",
       "</tbody>\n",
       "</table>\n"
      ],
      "text/latex": [
       "A data.frame: 6 × 1\n",
       "\\begin{tabular}{r|l}\n",
       "  & Probability\\\\\n",
       "  & <chr>\\\\\n",
       "\\hline\n",
       "\t1 & 73.09\\% \\\\\n",
       "\t2 &  6.93\\% \\\\\n",
       "\t3 &  69.45\\%\\\\\n",
       "\t4 &  4.99\\% \\\\\n",
       "\t5 &  92.67\\%\\\\\n",
       "\t6 &  13.01\\%\\\\\n",
       "\\end{tabular}\n"
      ],
      "text/markdown": [
       "\n",
       "A data.frame: 6 × 1\n",
       "\n",
       "| <!--/--> | Probability &lt;chr&gt; |\n",
       "|---|---|\n",
       "| 1 | 73.09%  |\n",
       "| 2 |  6.93%  |\n",
       "| 3 |  69.45% |\n",
       "| 4 |  4.99%  |\n",
       "| 5 |  92.67% |\n",
       "| 6 |  13.01% |\n",
       "\n"
      ],
      "text/plain": [
       "  Probability\n",
       "1 73.09%     \n",
       "2  6.93%     \n",
       "3  69.45%    \n",
       "4  4.99%     \n",
       "5  92.67%    \n",
       "6  13.01%    "
      ]
     },
     "metadata": {},
     "output_type": "display_data"
    }
   ],
   "source": [
    "head(ans_str)"
   ]
  },
  {
   "cell_type": "markdown",
   "id": "3978cd52",
   "metadata": {},
   "source": [
    "# Loan data"
   ]
  },
  {
   "cell_type": "code",
   "execution_count": 94,
   "id": "d31afc38",
   "metadata": {},
   "outputs": [],
   "source": [
    "library(readxl)"
   ]
  },
  {
   "cell_type": "code",
   "execution_count": 95,
   "id": "4410b1f8",
   "metadata": {},
   "outputs": [],
   "source": [
    "df = read_excel('BankLoan.xlsx')"
   ]
  },
  {
   "cell_type": "code",
   "execution_count": 96,
   "id": "3b5cada6",
   "metadata": {},
   "outputs": [
    {
     "data": {
      "text/html": [
       "<table class=\"dataframe\">\n",
       "<caption>A tibble: 6 × 11</caption>\n",
       "<thead>\n",
       "\t<tr><th scope=col>Married</th><th scope=col>Dependents</th><th scope=col>Education</th><th scope=col>Self_Employed</th><th scope=col>ApplicantIncome</th><th scope=col>CoapplicantIncome</th><th scope=col>LoanAmount</th><th scope=col>Loan_Amount_Term</th><th scope=col>Credit_History</th><th scope=col>Property_Area</th><th scope=col>Loan_Status</th></tr>\n",
       "\t<tr><th scope=col>&lt;chr&gt;</th><th scope=col>&lt;dbl&gt;</th><th scope=col>&lt;chr&gt;</th><th scope=col>&lt;chr&gt;</th><th scope=col>&lt;dbl&gt;</th><th scope=col>&lt;dbl&gt;</th><th scope=col>&lt;dbl&gt;</th><th scope=col>&lt;dbl&gt;</th><th scope=col>&lt;dbl&gt;</th><th scope=col>&lt;chr&gt;</th><th scope=col>&lt;chr&gt;</th></tr>\n",
       "</thead>\n",
       "<tbody>\n",
       "\t<tr><td>Yes</td><td>1</td><td>Graduate    </td><td>No </td><td>4583</td><td>1508</td><td>128</td><td>360</td><td>1</td><td>Rural</td><td>N</td></tr>\n",
       "\t<tr><td>Yes</td><td>0</td><td>Graduate    </td><td>Yes</td><td>3000</td><td>   0</td><td> 66</td><td>360</td><td>1</td><td>Urban</td><td>Y</td></tr>\n",
       "\t<tr><td>Yes</td><td>0</td><td>Not Graduate</td><td>No </td><td>2583</td><td>2358</td><td>120</td><td>360</td><td>1</td><td>Urban</td><td>Y</td></tr>\n",
       "\t<tr><td>No </td><td>0</td><td>Graduate    </td><td>No </td><td>6000</td><td>   0</td><td>141</td><td>360</td><td>1</td><td>Urban</td><td>Y</td></tr>\n",
       "\t<tr><td>Yes</td><td>2</td><td>Graduate    </td><td>Yes</td><td>5417</td><td>4196</td><td>267</td><td>360</td><td>1</td><td>Urban</td><td>Y</td></tr>\n",
       "\t<tr><td>Yes</td><td>0</td><td>Not Graduate</td><td>No </td><td>2333</td><td>1516</td><td> 95</td><td>360</td><td>1</td><td>Urban</td><td>Y</td></tr>\n",
       "</tbody>\n",
       "</table>\n"
      ],
      "text/latex": [
       "A tibble: 6 × 11\n",
       "\\begin{tabular}{lllllllllll}\n",
       " Married & Dependents & Education & Self\\_Employed & ApplicantIncome & CoapplicantIncome & LoanAmount & Loan\\_Amount\\_Term & Credit\\_History & Property\\_Area & Loan\\_Status\\\\\n",
       " <chr> & <dbl> & <chr> & <chr> & <dbl> & <dbl> & <dbl> & <dbl> & <dbl> & <chr> & <chr>\\\\\n",
       "\\hline\n",
       "\t Yes & 1 & Graduate     & No  & 4583 & 1508 & 128 & 360 & 1 & Rural & N\\\\\n",
       "\t Yes & 0 & Graduate     & Yes & 3000 &    0 &  66 & 360 & 1 & Urban & Y\\\\\n",
       "\t Yes & 0 & Not Graduate & No  & 2583 & 2358 & 120 & 360 & 1 & Urban & Y\\\\\n",
       "\t No  & 0 & Graduate     & No  & 6000 &    0 & 141 & 360 & 1 & Urban & Y\\\\\n",
       "\t Yes & 2 & Graduate     & Yes & 5417 & 4196 & 267 & 360 & 1 & Urban & Y\\\\\n",
       "\t Yes & 0 & Not Graduate & No  & 2333 & 1516 &  95 & 360 & 1 & Urban & Y\\\\\n",
       "\\end{tabular}\n"
      ],
      "text/markdown": [
       "\n",
       "A tibble: 6 × 11\n",
       "\n",
       "| Married &lt;chr&gt; | Dependents &lt;dbl&gt; | Education &lt;chr&gt; | Self_Employed &lt;chr&gt; | ApplicantIncome &lt;dbl&gt; | CoapplicantIncome &lt;dbl&gt; | LoanAmount &lt;dbl&gt; | Loan_Amount_Term &lt;dbl&gt; | Credit_History &lt;dbl&gt; | Property_Area &lt;chr&gt; | Loan_Status &lt;chr&gt; |\n",
       "|---|---|---|---|---|---|---|---|---|---|---|\n",
       "| Yes | 1 | Graduate     | No  | 4583 | 1508 | 128 | 360 | 1 | Rural | N |\n",
       "| Yes | 0 | Graduate     | Yes | 3000 |    0 |  66 | 360 | 1 | Urban | Y |\n",
       "| Yes | 0 | Not Graduate | No  | 2583 | 2358 | 120 | 360 | 1 | Urban | Y |\n",
       "| No  | 0 | Graduate     | No  | 6000 |    0 | 141 | 360 | 1 | Urban | Y |\n",
       "| Yes | 2 | Graduate     | Yes | 5417 | 4196 | 267 | 360 | 1 | Urban | Y |\n",
       "| Yes | 0 | Not Graduate | No  | 2333 | 1516 |  95 | 360 | 1 | Urban | Y |\n",
       "\n"
      ],
      "text/plain": [
       "  Married Dependents Education    Self_Employed ApplicantIncome\n",
       "1 Yes     1          Graduate     No            4583           \n",
       "2 Yes     0          Graduate     Yes           3000           \n",
       "3 Yes     0          Not Graduate No            2583           \n",
       "4 No      0          Graduate     No            6000           \n",
       "5 Yes     2          Graduate     Yes           5417           \n",
       "6 Yes     0          Not Graduate No            2333           \n",
       "  CoapplicantIncome LoanAmount Loan_Amount_Term Credit_History Property_Area\n",
       "1 1508              128        360              1              Rural        \n",
       "2    0               66        360              1              Urban        \n",
       "3 2358              120        360              1              Urban        \n",
       "4    0              141        360              1              Urban        \n",
       "5 4196              267        360              1              Urban        \n",
       "6 1516               95        360              1              Urban        \n",
       "  Loan_Status\n",
       "1 N          \n",
       "2 Y          \n",
       "3 Y          \n",
       "4 Y          \n",
       "5 Y          \n",
       "6 Y          "
      ]
     },
     "metadata": {},
     "output_type": "display_data"
    }
   ],
   "source": [
    "head(df)"
   ]
  },
  {
   "cell_type": "code",
   "execution_count": 158,
   "id": "51878b53",
   "metadata": {},
   "outputs": [],
   "source": [
    "df_1 = df[,c(10,11)]"
   ]
  },
  {
   "cell_type": "code",
   "execution_count": 163,
   "id": "5ba22371",
   "metadata": {},
   "outputs": [
    {
     "data": {
      "text/html": [
       "<table class=\"dataframe\">\n",
       "<caption>A tibble: 6 × 2</caption>\n",
       "<thead>\n",
       "\t<tr><th scope=col>Property_Area</th><th scope=col>Loan_Status</th></tr>\n",
       "\t<tr><th scope=col>&lt;chr&gt;</th><th scope=col>&lt;chr&gt;</th></tr>\n",
       "</thead>\n",
       "<tbody>\n",
       "\t<tr><td>Rural</td><td>N</td></tr>\n",
       "\t<tr><td>Urban</td><td>Y</td></tr>\n",
       "\t<tr><td>Urban</td><td>Y</td></tr>\n",
       "\t<tr><td>Urban</td><td>Y</td></tr>\n",
       "\t<tr><td>Urban</td><td>Y</td></tr>\n",
       "\t<tr><td>Urban</td><td>Y</td></tr>\n",
       "</tbody>\n",
       "</table>\n"
      ],
      "text/latex": [
       "A tibble: 6 × 2\n",
       "\\begin{tabular}{ll}\n",
       " Property\\_Area & Loan\\_Status\\\\\n",
       " <chr> & <chr>\\\\\n",
       "\\hline\n",
       "\t Rural & N\\\\\n",
       "\t Urban & Y\\\\\n",
       "\t Urban & Y\\\\\n",
       "\t Urban & Y\\\\\n",
       "\t Urban & Y\\\\\n",
       "\t Urban & Y\\\\\n",
       "\\end{tabular}\n"
      ],
      "text/markdown": [
       "\n",
       "A tibble: 6 × 2\n",
       "\n",
       "| Property_Area &lt;chr&gt; | Loan_Status &lt;chr&gt; |\n",
       "|---|---|\n",
       "| Rural | N |\n",
       "| Urban | Y |\n",
       "| Urban | Y |\n",
       "| Urban | Y |\n",
       "| Urban | Y |\n",
       "| Urban | Y |\n",
       "\n"
      ],
      "text/plain": [
       "  Property_Area Loan_Status\n",
       "1 Rural         N          \n",
       "2 Urban         Y          \n",
       "3 Urban         Y          \n",
       "4 Urban         Y          \n",
       "5 Urban         Y          \n",
       "6 Urban         Y          "
      ]
     },
     "metadata": {},
     "output_type": "display_data"
    }
   ],
   "source": [
    "head(df_1)"
   ]
  },
  {
   "cell_type": "code",
   "execution_count": 165,
   "id": "3473fa5c",
   "metadata": {},
   "outputs": [
    {
     "name": "stderr",
     "output_type": "stream",
     "text": [
      "\n",
      "Attaching package: 'data.table'\n",
      "\n",
      "\n",
      "The following objects are masked from 'package:dplyr':\n",
      "\n",
      "    between, first, last\n",
      "\n",
      "\n"
     ]
    }
   ],
   "source": [
    "library(data.table)"
   ]
  },
  {
   "cell_type": "code",
   "execution_count": 167,
   "id": "fb6ce765",
   "metadata": {},
   "outputs": [
    {
     "ename": "ERROR",
     "evalue": "Error in `:=`(Loan_Status = ifelse(Loan_Status == \"N\", 0, 1)): Check that is.data.table(DT) == TRUE. Otherwise, := and `:=`(...) are defined for use in j, once only and in particular ways. See help(\":=\").\n",
     "output_type": "error",
     "traceback": [
      "Error in `:=`(Loan_Status = ifelse(Loan_Status == \"N\", 0, 1)): Check that is.data.table(DT) == TRUE. Otherwise, := and `:=`(...) are defined for use in j, once only and in particular ways. See help(\":=\").\nTraceback:\n",
      "1. df_1[, `:=`(Loan_Status = ifelse(Loan_Status == \"N\", 0, 1))]",
      "2. `[.tbl_df`(df_1, , `:=`(Loan_Status = ifelse(Loan_Status == \"N\", \n .     0, 1)))",
      "3. `:=`(Loan_Status = ifelse(Loan_Status == \"N\", 0, 1))",
      "4. stop(\"Check that is.data.table(DT) == TRUE. Otherwise, := and `:=`(...) are defined for use in j, once only and in particular ways. See help(\\\":=\\\").\")"
     ]
    }
   ],
   "source": [
    "df_1[,\":=\"(Loan_Status=ifelse(Loan_Status==\"N\",0,1))]"
   ]
  },
  {
   "cell_type": "code",
   "execution_count": 168,
   "id": "fec767a4",
   "metadata": {},
   "outputs": [],
   "source": [
    "library(dplyr)"
   ]
  },
  {
   "cell_type": "code",
   "execution_count": 174,
   "id": "49c3d0c5",
   "metadata": {},
   "outputs": [],
   "source": [
    "df_1$Loan_Status = ifelse(df_1$Loan_Status == \"N\",0,1)"
   ]
  },
  {
   "cell_type": "code",
   "execution_count": 211,
   "id": "78565535",
   "metadata": {},
   "outputs": [
    {
     "data": {
      "text/html": [
       "<table class=\"dataframe\">\n",
       "<caption>A tibble: 10 × 2</caption>\n",
       "<thead>\n",
       "\t<tr><th scope=col>Property_Area</th><th scope=col>Loan_Status</th></tr>\n",
       "\t<tr><th scope=col>&lt;chr&gt;</th><th scope=col>&lt;dbl&gt;</th></tr>\n",
       "</thead>\n",
       "<tbody>\n",
       "\t<tr><td>Rural    </td><td>0</td></tr>\n",
       "\t<tr><td>Urban    </td><td>1</td></tr>\n",
       "\t<tr><td>Urban    </td><td>1</td></tr>\n",
       "\t<tr><td>Urban    </td><td>1</td></tr>\n",
       "\t<tr><td>Urban    </td><td>1</td></tr>\n",
       "\t<tr><td>Urban    </td><td>1</td></tr>\n",
       "\t<tr><td>Semiurban</td><td>0</td></tr>\n",
       "\t<tr><td>Urban    </td><td>1</td></tr>\n",
       "\t<tr><td>Semiurban</td><td>0</td></tr>\n",
       "\t<tr><td>Urban    </td><td>1</td></tr>\n",
       "</tbody>\n",
       "</table>\n"
      ],
      "text/latex": [
       "A tibble: 10 × 2\n",
       "\\begin{tabular}{ll}\n",
       " Property\\_Area & Loan\\_Status\\\\\n",
       " <chr> & <dbl>\\\\\n",
       "\\hline\n",
       "\t Rural     & 0\\\\\n",
       "\t Urban     & 1\\\\\n",
       "\t Urban     & 1\\\\\n",
       "\t Urban     & 1\\\\\n",
       "\t Urban     & 1\\\\\n",
       "\t Urban     & 1\\\\\n",
       "\t Semiurban & 0\\\\\n",
       "\t Urban     & 1\\\\\n",
       "\t Semiurban & 0\\\\\n",
       "\t Urban     & 1\\\\\n",
       "\\end{tabular}\n"
      ],
      "text/markdown": [
       "\n",
       "A tibble: 10 × 2\n",
       "\n",
       "| Property_Area &lt;chr&gt; | Loan_Status &lt;dbl&gt; |\n",
       "|---|---|\n",
       "| Rural     | 0 |\n",
       "| Urban     | 1 |\n",
       "| Urban     | 1 |\n",
       "| Urban     | 1 |\n",
       "| Urban     | 1 |\n",
       "| Urban     | 1 |\n",
       "| Semiurban | 0 |\n",
       "| Urban     | 1 |\n",
       "| Semiurban | 0 |\n",
       "| Urban     | 1 |\n",
       "\n"
      ],
      "text/plain": [
       "   Property_Area Loan_Status\n",
       "1  Rural         0          \n",
       "2  Urban         1          \n",
       "3  Urban         1          \n",
       "4  Urban         1          \n",
       "5  Urban         1          \n",
       "6  Urban         1          \n",
       "7  Semiurban     0          \n",
       "8  Urban         1          \n",
       "9  Semiurban     0          \n",
       "10 Urban         1          "
      ]
     },
     "metadata": {},
     "output_type": "display_data"
    }
   ],
   "source": [
    "head(df_1,10)"
   ]
  },
  {
   "cell_type": "code",
   "execution_count": 150,
   "id": "4b77d6ce",
   "metadata": {},
   "outputs": [],
   "source": [
    "df_1$Property_Area = as.factor(df_1$Property_Area)"
   ]
  },
  {
   "cell_type": "code",
   "execution_count": 151,
   "id": "8e4afcd2",
   "metadata": {},
   "outputs": [],
   "source": [
    "df_1$Loan_Status = as.numeric(as.factor(df_1$Loan_Status))"
   ]
  },
  {
   "cell_type": "code",
   "execution_count": 152,
   "id": "c9cff6e6",
   "metadata": {},
   "outputs": [
    {
     "data": {
      "text/html": [
       "<table class=\"dataframe\">\n",
       "<caption>A tibble: 6 × 2</caption>\n",
       "<thead>\n",
       "\t<tr><th scope=col>Property_Area</th><th scope=col>Loan_Status</th></tr>\n",
       "\t<tr><th scope=col>&lt;fct&gt;</th><th scope=col>&lt;dbl&gt;</th></tr>\n",
       "</thead>\n",
       "<tbody>\n",
       "\t<tr><td>Rural</td><td>1</td></tr>\n",
       "\t<tr><td>Urban</td><td>2</td></tr>\n",
       "\t<tr><td>Urban</td><td>2</td></tr>\n",
       "\t<tr><td>Urban</td><td>2</td></tr>\n",
       "\t<tr><td>Urban</td><td>2</td></tr>\n",
       "\t<tr><td>Urban</td><td>2</td></tr>\n",
       "</tbody>\n",
       "</table>\n"
      ],
      "text/latex": [
       "A tibble: 6 × 2\n",
       "\\begin{tabular}{ll}\n",
       " Property\\_Area & Loan\\_Status\\\\\n",
       " <fct> & <dbl>\\\\\n",
       "\\hline\n",
       "\t Rural & 1\\\\\n",
       "\t Urban & 2\\\\\n",
       "\t Urban & 2\\\\\n",
       "\t Urban & 2\\\\\n",
       "\t Urban & 2\\\\\n",
       "\t Urban & 2\\\\\n",
       "\\end{tabular}\n"
      ],
      "text/markdown": [
       "\n",
       "A tibble: 6 × 2\n",
       "\n",
       "| Property_Area &lt;fct&gt; | Loan_Status &lt;dbl&gt; |\n",
       "|---|---|\n",
       "| Rural | 1 |\n",
       "| Urban | 2 |\n",
       "| Urban | 2 |\n",
       "| Urban | 2 |\n",
       "| Urban | 2 |\n",
       "| Urban | 2 |\n",
       "\n"
      ],
      "text/plain": [
       "  Property_Area Loan_Status\n",
       "1 Rural         1          \n",
       "2 Urban         2          \n",
       "3 Urban         2          \n",
       "4 Urban         2          \n",
       "5 Urban         2          \n",
       "6 Urban         2          "
      ]
     },
     "metadata": {},
     "output_type": "display_data"
    }
   ],
   "source": [
    "head(df_1)"
   ]
  },
  {
   "cell_type": "code",
   "execution_count": 157,
   "id": "68f6d0b6",
   "metadata": {},
   "outputs": [
    {
     "data": {
      "text/html": [
       "<style>\n",
       ".list-inline {list-style: none; margin:0; padding: 0}\n",
       ".list-inline>li {display: inline-block}\n",
       ".list-inline>li:not(:last-child)::after {content: \"\\00b7\"; padding: 0 .5ex}\n",
       "</style>\n",
       "<ol class=list-inline><li>1</li><li>2</li></ol>\n"
      ],
      "text/latex": [
       "\\begin{enumerate*}\n",
       "\\item 1\n",
       "\\item 2\n",
       "\\end{enumerate*}\n"
      ],
      "text/markdown": [
       "1. 1\n",
       "2. 2\n",
       "\n",
       "\n"
      ],
      "text/plain": [
       "[1] 1 2"
      ]
     },
     "metadata": {},
     "output_type": "display_data"
    }
   ],
   "source": [
    "unique(df_1$Loan_Status)"
   ]
  },
  {
   "cell_type": "code",
   "execution_count": 154,
   "id": "7c29fb56",
   "metadata": {},
   "outputs": [
    {
     "data": {
      "text/html": [
       "<style>\n",
       ".list-inline {list-style: none; margin:0; padding: 0}\n",
       ".list-inline>li {display: inline-block}\n",
       ".list-inline>li:not(:last-child)::after {content: \"\\00b7\"; padding: 0 .5ex}\n",
       "</style>\n",
       "<ol class=list-inline><li>'Rural'</li><li>'Semiurban'</li><li>'Urban'</li></ol>\n"
      ],
      "text/latex": [
       "\\begin{enumerate*}\n",
       "\\item 'Rural'\n",
       "\\item 'Semiurban'\n",
       "\\item 'Urban'\n",
       "\\end{enumerate*}\n"
      ],
      "text/markdown": [
       "1. 'Rural'\n",
       "2. 'Semiurban'\n",
       "3. 'Urban'\n",
       "\n",
       "\n"
      ],
      "text/plain": [
       "[1] \"Rural\"     \"Semiurban\" \"Urban\"    "
      ]
     },
     "metadata": {},
     "output_type": "display_data"
    }
   ],
   "source": [
    "levels(df_1$Property_Area)"
   ]
  },
  {
   "cell_type": "code",
   "execution_count": 153,
   "id": "c95f6d90",
   "metadata": {},
   "outputs": [
    {
     "data": {
      "text/html": [
       "<table class=\"dataframe\">\n",
       "<caption>A matrix: 3 × 2 of type dbl</caption>\n",
       "<thead>\n",
       "\t<tr><th></th><th scope=col>Semiurban</th><th scope=col>Urban</th></tr>\n",
       "</thead>\n",
       "<tbody>\n",
       "\t<tr><th scope=row>Rural</th><td>0</td><td>0</td></tr>\n",
       "\t<tr><th scope=row>Semiurban</th><td>1</td><td>0</td></tr>\n",
       "\t<tr><th scope=row>Urban</th><td>0</td><td>1</td></tr>\n",
       "</tbody>\n",
       "</table>\n"
      ],
      "text/latex": [
       "A matrix: 3 × 2 of type dbl\n",
       "\\begin{tabular}{r|ll}\n",
       "  & Semiurban & Urban\\\\\n",
       "\\hline\n",
       "\tRural & 0 & 0\\\\\n",
       "\tSemiurban & 1 & 0\\\\\n",
       "\tUrban & 0 & 1\\\\\n",
       "\\end{tabular}\n"
      ],
      "text/markdown": [
       "\n",
       "A matrix: 3 × 2 of type dbl\n",
       "\n",
       "| <!--/--> | Semiurban | Urban |\n",
       "|---|---|---|\n",
       "| Rural | 0 | 0 |\n",
       "| Semiurban | 1 | 0 |\n",
       "| Urban | 0 | 1 |\n",
       "\n"
      ],
      "text/plain": [
       "          Semiurban Urban\n",
       "Rural     0         0    \n",
       "Semiurban 1         0    \n",
       "Urban     0         1    "
      ]
     },
     "metadata": {},
     "output_type": "display_data"
    }
   ],
   "source": [
    "contrasts(df_1$Property_Area)"
   ]
  },
  {
   "cell_type": "code",
   "execution_count": 139,
   "id": "4646d5b0",
   "metadata": {
    "scrolled": true
   },
   "outputs": [
    {
     "data": {
      "text/html": [
       "<style>\n",
       ".list-inline {list-style: none; margin:0; padding: 0}\n",
       ".list-inline>li {display: inline-block}\n",
       ".list-inline>li:not(:last-child)::after {content: \"\\00b7\"; padding: 0 .5ex}\n",
       "</style>\n",
       "<ol class=list-inline><li>'Rural'</li><li>'Semiurban'</li><li>'Urban'</li></ol>\n"
      ],
      "text/latex": [
       "\\begin{enumerate*}\n",
       "\\item 'Rural'\n",
       "\\item 'Semiurban'\n",
       "\\item 'Urban'\n",
       "\\end{enumerate*}\n"
      ],
      "text/markdown": [
       "1. 'Rural'\n",
       "2. 'Semiurban'\n",
       "3. 'Urban'\n",
       "\n",
       "\n"
      ],
      "text/plain": [
       "[1] \"Rural\"     \"Semiurban\" \"Urban\"    "
      ]
     },
     "metadata": {},
     "output_type": "display_data"
    }
   ],
   "source": [
    "levels(df_1$Property_Area)"
   ]
  },
  {
   "cell_type": "code",
   "execution_count": 113,
   "id": "42ad3266",
   "metadata": {},
   "outputs": [],
   "source": [
    "df_ = model.matrix(~Property_Area, data = df_1)"
   ]
  },
  {
   "cell_type": "code",
   "execution_count": 114,
   "id": "4724d79e",
   "metadata": {},
   "outputs": [
    {
     "data": {
      "text/html": [
       "<table class=\"dataframe\">\n",
       "<caption>A matrix: 6 × 3 of type dbl</caption>\n",
       "<thead>\n",
       "\t<tr><th></th><th scope=col>(Intercept)</th><th scope=col>Property_AreaSemiurban</th><th scope=col>Property_AreaUrban</th></tr>\n",
       "</thead>\n",
       "<tbody>\n",
       "\t<tr><th scope=row>1</th><td>1</td><td>0</td><td>0</td></tr>\n",
       "\t<tr><th scope=row>2</th><td>1</td><td>0</td><td>1</td></tr>\n",
       "\t<tr><th scope=row>3</th><td>1</td><td>0</td><td>1</td></tr>\n",
       "\t<tr><th scope=row>4</th><td>1</td><td>0</td><td>1</td></tr>\n",
       "\t<tr><th scope=row>5</th><td>1</td><td>0</td><td>1</td></tr>\n",
       "\t<tr><th scope=row>6</th><td>1</td><td>0</td><td>1</td></tr>\n",
       "</tbody>\n",
       "</table>\n"
      ],
      "text/latex": [
       "A matrix: 6 × 3 of type dbl\n",
       "\\begin{tabular}{r|lll}\n",
       "  & (Intercept) & Property\\_AreaSemiurban & Property\\_AreaUrban\\\\\n",
       "\\hline\n",
       "\t1 & 1 & 0 & 0\\\\\n",
       "\t2 & 1 & 0 & 1\\\\\n",
       "\t3 & 1 & 0 & 1\\\\\n",
       "\t4 & 1 & 0 & 1\\\\\n",
       "\t5 & 1 & 0 & 1\\\\\n",
       "\t6 & 1 & 0 & 1\\\\\n",
       "\\end{tabular}\n"
      ],
      "text/markdown": [
       "\n",
       "A matrix: 6 × 3 of type dbl\n",
       "\n",
       "| <!--/--> | (Intercept) | Property_AreaSemiurban | Property_AreaUrban |\n",
       "|---|---|---|---|\n",
       "| 1 | 1 | 0 | 0 |\n",
       "| 2 | 1 | 0 | 1 |\n",
       "| 3 | 1 | 0 | 1 |\n",
       "| 4 | 1 | 0 | 1 |\n",
       "| 5 | 1 | 0 | 1 |\n",
       "| 6 | 1 | 0 | 1 |\n",
       "\n"
      ],
      "text/plain": [
       "  (Intercept) Property_AreaSemiurban Property_AreaUrban\n",
       "1 1           0                      0                 \n",
       "2 1           0                      1                 \n",
       "3 1           0                      1                 \n",
       "4 1           0                      1                 \n",
       "5 1           0                      1                 \n",
       "6 1           0                      1                 "
      ]
     },
     "metadata": {},
     "output_type": "display_data"
    }
   ],
   "source": [
    "head(df_)"
   ]
  },
  {
   "cell_type": "code",
   "execution_count": 117,
   "id": "568cb542",
   "metadata": {},
   "outputs": [],
   "source": [
    "df_1 = as.data.frame(df_1)"
   ]
  },
  {
   "cell_type": "code",
   "execution_count": 119,
   "id": "c03991a9",
   "metadata": {},
   "outputs": [
    {
     "name": "stdout",
     "output_type": "stream",
     "text": [
      "'data.frame':\t492 obs. of  2 variables:\n",
      " $ Property_Area: Factor w/ 3 levels \"Rural\",\"Semiurban\",..: 1 3 3 3 3 3 2 3 2 3 ...\n",
      " $ Loan_Status  : chr  \"N\" \"Y\" \"Y\" \"Y\" ...\n"
     ]
    }
   ],
   "source": [
    "str(df_1)"
   ]
  },
  {
   "cell_type": "code",
   "execution_count": 213,
   "id": "55cd3057",
   "metadata": {},
   "outputs": [],
   "source": [
    "mod = glm(Loan_Status ~ Property_Area, data = df_1, family = binomial(link='logit'))"
   ]
  },
  {
   "cell_type": "code",
   "execution_count": 205,
   "id": "63ddd10c",
   "metadata": {},
   "outputs": [
    {
     "data": {
      "text/plain": [
       "\n",
       "Call:\n",
       "glm(formula = Loan_Status ~ Property_Area, family = binomial(link = \"logit\"), \n",
       "    data = df_1)\n",
       "\n",
       "Deviance Residuals: \n",
       "    Min       1Q   Median       3Q      Max  \n",
       "-1.7285  -1.3693   0.7131   0.9222   0.9969  \n",
       "\n",
       "Coefficients:\n",
       "                       Estimate Std. Error z value Pr(>|z|)    \n",
       "(Intercept)              0.4406     0.1713   2.572 0.010126 *  \n",
       "Property_AreaSemiurban   0.7991     0.2422   3.300 0.000968 ***\n",
       "Property_AreaUrban       0.1943     0.2413   0.805 0.420614    \n",
       "---\n",
       "Signif. codes:  0 '***' 0.001 '**' 0.01 '*' 0.05 '.' 0.1 ' ' 1\n",
       "\n",
       "(Dispersion parameter for binomial family taken to be 1)\n",
       "\n",
       "    Null deviance: 609.96  on 491  degrees of freedom\n",
       "Residual deviance: 597.65  on 489  degrees of freedom\n",
       "AIC: 603.65\n",
       "\n",
       "Number of Fisher Scoring iterations: 4\n"
      ]
     },
     "metadata": {},
     "output_type": "display_data"
    }
   ],
   "source": [
    "summary(mod)"
   ]
  },
  {
   "cell_type": "code",
   "execution_count": 200,
   "id": "d9f2d344",
   "metadata": {},
   "outputs": [],
   "source": [
    "df_res = data.frame(Property_Area = c('Rural','Semiurban','Urban'))"
   ]
  },
  {
   "cell_type": "code",
   "execution_count": 195,
   "id": "2ab233f0",
   "metadata": {
    "scrolled": true
   },
   "outputs": [
    {
     "data": {
      "text/html": [
       "492"
      ],
      "text/latex": [
       "492"
      ],
      "text/markdown": [
       "492"
      ],
      "text/plain": [
       "[1] 492"
      ]
     },
     "metadata": {},
     "output_type": "display_data"
    }
   ],
   "source": [
    "nrow(df)"
   ]
  },
  {
   "cell_type": "code",
   "execution_count": 201,
   "id": "13460151",
   "metadata": {},
   "outputs": [
    {
     "data": {
      "text/html": [
       "3"
      ],
      "text/latex": [
       "3"
      ],
      "text/markdown": [
       "3"
      ],
      "text/plain": [
       "[1] 3"
      ]
     },
     "metadata": {},
     "output_type": "display_data"
    }
   ],
   "source": [
    "nrow(df_res)"
   ]
  },
  {
   "cell_type": "code",
   "execution_count": 214,
   "id": "f9d9765b",
   "metadata": {},
   "outputs": [
    {
     "data": {
      "text/html": [
       "<style>\n",
       ".dl-inline {width: auto; margin:0; padding: 0}\n",
       ".dl-inline>dt, .dl-inline>dd {float: none; width: auto; display: inline-block}\n",
       ".dl-inline>dt::after {content: \":\\0020\"; padding-right: .5ex}\n",
       ".dl-inline>dt:not(:first-of-type) {padding-left: .5ex}\n",
       "</style><dl class=dl-inline><dt>1</dt><dd>0.608391608391607</dd><dt>2</dt><dd>0.653594771241812</dd><dt>3</dt><dd>0.653594771241812</dd><dt>4</dt><dd>0.653594771241812</dd><dt>5</dt><dd>0.653594771241812</dd><dt>6</dt><dd>0.653594771241812</dd><dt>7</dt><dd>0.775510204081359</dd><dt>8</dt><dd>0.653594771241812</dd><dt>9</dt><dd>0.775510204081359</dd><dt>10</dt><dd>0.653594771241812</dd><dt>11</dt><dd>0.653594771241812</dd><dt>12</dt><dd>0.608391608391607</dd><dt>13</dt><dd>0.653594771241812</dd><dt>14</dt><dd>0.653594771241812</dd><dt>15</dt><dd>0.653594771241812</dd><dt>16</dt><dd>0.608391608391607</dd><dt>17</dt><dd>0.653594771241812</dd><dt>18</dt><dd>0.653594771241812</dd><dt>19</dt><dd>0.775510204081359</dd><dt>20</dt><dd>0.608391608391607</dd><dt>21</dt><dd>0.775510204081359</dd><dt>22</dt><dd>0.775510204081359</dd><dt>23</dt><dd>0.653594771241812</dd><dt>24</dt><dd>0.653594771241812</dd><dt>25</dt><dd>0.653594771241812</dd><dt>26</dt><dd>0.608391608391607</dd><dt>27</dt><dd>0.775510204081359</dd><dt>28</dt><dd>0.608391608391607</dd><dt>29</dt><dd>0.775510204081359</dd><dt>30</dt><dd>0.653594771241812</dd><dt>31</dt><dd>0.775510204081359</dd><dt>32</dt><dd>0.653594771241812</dd><dt>33</dt><dd>0.653594771241812</dd><dt>34</dt><dd>0.775510204081359</dd><dt>35</dt><dd>0.653594771241812</dd><dt>36</dt><dd>0.653594771241812</dd><dt>37</dt><dd>0.653594771241812</dd><dt>38</dt><dd>0.775510204081359</dd><dt>39</dt><dd>0.775510204081359</dd><dt>40</dt><dd>0.775510204081359</dd><dt>41</dt><dd>0.775510204081359</dd><dt>42</dt><dd>0.653594771241812</dd><dt>43</dt><dd>0.653594771241812</dd><dt>44</dt><dd>0.775510204081359</dd><dt>45</dt><dd>0.775510204081359</dd><dt>46</dt><dd>0.608391608391607</dd><dt>47</dt><dd>0.653594771241812</dd><dt>48</dt><dd>0.653594771241812</dd><dt>49</dt><dd>0.653594771241812</dd><dt>50</dt><dd>0.653594771241812</dd><dt>51</dt><dd>0.608391608391607</dd><dt>52</dt><dd>0.775510204081359</dd><dt>53</dt><dd>0.775510204081359</dd><dt>54</dt><dd>0.653594771241812</dd><dt>55</dt><dd>0.653594771241812</dd><dt>56</dt><dd>0.653594771241812</dd><dt>57</dt><dd>0.775510204081359</dd><dt>58</dt><dd>0.653594771241812</dd><dt>59</dt><dd>0.775510204081359</dd><dt>60</dt><dd>0.775510204081359</dd><dt>61</dt><dd>0.775510204081359</dd><dt>62</dt><dd>0.653594771241812</dd><dt>63</dt><dd>0.653594771241812</dd><dt>64</dt><dd>0.653594771241812</dd><dt>65</dt><dd>0.775510204081359</dd><dt>66</dt><dd>0.775510204081359</dd><dt>67</dt><dd>0.653594771241812</dd><dt>68</dt><dd>0.653594771241812</dd><dt>69</dt><dd>0.775510204081359</dd><dt>70</dt><dd>0.775510204081359</dd><dt>71</dt><dd>0.653594771241812</dd><dt>72</dt><dd>0.775510204081359</dd><dt>73</dt><dd>0.775510204081359</dd><dt>74</dt><dd>0.775510204081359</dd><dt>75</dt><dd>0.653594771241812</dd><dt>76</dt><dd>0.775510204081359</dd><dt>77</dt><dd>0.775510204081359</dd><dt>78</dt><dd>0.775510204081359</dd><dt>79</dt><dd>0.775510204081359</dd><dt>80</dt><dd>0.775510204081359</dd><dt>81</dt><dd>0.775510204081359</dd><dt>82</dt><dd>0.653594771241812</dd><dt>83</dt><dd>0.775510204081359</dd><dt>84</dt><dd>0.653594771241812</dd><dt>85</dt><dd>0.653594771241812</dd><dt>86</dt><dd>0.653594771241812</dd><dt>87</dt><dd>0.775510204081359</dd><dt>88</dt><dd>0.653594771241812</dd><dt>89</dt><dd>0.608391608391607</dd><dt>90</dt><dd>0.775510204081359</dd><dt>91</dt><dd>0.608391608391607</dd><dt>92</dt><dd>0.653594771241812</dd><dt>93</dt><dd>0.775510204081359</dd><dt>94</dt><dd>0.775510204081359</dd><dt>95</dt><dd>0.775510204081359</dd><dt>96</dt><dd>0.608391608391607</dd><dt>97</dt><dd>0.608391608391607</dd><dt>98</dt><dd>0.653594771241812</dd><dt>99</dt><dd>0.653594771241812</dd><dt>100</dt><dd>0.775510204081359</dd><dt>101</dt><dd>0.775510204081359</dd><dt>102</dt><dd>0.775510204081359</dd><dt>103</dt><dd>0.775510204081359</dd><dt>104</dt><dd>0.608391608391607</dd><dt>105</dt><dd>0.653594771241812</dd><dt>106</dt><dd>0.775510204081359</dd><dt>107</dt><dd>0.608391608391607</dd><dt>108</dt><dd>0.608391608391607</dd><dt>109</dt><dd>0.653594771241812</dd><dt>110</dt><dd>0.775510204081359</dd><dt>111</dt><dd>0.775510204081359</dd><dt>112</dt><dd>0.653594771241812</dd><dt>113</dt><dd>0.775510204081359</dd><dt>114</dt><dd>0.653594771241812</dd><dt>115</dt><dd>0.653594771241812</dd><dt>116</dt><dd>0.608391608391607</dd><dt>117</dt><dd>0.775510204081359</dd><dt>118</dt><dd>0.608391608391607</dd><dt>119</dt><dd>0.608391608391607</dd><dt>120</dt><dd>0.653594771241812</dd><dt>121</dt><dd>0.608391608391607</dd><dt>122</dt><dd>0.653594771241812</dd><dt>123</dt><dd>0.775510204081359</dd><dt>124</dt><dd>0.653594771241812</dd><dt>125</dt><dd>0.775510204081359</dd><dt>126</dt><dd>0.775510204081359</dd><dt>127</dt><dd>0.653594771241812</dd><dt>128</dt><dd>0.775510204081359</dd><dt>129</dt><dd>0.608391608391607</dd><dt>130</dt><dd>0.653594771241812</dd><dt>131</dt><dd>0.608391608391607</dd><dt>132</dt><dd>0.608391608391607</dd><dt>133</dt><dd>0.775510204081359</dd><dt>134</dt><dd>0.775510204081359</dd><dt>135</dt><dd>0.653594771241812</dd><dt>136</dt><dd>0.608391608391607</dd><dt>137</dt><dd>0.775510204081359</dd><dt>138</dt><dd>0.775510204081359</dd><dt>139</dt><dd>0.608391608391607</dd><dt>140</dt><dd>0.608391608391607</dd><dt>141</dt><dd>0.775510204081359</dd><dt>142</dt><dd>0.775510204081359</dd><dt>143</dt><dd>0.653594771241812</dd><dt>144</dt><dd>0.653594771241812</dd><dt>145</dt><dd>0.775510204081359</dd><dt>146</dt><dd>0.775510204081359</dd><dt>147</dt><dd>0.775510204081359</dd><dt>148</dt><dd>0.775510204081359</dd><dt>149</dt><dd>0.608391608391607</dd><dt>150</dt><dd>0.608391608391607</dd><dt>151</dt><dd>0.608391608391607</dd><dt>152</dt><dd>0.608391608391607</dd><dt>153</dt><dd>0.775510204081359</dd><dt>154</dt><dd>0.653594771241812</dd><dt>155</dt><dd>0.775510204081359</dd><dt>156</dt><dd>0.608391608391607</dd><dt>157</dt><dd>0.775510204081359</dd><dt>158</dt><dd>0.608391608391607</dd><dt>159</dt><dd>0.653594771241812</dd><dt>160</dt><dd>0.775510204081359</dd><dt>161</dt><dd>0.775510204081359</dd><dt>162</dt><dd>0.653594771241812</dd><dt>163</dt><dd>0.775510204081359</dd><dt>164</dt><dd>0.775510204081359</dd><dt>165</dt><dd>0.653594771241812</dd><dt>166</dt><dd>0.608391608391607</dd><dt>167</dt><dd>0.653594771241812</dd><dt>168</dt><dd>0.775510204081359</dd><dt>169</dt><dd>0.775510204081359</dd><dt>170</dt><dd>0.775510204081359</dd><dt>171</dt><dd>0.653594771241812</dd><dt>172</dt><dd>0.608391608391607</dd><dt>173</dt><dd>0.653594771241812</dd><dt>174</dt><dd>0.775510204081359</dd><dt>175</dt><dd>0.608391608391607</dd><dt>176</dt><dd>0.775510204081359</dd><dt>177</dt><dd>0.653594771241812</dd><dt>178</dt><dd>0.775510204081359</dd><dt>179</dt><dd>0.775510204081359</dd><dt>180</dt><dd>0.775510204081359</dd><dt>181</dt><dd>0.608391608391607</dd><dt>182</dt><dd>0.775510204081359</dd><dt>183</dt><dd>0.608391608391607</dd><dt>184</dt><dd>0.775510204081359</dd><dt>185</dt><dd>0.775510204081359</dd><dt>186</dt><dd>0.775510204081359</dd><dt>187</dt><dd>0.608391608391607</dd><dt>188</dt><dd>0.608391608391607</dd><dt>189</dt><dd>0.775510204081359</dd><dt>190</dt><dd>0.608391608391607</dd><dt>191</dt><dd>0.653594771241812</dd><dt>192</dt><dd>0.653594771241812</dd><dt>193</dt><dd>0.608391608391607</dd><dt>194</dt><dd>0.775510204081359</dd><dt>195</dt><dd>0.653594771241812</dd><dt>196</dt><dd>0.653594771241812</dd><dt>197</dt><dd>0.653594771241812</dd><dt>198</dt><dd>0.775510204081359</dd><dt>199</dt><dd>0.653594771241812</dd><dt>200</dt><dd>0.775510204081359</dd><dt>201</dt><dd>...</dd><dt>202</dt><dd>0.608391608391607</dd><dt>203</dt><dd>0.775510204081359</dd><dt>204</dt><dd>0.775510204081359</dd><dt>205</dt><dd>0.608391608391607</dd><dt>206</dt><dd>0.653594771241812</dd><dt>207</dt><dd>0.653594771241812</dd><dt>208</dt><dd>0.608391608391607</dd><dt>209</dt><dd>0.653594771241812</dd><dt>210</dt><dd>0.653594771241812</dd><dt>211</dt><dd>0.775510204081359</dd><dt>212</dt><dd>0.653594771241812</dd><dt>213</dt><dd>0.653594771241812</dd><dt>214</dt><dd>0.653594771241812</dd><dt>215</dt><dd>0.775510204081359</dd><dt>216</dt><dd>0.653594771241812</dd><dt>217</dt><dd>0.608391608391607</dd><dt>218</dt><dd>0.608391608391607</dd><dt>219</dt><dd>0.608391608391607</dd><dt>220</dt><dd>0.775510204081359</dd><dt>221</dt><dd>0.653594771241812</dd><dt>222</dt><dd>0.653594771241812</dd><dt>223</dt><dd>0.653594771241812</dd><dt>224</dt><dd>0.608391608391607</dd><dt>225</dt><dd>0.775510204081359</dd><dt>226</dt><dd>0.653594771241812</dd><dt>227</dt><dd>0.608391608391607</dd><dt>228</dt><dd>0.775510204081359</dd><dt>229</dt><dd>0.775510204081359</dd><dt>230</dt><dd>0.608391608391607</dd><dt>231</dt><dd>0.775510204081359</dd><dt>232</dt><dd>0.653594771241812</dd><dt>233</dt><dd>0.608391608391607</dd><dt>234</dt><dd>0.775510204081359</dd><dt>235</dt><dd>0.608391608391607</dd><dt>236</dt><dd>0.775510204081359</dd><dt>237</dt><dd>0.608391608391607</dd><dt>238</dt><dd>0.608391608391607</dd><dt>239</dt><dd>0.775510204081359</dd><dt>240</dt><dd>0.653594771241812</dd><dt>241</dt><dd>0.653594771241812</dd><dt>242</dt><dd>0.653594771241812</dd><dt>243</dt><dd>0.608391608391607</dd><dt>244</dt><dd>0.775510204081359</dd><dt>245</dt><dd>0.608391608391607</dd><dt>246</dt><dd>0.653594771241812</dd><dt>247</dt><dd>0.775510204081359</dd><dt>248</dt><dd>0.608391608391607</dd><dt>249</dt><dd>0.608391608391607</dd><dt>250</dt><dd>0.775510204081359</dd><dt>251</dt><dd>0.608391608391607</dd><dt>252</dt><dd>0.653594771241812</dd><dt>253</dt><dd>0.775510204081359</dd><dt>254</dt><dd>0.608391608391607</dd><dt>255</dt><dd>0.775510204081359</dd><dt>256</dt><dd>0.653594771241812</dd><dt>257</dt><dd>0.775510204081359</dd><dt>258</dt><dd>0.653594771241812</dd><dt>259</dt><dd>0.608391608391607</dd><dt>260</dt><dd>0.775510204081359</dd><dt>261</dt><dd>0.608391608391607</dd><dt>262</dt><dd>0.775510204081359</dd><dt>263</dt><dd>0.775510204081359</dd><dt>264</dt><dd>0.608391608391607</dd><dt>265</dt><dd>0.608391608391607</dd><dt>266</dt><dd>0.608391608391607</dd><dt>267</dt><dd>0.608391608391607</dd><dt>268</dt><dd>0.608391608391607</dd><dt>269</dt><dd>0.608391608391607</dd><dt>270</dt><dd>0.775510204081359</dd><dt>271</dt><dd>0.775510204081359</dd><dt>272</dt><dd>0.653594771241812</dd><dt>273</dt><dd>0.653594771241812</dd><dt>274</dt><dd>0.608391608391607</dd><dt>275</dt><dd>0.775510204081359</dd><dt>276</dt><dd>0.653594771241812</dd><dt>277</dt><dd>0.608391608391607</dd><dt>278</dt><dd>0.775510204081359</dd><dt>279</dt><dd>0.608391608391607</dd><dt>280</dt><dd>0.653594771241812</dd><dt>281</dt><dd>0.775510204081359</dd><dt>282</dt><dd>0.653594771241812</dd><dt>283</dt><dd>0.775510204081359</dd><dt>284</dt><dd>0.608391608391607</dd><dt>285</dt><dd>0.775510204081359</dd><dt>286</dt><dd>0.608391608391607</dd><dt>287</dt><dd>0.608391608391607</dd><dt>288</dt><dd>0.775510204081359</dd><dt>289</dt><dd>0.775510204081359</dd><dt>290</dt><dd>0.775510204081359</dd><dt>291</dt><dd>0.608391608391607</dd><dt>292</dt><dd>0.608391608391607</dd><dt>293</dt><dd>0.775510204081359</dd><dt>294</dt><dd>0.775510204081359</dd><dt>295</dt><dd>0.775510204081359</dd><dt>296</dt><dd>0.608391608391607</dd><dt>297</dt><dd>0.608391608391607</dd><dt>298</dt><dd>0.653594771241812</dd><dt>299</dt><dd>0.775510204081359</dd><dt>300</dt><dd>0.653594771241812</dd><dt>301</dt><dd>0.608391608391607</dd><dt>302</dt><dd>0.775510204081359</dd><dt>303</dt><dd>0.608391608391607</dd><dt>304</dt><dd>0.775510204081359</dd><dt>305</dt><dd>0.608391608391607</dd><dt>306</dt><dd>0.775510204081359</dd><dt>307</dt><dd>0.608391608391607</dd><dt>308</dt><dd>0.608391608391607</dd><dt>309</dt><dd>0.775510204081359</dd><dt>310</dt><dd>0.775510204081359</dd><dt>311</dt><dd>0.775510204081359</dd><dt>312</dt><dd>0.608391608391607</dd><dt>313</dt><dd>0.653594771241812</dd><dt>314</dt><dd>0.653594771241812</dd><dt>315</dt><dd>0.653594771241812</dd><dt>316</dt><dd>0.608391608391607</dd><dt>317</dt><dd>0.775510204081359</dd><dt>318</dt><dd>0.653594771241812</dd><dt>319</dt><dd>0.775510204081359</dd><dt>320</dt><dd>0.608391608391607</dd><dt>321</dt><dd>0.608391608391607</dd><dt>322</dt><dd>0.775510204081359</dd><dt>323</dt><dd>0.775510204081359</dd><dt>324</dt><dd>0.608391608391607</dd><dt>325</dt><dd>0.775510204081359</dd><dt>326</dt><dd>0.775510204081359</dd><dt>327</dt><dd>0.608391608391607</dd><dt>328</dt><dd>0.608391608391607</dd><dt>329</dt><dd>0.608391608391607</dd><dt>330</dt><dd>0.775510204081359</dd><dt>331</dt><dd>0.775510204081359</dd><dt>332</dt><dd>0.775510204081359</dd><dt>333</dt><dd>0.775510204081359</dd><dt>334</dt><dd>0.653594771241812</dd><dt>335</dt><dd>0.608391608391607</dd><dt>336</dt><dd>0.653594771241812</dd><dt>337</dt><dd>0.653594771241812</dd><dt>338</dt><dd>0.775510204081359</dd><dt>339</dt><dd>0.608391608391607</dd><dt>340</dt><dd>0.608391608391607</dd><dt>341</dt><dd>0.775510204081359</dd><dt>342</dt><dd>0.775510204081359</dd><dt>343</dt><dd>0.653594771241812</dd><dt>344</dt><dd>0.608391608391607</dd><dt>345</dt><dd>0.775510204081359</dd><dt>346</dt><dd>0.608391608391607</dd><dt>347</dt><dd>0.775510204081359</dd><dt>348</dt><dd>0.608391608391607</dd><dt>349</dt><dd>0.653594771241812</dd><dt>350</dt><dd>0.653594771241812</dd><dt>351</dt><dd>0.608391608391607</dd><dt>352</dt><dd>0.775510204081359</dd><dt>353</dt><dd>0.775510204081359</dd><dt>354</dt><dd>0.775510204081359</dd><dt>355</dt><dd>0.775510204081359</dd><dt>356</dt><dd>0.775510204081359</dd><dt>357</dt><dd>0.775510204081359</dd><dt>358</dt><dd>0.608391608391607</dd><dt>359</dt><dd>0.775510204081359</dd><dt>360</dt><dd>0.653594771241812</dd><dt>361</dt><dd>0.653594771241812</dd><dt>362</dt><dd>0.608391608391607</dd><dt>363</dt><dd>0.653594771241812</dd><dt>364</dt><dd>0.653594771241812</dd><dt>365</dt><dd>0.653594771241812</dd><dt>366</dt><dd>0.653594771241812</dd><dt>367</dt><dd>0.775510204081359</dd><dt>368</dt><dd>0.775510204081359</dd><dt>369</dt><dd>0.653594771241812</dd><dt>370</dt><dd>0.775510204081359</dd><dt>371</dt><dd>0.653594771241812</dd><dt>372</dt><dd>0.608391608391607</dd><dt>373</dt><dd>0.775510204081359</dd><dt>374</dt><dd>0.653594771241812</dd><dt>375</dt><dd>0.775510204081359</dd><dt>376</dt><dd>0.608391608391607</dd><dt>377</dt><dd>0.608391608391607</dd><dt>378</dt><dd>0.653594771241812</dd><dt>379</dt><dd>0.775510204081359</dd><dt>380</dt><dd>0.775510204081359</dd><dt>381</dt><dd>0.775510204081359</dd><dt>382</dt><dd>0.775510204081359</dd><dt>383</dt><dd>0.775510204081359</dd><dt>384</dt><dd>0.775510204081359</dd><dt>385</dt><dd>0.608391608391607</dd><dt>386</dt><dd>0.653594771241812</dd><dt>387</dt><dd>0.608391608391607</dd><dt>388</dt><dd>0.608391608391607</dd><dt>389</dt><dd>0.608391608391607</dd><dt>390</dt><dd>0.653594771241812</dd><dt>391</dt><dd>0.653594771241812</dd><dt>392</dt><dd>0.608391608391607</dd><dt>393</dt><dd>0.775510204081359</dd><dt>394</dt><dd>0.775510204081359</dd><dt>395</dt><dd>0.608391608391607</dd><dt>396</dt><dd>0.608391608391607</dd><dt>397</dt><dd>0.608391608391607</dd><dt>398</dt><dd>0.608391608391607</dd><dt>399</dt><dd>0.653594771241812</dd><dt>400</dt><dd>0.653594771241812</dd><dt>401</dt><dd>0.775510204081359</dd></dl>\n"
      ],
      "text/latex": [
       "\\begin{description*}\n",
       "\\item[1] 0.608391608391607\n",
       "\\item[2] 0.653594771241812\n",
       "\\item[3] 0.653594771241812\n",
       "\\item[4] 0.653594771241812\n",
       "\\item[5] 0.653594771241812\n",
       "\\item[6] 0.653594771241812\n",
       "\\item[7] 0.775510204081359\n",
       "\\item[8] 0.653594771241812\n",
       "\\item[9] 0.775510204081359\n",
       "\\item[10] 0.653594771241812\n",
       "\\item[11] 0.653594771241812\n",
       "\\item[12] 0.608391608391607\n",
       "\\item[13] 0.653594771241812\n",
       "\\item[14] 0.653594771241812\n",
       "\\item[15] 0.653594771241812\n",
       "\\item[16] 0.608391608391607\n",
       "\\item[17] 0.653594771241812\n",
       "\\item[18] 0.653594771241812\n",
       "\\item[19] 0.775510204081359\n",
       "\\item[20] 0.608391608391607\n",
       "\\item[21] 0.775510204081359\n",
       "\\item[22] 0.775510204081359\n",
       "\\item[23] 0.653594771241812\n",
       "\\item[24] 0.653594771241812\n",
       "\\item[25] 0.653594771241812\n",
       "\\item[26] 0.608391608391607\n",
       "\\item[27] 0.775510204081359\n",
       "\\item[28] 0.608391608391607\n",
       "\\item[29] 0.775510204081359\n",
       "\\item[30] 0.653594771241812\n",
       "\\item[31] 0.775510204081359\n",
       "\\item[32] 0.653594771241812\n",
       "\\item[33] 0.653594771241812\n",
       "\\item[34] 0.775510204081359\n",
       "\\item[35] 0.653594771241812\n",
       "\\item[36] 0.653594771241812\n",
       "\\item[37] 0.653594771241812\n",
       "\\item[38] 0.775510204081359\n",
       "\\item[39] 0.775510204081359\n",
       "\\item[40] 0.775510204081359\n",
       "\\item[41] 0.775510204081359\n",
       "\\item[42] 0.653594771241812\n",
       "\\item[43] 0.653594771241812\n",
       "\\item[44] 0.775510204081359\n",
       "\\item[45] 0.775510204081359\n",
       "\\item[46] 0.608391608391607\n",
       "\\item[47] 0.653594771241812\n",
       "\\item[48] 0.653594771241812\n",
       "\\item[49] 0.653594771241812\n",
       "\\item[50] 0.653594771241812\n",
       "\\item[51] 0.608391608391607\n",
       "\\item[52] 0.775510204081359\n",
       "\\item[53] 0.775510204081359\n",
       "\\item[54] 0.653594771241812\n",
       "\\item[55] 0.653594771241812\n",
       "\\item[56] 0.653594771241812\n",
       "\\item[57] 0.775510204081359\n",
       "\\item[58] 0.653594771241812\n",
       "\\item[59] 0.775510204081359\n",
       "\\item[60] 0.775510204081359\n",
       "\\item[61] 0.775510204081359\n",
       "\\item[62] 0.653594771241812\n",
       "\\item[63] 0.653594771241812\n",
       "\\item[64] 0.653594771241812\n",
       "\\item[65] 0.775510204081359\n",
       "\\item[66] 0.775510204081359\n",
       "\\item[67] 0.653594771241812\n",
       "\\item[68] 0.653594771241812\n",
       "\\item[69] 0.775510204081359\n",
       "\\item[70] 0.775510204081359\n",
       "\\item[71] 0.653594771241812\n",
       "\\item[72] 0.775510204081359\n",
       "\\item[73] 0.775510204081359\n",
       "\\item[74] 0.775510204081359\n",
       "\\item[75] 0.653594771241812\n",
       "\\item[76] 0.775510204081359\n",
       "\\item[77] 0.775510204081359\n",
       "\\item[78] 0.775510204081359\n",
       "\\item[79] 0.775510204081359\n",
       "\\item[80] 0.775510204081359\n",
       "\\item[81] 0.775510204081359\n",
       "\\item[82] 0.653594771241812\n",
       "\\item[83] 0.775510204081359\n",
       "\\item[84] 0.653594771241812\n",
       "\\item[85] 0.653594771241812\n",
       "\\item[86] 0.653594771241812\n",
       "\\item[87] 0.775510204081359\n",
       "\\item[88] 0.653594771241812\n",
       "\\item[89] 0.608391608391607\n",
       "\\item[90] 0.775510204081359\n",
       "\\item[91] 0.608391608391607\n",
       "\\item[92] 0.653594771241812\n",
       "\\item[93] 0.775510204081359\n",
       "\\item[94] 0.775510204081359\n",
       "\\item[95] 0.775510204081359\n",
       "\\item[96] 0.608391608391607\n",
       "\\item[97] 0.608391608391607\n",
       "\\item[98] 0.653594771241812\n",
       "\\item[99] 0.653594771241812\n",
       "\\item[100] 0.775510204081359\n",
       "\\item[101] 0.775510204081359\n",
       "\\item[102] 0.775510204081359\n",
       "\\item[103] 0.775510204081359\n",
       "\\item[104] 0.608391608391607\n",
       "\\item[105] 0.653594771241812\n",
       "\\item[106] 0.775510204081359\n",
       "\\item[107] 0.608391608391607\n",
       "\\item[108] 0.608391608391607\n",
       "\\item[109] 0.653594771241812\n",
       "\\item[110] 0.775510204081359\n",
       "\\item[111] 0.775510204081359\n",
       "\\item[112] 0.653594771241812\n",
       "\\item[113] 0.775510204081359\n",
       "\\item[114] 0.653594771241812\n",
       "\\item[115] 0.653594771241812\n",
       "\\item[116] 0.608391608391607\n",
       "\\item[117] 0.775510204081359\n",
       "\\item[118] 0.608391608391607\n",
       "\\item[119] 0.608391608391607\n",
       "\\item[120] 0.653594771241812\n",
       "\\item[121] 0.608391608391607\n",
       "\\item[122] 0.653594771241812\n",
       "\\item[123] 0.775510204081359\n",
       "\\item[124] 0.653594771241812\n",
       "\\item[125] 0.775510204081359\n",
       "\\item[126] 0.775510204081359\n",
       "\\item[127] 0.653594771241812\n",
       "\\item[128] 0.775510204081359\n",
       "\\item[129] 0.608391608391607\n",
       "\\item[130] 0.653594771241812\n",
       "\\item[131] 0.608391608391607\n",
       "\\item[132] 0.608391608391607\n",
       "\\item[133] 0.775510204081359\n",
       "\\item[134] 0.775510204081359\n",
       "\\item[135] 0.653594771241812\n",
       "\\item[136] 0.608391608391607\n",
       "\\item[137] 0.775510204081359\n",
       "\\item[138] 0.775510204081359\n",
       "\\item[139] 0.608391608391607\n",
       "\\item[140] 0.608391608391607\n",
       "\\item[141] 0.775510204081359\n",
       "\\item[142] 0.775510204081359\n",
       "\\item[143] 0.653594771241812\n",
       "\\item[144] 0.653594771241812\n",
       "\\item[145] 0.775510204081359\n",
       "\\item[146] 0.775510204081359\n",
       "\\item[147] 0.775510204081359\n",
       "\\item[148] 0.775510204081359\n",
       "\\item[149] 0.608391608391607\n",
       "\\item[150] 0.608391608391607\n",
       "\\item[151] 0.608391608391607\n",
       "\\item[152] 0.608391608391607\n",
       "\\item[153] 0.775510204081359\n",
       "\\item[154] 0.653594771241812\n",
       "\\item[155] 0.775510204081359\n",
       "\\item[156] 0.608391608391607\n",
       "\\item[157] 0.775510204081359\n",
       "\\item[158] 0.608391608391607\n",
       "\\item[159] 0.653594771241812\n",
       "\\item[160] 0.775510204081359\n",
       "\\item[161] 0.775510204081359\n",
       "\\item[162] 0.653594771241812\n",
       "\\item[163] 0.775510204081359\n",
       "\\item[164] 0.775510204081359\n",
       "\\item[165] 0.653594771241812\n",
       "\\item[166] 0.608391608391607\n",
       "\\item[167] 0.653594771241812\n",
       "\\item[168] 0.775510204081359\n",
       "\\item[169] 0.775510204081359\n",
       "\\item[170] 0.775510204081359\n",
       "\\item[171] 0.653594771241812\n",
       "\\item[172] 0.608391608391607\n",
       "\\item[173] 0.653594771241812\n",
       "\\item[174] 0.775510204081359\n",
       "\\item[175] 0.608391608391607\n",
       "\\item[176] 0.775510204081359\n",
       "\\item[177] 0.653594771241812\n",
       "\\item[178] 0.775510204081359\n",
       "\\item[179] 0.775510204081359\n",
       "\\item[180] 0.775510204081359\n",
       "\\item[181] 0.608391608391607\n",
       "\\item[182] 0.775510204081359\n",
       "\\item[183] 0.608391608391607\n",
       "\\item[184] 0.775510204081359\n",
       "\\item[185] 0.775510204081359\n",
       "\\item[186] 0.775510204081359\n",
       "\\item[187] 0.608391608391607\n",
       "\\item[188] 0.608391608391607\n",
       "\\item[189] 0.775510204081359\n",
       "\\item[190] 0.608391608391607\n",
       "\\item[191] 0.653594771241812\n",
       "\\item[192] 0.653594771241812\n",
       "\\item[193] 0.608391608391607\n",
       "\\item[194] 0.775510204081359\n",
       "\\item[195] 0.653594771241812\n",
       "\\item[196] 0.653594771241812\n",
       "\\item[197] 0.653594771241812\n",
       "\\item[198] 0.775510204081359\n",
       "\\item[199] 0.653594771241812\n",
       "\\item[200] 0.775510204081359\n",
       "\\item[201] ...\n",
       "\\item[202] 0.608391608391607\n",
       "\\item[203] 0.775510204081359\n",
       "\\item[204] 0.775510204081359\n",
       "\\item[205] 0.608391608391607\n",
       "\\item[206] 0.653594771241812\n",
       "\\item[207] 0.653594771241812\n",
       "\\item[208] 0.608391608391607\n",
       "\\item[209] 0.653594771241812\n",
       "\\item[210] 0.653594771241812\n",
       "\\item[211] 0.775510204081359\n",
       "\\item[212] 0.653594771241812\n",
       "\\item[213] 0.653594771241812\n",
       "\\item[214] 0.653594771241812\n",
       "\\item[215] 0.775510204081359\n",
       "\\item[216] 0.653594771241812\n",
       "\\item[217] 0.608391608391607\n",
       "\\item[218] 0.608391608391607\n",
       "\\item[219] 0.608391608391607\n",
       "\\item[220] 0.775510204081359\n",
       "\\item[221] 0.653594771241812\n",
       "\\item[222] 0.653594771241812\n",
       "\\item[223] 0.653594771241812\n",
       "\\item[224] 0.608391608391607\n",
       "\\item[225] 0.775510204081359\n",
       "\\item[226] 0.653594771241812\n",
       "\\item[227] 0.608391608391607\n",
       "\\item[228] 0.775510204081359\n",
       "\\item[229] 0.775510204081359\n",
       "\\item[230] 0.608391608391607\n",
       "\\item[231] 0.775510204081359\n",
       "\\item[232] 0.653594771241812\n",
       "\\item[233] 0.608391608391607\n",
       "\\item[234] 0.775510204081359\n",
       "\\item[235] 0.608391608391607\n",
       "\\item[236] 0.775510204081359\n",
       "\\item[237] 0.608391608391607\n",
       "\\item[238] 0.608391608391607\n",
       "\\item[239] 0.775510204081359\n",
       "\\item[240] 0.653594771241812\n",
       "\\item[241] 0.653594771241812\n",
       "\\item[242] 0.653594771241812\n",
       "\\item[243] 0.608391608391607\n",
       "\\item[244] 0.775510204081359\n",
       "\\item[245] 0.608391608391607\n",
       "\\item[246] 0.653594771241812\n",
       "\\item[247] 0.775510204081359\n",
       "\\item[248] 0.608391608391607\n",
       "\\item[249] 0.608391608391607\n",
       "\\item[250] 0.775510204081359\n",
       "\\item[251] 0.608391608391607\n",
       "\\item[252] 0.653594771241812\n",
       "\\item[253] 0.775510204081359\n",
       "\\item[254] 0.608391608391607\n",
       "\\item[255] 0.775510204081359\n",
       "\\item[256] 0.653594771241812\n",
       "\\item[257] 0.775510204081359\n",
       "\\item[258] 0.653594771241812\n",
       "\\item[259] 0.608391608391607\n",
       "\\item[260] 0.775510204081359\n",
       "\\item[261] 0.608391608391607\n",
       "\\item[262] 0.775510204081359\n",
       "\\item[263] 0.775510204081359\n",
       "\\item[264] 0.608391608391607\n",
       "\\item[265] 0.608391608391607\n",
       "\\item[266] 0.608391608391607\n",
       "\\item[267] 0.608391608391607\n",
       "\\item[268] 0.608391608391607\n",
       "\\item[269] 0.608391608391607\n",
       "\\item[270] 0.775510204081359\n",
       "\\item[271] 0.775510204081359\n",
       "\\item[272] 0.653594771241812\n",
       "\\item[273] 0.653594771241812\n",
       "\\item[274] 0.608391608391607\n",
       "\\item[275] 0.775510204081359\n",
       "\\item[276] 0.653594771241812\n",
       "\\item[277] 0.608391608391607\n",
       "\\item[278] 0.775510204081359\n",
       "\\item[279] 0.608391608391607\n",
       "\\item[280] 0.653594771241812\n",
       "\\item[281] 0.775510204081359\n",
       "\\item[282] 0.653594771241812\n",
       "\\item[283] 0.775510204081359\n",
       "\\item[284] 0.608391608391607\n",
       "\\item[285] 0.775510204081359\n",
       "\\item[286] 0.608391608391607\n",
       "\\item[287] 0.608391608391607\n",
       "\\item[288] 0.775510204081359\n",
       "\\item[289] 0.775510204081359\n",
       "\\item[290] 0.775510204081359\n",
       "\\item[291] 0.608391608391607\n",
       "\\item[292] 0.608391608391607\n",
       "\\item[293] 0.775510204081359\n",
       "\\item[294] 0.775510204081359\n",
       "\\item[295] 0.775510204081359\n",
       "\\item[296] 0.608391608391607\n",
       "\\item[297] 0.608391608391607\n",
       "\\item[298] 0.653594771241812\n",
       "\\item[299] 0.775510204081359\n",
       "\\item[300] 0.653594771241812\n",
       "\\item[301] 0.608391608391607\n",
       "\\item[302] 0.775510204081359\n",
       "\\item[303] 0.608391608391607\n",
       "\\item[304] 0.775510204081359\n",
       "\\item[305] 0.608391608391607\n",
       "\\item[306] 0.775510204081359\n",
       "\\item[307] 0.608391608391607\n",
       "\\item[308] 0.608391608391607\n",
       "\\item[309] 0.775510204081359\n",
       "\\item[310] 0.775510204081359\n",
       "\\item[311] 0.775510204081359\n",
       "\\item[312] 0.608391608391607\n",
       "\\item[313] 0.653594771241812\n",
       "\\item[314] 0.653594771241812\n",
       "\\item[315] 0.653594771241812\n",
       "\\item[316] 0.608391608391607\n",
       "\\item[317] 0.775510204081359\n",
       "\\item[318] 0.653594771241812\n",
       "\\item[319] 0.775510204081359\n",
       "\\item[320] 0.608391608391607\n",
       "\\item[321] 0.608391608391607\n",
       "\\item[322] 0.775510204081359\n",
       "\\item[323] 0.775510204081359\n",
       "\\item[324] 0.608391608391607\n",
       "\\item[325] 0.775510204081359\n",
       "\\item[326] 0.775510204081359\n",
       "\\item[327] 0.608391608391607\n",
       "\\item[328] 0.608391608391607\n",
       "\\item[329] 0.608391608391607\n",
       "\\item[330] 0.775510204081359\n",
       "\\item[331] 0.775510204081359\n",
       "\\item[332] 0.775510204081359\n",
       "\\item[333] 0.775510204081359\n",
       "\\item[334] 0.653594771241812\n",
       "\\item[335] 0.608391608391607\n",
       "\\item[336] 0.653594771241812\n",
       "\\item[337] 0.653594771241812\n",
       "\\item[338] 0.775510204081359\n",
       "\\item[339] 0.608391608391607\n",
       "\\item[340] 0.608391608391607\n",
       "\\item[341] 0.775510204081359\n",
       "\\item[342] 0.775510204081359\n",
       "\\item[343] 0.653594771241812\n",
       "\\item[344] 0.608391608391607\n",
       "\\item[345] 0.775510204081359\n",
       "\\item[346] 0.608391608391607\n",
       "\\item[347] 0.775510204081359\n",
       "\\item[348] 0.608391608391607\n",
       "\\item[349] 0.653594771241812\n",
       "\\item[350] 0.653594771241812\n",
       "\\item[351] 0.608391608391607\n",
       "\\item[352] 0.775510204081359\n",
       "\\item[353] 0.775510204081359\n",
       "\\item[354] 0.775510204081359\n",
       "\\item[355] 0.775510204081359\n",
       "\\item[356] 0.775510204081359\n",
       "\\item[357] 0.775510204081359\n",
       "\\item[358] 0.608391608391607\n",
       "\\item[359] 0.775510204081359\n",
       "\\item[360] 0.653594771241812\n",
       "\\item[361] 0.653594771241812\n",
       "\\item[362] 0.608391608391607\n",
       "\\item[363] 0.653594771241812\n",
       "\\item[364] 0.653594771241812\n",
       "\\item[365] 0.653594771241812\n",
       "\\item[366] 0.653594771241812\n",
       "\\item[367] 0.775510204081359\n",
       "\\item[368] 0.775510204081359\n",
       "\\item[369] 0.653594771241812\n",
       "\\item[370] 0.775510204081359\n",
       "\\item[371] 0.653594771241812\n",
       "\\item[372] 0.608391608391607\n",
       "\\item[373] 0.775510204081359\n",
       "\\item[374] 0.653594771241812\n",
       "\\item[375] 0.775510204081359\n",
       "\\item[376] 0.608391608391607\n",
       "\\item[377] 0.608391608391607\n",
       "\\item[378] 0.653594771241812\n",
       "\\item[379] 0.775510204081359\n",
       "\\item[380] 0.775510204081359\n",
       "\\item[381] 0.775510204081359\n",
       "\\item[382] 0.775510204081359\n",
       "\\item[383] 0.775510204081359\n",
       "\\item[384] 0.775510204081359\n",
       "\\item[385] 0.608391608391607\n",
       "\\item[386] 0.653594771241812\n",
       "\\item[387] 0.608391608391607\n",
       "\\item[388] 0.608391608391607\n",
       "\\item[389] 0.608391608391607\n",
       "\\item[390] 0.653594771241812\n",
       "\\item[391] 0.653594771241812\n",
       "\\item[392] 0.608391608391607\n",
       "\\item[393] 0.775510204081359\n",
       "\\item[394] 0.775510204081359\n",
       "\\item[395] 0.608391608391607\n",
       "\\item[396] 0.608391608391607\n",
       "\\item[397] 0.608391608391607\n",
       "\\item[398] 0.608391608391607\n",
       "\\item[399] 0.653594771241812\n",
       "\\item[400] 0.653594771241812\n",
       "\\item[401] 0.775510204081359\n",
       "\\end{description*}\n"
      ],
      "text/markdown": [
       "1\n",
       ":   0.6083916083916072\n",
       ":   0.6535947712418123\n",
       ":   0.6535947712418124\n",
       ":   0.6535947712418125\n",
       ":   0.6535947712418126\n",
       ":   0.6535947712418127\n",
       ":   0.7755102040813598\n",
       ":   0.6535947712418129\n",
       ":   0.77551020408135910\n",
       ":   0.65359477124181211\n",
       ":   0.65359477124181212\n",
       ":   0.60839160839160713\n",
       ":   0.65359477124181214\n",
       ":   0.65359477124181215\n",
       ":   0.65359477124181216\n",
       ":   0.60839160839160717\n",
       ":   0.65359477124181218\n",
       ":   0.65359477124181219\n",
       ":   0.77551020408135920\n",
       ":   0.60839160839160721\n",
       ":   0.77551020408135922\n",
       ":   0.77551020408135923\n",
       ":   0.65359477124181224\n",
       ":   0.65359477124181225\n",
       ":   0.65359477124181226\n",
       ":   0.60839160839160727\n",
       ":   0.77551020408135928\n",
       ":   0.60839160839160729\n",
       ":   0.77551020408135930\n",
       ":   0.65359477124181231\n",
       ":   0.77551020408135932\n",
       ":   0.65359477124181233\n",
       ":   0.65359477124181234\n",
       ":   0.77551020408135935\n",
       ":   0.65359477124181236\n",
       ":   0.65359477124181237\n",
       ":   0.65359477124181238\n",
       ":   0.77551020408135939\n",
       ":   0.77551020408135940\n",
       ":   0.77551020408135941\n",
       ":   0.77551020408135942\n",
       ":   0.65359477124181243\n",
       ":   0.65359477124181244\n",
       ":   0.77551020408135945\n",
       ":   0.77551020408135946\n",
       ":   0.60839160839160747\n",
       ":   0.65359477124181248\n",
       ":   0.65359477124181249\n",
       ":   0.65359477124181250\n",
       ":   0.65359477124181251\n",
       ":   0.60839160839160752\n",
       ":   0.77551020408135953\n",
       ":   0.77551020408135954\n",
       ":   0.65359477124181255\n",
       ":   0.65359477124181256\n",
       ":   0.65359477124181257\n",
       ":   0.77551020408135958\n",
       ":   0.65359477124181259\n",
       ":   0.77551020408135960\n",
       ":   0.77551020408135961\n",
       ":   0.77551020408135962\n",
       ":   0.65359477124181263\n",
       ":   0.65359477124181264\n",
       ":   0.65359477124181265\n",
       ":   0.77551020408135966\n",
       ":   0.77551020408135967\n",
       ":   0.65359477124181268\n",
       ":   0.65359477124181269\n",
       ":   0.77551020408135970\n",
       ":   0.77551020408135971\n",
       ":   0.65359477124181272\n",
       ":   0.77551020408135973\n",
       ":   0.77551020408135974\n",
       ":   0.77551020408135975\n",
       ":   0.65359477124181276\n",
       ":   0.77551020408135977\n",
       ":   0.77551020408135978\n",
       ":   0.77551020408135979\n",
       ":   0.77551020408135980\n",
       ":   0.77551020408135981\n",
       ":   0.77551020408135982\n",
       ":   0.65359477124181283\n",
       ":   0.77551020408135984\n",
       ":   0.65359477124181285\n",
       ":   0.65359477124181286\n",
       ":   0.65359477124181287\n",
       ":   0.77551020408135988\n",
       ":   0.65359477124181289\n",
       ":   0.60839160839160790\n",
       ":   0.77551020408135991\n",
       ":   0.60839160839160792\n",
       ":   0.65359477124181293\n",
       ":   0.77551020408135994\n",
       ":   0.77551020408135995\n",
       ":   0.77551020408135996\n",
       ":   0.60839160839160797\n",
       ":   0.60839160839160798\n",
       ":   0.65359477124181299\n",
       ":   0.653594771241812100\n",
       ":   0.775510204081359101\n",
       ":   0.775510204081359102\n",
       ":   0.775510204081359103\n",
       ":   0.775510204081359104\n",
       ":   0.608391608391607105\n",
       ":   0.653594771241812106\n",
       ":   0.775510204081359107\n",
       ":   0.608391608391607108\n",
       ":   0.608391608391607109\n",
       ":   0.653594771241812110\n",
       ":   0.775510204081359111\n",
       ":   0.775510204081359112\n",
       ":   0.653594771241812113\n",
       ":   0.775510204081359114\n",
       ":   0.653594771241812115\n",
       ":   0.653594771241812116\n",
       ":   0.608391608391607117\n",
       ":   0.775510204081359118\n",
       ":   0.608391608391607119\n",
       ":   0.608391608391607120\n",
       ":   0.653594771241812121\n",
       ":   0.608391608391607122\n",
       ":   0.653594771241812123\n",
       ":   0.775510204081359124\n",
       ":   0.653594771241812125\n",
       ":   0.775510204081359126\n",
       ":   0.775510204081359127\n",
       ":   0.653594771241812128\n",
       ":   0.775510204081359129\n",
       ":   0.608391608391607130\n",
       ":   0.653594771241812131\n",
       ":   0.608391608391607132\n",
       ":   0.608391608391607133\n",
       ":   0.775510204081359134\n",
       ":   0.775510204081359135\n",
       ":   0.653594771241812136\n",
       ":   0.608391608391607137\n",
       ":   0.775510204081359138\n",
       ":   0.775510204081359139\n",
       ":   0.608391608391607140\n",
       ":   0.608391608391607141\n",
       ":   0.775510204081359142\n",
       ":   0.775510204081359143\n",
       ":   0.653594771241812144\n",
       ":   0.653594771241812145\n",
       ":   0.775510204081359146\n",
       ":   0.775510204081359147\n",
       ":   0.775510204081359148\n",
       ":   0.775510204081359149\n",
       ":   0.608391608391607150\n",
       ":   0.608391608391607151\n",
       ":   0.608391608391607152\n",
       ":   0.608391608391607153\n",
       ":   0.775510204081359154\n",
       ":   0.653594771241812155\n",
       ":   0.775510204081359156\n",
       ":   0.608391608391607157\n",
       ":   0.775510204081359158\n",
       ":   0.608391608391607159\n",
       ":   0.653594771241812160\n",
       ":   0.775510204081359161\n",
       ":   0.775510204081359162\n",
       ":   0.653594771241812163\n",
       ":   0.775510204081359164\n",
       ":   0.775510204081359165\n",
       ":   0.653594771241812166\n",
       ":   0.608391608391607167\n",
       ":   0.653594771241812168\n",
       ":   0.775510204081359169\n",
       ":   0.775510204081359170\n",
       ":   0.775510204081359171\n",
       ":   0.653594771241812172\n",
       ":   0.608391608391607173\n",
       ":   0.653594771241812174\n",
       ":   0.775510204081359175\n",
       ":   0.608391608391607176\n",
       ":   0.775510204081359177\n",
       ":   0.653594771241812178\n",
       ":   0.775510204081359179\n",
       ":   0.775510204081359180\n",
       ":   0.775510204081359181\n",
       ":   0.608391608391607182\n",
       ":   0.775510204081359183\n",
       ":   0.608391608391607184\n",
       ":   0.775510204081359185\n",
       ":   0.775510204081359186\n",
       ":   0.775510204081359187\n",
       ":   0.608391608391607188\n",
       ":   0.608391608391607189\n",
       ":   0.775510204081359190\n",
       ":   0.608391608391607191\n",
       ":   0.653594771241812192\n",
       ":   0.653594771241812193\n",
       ":   0.608391608391607194\n",
       ":   0.775510204081359195\n",
       ":   0.653594771241812196\n",
       ":   0.653594771241812197\n",
       ":   0.653594771241812198\n",
       ":   0.775510204081359199\n",
       ":   0.653594771241812200\n",
       ":   0.775510204081359201\n",
       ":   ...202\n",
       ":   0.608391608391607203\n",
       ":   0.775510204081359204\n",
       ":   0.775510204081359205\n",
       ":   0.608391608391607206\n",
       ":   0.653594771241812207\n",
       ":   0.653594771241812208\n",
       ":   0.608391608391607209\n",
       ":   0.653594771241812210\n",
       ":   0.653594771241812211\n",
       ":   0.775510204081359212\n",
       ":   0.653594771241812213\n",
       ":   0.653594771241812214\n",
       ":   0.653594771241812215\n",
       ":   0.775510204081359216\n",
       ":   0.653594771241812217\n",
       ":   0.608391608391607218\n",
       ":   0.608391608391607219\n",
       ":   0.608391608391607220\n",
       ":   0.775510204081359221\n",
       ":   0.653594771241812222\n",
       ":   0.653594771241812223\n",
       ":   0.653594771241812224\n",
       ":   0.608391608391607225\n",
       ":   0.775510204081359226\n",
       ":   0.653594771241812227\n",
       ":   0.608391608391607228\n",
       ":   0.775510204081359229\n",
       ":   0.775510204081359230\n",
       ":   0.608391608391607231\n",
       ":   0.775510204081359232\n",
       ":   0.653594771241812233\n",
       ":   0.608391608391607234\n",
       ":   0.775510204081359235\n",
       ":   0.608391608391607236\n",
       ":   0.775510204081359237\n",
       ":   0.608391608391607238\n",
       ":   0.608391608391607239\n",
       ":   0.775510204081359240\n",
       ":   0.653594771241812241\n",
       ":   0.653594771241812242\n",
       ":   0.653594771241812243\n",
       ":   0.608391608391607244\n",
       ":   0.775510204081359245\n",
       ":   0.608391608391607246\n",
       ":   0.653594771241812247\n",
       ":   0.775510204081359248\n",
       ":   0.608391608391607249\n",
       ":   0.608391608391607250\n",
       ":   0.775510204081359251\n",
       ":   0.608391608391607252\n",
       ":   0.653594771241812253\n",
       ":   0.775510204081359254\n",
       ":   0.608391608391607255\n",
       ":   0.775510204081359256\n",
       ":   0.653594771241812257\n",
       ":   0.775510204081359258\n",
       ":   0.653594771241812259\n",
       ":   0.608391608391607260\n",
       ":   0.775510204081359261\n",
       ":   0.608391608391607262\n",
       ":   0.775510204081359263\n",
       ":   0.775510204081359264\n",
       ":   0.608391608391607265\n",
       ":   0.608391608391607266\n",
       ":   0.608391608391607267\n",
       ":   0.608391608391607268\n",
       ":   0.608391608391607269\n",
       ":   0.608391608391607270\n",
       ":   0.775510204081359271\n",
       ":   0.775510204081359272\n",
       ":   0.653594771241812273\n",
       ":   0.653594771241812274\n",
       ":   0.608391608391607275\n",
       ":   0.775510204081359276\n",
       ":   0.653594771241812277\n",
       ":   0.608391608391607278\n",
       ":   0.775510204081359279\n",
       ":   0.608391608391607280\n",
       ":   0.653594771241812281\n",
       ":   0.775510204081359282\n",
       ":   0.653594771241812283\n",
       ":   0.775510204081359284\n",
       ":   0.608391608391607285\n",
       ":   0.775510204081359286\n",
       ":   0.608391608391607287\n",
       ":   0.608391608391607288\n",
       ":   0.775510204081359289\n",
       ":   0.775510204081359290\n",
       ":   0.775510204081359291\n",
       ":   0.608391608391607292\n",
       ":   0.608391608391607293\n",
       ":   0.775510204081359294\n",
       ":   0.775510204081359295\n",
       ":   0.775510204081359296\n",
       ":   0.608391608391607297\n",
       ":   0.608391608391607298\n",
       ":   0.653594771241812299\n",
       ":   0.775510204081359300\n",
       ":   0.653594771241812301\n",
       ":   0.608391608391607302\n",
       ":   0.775510204081359303\n",
       ":   0.608391608391607304\n",
       ":   0.775510204081359305\n",
       ":   0.608391608391607306\n",
       ":   0.775510204081359307\n",
       ":   0.608391608391607308\n",
       ":   0.608391608391607309\n",
       ":   0.775510204081359310\n",
       ":   0.775510204081359311\n",
       ":   0.775510204081359312\n",
       ":   0.608391608391607313\n",
       ":   0.653594771241812314\n",
       ":   0.653594771241812315\n",
       ":   0.653594771241812316\n",
       ":   0.608391608391607317\n",
       ":   0.775510204081359318\n",
       ":   0.653594771241812319\n",
       ":   0.775510204081359320\n",
       ":   0.608391608391607321\n",
       ":   0.608391608391607322\n",
       ":   0.775510204081359323\n",
       ":   0.775510204081359324\n",
       ":   0.608391608391607325\n",
       ":   0.775510204081359326\n",
       ":   0.775510204081359327\n",
       ":   0.608391608391607328\n",
       ":   0.608391608391607329\n",
       ":   0.608391608391607330\n",
       ":   0.775510204081359331\n",
       ":   0.775510204081359332\n",
       ":   0.775510204081359333\n",
       ":   0.775510204081359334\n",
       ":   0.653594771241812335\n",
       ":   0.608391608391607336\n",
       ":   0.653594771241812337\n",
       ":   0.653594771241812338\n",
       ":   0.775510204081359339\n",
       ":   0.608391608391607340\n",
       ":   0.608391608391607341\n",
       ":   0.775510204081359342\n",
       ":   0.775510204081359343\n",
       ":   0.653594771241812344\n",
       ":   0.608391608391607345\n",
       ":   0.775510204081359346\n",
       ":   0.608391608391607347\n",
       ":   0.775510204081359348\n",
       ":   0.608391608391607349\n",
       ":   0.653594771241812350\n",
       ":   0.653594771241812351\n",
       ":   0.608391608391607352\n",
       ":   0.775510204081359353\n",
       ":   0.775510204081359354\n",
       ":   0.775510204081359355\n",
       ":   0.775510204081359356\n",
       ":   0.775510204081359357\n",
       ":   0.775510204081359358\n",
       ":   0.608391608391607359\n",
       ":   0.775510204081359360\n",
       ":   0.653594771241812361\n",
       ":   0.653594771241812362\n",
       ":   0.608391608391607363\n",
       ":   0.653594771241812364\n",
       ":   0.653594771241812365\n",
       ":   0.653594771241812366\n",
       ":   0.653594771241812367\n",
       ":   0.775510204081359368\n",
       ":   0.775510204081359369\n",
       ":   0.653594771241812370\n",
       ":   0.775510204081359371\n",
       ":   0.653594771241812372\n",
       ":   0.608391608391607373\n",
       ":   0.775510204081359374\n",
       ":   0.653594771241812375\n",
       ":   0.775510204081359376\n",
       ":   0.608391608391607377\n",
       ":   0.608391608391607378\n",
       ":   0.653594771241812379\n",
       ":   0.775510204081359380\n",
       ":   0.775510204081359381\n",
       ":   0.775510204081359382\n",
       ":   0.775510204081359383\n",
       ":   0.775510204081359384\n",
       ":   0.775510204081359385\n",
       ":   0.608391608391607386\n",
       ":   0.653594771241812387\n",
       ":   0.608391608391607388\n",
       ":   0.608391608391607389\n",
       ":   0.608391608391607390\n",
       ":   0.653594771241812391\n",
       ":   0.653594771241812392\n",
       ":   0.608391608391607393\n",
       ":   0.775510204081359394\n",
       ":   0.775510204081359395\n",
       ":   0.608391608391607396\n",
       ":   0.608391608391607397\n",
       ":   0.608391608391607398\n",
       ":   0.608391608391607399\n",
       ":   0.653594771241812400\n",
       ":   0.653594771241812401\n",
       ":   0.775510204081359\n",
       "\n"
      ],
      "text/plain": [
       "        1         2         3         4         5         6         7         8 \n",
       "0.6083916 0.6535948 0.6535948 0.6535948 0.6535948 0.6535948 0.7755102 0.6535948 \n",
       "        9        10        11        12        13        14        15        16 \n",
       "0.7755102 0.6535948 0.6535948 0.6083916 0.6535948 0.6535948 0.6535948 0.6083916 \n",
       "       17        18        19        20        21        22        23        24 \n",
       "0.6535948 0.6535948 0.7755102 0.6083916 0.7755102 0.7755102 0.6535948 0.6535948 \n",
       "       25        26        27        28        29        30        31        32 \n",
       "0.6535948 0.6083916 0.7755102 0.6083916 0.7755102 0.6535948 0.7755102 0.6535948 \n",
       "       33        34        35        36        37        38        39        40 \n",
       "0.6535948 0.7755102 0.6535948 0.6535948 0.6535948 0.7755102 0.7755102 0.7755102 \n",
       "       41        42        43        44        45        46        47        48 \n",
       "0.7755102 0.6535948 0.6535948 0.7755102 0.7755102 0.6083916 0.6535948 0.6535948 \n",
       "       49        50        51        52        53        54        55        56 \n",
       "0.6535948 0.6535948 0.6083916 0.7755102 0.7755102 0.6535948 0.6535948 0.6535948 \n",
       "       57        58        59        60        61        62        63        64 \n",
       "0.7755102 0.6535948 0.7755102 0.7755102 0.7755102 0.6535948 0.6535948 0.6535948 \n",
       "       65        66        67        68        69        70        71        72 \n",
       "0.7755102 0.7755102 0.6535948 0.6535948 0.7755102 0.7755102 0.6535948 0.7755102 \n",
       "       73        74        75        76        77        78        79        80 \n",
       "0.7755102 0.7755102 0.6535948 0.7755102 0.7755102 0.7755102 0.7755102 0.7755102 \n",
       "       81        82        83        84        85        86        87        88 \n",
       "0.7755102 0.6535948 0.7755102 0.6535948 0.6535948 0.6535948 0.7755102 0.6535948 \n",
       "       89        90        91        92        93        94        95        96 \n",
       "0.6083916 0.7755102 0.6083916 0.6535948 0.7755102 0.7755102 0.7755102 0.6083916 \n",
       "       97        98        99       100       101       102       103       104 \n",
       "0.6083916 0.6535948 0.6535948 0.7755102 0.7755102 0.7755102 0.7755102 0.6083916 \n",
       "      105       106       107       108       109       110       111       112 \n",
       "0.6535948 0.7755102 0.6083916 0.6083916 0.6535948 0.7755102 0.7755102 0.6535948 \n",
       "      113       114       115       116       117       118       119       120 \n",
       "0.7755102 0.6535948 0.6535948 0.6083916 0.7755102 0.6083916 0.6083916 0.6535948 \n",
       "      121       122       123       124       125       126       127       128 \n",
       "0.6083916 0.6535948 0.7755102 0.6535948 0.7755102 0.7755102 0.6535948 0.7755102 \n",
       "      129       130       131       132       133       134       135       136 \n",
       "0.6083916 0.6535948 0.6083916 0.6083916 0.7755102 0.7755102 0.6535948 0.6083916 \n",
       "      137       138       139       140       141       142       143       144 \n",
       "0.7755102 0.7755102 0.6083916 0.6083916 0.7755102 0.7755102 0.6535948 0.6535948 \n",
       "      145       146       147       148       149       150       151       152 \n",
       "0.7755102 0.7755102 0.7755102 0.7755102 0.6083916 0.6083916 0.6083916 0.6083916 \n",
       "      153       154       155       156       157       158       159       160 \n",
       "0.7755102 0.6535948 0.7755102 0.6083916 0.7755102 0.6083916 0.6535948 0.7755102 \n",
       "      161       162       163       164       165       166       167       168 \n",
       "0.7755102 0.6535948 0.7755102 0.7755102 0.6535948 0.6083916 0.6535948 0.7755102 \n",
       "      169       170       171       172       173       174       175       176 \n",
       "0.7755102 0.7755102 0.6535948 0.6083916 0.6535948 0.7755102 0.6083916 0.7755102 \n",
       "      177       178       179       180       181       182       183       184 \n",
       "0.6535948 0.7755102 0.7755102 0.7755102 0.6083916 0.7755102 0.6083916 0.7755102 \n",
       "      185       186       187       188       189       190       191       192 \n",
       "0.7755102 0.7755102 0.6083916 0.6083916 0.7755102 0.6083916 0.6535948 0.6535948 \n",
       "      193       194       195       196       197       198       199       200 \n",
       "0.6083916 0.7755102 0.6535948 0.6535948 0.6535948 0.7755102 0.6535948 0.7755102 \n",
       "      201       202       203       204       205       206       207       208 \n",
       "0.6535948 0.6083916 0.7755102 0.6535948 0.6083916 0.6083916 0.6535948 0.6083916 \n",
       "      209       210       211       212       213       214       215       216 \n",
       "0.7755102 0.7755102 0.6083916 0.7755102 0.6083916 0.7755102 0.6535948 0.6535948 \n",
       "      217       218       219       220       221       222       223       224 \n",
       "0.6535948 0.6535948 0.6083916 0.7755102 0.7755102 0.7755102 0.7755102 0.6535948 \n",
       "      225       226       227       228       229       230       231       232 \n",
       "0.7755102 0.6535948 0.7755102 0.6535948 0.6535948 0.6083916 0.7755102 0.6083916 \n",
       "      233       234       235       236       237       238       239       240 \n",
       "0.7755102 0.6083916 0.6083916 0.7755102 0.6535948 0.7755102 0.7755102 0.6535948 \n",
       "      241       242       243       244       245       246       247       248 \n",
       "0.6083916 0.6535948 0.6535948 0.6083916 0.6535948 0.6083916 0.6083916 0.6535948 \n",
       "      249       250       251       252       253       254       255       256 \n",
       "0.6083916 0.7755102 0.7755102 0.6083916 0.6083916 0.6535948 0.7755102 0.6083916 \n",
       "      257       258       259       260       261       262       263       264 \n",
       "0.7755102 0.7755102 0.6083916 0.6083916 0.6083916 0.7755102 0.6535948 0.6535948 \n",
       "      265       266       267       268       269       270       271       272 \n",
       "0.6535948 0.7755102 0.6535948 0.6083916 0.7755102 0.6083916 0.6083916 0.6535948 \n",
       "      273       274       275       276       277       278       279       280 \n",
       "0.7755102 0.7755102 0.6535948 0.6083916 0.7755102 0.6083916 0.6083916 0.6083916 \n",
       "      281       282       283       284       285       286       287       288 \n",
       "0.7755102 0.6083916 0.6535948 0.6535948 0.7755102 0.7755102 0.7755102 0.6535948 \n",
       "      289       290       291       292       293       294       295       296 \n",
       "0.6083916 0.6083916 0.7755102 0.7755102 0.6083916 0.7755102 0.7755102 0.6083916 \n",
       "      297       298       299       300       301       302       303       304 \n",
       "0.6535948 0.6535948 0.6083916 0.6535948 0.6535948 0.7755102 0.6535948 0.6535948 \n",
       "      305       306       307       308       309       310       311       312 \n",
       "0.6535948 0.7755102 0.6535948 0.6083916 0.6083916 0.6083916 0.7755102 0.6535948 \n",
       "      313       314       315       316       317       318       319       320 \n",
       "0.6535948 0.6535948 0.6083916 0.7755102 0.6535948 0.6083916 0.7755102 0.7755102 \n",
       "      321       322       323       324       325       326       327       328 \n",
       "0.6083916 0.7755102 0.6535948 0.6083916 0.7755102 0.6083916 0.7755102 0.6083916 \n",
       "      329       330       331       332       333       334       335       336 \n",
       "0.6083916 0.7755102 0.6535948 0.6535948 0.6535948 0.6083916 0.7755102 0.6083916 \n",
       "      337       338       339       340       341       342       343       344 \n",
       "0.6535948 0.7755102 0.6083916 0.6083916 0.7755102 0.6083916 0.6535948 0.7755102 \n",
       "      345       346       347       348       349       350       351       352 \n",
       "0.6083916 0.7755102 0.6535948 0.7755102 0.6535948 0.6083916 0.7755102 0.6083916 \n",
       "      353       354       355       356       357       358       359       360 \n",
       "0.7755102 0.7755102 0.6083916 0.6083916 0.6083916 0.6083916 0.6083916 0.6083916 \n",
       "      361       362       363       364       365       366       367       368 \n",
       "0.7755102 0.7755102 0.6535948 0.6535948 0.6083916 0.7755102 0.6535948 0.6083916 \n",
       "      369       370       371       372       373       374       375       376 \n",
       "0.7755102 0.6083916 0.6535948 0.7755102 0.6535948 0.7755102 0.6083916 0.7755102 \n",
       "      377       378       379       380       381       382       383       384 \n",
       "0.6083916 0.6083916 0.7755102 0.7755102 0.7755102 0.6083916 0.6083916 0.7755102 \n",
       "      385       386       387       388       389       390       391       392 \n",
       "0.7755102 0.7755102 0.6083916 0.6083916 0.6535948 0.7755102 0.6535948 0.6083916 \n",
       "      393       394       395       396       397       398       399       400 \n",
       "0.7755102 0.6083916 0.7755102 0.6083916 0.7755102 0.6083916 0.6083916 0.7755102 \n",
       "      401       402       403       404       405       406       407       408 \n",
       "0.7755102 0.7755102 0.6083916 0.6535948 0.6535948 0.6535948 0.6083916 0.7755102 \n",
       "      409       410       411       412       413       414       415       416 \n",
       "0.6535948 0.7755102 0.6083916 0.6083916 0.7755102 0.7755102 0.6083916 0.7755102 \n",
       "      417       418       419       420       421       422       423       424 \n",
       "0.7755102 0.6083916 0.6083916 0.6083916 0.7755102 0.7755102 0.7755102 0.7755102 \n",
       "      425       426       427       428       429       430       431       432 \n",
       "0.6535948 0.6083916 0.6535948 0.6535948 0.7755102 0.6083916 0.6083916 0.7755102 \n",
       "      433       434       435       436       437       438       439       440 \n",
       "0.7755102 0.6535948 0.6083916 0.7755102 0.6083916 0.7755102 0.6083916 0.6535948 \n",
       "      441       442       443       444       445       446       447       448 \n",
       "0.6535948 0.6083916 0.7755102 0.7755102 0.7755102 0.7755102 0.7755102 0.7755102 \n",
       "      449       450       451       452       453       454       455       456 \n",
       "0.6083916 0.7755102 0.6535948 0.6535948 0.6083916 0.6535948 0.6535948 0.6535948 \n",
       "      457       458       459       460       461       462       463       464 \n",
       "0.6535948 0.7755102 0.7755102 0.6535948 0.7755102 0.6535948 0.6083916 0.7755102 \n",
       "      465       466       467       468       469       470       471       472 \n",
       "0.6535948 0.7755102 0.6083916 0.6083916 0.6535948 0.7755102 0.7755102 0.7755102 \n",
       "      473       474       475       476       477       478       479       480 \n",
       "0.7755102 0.7755102 0.7755102 0.6083916 0.6535948 0.6083916 0.6083916 0.6083916 \n",
       "      481       482       483       484       485       486       487       488 \n",
       "0.6535948 0.6535948 0.6083916 0.7755102 0.7755102 0.6083916 0.6083916 0.6083916 \n",
       "      489       490       491       492 \n",
       "0.6083916 0.6535948 0.6535948 0.7755102 "
      ]
     },
     "metadata": {},
     "output_type": "display_data"
    }
   ],
   "source": [
    "predict(mod,data = df_res,type = 'response')"
   ]
  },
  {
   "cell_type": "code",
   "execution_count": 216,
   "id": "81bab4fc",
   "metadata": {},
   "outputs": [
    {
     "data": {
      "text/html": [
       "<style>\n",
       ".list-inline {list-style: none; margin:0; padding: 0}\n",
       ".list-inline>li {display: inline-block}\n",
       ".list-inline>li:not(:last-child)::after {content: \"\\00b7\"; padding: 0 .5ex}\n",
       "</style>\n",
       "<ol class=list-inline><li>0.608391608391607</li><li>0.653594771241812</li><li>0.775510204081359</li></ol>\n"
      ],
      "text/latex": [
       "\\begin{enumerate*}\n",
       "\\item 0.608391608391607\n",
       "\\item 0.653594771241812\n",
       "\\item 0.775510204081359\n",
       "\\end{enumerate*}\n"
      ],
      "text/markdown": [
       "1. 0.608391608391607\n",
       "2. 0.653594771241812\n",
       "3. 0.775510204081359\n",
       "\n",
       "\n"
      ],
      "text/plain": [
       "[1] 0.6083916 0.6535948 0.7755102"
      ]
     },
     "metadata": {},
     "output_type": "display_data"
    }
   ],
   "source": [
    "unique(predict(mod,data = df_res,type = 'response'))"
   ]
  },
  {
   "cell_type": "markdown",
   "id": "e67fb294",
   "metadata": {},
   "source": [
    "- Chances of getting loan against property in _Rural_ area is ~61%\n",
    "- Chances of getting loan against property in _Semi urban_ area is ~77.5%\n",
    "- Chances of getting loan against property in _Urban_ area is ~65%"
   ]
  },
  {
   "cell_type": "code",
   "execution_count": null,
   "id": "8ee473f8",
   "metadata": {},
   "outputs": [],
   "source": []
  }
 ],
 "metadata": {
  "kernelspec": {
   "display_name": "R",
   "language": "R",
   "name": "ir"
  },
  "language_info": {
   "codemirror_mode": "r",
   "file_extension": ".r",
   "mimetype": "text/x-r-source",
   "name": "R",
   "pygments_lexer": "r",
   "version": "4.1.0"
  }
 },
 "nbformat": 4,
 "nbformat_minor": 5
}
