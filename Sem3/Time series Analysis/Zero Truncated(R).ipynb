{
 "cells": [
  {
   "cell_type": "code",
   "execution_count": 4,
   "id": "609fd2af",
   "metadata": {},
   "outputs": [
    {
     "name": "stderr",
     "output_type": "stream",
     "text": [
      "Loading required package: stats4\n",
      "\n",
      "Loading required package: splines\n",
      "\n"
     ]
    }
   ],
   "source": [
    "library(readxl)\n",
    "library(VGAM)"
   ]
  },
  {
   "cell_type": "code",
   "execution_count": 2,
   "id": "ad1b298e",
   "metadata": {},
   "outputs": [],
   "source": [
    "df = read_excel('hospital.xlsx')"
   ]
  },
  {
   "cell_type": "code",
   "execution_count": 3,
   "id": "2e58d427",
   "metadata": {},
   "outputs": [
    {
     "data": {
      "text/html": [
       "<table class=\"dataframe\">\n",
       "<caption>A tibble: 6 × 4</caption>\n",
       "<thead>\n",
       "\t<tr><th scope=col>stay</th><th scope=col>age</th><th scope=col>hmo</th><th scope=col>died</th></tr>\n",
       "\t<tr><th scope=col>&lt;dbl&gt;</th><th scope=col>&lt;dbl&gt;</th><th scope=col>&lt;dbl&gt;</th><th scope=col>&lt;dbl&gt;</th></tr>\n",
       "</thead>\n",
       "<tbody>\n",
       "\t<tr><td>4</td><td>4</td><td>0</td><td>0</td></tr>\n",
       "\t<tr><td>9</td><td>4</td><td>1</td><td>0</td></tr>\n",
       "\t<tr><td>3</td><td>7</td><td>1</td><td>1</td></tr>\n",
       "\t<tr><td>9</td><td>6</td><td>0</td><td>0</td></tr>\n",
       "\t<tr><td>1</td><td>7</td><td>0</td><td>1</td></tr>\n",
       "\t<tr><td>4</td><td>5</td><td>0</td><td>1</td></tr>\n",
       "</tbody>\n",
       "</table>\n"
      ],
      "text/latex": [
       "A tibble: 6 × 4\n",
       "\\begin{tabular}{llll}\n",
       " stay & age & hmo & died\\\\\n",
       " <dbl> & <dbl> & <dbl> & <dbl>\\\\\n",
       "\\hline\n",
       "\t 4 & 4 & 0 & 0\\\\\n",
       "\t 9 & 4 & 1 & 0\\\\\n",
       "\t 3 & 7 & 1 & 1\\\\\n",
       "\t 9 & 6 & 0 & 0\\\\\n",
       "\t 1 & 7 & 0 & 1\\\\\n",
       "\t 4 & 5 & 0 & 1\\\\\n",
       "\\end{tabular}\n"
      ],
      "text/markdown": [
       "\n",
       "A tibble: 6 × 4\n",
       "\n",
       "| stay &lt;dbl&gt; | age &lt;dbl&gt; | hmo &lt;dbl&gt; | died &lt;dbl&gt; |\n",
       "|---|---|---|---|\n",
       "| 4 | 4 | 0 | 0 |\n",
       "| 9 | 4 | 1 | 0 |\n",
       "| 3 | 7 | 1 | 1 |\n",
       "| 9 | 6 | 0 | 0 |\n",
       "| 1 | 7 | 0 | 1 |\n",
       "| 4 | 5 | 0 | 1 |\n",
       "\n"
      ],
      "text/plain": [
       "  stay age hmo died\n",
       "1 4    4   0   0   \n",
       "2 9    4   1   0   \n",
       "3 3    7   1   1   \n",
       "4 9    6   0   0   \n",
       "5 1    7   0   1   \n",
       "6 4    5   0   1   "
      ]
     },
     "metadata": {},
     "output_type": "display_data"
    }
   ],
   "source": [
    "head(df)"
   ]
  },
  {
   "cell_type": "code",
   "execution_count": 11,
   "id": "db14585a",
   "metadata": {},
   "outputs": [
    {
     "name": "stdout",
     "output_type": "stream",
     "text": [
      "tibble [1,493 × 4] (S3: tbl_df/tbl/data.frame)\n",
      " $ stay: num [1:1493] 4 9 3 9 1 4 10 3 5 6 ...\n",
      " $ age : num [1:1493] 4 4 7 6 7 5 8 7 4 4 ...\n",
      " $ hmo : Factor w/ 2 levels \"0\",\"1\": 1 2 2 1 1 1 1 1 1 1 ...\n",
      " $ died: Factor w/ 2 levels \"0\",\"1\": 1 1 2 1 2 2 2 2 1 1 ...\n"
     ]
    }
   ],
   "source": [
    "str(df)"
   ]
  },
  {
   "cell_type": "code",
   "execution_count": 10,
   "id": "7660a2b8",
   "metadata": {},
   "outputs": [],
   "source": [
    "df$hmo = as.factor(df$hmo)\n",
    "df$died = as.factor(df$died)"
   ]
  },
  {
   "cell_type": "code",
   "execution_count": 12,
   "id": "5dcb3b11",
   "metadata": {},
   "outputs": [],
   "source": [
    "mod = vglm(stay ~ age + hmo + died,data = df,family = pospoisson())"
   ]
  },
  {
   "cell_type": "code",
   "execution_count": 13,
   "id": "316dc03d",
   "metadata": {},
   "outputs": [
    {
     "data": {
      "text/plain": [
       "\n",
       "Call:\n",
       "vglm(formula = stay ~ age + hmo + died, family = pospoisson(), \n",
       "    data = df)\n",
       "\n",
       "Coefficients: \n",
       "             Estimate Std. Error z value Pr(>|z|)    \n",
       "(Intercept)  2.435808   0.027332  89.119  < 2e-16 ***\n",
       "age         -0.014442   0.005035  -2.869  0.00412 ** \n",
       "hmo1        -0.135903   0.023741  -5.724 1.04e-08 ***\n",
       "died1       -0.203771   0.018372 -11.091  < 2e-16 ***\n",
       "---\n",
       "Signif. codes:  0 ‘***’ 0.001 ‘**’ 0.01 ‘*’ 0.05 ‘.’ 0.1 ‘ ’ 1\n",
       "\n",
       "Name of linear predictor: loglink(lambda) \n",
       "\n",
       "Log-likelihood: -6908.799 on 1489 degrees of freedom\n",
       "\n",
       "Number of Fisher scoring iterations: 3 \n",
       "\n",
       "No Hauck-Donner effect found in any of the estimates\n"
      ]
     },
     "metadata": {},
     "output_type": "display_data"
    }
   ],
   "source": [
    "summary(mod)"
   ]
  },
  {
   "cell_type": "markdown",
   "id": "c52f2330",
   "metadata": {},
   "source": [
    "- As age increases the # of days spent in the hospital decreases\n",
    "- If people have medical coverage then the # of days spent in days goes down\n",
    "- If people die then # of days spent in the hospital increases i.e if people stay in the hospital more thier chances of staying alive increases"
   ]
  }
 ],
 "metadata": {
  "kernelspec": {
   "display_name": "R",
   "language": "R",
   "name": "ir"
  },
  "language_info": {
   "codemirror_mode": "r",
   "file_extension": ".r",
   "mimetype": "text/x-r-source",
   "name": "R",
   "pygments_lexer": "r",
   "version": "4.0.5"
  }
 },
 "nbformat": 4,
 "nbformat_minor": 5
}
