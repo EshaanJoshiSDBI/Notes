{
 "cells": [
  {
   "cell_type": "code",
   "execution_count": 1,
   "id": "amino-definition",
   "metadata": {},
   "outputs": [
    {
     "name": "stderr",
     "output_type": "stream",
     "text": [
      "\n",
      "Attaching package: ‘dplyr’\n",
      "\n",
      "\n",
      "The following objects are masked from ‘package:stats’:\n",
      "\n",
      "    filter, lag\n",
      "\n",
      "\n",
      "The following objects are masked from ‘package:base’:\n",
      "\n",
      "    intersect, setdiff, setequal, union\n",
      "\n",
      "\n"
     ]
    }
   ],
   "source": [
    "library(stringr)\n",
    "library(readxl)\n",
    "# If tidyverse working no need to activate all below seperately just activate tidyverse i.e library(tidyverse)\n",
    "library(dplyr)\n",
    "library(tidyr)\n",
    "library(ggplot2)\n",
    "library(purrr)"
   ]
  },
  {
   "cell_type": "markdown",
   "id": "altered-emphasis",
   "metadata": {},
   "source": [
    "# 1\n",
    "## 1A\n",
    "- Explain the various options that can be used to create a matrix command"
   ]
  },
  {
   "cell_type": "code",
   "execution_count": 12,
   "id": "simple-commons",
   "metadata": {},
   "outputs": [
    {
     "name": "stdout",
     "output_type": "stream",
     "text": [
      " num [1:3, 1:3] 1 4 7 2 5 8 3 6 9\n"
     ]
    },
    {
     "name": "stderr",
     "output_type": "stream",
     "text": [
      "Warning message in rbind(x, y):\n",
      "“number of columns of result is not a multiple of vector length (arg 1)”\n"
     ]
    },
    {
     "data": {
      "text/html": [
       "<table class=\"dataframe\">\n",
       "<caption>A matrix: 2 × 10 of type dbl</caption>\n",
       "<tbody>\n",
       "\t<tr><th scope=row>x</th><td> 1</td><td> 2</td><td> 3</td><td> 4</td><td> 5</td><td> 6</td><td> 7</td><td> 8</td><td> 9</td><td> 1</td></tr>\n",
       "\t<tr><th scope=row>y</th><td>10</td><td>11</td><td>12</td><td>13</td><td>14</td><td>15</td><td>16</td><td>17</td><td>18</td><td>19</td></tr>\n",
       "</tbody>\n",
       "</table>\n"
      ],
      "text/latex": [
       "A matrix: 2 × 10 of type dbl\n",
       "\\begin{tabular}{r|llllllllll}\n",
       "\tx &  1 &  2 &  3 &  4 &  5 &  6 &  7 &  8 &  9 &  1\\\\\n",
       "\ty & 10 & 11 & 12 & 13 & 14 & 15 & 16 & 17 & 18 & 19\\\\\n",
       "\\end{tabular}\n"
      ],
      "text/markdown": [
       "\n",
       "A matrix: 2 × 10 of type dbl\n",
       "\n",
       "| x |  1 |  2 |  3 |  4 |  5 |  6 |  7 |  8 |  9 |  1 |\n",
       "| y | 10 | 11 | 12 | 13 | 14 | 15 | 16 | 17 | 18 | 19 |\n",
       "\n"
      ],
      "text/plain": [
       "  [,1] [,2] [,3] [,4] [,5] [,6] [,7] [,8] [,9] [,10]\n",
       "x  1    2    3    4    5    6    7    8    9    1   \n",
       "y 10   11   12   13   14   15   16   17   18   19   "
      ]
     },
     "metadata": {},
     "output_type": "display_data"
    },
    {
     "name": "stderr",
     "output_type": "stream",
     "text": [
      "Warning message in cbind(x, y):\n",
      "“number of rows of result is not a multiple of vector length (arg 1)”\n"
     ]
    },
    {
     "data": {
      "text/html": [
       "<table class=\"dataframe\">\n",
       "<caption>A matrix: 10 × 2 of type dbl</caption>\n",
       "<thead>\n",
       "\t<tr><th scope=col>x</th><th scope=col>y</th></tr>\n",
       "</thead>\n",
       "<tbody>\n",
       "\t<tr><td>1</td><td>10</td></tr>\n",
       "\t<tr><td>2</td><td>11</td></tr>\n",
       "\t<tr><td>3</td><td>12</td></tr>\n",
       "\t<tr><td>4</td><td>13</td></tr>\n",
       "\t<tr><td>5</td><td>14</td></tr>\n",
       "\t<tr><td>6</td><td>15</td></tr>\n",
       "\t<tr><td>7</td><td>16</td></tr>\n",
       "\t<tr><td>8</td><td>17</td></tr>\n",
       "\t<tr><td>9</td><td>18</td></tr>\n",
       "\t<tr><td>1</td><td>19</td></tr>\n",
       "</tbody>\n",
       "</table>\n"
      ],
      "text/latex": [
       "A matrix: 10 × 2 of type dbl\n",
       "\\begin{tabular}{ll}\n",
       " x & y\\\\\n",
       "\\hline\n",
       "\t 1 & 10\\\\\n",
       "\t 2 & 11\\\\\n",
       "\t 3 & 12\\\\\n",
       "\t 4 & 13\\\\\n",
       "\t 5 & 14\\\\\n",
       "\t 6 & 15\\\\\n",
       "\t 7 & 16\\\\\n",
       "\t 8 & 17\\\\\n",
       "\t 9 & 18\\\\\n",
       "\t 1 & 19\\\\\n",
       "\\end{tabular}\n"
      ],
      "text/markdown": [
       "\n",
       "A matrix: 10 × 2 of type dbl\n",
       "\n",
       "| x | y |\n",
       "|---|---|\n",
       "| 1 | 10 |\n",
       "| 2 | 11 |\n",
       "| 3 | 12 |\n",
       "| 4 | 13 |\n",
       "| 5 | 14 |\n",
       "| 6 | 15 |\n",
       "| 7 | 16 |\n",
       "| 8 | 17 |\n",
       "| 9 | 18 |\n",
       "| 1 | 19 |\n",
       "\n"
      ],
      "text/plain": [
       "      x y \n",
       " [1,] 1 10\n",
       " [2,] 2 11\n",
       " [3,] 3 12\n",
       " [4,] 4 13\n",
       " [5,] 5 14\n",
       " [6,] 6 15\n",
       " [7,] 7 16\n",
       " [8,] 8 17\n",
       " [9,] 9 18\n",
       "[10,] 1 19"
      ]
     },
     "metadata": {},
     "output_type": "display_data"
    }
   ],
   "source": [
    "x = c(1,2,3,4,5,6,7,8,9)\n",
    "y = c(10,11,12,13,14,15,16,17,18,19)\n",
    "mat1 = matrix(x,nrow = 3,ncol = 3,byrow = TRUE)\n",
    "str(mat1)\n",
    "rbind(x,y)\n",
    "cbind(x,y)"
   ]
  },
  {
   "cell_type": "markdown",
   "id": "valuable-curtis",
   "metadata": {},
   "source": [
    "## 1B\n",
    "Write the command which we can create the vector [4,4,4,7,7,7,7,3,3,3,2,2]"
   ]
  },
  {
   "cell_type": "code",
   "execution_count": 15,
   "id": "viral-friday",
   "metadata": {},
   "outputs": [
    {
     "name": "stdout",
     "output_type": "stream",
     "text": [
      " num [1:12] 4 4 4 7 7 7 7 3 3 3 ...\n"
     ]
    }
   ],
   "source": [
    "vector = c(4,4,4,7,7,7,7,3,3,3,2,2)\n",
    "vector"
   ]
  },
  {
   "cell_type": "markdown",
   "id": "going-andrews",
   "metadata": {},
   "source": [
    "## 1C\n",
    "The mobile company sells two variants of mobile phones - A and B. The price of Mobile A is INR 5000 per unit and the price of model B is INR 7000 per unit. On a particular stretch of 5 days, model A has sold 7,9,2,4,3 while model B has sold 3,6,8,4,6 units. The seller is given a commission of 5% of the total sales if it is below INR 50,000 on any day and 7% if the sales on that day is more than 50,000. Calculate the total commission for the seller"
   ]
  },
  {
   "cell_type": "code",
   "execution_count": 10,
   "id": "lesser-closer",
   "metadata": {},
   "outputs": [
    {
     "data": {
      "text/html": [
       "'The total commission for the seller is 21020'"
      ],
      "text/latex": [
       "'The total commission for the seller is 21020'"
      ],
      "text/markdown": [
       "'The total commission for the seller is 21020'"
      ],
      "text/plain": [
       "[1] \"The total commission for the seller is 21020\""
      ]
     },
     "metadata": {},
     "output_type": "display_data"
    }
   ],
   "source": [
    "price_mobile_a = 5000\n",
    "price_mobile_b = 7000\n",
    "commission_less_50 = 0.05\n",
    "commission_more_50 = 0.07\n",
    "units_A = c(7,9,2,4,3)\n",
    "units_B = c(3,6,8,4,6)\n",
    "calc_comm = function(a,b)\n",
    "{\n",
    "    total_a = price_mobile_a * a\n",
    "    total_b = price_mobile_b * b\n",
    "    day_total = c(total_a + total_b)\n",
    "    total_commission = c()\n",
    "    for (i in day_total)\n",
    "    {\n",
    "        if (i < 50000)\n",
    "        {\n",
    "            total_commission = append(total_commission,i*commission_less_50,after = length(total_commission))\n",
    "        }\n",
    "        else\n",
    "            {\n",
    "            total_commission = append(total_commission,i*commission_more_50,after = length(total_commission))\n",
    "            }\n",
    "    }\n",
    "return (paste('The total commission for the seller is',sum(total_commission)))\n",
    "}\n",
    "calc_comm(units_A,units_B)"
   ]
  },
  {
   "cell_type": "code",
   "execution_count": null,
   "id": "optical-amino",
   "metadata": {},
   "outputs": [],
   "source": []
  },
  {
   "cell_type": "markdown",
   "id": "capable-chrome",
   "metadata": {},
   "source": [
    "## 1D\n",
    "There are two employees going abroad from my company. Their names are Deepika and Arjun. Their afes are 27 and 32 respectively. Their passport numbers are EN098754 and PJ345892 respectively. Create an appropriate data structure to store this information"
   ]
  },
  {
   "cell_type": "code",
   "execution_count": 50,
   "id": "photographic-strike",
   "metadata": {},
   "outputs": [
    {
     "data": {
      "text/html": [
       "<table class=\"dataframe\">\n",
       "<caption>A matrix: 2 × 3 of type chr</caption>\n",
       "<thead>\n",
       "\t<tr><th scope=col>names</th><th scope=col>ages</th><th scope=col>passport_numbers</th></tr>\n",
       "</thead>\n",
       "<tbody>\n",
       "\t<tr><td>Deepika</td><td>27</td><td>EN098754</td></tr>\n",
       "\t<tr><td>Arjun  </td><td>32</td><td>PJ345892</td></tr>\n",
       "</tbody>\n",
       "</table>\n"
      ],
      "text/latex": [
       "A matrix: 2 × 3 of type chr\n",
       "\\begin{tabular}{lll}\n",
       " names & ages & passport\\_numbers\\\\\n",
       "\\hline\n",
       "\t Deepika & 27 & EN098754\\\\\n",
       "\t Arjun   & 32 & PJ345892\\\\\n",
       "\\end{tabular}\n"
      ],
      "text/markdown": [
       "\n",
       "A matrix: 2 × 3 of type chr\n",
       "\n",
       "| names | ages | passport_numbers |\n",
       "|---|---|---|\n",
       "| Deepika | 27 | EN098754 |\n",
       "| Arjun   | 32 | PJ345892 |\n",
       "\n"
      ],
      "text/plain": [
       "     names   ages passport_numbers\n",
       "[1,] Deepika 27   EN098754        \n",
       "[2,] Arjun   32   PJ345892        "
      ]
     },
     "metadata": {},
     "output_type": "display_data"
    }
   ],
   "source": [
    "names = c('Deepika','Arjun')\n",
    "ages = c(27,32)\n",
    "passport_numbers = c('EN098754','PJ345892')\n",
    "details = cbind(names,ages,passport_numbers)\n",
    "details"
   ]
  },
  {
   "cell_type": "markdown",
   "id": "considerable-ireland",
   "metadata": {},
   "source": [
    "# 2\n",
    "## 2A\n",
    "- Explain the difference between the while and repeat loops. Take relevant examples\n",
    "- The While loop runs the block of code until the condition becomes false\n",
    "    - The block is executed only if the condition is met\n",
    "- The repeat loop runs the block of code until a break condition is met"
   ]
  },
  {
   "cell_type": "code",
   "execution_count": 57,
   "id": "alive-aviation",
   "metadata": {},
   "outputs": [
    {
     "data": {
      "text/html": [
       "<style>\n",
       ".list-inline {list-style: none; margin:0; padding: 0}\n",
       ".list-inline>li {display: inline-block}\n",
       ".list-inline>li:not(:last-child)::after {content: \"\\00b7\"; padding: 0 .5ex}\n",
       "</style>\n",
       "<ol class=list-inline><li>6</li><li>10</li><li>5</li><li>1</li><li>3</li><li>7</li><li>2</li><li>4</li><li>9</li><li>8</li></ol>\n"
      ],
      "text/latex": [
       "\\begin{enumerate*}\n",
       "\\item 6\n",
       "\\item 10\n",
       "\\item 5\n",
       "\\item 1\n",
       "\\item 3\n",
       "\\item 7\n",
       "\\item 2\n",
       "\\item 4\n",
       "\\item 9\n",
       "\\item 8\n",
       "\\end{enumerate*}\n"
      ],
      "text/markdown": [
       "1. 6\n",
       "2. 10\n",
       "3. 5\n",
       "4. 1\n",
       "5. 3\n",
       "6. 7\n",
       "7. 2\n",
       "8. 4\n",
       "9. 9\n",
       "10. 8\n",
       "\n",
       "\n"
      ],
      "text/plain": [
       " [1]  6 10  5  1  3  7  2  4  9  8"
      ]
     },
     "metadata": {},
     "output_type": "display_data"
    }
   ],
   "source": []
  },
  {
   "cell_type": "code",
   "execution_count": 64,
   "id": "constant-freeware",
   "metadata": {},
   "outputs": [
    {
     "name": "stdout",
     "output_type": "stream",
     "text": [
      "[1] 10\n",
      "[1] 7\n",
      "[1] 4\n",
      "[1] 3\n",
      "[1] 5\n"
     ]
    }
   ],
   "source": [
    "# While loop example\n",
    "vector = sample(1:10)\n",
    "i = 1\n",
    "while(i < 6)\n",
    "{\n",
    "    print(vector[i])\n",
    "    i = i + 1\n",
    "}"
   ]
  },
  {
   "cell_type": "code",
   "execution_count": 66,
   "id": "qualified-spyware",
   "metadata": {},
   "outputs": [
    {
     "name": "stdout",
     "output_type": "stream",
     "text": [
      "[1] 10\n",
      "[1] 8\n",
      "[1] 4\n",
      "[1] 2\n",
      "[1] 9\n"
     ]
    }
   ],
   "source": [
    "# Repeat loop example\n",
    "vector = sample(1:10)\n",
    "i = 1\n",
    "repeat\n",
    "{\n",
    "        print(vector[i])\n",
    "        i = i + 1\n",
    "        if(i >5)\n",
    "        {\n",
    "                break\n",
    "        }\n",
    "}"
   ]
  },
  {
   "cell_type": "markdown",
   "id": "differential-bennett",
   "metadata": {},
   "source": [
    "## 2B\n",
    "Write a program that takes the input for the name and prints only the initials. Eg if the name entered is Sushil Kumar Saxena, the program should give output as SKS"
   ]
  },
  {
   "cell_type": "code",
   "execution_count": 104,
   "id": "detailed-frame",
   "metadata": {},
   "outputs": [
    {
     "data": {
      "text/html": [
       "'SKS'"
      ],
      "text/latex": [
       "'SKS'"
      ],
      "text/markdown": [
       "'SKS'"
      ],
      "text/plain": [
       "[1] \"SKS\""
      ]
     },
     "metadata": {},
     "output_type": "display_data"
    }
   ],
   "source": [
    "initial = function(name)\n",
    "{\n",
    "    return(paste0(unlist(str_extract_all(name,'[A-Z]')) ,collapse = ''))\n",
    "}\n",
    "initial('Sushil Kumar Saxena')"
   ]
  },
  {
   "cell_type": "markdown",
   "id": "expanded-tamil",
   "metadata": {},
   "source": [
    "## 2C\n",
    "The first two characters in the ID of the employees should be an alphabet. The three IDs given to you are GH345, F2567 and FR398. Write a program that prints the ID which does not follow this rule"
   ]
  },
  {
   "cell_type": "code",
   "execution_count": 114,
   "id": "pacific-blackberry",
   "metadata": {},
   "outputs": [
    {
     "data": {
      "text/html": [
       "'F2567'"
      ],
      "text/latex": [
       "'F2567'"
      ],
      "text/markdown": [
       "'F2567'"
      ],
      "text/plain": [
       "[1] \"F2567\""
      ]
     },
     "metadata": {},
     "output_type": "display_data"
    }
   ],
   "source": [
    "id_check = function(ids)\n",
    "{\n",
    "        for(i in ids)\n",
    "        {\n",
    "                correct = ids[!(grepl('^[A-Z]{2}',ids))]\n",
    "        }\n",
    "return(correct)\n",
    "}\n",
    "ids = c('GH345','F2567','FR398')\n",
    "id_check(ids)"
   ]
  },
  {
   "cell_type": "markdown",
   "id": "chronic-institution",
   "metadata": {},
   "source": [
    "## 2D\n",
    "There is an excel file on a system and the location is \"C:/Users/Trainings/SixSigma.xlsx\". The file has a worksheet with the name \"IBM\". Write the command to import this worksheet into R"
   ]
  },
  {
   "cell_type": "code",
   "execution_count": 115,
   "id": "uniform-catalyst",
   "metadata": {},
   "outputs": [],
   "source": [
    "library(readxl)\n",
    "df = read_excel('C:/Users/Trainings/SixSigma.xlsx',sheet = 'IBM')"
   ]
  },
  {
   "cell_type": "markdown",
   "id": "golden-cable",
   "metadata": {},
   "source": [
    "# 3\n",
    "## 3A\n",
    "- Explain the difference between the union and intersection of the two data frames. Which of them will result in more number of rows in the resultant data frame\n",
    "- Union is the like merging the data frames together while ensuring that the count of all values is one, i.e the values common in both dataframes are kept only once\n",
    "- Intersection means taking only the values common to both the dataframes\n",
    "- union will result in more number of rows in the resultant data frame"
   ]
  },
  {
   "cell_type": "markdown",
   "id": "curious-suite",
   "metadata": {},
   "source": [
    "## 3B\n",
    "Consider a data frame with the name emp_database and two columns as EmpSalary and EmpName. write the command which returns the names of the employees whose salary is more than 50000."
   ]
  },
  {
   "cell_type": "code",
   "execution_count": 118,
   "id": "under-balloon",
   "metadata": {},
   "outputs": [
    {
     "name": "stdout",
     "output_type": "stream",
     "text": [
      "  EmpSalary EmpName\n",
      "2     54000       B\n",
      "3     72000       C\n"
     ]
    }
   ],
   "source": [
    "emp_database = data.frame(EmpSalary = c(37000,54000,72000), EmpName = c('A','B','C'))\n",
    "above_50k = emp_database[which(emp_database$EmpSalary > 50000),]\n",
    "print(above_50k)"
   ]
  },
  {
   "cell_type": "markdown",
   "id": "innocent-lunch",
   "metadata": {},
   "source": [
    "## 3C\n",
    "- Give the symbol and an example of the NOT logical operation\n",
    "- Symbol is '!'"
   ]
  },
  {
   "cell_type": "code",
   "execution_count": 120,
   "id": "religious-mobility",
   "metadata": {},
   "outputs": [
    {
     "name": "stdout",
     "output_type": "stream",
     "text": [
      "[1] FALSE\n"
     ]
    }
   ],
   "source": [
    "x = 7\n",
    "print(!(x == 7))"
   ]
  },
  {
   "cell_type": "markdown",
   "id": "based-salon",
   "metadata": {},
   "source": [
    "## 3D\n",
    "It is observed that on average 7 printing mistakes occur in a newspaper. What is the probability that the current newspaper has minimum 4 defects"
   ]
  },
  {
   "cell_type": "code",
   "execution_count": 122,
   "id": "dominant-discharge",
   "metadata": {},
   "outputs": [
    {
     "data": {
      "text/html": [
       "'The probability that the current paper has minimum 4 defects is 0.918234583755278'"
      ],
      "text/latex": [
       "'The probability that the current paper has minimum 4 defects is 0.918234583755278'"
      ],
      "text/markdown": [
       "'The probability that the current paper has minimum 4 defects is 0.918234583755278'"
      ],
      "text/plain": [
       "[1] \"The probability that the current paper has minimum 4 defects is 0.918234583755278\""
      ]
     },
     "metadata": {},
     "output_type": "display_data"
    }
   ],
   "source": [
    "paste('The probability that the current paper has minimum 4 defects is',ppois(3,7,lower.tail = FALSE))"
   ]
  },
  {
   "cell_type": "markdown",
   "id": "parental-spyware",
   "metadata": {},
   "source": [
    "# 4\n",
    "Use the BankLoan.xlsx for answering the following questions. The last column Loan_Status is the output which tells whether the loan has been approved or not. This may depend on the factors which are listed as the other columns\n",
    "1. It is claimed that at least 15% more married people get the loan approval as compared to the unmarried ones. On the basis of the data check and establish whether the calm is supported or not"
   ]
  },
  {
   "cell_type": "code",
   "execution_count": 4,
   "id": "cheap-amino",
   "metadata": {},
   "outputs": [],
   "source": [
    "bank = read_excel('BankLoan.xlsx')"
   ]
  },
  {
   "cell_type": "code",
   "execution_count": 5,
   "id": "exceptional-chaos",
   "metadata": {},
   "outputs": [
    {
     "data": {
      "text/html": [
       "<table class=\"dataframe\">\n",
       "<caption>A tibble: 6 × 11</caption>\n",
       "<thead>\n",
       "\t<tr><th scope=col>Married</th><th scope=col>Dependents</th><th scope=col>Education</th><th scope=col>Self_Employed</th><th scope=col>ApplicantIncome</th><th scope=col>CoapplicantIncome</th><th scope=col>LoanAmount</th><th scope=col>Loan_Amount_Term</th><th scope=col>Credit_History</th><th scope=col>Property_Area</th><th scope=col>Loan_Status</th></tr>\n",
       "\t<tr><th scope=col>&lt;chr&gt;</th><th scope=col>&lt;dbl&gt;</th><th scope=col>&lt;chr&gt;</th><th scope=col>&lt;chr&gt;</th><th scope=col>&lt;dbl&gt;</th><th scope=col>&lt;dbl&gt;</th><th scope=col>&lt;dbl&gt;</th><th scope=col>&lt;dbl&gt;</th><th scope=col>&lt;dbl&gt;</th><th scope=col>&lt;chr&gt;</th><th scope=col>&lt;chr&gt;</th></tr>\n",
       "</thead>\n",
       "<tbody>\n",
       "\t<tr><td>Yes</td><td>1</td><td>Graduate    </td><td>No </td><td>4583</td><td>1508</td><td>128</td><td>360</td><td>1</td><td>Rural</td><td>N</td></tr>\n",
       "\t<tr><td>Yes</td><td>0</td><td>Graduate    </td><td>Yes</td><td>3000</td><td>   0</td><td> 66</td><td>360</td><td>1</td><td>Urban</td><td>Y</td></tr>\n",
       "\t<tr><td>Yes</td><td>0</td><td>Not Graduate</td><td>No </td><td>2583</td><td>2358</td><td>120</td><td>360</td><td>1</td><td>Urban</td><td>Y</td></tr>\n",
       "\t<tr><td>No </td><td>0</td><td>Graduate    </td><td>No </td><td>6000</td><td>   0</td><td>141</td><td>360</td><td>1</td><td>Urban</td><td>Y</td></tr>\n",
       "\t<tr><td>Yes</td><td>2</td><td>Graduate    </td><td>Yes</td><td>5417</td><td>4196</td><td>267</td><td>360</td><td>1</td><td>Urban</td><td>Y</td></tr>\n",
       "\t<tr><td>Yes</td><td>0</td><td>Not Graduate</td><td>No </td><td>2333</td><td>1516</td><td> 95</td><td>360</td><td>1</td><td>Urban</td><td>Y</td></tr>\n",
       "</tbody>\n",
       "</table>\n"
      ],
      "text/latex": [
       "A tibble: 6 × 11\n",
       "\\begin{tabular}{lllllllllll}\n",
       " Married & Dependents & Education & Self\\_Employed & ApplicantIncome & CoapplicantIncome & LoanAmount & Loan\\_Amount\\_Term & Credit\\_History & Property\\_Area & Loan\\_Status\\\\\n",
       " <chr> & <dbl> & <chr> & <chr> & <dbl> & <dbl> & <dbl> & <dbl> & <dbl> & <chr> & <chr>\\\\\n",
       "\\hline\n",
       "\t Yes & 1 & Graduate     & No  & 4583 & 1508 & 128 & 360 & 1 & Rural & N\\\\\n",
       "\t Yes & 0 & Graduate     & Yes & 3000 &    0 &  66 & 360 & 1 & Urban & Y\\\\\n",
       "\t Yes & 0 & Not Graduate & No  & 2583 & 2358 & 120 & 360 & 1 & Urban & Y\\\\\n",
       "\t No  & 0 & Graduate     & No  & 6000 &    0 & 141 & 360 & 1 & Urban & Y\\\\\n",
       "\t Yes & 2 & Graduate     & Yes & 5417 & 4196 & 267 & 360 & 1 & Urban & Y\\\\\n",
       "\t Yes & 0 & Not Graduate & No  & 2333 & 1516 &  95 & 360 & 1 & Urban & Y\\\\\n",
       "\\end{tabular}\n"
      ],
      "text/markdown": [
       "\n",
       "A tibble: 6 × 11\n",
       "\n",
       "| Married &lt;chr&gt; | Dependents &lt;dbl&gt; | Education &lt;chr&gt; | Self_Employed &lt;chr&gt; | ApplicantIncome &lt;dbl&gt; | CoapplicantIncome &lt;dbl&gt; | LoanAmount &lt;dbl&gt; | Loan_Amount_Term &lt;dbl&gt; | Credit_History &lt;dbl&gt; | Property_Area &lt;chr&gt; | Loan_Status &lt;chr&gt; |\n",
       "|---|---|---|---|---|---|---|---|---|---|---|\n",
       "| Yes | 1 | Graduate     | No  | 4583 | 1508 | 128 | 360 | 1 | Rural | N |\n",
       "| Yes | 0 | Graduate     | Yes | 3000 |    0 |  66 | 360 | 1 | Urban | Y |\n",
       "| Yes | 0 | Not Graduate | No  | 2583 | 2358 | 120 | 360 | 1 | Urban | Y |\n",
       "| No  | 0 | Graduate     | No  | 6000 |    0 | 141 | 360 | 1 | Urban | Y |\n",
       "| Yes | 2 | Graduate     | Yes | 5417 | 4196 | 267 | 360 | 1 | Urban | Y |\n",
       "| Yes | 0 | Not Graduate | No  | 2333 | 1516 |  95 | 360 | 1 | Urban | Y |\n",
       "\n"
      ],
      "text/plain": [
       "  Married Dependents Education    Self_Employed ApplicantIncome\n",
       "1 Yes     1          Graduate     No            4583           \n",
       "2 Yes     0          Graduate     Yes           3000           \n",
       "3 Yes     0          Not Graduate No            2583           \n",
       "4 No      0          Graduate     No            6000           \n",
       "5 Yes     2          Graduate     Yes           5417           \n",
       "6 Yes     0          Not Graduate No            2333           \n",
       "  CoapplicantIncome LoanAmount Loan_Amount_Term Credit_History Property_Area\n",
       "1 1508              128        360              1              Rural        \n",
       "2    0               66        360              1              Urban        \n",
       "3 2358              120        360              1              Urban        \n",
       "4    0              141        360              1              Urban        \n",
       "5 4196              267        360              1              Urban        \n",
       "6 1516               95        360              1              Urban        \n",
       "  Loan_Status\n",
       "1 N          \n",
       "2 Y          \n",
       "3 Y          \n",
       "4 Y          \n",
       "5 Y          \n",
       "6 Y          "
      ]
     },
     "metadata": {},
     "output_type": "display_data"
    }
   ],
   "source": [
    "head(bank)"
   ]
  },
  {
   "cell_type": "code",
   "execution_count": 12,
   "id": "smooth-belle",
   "metadata": {},
   "outputs": [],
   "source": [
    "married = c(length(which(bank$Married == 'Yes' & bank$Loan_Status == 'Y')),length(which(bank$Loan_Status == 'Y')))\n",
    "not_married = c(length(which(bank$Married == 'No' & bank$Loan_Status == 'Y')),length(which(bank$Loan_Status == 'Y')))"
   ]
  },
  {
   "cell_type": "code",
   "execution_count": 87,
   "id": "bronze-appearance",
   "metadata": {},
   "outputs": [
    {
     "data": {
      "text/html": [
       "492"
      ],
      "text/latex": [
       "492"
      ],
      "text/markdown": [
       "492"
      ],
      "text/plain": [
       "[1] 492"
      ]
     },
     "metadata": {},
     "output_type": "display_data"
    }
   ],
   "source": [
    "length(bank$Loan_Status)"
   ]
  },
  {
   "cell_type": "code",
   "execution_count": 13,
   "id": "minute-newport",
   "metadata": {},
   "outputs": [
    {
     "data": {
      "text/html": [
       "<style>\n",
       ".list-inline {list-style: none; margin:0; padding: 0}\n",
       ".list-inline>li {display: inline-block}\n",
       ".list-inline>li:not(:last-child)::after {content: \"\\00b7\"; padding: 0 .5ex}\n",
       "</style>\n",
       "<ol class=list-inline><li>232</li><li>339</li></ol>\n"
      ],
      "text/latex": [
       "\\begin{enumerate*}\n",
       "\\item 232\n",
       "\\item 339\n",
       "\\end{enumerate*}\n"
      ],
      "text/markdown": [
       "1. 232\n",
       "2. 339\n",
       "\n",
       "\n"
      ],
      "text/plain": [
       "[1] 232 339"
      ]
     },
     "metadata": {},
     "output_type": "display_data"
    }
   ],
   "source": [
    "married"
   ]
  },
  {
   "cell_type": "code",
   "execution_count": 14,
   "id": "creative-creation",
   "metadata": {},
   "outputs": [
    {
     "data": {
      "text/html": [
       "<style>\n",
       ".list-inline {list-style: none; margin:0; padding: 0}\n",
       ".list-inline>li {display: inline-block}\n",
       ".list-inline>li:not(:last-child)::after {content: \"\\00b7\"; padding: 0 .5ex}\n",
       "</style>\n",
       "<ol class=list-inline><li>107</li><li>339</li></ol>\n"
      ],
      "text/latex": [
       "\\begin{enumerate*}\n",
       "\\item 107\n",
       "\\item 339\n",
       "\\end{enumerate*}\n"
      ],
      "text/markdown": [
       "1. 107\n",
       "2. 339\n",
       "\n",
       "\n"
      ],
      "text/plain": [
       "[1] 107 339"
      ]
     },
     "metadata": {},
     "output_type": "display_data"
    }
   ],
   "source": [
    "not_married"
   ]
  },
  {
   "cell_type": "code",
   "execution_count": 15,
   "id": "greatest-friendly",
   "metadata": {},
   "outputs": [
    {
     "data": {
      "text/plain": [
       "\n",
       "\t2-sample test for equality of proportions with continuity correction\n",
       "\n",
       "data:  c(married[1], not_married[1]) out of c(married[2], not_married[2])\n",
       "X-squared = 90.714, df = 1, p-value = 1\n",
       "alternative hypothesis: less\n",
       "95 percent confidence interval:\n",
       " -1.0000000  0.4304004\n",
       "sample estimates:\n",
       "   prop 1    prop 2 \n",
       "0.6843658 0.3156342 \n"
      ]
     },
     "metadata": {},
     "output_type": "display_data"
    }
   ],
   "source": [
    "prop.test(c(married[1],not_married[1]),c(married[2],not_married[2]),alternative = 'less')"
   ]
  },
  {
   "cell_type": "markdown",
   "id": "sound-focus",
   "metadata": {},
   "source": [
    "#### Conclusion\n",
    "- At least 15% more married people get the loan approval than the unmarried ones. It can go upto 43%"
   ]
  },
  {
   "cell_type": "markdown",
   "id": "decent-desire",
   "metadata": {},
   "source": [
    "2. On the basis of the data, check and establish whether the loan approval (column J) depends on the area in which the property is being brought (column I) or not."
   ]
  },
  {
   "cell_type": "markdown",
   "id": "directed-jacob",
   "metadata": {},
   "source": [
    "#### Hypothesis\n",
    "- Ho = There is no relationship between The area in which the property for collateral is\n",
    "- H1 = There is a relationship between the area in which the property for collateral is"
   ]
  },
  {
   "cell_type": "code",
   "execution_count": 31,
   "id": "incoming-while",
   "metadata": {},
   "outputs": [
    {
     "data": {
      "text/html": [
       "<style>\n",
       ".list-inline {list-style: none; margin:0; padding: 0}\n",
       ".list-inline>li {display: inline-block}\n",
       ".list-inline>li:not(:last-child)::after {content: \"\\00b7\"; padding: 0 .5ex}\n",
       "</style>\n",
       "<ol class=list-inline><li>'Rural'</li><li>'Urban'</li><li>'Semiurban'</li></ol>\n"
      ],
      "text/latex": [
       "\\begin{enumerate*}\n",
       "\\item 'Rural'\n",
       "\\item 'Urban'\n",
       "\\item 'Semiurban'\n",
       "\\end{enumerate*}\n"
      ],
      "text/markdown": [
       "1. 'Rural'\n",
       "2. 'Urban'\n",
       "3. 'Semiurban'\n",
       "\n",
       "\n"
      ],
      "text/plain": [
       "[1] \"Rural\"     \"Urban\"     \"Semiurban\""
      ]
     },
     "metadata": {},
     "output_type": "display_data"
    }
   ],
   "source": [
    "unique(bank$Property_Area)\n",
    "area_rural = c(length(which(bank$Property_Area == 'Rural' & bank$Loan_Status == 'Y')),length(which(bank$Property_Area == 'Rural' & bank$Loan_Status == 'N')))\n",
    "area_urban = c(length(which(bank$Property_Area == 'Urban' & bank$Loan_Status == 'Y')),length(which(bank$Property_Area == 'Urban' & bank$Loan_Status == 'N')))\n",
    "area_semiurban = c(length(which(bank$Property_Area == 'Semiurban' & bank$Loan_Status == 'Y')),length(which(bank$Property_Area == 'Semiurban' & bank$Loan_Status == 'N')))"
   ]
  },
  {
   "cell_type": "code",
   "execution_count": 35,
   "id": "improved-freight",
   "metadata": {},
   "outputs": [
    {
     "data": {
      "text/html": [
       "<table class=\"dataframe\">\n",
       "<caption>A matrix: 3 × 2 of type int</caption>\n",
       "<thead>\n",
       "\t<tr><th></th><th scope=col>Approved</th><th scope=col>Not_Approved</th></tr>\n",
       "</thead>\n",
       "<tbody>\n",
       "\t<tr><th scope=row>area_rural</th><td> 87</td><td>56</td></tr>\n",
       "\t<tr><th scope=row>area_urban</th><td>100</td><td>53</td></tr>\n",
       "\t<tr><th scope=row>area_semiurban</th><td>152</td><td>44</td></tr>\n",
       "</tbody>\n",
       "</table>\n"
      ],
      "text/latex": [
       "A matrix: 3 × 2 of type int\n",
       "\\begin{tabular}{r|ll}\n",
       "  & Approved & Not\\_Approved\\\\\n",
       "\\hline\n",
       "\tarea\\_rural &  87 & 56\\\\\n",
       "\tarea\\_urban & 100 & 53\\\\\n",
       "\tarea\\_semiurban & 152 & 44\\\\\n",
       "\\end{tabular}\n"
      ],
      "text/markdown": [
       "\n",
       "A matrix: 3 × 2 of type int\n",
       "\n",
       "| <!--/--> | Approved | Not_Approved |\n",
       "|---|---|---|\n",
       "| area_rural |  87 | 56 |\n",
       "| area_urban | 100 | 53 |\n",
       "| area_semiurban | 152 | 44 |\n",
       "\n"
      ],
      "text/plain": [
       "               Approved Not_Approved\n",
       "area_rural      87      56          \n",
       "area_urban     100      53          \n",
       "area_semiurban 152      44          "
      ]
     },
     "metadata": {},
     "output_type": "display_data"
    }
   ],
   "source": [
    "area = rbind(area_rural,area_urban,area_semiurban)\n",
    "colnames(area) = c('Approved', 'Not_Approved')\n",
    "area"
   ]
  },
  {
   "cell_type": "code",
   "execution_count": 36,
   "id": "closing-xerox",
   "metadata": {},
   "outputs": [
    {
     "data": {
      "text/plain": [
       "\n",
       "\tPearson's Chi-squared test\n",
       "\n",
       "data:  area\n",
       "X-squared = 12.077, df = 2, p-value = 0.002385\n"
      ]
     },
     "metadata": {},
     "output_type": "display_data"
    }
   ],
   "source": [
    "chisq.test(area)"
   ]
  },
  {
   "cell_type": "markdown",
   "id": "antique-joshua",
   "metadata": {},
   "source": [
    "#### Conclusion\n",
    "- We reject Ho\n",
    "- The approval of loan depends on the area of property for collateral is in"
   ]
  },
  {
   "cell_type": "markdown",
   "id": "loose-breathing",
   "metadata": {},
   "source": [
    "# 5\n",
    "Use the dataset in covid_cases.csv and healthexp.csv for answering the following questions. covid_cases gives the number of cases and deaths reported in the month of March, 2020 when the pandemic started. healthexp_csv gives the country wise variables which include oopexp stands ir household out of pocket expenses govetexp stands for government spending on health othersources stands for private sector health expenditure and foreign aid in health gdpgrowth stands for annual gdp growth rate Income_cat stands for World Bank's classification as low, middle and high income category"
   ]
  },
  {
   "cell_type": "code",
   "execution_count": 39,
   "id": "tutorial-judge",
   "metadata": {},
   "outputs": [],
   "source": [
    "covid_cases = read.csv('covid_cases.csv')\n",
    "health_exp = read.csv('healthexp.csv')"
   ]
  },
  {
   "cell_type": "code",
   "execution_count": 40,
   "id": "sealed-bridal",
   "metadata": {},
   "outputs": [
    {
     "data": {
      "text/html": [
       "<table class=\"dataframe\">\n",
       "<caption>A data.frame: 6 × 3</caption>\n",
       "<thead>\n",
       "\t<tr><th></th><th scope=col>Country</th><th scope=col>Cases</th><th scope=col>Deaths</th></tr>\n",
       "\t<tr><th></th><th scope=col>&lt;chr&gt;</th><th scope=col>&lt;int&gt;</th><th scope=col>&lt;int&gt;</th></tr>\n",
       "</thead>\n",
       "<tbody>\n",
       "\t<tr><th scope=row>1</th><td>Afghanistan        </td><td> 656</td><td> 7</td></tr>\n",
       "\t<tr><th scope=row>2</th><td>Albania            </td><td>1427</td><td>29</td></tr>\n",
       "\t<tr><th scope=row>3</th><td>Algeria            </td><td>3068</td><td>61</td></tr>\n",
       "\t<tr><th scope=row>4</th><td>Andorra            </td><td>1769</td><td>18</td></tr>\n",
       "\t<tr><th scope=row>5</th><td>Angola             </td><td> 120</td><td> 1</td></tr>\n",
       "\t<tr><th scope=row>6</th><td>Antigua and Barbuda</td><td>  66</td><td> 1</td></tr>\n",
       "</tbody>\n",
       "</table>\n"
      ],
      "text/latex": [
       "A data.frame: 6 × 3\n",
       "\\begin{tabular}{r|lll}\n",
       "  & Country & Cases & Deaths\\\\\n",
       "  & <chr> & <int> & <int>\\\\\n",
       "\\hline\n",
       "\t1 & Afghanistan         &  656 &  7\\\\\n",
       "\t2 & Albania             & 1427 & 29\\\\\n",
       "\t3 & Algeria             & 3068 & 61\\\\\n",
       "\t4 & Andorra             & 1769 & 18\\\\\n",
       "\t5 & Angola              &  120 &  1\\\\\n",
       "\t6 & Antigua and Barbuda &   66 &  1\\\\\n",
       "\\end{tabular}\n"
      ],
      "text/markdown": [
       "\n",
       "A data.frame: 6 × 3\n",
       "\n",
       "| <!--/--> | Country &lt;chr&gt; | Cases &lt;int&gt; | Deaths &lt;int&gt; |\n",
       "|---|---|---|---|\n",
       "| 1 | Afghanistan         |  656 |  7 |\n",
       "| 2 | Albania             | 1427 | 29 |\n",
       "| 3 | Algeria             | 3068 | 61 |\n",
       "| 4 | Andorra             | 1769 | 18 |\n",
       "| 5 | Angola              |  120 |  1 |\n",
       "| 6 | Antigua and Barbuda |   66 |  1 |\n",
       "\n"
      ],
      "text/plain": [
       "  Country             Cases Deaths\n",
       "1 Afghanistan          656   7    \n",
       "2 Albania             1427  29    \n",
       "3 Algeria             3068  61    \n",
       "4 Andorra             1769  18    \n",
       "5 Angola               120   1    \n",
       "6 Antigua and Barbuda   66   1    "
      ]
     },
     "metadata": {},
     "output_type": "display_data"
    }
   ],
   "source": [
    "head(covid_cases)"
   ]
  },
  {
   "cell_type": "code",
   "execution_count": 41,
   "id": "hydraulic-lease",
   "metadata": {},
   "outputs": [
    {
     "data": {
      "text/html": [
       "<table class=\"dataframe\">\n",
       "<caption>A data.frame: 6 × 7</caption>\n",
       "<thead>\n",
       "\t<tr><th></th><th scope=col>Country</th><th scope=col>oopexp</th><th scope=col>govtexp</th><th scope=col>othersources</th><th scope=col>total</th><th scope=col>gdpgrowth</th><th scope=col>income_cat</th></tr>\n",
       "\t<tr><th></th><th scope=col>&lt;chr&gt;</th><th scope=col>&lt;dbl&gt;</th><th scope=col>&lt;dbl&gt;</th><th scope=col>&lt;chr&gt;</th><th scope=col>&lt;int&gt;</th><th scope=col>&lt;dbl&gt;</th><th scope=col>&lt;chr&gt;</th></tr>\n",
       "</thead>\n",
       "<tbody>\n",
       "\t<tr><th scope=row>1</th><td>Afghanistan        </td><td>77.40</td><td> 5.13</td><td>17.47</td><td>100</td><td> 1.03</td><td>Low income   </td></tr>\n",
       "\t<tr><th scope=row>2</th><td>Albania            </td><td>57.98</td><td>41.36</td><td>0.66 </td><td>100</td><td> 4.15</td><td>Middle income</td></tr>\n",
       "\t<tr><th scope=row>3</th><td>Algeria            </td><td>30.88</td><td>67.69</td><td>1.43 </td><td>100</td><td> 1.40</td><td>Middle income</td></tr>\n",
       "\t<tr><th scope=row>4</th><td>Andorra            </td><td>41.70</td><td>49.13</td><td>9.17 </td><td>100</td><td> 1.63</td><td>High income  </td></tr>\n",
       "\t<tr><th scope=row>5</th><td>Angola             </td><td>35.21</td><td>44.14</td><td>20.65</td><td>100</td><td>-2.13</td><td>Middle income</td></tr>\n",
       "\t<tr><th scope=row>6</th><td>Antigua and Barbuda</td><td>32.19</td><td>60.55</td><td>7.26 </td><td>100</td><td> 7.39</td><td>High income  </td></tr>\n",
       "</tbody>\n",
       "</table>\n"
      ],
      "text/latex": [
       "A data.frame: 6 × 7\n",
       "\\begin{tabular}{r|lllllll}\n",
       "  & Country & oopexp & govtexp & othersources & total & gdpgrowth & income\\_cat\\\\\n",
       "  & <chr> & <dbl> & <dbl> & <chr> & <int> & <dbl> & <chr>\\\\\n",
       "\\hline\n",
       "\t1 & Afghanistan         & 77.40 &  5.13 & 17.47 & 100 &  1.03 & Low income   \\\\\n",
       "\t2 & Albania             & 57.98 & 41.36 & 0.66  & 100 &  4.15 & Middle income\\\\\n",
       "\t3 & Algeria             & 30.88 & 67.69 & 1.43  & 100 &  1.40 & Middle income\\\\\n",
       "\t4 & Andorra             & 41.70 & 49.13 & 9.17  & 100 &  1.63 & High income  \\\\\n",
       "\t5 & Angola              & 35.21 & 44.14 & 20.65 & 100 & -2.13 & Middle income\\\\\n",
       "\t6 & Antigua and Barbuda & 32.19 & 60.55 & 7.26  & 100 &  7.39 & High income  \\\\\n",
       "\\end{tabular}\n"
      ],
      "text/markdown": [
       "\n",
       "A data.frame: 6 × 7\n",
       "\n",
       "| <!--/--> | Country &lt;chr&gt; | oopexp &lt;dbl&gt; | govtexp &lt;dbl&gt; | othersources &lt;chr&gt; | total &lt;int&gt; | gdpgrowth &lt;dbl&gt; | income_cat &lt;chr&gt; |\n",
       "|---|---|---|---|---|---|---|---|\n",
       "| 1 | Afghanistan         | 77.40 |  5.13 | 17.47 | 100 |  1.03 | Low income    |\n",
       "| 2 | Albania             | 57.98 | 41.36 | 0.66  | 100 |  4.15 | Middle income |\n",
       "| 3 | Algeria             | 30.88 | 67.69 | 1.43  | 100 |  1.40 | Middle income |\n",
       "| 4 | Andorra             | 41.70 | 49.13 | 9.17  | 100 |  1.63 | High income   |\n",
       "| 5 | Angola              | 35.21 | 44.14 | 20.65 | 100 | -2.13 | Middle income |\n",
       "| 6 | Antigua and Barbuda | 32.19 | 60.55 | 7.26  | 100 |  7.39 | High income   |\n",
       "\n"
      ],
      "text/plain": [
       "  Country             oopexp govtexp othersources total gdpgrowth income_cat   \n",
       "1 Afghanistan         77.40   5.13   17.47        100    1.03     Low income   \n",
       "2 Albania             57.98  41.36   0.66         100    4.15     Middle income\n",
       "3 Algeria             30.88  67.69   1.43         100    1.40     Middle income\n",
       "4 Andorra             41.70  49.13   9.17         100    1.63     High income  \n",
       "5 Angola              35.21  44.14   20.65        100   -2.13     Middle income\n",
       "6 Antigua and Barbuda 32.19  60.55   7.26         100    7.39     High income  "
      ]
     },
     "metadata": {},
     "output_type": "display_data"
    }
   ],
   "source": [
    "head(health_exp)"
   ]
  },
  {
   "cell_type": "markdown",
   "id": "qualified-series",
   "metadata": {},
   "source": [
    "1. Merge the two datasets by name of the countries and remove all Nas"
   ]
  },
  {
   "cell_type": "code",
   "execution_count": 52,
   "id": "fuzzy-security",
   "metadata": {},
   "outputs": [],
   "source": [
    "merged_df = covid_cases %>% inner_join(health_exp, by = 'Country') %>% drop_na()"
   ]
  },
  {
   "cell_type": "code",
   "execution_count": 53,
   "id": "small-inflation",
   "metadata": {
    "scrolled": true
   },
   "outputs": [
    {
     "data": {
      "text/html": [
       "<table class=\"dataframe\">\n",
       "<caption>A data.frame: 143 × 9</caption>\n",
       "<thead>\n",
       "\t<tr><th scope=col>Country</th><th scope=col>Cases</th><th scope=col>Deaths</th><th scope=col>oopexp</th><th scope=col>govtexp</th><th scope=col>othersources</th><th scope=col>total</th><th scope=col>gdpgrowth</th><th scope=col>income_cat</th></tr>\n",
       "\t<tr><th scope=col>&lt;chr&gt;</th><th scope=col>&lt;int&gt;</th><th scope=col>&lt;int&gt;</th><th scope=col>&lt;dbl&gt;</th><th scope=col>&lt;dbl&gt;</th><th scope=col>&lt;chr&gt;</th><th scope=col>&lt;int&gt;</th><th scope=col>&lt;dbl&gt;</th><th scope=col>&lt;chr&gt;</th></tr>\n",
       "</thead>\n",
       "<tbody>\n",
       "\t<tr><td>Afghanistan           </td><td>  656</td><td>   7</td><td>77.40</td><td> 5.13</td><td>17.47</td><td>100</td><td> 1.03</td><td>Low income   </td></tr>\n",
       "\t<tr><td>Albania               </td><td> 1427</td><td>  29</td><td>57.98</td><td>41.36</td><td>0.66 </td><td>100</td><td> 4.15</td><td>Middle income</td></tr>\n",
       "\t<tr><td>Algeria               </td><td> 3068</td><td>  61</td><td>30.88</td><td>67.69</td><td>1.43 </td><td>100</td><td> 1.40</td><td>Middle income</td></tr>\n",
       "\t<tr><td>Andorra               </td><td> 1769</td><td>  18</td><td>41.70</td><td>49.13</td><td>9.17 </td><td>100</td><td> 1.63</td><td>High income  </td></tr>\n",
       "\t<tr><td>Angola                </td><td>  120</td><td>   1</td><td>35.21</td><td>44.14</td><td>20.65</td><td>100</td><td>-2.13</td><td>Middle income</td></tr>\n",
       "\t<tr><td>Antigua and Barbuda   </td><td>   66</td><td>   1</td><td>32.19</td><td>60.55</td><td>7.26 </td><td>100</td><td> 7.39</td><td>High income  </td></tr>\n",
       "\t<tr><td>Argentina             </td><td> 4059</td><td>  41</td><td>15.80</td><td>74.43</td><td>9.77 </td><td>100</td><td>-2.48</td><td>High income  </td></tr>\n",
       "\t<tr><td>Armenia               </td><td> 2967</td><td>  30</td><td>80.65</td><td>16.45</td><td>2.9  </td><td>100</td><td> 5.20</td><td>Middle income</td></tr>\n",
       "\t<tr><td>Australia             </td><td>23315</td><td> 466</td><td>18.94</td><td>68.31</td><td>12.75</td><td>100</td><td> 2.94</td><td>High income  </td></tr>\n",
       "\t<tr><td>Austria               </td><td>53818</td><td> 538</td><td>18.92</td><td>72.51</td><td>8.57 </td><td>100</td><td> 2.42</td><td>High income  </td></tr>\n",
       "\t<tr><td>Azerbaijan            </td><td> 1047</td><td>  10</td><td>78.92</td><td>19.96</td><td>1.12 </td><td>100</td><td> 1.41</td><td>Middle income</td></tr>\n",
       "\t<tr><td>Bahamas               </td><td>  155</td><td>   3</td><td>27.72</td><td>49.86</td><td>22.42</td><td>100</td><td> 1.57</td><td>High income  </td></tr>\n",
       "\t<tr><td>Bahrain               </td><td> 5103</td><td>  51</td><td>27.99</td><td>61.36</td><td>10.65</td><td>100</td><td> 1.78</td><td>High income  </td></tr>\n",
       "\t<tr><td>Bangladesh            </td><td>  460</td><td>   5</td><td>71.89</td><td>17.96</td><td>10.15</td><td>100</td><td> 7.86</td><td>Middle income</td></tr>\n",
       "\t<tr><td>Barbados              </td><td>  299</td><td>   3</td><td>45.18</td><td>45.89</td><td>8.93 </td><td>100</td><td>-0.50</td><td>High income  </td></tr>\n",
       "\t<tr><td>Belarus               </td><td> 1201</td><td>  12</td><td>35.80</td><td>61.45</td><td>2.75 </td><td>100</td><td> 3.05</td><td>Middle income</td></tr>\n",
       "\t<tr><td>Belgium               </td><td>51098</td><td>1022</td><td>15.86</td><td>84.11</td><td>0.03 </td><td>100</td><td> 1.46</td><td>High income  </td></tr>\n",
       "\t<tr><td>Benin                 </td><td>   84</td><td>   1</td><td>43.48</td><td>20.54</td><td>35.98</td><td>100</td><td> 6.86</td><td>Low income   </td></tr>\n",
       "\t<tr><td>Bhutan                </td><td>  113</td><td>   1</td><td>20.13</td><td>73.95</td><td>5.92 </td><td>100</td><td> 3.03</td><td>Middle income</td></tr>\n",
       "\t<tr><td>Bolivia               </td><td>  443</td><td>   4</td><td>28.02</td><td>65.70</td><td>6.28 </td><td>100</td><td> 4.22</td><td>Middle income</td></tr>\n",
       "\t<tr><td>Bosnia and Herzegovina</td><td> 1945</td><td>  19</td><td>28.68</td><td>70.79</td><td>0.53 </td><td>100</td><td> 3.62</td><td>Middle income</td></tr>\n",
       "\t<tr><td>Brazil                </td><td>23277</td><td> 466</td><td>43.56</td><td>33.22</td><td>23.22</td><td>100</td><td> 1.12</td><td>Middle income</td></tr>\n",
       "\t<tr><td>Bulgaria              </td><td> 2902</td><td>  29</td><td>47.95</td><td>50.56</td><td>1.49 </td><td>100</td><td> 3.08</td><td>Middle income</td></tr>\n",
       "\t<tr><td>Burkina Faso          </td><td> 1216</td><td>  24</td><td>31.39</td><td>40.10</td><td>28.51</td><td>100</td><td> 6.83</td><td>Low income   </td></tr>\n",
       "\t<tr><td>Cambodia              </td><td> 1353</td><td>  27</td><td>58.56</td><td>21.81</td><td>19.63</td><td>100</td><td> 7.50</td><td>Low income   </td></tr>\n",
       "\t<tr><td>Cameroon              </td><td>  672</td><td>  13</td><td>69.50</td><td>13.34</td><td>17.16</td><td>100</td><td> 4.06</td><td>Middle income</td></tr>\n",
       "\t<tr><td>Canada                </td><td>22099</td><td> 221</td><td>14.62</td><td>73.44</td><td>11.94</td><td>100</td><td> 1.90</td><td>High income  </td></tr>\n",
       "\t<tr><td>Chad                  </td><td>   89</td><td>   2</td><td>61.16</td><td>18.87</td><td>19.97</td><td>100</td><td> 2.64</td><td>Low income   </td></tr>\n",
       "\t<tr><td>Chile                 </td><td> 9545</td><td>  95</td><td>34.77</td><td>58.47</td><td>6.76 </td><td>100</td><td> 4.02</td><td>High income  </td></tr>\n",
       "\t<tr><td>China                 </td><td>15632</td><td> 156</td><td>35.91</td><td>58.02</td><td>6.07 </td><td>100</td><td> 6.57</td><td>Middle income</td></tr>\n",
       "\t<tr><td>⋮</td><td>⋮</td><td>⋮</td><td>⋮</td><td>⋮</td><td>⋮</td><td>⋮</td><td>⋮</td><td>⋮</td></tr>\n",
       "\t<tr><td>Saudi Arabia        </td><td>  7738</td><td> 155</td><td>14.34</td><td>67.80</td><td>17.86</td><td>100</td><td> 2.43</td><td>High income  </td></tr>\n",
       "\t<tr><td>Senegal             </td><td>  1068</td><td>  21</td><td>51.77</td><td>34.57</td><td>13.66</td><td>100</td><td> 6.77</td><td>Middle income</td></tr>\n",
       "\t<tr><td>Serbia              </td><td>  3410</td><td>  68</td><td>40.50</td><td>58.00</td><td>1.5  </td><td>100</td><td> 4.39</td><td>Middle income</td></tr>\n",
       "\t<tr><td>Seychelles          </td><td>   183</td><td>   2</td><td> 2.08</td><td>95.97</td><td>1.95 </td><td>100</td><td> 3.63</td><td>High income  </td></tr>\n",
       "\t<tr><td>Singapore           </td><td>  6921</td><td> 138</td><td>31.17</td><td>54.53</td><td>14.3 </td><td>100</td><td> 3.14</td><td>High income  </td></tr>\n",
       "\t<tr><td>Slovenia            </td><td>  6281</td><td> 126</td><td>12.00</td><td>72.29</td><td>15.71</td><td>100</td><td> 4.12</td><td>High income  </td></tr>\n",
       "\t<tr><td>South Africa        </td><td>  4208</td><td>  84</td><td> 7.75</td><td>53.73</td><td>38.52</td><td>100</td><td> 0.79</td><td>Middle income</td></tr>\n",
       "\t<tr><td>Spain               </td><td>  4318</td><td>  86</td><td>23.83</td><td>71.24</td><td>4.93 </td><td>100</td><td> 2.35</td><td>High income  </td></tr>\n",
       "\t<tr><td>Sri Lanka           </td><td>  1299</td><td>  13</td><td>50.12</td><td>43.09</td><td>6.79 </td><td>100</td><td> 3.21</td><td>Middle income</td></tr>\n",
       "\t<tr><td>Sudan               </td><td>   107</td><td>   1</td><td>73.89</td><td>19.49</td><td>6.62 </td><td>100</td><td>-2.32</td><td>Middle income</td></tr>\n",
       "\t<tr><td>Suriname            </td><td>   170</td><td>   3</td><td>21.82</td><td>69.37</td><td>8.81 </td><td>100</td><td> 1.90</td><td>Middle income</td></tr>\n",
       "\t<tr><td>Sweden              </td><td>  5647</td><td>  56</td><td>15.24</td><td>83.51</td><td>1.25 </td><td>100</td><td> 2.23</td><td>High income  </td></tr>\n",
       "\t<tr><td>Switzerland         </td><td>  1121</td><td>  11</td><td>29.56</td><td>62.78</td><td>7.66 </td><td>100</td><td> 2.75</td><td>High income  </td></tr>\n",
       "\t<tr><td>Tanzania            </td><td>   253</td><td>   3</td><td>21.89</td><td>40.62</td><td>37.49</td><td>100</td><td> 5.44</td><td>Low income   </td></tr>\n",
       "\t<tr><td>Thailand            </td><td>  9038</td><td>  90</td><td>12.11</td><td>78.14</td><td>9.75 </td><td>100</td><td> 4.13</td><td>Middle income</td></tr>\n",
       "\t<tr><td>Timor-Leste         </td><td>    97</td><td>   2</td><td> 8.88</td><td>55.76</td><td>35.36</td><td>100</td><td> 2.81</td><td>Middle income</td></tr>\n",
       "\t<tr><td>Togo                </td><td>   337</td><td>   3</td><td>50.42</td><td>20.05</td><td>29.53</td><td>100</td><td> 4.91</td><td>Low income   </td></tr>\n",
       "\t<tr><td>Trinidad and Tobago </td><td>   844</td><td>  17</td><td>40.08</td><td>52.79</td><td>7.13 </td><td>100</td><td>-0.25</td><td>High income  </td></tr>\n",
       "\t<tr><td>Tunisia             </td><td>  1198</td><td>  12</td><td>39.90</td><td>56.64</td><td>3.46 </td><td>100</td><td> 2.48</td><td>Middle income</td></tr>\n",
       "\t<tr><td>Turkey              </td><td> 18600</td><td> 372</td><td>16.47</td><td>78.44</td><td>5.09 </td><td>100</td><td> 2.83</td><td>Middle income</td></tr>\n",
       "\t<tr><td>Uganda              </td><td>    70</td><td>   1</td><td>40.32</td><td>16.56</td><td>43.12</td><td>100</td><td> 6.15</td><td>Low income   </td></tr>\n",
       "\t<tr><td>Ukraine             </td><td>  1145</td><td>  11</td><td>54.34</td><td>42.41</td><td>3.25 </td><td>100</td><td> 3.34</td><td>Middle income</td></tr>\n",
       "\t<tr><td>United Arab Emirates</td><td>  2366</td><td>  24</td><td>18.57</td><td>72.48</td><td>8.95 </td><td>100</td><td> 1.73</td><td>High income  </td></tr>\n",
       "\t<tr><td>United Kingdom      </td><td> 23157</td><td> 232</td><td>15.12</td><td>80.23</td><td>4.65 </td><td>100</td><td> 1.39</td><td>High income  </td></tr>\n",
       "\t<tr><td>Uruguay             </td><td>  2446</td><td>  24</td><td>17.37</td><td>71.69</td><td>10.94</td><td>100</td><td> 1.62</td><td>High income  </td></tr>\n",
       "\t<tr><td>US                  </td><td>156487</td><td>1565</td><td>11.09</td><td>81.85</td><td>7.06 </td><td>100</td><td> 2.93</td><td>High income  </td></tr>\n",
       "\t<tr><td>Uzbekistan          </td><td>   743</td><td>  15</td><td>52.25</td><td>46.13</td><td>1.62 </td><td>100</td><td> 5.12</td><td>Middle income</td></tr>\n",
       "\t<tr><td>Vietnam             </td><td>  1784</td><td>  36</td><td>44.57</td><td>47.43</td><td>8    </td><td>100</td><td> 7.08</td><td>Middle income</td></tr>\n",
       "\t<tr><td>Zambia              </td><td>   141</td><td>   3</td><td>12.12</td><td>38.29</td><td>49.59</td><td>100</td><td> 3.79</td><td>Middle income</td></tr>\n",
       "\t<tr><td>Zimbabwe            </td><td>   123</td><td>   1</td><td>21.24</td><td>46.50</td><td>32.26</td><td>100</td><td> 6.16</td><td>Low income   </td></tr>\n",
       "</tbody>\n",
       "</table>\n"
      ],
      "text/latex": [
       "A data.frame: 143 × 9\n",
       "\\begin{tabular}{lllllllll}\n",
       " Country & Cases & Deaths & oopexp & govtexp & othersources & total & gdpgrowth & income\\_cat\\\\\n",
       " <chr> & <int> & <int> & <dbl> & <dbl> & <chr> & <int> & <dbl> & <chr>\\\\\n",
       "\\hline\n",
       "\t Afghanistan            &   656 &    7 & 77.40 &  5.13 & 17.47 & 100 &  1.03 & Low income   \\\\\n",
       "\t Albania                &  1427 &   29 & 57.98 & 41.36 & 0.66  & 100 &  4.15 & Middle income\\\\\n",
       "\t Algeria                &  3068 &   61 & 30.88 & 67.69 & 1.43  & 100 &  1.40 & Middle income\\\\\n",
       "\t Andorra                &  1769 &   18 & 41.70 & 49.13 & 9.17  & 100 &  1.63 & High income  \\\\\n",
       "\t Angola                 &   120 &    1 & 35.21 & 44.14 & 20.65 & 100 & -2.13 & Middle income\\\\\n",
       "\t Antigua and Barbuda    &    66 &    1 & 32.19 & 60.55 & 7.26  & 100 &  7.39 & High income  \\\\\n",
       "\t Argentina              &  4059 &   41 & 15.80 & 74.43 & 9.77  & 100 & -2.48 & High income  \\\\\n",
       "\t Armenia                &  2967 &   30 & 80.65 & 16.45 & 2.9   & 100 &  5.20 & Middle income\\\\\n",
       "\t Australia              & 23315 &  466 & 18.94 & 68.31 & 12.75 & 100 &  2.94 & High income  \\\\\n",
       "\t Austria                & 53818 &  538 & 18.92 & 72.51 & 8.57  & 100 &  2.42 & High income  \\\\\n",
       "\t Azerbaijan             &  1047 &   10 & 78.92 & 19.96 & 1.12  & 100 &  1.41 & Middle income\\\\\n",
       "\t Bahamas                &   155 &    3 & 27.72 & 49.86 & 22.42 & 100 &  1.57 & High income  \\\\\n",
       "\t Bahrain                &  5103 &   51 & 27.99 & 61.36 & 10.65 & 100 &  1.78 & High income  \\\\\n",
       "\t Bangladesh             &   460 &    5 & 71.89 & 17.96 & 10.15 & 100 &  7.86 & Middle income\\\\\n",
       "\t Barbados               &   299 &    3 & 45.18 & 45.89 & 8.93  & 100 & -0.50 & High income  \\\\\n",
       "\t Belarus                &  1201 &   12 & 35.80 & 61.45 & 2.75  & 100 &  3.05 & Middle income\\\\\n",
       "\t Belgium                & 51098 & 1022 & 15.86 & 84.11 & 0.03  & 100 &  1.46 & High income  \\\\\n",
       "\t Benin                  &    84 &    1 & 43.48 & 20.54 & 35.98 & 100 &  6.86 & Low income   \\\\\n",
       "\t Bhutan                 &   113 &    1 & 20.13 & 73.95 & 5.92  & 100 &  3.03 & Middle income\\\\\n",
       "\t Bolivia                &   443 &    4 & 28.02 & 65.70 & 6.28  & 100 &  4.22 & Middle income\\\\\n",
       "\t Bosnia and Herzegovina &  1945 &   19 & 28.68 & 70.79 & 0.53  & 100 &  3.62 & Middle income\\\\\n",
       "\t Brazil                 & 23277 &  466 & 43.56 & 33.22 & 23.22 & 100 &  1.12 & Middle income\\\\\n",
       "\t Bulgaria               &  2902 &   29 & 47.95 & 50.56 & 1.49  & 100 &  3.08 & Middle income\\\\\n",
       "\t Burkina Faso           &  1216 &   24 & 31.39 & 40.10 & 28.51 & 100 &  6.83 & Low income   \\\\\n",
       "\t Cambodia               &  1353 &   27 & 58.56 & 21.81 & 19.63 & 100 &  7.50 & Low income   \\\\\n",
       "\t Cameroon               &   672 &   13 & 69.50 & 13.34 & 17.16 & 100 &  4.06 & Middle income\\\\\n",
       "\t Canada                 & 22099 &  221 & 14.62 & 73.44 & 11.94 & 100 &  1.90 & High income  \\\\\n",
       "\t Chad                   &    89 &    2 & 61.16 & 18.87 & 19.97 & 100 &  2.64 & Low income   \\\\\n",
       "\t Chile                  &  9545 &   95 & 34.77 & 58.47 & 6.76  & 100 &  4.02 & High income  \\\\\n",
       "\t China                  & 15632 &  156 & 35.91 & 58.02 & 6.07  & 100 &  6.57 & Middle income\\\\\n",
       "\t ⋮ & ⋮ & ⋮ & ⋮ & ⋮ & ⋮ & ⋮ & ⋮ & ⋮\\\\\n",
       "\t Saudi Arabia         &   7738 &  155 & 14.34 & 67.80 & 17.86 & 100 &  2.43 & High income  \\\\\n",
       "\t Senegal              &   1068 &   21 & 51.77 & 34.57 & 13.66 & 100 &  6.77 & Middle income\\\\\n",
       "\t Serbia               &   3410 &   68 & 40.50 & 58.00 & 1.5   & 100 &  4.39 & Middle income\\\\\n",
       "\t Seychelles           &    183 &    2 &  2.08 & 95.97 & 1.95  & 100 &  3.63 & High income  \\\\\n",
       "\t Singapore            &   6921 &  138 & 31.17 & 54.53 & 14.3  & 100 &  3.14 & High income  \\\\\n",
       "\t Slovenia             &   6281 &  126 & 12.00 & 72.29 & 15.71 & 100 &  4.12 & High income  \\\\\n",
       "\t South Africa         &   4208 &   84 &  7.75 & 53.73 & 38.52 & 100 &  0.79 & Middle income\\\\\n",
       "\t Spain                &   4318 &   86 & 23.83 & 71.24 & 4.93  & 100 &  2.35 & High income  \\\\\n",
       "\t Sri Lanka            &   1299 &   13 & 50.12 & 43.09 & 6.79  & 100 &  3.21 & Middle income\\\\\n",
       "\t Sudan                &    107 &    1 & 73.89 & 19.49 & 6.62  & 100 & -2.32 & Middle income\\\\\n",
       "\t Suriname             &    170 &    3 & 21.82 & 69.37 & 8.81  & 100 &  1.90 & Middle income\\\\\n",
       "\t Sweden               &   5647 &   56 & 15.24 & 83.51 & 1.25  & 100 &  2.23 & High income  \\\\\n",
       "\t Switzerland          &   1121 &   11 & 29.56 & 62.78 & 7.66  & 100 &  2.75 & High income  \\\\\n",
       "\t Tanzania             &    253 &    3 & 21.89 & 40.62 & 37.49 & 100 &  5.44 & Low income   \\\\\n",
       "\t Thailand             &   9038 &   90 & 12.11 & 78.14 & 9.75  & 100 &  4.13 & Middle income\\\\\n",
       "\t Timor-Leste          &     97 &    2 &  8.88 & 55.76 & 35.36 & 100 &  2.81 & Middle income\\\\\n",
       "\t Togo                 &    337 &    3 & 50.42 & 20.05 & 29.53 & 100 &  4.91 & Low income   \\\\\n",
       "\t Trinidad and Tobago  &    844 &   17 & 40.08 & 52.79 & 7.13  & 100 & -0.25 & High income  \\\\\n",
       "\t Tunisia              &   1198 &   12 & 39.90 & 56.64 & 3.46  & 100 &  2.48 & Middle income\\\\\n",
       "\t Turkey               &  18600 &  372 & 16.47 & 78.44 & 5.09  & 100 &  2.83 & Middle income\\\\\n",
       "\t Uganda               &     70 &    1 & 40.32 & 16.56 & 43.12 & 100 &  6.15 & Low income   \\\\\n",
       "\t Ukraine              &   1145 &   11 & 54.34 & 42.41 & 3.25  & 100 &  3.34 & Middle income\\\\\n",
       "\t United Arab Emirates &   2366 &   24 & 18.57 & 72.48 & 8.95  & 100 &  1.73 & High income  \\\\\n",
       "\t United Kingdom       &  23157 &  232 & 15.12 & 80.23 & 4.65  & 100 &  1.39 & High income  \\\\\n",
       "\t Uruguay              &   2446 &   24 & 17.37 & 71.69 & 10.94 & 100 &  1.62 & High income  \\\\\n",
       "\t US                   & 156487 & 1565 & 11.09 & 81.85 & 7.06  & 100 &  2.93 & High income  \\\\\n",
       "\t Uzbekistan           &    743 &   15 & 52.25 & 46.13 & 1.62  & 100 &  5.12 & Middle income\\\\\n",
       "\t Vietnam              &   1784 &   36 & 44.57 & 47.43 & 8     & 100 &  7.08 & Middle income\\\\\n",
       "\t Zambia               &    141 &    3 & 12.12 & 38.29 & 49.59 & 100 &  3.79 & Middle income\\\\\n",
       "\t Zimbabwe             &    123 &    1 & 21.24 & 46.50 & 32.26 & 100 &  6.16 & Low income   \\\\\n",
       "\\end{tabular}\n"
      ],
      "text/markdown": [
       "\n",
       "A data.frame: 143 × 9\n",
       "\n",
       "| Country &lt;chr&gt; | Cases &lt;int&gt; | Deaths &lt;int&gt; | oopexp &lt;dbl&gt; | govtexp &lt;dbl&gt; | othersources &lt;chr&gt; | total &lt;int&gt; | gdpgrowth &lt;dbl&gt; | income_cat &lt;chr&gt; |\n",
       "|---|---|---|---|---|---|---|---|---|\n",
       "| Afghanistan            |   656 |    7 | 77.40 |  5.13 | 17.47 | 100 |  1.03 | Low income    |\n",
       "| Albania                |  1427 |   29 | 57.98 | 41.36 | 0.66  | 100 |  4.15 | Middle income |\n",
       "| Algeria                |  3068 |   61 | 30.88 | 67.69 | 1.43  | 100 |  1.40 | Middle income |\n",
       "| Andorra                |  1769 |   18 | 41.70 | 49.13 | 9.17  | 100 |  1.63 | High income   |\n",
       "| Angola                 |   120 |    1 | 35.21 | 44.14 | 20.65 | 100 | -2.13 | Middle income |\n",
       "| Antigua and Barbuda    |    66 |    1 | 32.19 | 60.55 | 7.26  | 100 |  7.39 | High income   |\n",
       "| Argentina              |  4059 |   41 | 15.80 | 74.43 | 9.77  | 100 | -2.48 | High income   |\n",
       "| Armenia                |  2967 |   30 | 80.65 | 16.45 | 2.9   | 100 |  5.20 | Middle income |\n",
       "| Australia              | 23315 |  466 | 18.94 | 68.31 | 12.75 | 100 |  2.94 | High income   |\n",
       "| Austria                | 53818 |  538 | 18.92 | 72.51 | 8.57  | 100 |  2.42 | High income   |\n",
       "| Azerbaijan             |  1047 |   10 | 78.92 | 19.96 | 1.12  | 100 |  1.41 | Middle income |\n",
       "| Bahamas                |   155 |    3 | 27.72 | 49.86 | 22.42 | 100 |  1.57 | High income   |\n",
       "| Bahrain                |  5103 |   51 | 27.99 | 61.36 | 10.65 | 100 |  1.78 | High income   |\n",
       "| Bangladesh             |   460 |    5 | 71.89 | 17.96 | 10.15 | 100 |  7.86 | Middle income |\n",
       "| Barbados               |   299 |    3 | 45.18 | 45.89 | 8.93  | 100 | -0.50 | High income   |\n",
       "| Belarus                |  1201 |   12 | 35.80 | 61.45 | 2.75  | 100 |  3.05 | Middle income |\n",
       "| Belgium                | 51098 | 1022 | 15.86 | 84.11 | 0.03  | 100 |  1.46 | High income   |\n",
       "| Benin                  |    84 |    1 | 43.48 | 20.54 | 35.98 | 100 |  6.86 | Low income    |\n",
       "| Bhutan                 |   113 |    1 | 20.13 | 73.95 | 5.92  | 100 |  3.03 | Middle income |\n",
       "| Bolivia                |   443 |    4 | 28.02 | 65.70 | 6.28  | 100 |  4.22 | Middle income |\n",
       "| Bosnia and Herzegovina |  1945 |   19 | 28.68 | 70.79 | 0.53  | 100 |  3.62 | Middle income |\n",
       "| Brazil                 | 23277 |  466 | 43.56 | 33.22 | 23.22 | 100 |  1.12 | Middle income |\n",
       "| Bulgaria               |  2902 |   29 | 47.95 | 50.56 | 1.49  | 100 |  3.08 | Middle income |\n",
       "| Burkina Faso           |  1216 |   24 | 31.39 | 40.10 | 28.51 | 100 |  6.83 | Low income    |\n",
       "| Cambodia               |  1353 |   27 | 58.56 | 21.81 | 19.63 | 100 |  7.50 | Low income    |\n",
       "| Cameroon               |   672 |   13 | 69.50 | 13.34 | 17.16 | 100 |  4.06 | Middle income |\n",
       "| Canada                 | 22099 |  221 | 14.62 | 73.44 | 11.94 | 100 |  1.90 | High income   |\n",
       "| Chad                   |    89 |    2 | 61.16 | 18.87 | 19.97 | 100 |  2.64 | Low income    |\n",
       "| Chile                  |  9545 |   95 | 34.77 | 58.47 | 6.76  | 100 |  4.02 | High income   |\n",
       "| China                  | 15632 |  156 | 35.91 | 58.02 | 6.07  | 100 |  6.57 | Middle income |\n",
       "| ⋮ | ⋮ | ⋮ | ⋮ | ⋮ | ⋮ | ⋮ | ⋮ | ⋮ |\n",
       "| Saudi Arabia         |   7738 |  155 | 14.34 | 67.80 | 17.86 | 100 |  2.43 | High income   |\n",
       "| Senegal              |   1068 |   21 | 51.77 | 34.57 | 13.66 | 100 |  6.77 | Middle income |\n",
       "| Serbia               |   3410 |   68 | 40.50 | 58.00 | 1.5   | 100 |  4.39 | Middle income |\n",
       "| Seychelles           |    183 |    2 |  2.08 | 95.97 | 1.95  | 100 |  3.63 | High income   |\n",
       "| Singapore            |   6921 |  138 | 31.17 | 54.53 | 14.3  | 100 |  3.14 | High income   |\n",
       "| Slovenia             |   6281 |  126 | 12.00 | 72.29 | 15.71 | 100 |  4.12 | High income   |\n",
       "| South Africa         |   4208 |   84 |  7.75 | 53.73 | 38.52 | 100 |  0.79 | Middle income |\n",
       "| Spain                |   4318 |   86 | 23.83 | 71.24 | 4.93  | 100 |  2.35 | High income   |\n",
       "| Sri Lanka            |   1299 |   13 | 50.12 | 43.09 | 6.79  | 100 |  3.21 | Middle income |\n",
       "| Sudan                |    107 |    1 | 73.89 | 19.49 | 6.62  | 100 | -2.32 | Middle income |\n",
       "| Suriname             |    170 |    3 | 21.82 | 69.37 | 8.81  | 100 |  1.90 | Middle income |\n",
       "| Sweden               |   5647 |   56 | 15.24 | 83.51 | 1.25  | 100 |  2.23 | High income   |\n",
       "| Switzerland          |   1121 |   11 | 29.56 | 62.78 | 7.66  | 100 |  2.75 | High income   |\n",
       "| Tanzania             |    253 |    3 | 21.89 | 40.62 | 37.49 | 100 |  5.44 | Low income    |\n",
       "| Thailand             |   9038 |   90 | 12.11 | 78.14 | 9.75  | 100 |  4.13 | Middle income |\n",
       "| Timor-Leste          |     97 |    2 |  8.88 | 55.76 | 35.36 | 100 |  2.81 | Middle income |\n",
       "| Togo                 |    337 |    3 | 50.42 | 20.05 | 29.53 | 100 |  4.91 | Low income    |\n",
       "| Trinidad and Tobago  |    844 |   17 | 40.08 | 52.79 | 7.13  | 100 | -0.25 | High income   |\n",
       "| Tunisia              |   1198 |   12 | 39.90 | 56.64 | 3.46  | 100 |  2.48 | Middle income |\n",
       "| Turkey               |  18600 |  372 | 16.47 | 78.44 | 5.09  | 100 |  2.83 | Middle income |\n",
       "| Uganda               |     70 |    1 | 40.32 | 16.56 | 43.12 | 100 |  6.15 | Low income    |\n",
       "| Ukraine              |   1145 |   11 | 54.34 | 42.41 | 3.25  | 100 |  3.34 | Middle income |\n",
       "| United Arab Emirates |   2366 |   24 | 18.57 | 72.48 | 8.95  | 100 |  1.73 | High income   |\n",
       "| United Kingdom       |  23157 |  232 | 15.12 | 80.23 | 4.65  | 100 |  1.39 | High income   |\n",
       "| Uruguay              |   2446 |   24 | 17.37 | 71.69 | 10.94 | 100 |  1.62 | High income   |\n",
       "| US                   | 156487 | 1565 | 11.09 | 81.85 | 7.06  | 100 |  2.93 | High income   |\n",
       "| Uzbekistan           |    743 |   15 | 52.25 | 46.13 | 1.62  | 100 |  5.12 | Middle income |\n",
       "| Vietnam              |   1784 |   36 | 44.57 | 47.43 | 8     | 100 |  7.08 | Middle income |\n",
       "| Zambia               |    141 |    3 | 12.12 | 38.29 | 49.59 | 100 |  3.79 | Middle income |\n",
       "| Zimbabwe             |    123 |    1 | 21.24 | 46.50 | 32.26 | 100 |  6.16 | Low income    |\n",
       "\n"
      ],
      "text/plain": [
       "    Country                Cases  Deaths oopexp govtexp othersources total\n",
       "1   Afghanistan              656     7   77.40   5.13   17.47        100  \n",
       "2   Albania                 1427    29   57.98  41.36   0.66         100  \n",
       "3   Algeria                 3068    61   30.88  67.69   1.43         100  \n",
       "4   Andorra                 1769    18   41.70  49.13   9.17         100  \n",
       "5   Angola                   120     1   35.21  44.14   20.65        100  \n",
       "6   Antigua and Barbuda       66     1   32.19  60.55   7.26         100  \n",
       "7   Argentina               4059    41   15.80  74.43   9.77         100  \n",
       "8   Armenia                 2967    30   80.65  16.45   2.9          100  \n",
       "9   Australia              23315   466   18.94  68.31   12.75        100  \n",
       "10  Austria                53818   538   18.92  72.51   8.57         100  \n",
       "11  Azerbaijan              1047    10   78.92  19.96   1.12         100  \n",
       "12  Bahamas                  155     3   27.72  49.86   22.42        100  \n",
       "13  Bahrain                 5103    51   27.99  61.36   10.65        100  \n",
       "14  Bangladesh               460     5   71.89  17.96   10.15        100  \n",
       "15  Barbados                 299     3   45.18  45.89   8.93         100  \n",
       "16  Belarus                 1201    12   35.80  61.45   2.75         100  \n",
       "17  Belgium                51098  1022   15.86  84.11   0.03         100  \n",
       "18  Benin                     84     1   43.48  20.54   35.98        100  \n",
       "19  Bhutan                   113     1   20.13  73.95   5.92         100  \n",
       "20  Bolivia                  443     4   28.02  65.70   6.28         100  \n",
       "21  Bosnia and Herzegovina  1945    19   28.68  70.79   0.53         100  \n",
       "22  Brazil                 23277   466   43.56  33.22   23.22        100  \n",
       "23  Bulgaria                2902    29   47.95  50.56   1.49         100  \n",
       "24  Burkina Faso            1216    24   31.39  40.10   28.51        100  \n",
       "25  Cambodia                1353    27   58.56  21.81   19.63        100  \n",
       "26  Cameroon                 672    13   69.50  13.34   17.16        100  \n",
       "27  Canada                 22099   221   14.62  73.44   11.94        100  \n",
       "28  Chad                      89     2   61.16  18.87   19.97        100  \n",
       "29  Chile                   9545    95   34.77  58.47   6.76         100  \n",
       "30  China                  15632   156   35.91  58.02   6.07         100  \n",
       "⋮   ⋮                      ⋮      ⋮      ⋮      ⋮       ⋮            ⋮    \n",
       "114 Saudi Arabia             7738  155   14.34  67.80   17.86        100  \n",
       "115 Senegal                  1068   21   51.77  34.57   13.66        100  \n",
       "116 Serbia                   3410   68   40.50  58.00   1.5          100  \n",
       "117 Seychelles                183    2    2.08  95.97   1.95         100  \n",
       "118 Singapore                6921  138   31.17  54.53   14.3         100  \n",
       "119 Slovenia                 6281  126   12.00  72.29   15.71        100  \n",
       "120 South Africa             4208   84    7.75  53.73   38.52        100  \n",
       "121 Spain                    4318   86   23.83  71.24   4.93         100  \n",
       "122 Sri Lanka                1299   13   50.12  43.09   6.79         100  \n",
       "123 Sudan                     107    1   73.89  19.49   6.62         100  \n",
       "124 Suriname                  170    3   21.82  69.37   8.81         100  \n",
       "125 Sweden                   5647   56   15.24  83.51   1.25         100  \n",
       "126 Switzerland              1121   11   29.56  62.78   7.66         100  \n",
       "127 Tanzania                  253    3   21.89  40.62   37.49        100  \n",
       "128 Thailand                 9038   90   12.11  78.14   9.75         100  \n",
       "129 Timor-Leste                97    2    8.88  55.76   35.36        100  \n",
       "130 Togo                      337    3   50.42  20.05   29.53        100  \n",
       "131 Trinidad and Tobago       844   17   40.08  52.79   7.13         100  \n",
       "132 Tunisia                  1198   12   39.90  56.64   3.46         100  \n",
       "133 Turkey                  18600  372   16.47  78.44   5.09         100  \n",
       "134 Uganda                     70    1   40.32  16.56   43.12        100  \n",
       "135 Ukraine                  1145   11   54.34  42.41   3.25         100  \n",
       "136 United Arab Emirates     2366   24   18.57  72.48   8.95         100  \n",
       "137 United Kingdom          23157  232   15.12  80.23   4.65         100  \n",
       "138 Uruguay                  2446   24   17.37  71.69   10.94        100  \n",
       "139 US                     156487 1565   11.09  81.85   7.06         100  \n",
       "140 Uzbekistan                743   15   52.25  46.13   1.62         100  \n",
       "141 Vietnam                  1784   36   44.57  47.43   8            100  \n",
       "142 Zambia                    141    3   12.12  38.29   49.59        100  \n",
       "143 Zimbabwe                  123    1   21.24  46.50   32.26        100  \n",
       "    gdpgrowth income_cat   \n",
       "1    1.03     Low income   \n",
       "2    4.15     Middle income\n",
       "3    1.40     Middle income\n",
       "4    1.63     High income  \n",
       "5   -2.13     Middle income\n",
       "6    7.39     High income  \n",
       "7   -2.48     High income  \n",
       "8    5.20     Middle income\n",
       "9    2.94     High income  \n",
       "10   2.42     High income  \n",
       "11   1.41     Middle income\n",
       "12   1.57     High income  \n",
       "13   1.78     High income  \n",
       "14   7.86     Middle income\n",
       "15  -0.50     High income  \n",
       "16   3.05     Middle income\n",
       "17   1.46     High income  \n",
       "18   6.86     Low income   \n",
       "19   3.03     Middle income\n",
       "20   4.22     Middle income\n",
       "21   3.62     Middle income\n",
       "22   1.12     Middle income\n",
       "23   3.08     Middle income\n",
       "24   6.83     Low income   \n",
       "25   7.50     Low income   \n",
       "26   4.06     Middle income\n",
       "27   1.90     High income  \n",
       "28   2.64     Low income   \n",
       "29   4.02     High income  \n",
       "30   6.57     Middle income\n",
       "⋮   ⋮         ⋮            \n",
       "114  2.43     High income  \n",
       "115  6.77     Middle income\n",
       "116  4.39     Middle income\n",
       "117  3.63     High income  \n",
       "118  3.14     High income  \n",
       "119  4.12     High income  \n",
       "120  0.79     Middle income\n",
       "121  2.35     High income  \n",
       "122  3.21     Middle income\n",
       "123 -2.32     Middle income\n",
       "124  1.90     Middle income\n",
       "125  2.23     High income  \n",
       "126  2.75     High income  \n",
       "127  5.44     Low income   \n",
       "128  4.13     Middle income\n",
       "129  2.81     Middle income\n",
       "130  4.91     Low income   \n",
       "131 -0.25     High income  \n",
       "132  2.48     Middle income\n",
       "133  2.83     Middle income\n",
       "134  6.15     Low income   \n",
       "135  3.34     Middle income\n",
       "136  1.73     High income  \n",
       "137  1.39     High income  \n",
       "138  1.62     High income  \n",
       "139  2.93     High income  \n",
       "140  5.12     Middle income\n",
       "141  7.08     Middle income\n",
       "142  3.79     Middle income\n",
       "143  6.16     Low income   "
      ]
     },
     "metadata": {},
     "output_type": "display_data"
    }
   ],
   "source": [
    "merged_df"
   ]
  },
  {
   "cell_type": "markdown",
   "id": "reserved-accessory",
   "metadata": {},
   "source": [
    "2. Make an appropriate graph to depict the number of countries in each income category"
   ]
  },
  {
   "cell_type": "code",
   "execution_count": 56,
   "id": "taken-adobe",
   "metadata": {},
   "outputs": [
    {
     "data": {
      "image/png": "[encoded data removed]",
      "text/plain": [
       "plot without title"
      ]
     },
     "metadata": {
      "image/png": {
       "height": 420,
       "width": 420
      }
     },
     "output_type": "display_data"
    }
   ],
   "source": [
    "merged_df %>% group_by(income_cat) %>% summarize(countries = n()) %>% ggplot(aes(income_cat,countries)) + theme_bw() + geom_bar(stat = 'identity') + xlab('Income category') + ylab('Number of Countries') + ggtitle('Number of countries per income category set by the World Bank')"
   ]
  },
  {
   "cell_type": "markdown",
   "id": "unsigned-nurse",
   "metadata": {},
   "source": [
    "3. Aggregate (sum) the number cases and deaths by income category. What kind of countries are most affected"
   ]
  },
  {
   "cell_type": "code",
   "execution_count": 90,
   "id": "southeast-firmware",
   "metadata": {},
   "outputs": [
    {
     "data": {
      "text/html": [
       "<span style=white-space:pre-wrap>'The countries in the  high income category are affected the most'</span>"
      ],
      "text/latex": [
       "'The countries in the  high income category are affected the most'"
      ],
      "text/markdown": [
       "<span style=white-space:pre-wrap>'The countries in the  high income category are affected the most'</span>"
      ],
      "text/plain": [
       "[1] \"The countries in the  high income category are affected the most\""
      ]
     },
     "metadata": {},
     "output_type": "display_data"
    }
   ],
   "source": [
    "cat_most_affected = merged_df %>% group_by(income_cat) %>% summarize( total_covid_cases = sum(total_cases = Cases + Deaths))\n",
    "paste('The countries in the ',tolower(cat_most_affected$income_cat[which(cat_most_affected$total_covid_cases == max(cat_most_affected$total_covid_cases))]),'category are affected the most')"
   ]
  }
 ],
 "metadata": {
  "kernelspec": {
   "display_name": "R",
   "language": "R",
   "name": "ir"
  },
  "language_info": {
   "codemirror_mode": "r",
   "file_extension": ".r",
   "mimetype": "text/x-r-source",
   "name": "R",
   "pygments_lexer": "r",
   "version": "4.1.0"
  }
 },
 "nbformat": 4,
 "nbformat_minor": 5
}
