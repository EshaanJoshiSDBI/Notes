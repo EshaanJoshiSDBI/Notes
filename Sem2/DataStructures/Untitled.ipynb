{
 "cells": [
  {
   "cell_type": "code",
   "execution_count": 1,
   "id": "3856747e",
   "metadata": {},
   "outputs": [],
   "source": [
    "class listnode:\n",
    "    def __init__(self, data = None, next = None):\n",
    "        self.data = data\n",
    "        self.next = next\n",
    "    def __repr__(self):\n",
    "        return repr(self.data)"
   ]
  },
  {
   "cell_type": "code",
   "execution_count": 3,
   "id": "7d9466d6",
   "metadata": {},
   "outputs": [],
   "source": [
    "class singlylinkedlist:\n",
    "    def __init__(self):\n",
    "        self.head = None\n",
    "    def __repr__(self):\n",
    "        nodes = []\n",
    "        curr = self.head\n",
    "        while curr:\n",
    "            nodes.append(repr(curr))\n",
    "            curr = curr.next\n",
    "            return '[' + ','.join(nodes) + ']'\n",
    "    def prepend(self):\n",
    "        data = input('Enter the element ')\n",
    "        self.head = listnode(data = data,next = self.head)\n",
    "        print(lst)"
   ]
  },
  {
   "cell_type": "code",
   "execution_count": 4,
   "id": "9240ee09",
   "metadata": {},
   "outputs": [],
   "source": [
    "lst = singlylinkedlist()"
   ]
  },
  {
   "cell_type": "code",
   "execution_count": 7,
   "id": "f287bc57",
   "metadata": {},
   "outputs": [
    {
     "name": "stdout",
     "output_type": "stream",
     "text": [
      "Enter the element 2\n",
      "['2']\n",
      "Option: y\n",
      "Enter the element 3\n",
      "['3']\n",
      "Option: n\n"
     ]
    }
   ],
   "source": [
    "while True:\n",
    "    lst.prepend()\n",
    "    op = input('Option: ')\n",
    "    if op == 'n':\n",
    "        break"
   ]
  },
  {
   "cell_type": "code",
   "execution_count": 8,
   "id": "60632f4e",
   "metadata": {},
   "outputs": [
    {
     "data": {
      "text/plain": [
       "__main__.singlylinkedlist"
      ]
     },
     "execution_count": 8,
     "metadata": {},
     "output_type": "execute_result"
    }
   ],
   "source": [
    "type(lst)"
   ]
  }
 ],
 "metadata": {
  "kernelspec": {
   "display_name": "Python 3 (ipykernel)",
   "language": "python",
   "name": "python3"
  },
  "language_info": {
   "codemirror_mode": {
    "name": "ipython",
    "version": 3
   },
   "file_extension": ".py",
   "mimetype": "text/x-python",
   "name": "python",
   "nbconvert_exporter": "python",
   "pygments_lexer": "ipython3",
   "version": "3.9.5"
  }
 },
 "nbformat": 4,
 "nbformat_minor": 5
}
