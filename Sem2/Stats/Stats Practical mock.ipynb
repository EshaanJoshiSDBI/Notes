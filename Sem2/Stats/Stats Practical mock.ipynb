{
 "cells": [
  {
   "cell_type": "code",
   "execution_count": 1,
   "id": "turned-fossil",
   "metadata": {},
   "outputs": [],
   "source": [
    "import pandas as pd\n",
    "import numpy as np\n",
    "from scipy.stats import ttest_ind, ttest_1samp, ttest_rel\n",
    "from scipy.stats import binom, hypergeom, poisson, expon, norm, nbinom\n",
    "import researchpy as rp\n",
    "from scipy import stats\n",
    "import seaborn as sns\n",
    "import matplotlib.pyplot as plt\n",
    "import statsmodels.api as sm\n",
    "import statsmodels.formula.api as smf\n",
    "from statsmodels.stats import diagnostic as diag\n",
    "from statsmodels.stats.outliers_influence import variance_inflation_factor\n",
    "from sklearn.linear_model import LinearRegression\n",
    "from sklearn.model_selection import train_test_split\n",
    "from sklearn.metrics import mean_squared_error, r2_score, mean_absolute_error\n",
    "from statsmodels.stats.anova import anova_lm"
   ]
  },
  {
   "cell_type": "markdown",
   "id": "premium-launch",
   "metadata": {},
   "source": [
    "## 1A.\n",
    "A nursing home hospital surveyed random sample of 586 votes. Responses were divided into Smoker and Non-Smoker & by Pregnant Cycle. Do the Pregnant cycle differ significantly from the smoker? Use a 0.05 level of significance."
   ]
  },
  {
   "cell_type": "code",
   "execution_count": 114,
   "id": "proud-moldova",
   "metadata": {},
   "outputs": [
    {
     "data": {
      "text/html": [
       "<div>\n",
       "<style scoped>\n",
       "    .dataframe tbody tr th:only-of-type {\n",
       "        vertical-align: middle;\n",
       "    }\n",
       "\n",
       "    .dataframe tbody tr th {\n",
       "        vertical-align: top;\n",
       "    }\n",
       "\n",
       "    .dataframe thead th {\n",
       "        text-align: right;\n",
       "    }\n",
       "</style>\n",
       "<table border=\"1\" class=\"dataframe\">\n",
       "  <thead>\n",
       "    <tr style=\"text-align: right;\">\n",
       "      <th></th>\n",
       "      <th>Smoking</th>\n",
       "      <th>Pragenant_Cycle</th>\n",
       "    </tr>\n",
       "  </thead>\n",
       "  <tbody>\n",
       "    <tr>\n",
       "      <th>0</th>\n",
       "      <td>Smoker</td>\n",
       "      <td>1_Cycle</td>\n",
       "    </tr>\n",
       "    <tr>\n",
       "      <th>1</th>\n",
       "      <td>Smoker</td>\n",
       "      <td>1_Cycle</td>\n",
       "    </tr>\n",
       "    <tr>\n",
       "      <th>2</th>\n",
       "      <td>Smoker</td>\n",
       "      <td>1_Cycle</td>\n",
       "    </tr>\n",
       "    <tr>\n",
       "      <th>3</th>\n",
       "      <td>Smoker</td>\n",
       "      <td>1_Cycle</td>\n",
       "    </tr>\n",
       "    <tr>\n",
       "      <th>4</th>\n",
       "      <td>Smoker</td>\n",
       "      <td>1_Cycle</td>\n",
       "    </tr>\n",
       "  </tbody>\n",
       "</table>\n",
       "</div>"
      ],
      "text/plain": [
       "  Smoking Pragenant_Cycle\n",
       "0  Smoker         1_Cycle\n",
       "1  Smoker         1_Cycle\n",
       "2  Smoker         1_Cycle\n",
       "3  Smoker         1_Cycle\n",
       "4  Smoker         1_Cycle"
      ]
     },
     "execution_count": 114,
     "metadata": {},
     "output_type": "execute_result"
    }
   ],
   "source": [
    "df = pd.read_excel('Smoking_Pragnent.xlsx')\n",
    "df.head()"
   ]
  },
  {
   "cell_type": "markdown",
   "id": "broken-heath",
   "metadata": {},
   "source": [
    "### Hypothesis\n",
    "- Ho = There is no relationship between Smoking and the pregnant cycle\n",
    "- H1 = There is a relationship between Smoking and the pregnant cycle"
   ]
  },
  {
   "cell_type": "code",
   "execution_count": 115,
   "id": "local-pressure",
   "metadata": {},
   "outputs": [
    {
     "data": {
      "text/html": [
       "<div>\n",
       "<style scoped>\n",
       "    .dataframe tbody tr th:only-of-type {\n",
       "        vertical-align: middle;\n",
       "    }\n",
       "\n",
       "    .dataframe tbody tr th {\n",
       "        vertical-align: top;\n",
       "    }\n",
       "\n",
       "    .dataframe thead tr th {\n",
       "        text-align: left;\n",
       "    }\n",
       "\n",
       "    .dataframe thead tr:last-of-type th {\n",
       "        text-align: right;\n",
       "    }\n",
       "</style>\n",
       "<table border=\"1\" class=\"dataframe\">\n",
       "  <thead>\n",
       "    <tr>\n",
       "      <th></th>\n",
       "      <th colspan=\"4\" halign=\"left\">Pragenant_Cycle</th>\n",
       "    </tr>\n",
       "    <tr>\n",
       "      <th>Pragenant_Cycle</th>\n",
       "      <th>1_Cycle</th>\n",
       "      <th>2_Cycle</th>\n",
       "      <th>3_Cycle</th>\n",
       "      <th>All</th>\n",
       "    </tr>\n",
       "    <tr>\n",
       "      <th>Smoking</th>\n",
       "      <th></th>\n",
       "      <th></th>\n",
       "      <th></th>\n",
       "      <th></th>\n",
       "    </tr>\n",
       "  </thead>\n",
       "  <tbody>\n",
       "    <tr>\n",
       "      <th>Non_Smoker</th>\n",
       "      <td>98</td>\n",
       "      <td>107</td>\n",
       "      <td>181</td>\n",
       "      <td>386</td>\n",
       "    </tr>\n",
       "    <tr>\n",
       "      <th>Smoker</th>\n",
       "      <td>29</td>\n",
       "      <td>16</td>\n",
       "      <td>55</td>\n",
       "      <td>100</td>\n",
       "    </tr>\n",
       "    <tr>\n",
       "      <th>All</th>\n",
       "      <td>127</td>\n",
       "      <td>123</td>\n",
       "      <td>236</td>\n",
       "      <td>486</td>\n",
       "    </tr>\n",
       "  </tbody>\n",
       "</table>\n",
       "</div>"
      ],
      "text/plain": [
       "                Pragenant_Cycle                     \n",
       "Pragenant_Cycle         1_Cycle 2_Cycle 3_Cycle  All\n",
       "Smoking                                             \n",
       "Non_Smoker                   98     107     181  386\n",
       "Smoker                       29      16      55  100\n",
       "All                         127     123     236  486"
      ]
     },
     "execution_count": 115,
     "metadata": {},
     "output_type": "execute_result"
    }
   ],
   "source": [
    "table, results = rp.crosstab(df['Smoking'], df['Pragenant_Cycle'], test = 'chi-square')\n",
    "table"
   ]
  },
  {
   "cell_type": "code",
   "execution_count": 116,
   "id": "grateful-mississippi",
   "metadata": {},
   "outputs": [
    {
     "data": {
      "text/html": [
       "<div>\n",
       "<style scoped>\n",
       "    .dataframe tbody tr th:only-of-type {\n",
       "        vertical-align: middle;\n",
       "    }\n",
       "\n",
       "    .dataframe tbody tr th {\n",
       "        vertical-align: top;\n",
       "    }\n",
       "\n",
       "    .dataframe thead th {\n",
       "        text-align: right;\n",
       "    }\n",
       "</style>\n",
       "<table border=\"1\" class=\"dataframe\">\n",
       "  <thead>\n",
       "    <tr style=\"text-align: right;\">\n",
       "      <th></th>\n",
       "      <th>Chi-square test</th>\n",
       "      <th>results</th>\n",
       "    </tr>\n",
       "  </thead>\n",
       "  <tbody>\n",
       "    <tr>\n",
       "      <th>0</th>\n",
       "      <td>Pearson Chi-square ( 2.0) =</td>\n",
       "      <td>5.7826</td>\n",
       "    </tr>\n",
       "    <tr>\n",
       "      <th>1</th>\n",
       "      <td>p-value =</td>\n",
       "      <td>0.0555</td>\n",
       "    </tr>\n",
       "    <tr>\n",
       "      <th>2</th>\n",
       "      <td>Cramer's V =</td>\n",
       "      <td>0.1091</td>\n",
       "    </tr>\n",
       "  </tbody>\n",
       "</table>\n",
       "</div>"
      ],
      "text/plain": [
       "                Chi-square test  results\n",
       "0  Pearson Chi-square ( 2.0) =    5.7826\n",
       "1                    p-value =    0.0555\n",
       "2                 Cramer's V =    0.1091"
      ]
     },
     "execution_count": 116,
     "metadata": {},
     "output_type": "execute_result"
    }
   ],
   "source": [
    "results"
   ]
  },
  {
   "cell_type": "markdown",
   "id": "supposed-raise",
   "metadata": {},
   "source": [
    "### Conclusion\n",
    "- We do not reject Ho\n",
    "- There is no relationship between Smoking and the pregnant cycle"
   ]
  },
  {
   "cell_type": "markdown",
   "id": "blank-relative",
   "metadata": {},
   "source": [
    "# 1B.\n",
    "Our counselling center on campus is concerned that most student requiring therapy do not take advantage of this service. Right now students attend only 4.6 session in a given year. Administration is considering having patient sign a contract stating that they will attend 10 session in an acedemic year\n",
    "\n",
    "|Number of Attended therapy|\n",
    "|:-------------------------|\n",
    "|6|\n",
    "|6|\n",
    "|12|\n",
    "|7|\n",
    "|8|\n",
    "\n",
    "Does signing the contract actually change the participation / attendance? Use 5% LOS"
   ]
  },
  {
   "cell_type": "markdown",
   "id": "molecular-alloy",
   "metadata": {},
   "source": [
    "### Hypothesis\n",
    "- Ho = There is no differenct between patients who signed the contract and those who didn't signed the contract\n",
    "- H1 = There is a significant difference between the student who signed the contract and those who didn't"
   ]
  },
  {
   "cell_type": "code",
   "execution_count": 117,
   "id": "described-calculator",
   "metadata": {},
   "outputs": [
    {
     "data": {
      "text/plain": [
       "Ttest_1sampResult(statistic=2.873684832428399, pvalue=0.04530014395444604)"
      ]
     },
     "execution_count": 117,
     "metadata": {},
     "output_type": "execute_result"
    }
   ],
   "source": [
    "attendance = [6,6,12,7,8]\n",
    "ttest_1samp(attendance, 4.6)"
   ]
  },
  {
   "cell_type": "markdown",
   "id": "apart-choir",
   "metadata": {},
   "source": [
    "### Conclusion\n",
    "- We reject Ho\n",
    "- There is no differenct between patients who signed the contract and those who didn't signed the contract"
   ]
  },
  {
   "cell_type": "markdown",
   "id": "duplicate-pasta",
   "metadata": {},
   "source": [
    "# 1C.\n",
    "A sample of drivers was chosen and their reaction times in an obstacle course were measured before and after drinking two beers. The purpose of this study was to check whether drivers are impaird after drinking two beers."
   ]
  },
  {
   "cell_type": "markdown",
   "id": "attempted-desperate",
   "metadata": {},
   "source": [
    "### Hypothesis\n",
    "- Ho = There is no significant difference between the reaction times of the drivers before and after drinking two beers\n",
    "- H1 = There is a significant difference between the reaction times of the drivers before and after drinking two beers"
   ]
  },
  {
   "cell_type": "code",
   "execution_count": 2,
   "id": "catholic-possibility",
   "metadata": {},
   "outputs": [],
   "source": [
    "df = pd.read_csv('beers.csv')\n",
    "before = df.Before\n",
    "after = df.After"
   ]
  },
  {
   "cell_type": "code",
   "execution_count": 3,
   "id": "extra-quantum",
   "metadata": {},
   "outputs": [
    {
     "data": {
      "text/plain": [
       "Ttest_relResult(statistic=2.5820585352876755, pvalue=0.018270781267861285)"
      ]
     },
     "execution_count": 3,
     "metadata": {},
     "output_type": "execute_result"
    }
   ],
   "source": [
    "ttest_rel(after,before)"
   ]
  },
  {
   "cell_type": "markdown",
   "id": "false-rover",
   "metadata": {},
   "source": [
    "### Conclusion\n",
    "- We reject Ho\n",
    "- There is a significant difference between the reaction times of the drivers before and after drinking two beers"
   ]
  },
  {
   "cell_type": "markdown",
   "id": "assured-adjustment",
   "metadata": {},
   "source": [
    "# 1D.\n",
    "Acme toy company prints baseball cards. The company claims that 30% of the cards are rookies, 60% veteran but not all steps & 10% are veteran All-stars suppose a random sample of 100 cards has 50 rookies, 45 veterans & 5 all-stars. is this consistent wth Acme's claims? use 0.05 level of significance."
   ]
  },
  {
   "cell_type": "markdown",
   "id": "vertical-device",
   "metadata": {},
   "source": [
    "### Hypothesis\n",
    "- Ho = The proportion of rookies, Veterans and all stars is 30%, 60% and 10% will not have different proportion in sample\n",
    "- H1 = The proportion of rookies, Veterans and all stars is 30%, 60% and 10% will have different proportion in sample"
   ]
  },
  {
   "cell_type": "code",
   "execution_count": 120,
   "id": "stuck-toddler",
   "metadata": {},
   "outputs": [],
   "source": [
    "def expected(n,p1,p2,p3):\n",
    "    e1 = n*p1\n",
    "    e2 = n*p2\n",
    "    e3 = n*p3\n",
    "    return list([e1,e2,e3])\n",
    "expected_values = expected(100,0.30,0.6,0.10)\n",
    "observed_values = [50,45,5]"
   ]
  },
  {
   "cell_type": "code",
   "execution_count": 121,
   "id": "durable-representation",
   "metadata": {},
   "outputs": [
    {
     "data": {
      "text/plain": [
       "Power_divergenceResult(statistic=19.583333333333336, pvalue=5.5915626856371765e-05)"
      ]
     },
     "execution_count": 121,
     "metadata": {},
     "output_type": "execute_result"
    }
   ],
   "source": [
    "stats.chisquare(f_obs = observed_values, f_exp = expected_values)"
   ]
  },
  {
   "cell_type": "markdown",
   "id": "loose-uncertainty",
   "metadata": {},
   "source": [
    "### Conclusion\n",
    "- We reject Ho\n",
    "- The proportion of rookies, Veterans and all stars is 30%, 60% and 10% will have different proportion in sample"
   ]
  },
  {
   "cell_type": "markdown",
   "id": "charitable-height",
   "metadata": {},
   "source": [
    "# 2A.\n",
    "Do the pivot analysis conclude for total amount of bill spent by customer depending upon the Smoker and sex"
   ]
  },
  {
   "cell_type": "code",
   "execution_count": 122,
   "id": "inclusive-arcade",
   "metadata": {
    "scrolled": true
   },
   "outputs": [
    {
     "data": {
      "text/html": [
       "<div>\n",
       "<style scoped>\n",
       "    .dataframe tbody tr th:only-of-type {\n",
       "        vertical-align: middle;\n",
       "    }\n",
       "\n",
       "    .dataframe tbody tr th {\n",
       "        vertical-align: top;\n",
       "    }\n",
       "\n",
       "    .dataframe thead th {\n",
       "        text-align: right;\n",
       "    }\n",
       "</style>\n",
       "<table border=\"1\" class=\"dataframe\">\n",
       "  <thead>\n",
       "    <tr style=\"text-align: right;\">\n",
       "      <th></th>\n",
       "      <th></th>\n",
       "      <th>total_bill</th>\n",
       "    </tr>\n",
       "    <tr>\n",
       "      <th>sex</th>\n",
       "      <th>smoker</th>\n",
       "      <th></th>\n",
       "    </tr>\n",
       "  </thead>\n",
       "  <tbody>\n",
       "    <tr>\n",
       "      <th rowspan=\"2\" valign=\"top\">Male</th>\n",
       "      <th>Yes</th>\n",
       "      <td>1337.07</td>\n",
       "    </tr>\n",
       "    <tr>\n",
       "      <th>No</th>\n",
       "      <td>1919.75</td>\n",
       "    </tr>\n",
       "    <tr>\n",
       "      <th rowspan=\"2\" valign=\"top\">Female</th>\n",
       "      <th>Yes</th>\n",
       "      <td>593.27</td>\n",
       "    </tr>\n",
       "    <tr>\n",
       "      <th>No</th>\n",
       "      <td>977.68</td>\n",
       "    </tr>\n",
       "  </tbody>\n",
       "</table>\n",
       "</div>"
      ],
      "text/plain": [
       "               total_bill\n",
       "sex    smoker            \n",
       "Male   Yes        1337.07\n",
       "       No         1919.75\n",
       "Female Yes         593.27\n",
       "       No          977.68"
      ]
     },
     "execution_count": 122,
     "metadata": {},
     "output_type": "execute_result"
    }
   ],
   "source": [
    "df = sns.load_dataset('tips')\n",
    "table = pd.pivot_table(data = df, index = ['sex', 'smoker'], values = ['total_bill'], aggfunc = {'total_bill':'sum'})\n",
    "table"
   ]
  },
  {
   "cell_type": "markdown",
   "id": "lightweight-bibliography",
   "metadata": {},
   "source": [
    "### Answer\n",
    "- Males who smoke have a total amount of 1337.07\n",
    "- Males who don't smoke have a total amount of 1919.75\n",
    "- Females who don't smoke have a total amount of 593.27\n",
    "- Females who don't smoke have a total amount of 977.68"
   ]
  },
  {
   "cell_type": "markdown",
   "id": "logical-database",
   "metadata": {},
   "source": [
    "# 2B.\n",
    "Make a Relationship Plot and Interpretation of plot"
   ]
  },
  {
   "cell_type": "code",
   "execution_count": 123,
   "id": "buried-segment",
   "metadata": {
    "scrolled": true
   },
   "outputs": [
    {
     "data": {
      "text/plain": [
       "<AxesSubplot:xlabel='sex'>"
      ]
     },
     "execution_count": 123,
     "metadata": {},
     "output_type": "execute_result"
    },
    {
     "data": {
      "image/png": "[encoded data removed]",
      "text/plain": [
       "<Figure size 432x288 with 1 Axes>"
      ]
     },
     "metadata": {
      "needs_background": "light"
     },
     "output_type": "display_data"
    }
   ],
   "source": [
    "table = pd.pivot_table(data = df, index = ['sex'], columns = ['smoker'], values = ['total_bill'], aggfunc = {'total_bill':'sum'})\n",
    "table.plot(kind = 'bar')"
   ]
  },
  {
   "cell_type": "markdown",
   "id": "attractive-replacement",
   "metadata": {},
   "source": [
    "### Answer\n",
    "- Men spend more and non-smoking men spend more than the men who smoke"
   ]
  },
  {
   "cell_type": "markdown",
   "id": "trained-inflation",
   "metadata": {},
   "source": [
    "# 2C.\n",
    "Do the Data Visualization Identify the Outlier and Treatment of Outlier using winsorizing technique for Variable Total_Bill"
   ]
  },
  {
   "cell_type": "code",
   "execution_count": 124,
   "id": "primary-graduation",
   "metadata": {
    "scrolled": true
   },
   "outputs": [
    {
     "data": {
      "text/plain": [
       "<AxesSubplot:ylabel='total_bill'>"
      ]
     },
     "execution_count": 124,
     "metadata": {},
     "output_type": "execute_result"
    },
    {
     "data": {
      "image/png": "[encoded data removed]",
      "text/plain": [
       "<Figure size 432x288 with 1 Axes>"
      ]
     },
     "metadata": {
      "needs_background": "light"
     },
     "output_type": "display_data"
    }
   ],
   "source": [
    "sns.boxplot(y = df['total_bill'])"
   ]
  },
  {
   "cell_type": "code",
   "execution_count": 125,
   "id": "animal-optimization",
   "metadata": {},
   "outputs": [],
   "source": [
    "q1 = df['total_bill'].quantile(0.25)\n",
    "q3 = df['total_bill'].quantile(0.75)\n",
    "iqr = q3 - q1\n",
    "low = q1 - (1.5 * iqr)\n",
    "high = q3 + (1.5 * iqr)"
   ]
  },
  {
   "cell_type": "code",
   "execution_count": 126,
   "id": "prepared-resource",
   "metadata": {},
   "outputs": [],
   "source": [
    "df['total_bill'] = np.where(df['total_bill'] > high,np.median(df['total_bill']),df['total_bill'])"
   ]
  },
  {
   "cell_type": "code",
   "execution_count": 127,
   "id": "bearing-amateur",
   "metadata": {},
   "outputs": [],
   "source": [
    "df['total_bill'] = np.where(df['total_bill'] < low,np.median(df['total_bill']),df['total_bill'])"
   ]
  },
  {
   "cell_type": "code",
   "execution_count": 128,
   "id": "skilled-billy",
   "metadata": {},
   "outputs": [
    {
     "data": {
      "text/plain": [
       "<AxesSubplot:ylabel='total_bill'>"
      ]
     },
     "execution_count": 128,
     "metadata": {},
     "output_type": "execute_result"
    },
    {
     "data": {
      "image/png": "[encoded data removed]",
      "text/plain": [
       "<Figure size 432x288 with 1 Axes>"
      ]
     },
     "metadata": {
      "needs_background": "light"
     },
     "output_type": "display_data"
    }
   ],
   "source": [
    "sns.boxplot(y = df['total_bill'])"
   ]
  },
  {
   "cell_type": "markdown",
   "id": "supported-brighton",
   "metadata": {},
   "source": [
    "# 2D.\n",
    "A manufactures of metal pistol funds that on an average 12% of his pistols are success because they are either oversized or undersized. What is the probability that a batch of 10 pistols will contain."
   ]
  },
  {
   "cell_type": "code",
   "execution_count": 129,
   "id": "expensive-spray",
   "metadata": {},
   "outputs": [
    {
     "data": {
      "text/plain": [
       "0.8913182062780246"
      ]
     },
     "execution_count": 129,
     "metadata": {},
     "output_type": "execute_result"
    }
   ],
   "source": [
    "n = 10\n",
    "p = 0.12\n",
    "binom.cdf(2,n,p)"
   ]
  },
  {
   "cell_type": "code",
   "execution_count": 130,
   "id": "saved-bulletin",
   "metadata": {},
   "outputs": [
    {
     "data": {
      "text/plain": [
       "0.34172496579595857"
      ]
     },
     "execution_count": 130,
     "metadata": {},
     "output_type": "execute_result"
    }
   ],
   "source": [
    "1 - binom.cdf(1,n,p)"
   ]
  },
  {
   "cell_type": "markdown",
   "id": "billion-chorus",
   "metadata": {},
   "source": [
    "# 3A\n",
    "Perform Simple Linear Regression on Salary of Employee data(Salary_Data.csv)\n",
    "\n",
    "a. Univariate Analysis\n",
    "\n",
    "b. Box plot\n",
    "\n",
    "c. Missing Value\n",
    "\n",
    "d. Correlation - Scatter  plot & Matrix & also give Interpretation"
   ]
  },
  {
   "cell_type": "code",
   "execution_count": 131,
   "id": "gothic-hebrew",
   "metadata": {},
   "outputs": [
    {
     "data": {
      "text/html": [
       "<div>\n",
       "<style scoped>\n",
       "    .dataframe tbody tr th:only-of-type {\n",
       "        vertical-align: middle;\n",
       "    }\n",
       "\n",
       "    .dataframe tbody tr th {\n",
       "        vertical-align: top;\n",
       "    }\n",
       "\n",
       "    .dataframe thead th {\n",
       "        text-align: right;\n",
       "    }\n",
       "</style>\n",
       "<table border=\"1\" class=\"dataframe\">\n",
       "  <thead>\n",
       "    <tr style=\"text-align: right;\">\n",
       "      <th></th>\n",
       "      <th>YearsExperience</th>\n",
       "      <th>Salary</th>\n",
       "    </tr>\n",
       "  </thead>\n",
       "  <tbody>\n",
       "    <tr>\n",
       "      <th>count</th>\n",
       "      <td>30.000000</td>\n",
       "      <td>30.00000</td>\n",
       "    </tr>\n",
       "    <tr>\n",
       "      <th>mean</th>\n",
       "      <td>5.313333</td>\n",
       "      <td>76.00300</td>\n",
       "    </tr>\n",
       "    <tr>\n",
       "      <th>std</th>\n",
       "      <td>2.837888</td>\n",
       "      <td>27.41443</td>\n",
       "    </tr>\n",
       "    <tr>\n",
       "      <th>min</th>\n",
       "      <td>1.100000</td>\n",
       "      <td>37.73100</td>\n",
       "    </tr>\n",
       "    <tr>\n",
       "      <th>25%</th>\n",
       "      <td>3.200000</td>\n",
       "      <td>56.72075</td>\n",
       "    </tr>\n",
       "    <tr>\n",
       "      <th>50%</th>\n",
       "      <td>4.700000</td>\n",
       "      <td>65.23700</td>\n",
       "    </tr>\n",
       "    <tr>\n",
       "      <th>75%</th>\n",
       "      <td>7.700000</td>\n",
       "      <td>100.54475</td>\n",
       "    </tr>\n",
       "    <tr>\n",
       "      <th>max</th>\n",
       "      <td>10.500000</td>\n",
       "      <td>122.39100</td>\n",
       "    </tr>\n",
       "  </tbody>\n",
       "</table>\n",
       "</div>"
      ],
      "text/plain": [
       "       YearsExperience     Salary\n",
       "count        30.000000   30.00000\n",
       "mean          5.313333   76.00300\n",
       "std           2.837888   27.41443\n",
       "min           1.100000   37.73100\n",
       "25%           3.200000   56.72075\n",
       "50%           4.700000   65.23700\n",
       "75%           7.700000  100.54475\n",
       "max          10.500000  122.39100"
      ]
     },
     "execution_count": 131,
     "metadata": {},
     "output_type": "execute_result"
    }
   ],
   "source": [
    "df = pd.read_csv('Salary_Data.csv')\n",
    "df.describe()"
   ]
  },
  {
   "cell_type": "markdown",
   "id": "hearing-holiday",
   "metadata": {},
   "source": [
    "#### Identifying outliers"
   ]
  },
  {
   "cell_type": "code",
   "execution_count": 132,
   "id": "wrapped-earthquake",
   "metadata": {},
   "outputs": [
    {
     "data": {
      "text/plain": [
       "<AxesSubplot:ylabel='YearsExperience'>"
      ]
     },
     "execution_count": 132,
     "metadata": {},
     "output_type": "execute_result"
    },
    {
     "data": {
      "image/png": "[encoded data removed]",
      "text/plain": [
       "<Figure size 432x288 with 1 Axes>"
      ]
     },
     "metadata": {
      "needs_background": "light"
     },
     "output_type": "display_data"
    }
   ],
   "source": [
    "sns.boxplot(y = df['YearsExperience'])"
   ]
  },
  {
   "cell_type": "code",
   "execution_count": 133,
   "id": "tough-beijing",
   "metadata": {},
   "outputs": [
    {
     "data": {
      "text/plain": [
       "<AxesSubplot:ylabel='Salary'>"
      ]
     },
     "execution_count": 133,
     "metadata": {},
     "output_type": "execute_result"
    },
    {
     "data": {
      "image/png": "[encoded data removed]",
      "text/plain": [
       "<Figure size 432x288 with 1 Axes>"
      ]
     },
     "metadata": {
      "needs_background": "light"
     },
     "output_type": "display_data"
    }
   ],
   "source": [
    "sns.boxplot(y = df['Salary'])"
   ]
  },
  {
   "cell_type": "markdown",
   "id": "prerequisite-accuracy",
   "metadata": {},
   "source": [
    "#### No outliers in either columns"
   ]
  },
  {
   "cell_type": "markdown",
   "id": "expressed-thomas",
   "metadata": {},
   "source": [
    "#### Correlation Matrix"
   ]
  },
  {
   "cell_type": "markdown",
   "id": "tropical-george",
   "metadata": {},
   "source": [
    "#### Data partition"
   ]
  },
  {
   "cell_type": "code",
   "execution_count": 134,
   "id": "fewer-ordinance",
   "metadata": {},
   "outputs": [],
   "source": [
    "x = df['YearsExperience']\n",
    "y = df['Salary']\n",
    "x_train, x_test, y_train, y_test = train_test_split(x,y,train_size = 0.8,random_state = 100)"
   ]
  },
  {
   "cell_type": "code",
   "execution_count": 135,
   "id": "tender-artist",
   "metadata": {},
   "outputs": [],
   "source": [
    "train_data = pd.concat([x_train,y_train],axis = 1)"
   ]
  },
  {
   "cell_type": "code",
   "execution_count": 136,
   "id": "extended-poster",
   "metadata": {},
   "outputs": [
    {
     "data": {
      "text/plain": [
       "<AxesSubplot:xlabel='YearsExperience', ylabel='Salary'>"
      ]
     },
     "execution_count": 136,
     "metadata": {},
     "output_type": "execute_result"
    },
    {
     "data": {
      "image/png": "[encoded data removed]",
      "text/plain": [
       "<Figure size 432x288 with 1 Axes>"
      ]
     },
     "metadata": {
      "needs_background": "light"
     },
     "output_type": "display_data"
    }
   ],
   "source": [
    "sns.scatterplot(x = 'YearsExperience', y = 'Salary', data = train_data)"
   ]
  },
  {
   "cell_type": "code",
   "execution_count": 137,
   "id": "great-communication",
   "metadata": {},
   "outputs": [
    {
     "data": {
      "text/html": [
       "<div>\n",
       "<style scoped>\n",
       "    .dataframe tbody tr th:only-of-type {\n",
       "        vertical-align: middle;\n",
       "    }\n",
       "\n",
       "    .dataframe tbody tr th {\n",
       "        vertical-align: top;\n",
       "    }\n",
       "\n",
       "    .dataframe thead th {\n",
       "        text-align: right;\n",
       "    }\n",
       "</style>\n",
       "<table border=\"1\" class=\"dataframe\">\n",
       "  <thead>\n",
       "    <tr style=\"text-align: right;\">\n",
       "      <th></th>\n",
       "      <th>YearsExperience</th>\n",
       "      <th>Salary</th>\n",
       "    </tr>\n",
       "  </thead>\n",
       "  <tbody>\n",
       "    <tr>\n",
       "      <th>YearsExperience</th>\n",
       "      <td>1.000000</td>\n",
       "      <td>0.975399</td>\n",
       "    </tr>\n",
       "    <tr>\n",
       "      <th>Salary</th>\n",
       "      <td>0.975399</td>\n",
       "      <td>1.000000</td>\n",
       "    </tr>\n",
       "  </tbody>\n",
       "</table>\n",
       "</div>"
      ],
      "text/plain": [
       "                 YearsExperience    Salary\n",
       "YearsExperience         1.000000  0.975399\n",
       "Salary                  0.975399  1.000000"
      ]
     },
     "execution_count": 137,
     "metadata": {},
     "output_type": "execute_result"
    }
   ],
   "source": [
    "train_data.corr()"
   ]
  },
  {
   "cell_type": "code",
   "execution_count": 138,
   "id": "understanding-promotion",
   "metadata": {
    "scrolled": true
   },
   "outputs": [
    {
     "data": {
      "text/plain": [
       "<AxesSubplot:>"
      ]
     },
     "execution_count": 138,
     "metadata": {},
     "output_type": "execute_result"
    },
    {
     "data": {
      "image/png": "[encoded data removed]",
      "text/plain": [
       "<Figure size 432x288 with 2 Axes>"
      ]
     },
     "metadata": {
      "needs_background": "light"
     },
     "output_type": "display_data"
    }
   ],
   "source": [
    "sns.heatmap(train_data.corr(), annot = True)"
   ]
  },
  {
   "cell_type": "markdown",
   "id": "indoor-school",
   "metadata": {},
   "source": [
    "#### Model Building\n",
    "Ho = There is no relationship between Years of experience and salary\n",
    "H1 = There is a relationship between Years of experience and salary"
   ]
  },
  {
   "cell_type": "code",
   "execution_count": 139,
   "id": "opened-pressure",
   "metadata": {
    "scrolled": false
   },
   "outputs": [
    {
     "data": {
      "text/html": [
       "<table class=\"simpletable\">\n",
       "<caption>OLS Regression Results</caption>\n",
       "<tr>\n",
       "  <th>Dep. Variable:</th>         <td>Salary</td>      <th>  R-squared:         </th> <td>   0.951</td>\n",
       "</tr>\n",
       "<tr>\n",
       "  <th>Model:</th>                   <td>OLS</td>       <th>  Adj. R-squared:    </th> <td>   0.949</td>\n",
       "</tr>\n",
       "<tr>\n",
       "  <th>Method:</th>             <td>Least Squares</td>  <th>  F-statistic:       </th> <td>   430.7</td>\n",
       "</tr>\n",
       "<tr>\n",
       "  <th>Date:</th>             <td>Wed, 02 Jun 2021</td> <th>  Prob (F-statistic):</th> <td>6.14e-16</td>\n",
       "</tr>\n",
       "<tr>\n",
       "  <th>Time:</th>                 <td>22:26:09</td>     <th>  Log-Likelihood:    </th> <td> -76.168</td>\n",
       "</tr>\n",
       "<tr>\n",
       "  <th>No. Observations:</th>      <td>    24</td>      <th>  AIC:               </th> <td>   156.3</td>\n",
       "</tr>\n",
       "<tr>\n",
       "  <th>Df Residuals:</th>          <td>    22</td>      <th>  BIC:               </th> <td>   158.7</td>\n",
       "</tr>\n",
       "<tr>\n",
       "  <th>Df Model:</th>              <td>     1</td>      <th>                     </th>     <td> </td>   \n",
       "</tr>\n",
       "<tr>\n",
       "  <th>Covariance Type:</th>      <td>nonrobust</td>    <th>                     </th>     <td> </td>   \n",
       "</tr>\n",
       "</table>\n",
       "<table class=\"simpletable\">\n",
       "<tr>\n",
       "         <td></td>            <th>coef</th>     <th>std err</th>      <th>t</th>      <th>P>|t|</th>  <th>[0.025</th>    <th>0.975]</th>  \n",
       "</tr>\n",
       "<tr>\n",
       "  <th>Intercept</th>       <td>   26.8191</td> <td>    2.651</td> <td>   10.115</td> <td> 0.000</td> <td>   21.320</td> <td>   32.318</td>\n",
       "</tr>\n",
       "<tr>\n",
       "  <th>YearsExperience</th> <td>    9.3611</td> <td>    0.451</td> <td>   20.753</td> <td> 0.000</td> <td>    8.426</td> <td>   10.297</td>\n",
       "</tr>\n",
       "</table>\n",
       "<table class=\"simpletable\">\n",
       "<tr>\n",
       "  <th>Omnibus:</th>       <td> 1.950</td> <th>  Durbin-Watson:     </th> <td>   1.771</td>\n",
       "</tr>\n",
       "<tr>\n",
       "  <th>Prob(Omnibus):</th> <td> 0.377</td> <th>  Jarque-Bera (JB):  </th> <td>   1.237</td>\n",
       "</tr>\n",
       "<tr>\n",
       "  <th>Skew:</th>          <td> 0.265</td> <th>  Prob(JB):          </th> <td>   0.539</td>\n",
       "</tr>\n",
       "<tr>\n",
       "  <th>Kurtosis:</th>      <td> 2.022</td> <th>  Cond. No.          </th> <td>    12.9</td>\n",
       "</tr>\n",
       "</table><br/><br/>Notes:<br/>[1] Standard Errors assume that the covariance matrix of the errors is correctly specified."
      ],
      "text/plain": [
       "<class 'statsmodels.iolib.summary.Summary'>\n",
       "\"\"\"\n",
       "                            OLS Regression Results                            \n",
       "==============================================================================\n",
       "Dep. Variable:                 Salary   R-squared:                       0.951\n",
       "Model:                            OLS   Adj. R-squared:                  0.949\n",
       "Method:                 Least Squares   F-statistic:                     430.7\n",
       "Date:                Wed, 02 Jun 2021   Prob (F-statistic):           6.14e-16\n",
       "Time:                        22:26:09   Log-Likelihood:                -76.168\n",
       "No. Observations:                  24   AIC:                             156.3\n",
       "Df Residuals:                      22   BIC:                             158.7\n",
       "Df Model:                           1                                         \n",
       "Covariance Type:            nonrobust                                         \n",
       "===================================================================================\n",
       "                      coef    std err          t      P>|t|      [0.025      0.975]\n",
       "-----------------------------------------------------------------------------------\n",
       "Intercept          26.8191      2.651     10.115      0.000      21.320      32.318\n",
       "YearsExperience     9.3611      0.451     20.753      0.000       8.426      10.297\n",
       "==============================================================================\n",
       "Omnibus:                        1.950   Durbin-Watson:                   1.771\n",
       "Prob(Omnibus):                  0.377   Jarque-Bera (JB):                1.237\n",
       "Skew:                           0.265   Prob(JB):                        0.539\n",
       "Kurtosis:                       2.022   Cond. No.                         12.9\n",
       "==============================================================================\n",
       "\n",
       "Notes:\n",
       "[1] Standard Errors assume that the covariance matrix of the errors is correctly specified.\n",
       "\"\"\""
      ]
     },
     "execution_count": 139,
     "metadata": {},
     "output_type": "execute_result"
    }
   ],
   "source": [
    "reg = smf.ols('Salary ~ YearsExperience', data = train_data).fit()\n",
    "reg.summary()"
   ]
  },
  {
   "cell_type": "markdown",
   "id": "potential-cooler",
   "metadata": {},
   "source": [
    "### Conclusion\n",
    "- We do not reject Ho\n",
    "- There is a relationship between salary and years of experience"
   ]
  },
  {
   "cell_type": "markdown",
   "id": "structured-underground",
   "metadata": {},
   "source": [
    "### Assumption of Model\n",
    "- Linearity\n",
    "- Normality\n",
    "- Homoscedasicity\n",
    "- Model Error has to be independently identificaly Destributed"
   ]
  },
  {
   "cell_type": "markdown",
   "id": "official-lying",
   "metadata": {},
   "source": [
    "#### Linearity"
   ]
  },
  {
   "cell_type": "code",
   "execution_count": 140,
   "id": "collective-reunion",
   "metadata": {},
   "outputs": [
    {
     "data": {
      "text/plain": [
       "<AxesSubplot:xlabel='Salary', ylabel='YearsExperience'>"
      ]
     },
     "execution_count": 140,
     "metadata": {},
     "output_type": "execute_result"
    },
    {
     "data": {
      "image/png": "[encoded data removed]",
      "text/plain": [
       "<Figure size 432x288 with 1 Axes>"
      ]
     },
     "metadata": {
      "needs_background": "light"
     },
     "output_type": "display_data"
    }
   ],
   "source": [
    "sns.scatterplot(x = train_data['Salary'], y = train_data['YearsExperience'])"
   ]
  },
  {
   "cell_type": "code",
   "execution_count": 141,
   "id": "underlying-slave",
   "metadata": {},
   "outputs": [
    {
     "data": {
      "text/html": [
       "<div>\n",
       "<style scoped>\n",
       "    .dataframe tbody tr th:only-of-type {\n",
       "        vertical-align: middle;\n",
       "    }\n",
       "\n",
       "    .dataframe tbody tr th {\n",
       "        vertical-align: top;\n",
       "    }\n",
       "\n",
       "    .dataframe thead th {\n",
       "        text-align: right;\n",
       "    }\n",
       "</style>\n",
       "<table border=\"1\" class=\"dataframe\">\n",
       "  <thead>\n",
       "    <tr style=\"text-align: right;\">\n",
       "      <th></th>\n",
       "      <th>YearsExperience</th>\n",
       "      <th>Salary</th>\n",
       "      <th>Fitted_value</th>\n",
       "      <th>residual</th>\n",
       "    </tr>\n",
       "  </thead>\n",
       "  <tbody>\n",
       "    <tr>\n",
       "      <th>27</th>\n",
       "      <td>9.6</td>\n",
       "      <td>112.635</td>\n",
       "      <td>116.685782</td>\n",
       "      <td>-4.050782</td>\n",
       "    </tr>\n",
       "    <tr>\n",
       "      <th>25</th>\n",
       "      <td>9.0</td>\n",
       "      <td>105.582</td>\n",
       "      <td>111.069113</td>\n",
       "      <td>-5.487113</td>\n",
       "    </tr>\n",
       "    <tr>\n",
       "      <th>6</th>\n",
       "      <td>3.0</td>\n",
       "      <td>60.150</td>\n",
       "      <td>54.902414</td>\n",
       "      <td>5.247586</td>\n",
       "    </tr>\n",
       "    <tr>\n",
       "      <th>17</th>\n",
       "      <td>5.3</td>\n",
       "      <td>83.088</td>\n",
       "      <td>76.432982</td>\n",
       "      <td>6.655018</td>\n",
       "    </tr>\n",
       "    <tr>\n",
       "      <th>22</th>\n",
       "      <td>7.9</td>\n",
       "      <td>101.302</td>\n",
       "      <td>100.771885</td>\n",
       "      <td>0.530115</td>\n",
       "    </tr>\n",
       "  </tbody>\n",
       "</table>\n",
       "</div>"
      ],
      "text/plain": [
       "    YearsExperience   Salary  Fitted_value  residual\n",
       "27              9.6  112.635    116.685782 -4.050782\n",
       "25              9.0  105.582    111.069113 -5.487113\n",
       "6               3.0   60.150     54.902414  5.247586\n",
       "17              5.3   83.088     76.432982  6.655018\n",
       "22              7.9  101.302    100.771885  0.530115"
      ]
     },
     "execution_count": 141,
     "metadata": {},
     "output_type": "execute_result"
    }
   ],
   "source": [
    "train_data['Fitted_value'] = reg.fittedvalues\n",
    "train_data['residual'] = reg.resid\n",
    "train_data.head()"
   ]
  },
  {
   "cell_type": "code",
   "execution_count": 142,
   "id": "asian-jacket",
   "metadata": {},
   "outputs": [
    {
     "data": {
      "text/plain": [
       "116.68566000000001"
      ]
     },
     "execution_count": 142,
     "metadata": {},
     "output_type": "execute_result"
    }
   ],
   "source": [
    "y = 26.8191 + 9.3611*9.6\n",
    "y"
   ]
  },
  {
   "cell_type": "markdown",
   "id": "received-fancy",
   "metadata": {},
   "source": [
    "#### Homoscedasicity"
   ]
  },
  {
   "cell_type": "code",
   "execution_count": 143,
   "id": "typical-window",
   "metadata": {},
   "outputs": [
    {
     "data": {
      "text/plain": [
       "<AxesSubplot:xlabel='Fitted_value', ylabel='residual'>"
      ]
     },
     "execution_count": 143,
     "metadata": {},
     "output_type": "execute_result"
    },
    {
     "data": {
      "image/png": "[encoded data removed]",
      "text/plain": [
       "<Figure size 432x288 with 1 Axes>"
      ]
     },
     "metadata": {
      "needs_background": "light"
     },
     "output_type": "display_data"
    }
   ],
   "source": [
    "sns.scatterplot(x = train_data['Fitted_value'],y = train_data['residual'])"
   ]
  },
  {
   "cell_type": "markdown",
   "id": "regulated-rider",
   "metadata": {},
   "source": [
    "#### Normality"
   ]
  },
  {
   "cell_type": "code",
   "execution_count": 144,
   "id": "choice-wages",
   "metadata": {},
   "outputs": [
    {
     "data": {
      "image/png": "[encoded data removed]",
      "text/plain": [
       "<Figure size 432x288 with 1 Axes>"
      ]
     },
     "metadata": {
      "needs_background": "light"
     },
     "output_type": "display_data"
    }
   ],
   "source": [
    "sm.qqplot(train_data['residual'], fit = True, line = 's')\n",
    "plt.show()"
   ]
  },
  {
   "cell_type": "markdown",
   "id": "interracial-century",
   "metadata": {},
   "source": [
    "#### Model Error are IID"
   ]
  },
  {
   "cell_type": "code",
   "execution_count": 145,
   "id": "reverse-engine",
   "metadata": {
    "scrolled": true
   },
   "outputs": [
    {
     "name": "stderr",
     "output_type": "stream",
     "text": [
      "/home/eshaanjoshi/.local/lib/python3.9/site-packages/seaborn/distributions.py:2557: FutureWarning: `distplot` is a deprecated function and will be removed in a future version. Please adapt your code to use either `displot` (a figure-level function with similar flexibility) or `histplot` (an axes-level function for histograms).\n",
      "  warnings.warn(msg, FutureWarning)\n"
     ]
    },
    {
     "data": {
      "text/plain": [
       "<AxesSubplot:xlabel='residual', ylabel='Density'>"
      ]
     },
     "execution_count": 145,
     "metadata": {},
     "output_type": "execute_result"
    },
    {
     "data": {
      "image/png": "[encoded data removed]",
      "text/plain": [
       "<Figure size 432x288 with 1 Axes>"
      ]
     },
     "metadata": {
      "needs_background": "light"
     },
     "output_type": "display_data"
    }
   ],
   "source": [
    "sns.distplot(train_data.residual)"
   ]
  },
  {
   "cell_type": "markdown",
   "id": "demanding-wiring",
   "metadata": {},
   "source": [
    "### Prediction on test data"
   ]
  },
  {
   "cell_type": "code",
   "execution_count": 146,
   "id": "local-wichita",
   "metadata": {
    "scrolled": true
   },
   "outputs": [
    {
     "data": {
      "text/html": [
       "<table class=\"simpletable\">\n",
       "<caption>OLS Regression Results</caption>\n",
       "<tr>\n",
       "  <th>Dep. Variable:</th>            <td>0</td>        <th>  R-squared:         </th> <td>   0.951</td>\n",
       "</tr>\n",
       "<tr>\n",
       "  <th>Model:</th>                   <td>OLS</td>       <th>  Adj. R-squared:    </th> <td>   0.949</td>\n",
       "</tr>\n",
       "<tr>\n",
       "  <th>Method:</th>             <td>Least Squares</td>  <th>  F-statistic:       </th> <td>   430.7</td>\n",
       "</tr>\n",
       "<tr>\n",
       "  <th>Date:</th>             <td>Wed, 02 Jun 2021</td> <th>  Prob (F-statistic):</th> <td>6.14e-16</td>\n",
       "</tr>\n",
       "<tr>\n",
       "  <th>Time:</th>                 <td>22:26:10</td>     <th>  Log-Likelihood:    </th> <td> -76.168</td>\n",
       "</tr>\n",
       "<tr>\n",
       "  <th>No. Observations:</th>      <td>    24</td>      <th>  AIC:               </th> <td>   156.3</td>\n",
       "</tr>\n",
       "<tr>\n",
       "  <th>Df Residuals:</th>          <td>    22</td>      <th>  BIC:               </th> <td>   158.7</td>\n",
       "</tr>\n",
       "<tr>\n",
       "  <th>Df Model:</th>              <td>     1</td>      <th>                     </th>     <td> </td>   \n",
       "</tr>\n",
       "<tr>\n",
       "  <th>Covariance Type:</th>      <td>nonrobust</td>    <th>                     </th>     <td> </td>   \n",
       "</tr>\n",
       "</table>\n",
       "<table class=\"simpletable\">\n",
       "<tr>\n",
       "         <td></td>            <th>coef</th>     <th>std err</th>      <th>t</th>      <th>P>|t|</th>  <th>[0.025</th>    <th>0.975]</th>  \n",
       "</tr>\n",
       "<tr>\n",
       "  <th>Intercept</th>       <td>   26.8191</td> <td>    2.651</td> <td>   10.115</td> <td> 0.000</td> <td>   21.320</td> <td>   32.318</td>\n",
       "</tr>\n",
       "<tr>\n",
       "  <th>YearsExperience</th> <td>    9.3611</td> <td>    0.451</td> <td>   20.753</td> <td> 0.000</td> <td>    8.426</td> <td>   10.297</td>\n",
       "</tr>\n",
       "</table>\n",
       "<table class=\"simpletable\">\n",
       "<tr>\n",
       "  <th>Omnibus:</th>       <td> 1.950</td> <th>  Durbin-Watson:     </th> <td>   1.771</td>\n",
       "</tr>\n",
       "<tr>\n",
       "  <th>Prob(Omnibus):</th> <td> 0.377</td> <th>  Jarque-Bera (JB):  </th> <td>   1.237</td>\n",
       "</tr>\n",
       "<tr>\n",
       "  <th>Skew:</th>          <td> 0.265</td> <th>  Prob(JB):          </th> <td>   0.539</td>\n",
       "</tr>\n",
       "<tr>\n",
       "  <th>Kurtosis:</th>      <td> 2.022</td> <th>  Cond. No.          </th> <td>    12.9</td>\n",
       "</tr>\n",
       "</table><br/><br/>Notes:<br/>[1] Standard Errors assume that the covariance matrix of the errors is correctly specified."
      ],
      "text/plain": [
       "<class 'statsmodels.iolib.summary.Summary'>\n",
       "\"\"\"\n",
       "                            OLS Regression Results                            \n",
       "==============================================================================\n",
       "Dep. Variable:                      0   R-squared:                       0.951\n",
       "Model:                            OLS   Adj. R-squared:                  0.949\n",
       "Method:                 Least Squares   F-statistic:                     430.7\n",
       "Date:                Wed, 02 Jun 2021   Prob (F-statistic):           6.14e-16\n",
       "Time:                        22:26:10   Log-Likelihood:                -76.168\n",
       "No. Observations:                  24   AIC:                             156.3\n",
       "Df Residuals:                      22   BIC:                             158.7\n",
       "Df Model:                           1                                         \n",
       "Covariance Type:            nonrobust                                         \n",
       "===================================================================================\n",
       "                      coef    std err          t      P>|t|      [0.025      0.975]\n",
       "-----------------------------------------------------------------------------------\n",
       "Intercept          26.8191      2.651     10.115      0.000      21.320      32.318\n",
       "YearsExperience     9.3611      0.451     20.753      0.000       8.426      10.297\n",
       "==============================================================================\n",
       "Omnibus:                        1.950   Durbin-Watson:                   1.771\n",
       "Prob(Omnibus):                  0.377   Jarque-Bera (JB):                1.237\n",
       "Skew:                           0.265   Prob(JB):                        0.539\n",
       "Kurtosis:                       2.022   Cond. No.                         12.9\n",
       "==============================================================================\n",
       "\n",
       "Notes:\n",
       "[1] Standard Errors assume that the covariance matrix of the errors is correctly specified.\n",
       "\"\"\""
      ]
     },
     "execution_count": 146,
     "metadata": {},
     "output_type": "execute_result"
    }
   ],
   "source": [
    "reg.summary(0)"
   ]
  },
  {
   "cell_type": "code",
   "execution_count": 147,
   "id": "authorized-security",
   "metadata": {},
   "outputs": [
    {
     "data": {
      "text/html": [
       "<div>\n",
       "<style scoped>\n",
       "    .dataframe tbody tr th:only-of-type {\n",
       "        vertical-align: middle;\n",
       "    }\n",
       "\n",
       "    .dataframe tbody tr th {\n",
       "        vertical-align: top;\n",
       "    }\n",
       "\n",
       "    .dataframe thead th {\n",
       "        text-align: right;\n",
       "    }\n",
       "</style>\n",
       "<table border=\"1\" class=\"dataframe\">\n",
       "  <thead>\n",
       "    <tr style=\"text-align: right;\">\n",
       "      <th></th>\n",
       "      <th>YearsExperience</th>\n",
       "      <th>Salary</th>\n",
       "    </tr>\n",
       "  </thead>\n",
       "  <tbody>\n",
       "    <tr>\n",
       "      <th>9</th>\n",
       "      <td>3.7</td>\n",
       "      <td>57.189</td>\n",
       "    </tr>\n",
       "    <tr>\n",
       "      <th>26</th>\n",
       "      <td>9.5</td>\n",
       "      <td>116.969</td>\n",
       "    </tr>\n",
       "    <tr>\n",
       "      <th>28</th>\n",
       "      <td>10.3</td>\n",
       "      <td>122.391</td>\n",
       "    </tr>\n",
       "    <tr>\n",
       "      <th>13</th>\n",
       "      <td>4.1</td>\n",
       "      <td>57.081</td>\n",
       "    </tr>\n",
       "    <tr>\n",
       "      <th>5</th>\n",
       "      <td>2.9</td>\n",
       "      <td>56.642</td>\n",
       "    </tr>\n",
       "  </tbody>\n",
       "</table>\n",
       "</div>"
      ],
      "text/plain": [
       "    YearsExperience   Salary\n",
       "9               3.7   57.189\n",
       "26              9.5  116.969\n",
       "28             10.3  122.391\n",
       "13              4.1   57.081\n",
       "5               2.9   56.642"
      ]
     },
     "execution_count": 147,
     "metadata": {},
     "output_type": "execute_result"
    }
   ],
   "source": [
    "test_data = pd.concat([x_test,y_test],axis = 1)\n",
    "test_data.head()"
   ]
  },
  {
   "cell_type": "code",
   "execution_count": 148,
   "id": "connected-hostel",
   "metadata": {},
   "outputs": [
    {
     "data": {
      "text/html": [
       "<div>\n",
       "<style scoped>\n",
       "    .dataframe tbody tr th:only-of-type {\n",
       "        vertical-align: middle;\n",
       "    }\n",
       "\n",
       "    .dataframe tbody tr th {\n",
       "        vertical-align: top;\n",
       "    }\n",
       "\n",
       "    .dataframe thead th {\n",
       "        text-align: right;\n",
       "    }\n",
       "</style>\n",
       "<table border=\"1\" class=\"dataframe\">\n",
       "  <thead>\n",
       "    <tr style=\"text-align: right;\">\n",
       "      <th></th>\n",
       "      <th>YearsExperience</th>\n",
       "      <th>Salary</th>\n",
       "      <th>Predicted</th>\n",
       "    </tr>\n",
       "  </thead>\n",
       "  <tbody>\n",
       "    <tr>\n",
       "      <th>9</th>\n",
       "      <td>3.7</td>\n",
       "      <td>57.189</td>\n",
       "      <td>61.455196</td>\n",
       "    </tr>\n",
       "    <tr>\n",
       "      <th>26</th>\n",
       "      <td>9.5</td>\n",
       "      <td>116.969</td>\n",
       "      <td>115.749671</td>\n",
       "    </tr>\n",
       "    <tr>\n",
       "      <th>28</th>\n",
       "      <td>10.3</td>\n",
       "      <td>122.391</td>\n",
       "      <td>123.238564</td>\n",
       "    </tr>\n",
       "    <tr>\n",
       "      <th>13</th>\n",
       "      <td>4.1</td>\n",
       "      <td>57.081</td>\n",
       "      <td>65.199642</td>\n",
       "    </tr>\n",
       "    <tr>\n",
       "      <th>5</th>\n",
       "      <td>2.9</td>\n",
       "      <td>56.642</td>\n",
       "      <td>53.966303</td>\n",
       "    </tr>\n",
       "  </tbody>\n",
       "</table>\n",
       "</div>"
      ],
      "text/plain": [
       "    YearsExperience   Salary   Predicted\n",
       "9               3.7   57.189   61.455196\n",
       "26              9.5  116.969  115.749671\n",
       "28             10.3  122.391  123.238564\n",
       "13              4.1   57.081   65.199642\n",
       "5               2.9   56.642   53.966303"
      ]
     },
     "execution_count": 148,
     "metadata": {},
     "output_type": "execute_result"
    }
   ],
   "source": [
    "test_data['Predicted'] = reg.predict(test_data)\n",
    "test_data.head()"
   ]
  },
  {
   "cell_type": "markdown",
   "id": "underlying-cambridge",
   "metadata": {},
   "source": [
    "#### MSE and MAE and RMSE for evalueation of Model on train data"
   ]
  },
  {
   "cell_type": "code",
   "execution_count": 149,
   "id": "endless-detection",
   "metadata": {},
   "outputs": [
    {
     "name": "stdout",
     "output_type": "stream",
     "text": [
      "RMSE 5.78\n"
     ]
    }
   ],
   "source": [
    "import math\n",
    "model_mse = mean_squared_error(train_data['Salary'],train_data['Fitted_value'])\n",
    "model_rmse = math.sqrt(model_mse)\n",
    "print('RMSE {:.3}'.format(model_rmse))"
   ]
  },
  {
   "cell_type": "code",
   "execution_count": 150,
   "id": "standard-tolerance",
   "metadata": {},
   "outputs": [
    {
     "name": "stdout",
     "output_type": "stream",
     "text": [
      "RMSE 4.95\n"
     ]
    }
   ],
   "source": [
    "model_mse = mean_squared_error(test_data['Salary'],test_data['Predicted'])\n",
    "model_rmse = math.sqrt(model_mse)\n",
    "print('RMSE {:.3}'.format(model_rmse))"
   ]
  },
  {
   "cell_type": "markdown",
   "id": "dependent-collaboration",
   "metadata": {},
   "source": [
    "# 3B\n",
    "Build a model of Multiple Linear Regression on sales of phone (Advertising.csv)\n",
    "\n",
    "a. State the Hypothesis\n",
    "\n",
    "b. Write the equation of model and give interpretation\n",
    "\n",
    "c. Accuracy of Model and give interpretation\n",
    "\n",
    "d. Prediction if the Tv = 110.7 and radio = 40.6, how much will be the sales"
   ]
  },
  {
   "cell_type": "code",
   "execution_count": 151,
   "id": "pending-aggregate",
   "metadata": {},
   "outputs": [],
   "source": [
    "df = pd.read_csv('Advertising.csv')"
   ]
  },
  {
   "cell_type": "markdown",
   "id": "monthly-rehabilitation",
   "metadata": {},
   "source": [
    "#### Identifying and Treatment of Outlier"
   ]
  },
  {
   "cell_type": "code",
   "execution_count": 152,
   "id": "characteristic-salmon",
   "metadata": {
    "scrolled": true
   },
   "outputs": [
    {
     "data": {
      "text/plain": [
       "<AxesSubplot:>"
      ]
     },
     "execution_count": 152,
     "metadata": {},
     "output_type": "execute_result"
    },
    {
     "data": {
      "image/png": "[encoded data removed]",
      "text/plain": [
       "<Figure size 432x288 with 1 Axes>"
      ]
     },
     "metadata": {
      "needs_background": "light"
     },
     "output_type": "display_data"
    }
   ],
   "source": [
    "sns.boxplot(data = df)"
   ]
  },
  {
   "cell_type": "code",
   "execution_count": 153,
   "id": "aware-cooperation",
   "metadata": {},
   "outputs": [],
   "source": [
    "q1 = df['newspaper'].quantile(0.25)\n",
    "q3 = df['newspaper'].quantile(0.75)\n",
    "iqr = q3 - q1\n",
    "low = q1 - (1.5*iqr)\n",
    "high = q3 + (1.5*iqr)"
   ]
  },
  {
   "cell_type": "code",
   "execution_count": 154,
   "id": "acoustic-sandwich",
   "metadata": {},
   "outputs": [],
   "source": [
    "df['newspaper'] = np.where(df['newspaper'] > high, np.median(df['newspaper']), df['newspaper'])"
   ]
  },
  {
   "cell_type": "code",
   "execution_count": 155,
   "id": "positive-samuel",
   "metadata": {},
   "outputs": [
    {
     "data": {
      "text/plain": [
       "<AxesSubplot:>"
      ]
     },
     "execution_count": 155,
     "metadata": {},
     "output_type": "execute_result"
    },
    {
     "data": {
      "image/png": "[encoded data removed]",
      "text/plain": [
       "<Figure size 432x288 with 1 Axes>"
      ]
     },
     "metadata": {
      "needs_background": "light"
     },
     "output_type": "display_data"
    }
   ],
   "source": [
    "sns.boxplot(data = df)"
   ]
  },
  {
   "cell_type": "code",
   "execution_count": 156,
   "id": "constant-feeding",
   "metadata": {},
   "outputs": [],
   "source": [
    "x = df.drop('sales',axis = 1)\n",
    "y = df['sales']\n",
    "x_train,x_test,y_train,y_test = train_test_split(x,y,train_size = 0.8, random_state = 100)"
   ]
  },
  {
   "cell_type": "code",
   "execution_count": 157,
   "id": "interior-abortion",
   "metadata": {},
   "outputs": [
    {
     "data": {
      "text/html": [
       "<div>\n",
       "<style scoped>\n",
       "    .dataframe tbody tr th:only-of-type {\n",
       "        vertical-align: middle;\n",
       "    }\n",
       "\n",
       "    .dataframe tbody tr th {\n",
       "        vertical-align: top;\n",
       "    }\n",
       "\n",
       "    .dataframe thead th {\n",
       "        text-align: right;\n",
       "    }\n",
       "</style>\n",
       "<table border=\"1\" class=\"dataframe\">\n",
       "  <thead>\n",
       "    <tr style=\"text-align: right;\">\n",
       "      <th></th>\n",
       "      <th>sales</th>\n",
       "      <th>TV</th>\n",
       "      <th>radio</th>\n",
       "      <th>newspaper</th>\n",
       "    </tr>\n",
       "  </thead>\n",
       "  <tbody>\n",
       "    <tr>\n",
       "      <th>168</th>\n",
       "      <td>17.1</td>\n",
       "      <td>215.4</td>\n",
       "      <td>23.6</td>\n",
       "      <td>57.6</td>\n",
       "    </tr>\n",
       "    <tr>\n",
       "      <th>112</th>\n",
       "      <td>14.1</td>\n",
       "      <td>175.7</td>\n",
       "      <td>15.4</td>\n",
       "      <td>2.4</td>\n",
       "    </tr>\n",
       "    <tr>\n",
       "      <th>171</th>\n",
       "      <td>14.5</td>\n",
       "      <td>164.5</td>\n",
       "      <td>20.9</td>\n",
       "      <td>47.4</td>\n",
       "    </tr>\n",
       "    <tr>\n",
       "      <th>181</th>\n",
       "      <td>12.2</td>\n",
       "      <td>218.5</td>\n",
       "      <td>5.4</td>\n",
       "      <td>27.4</td>\n",
       "    </tr>\n",
       "    <tr>\n",
       "      <th>7</th>\n",
       "      <td>13.2</td>\n",
       "      <td>120.2</td>\n",
       "      <td>19.6</td>\n",
       "      <td>11.6</td>\n",
       "    </tr>\n",
       "  </tbody>\n",
       "</table>\n",
       "</div>"
      ],
      "text/plain": [
       "     sales     TV  radio  newspaper\n",
       "168   17.1  215.4   23.6       57.6\n",
       "112   14.1  175.7   15.4        2.4\n",
       "171   14.5  164.5   20.9       47.4\n",
       "181   12.2  218.5    5.4       27.4\n",
       "7     13.2  120.2   19.6       11.6"
      ]
     },
     "execution_count": 157,
     "metadata": {},
     "output_type": "execute_result"
    }
   ],
   "source": [
    "train_data = pd.concat([y_train,x_train],axis = 1)\n",
    "train_data.head()"
   ]
  },
  {
   "cell_type": "markdown",
   "id": "frequent-breath",
   "metadata": {},
   "source": [
    "#### correlation matrix"
   ]
  },
  {
   "cell_type": "code",
   "execution_count": 158,
   "id": "understanding-albany",
   "metadata": {},
   "outputs": [
    {
     "data": {
      "text/html": [
       "<div>\n",
       "<style scoped>\n",
       "    .dataframe tbody tr th:only-of-type {\n",
       "        vertical-align: middle;\n",
       "    }\n",
       "\n",
       "    .dataframe tbody tr th {\n",
       "        vertical-align: top;\n",
       "    }\n",
       "\n",
       "    .dataframe thead th {\n",
       "        text-align: right;\n",
       "    }\n",
       "</style>\n",
       "<table border=\"1\" class=\"dataframe\">\n",
       "  <thead>\n",
       "    <tr style=\"text-align: right;\">\n",
       "      <th></th>\n",
       "      <th>sales</th>\n",
       "      <th>TV</th>\n",
       "      <th>radio</th>\n",
       "      <th>newspaper</th>\n",
       "    </tr>\n",
       "  </thead>\n",
       "  <tbody>\n",
       "    <tr>\n",
       "      <th>sales</th>\n",
       "      <td>1.000000</td>\n",
       "      <td>0.787246</td>\n",
       "      <td>0.533795</td>\n",
       "      <td>0.254206</td>\n",
       "    </tr>\n",
       "    <tr>\n",
       "      <th>TV</th>\n",
       "      <td>0.787246</td>\n",
       "      <td>1.000000</td>\n",
       "      <td>0.016024</td>\n",
       "      <td>0.058933</td>\n",
       "    </tr>\n",
       "    <tr>\n",
       "      <th>radio</th>\n",
       "      <td>0.533795</td>\n",
       "      <td>0.016024</td>\n",
       "      <td>1.000000</td>\n",
       "      <td>0.385720</td>\n",
       "    </tr>\n",
       "    <tr>\n",
       "      <th>newspaper</th>\n",
       "      <td>0.254206</td>\n",
       "      <td>0.058933</td>\n",
       "      <td>0.385720</td>\n",
       "      <td>1.000000</td>\n",
       "    </tr>\n",
       "  </tbody>\n",
       "</table>\n",
       "</div>"
      ],
      "text/plain": [
       "              sales        TV     radio  newspaper\n",
       "sales      1.000000  0.787246  0.533795   0.254206\n",
       "TV         0.787246  1.000000  0.016024   0.058933\n",
       "radio      0.533795  0.016024  1.000000   0.385720\n",
       "newspaper  0.254206  0.058933  0.385720   1.000000"
      ]
     },
     "execution_count": 158,
     "metadata": {},
     "output_type": "execute_result"
    }
   ],
   "source": [
    "train_data.corr()"
   ]
  },
  {
   "cell_type": "code",
   "execution_count": 159,
   "id": "included-fight",
   "metadata": {},
   "outputs": [
    {
     "data": {
      "text/plain": [
       "<AxesSubplot:>"
      ]
     },
     "execution_count": 159,
     "metadata": {},
     "output_type": "execute_result"
    },
    {
     "data": {
      "image/png": "[encoded data removed]",
      "text/plain": [
       "<Figure size 432x288 with 2 Axes>"
      ]
     },
     "metadata": {
      "needs_background": "light"
     },
     "output_type": "display_data"
    }
   ],
   "source": [
    "sns.heatmap(train_data.corr(),annot = True)"
   ]
  },
  {
   "cell_type": "code",
   "execution_count": 160,
   "id": "accepted-genealogy",
   "metadata": {},
   "outputs": [
    {
     "data": {
      "text/plain": [
       "<AxesSubplot:title={'center':'sales vs TV'}, xlabel='TV', ylabel='sales'>"
      ]
     },
     "execution_count": 160,
     "metadata": {},
     "output_type": "execute_result"
    },
    {
     "data": {
      "image/png": "[encoded data removed]",
      "text/plain": [
       "<Figure size 432x288 with 1 Axes>"
      ]
     },
     "metadata": {
      "needs_background": "light"
     },
     "output_type": "display_data"
    }
   ],
   "source": [
    "train_data.plot.scatter(x = 'TV', y = 'sales', title = 'sales vs TV')"
   ]
  },
  {
   "cell_type": "markdown",
   "id": "chemical-birmingham",
   "metadata": {},
   "source": [
    "#### Multicollinearity (with help of VIF)"
   ]
  },
  {
   "cell_type": "code",
   "execution_count": 161,
   "id": "accepting-thickness",
   "metadata": {},
   "outputs": [
    {
     "data": {
      "text/plain": [
       "TV           2.328383\n",
       "radio        3.331315\n",
       "newspaper    3.354515\n",
       "dtype: float64"
      ]
     },
     "execution_count": 161,
     "metadata": {},
     "output_type": "execute_result"
    }
   ],
   "source": [
    "x1 = train_data.drop('sales',axis = 1)\n",
    "series_before = pd.Series([variance_inflation_factor(x1.values, i)\n",
    "                           for i in range(x1.shape[1])], \n",
    "                          index = x1.columns)\n",
    "series_before"
   ]
  },
  {
   "cell_type": "markdown",
   "id": "single-advocate",
   "metadata": {},
   "source": [
    "- no multi-collinearity in the data"
   ]
  },
  {
   "cell_type": "markdown",
   "id": "herbal-northwest",
   "metadata": {},
   "source": [
    "### Model Building\n",
    "- Ho = There is no Linear Relationship between sales and tv, radio and newspaper\n",
    "- H1 = There is a Linear Relationship between sales and tv, radio and newspaper"
   ]
  },
  {
   "cell_type": "code",
   "execution_count": 162,
   "id": "variable-liberty",
   "metadata": {},
   "outputs": [
    {
     "data": {
      "text/html": [
       "<table class=\"simpletable\">\n",
       "<caption>OLS Regression Results</caption>\n",
       "<tr>\n",
       "  <th>Dep. Variable:</th>          <td>sales</td>      <th>  R-squared:         </th> <td>   0.892</td>\n",
       "</tr>\n",
       "<tr>\n",
       "  <th>Model:</th>                   <td>OLS</td>       <th>  Adj. R-squared:    </th> <td>   0.889</td>\n",
       "</tr>\n",
       "<tr>\n",
       "  <th>Method:</th>             <td>Least Squares</td>  <th>  F-statistic:       </th> <td>   427.3</td>\n",
       "</tr>\n",
       "<tr>\n",
       "  <th>Date:</th>             <td>Wed, 02 Jun 2021</td> <th>  Prob (F-statistic):</th> <td>5.42e-75</td>\n",
       "</tr>\n",
       "<tr>\n",
       "  <th>Time:</th>                 <td>22:26:13</td>     <th>  Log-Likelihood:    </th> <td> -316.75</td>\n",
       "</tr>\n",
       "<tr>\n",
       "  <th>No. Observations:</th>      <td>   160</td>      <th>  AIC:               </th> <td>   641.5</td>\n",
       "</tr>\n",
       "<tr>\n",
       "  <th>Df Residuals:</th>          <td>   156</td>      <th>  BIC:               </th> <td>   653.8</td>\n",
       "</tr>\n",
       "<tr>\n",
       "  <th>Df Model:</th>              <td>     3</td>      <th>                     </th>     <td> </td>   \n",
       "</tr>\n",
       "<tr>\n",
       "  <th>Covariance Type:</th>      <td>nonrobust</td>    <th>                     </th>     <td> </td>   \n",
       "</tr>\n",
       "</table>\n",
       "<table class=\"simpletable\">\n",
       "<tr>\n",
       "      <td></td>         <th>coef</th>     <th>std err</th>      <th>t</th>      <th>P>|t|</th>  <th>[0.025</th>    <th>0.975]</th>  \n",
       "</tr>\n",
       "<tr>\n",
       "  <th>Intercept</th> <td>    2.8159</td> <td>    0.362</td> <td>    7.774</td> <td> 0.000</td> <td>    2.100</td> <td>    3.531</td>\n",
       "</tr>\n",
       "<tr>\n",
       "  <th>TV</th>        <td>    0.0456</td> <td>    0.002</td> <td>   29.467</td> <td> 0.000</td> <td>    0.043</td> <td>    0.049</td>\n",
       "</tr>\n",
       "<tr>\n",
       "  <th>radio</th>     <td>    0.1859</td> <td>    0.010</td> <td>   18.124</td> <td> 0.000</td> <td>    0.166</td> <td>    0.206</td>\n",
       "</tr>\n",
       "<tr>\n",
       "  <th>newspaper</th> <td>    0.0022</td> <td>    0.007</td> <td>    0.297</td> <td> 0.767</td> <td>   -0.012</td> <td>    0.017</td>\n",
       "</tr>\n",
       "</table>\n",
       "<table class=\"simpletable\">\n",
       "<tr>\n",
       "  <th>Omnibus:</th>       <td>43.924</td> <th>  Durbin-Watson:     </th> <td>   1.911</td>\n",
       "</tr>\n",
       "<tr>\n",
       "  <th>Prob(Omnibus):</th> <td> 0.000</td> <th>  Jarque-Bera (JB):  </th> <td>  91.803</td>\n",
       "</tr>\n",
       "<tr>\n",
       "  <th>Skew:</th>          <td>-1.224</td> <th>  Prob(JB):          </th> <td>1.16e-20</td>\n",
       "</tr>\n",
       "<tr>\n",
       "  <th>Kurtosis:</th>      <td> 5.789</td> <th>  Cond. No.          </th> <td>    450.</td>\n",
       "</tr>\n",
       "</table><br/><br/>Notes:<br/>[1] Standard Errors assume that the covariance matrix of the errors is correctly specified."
      ],
      "text/plain": [
       "<class 'statsmodels.iolib.summary.Summary'>\n",
       "\"\"\"\n",
       "                            OLS Regression Results                            \n",
       "==============================================================================\n",
       "Dep. Variable:                  sales   R-squared:                       0.892\n",
       "Model:                            OLS   Adj. R-squared:                  0.889\n",
       "Method:                 Least Squares   F-statistic:                     427.3\n",
       "Date:                Wed, 02 Jun 2021   Prob (F-statistic):           5.42e-75\n",
       "Time:                        22:26:13   Log-Likelihood:                -316.75\n",
       "No. Observations:                 160   AIC:                             641.5\n",
       "Df Residuals:                     156   BIC:                             653.8\n",
       "Df Model:                           3                                         \n",
       "Covariance Type:            nonrobust                                         \n",
       "==============================================================================\n",
       "                 coef    std err          t      P>|t|      [0.025      0.975]\n",
       "------------------------------------------------------------------------------\n",
       "Intercept      2.8159      0.362      7.774      0.000       2.100       3.531\n",
       "TV             0.0456      0.002     29.467      0.000       0.043       0.049\n",
       "radio          0.1859      0.010     18.124      0.000       0.166       0.206\n",
       "newspaper      0.0022      0.007      0.297      0.767      -0.012       0.017\n",
       "==============================================================================\n",
       "Omnibus:                       43.924   Durbin-Watson:                   1.911\n",
       "Prob(Omnibus):                  0.000   Jarque-Bera (JB):               91.803\n",
       "Skew:                          -1.224   Prob(JB):                     1.16e-20\n",
       "Kurtosis:                       5.789   Cond. No.                         450.\n",
       "==============================================================================\n",
       "\n",
       "Notes:\n",
       "[1] Standard Errors assume that the covariance matrix of the errors is correctly specified.\n",
       "\"\"\""
      ]
     },
     "execution_count": 162,
     "metadata": {},
     "output_type": "execute_result"
    }
   ],
   "source": [
    "reg = smf.ols('sales ~ TV + radio + newspaper',data = train_data).fit()\n",
    "reg.summary()"
   ]
  },
  {
   "cell_type": "markdown",
   "id": "recovered-league",
   "metadata": {},
   "source": [
    "- There is Linear relationship between sales and tv and radio\n",
    "- There is no Linear relationship between sales and Newspaper\n",
    "- so we will remove and re-run the model\n",
    "- 89.2% is the accuracy of the model"
   ]
  },
  {
   "cell_type": "code",
   "execution_count": 163,
   "id": "miniature-bachelor",
   "metadata": {
    "scrolled": true
   },
   "outputs": [
    {
     "data": {
      "text/html": [
       "<table class=\"simpletable\">\n",
       "<caption>OLS Regression Results</caption>\n",
       "<tr>\n",
       "  <th>Dep. Variable:</th>          <td>sales</td>      <th>  R-squared:         </th> <td>   0.891</td>\n",
       "</tr>\n",
       "<tr>\n",
       "  <th>Model:</th>                   <td>OLS</td>       <th>  Adj. R-squared:    </th> <td>   0.890</td>\n",
       "</tr>\n",
       "<tr>\n",
       "  <th>Method:</th>             <td>Least Squares</td>  <th>  F-statistic:       </th> <td>   644.7</td>\n",
       "</tr>\n",
       "<tr>\n",
       "  <th>Date:</th>             <td>Wed, 02 Jun 2021</td> <th>  Prob (F-statistic):</th> <td>1.97e-76</td>\n",
       "</tr>\n",
       "<tr>\n",
       "  <th>Time:</th>                 <td>22:26:14</td>     <th>  Log-Likelihood:    </th> <td> -316.80</td>\n",
       "</tr>\n",
       "<tr>\n",
       "  <th>No. Observations:</th>      <td>   160</td>      <th>  AIC:               </th> <td>   639.6</td>\n",
       "</tr>\n",
       "<tr>\n",
       "  <th>Df Residuals:</th>          <td>   157</td>      <th>  BIC:               </th> <td>   648.8</td>\n",
       "</tr>\n",
       "<tr>\n",
       "  <th>Df Model:</th>              <td>     2</td>      <th>                     </th>     <td> </td>   \n",
       "</tr>\n",
       "<tr>\n",
       "  <th>Covariance Type:</th>      <td>nonrobust</td>    <th>                     </th>     <td> </td>   \n",
       "</tr>\n",
       "</table>\n",
       "<table class=\"simpletable\">\n",
       "<tr>\n",
       "      <td></td>         <th>coef</th>     <th>std err</th>      <th>t</th>      <th>P>|t|</th>  <th>[0.025</th>    <th>0.975]</th>  \n",
       "</tr>\n",
       "<tr>\n",
       "  <th>Intercept</th> <td>    2.8521</td> <td>    0.340</td> <td>    8.388</td> <td> 0.000</td> <td>    2.181</td> <td>    3.524</td>\n",
       "</tr>\n",
       "<tr>\n",
       "  <th>TV</th>        <td>    0.0456</td> <td>    0.002</td> <td>   29.619</td> <td> 0.000</td> <td>    0.043</td> <td>    0.049</td>\n",
       "</tr>\n",
       "<tr>\n",
       "  <th>radio</th>     <td>    0.1870</td> <td>    0.009</td> <td>   19.824</td> <td> 0.000</td> <td>    0.168</td> <td>    0.206</td>\n",
       "</tr>\n",
       "</table>\n",
       "<table class=\"simpletable\">\n",
       "<tr>\n",
       "  <th>Omnibus:</th>       <td>44.519</td> <th>  Durbin-Watson:     </th> <td>   1.910</td>\n",
       "</tr>\n",
       "<tr>\n",
       "  <th>Prob(Omnibus):</th> <td> 0.000</td> <th>  Jarque-Bera (JB):  </th> <td>  95.044</td>\n",
       "</tr>\n",
       "<tr>\n",
       "  <th>Skew:</th>          <td>-1.229</td> <th>  Prob(JB):          </th> <td>2.30e-21</td>\n",
       "</tr>\n",
       "<tr>\n",
       "  <th>Kurtosis:</th>      <td> 5.865</td> <th>  Cond. No.          </th> <td>    419.</td>\n",
       "</tr>\n",
       "</table><br/><br/>Notes:<br/>[1] Standard Errors assume that the covariance matrix of the errors is correctly specified."
      ],
      "text/plain": [
       "<class 'statsmodels.iolib.summary.Summary'>\n",
       "\"\"\"\n",
       "                            OLS Regression Results                            \n",
       "==============================================================================\n",
       "Dep. Variable:                  sales   R-squared:                       0.891\n",
       "Model:                            OLS   Adj. R-squared:                  0.890\n",
       "Method:                 Least Squares   F-statistic:                     644.7\n",
       "Date:                Wed, 02 Jun 2021   Prob (F-statistic):           1.97e-76\n",
       "Time:                        22:26:14   Log-Likelihood:                -316.80\n",
       "No. Observations:                 160   AIC:                             639.6\n",
       "Df Residuals:                     157   BIC:                             648.8\n",
       "Df Model:                           2                                         \n",
       "Covariance Type:            nonrobust                                         \n",
       "==============================================================================\n",
       "                 coef    std err          t      P>|t|      [0.025      0.975]\n",
       "------------------------------------------------------------------------------\n",
       "Intercept      2.8521      0.340      8.388      0.000       2.181       3.524\n",
       "TV             0.0456      0.002     29.619      0.000       0.043       0.049\n",
       "radio          0.1870      0.009     19.824      0.000       0.168       0.206\n",
       "==============================================================================\n",
       "Omnibus:                       44.519   Durbin-Watson:                   1.910\n",
       "Prob(Omnibus):                  0.000   Jarque-Bera (JB):               95.044\n",
       "Skew:                          -1.229   Prob(JB):                     2.30e-21\n",
       "Kurtosis:                       5.865   Cond. No.                         419.\n",
       "==============================================================================\n",
       "\n",
       "Notes:\n",
       "[1] Standard Errors assume that the covariance matrix of the errors is correctly specified.\n",
       "\"\"\""
      ]
     },
     "execution_count": 163,
     "metadata": {},
     "output_type": "execute_result"
    }
   ],
   "source": [
    "reg2 = smf.ols('sales ~TV + radio',data = train_data).fit()\n",
    "reg2.summary()"
   ]
  },
  {
   "cell_type": "markdown",
   "id": "toxic-chaos",
   "metadata": {},
   "source": [
    "#### Equation of Model\n",
    "- y = Intercept + TV(coef) * value + radio(coef) * value\n",
    "#### Accuracy of the Model\n",
    "- The accuracy of the model is 89.1%"
   ]
  },
  {
   "cell_type": "markdown",
   "id": "interracial-rolling",
   "metadata": {},
   "source": [
    "### Multicollinearity"
   ]
  },
  {
   "cell_type": "code",
   "execution_count": 164,
   "id": "approved-republican",
   "metadata": {},
   "outputs": [
    {
     "data": {
      "text/plain": [
       "TV       2.066257\n",
       "radio    2.066257\n",
       "dtype: float64"
      ]
     },
     "execution_count": 164,
     "metadata": {},
     "output_type": "execute_result"
    }
   ],
   "source": [
    "x1 = train_data.loc[:,['TV','radio']]\n",
    "series_before = pd.Series([variance_inflation_factor(x1.values, \n",
    "                                                     i) for i in range(x1.shape[1])],\n",
    "                          index = x1.columns)\n",
    "series_before"
   ]
  },
  {
   "cell_type": "markdown",
   "id": "optical-today",
   "metadata": {},
   "source": [
    "### Assumption of Model\n",
    "- Linearity\n",
    "- Normality\n",
    "- Homoscedasicity\n",
    "- Model error has to be independently identificaly distributed"
   ]
  },
  {
   "cell_type": "code",
   "execution_count": 165,
   "id": "brilliant-sculpture",
   "metadata": {},
   "outputs": [
    {
     "data": {
      "text/plain": [
       "20.97962"
      ]
     },
     "execution_count": 165,
     "metadata": {},
     "output_type": "execute_result"
    }
   ],
   "source": [
    "y = 2.8521 + 0.0456 * 241.7 + 0.1870 * 38\n",
    "y"
   ]
  },
  {
   "cell_type": "code",
   "execution_count": 166,
   "id": "domestic-ferry",
   "metadata": {},
   "outputs": [
    {
     "data": {
      "text/html": [
       "<div>\n",
       "<style scoped>\n",
       "    .dataframe tbody tr th:only-of-type {\n",
       "        vertical-align: middle;\n",
       "    }\n",
       "\n",
       "    .dataframe tbody tr th {\n",
       "        vertical-align: top;\n",
       "    }\n",
       "\n",
       "    .dataframe thead th {\n",
       "        text-align: right;\n",
       "    }\n",
       "</style>\n",
       "<table border=\"1\" class=\"dataframe\">\n",
       "  <thead>\n",
       "    <tr style=\"text-align: right;\">\n",
       "      <th></th>\n",
       "      <th>sales</th>\n",
       "      <th>TV</th>\n",
       "      <th>radio</th>\n",
       "      <th>newspaper</th>\n",
       "      <th>fitted_value</th>\n",
       "      <th>residual</th>\n",
       "    </tr>\n",
       "  </thead>\n",
       "  <tbody>\n",
       "    <tr>\n",
       "      <th>168</th>\n",
       "      <td>17.1</td>\n",
       "      <td>215.4</td>\n",
       "      <td>23.6</td>\n",
       "      <td>57.6</td>\n",
       "      <td>17.092661</td>\n",
       "      <td>0.007339</td>\n",
       "    </tr>\n",
       "    <tr>\n",
       "      <th>112</th>\n",
       "      <td>14.1</td>\n",
       "      <td>175.7</td>\n",
       "      <td>15.4</td>\n",
       "      <td>2.4</td>\n",
       "      <td>13.747894</td>\n",
       "      <td>0.352106</td>\n",
       "    </tr>\n",
       "    <tr>\n",
       "      <th>171</th>\n",
       "      <td>14.5</td>\n",
       "      <td>164.5</td>\n",
       "      <td>20.9</td>\n",
       "      <td>47.4</td>\n",
       "      <td>14.265602</td>\n",
       "      <td>0.234398</td>\n",
       "    </tr>\n",
       "    <tr>\n",
       "      <th>181</th>\n",
       "      <td>12.2</td>\n",
       "      <td>218.5</td>\n",
       "      <td>5.4</td>\n",
       "      <td>27.4</td>\n",
       "      <td>13.830165</td>\n",
       "      <td>-1.630165</td>\n",
       "    </tr>\n",
       "    <tr>\n",
       "      <th>7</th>\n",
       "      <td>13.2</td>\n",
       "      <td>120.2</td>\n",
       "      <td>19.6</td>\n",
       "      <td>11.6</td>\n",
       "      <td>12.001478</td>\n",
       "      <td>1.198522</td>\n",
       "    </tr>\n",
       "  </tbody>\n",
       "</table>\n",
       "</div>"
      ],
      "text/plain": [
       "     sales     TV  radio  newspaper  fitted_value  residual\n",
       "168   17.1  215.4   23.6       57.6     17.092661  0.007339\n",
       "112   14.1  175.7   15.4        2.4     13.747894  0.352106\n",
       "171   14.5  164.5   20.9       47.4     14.265602  0.234398\n",
       "181   12.2  218.5    5.4       27.4     13.830165 -1.630165\n",
       "7     13.2  120.2   19.6       11.6     12.001478  1.198522"
      ]
     },
     "execution_count": 166,
     "metadata": {},
     "output_type": "execute_result"
    }
   ],
   "source": [
    "train_data['fitted_value'] = reg2.fittedvalues\n",
    "train_data['residual'] = reg2.resid\n",
    "train_data.head()"
   ]
  },
  {
   "cell_type": "markdown",
   "id": "endangered-westminster",
   "metadata": {},
   "source": [
    "#### Linearity"
   ]
  },
  {
   "cell_type": "code",
   "execution_count": 167,
   "id": "adjustable-relation",
   "metadata": {},
   "outputs": [
    {
     "data": {
      "text/plain": [
       "<AxesSubplot:title={'center':'sales vs TV'}, xlabel='TV', ylabel='sales'>"
      ]
     },
     "execution_count": 167,
     "metadata": {},
     "output_type": "execute_result"
    },
    {
     "data": {
      "image/png": "[encoded data removed]",
      "text/plain": [
       "<Figure size 432x288 with 1 Axes>"
      ]
     },
     "metadata": {
      "needs_background": "light"
     },
     "output_type": "display_data"
    }
   ],
   "source": [
    "train_data.plot.scatter(x = 'TV', y = 'sales', title = 'sales vs TV')"
   ]
  },
  {
   "cell_type": "markdown",
   "id": "hidden-accreditation",
   "metadata": {},
   "source": [
    "#### Homoscedasicity"
   ]
  },
  {
   "cell_type": "code",
   "execution_count": 168,
   "id": "incomplete-cycle",
   "metadata": {},
   "outputs": [
    {
     "data": {
      "text/plain": [
       "Text(0.5, 1.0, 'Residuals vs fitted plot for homoscedasicity check')"
      ]
     },
     "execution_count": 168,
     "metadata": {},
     "output_type": "execute_result"
    },
    {
     "data": {
      "image/png": "[encoded data removed]",
      "text/plain": [
       "<Figure size 432x288 with 1 Axes>"
      ]
     },
     "metadata": {
      "needs_background": "light"
     },
     "output_type": "display_data"
    }
   ],
   "source": [
    "train_data.plot.scatter(x = 'fitted_value',y = 'residual')\n",
    "plt.xlabel\n",
    "plt.ylabel\n",
    "plt.title('Residuals vs fitted plot for homoscedasicity check')"
   ]
  },
  {
   "cell_type": "markdown",
   "id": "right-conversation",
   "metadata": {},
   "source": [
    "#### Normality"
   ]
  },
  {
   "cell_type": "code",
   "execution_count": 169,
   "id": "similar-hobby",
   "metadata": {},
   "outputs": [
    {
     "data": {
      "image/png": "[encoded data removed]",
      "text/plain": [
       "<Figure size 432x288 with 1 Axes>"
      ]
     },
     "metadata": {
      "needs_background": "light"
     },
     "output_type": "display_data"
    }
   ],
   "source": [
    "sm.qqplot(train_data['residual'], fit = True, line = 's')\n",
    "plt.show()"
   ]
  },
  {
   "cell_type": "markdown",
   "id": "owned-decline",
   "metadata": {},
   "source": [
    "#### Model Error are IID"
   ]
  },
  {
   "cell_type": "code",
   "execution_count": 170,
   "id": "dietary-endorsement",
   "metadata": {},
   "outputs": [
    {
     "name": "stderr",
     "output_type": "stream",
     "text": [
      "/home/eshaanjoshi/.local/lib/python3.9/site-packages/seaborn/distributions.py:2557: FutureWarning: `distplot` is a deprecated function and will be removed in a future version. Please adapt your code to use either `displot` (a figure-level function with similar flexibility) or `histplot` (an axes-level function for histograms).\n",
      "  warnings.warn(msg, FutureWarning)\n"
     ]
    },
    {
     "data": {
      "text/plain": [
       "<AxesSubplot:xlabel='residual', ylabel='Density'>"
      ]
     },
     "execution_count": 170,
     "metadata": {},
     "output_type": "execute_result"
    },
    {
     "data": {
      "image/png": "[encoded data removed]",
      "text/plain": [
       "<Figure size 432x288 with 1 Axes>"
      ]
     },
     "metadata": {
      "needs_background": "light"
     },
     "output_type": "display_data"
    }
   ],
   "source": [
    "sns.distplot(train_data.residual)"
   ]
  },
  {
   "cell_type": "markdown",
   "id": "young-setting",
   "metadata": {},
   "source": [
    "### Prediction on test data"
   ]
  },
  {
   "cell_type": "code",
   "execution_count": 171,
   "id": "dutch-cooling",
   "metadata": {},
   "outputs": [
    {
     "data": {
      "text/html": [
       "<div>\n",
       "<style scoped>\n",
       "    .dataframe tbody tr th:only-of-type {\n",
       "        vertical-align: middle;\n",
       "    }\n",
       "\n",
       "    .dataframe tbody tr th {\n",
       "        vertical-align: top;\n",
       "    }\n",
       "\n",
       "    .dataframe thead th {\n",
       "        text-align: right;\n",
       "    }\n",
       "</style>\n",
       "<table border=\"1\" class=\"dataframe\">\n",
       "  <thead>\n",
       "    <tr style=\"text-align: right;\">\n",
       "      <th></th>\n",
       "      <th>TV</th>\n",
       "      <th>radio</th>\n",
       "      <th>newspaper</th>\n",
       "      <th>sales</th>\n",
       "    </tr>\n",
       "  </thead>\n",
       "  <tbody>\n",
       "    <tr>\n",
       "      <th>126</th>\n",
       "      <td>7.8</td>\n",
       "      <td>38.9</td>\n",
       "      <td>50.6</td>\n",
       "      <td>6.6</td>\n",
       "    </tr>\n",
       "    <tr>\n",
       "      <th>104</th>\n",
       "      <td>238.2</td>\n",
       "      <td>34.3</td>\n",
       "      <td>5.3</td>\n",
       "      <td>20.7</td>\n",
       "    </tr>\n",
       "    <tr>\n",
       "      <th>99</th>\n",
       "      <td>135.2</td>\n",
       "      <td>41.7</td>\n",
       "      <td>45.9</td>\n",
       "      <td>17.2</td>\n",
       "    </tr>\n",
       "    <tr>\n",
       "      <th>92</th>\n",
       "      <td>217.7</td>\n",
       "      <td>33.5</td>\n",
       "      <td>59.0</td>\n",
       "      <td>19.4</td>\n",
       "    </tr>\n",
       "    <tr>\n",
       "      <th>111</th>\n",
       "      <td>241.7</td>\n",
       "      <td>38.0</td>\n",
       "      <td>23.2</td>\n",
       "      <td>21.8</td>\n",
       "    </tr>\n",
       "  </tbody>\n",
       "</table>\n",
       "</div>"
      ],
      "text/plain": [
       "        TV  radio  newspaper  sales\n",
       "126    7.8   38.9       50.6    6.6\n",
       "104  238.2   34.3        5.3   20.7\n",
       "99   135.2   41.7       45.9   17.2\n",
       "92   217.7   33.5       59.0   19.4\n",
       "111  241.7   38.0       23.2   21.8"
      ]
     },
     "execution_count": 171,
     "metadata": {},
     "output_type": "execute_result"
    }
   ],
   "source": [
    "test_data = pd.concat([x_test,y_test],axis = 1)\n",
    "test_data.head()"
   ]
  },
  {
   "cell_type": "code",
   "execution_count": 172,
   "id": "smart-halifax",
   "metadata": {},
   "outputs": [
    {
     "data": {
      "text/html": [
       "<div>\n",
       "<style scoped>\n",
       "    .dataframe tbody tr th:only-of-type {\n",
       "        vertical-align: middle;\n",
       "    }\n",
       "\n",
       "    .dataframe tbody tr th {\n",
       "        vertical-align: top;\n",
       "    }\n",
       "\n",
       "    .dataframe thead th {\n",
       "        text-align: right;\n",
       "    }\n",
       "</style>\n",
       "<table border=\"1\" class=\"dataframe\">\n",
       "  <thead>\n",
       "    <tr style=\"text-align: right;\">\n",
       "      <th></th>\n",
       "      <th>TV</th>\n",
       "      <th>radio</th>\n",
       "      <th>newspaper</th>\n",
       "      <th>sales</th>\n",
       "      <th>prediction</th>\n",
       "    </tr>\n",
       "  </thead>\n",
       "  <tbody>\n",
       "    <tr>\n",
       "      <th>126</th>\n",
       "      <td>7.8</td>\n",
       "      <td>38.9</td>\n",
       "      <td>50.6</td>\n",
       "      <td>6.6</td>\n",
       "      <td>10.483388</td>\n",
       "    </tr>\n",
       "    <tr>\n",
       "      <th>104</th>\n",
       "      <td>238.2</td>\n",
       "      <td>34.3</td>\n",
       "      <td>5.3</td>\n",
       "      <td>20.7</td>\n",
       "      <td>20.134013</td>\n",
       "    </tr>\n",
       "    <tr>\n",
       "      <th>99</th>\n",
       "      <td>135.2</td>\n",
       "      <td>41.7</td>\n",
       "      <td>45.9</td>\n",
       "      <td>17.2</td>\n",
       "      <td>16.819116</td>\n",
       "    </tr>\n",
       "    <tr>\n",
       "      <th>92</th>\n",
       "      <td>217.7</td>\n",
       "      <td>33.5</td>\n",
       "      <td>59.0</td>\n",
       "      <td>19.4</td>\n",
       "      <td>19.049170</td>\n",
       "    </tr>\n",
       "    <tr>\n",
       "      <th>111</th>\n",
       "      <td>241.7</td>\n",
       "      <td>38.0</td>\n",
       "      <td>23.2</td>\n",
       "      <td>21.8</td>\n",
       "      <td>20.985690</td>\n",
       "    </tr>\n",
       "  </tbody>\n",
       "</table>\n",
       "</div>"
      ],
      "text/plain": [
       "        TV  radio  newspaper  sales  prediction\n",
       "126    7.8   38.9       50.6    6.6   10.483388\n",
       "104  238.2   34.3        5.3   20.7   20.134013\n",
       "99   135.2   41.7       45.9   17.2   16.819116\n",
       "92   217.7   33.5       59.0   19.4   19.049170\n",
       "111  241.7   38.0       23.2   21.8   20.985690"
      ]
     },
     "execution_count": 172,
     "metadata": {},
     "output_type": "execute_result"
    }
   ],
   "source": [
    "test_data['prediction'] = reg2.predict(test_data)\n",
    "test_data.head()"
   ]
  },
  {
   "cell_type": "code",
   "execution_count": 173,
   "id": "secret-exhibition",
   "metadata": {},
   "outputs": [
    {
     "data": {
      "text/plain": [
       "10.48208"
      ]
     },
     "execution_count": 173,
     "metadata": {},
     "output_type": "execute_result"
    }
   ],
   "source": [
    "y = 2.8521 + 0.0456 * 7.8 + 0.1870 * 38.9\n",
    "y"
   ]
  },
  {
   "cell_type": "code",
   "execution_count": 174,
   "id": "hollow-mayor",
   "metadata": {},
   "outputs": [
    {
     "name": "stdout",
     "output_type": "stream",
     "text": [
      "RMSE 1.75\n"
     ]
    }
   ],
   "source": [
    "model_mse = mean_squared_error(train_data['sales'],train_data['fitted_value'])\n",
    "model_rmse = math.sqrt(model_mse)\n",
    "print('RMSE {:.3}'.format(model_rmse))"
   ]
  },
  {
   "cell_type": "code",
   "execution_count": 175,
   "id": "animated-bracket",
   "metadata": {},
   "outputs": [
    {
     "name": "stdout",
     "output_type": "stream",
     "text": [
      "RMSE 1.75\n"
     ]
    }
   ],
   "source": [
    "model_mse = mean_squared_error(train_data['sales'],train_data['fitted_value'])\n",
    "model_rmse = math.sqrt(model_mse)\n",
    "print('RMSE {:.3}'.format(model_rmse))"
   ]
  },
  {
   "cell_type": "markdown",
   "id": "integral-sydney",
   "metadata": {},
   "source": [
    "### MSE and MAE and RMSE for evaluation of Model on test data"
   ]
  },
  {
   "cell_type": "code",
   "execution_count": 176,
   "id": "victorian-feeding",
   "metadata": {},
   "outputs": [
    {
     "name": "stdout",
     "output_type": "stream",
     "text": [
      "RMSE 1.3\n"
     ]
    }
   ],
   "source": [
    "model_mse = mean_squared_error(test_data['sales'],test_data['prediction'])\n",
    "model_rmse = math.sqrt(model_mse)\n",
    "print('RMSE {:.3}'.format(model_rmse))"
   ]
  },
  {
   "cell_type": "code",
   "execution_count": 177,
   "id": "dated-cable",
   "metadata": {},
   "outputs": [
    {
     "name": "stdout",
     "output_type": "stream",
     "text": [
      "The sales if TV = 110.7 and radio = 40.6 is 15.49222\n"
     ]
    }
   ],
   "source": [
    "y = 2.8521 + 0.0456 * 110.7 + 0.1870 * 40.6\n",
    "print('The sales if TV = 110.7 and radio = 40.6 is {}'.format(y))"
   ]
  },
  {
   "cell_type": "markdown",
   "id": "looking-nigeria",
   "metadata": {},
   "source": [
    "# 4A\n",
    "Build a model of Simple Linear regression on Volcano data\n",
    "\n",
    "a. State the Hypothesis\n",
    "\n",
    "b. Write the equation of model and give interpretation\n",
    "\n",
    "c. Accuracy of Model and give interpretation\n",
    "\n",
    "d. Prediction if the waiting time is 80 minutes"
   ]
  },
  {
   "cell_type": "code",
   "execution_count": 178,
   "id": "steady-copyright",
   "metadata": {},
   "outputs": [],
   "source": [
    "df = pd.read_csv('Volcano.csv')"
   ]
  },
  {
   "cell_type": "code",
   "execution_count": 179,
   "id": "united-sunglasses",
   "metadata": {},
   "outputs": [
    {
     "data": {
      "text/html": [
       "<div>\n",
       "<style scoped>\n",
       "    .dataframe tbody tr th:only-of-type {\n",
       "        vertical-align: middle;\n",
       "    }\n",
       "\n",
       "    .dataframe tbody tr th {\n",
       "        vertical-align: top;\n",
       "    }\n",
       "\n",
       "    .dataframe thead th {\n",
       "        text-align: right;\n",
       "    }\n",
       "</style>\n",
       "<table border=\"1\" class=\"dataframe\">\n",
       "  <thead>\n",
       "    <tr style=\"text-align: right;\">\n",
       "      <th></th>\n",
       "      <th>eruptions</th>\n",
       "      <th>waiting</th>\n",
       "    </tr>\n",
       "  </thead>\n",
       "  <tbody>\n",
       "    <tr>\n",
       "      <th>count</th>\n",
       "      <td>272.000000</td>\n",
       "      <td>272.000000</td>\n",
       "    </tr>\n",
       "    <tr>\n",
       "      <th>mean</th>\n",
       "      <td>3.487783</td>\n",
       "      <td>70.897059</td>\n",
       "    </tr>\n",
       "    <tr>\n",
       "      <th>std</th>\n",
       "      <td>1.141371</td>\n",
       "      <td>13.594974</td>\n",
       "    </tr>\n",
       "    <tr>\n",
       "      <th>min</th>\n",
       "      <td>1.600000</td>\n",
       "      <td>43.000000</td>\n",
       "    </tr>\n",
       "    <tr>\n",
       "      <th>25%</th>\n",
       "      <td>2.162750</td>\n",
       "      <td>58.000000</td>\n",
       "    </tr>\n",
       "    <tr>\n",
       "      <th>50%</th>\n",
       "      <td>4.000000</td>\n",
       "      <td>76.000000</td>\n",
       "    </tr>\n",
       "    <tr>\n",
       "      <th>75%</th>\n",
       "      <td>4.454250</td>\n",
       "      <td>82.000000</td>\n",
       "    </tr>\n",
       "    <tr>\n",
       "      <th>max</th>\n",
       "      <td>5.100000</td>\n",
       "      <td>96.000000</td>\n",
       "    </tr>\n",
       "  </tbody>\n",
       "</table>\n",
       "</div>"
      ],
      "text/plain": [
       "        eruptions     waiting\n",
       "count  272.000000  272.000000\n",
       "mean     3.487783   70.897059\n",
       "std      1.141371   13.594974\n",
       "min      1.600000   43.000000\n",
       "25%      2.162750   58.000000\n",
       "50%      4.000000   76.000000\n",
       "75%      4.454250   82.000000\n",
       "max      5.100000   96.000000"
      ]
     },
     "execution_count": 179,
     "metadata": {},
     "output_type": "execute_result"
    }
   ],
   "source": [
    "df.describe()"
   ]
  },
  {
   "cell_type": "markdown",
   "id": "decent-local",
   "metadata": {},
   "source": [
    "### Identify and Treament of Outlier"
   ]
  },
  {
   "cell_type": "code",
   "execution_count": 180,
   "id": "worse-adolescent",
   "metadata": {},
   "outputs": [
    {
     "data": {
      "text/plain": [
       "<AxesSubplot:ylabel='waiting'>"
      ]
     },
     "execution_count": 180,
     "metadata": {},
     "output_type": "execute_result"
    },
    {
     "data": {
      "image/png": "[encoded data removed]",
      "text/plain": [
       "<Figure size 432x288 with 1 Axes>"
      ]
     },
     "metadata": {
      "needs_background": "light"
     },
     "output_type": "display_data"
    }
   ],
   "source": [
    "sns.boxplot( y = df['waiting'])"
   ]
  },
  {
   "cell_type": "code",
   "execution_count": 181,
   "id": "written-great",
   "metadata": {},
   "outputs": [
    {
     "data": {
      "text/plain": [
       "<AxesSubplot:ylabel='eruptions'>"
      ]
     },
     "execution_count": 181,
     "metadata": {},
     "output_type": "execute_result"
    },
    {
     "data": {
      "image/png": "[encoded data removed]",
      "text/plain": [
       "<Figure size 432x288 with 1 Axes>"
      ]
     },
     "metadata": {
      "needs_background": "light"
     },
     "output_type": "display_data"
    }
   ],
   "source": [
    "sns.boxplot(y = df['eruptions'])"
   ]
  },
  {
   "cell_type": "markdown",
   "id": "talented-andrews",
   "metadata": {},
   "source": [
    "#### Data partition"
   ]
  },
  {
   "cell_type": "code",
   "execution_count": 182,
   "id": "labeled-alert",
   "metadata": {},
   "outputs": [],
   "source": [
    "x = df['waiting']\n",
    "y = df['eruptions']\n",
    "x_train, x_test, y_train, y_test = train_test_split(x,y,train_size = 0.8, random_state = 100)\n",
    "train_data = pd.concat([x_train,y_train],axis = 1)"
   ]
  },
  {
   "cell_type": "markdown",
   "id": "casual-testimony",
   "metadata": {},
   "source": [
    "#### Correaltion Matrix"
   ]
  },
  {
   "cell_type": "code",
   "execution_count": 183,
   "id": "modern-leonard",
   "metadata": {},
   "outputs": [
    {
     "data": {
      "text/plain": [
       "<AxesSubplot:title={'center':'volcano'}, xlabel='waiting', ylabel='eruptions'>"
      ]
     },
     "execution_count": 183,
     "metadata": {},
     "output_type": "execute_result"
    },
    {
     "data": {
      "image/png": "[encoded data removed]",
      "text/plain": [
       "<Figure size 432x288 with 1 Axes>"
      ]
     },
     "metadata": {
      "needs_background": "light"
     },
     "output_type": "display_data"
    }
   ],
   "source": [
    "train_data.plot.scatter(x = 'waiting', y = 'eruptions', title = 'volcano')"
   ]
  },
  {
   "cell_type": "code",
   "execution_count": 184,
   "id": "quality-north",
   "metadata": {},
   "outputs": [
    {
     "data": {
      "text/html": [
       "<div>\n",
       "<style scoped>\n",
       "    .dataframe tbody tr th:only-of-type {\n",
       "        vertical-align: middle;\n",
       "    }\n",
       "\n",
       "    .dataframe tbody tr th {\n",
       "        vertical-align: top;\n",
       "    }\n",
       "\n",
       "    .dataframe thead th {\n",
       "        text-align: right;\n",
       "    }\n",
       "</style>\n",
       "<table border=\"1\" class=\"dataframe\">\n",
       "  <thead>\n",
       "    <tr style=\"text-align: right;\">\n",
       "      <th></th>\n",
       "      <th>waiting</th>\n",
       "      <th>eruptions</th>\n",
       "    </tr>\n",
       "  </thead>\n",
       "  <tbody>\n",
       "    <tr>\n",
       "      <th>waiting</th>\n",
       "      <td>1.000000</td>\n",
       "      <td>0.900857</td>\n",
       "    </tr>\n",
       "    <tr>\n",
       "      <th>eruptions</th>\n",
       "      <td>0.900857</td>\n",
       "      <td>1.000000</td>\n",
       "    </tr>\n",
       "  </tbody>\n",
       "</table>\n",
       "</div>"
      ],
      "text/plain": [
       "            waiting  eruptions\n",
       "waiting    1.000000   0.900857\n",
       "eruptions  0.900857   1.000000"
      ]
     },
     "execution_count": 184,
     "metadata": {},
     "output_type": "execute_result"
    }
   ],
   "source": [
    "train_data.corr()"
   ]
  },
  {
   "cell_type": "code",
   "execution_count": 185,
   "id": "accompanied-weapon",
   "metadata": {},
   "outputs": [
    {
     "data": {
      "text/plain": [
       "<AxesSubplot:>"
      ]
     },
     "execution_count": 185,
     "metadata": {},
     "output_type": "execute_result"
    },
    {
     "data": {
      "image/png": "[encoded data removed]",
      "text/plain": [
       "<Figure size 432x288 with 2 Axes>"
      ]
     },
     "metadata": {
      "needs_background": "light"
     },
     "output_type": "display_data"
    }
   ],
   "source": [
    "sns.heatmap(train_data.corr(), annot = True)"
   ]
  },
  {
   "cell_type": "markdown",
   "id": "angry-price",
   "metadata": {},
   "source": [
    "### Hypothesis\n",
    "- Ho = There is no relationship between the waiting and eruptions\n",
    "- H1 = There is a relationship between the waiting and eruptions"
   ]
  },
  {
   "cell_type": "code",
   "execution_count": 186,
   "id": "acute-charles",
   "metadata": {
    "scrolled": true
   },
   "outputs": [
    {
     "data": {
      "text/html": [
       "<table class=\"simpletable\">\n",
       "<caption>OLS Regression Results</caption>\n",
       "<tr>\n",
       "  <th>Dep. Variable:</th>        <td>eruptions</td>    <th>  R-squared:         </th> <td>   0.812</td>\n",
       "</tr>\n",
       "<tr>\n",
       "  <th>Model:</th>                   <td>OLS</td>       <th>  Adj. R-squared:    </th> <td>   0.811</td>\n",
       "</tr>\n",
       "<tr>\n",
       "  <th>Method:</th>             <td>Least Squares</td>  <th>  F-statistic:       </th> <td>   925.9</td>\n",
       "</tr>\n",
       "<tr>\n",
       "  <th>Date:</th>             <td>Wed, 02 Jun 2021</td> <th>  Prob (F-statistic):</th> <td>7.33e-80</td>\n",
       "</tr>\n",
       "<tr>\n",
       "  <th>Time:</th>                 <td>22:26:19</td>     <th>  Log-Likelihood:    </th> <td> -154.92</td>\n",
       "</tr>\n",
       "<tr>\n",
       "  <th>No. Observations:</th>      <td>   217</td>      <th>  AIC:               </th> <td>   313.8</td>\n",
       "</tr>\n",
       "<tr>\n",
       "  <th>Df Residuals:</th>          <td>   215</td>      <th>  BIC:               </th> <td>   320.6</td>\n",
       "</tr>\n",
       "<tr>\n",
       "  <th>Df Model:</th>              <td>     1</td>      <th>                     </th>     <td> </td>   \n",
       "</tr>\n",
       "<tr>\n",
       "  <th>Covariance Type:</th>      <td>nonrobust</td>    <th>                     </th>     <td> </td>   \n",
       "</tr>\n",
       "</table>\n",
       "<table class=\"simpletable\">\n",
       "<tr>\n",
       "      <td></td>         <th>coef</th>     <th>std err</th>      <th>t</th>      <th>P>|t|</th>  <th>[0.025</th>    <th>0.975]</th>  \n",
       "</tr>\n",
       "<tr>\n",
       "  <th>Intercept</th> <td>   -1.9783</td> <td>    0.184</td> <td>  -10.731</td> <td> 0.000</td> <td>   -2.342</td> <td>   -1.615</td>\n",
       "</tr>\n",
       "<tr>\n",
       "  <th>waiting</th>   <td>    0.0772</td> <td>    0.003</td> <td>   30.428</td> <td> 0.000</td> <td>    0.072</td> <td>    0.082</td>\n",
       "</tr>\n",
       "</table>\n",
       "<table class=\"simpletable\">\n",
       "<tr>\n",
       "  <th>Omnibus:</th>       <td> 5.136</td> <th>  Durbin-Watson:     </th> <td>   2.221</td>\n",
       "</tr>\n",
       "<tr>\n",
       "  <th>Prob(Omnibus):</th> <td> 0.077</td> <th>  Jarque-Bera (JB):  </th> <td>   4.099</td>\n",
       "</tr>\n",
       "<tr>\n",
       "  <th>Skew:</th>          <td>-0.230</td> <th>  Prob(JB):          </th> <td>   0.129</td>\n",
       "</tr>\n",
       "<tr>\n",
       "  <th>Kurtosis:</th>      <td> 2.509</td> <th>  Cond. No.          </th> <td>    397.</td>\n",
       "</tr>\n",
       "</table><br/><br/>Notes:<br/>[1] Standard Errors assume that the covariance matrix of the errors is correctly specified."
      ],
      "text/plain": [
       "<class 'statsmodels.iolib.summary.Summary'>\n",
       "\"\"\"\n",
       "                            OLS Regression Results                            \n",
       "==============================================================================\n",
       "Dep. Variable:              eruptions   R-squared:                       0.812\n",
       "Model:                            OLS   Adj. R-squared:                  0.811\n",
       "Method:                 Least Squares   F-statistic:                     925.9\n",
       "Date:                Wed, 02 Jun 2021   Prob (F-statistic):           7.33e-80\n",
       "Time:                        22:26:19   Log-Likelihood:                -154.92\n",
       "No. Observations:                 217   AIC:                             313.8\n",
       "Df Residuals:                     215   BIC:                             320.6\n",
       "Df Model:                           1                                         \n",
       "Covariance Type:            nonrobust                                         \n",
       "==============================================================================\n",
       "                 coef    std err          t      P>|t|      [0.025      0.975]\n",
       "------------------------------------------------------------------------------\n",
       "Intercept     -1.9783      0.184    -10.731      0.000      -2.342      -1.615\n",
       "waiting        0.0772      0.003     30.428      0.000       0.072       0.082\n",
       "==============================================================================\n",
       "Omnibus:                        5.136   Durbin-Watson:                   2.221\n",
       "Prob(Omnibus):                  0.077   Jarque-Bera (JB):                4.099\n",
       "Skew:                          -0.230   Prob(JB):                        0.129\n",
       "Kurtosis:                       2.509   Cond. No.                         397.\n",
       "==============================================================================\n",
       "\n",
       "Notes:\n",
       "[1] Standard Errors assume that the covariance matrix of the errors is correctly specified.\n",
       "\"\"\""
      ]
     },
     "execution_count": 186,
     "metadata": {},
     "output_type": "execute_result"
    }
   ],
   "source": [
    "reg = smf.ols('eruptions ~ waiting',data = train_data).fit()\n",
    "reg.summary()"
   ]
  },
  {
   "cell_type": "markdown",
   "id": "sweet-enclosure",
   "metadata": {},
   "source": [
    "### Conclusion\n",
    "- We reject Ho\n",
    "- There is a relationship between waiting and eruptions"
   ]
  },
  {
   "cell_type": "markdown",
   "id": "metric-vision",
   "metadata": {},
   "source": [
    "### Assumptions of Model\n",
    "- Linearity\n",
    "- Normality\n",
    "- Homoscedasicity\n",
    "- Model error has to be independently Distributed"
   ]
  },
  {
   "cell_type": "markdown",
   "id": "announced-illinois",
   "metadata": {},
   "source": [
    "b.\n",
    "\n",
    "y = -1.9783 + 0.0772 * value\n",
    "\n",
    "c.\n",
    "\n",
    "Accuracy of the model is 81.2%"
   ]
  },
  {
   "cell_type": "markdown",
   "id": "technical-transparency",
   "metadata": {},
   "source": [
    "#### Linearity"
   ]
  },
  {
   "cell_type": "code",
   "execution_count": 187,
   "id": "removed-stretch",
   "metadata": {},
   "outputs": [
    {
     "data": {
      "text/plain": [
       "<AxesSubplot:title={'center':'Volcano'}, xlabel='waiting', ylabel='eruptions'>"
      ]
     },
     "execution_count": 187,
     "metadata": {},
     "output_type": "execute_result"
    },
    {
     "data": {
      "image/png": "[encoded data removed]",
      "text/plain": [
       "<Figure size 432x288 with 1 Axes>"
      ]
     },
     "metadata": {
      "needs_background": "light"
     },
     "output_type": "display_data"
    }
   ],
   "source": [
    "train_data.plot.scatter(x = 'waiting', y = 'eruptions', title = 'Volcano')"
   ]
  },
  {
   "cell_type": "code",
   "execution_count": 188,
   "id": "framed-drive",
   "metadata": {},
   "outputs": [
    {
     "data": {
      "text/html": [
       "<div>\n",
       "<style scoped>\n",
       "    .dataframe tbody tr th:only-of-type {\n",
       "        vertical-align: middle;\n",
       "    }\n",
       "\n",
       "    .dataframe tbody tr th {\n",
       "        vertical-align: top;\n",
       "    }\n",
       "\n",
       "    .dataframe thead th {\n",
       "        text-align: right;\n",
       "    }\n",
       "</style>\n",
       "<table border=\"1\" class=\"dataframe\">\n",
       "  <thead>\n",
       "    <tr style=\"text-align: right;\">\n",
       "      <th></th>\n",
       "      <th>waiting</th>\n",
       "      <th>eruptions</th>\n",
       "      <th>fitted_value</th>\n",
       "      <th>residual</th>\n",
       "    </tr>\n",
       "  </thead>\n",
       "  <tbody>\n",
       "    <tr>\n",
       "      <th>111</th>\n",
       "      <td>59</td>\n",
       "      <td>2.300</td>\n",
       "      <td>2.578957</td>\n",
       "      <td>-0.278957</td>\n",
       "    </tr>\n",
       "    <tr>\n",
       "      <th>190</th>\n",
       "      <td>81</td>\n",
       "      <td>4.800</td>\n",
       "      <td>4.278259</td>\n",
       "      <td>0.521741</td>\n",
       "    </tr>\n",
       "    <tr>\n",
       "      <th>29</th>\n",
       "      <td>79</td>\n",
       "      <td>4.433</td>\n",
       "      <td>4.123777</td>\n",
       "      <td>0.309223</td>\n",
       "    </tr>\n",
       "    <tr>\n",
       "      <th>99</th>\n",
       "      <td>82</td>\n",
       "      <td>4.900</td>\n",
       "      <td>4.355500</td>\n",
       "      <td>0.544500</td>\n",
       "    </tr>\n",
       "    <tr>\n",
       "      <th>207</th>\n",
       "      <td>84</td>\n",
       "      <td>3.850</td>\n",
       "      <td>4.509982</td>\n",
       "      <td>-0.659982</td>\n",
       "    </tr>\n",
       "  </tbody>\n",
       "</table>\n",
       "</div>"
      ],
      "text/plain": [
       "     waiting  eruptions  fitted_value  residual\n",
       "111       59      2.300      2.578957 -0.278957\n",
       "190       81      4.800      4.278259  0.521741\n",
       "29        79      4.433      4.123777  0.309223\n",
       "99        82      4.900      4.355500  0.544500\n",
       "207       84      3.850      4.509982 -0.659982"
      ]
     },
     "execution_count": 188,
     "metadata": {},
     "output_type": "execute_result"
    }
   ],
   "source": [
    "train_data['fitted_value'] = reg.fittedvalues\n",
    "train_data['residual'] = reg.resid\n",
    "train_data.head()"
   ]
  },
  {
   "cell_type": "markdown",
   "id": "labeled-accessory",
   "metadata": {},
   "source": [
    "#### Homoscedasicity"
   ]
  },
  {
   "cell_type": "code",
   "execution_count": 189,
   "id": "amended-regular",
   "metadata": {},
   "outputs": [
    {
     "data": {
      "text/plain": [
       "Text(0.5, 1.0, 'homoscedasicity check')"
      ]
     },
     "execution_count": 189,
     "metadata": {},
     "output_type": "execute_result"
    },
    {
     "data": {
      "image/png": "[encoded data removed]",
      "text/plain": [
       "<Figure size 432x288 with 1 Axes>"
      ]
     },
     "metadata": {
      "needs_background": "light"
     },
     "output_type": "display_data"
    }
   ],
   "source": [
    "train_data.plot.scatter(x = 'fitted_value', y = 'residual')\n",
    "plt.xlabel('fitted values')\n",
    "plt.ylabel('residuals')\n",
    "plt.title('homoscedasicity check')"
   ]
  },
  {
   "cell_type": "markdown",
   "id": "visible-trinity",
   "metadata": {},
   "source": [
    "#### Normality"
   ]
  },
  {
   "cell_type": "code",
   "execution_count": 190,
   "id": "stylish-pharmacy",
   "metadata": {},
   "outputs": [
    {
     "data": {
      "image/png": "[encoded data removed]",
      "text/plain": [
       "<Figure size 432x288 with 1 Axes>"
      ]
     },
     "metadata": {
      "needs_background": "light"
     },
     "output_type": "display_data"
    }
   ],
   "source": [
    "sm.qqplot(train_data['residual'],fit = True, line = 's')\n",
    "plt.show()"
   ]
  },
  {
   "cell_type": "markdown",
   "id": "honest-examination",
   "metadata": {},
   "source": [
    "#### Model error are IID"
   ]
  },
  {
   "cell_type": "code",
   "execution_count": 191,
   "id": "adolescent-hawaiian",
   "metadata": {},
   "outputs": [
    {
     "name": "stderr",
     "output_type": "stream",
     "text": [
      "/home/eshaanjoshi/.local/lib/python3.9/site-packages/seaborn/distributions.py:2557: FutureWarning: `distplot` is a deprecated function and will be removed in a future version. Please adapt your code to use either `displot` (a figure-level function with similar flexibility) or `histplot` (an axes-level function for histograms).\n",
      "  warnings.warn(msg, FutureWarning)\n"
     ]
    },
    {
     "data": {
      "text/plain": [
       "<AxesSubplot:xlabel='residual', ylabel='Density'>"
      ]
     },
     "execution_count": 191,
     "metadata": {},
     "output_type": "execute_result"
    },
    {
     "data": {
      "image/png": "[encoded data removed]",
      "text/plain": [
       "<Figure size 432x288 with 1 Axes>"
      ]
     },
     "metadata": {
      "needs_background": "light"
     },
     "output_type": "display_data"
    }
   ],
   "source": [
    "sns.distplot(train_data.residual)"
   ]
  },
  {
   "cell_type": "code",
   "execution_count": 192,
   "id": "younger-appointment",
   "metadata": {},
   "outputs": [],
   "source": [
    "test_data = pd.concat([x_test,y_test],axis = 1)"
   ]
  },
  {
   "cell_type": "code",
   "execution_count": 193,
   "id": "pleasant-public",
   "metadata": {},
   "outputs": [
    {
     "data": {
      "text/html": [
       "<div>\n",
       "<style scoped>\n",
       "    .dataframe tbody tr th:only-of-type {\n",
       "        vertical-align: middle;\n",
       "    }\n",
       "\n",
       "    .dataframe tbody tr th {\n",
       "        vertical-align: top;\n",
       "    }\n",
       "\n",
       "    .dataframe thead th {\n",
       "        text-align: right;\n",
       "    }\n",
       "</style>\n",
       "<table border=\"1\" class=\"dataframe\">\n",
       "  <thead>\n",
       "    <tr style=\"text-align: right;\">\n",
       "      <th></th>\n",
       "      <th>waiting</th>\n",
       "      <th>eruptions</th>\n",
       "      <th>predicted</th>\n",
       "    </tr>\n",
       "  </thead>\n",
       "  <tbody>\n",
       "    <tr>\n",
       "      <th>59</th>\n",
       "      <td>81</td>\n",
       "      <td>4.317</td>\n",
       "      <td>4.278259</td>\n",
       "    </tr>\n",
       "    <tr>\n",
       "      <th>139</th>\n",
       "      <td>79</td>\n",
       "      <td>3.733</td>\n",
       "      <td>4.123777</td>\n",
       "    </tr>\n",
       "    <tr>\n",
       "      <th>219</th>\n",
       "      <td>76</td>\n",
       "      <td>4.150</td>\n",
       "      <td>3.892054</td>\n",
       "    </tr>\n",
       "    <tr>\n",
       "      <th>134</th>\n",
       "      <td>46</td>\n",
       "      <td>1.833</td>\n",
       "      <td>1.574824</td>\n",
       "    </tr>\n",
       "    <tr>\n",
       "      <th>189</th>\n",
       "      <td>55</td>\n",
       "      <td>2.183</td>\n",
       "      <td>2.269993</td>\n",
       "    </tr>\n",
       "  </tbody>\n",
       "</table>\n",
       "</div>"
      ],
      "text/plain": [
       "     waiting  eruptions  predicted\n",
       "59        81      4.317   4.278259\n",
       "139       79      3.733   4.123777\n",
       "219       76      4.150   3.892054\n",
       "134       46      1.833   1.574824\n",
       "189       55      2.183   2.269993"
      ]
     },
     "execution_count": 193,
     "metadata": {},
     "output_type": "execute_result"
    }
   ],
   "source": [
    "test_data['predicted'] = reg.predict(test_data)\n",
    "test_data.head()"
   ]
  },
  {
   "cell_type": "markdown",
   "id": "hired-edward",
   "metadata": {},
   "source": [
    "### MSE and MAE and RMSE for evaluation of Model on train data"
   ]
  },
  {
   "cell_type": "code",
   "execution_count": 194,
   "id": "protecting-census",
   "metadata": {},
   "outputs": [
    {
     "name": "stdout",
     "output_type": "stream",
     "text": [
      "RMSE 0.494\n"
     ]
    }
   ],
   "source": [
    "model_mse = mean_squared_error(train_data['eruptions'], train_data['fitted_value'])\n",
    "model_rmse = math.sqrt(model_mse)\n",
    "print('RMSE {:.3}'.format(model_rmse))"
   ]
  },
  {
   "cell_type": "markdown",
   "id": "automotive-browse",
   "metadata": {},
   "source": [
    "### MSE and MAE and RMSE for evaluation of Model on test data"
   ]
  },
  {
   "cell_type": "code",
   "execution_count": 195,
   "id": "electrical-racing",
   "metadata": {},
   "outputs": [
    {
     "name": "stdout",
     "output_type": "stream",
     "text": [
      "RMSE 0.5\n"
     ]
    }
   ],
   "source": [
    "model_mse = mean_squared_error(test_data['eruptions'], test_data['predicted'])\n",
    "model_rmse = math.sqrt(model_mse)\n",
    "print('RMSE {:.3}'.format(model_rmse))"
   ]
  },
  {
   "cell_type": "markdown",
   "id": "manufactured-agenda",
   "metadata": {},
   "source": [
    "### Prediction if the waiting time is 80 minutes"
   ]
  },
  {
   "cell_type": "code",
   "execution_count": 196,
   "id": "sensitive-model",
   "metadata": {},
   "outputs": [
    {
     "name": "stdout",
     "output_type": "stream",
     "text": [
      "The eruption time if waiting time is 80 minutes is 4.1977\n"
     ]
    }
   ],
   "source": [
    "y = -1.9783 + 0.0772 * 80\n",
    "print('The eruption time if waiting time is 80 minutes is {}'.format(y))"
   ]
  },
  {
   "cell_type": "markdown",
   "id": "metric-underwear",
   "metadata": {},
   "source": [
    "# 4B.\n",
    "Perform Multiple Linear regression on mileage of car\n",
    "\n",
    "a. Box plot and Missing value\n",
    "\n",
    "b. Treatment of Outlier using Winsorizing technique\n",
    "\n",
    "c. Correlation - Scatter plot and Matrix and also give interpretation\n",
    "\n",
    "d. Check Multi-collinearity using VIF and also give interpretation"
   ]
  },
  {
   "cell_type": "code",
   "execution_count": 3,
   "id": "usual-bumper",
   "metadata": {},
   "outputs": [],
   "source": [
    "df = pd.read_csv('mtcars.csv')"
   ]
  },
  {
   "cell_type": "code",
   "execution_count": 4,
   "id": "infectious-minister",
   "metadata": {},
   "outputs": [
    {
     "name": "stdout",
     "output_type": "stream",
     "text": [
      "<class 'pandas.core.frame.DataFrame'>\n",
      "RangeIndex: 32 entries, 0 to 31\n",
      "Data columns (total 4 columns):\n",
      " #   Column  Non-Null Count  Dtype  \n",
      "---  ------  --------------  -----  \n",
      " 0   mpg     32 non-null     float64\n",
      " 1   wt      32 non-null     float64\n",
      " 2   qsec    32 non-null     float64\n",
      " 3   am      32 non-null     int64  \n",
      "dtypes: float64(3), int64(1)\n",
      "memory usage: 1.1 KB\n"
     ]
    }
   ],
   "source": [
    "df.info()"
   ]
  },
  {
   "cell_type": "markdown",
   "id": "united-norway",
   "metadata": {},
   "source": [
    "### Indetifying and Treament of Outliers"
   ]
  },
  {
   "cell_type": "code",
   "execution_count": 5,
   "id": "ahead-variable",
   "metadata": {},
   "outputs": [
    {
     "data": {
      "text/plain": [
       "<AxesSubplot:ylabel='mpg'>"
      ]
     },
     "execution_count": 5,
     "metadata": {},
     "output_type": "execute_result"
    },
    {
     "data": {
      "image/png": "[encoded data removed]",
      "text/plain": [
       "<Figure size 432x288 with 1 Axes>"
      ]
     },
     "metadata": {
      "needs_background": "light"
     },
     "output_type": "display_data"
    }
   ],
   "source": [
    "sns.boxplot(y = df['mpg'])"
   ]
  },
  {
   "cell_type": "code",
   "execution_count": 6,
   "id": "south-bosnia",
   "metadata": {},
   "outputs": [
    {
     "data": {
      "text/plain": [
       "<AxesSubplot:ylabel='wt'>"
      ]
     },
     "execution_count": 6,
     "metadata": {},
     "output_type": "execute_result"
    },
    {
     "data": {
      "image/png": "[encoded data removed]",
      "text/plain": [
       "<Figure size 432x288 with 1 Axes>"
      ]
     },
     "metadata": {
      "needs_background": "light"
     },
     "output_type": "display_data"
    }
   ],
   "source": [
    "sns.boxplot(y = df['wt'])"
   ]
  },
  {
   "cell_type": "code",
   "execution_count": 7,
   "id": "baking-yorkshire",
   "metadata": {},
   "outputs": [
    {
     "data": {
      "text/plain": [
       "<AxesSubplot:ylabel='qsec'>"
      ]
     },
     "execution_count": 7,
     "metadata": {},
     "output_type": "execute_result"
    },
    {
     "data": {
      "image/png": "[encoded data removed]",
      "text/plain": [
       "<Figure size 432x288 with 1 Axes>"
      ]
     },
     "metadata": {
      "needs_background": "light"
     },
     "output_type": "display_data"
    }
   ],
   "source": [
    "sns.boxplot(y = df['qsec'])"
   ]
  },
  {
   "cell_type": "code",
   "execution_count": 8,
   "id": "varied-pottery",
   "metadata": {},
   "outputs": [
    {
     "data": {
      "text/plain": [
       "<AxesSubplot:ylabel='am'>"
      ]
     },
     "execution_count": 8,
     "metadata": {},
     "output_type": "execute_result"
    },
    {
     "data": {
      "image/png": "[encoded data removed]",
      "text/plain": [
       "<Figure size 432x288 with 1 Axes>"
      ]
     },
     "metadata": {
      "needs_background": "light"
     },
     "output_type": "display_data"
    }
   ],
   "source": [
    "sns.boxplot(y = df['am'])"
   ]
  },
  {
   "cell_type": "code",
   "execution_count": 9,
   "id": "earned-dynamics",
   "metadata": {},
   "outputs": [],
   "source": [
    "q1_mpg = df['mpg'].quantile(0.25)\n",
    "q3_mpg = df['mpg'].quantile(0.75)\n",
    "iqr_mpg = q3_mpg - q1_mpg\n",
    "low_mpg = q1_mpg - 1.5 * iqr_mpg\n",
    "high_mpg = q3_mpg + 1.5 * iqr_mpg"
   ]
  },
  {
   "cell_type": "code",
   "execution_count": 11,
   "id": "serial-paintball",
   "metadata": {},
   "outputs": [],
   "source": [
    "q1_qsec = df['qsec'].quantile(0.25)\n",
    "q3_qsec = df['qsec'].quantile(0.75)\n",
    "iqr_qsec = q3_qsec - q1_qsec\n",
    "low_qsec = q1_qsec - 1.5 * iqr_qsec\n",
    "high_qsec = q3_qsec + 1.5 * iqr_qsec"
   ]
  },
  {
   "cell_type": "code",
   "execution_count": 12,
   "id": "likely-association",
   "metadata": {},
   "outputs": [],
   "source": [
    "q1_wt = df['wt'].quantile(0.25)\n",
    "q3_wt = df['wt'].quantile(0.75)\n",
    "iqr_wt = q3_wt - q1_wt\n",
    "low_wt = q1_wt - 1.5 * iqr_wt\n",
    "high_wt = q3_wt + 1.5 * iqr_wt"
   ]
  },
  {
   "cell_type": "code",
   "execution_count": 13,
   "id": "successful-winter",
   "metadata": {},
   "outputs": [],
   "source": [
    "df['mpg'] = np.where(df['mpg'] > high_mpg,high_mpg,df['mpg'])\n",
    "df['qsec'] = np.where(df['qsec'] > high_qsec, np.median(df['qsec']),df['qsec'])\n",
    "df['wt'] = np.where(df['wt'] > high_wt, np.median(df['wt']),df['wt'])"
   ]
  },
  {
   "cell_type": "code",
   "execution_count": 14,
   "id": "classified-speaker",
   "metadata": {},
   "outputs": [
    {
     "data": {
      "text/plain": [
       "<AxesSubplot:ylabel='mpg'>"
      ]
     },
     "execution_count": 14,
     "metadata": {},
     "output_type": "execute_result"
    },
    {
     "data": {
      "image/png": "[encoded data removed]",
      "text/plain": [
       "<Figure size 432x288 with 1 Axes>"
      ]
     },
     "metadata": {
      "needs_background": "light"
     },
     "output_type": "display_data"
    }
   ],
   "source": [
    "sns.boxplot(y = df['mpg'])"
   ]
  },
  {
   "cell_type": "code",
   "execution_count": 16,
   "id": "monetary-translator",
   "metadata": {},
   "outputs": [
    {
     "data": {
      "text/plain": [
       "<AxesSubplot:ylabel='qsec'>"
      ]
     },
     "execution_count": 16,
     "metadata": {},
     "output_type": "execute_result"
    },
    {
     "data": {
      "image/png": "[encoded data removed]",
      "text/plain": [
       "<Figure size 432x288 with 1 Axes>"
      ]
     },
     "metadata": {
      "needs_background": "light"
     },
     "output_type": "display_data"
    }
   ],
   "source": [
    "sns.boxplot(y = df['qsec'])"
   ]
  },
  {
   "cell_type": "code",
   "execution_count": 17,
   "id": "material-cutting",
   "metadata": {},
   "outputs": [
    {
     "data": {
      "text/plain": [
       "<AxesSubplot:ylabel='wt'>"
      ]
     },
     "execution_count": 17,
     "metadata": {},
     "output_type": "execute_result"
    },
    {
     "data": {
      "image/png": "[encoded data removed]",
      "text/plain": [
       "<Figure size 432x288 with 1 Axes>"
      ]
     },
     "metadata": {
      "needs_background": "light"
     },
     "output_type": "display_data"
    }
   ],
   "source": [
    "sns.boxplot(y = df['wt'])"
   ]
  },
  {
   "cell_type": "markdown",
   "id": "serial-jimmy",
   "metadata": {},
   "source": [
    "### Splitting the data in training and test set"
   ]
  },
  {
   "cell_type": "code",
   "execution_count": 19,
   "id": "interim-cover",
   "metadata": {},
   "outputs": [
    {
     "data": {
      "text/html": [
       "<div>\n",
       "<style scoped>\n",
       "    .dataframe tbody tr th:only-of-type {\n",
       "        vertical-align: middle;\n",
       "    }\n",
       "\n",
       "    .dataframe tbody tr th {\n",
       "        vertical-align: top;\n",
       "    }\n",
       "\n",
       "    .dataframe thead th {\n",
       "        text-align: right;\n",
       "    }\n",
       "</style>\n",
       "<table border=\"1\" class=\"dataframe\">\n",
       "  <thead>\n",
       "    <tr style=\"text-align: right;\">\n",
       "      <th></th>\n",
       "      <th>mpg</th>\n",
       "      <th>wt</th>\n",
       "      <th>qsec</th>\n",
       "      <th>am</th>\n",
       "    </tr>\n",
       "  </thead>\n",
       "  <tbody>\n",
       "    <tr>\n",
       "      <th>17</th>\n",
       "      <td>32.4</td>\n",
       "      <td>2.20</td>\n",
       "      <td>19.47</td>\n",
       "      <td>1</td>\n",
       "    </tr>\n",
       "    <tr>\n",
       "      <th>6</th>\n",
       "      <td>14.3</td>\n",
       "      <td>3.57</td>\n",
       "      <td>15.84</td>\n",
       "      <td>0</td>\n",
       "    </tr>\n",
       "    <tr>\n",
       "      <th>9</th>\n",
       "      <td>19.2</td>\n",
       "      <td>3.44</td>\n",
       "      <td>18.30</td>\n",
       "      <td>0</td>\n",
       "    </tr>\n",
       "    <tr>\n",
       "      <th>0</th>\n",
       "      <td>21.0</td>\n",
       "      <td>2.62</td>\n",
       "      <td>16.46</td>\n",
       "      <td>1</td>\n",
       "    </tr>\n",
       "    <tr>\n",
       "      <th>30</th>\n",
       "      <td>15.0</td>\n",
       "      <td>3.57</td>\n",
       "      <td>14.60</td>\n",
       "      <td>1</td>\n",
       "    </tr>\n",
       "  </tbody>\n",
       "</table>\n",
       "</div>"
      ],
      "text/plain": [
       "     mpg    wt   qsec  am\n",
       "17  32.4  2.20  19.47   1\n",
       "6   14.3  3.57  15.84   0\n",
       "9   19.2  3.44  18.30   0\n",
       "0   21.0  2.62  16.46   1\n",
       "30  15.0  3.57  14.60   1"
      ]
     },
     "execution_count": 19,
     "metadata": {},
     "output_type": "execute_result"
    }
   ],
   "source": [
    "x = df.drop(['mpg'],axis = 1)\n",
    "y = df['mpg']\n",
    "x_train,x_test,y_train,y_test = train_test_split(x,y,train_size = 0.8, random_state = 100)\n",
    "train_data = pd.concat([y_train,x_train],axis = 1)\n",
    "train_data.head()"
   ]
  },
  {
   "cell_type": "markdown",
   "id": "vital-oxygen",
   "metadata": {},
   "source": [
    "### Correlation Matrix"
   ]
  },
  {
   "cell_type": "code",
   "execution_count": 20,
   "id": "handy-efficiency",
   "metadata": {},
   "outputs": [
    {
     "data": {
      "text/html": [
       "<div>\n",
       "<style scoped>\n",
       "    .dataframe tbody tr th:only-of-type {\n",
       "        vertical-align: middle;\n",
       "    }\n",
       "\n",
       "    .dataframe tbody tr th {\n",
       "        vertical-align: top;\n",
       "    }\n",
       "\n",
       "    .dataframe thead th {\n",
       "        text-align: right;\n",
       "    }\n",
       "</style>\n",
       "<table border=\"1\" class=\"dataframe\">\n",
       "  <thead>\n",
       "    <tr style=\"text-align: right;\">\n",
       "      <th></th>\n",
       "      <th>mpg</th>\n",
       "      <th>wt</th>\n",
       "      <th>qsec</th>\n",
       "      <th>am</th>\n",
       "    </tr>\n",
       "  </thead>\n",
       "  <tbody>\n",
       "    <tr>\n",
       "      <th>mpg</th>\n",
       "      <td>1.000000</td>\n",
       "      <td>-0.810387</td>\n",
       "      <td>0.545194</td>\n",
       "      <td>0.634104</td>\n",
       "    </tr>\n",
       "    <tr>\n",
       "      <th>wt</th>\n",
       "      <td>-0.810387</td>\n",
       "      <td>1.000000</td>\n",
       "      <td>-0.462738</td>\n",
       "      <td>-0.751726</td>\n",
       "    </tr>\n",
       "    <tr>\n",
       "      <th>qsec</th>\n",
       "      <td>0.545194</td>\n",
       "      <td>-0.462738</td>\n",
       "      <td>1.000000</td>\n",
       "      <td>0.053903</td>\n",
       "    </tr>\n",
       "    <tr>\n",
       "      <th>am</th>\n",
       "      <td>0.634104</td>\n",
       "      <td>-0.751726</td>\n",
       "      <td>0.053903</td>\n",
       "      <td>1.000000</td>\n",
       "    </tr>\n",
       "  </tbody>\n",
       "</table>\n",
       "</div>"
      ],
      "text/plain": [
       "           mpg        wt      qsec        am\n",
       "mpg   1.000000 -0.810387  0.545194  0.634104\n",
       "wt   -0.810387  1.000000 -0.462738 -0.751726\n",
       "qsec  0.545194 -0.462738  1.000000  0.053903\n",
       "am    0.634104 -0.751726  0.053903  1.000000"
      ]
     },
     "execution_count": 20,
     "metadata": {},
     "output_type": "execute_result"
    }
   ],
   "source": [
    "train_data.corr()"
   ]
  },
  {
   "cell_type": "code",
   "execution_count": 21,
   "id": "every-picnic",
   "metadata": {},
   "outputs": [
    {
     "data": {
      "text/plain": [
       "<AxesSubplot:>"
      ]
     },
     "execution_count": 21,
     "metadata": {},
     "output_type": "execute_result"
    },
    {
     "data": {
      "image/png": "[encoded data removed]",
      "text/plain": [
       "<Figure size 432x288 with 2 Axes>"
      ]
     },
     "metadata": {
      "needs_background": "light"
     },
     "output_type": "display_data"
    }
   ],
   "source": [
    "sns.heatmap(train_data.corr(),annot = True)"
   ]
  },
  {
   "cell_type": "markdown",
   "id": "aware-recycling",
   "metadata": {},
   "source": [
    "- Mileage has negative 81% correlation with the weight of the car\n",
    "- Mileage has positive 54.5% correlation with the mile time\n",
    "- Mileage has positive 63.4% correlation with the type of transmission"
   ]
  },
  {
   "cell_type": "code",
   "execution_count": 22,
   "id": "plain-engineer",
   "metadata": {},
   "outputs": [
    {
     "data": {
      "text/plain": [
       "<AxesSubplot:title={'center':'mpg vs wt'}, xlabel='wt', ylabel='mpg'>"
      ]
     },
     "execution_count": 22,
     "metadata": {},
     "output_type": "execute_result"
    },
    {
     "data": {
      "image/png": "[encoded data removed]",
      "text/plain": [
       "<Figure size 432x288 with 1 Axes>"
      ]
     },
     "metadata": {
      "needs_background": "light"
     },
     "output_type": "display_data"
    }
   ],
   "source": [
    "train_data.plot.scatter(x = 'wt',y = 'mpg', title = 'mpg vs wt')"
   ]
  },
  {
   "cell_type": "markdown",
   "id": "selected-metabolism",
   "metadata": {},
   "source": [
    "- Multi-collinearity exists, qsec has the highest collinearity. Hence we remove qsec and re run the model"
   ]
  },
  {
   "cell_type": "code",
   "execution_count": 24,
   "id": "seeing-addition",
   "metadata": {},
   "outputs": [
    {
     "data": {
      "text/plain": [
       "mpg    10.691211\n",
       "wt      6.723626\n",
       "am      2.862963\n",
       "dtype: float64"
      ]
     },
     "execution_count": 24,
     "metadata": {},
     "output_type": "execute_result"
    }
   ],
   "source": [
    "x1 = train_data.drop(['qsec'],axis = 1)\n",
    "series_before = pd.Series([variance_inflation_factor(x1.values, i) for i in range(x1.shape[1])]\n",
    "                           ,index = x1.columns)\n",
    "series_before"
   ]
  },
  {
   "cell_type": "markdown",
   "id": "empirical-jurisdiction",
   "metadata": {},
   "source": [
    "- Multi-collinearity exists, mpg has the highest collinearity. Hence we remove mpg and re run the model"
   ]
  },
  {
   "cell_type": "code",
   "execution_count": 27,
   "id": "attached-thread",
   "metadata": {},
   "outputs": [
    {
     "data": {
      "text/plain": [
       "wt    1.214864\n",
       "am    1.214864\n",
       "dtype: float64"
      ]
     },
     "execution_count": 27,
     "metadata": {},
     "output_type": "execute_result"
    }
   ],
   "source": [
    "x1 = train_data.drop(['mpg','qsec'],axis = 1)\n",
    "series_before = pd.Series([variance_inflation_factor(x1.values, i) for i in range(x1.shape[1])]\n",
    "                           ,index = x1.columns)\n",
    "series_before"
   ]
  },
  {
   "cell_type": "markdown",
   "id": "global-sector",
   "metadata": {},
   "source": [
    "### Model Building\n",
    "- Ho = There is no Linear Relationship between weight and type of transmission\n",
    "- H1 = There is a Linear Relationship between weight and type of transmission"
   ]
  },
  {
   "cell_type": "code",
   "execution_count": 28,
   "id": "chicken-jacket",
   "metadata": {
    "scrolled": true
   },
   "outputs": [
    {
     "data": {
      "text/html": [
       "<table class=\"simpletable\">\n",
       "<caption>OLS Regression Results</caption>\n",
       "<tr>\n",
       "  <th>Dep. Variable:</th>           <td>wt</td>        <th>  R-squared:         </th> <td>   0.565</td>\n",
       "</tr>\n",
       "<tr>\n",
       "  <th>Model:</th>                   <td>OLS</td>       <th>  Adj. R-squared:    </th> <td>   0.546</td>\n",
       "</tr>\n",
       "<tr>\n",
       "  <th>Method:</th>             <td>Least Squares</td>  <th>  F-statistic:       </th> <td>   29.88</td>\n",
       "</tr>\n",
       "<tr>\n",
       "  <th>Date:</th>             <td>Sun, 06 Jun 2021</td> <th>  Prob (F-statistic):</th> <td>1.48e-05</td>\n",
       "</tr>\n",
       "<tr>\n",
       "  <th>Time:</th>                 <td>00:35:58</td>     <th>  Log-Likelihood:    </th> <td> -15.159</td>\n",
       "</tr>\n",
       "<tr>\n",
       "  <th>No. Observations:</th>      <td>    25</td>      <th>  AIC:               </th> <td>   34.32</td>\n",
       "</tr>\n",
       "<tr>\n",
       "  <th>Df Residuals:</th>          <td>    23</td>      <th>  BIC:               </th> <td>   36.76</td>\n",
       "</tr>\n",
       "<tr>\n",
       "  <th>Df Model:</th>              <td>     1</td>      <th>                     </th>     <td> </td>   \n",
       "</tr>\n",
       "<tr>\n",
       "  <th>Covariance Type:</th>      <td>nonrobust</td>    <th>                     </th>     <td> </td>   \n",
       "</tr>\n",
       "</table>\n",
       "<table class=\"simpletable\">\n",
       "<tr>\n",
       "      <td></td>         <th>coef</th>     <th>std err</th>      <th>t</th>      <th>P>|t|</th>  <th>[0.025</th>    <th>0.975]</th>  \n",
       "</tr>\n",
       "<tr>\n",
       "  <th>Intercept</th> <td>    3.4309</td> <td>    0.112</td> <td>   30.579</td> <td> 0.000</td> <td>    3.199</td> <td>    3.663</td>\n",
       "</tr>\n",
       "<tr>\n",
       "  <th>am</th>        <td>   -1.0843</td> <td>    0.198</td> <td>   -5.467</td> <td> 0.000</td> <td>   -1.495</td> <td>   -0.674</td>\n",
       "</tr>\n",
       "</table>\n",
       "<table class=\"simpletable\">\n",
       "<tr>\n",
       "  <th>Omnibus:</th>       <td> 3.117</td> <th>  Durbin-Watson:     </th> <td>   1.660</td>\n",
       "</tr>\n",
       "<tr>\n",
       "  <th>Prob(Omnibus):</th> <td> 0.210</td> <th>  Jarque-Bera (JB):  </th> <td>   1.612</td>\n",
       "</tr>\n",
       "<tr>\n",
       "  <th>Skew:</th>          <td> 0.287</td> <th>  Prob(JB):          </th> <td>   0.447</td>\n",
       "</tr>\n",
       "<tr>\n",
       "  <th>Kurtosis:</th>      <td> 4.104</td> <th>  Cond. No.          </th> <td>    2.42</td>\n",
       "</tr>\n",
       "</table><br/><br/>Notes:<br/>[1] Standard Errors assume that the covariance matrix of the errors is correctly specified."
      ],
      "text/plain": [
       "<class 'statsmodels.iolib.summary.Summary'>\n",
       "\"\"\"\n",
       "                            OLS Regression Results                            \n",
       "==============================================================================\n",
       "Dep. Variable:                     wt   R-squared:                       0.565\n",
       "Model:                            OLS   Adj. R-squared:                  0.546\n",
       "Method:                 Least Squares   F-statistic:                     29.88\n",
       "Date:                Sun, 06 Jun 2021   Prob (F-statistic):           1.48e-05\n",
       "Time:                        00:35:58   Log-Likelihood:                -15.159\n",
       "No. Observations:                  25   AIC:                             34.32\n",
       "Df Residuals:                      23   BIC:                             36.76\n",
       "Df Model:                           1                                         \n",
       "Covariance Type:            nonrobust                                         \n",
       "==============================================================================\n",
       "                 coef    std err          t      P>|t|      [0.025      0.975]\n",
       "------------------------------------------------------------------------------\n",
       "Intercept      3.4309      0.112     30.579      0.000       3.199       3.663\n",
       "am            -1.0843      0.198     -5.467      0.000      -1.495      -0.674\n",
       "==============================================================================\n",
       "Omnibus:                        3.117   Durbin-Watson:                   1.660\n",
       "Prob(Omnibus):                  0.210   Jarque-Bera (JB):                1.612\n",
       "Skew:                           0.287   Prob(JB):                        0.447\n",
       "Kurtosis:                       4.104   Cond. No.                         2.42\n",
       "==============================================================================\n",
       "\n",
       "Notes:\n",
       "[1] Standard Errors assume that the covariance matrix of the errors is correctly specified.\n",
       "\"\"\""
      ]
     },
     "execution_count": 28,
     "metadata": {},
     "output_type": "execute_result"
    }
   ],
   "source": [
    "reg = smf.ols('wt ~ am',data = train_data).fit()\n",
    "reg.summary()"
   ]
  }
 ],
 "metadata": {
  "kernelspec": {
   "display_name": "Python 3",
   "language": "python",
   "name": "python3"
  },
  "language_info": {
   "codemirror_mode": {
    "name": "ipython",
    "version": 3
   },
   "file_extension": ".py",
   "mimetype": "text/x-python",
   "name": "python",
   "nbconvert_exporter": "python",
   "pygments_lexer": "ipython3",
   "version": "3.9.5"
  }
 },
 "nbformat": 4,
 "nbformat_minor": 5
}
