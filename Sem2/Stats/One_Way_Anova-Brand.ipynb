{
 "cells": [
  {
   "cell_type": "markdown",
   "metadata": {},
   "source": [
    "# Import Libraries & Data"
   ]
  },
  {
   "cell_type": "code",
   "execution_count": 1,
   "metadata": {},
   "outputs": [],
   "source": [
    "import pandas as pd\n",
    "import researchpy as rp"
   ]
  },
  {
   "cell_type": "code",
   "execution_count": 2,
   "metadata": {},
   "outputs": [
    {
     "name": "stdout",
     "output_type": "stream",
     "text": [
      "<class 'pandas.core.frame.DataFrame'>\n",
      "RangeIndex: 21 entries, 0 to 20\n",
      "Data columns (total 2 columns):\n",
      " #   Column     Non-Null Count  Dtype \n",
      "---  ------     --------------  ----- \n",
      " 0   Sale       21 non-null     int64 \n",
      " 1   Sales_Men  21 non-null     object\n",
      "dtypes: int64(1), object(1)\n",
      "memory usage: 464.0+ bytes\n"
     ]
    }
   ],
   "source": [
    "df = pd.read_csv('Sales_Brand.csv')\n",
    "df.info()"
   ]
  },
  {
   "cell_type": "markdown",
   "metadata": {},
   "source": [
    "# EDA on data"
   ]
  },
  {
   "cell_type": "code",
   "execution_count": 3,
   "metadata": {
    "scrolled": false
   },
   "outputs": [
    {
     "name": "stdout",
     "output_type": "stream",
     "text": [
      "\n",
      "\n"
     ]
    },
    {
     "data": {
      "text/html": [
       "<div>\n",
       "<style scoped>\n",
       "    .dataframe tbody tr th:only-of-type {\n",
       "        vertical-align: middle;\n",
       "    }\n",
       "\n",
       "    .dataframe tbody tr th {\n",
       "        vertical-align: top;\n",
       "    }\n",
       "\n",
       "    .dataframe thead th {\n",
       "        text-align: right;\n",
       "    }\n",
       "</style>\n",
       "<table border=\"1\" class=\"dataframe\">\n",
       "  <thead>\n",
       "    <tr style=\"text-align: right;\">\n",
       "      <th></th>\n",
       "      <th>Variable</th>\n",
       "      <th>N</th>\n",
       "      <th>Mean</th>\n",
       "      <th>SD</th>\n",
       "      <th>SE</th>\n",
       "      <th>95% Conf.</th>\n",
       "      <th>Interval</th>\n",
       "    </tr>\n",
       "  </thead>\n",
       "  <tbody>\n",
       "    <tr>\n",
       "      <th>0</th>\n",
       "      <td>Sale</td>\n",
       "      <td>21.0</td>\n",
       "      <td>46.1429</td>\n",
       "      <td>4.7884</td>\n",
       "      <td>1.0449</td>\n",
       "      <td>43.9632</td>\n",
       "      <td>48.3225</td>\n",
       "    </tr>\n",
       "  </tbody>\n",
       "</table>\n",
       "</div>"
      ],
      "text/plain": [
       "  Variable     N     Mean      SD      SE  95% Conf.  Interval\n",
       "0     Sale  21.0  46.1429  4.7884  1.0449    43.9632   48.3225"
      ]
     },
     "execution_count": 3,
     "metadata": {},
     "output_type": "execute_result"
    }
   ],
   "source": [
    "rp.summary_cont(df['Sale'])"
   ]
  },
  {
   "cell_type": "markdown",
   "metadata": {},
   "source": [
    "* A new medication was developed to increase the libido of those who take the medication. \n",
    "* The overall average libido was 3.5 95% CI(2.5, 4.4)"
   ]
  },
  {
   "cell_type": "code",
   "execution_count": 4,
   "metadata": {},
   "outputs": [
    {
     "name": "stdout",
     "output_type": "stream",
     "text": [
      "\n",
      "\n"
     ]
    },
    {
     "data": {
      "text/html": [
       "<div>\n",
       "<style scoped>\n",
       "    .dataframe tbody tr th:only-of-type {\n",
       "        vertical-align: middle;\n",
       "    }\n",
       "\n",
       "    .dataframe tbody tr th {\n",
       "        vertical-align: top;\n",
       "    }\n",
       "\n",
       "    .dataframe thead th {\n",
       "        text-align: right;\n",
       "    }\n",
       "</style>\n",
       "<table border=\"1\" class=\"dataframe\">\n",
       "  <thead>\n",
       "    <tr style=\"text-align: right;\">\n",
       "      <th></th>\n",
       "      <th>N</th>\n",
       "      <th>Mean</th>\n",
       "      <th>SD</th>\n",
       "      <th>SE</th>\n",
       "      <th>95% Conf.</th>\n",
       "      <th>Interval</th>\n",
       "    </tr>\n",
       "    <tr>\n",
       "      <th>Sales_Men</th>\n",
       "      <th></th>\n",
       "      <th></th>\n",
       "      <th></th>\n",
       "      <th></th>\n",
       "      <th></th>\n",
       "      <th></th>\n",
       "    </tr>\n",
       "  </thead>\n",
       "  <tbody>\n",
       "    <tr>\n",
       "      <th>Sales_Man_A</th>\n",
       "      <td>7</td>\n",
       "      <td>44.5714</td>\n",
       "      <td>4.3534</td>\n",
       "      <td>1.6454</td>\n",
       "      <td>40.5452</td>\n",
       "      <td>48.5977</td>\n",
       "    </tr>\n",
       "    <tr>\n",
       "      <th>Sales_Man_B</th>\n",
       "      <td>7</td>\n",
       "      <td>45.8571</td>\n",
       "      <td>5.3675</td>\n",
       "      <td>2.0287</td>\n",
       "      <td>40.8931</td>\n",
       "      <td>50.8212</td>\n",
       "    </tr>\n",
       "    <tr>\n",
       "      <th>Sales_Man_C</th>\n",
       "      <td>7</td>\n",
       "      <td>48.0000</td>\n",
       "      <td>4.6547</td>\n",
       "      <td>1.7593</td>\n",
       "      <td>43.6951</td>\n",
       "      <td>52.3049</td>\n",
       "    </tr>\n",
       "  </tbody>\n",
       "</table>\n",
       "</div>"
      ],
      "text/plain": [
       "             N     Mean      SD      SE  95% Conf.  Interval\n",
       "Sales_Men                                                   \n",
       "Sales_Man_A  7  44.5714  4.3534  1.6454    40.5452   48.5977\n",
       "Sales_Man_B  7  45.8571  5.3675  2.0287    40.8931   50.8212\n",
       "Sales_Man_C  7  48.0000  4.6547  1.7593    43.6951   52.3049"
      ]
     },
     "execution_count": 4,
     "metadata": {},
     "output_type": "execute_result"
    }
   ],
   "source": [
    "rp.summary_cont(df['Sale'].groupby(df['Sales_Men']))\n"
   ]
  },
  {
   "cell_type": "markdown",
   "metadata": {},
   "source": [
    "# One-Way Anova"
   ]
  },
  {
   "cell_type": "markdown",
   "metadata": {},
   "source": [
    "The purpose of this study was to test for a difference between the dosage levels.\n",
    "\n",
    "* H0:- There is no significance difference between the all Sales_men with respect to dose of Sale\n",
    "\n",
    "Vs\n",
    "\n",
    "* H1:- There is  significance difference between the High,all Sales_men with respect to dose of Sale"
   ]
  },
  {
   "cell_type": "code",
   "execution_count": 5,
   "metadata": {},
   "outputs": [
    {
     "name": "stdout",
     "output_type": "stream",
     "text": [
      "      Source          SS  DF         MS         F     p-unc       np2\n",
      "0  Sales_Men   42.000000   2  21.000000  0.907407  0.421252  0.091589\n",
      "1     Within  416.571429  18  23.142857       NaN       NaN       NaN\n"
     ]
    }
   ],
   "source": [
    "import pingouin as pg\n",
    "\n",
    "aov = pg.anova(data=df, dv='Sale', between='Sales_Men', detailed=True)\n",
    "print(aov)"
   ]
  },
  {
   "cell_type": "code",
   "execution_count": 7,
   "metadata": {},
   "outputs": [
    {
     "data": {
      "text/plain": [
       "F_onewayResult(statistic=0.9074074074074073, pvalue=0.42125239706926476)"
      ]
     },
     "execution_count": 7,
     "metadata": {},
     "output_type": "execute_result"
    }
   ],
   "source": [
    "import scipy.stats as stats\n",
    "\n",
    "stats.f_oneway(df['Sale'][df['Sales_Men'] == 'Sales_Man_A'],\n",
    "               df['Sale'][df['Sales_Men'] == 'Sales_Man_B'],\n",
    "               df['Sale'][df['Sales_Men'] == 'Sales_Man_C'])"
   ]
  },
  {
   "cell_type": "markdown",
   "metadata": {},
   "source": [
    "##### Conclusion\n",
    "There is no significance difference between the all Sales_men with respect to dose of Sale"
   ]
  },
  {
   "cell_type": "markdown",
   "metadata": {},
   "source": [
    "# Assumptions of ANOVA"
   ]
  },
  {
   "cell_type": "markdown",
   "metadata": {},
   "source": [
    "##### Levene Test\n",
    "\n",
    "it is used to check the equality of Variance between the Brand ( Treatment) or Homogeneity of Variance\n",
    "\n",
    "* H0:- There is no significance difference in variance between the all Sales_men with respect to dose of Sale\n",
    "\n",
    "Vs\n",
    "\n",
    "* H1:- There is  significance difference variance between the High,all Sales_men with respect to dose of Sale"
   ]
  },
  {
   "cell_type": "code",
   "execution_count": 8,
   "metadata": {},
   "outputs": [
    {
     "data": {
      "text/plain": [
       "LeveneResult(statistic=0.29482758620689675, pvalue=0.748187659211092)"
      ]
     },
     "execution_count": 8,
     "metadata": {},
     "output_type": "execute_result"
    }
   ],
   "source": [
    "stats.levene(df['Sale'][df['Sales_Men'] == 'Sales_Man_A'],\n",
    "               df['Sale'][df['Sales_Men'] == 'Sales_Man_B'],\n",
    "               df['Sale'][df['Sales_Men'] == 'Sales_Man_C'])"
   ]
  },
  {
   "cell_type": "markdown",
   "metadata": {},
   "source": [
    "###### Conslusion\n",
    "\n",
    "* There is no difference in variance between the all Sales_men with respect to dose of Sale\n"
   ]
  },
  {
   "cell_type": "code",
   "execution_count": 9,
   "metadata": {},
   "outputs": [
    {
     "data": {
      "text/html": [
       "<table class=\"simpletable\">\n",
       "<caption>Multiple Comparison of Means - Tukey HSD, FWER=0.05</caption>\n",
       "<tr>\n",
       "    <th>group1</th>      <th>group2</th>    <th>meandiff</th>  <th>p-adj</th>  <th>lower</th>   <th>upper</th> <th>reject</th>\n",
       "</tr>\n",
       "<tr>\n",
       "  <td>Sales_Man_A</td> <td>Sales_Man_B</td>  <td>1.2857</td>  <td>0.8665</td> <td>-5.2746</td>  <td>7.846</td>  <td>False</td>\n",
       "</tr>\n",
       "<tr>\n",
       "  <td>Sales_Man_A</td> <td>Sales_Man_C</td>  <td>3.4286</td>  <td>0.3969</td> <td>-3.1317</td> <td>9.9888</td>  <td>False</td>\n",
       "</tr>\n",
       "<tr>\n",
       "  <td>Sales_Man_B</td> <td>Sales_Man_C</td>  <td>2.1429</td>  <td>0.6776</td> <td>-4.4174</td> <td>8.7031</td>  <td>False</td>\n",
       "</tr>\n",
       "</table>"
      ],
      "text/plain": [
       "<class 'statsmodels.iolib.table.SimpleTable'>"
      ]
     },
     "execution_count": 9,
     "metadata": {},
     "output_type": "execute_result"
    }
   ],
   "source": [
    "import statsmodels.stats.multicomp as mc\n",
    "\n",
    "comp = mc.MultiComparison(df['Sale'], df['Sales_Men'])\n",
    "post_hoc_res = comp.tukeyhsd()\n",
    "post_hoc_res.summary()"
   ]
  }
 ],
 "metadata": {
  "kernelspec": {
   "display_name": "Python 3",
   "language": "python",
   "name": "python3"
  },
  "language_info": {
   "codemirror_mode": {
    "name": "ipython",
    "version": 3
   },
   "file_extension": ".py",
   "mimetype": "text/x-python",
   "name": "python",
   "nbconvert_exporter": "python",
   "pygments_lexer": "ipython3",
   "version": "3.9.0+"
  }
 },
 "nbformat": 4,
 "nbformat_minor": 4
}
