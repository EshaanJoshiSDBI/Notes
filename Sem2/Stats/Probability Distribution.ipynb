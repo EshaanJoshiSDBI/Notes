{
 "cells": [
  {
   "cell_type": "code",
   "execution_count": 16,
   "id": "executed-imagination",
   "metadata": {},
   "outputs": [],
   "source": [
    "from scipy.stats import binom, hypergeom, poisson, expon, norm\n",
    "import matplotlib.pyplot as plt\n",
    "import pandas as pd\n",
    "import numpy as np"
   ]
  },
  {
   "cell_type": "code",
   "execution_count": 2,
   "id": "musical-yahoo",
   "metadata": {},
   "outputs": [],
   "source": [
    "from scipy.stats import nbinom"
   ]
  },
  {
   "cell_type": "markdown",
   "id": "established-coordinator",
   "metadata": {},
   "source": [
    "## Binomial Distribution"
   ]
  },
  {
   "cell_type": "code",
   "execution_count": 3,
   "id": "possible-material",
   "metadata": {},
   "outputs": [
    {
     "data": {
      "text/plain": [
       "0.032958984375"
      ]
     },
     "execution_count": 3,
     "metadata": {},
     "output_type": "execute_result"
    }
   ],
   "source": [
    "binom.pmf(4,6,0.25)"
   ]
  },
  {
   "cell_type": "markdown",
   "id": "terminal-mattress",
   "metadata": {},
   "source": [
    "A manufacturer of metal pistons finds that on avg 12% of pistones are success because the are either oversized or undersized. WHat is the probability that a batch of 10 pistons will contain.\n",
    "- no more than 2 rejects?\n",
    "- at least 2 rejects?"
   ]
  },
  {
   "cell_type": "code",
   "execution_count": 29,
   "id": "jewish-business",
   "metadata": {},
   "outputs": [],
   "source": [
    "n = 10\n",
    "p = 0.12\n",
    "x = [0,1,2]"
   ]
  },
  {
   "cell_type": "code",
   "execution_count": 4,
   "id": "turned-concentrate",
   "metadata": {},
   "outputs": [
    {
     "data": {
      "text/plain": [
       "0.8913182062780246"
      ]
     },
     "execution_count": 4,
     "metadata": {},
     "output_type": "execute_result"
    }
   ],
   "source": [
    "binom.cdf(2,10,0.12)"
   ]
  },
  {
   "cell_type": "markdown",
   "id": "arctic-woman",
   "metadata": {},
   "source": [
    "at least 2 rejects"
   ]
  },
  {
   "cell_type": "code",
   "execution_count": 6,
   "id": "dying-campus",
   "metadata": {},
   "outputs": [
    {
     "data": {
      "text/plain": [
       "0.34172496579595857"
      ]
     },
     "execution_count": 6,
     "metadata": {},
     "output_type": "execute_result"
    }
   ],
   "source": [
    "1 - binom.cdf(1,10,0.12)"
   ]
  },
  {
   "cell_type": "markdown",
   "id": "united-jenny",
   "metadata": {},
   "source": [
    "## HyperGeometric Distribution"
   ]
  },
  {
   "cell_type": "markdown",
   "id": "criminal-mandate",
   "metadata": {},
   "source": [
    "M is total population, n is defective, x is # of randomly chosen samples"
   ]
  },
  {
   "cell_type": "markdown",
   "id": "special-investigation",
   "metadata": {},
   "source": [
    "Probability that 2 are defective"
   ]
  },
  {
   "cell_type": "code",
   "execution_count": 7,
   "id": "ambient-profit",
   "metadata": {},
   "outputs": [],
   "source": [
    "[M,n,N] = [100,20,2]\n",
    "rv = hypergeom.pmf(2,M,n,N)"
   ]
  },
  {
   "cell_type": "code",
   "execution_count": 8,
   "id": "sufficient-report",
   "metadata": {},
   "outputs": [
    {
     "data": {
      "text/plain": [
       "0.03838383838383834"
      ]
     },
     "execution_count": 8,
     "metadata": {},
     "output_type": "execute_result"
    }
   ],
   "source": [
    "rv"
   ]
  },
  {
   "cell_type": "code",
   "execution_count": 9,
   "id": "expressed-norway",
   "metadata": {},
   "outputs": [
    {
     "data": {
      "text/plain": [
       "0.11904761904761893"
      ]
     },
     "execution_count": 9,
     "metadata": {},
     "output_type": "execute_result"
    }
   ],
   "source": [
    "[M,n,N] = [10,4,4]\n",
    "rv = hypergeom.pmf(3,M,n,N) + hypergeom.pmf(4,M,n,N)\n",
    "rv"
   ]
  },
  {
   "cell_type": "code",
   "execution_count": 10,
   "id": "knowing-negative",
   "metadata": {},
   "outputs": [
    {
     "data": {
      "text/plain": [
       "0.11904761904761951"
      ]
     },
     "execution_count": 10,
     "metadata": {},
     "output_type": "execute_result"
    }
   ],
   "source": [
    "[M,n,N] = [10,4,4]\n",
    "rv = 1 - hypergeom.cdf(2,M,n,N)\n",
    "rv"
   ]
  },
  {
   "cell_type": "markdown",
   "id": "conscious-virginia",
   "metadata": {},
   "source": [
    "## Poission Distribution"
   ]
  },
  {
   "cell_type": "code",
   "execution_count": 11,
   "id": "hungry-belgium",
   "metadata": {},
   "outputs": [
    {
     "data": {
      "text/plain": [
       "0.42319008112684364"
      ]
     },
     "execution_count": 11,
     "metadata": {},
     "output_type": "execute_result"
    }
   ],
   "source": [
    "poisson.cdf(2,3)"
   ]
  },
  {
   "cell_type": "code",
   "execution_count": 12,
   "id": "compact-shareware",
   "metadata": {},
   "outputs": [
    {
     "data": {
      "text/plain": [
       "0.2650259152973616"
      ]
     },
     "execution_count": 12,
     "metadata": {},
     "output_type": "execute_result"
    }
   ],
   "source": [
    "poisson.cdf(3,5)"
   ]
  },
  {
   "cell_type": "markdown",
   "id": "answering-carrier",
   "metadata": {},
   "source": [
    "## Negative Binomial Distribution"
   ]
  },
  {
   "cell_type": "code",
   "execution_count": 23,
   "id": "spiritual-childhood",
   "metadata": {},
   "outputs": [
    {
     "data": {
      "text/plain": [
       "0.013561876192013217"
      ]
     },
     "execution_count": 23,
     "metadata": {},
     "output_type": "execute_result"
    }
   ],
   "source": [
    "nbinom.pmf(k = 7, n = 3, p = 0.09)"
   ]
  },
  {
   "cell_type": "code",
   "execution_count": 24,
   "id": "united-ireland",
   "metadata": {},
   "outputs": [
    {
     "data": {
      "text/plain": [
       "0.18522"
      ]
     },
     "execution_count": 24,
     "metadata": {},
     "output_type": "execute_result"
    }
   ],
   "source": [
    "nbinom.pmf(k=2,n=3,p=0.70)"
   ]
  },
  {
   "cell_type": "code",
   "execution_count": 22,
   "id": "experienced-estate",
   "metadata": {},
   "outputs": [
    {
     "data": {
      "text/plain": [
       "0.013561876192013217"
      ]
     },
     "execution_count": 22,
     "metadata": {},
     "output_type": "execute_result"
    }
   ],
   "source": [
    "nbinom.pmf(k=7,n=3,p=0.09)"
   ]
  },
  {
   "cell_type": "markdown",
   "id": "empirical-buffalo",
   "metadata": {},
   "source": [
    "## Geometric Distribution"
   ]
  },
  {
   "cell_type": "code",
   "execution_count": 25,
   "id": "native-monster",
   "metadata": {},
   "outputs": [
    {
     "data": {
      "text/plain": [
       "0.03382815318716235"
      ]
     },
     "execution_count": 25,
     "metadata": {},
     "output_type": "execute_result"
    }
   ],
   "source": [
    "nbinom.pmf(k=4,n=1,p=18/37)"
   ]
  },
  {
   "cell_type": "code",
   "execution_count": 26,
   "id": "german-fifty",
   "metadata": {},
   "outputs": [
    {
     "data": {
      "text/plain": [
       "0.05042099999999999"
      ]
     },
     "execution_count": 26,
     "metadata": {},
     "output_type": "execute_result"
    }
   ],
   "source": [
    "nbinom.pmf(k=5,n=1,p=0.3)"
   ]
  },
  {
   "cell_type": "markdown",
   "id": "environmental-premium",
   "metadata": {},
   "source": [
    "A European roulette has 18 red slots, 18 black slots and 1 green slot. It is reasonable to assume that the ball is equally likely to land in any of the 37 slots. What is the probability that the 1st time the ball lands a red slot occurs on the 5th spin?"
   ]
  },
  {
   "cell_type": "code",
   "execution_count": 5,
   "id": "consecutive-wilderness",
   "metadata": {},
   "outputs": [
    {
     "data": {
      "text/plain": [
       "0.017371213798813095"
      ]
     },
     "execution_count": 5,
     "metadata": {},
     "output_type": "execute_result"
    }
   ],
   "source": [
    "nbinom.pmf(k=5,n=1,p=18/37)"
   ]
  }
 ],
 "metadata": {
  "kernelspec": {
   "display_name": "Python 3",
   "language": "python",
   "name": "python3"
  },
  "language_info": {
   "codemirror_mode": {
    "name": "ipython",
    "version": 3
   },
   "file_extension": ".py",
   "mimetype": "text/x-python",
   "name": "python",
   "nbconvert_exporter": "python",
   "pygments_lexer": "ipython3",
   "version": "3.9.0+"
  }
 },
 "nbformat": 4,
 "nbformat_minor": 5
}
