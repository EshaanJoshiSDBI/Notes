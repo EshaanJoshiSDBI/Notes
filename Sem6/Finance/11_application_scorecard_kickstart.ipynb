{
 "cells": [
  {
   "cell_type": "markdown",
   "id": "fddc7fa4",
   "metadata": {},
   "source": [
    "# Application Scorecard - Case Study"
   ]
  },
  {
   "cell_type": "markdown",
   "id": "fd555453",
   "metadata": {},
   "source": [
    "#### Hi Learners,\n",
    "<p>You are responsible for developing a credit risk acqusition scorecard for a bank.This scorecard will be used for processing \"HOME LOAN\" application going forward.  \n",
    "<p>You have already identified an appropriate Target variable which is 60+ in first 15months. Accordingly the data has been extracted."
   ]
  },
  {
   "cell_type": "markdown",
   "id": "6c305f08",
   "metadata": {},
   "source": [
    "Before starting let us briefly discuss the BOSCARD approach :\n",
    "* B ( Background ) :\n",
    "* O ( Objective ) :\n",
    "* S ( Scope ) :\n",
    "* C ( Constraints ) :\n",
    "* A ( Assumptions ) :\n",
    "* R ( Roles ) :\n",
    "* D ( Deliverable ) : \n"
   ]
  },
  {
   "cell_type": "markdown",
   "id": "666de927",
   "metadata": {},
   "source": [
    "### Step 1.1 : Data Understanding"
   ]
  },
  {
   "cell_type": "code",
   "execution_count": null,
   "id": "b28a55b9",
   "metadata": {},
   "outputs": [],
   "source": [
    "# Inspect the head / tail of the data\n",
    "# Study the number of columns & rows\n",
    "# Get a sound understanding of each column"
   ]
  },
  {
   "cell_type": "markdown",
   "id": "fe07add5",
   "metadata": {},
   "source": [
    "### Step 1.2 : Data Pre-Processing"
   ]
  },
  {
   "cell_type": "code",
   "execution_count": null,
   "id": "f8d9257e",
   "metadata": {},
   "outputs": [],
   "source": [
    "# Identify duplicates in data\n",
    "# Inspect duplicates ( if any ) & do the necessary treatment"
   ]
  },
  {
   "cell_type": "code",
   "execution_count": null,
   "id": "3ede8dd2",
   "metadata": {},
   "outputs": [],
   "source": [
    "# Study the distribution of target variable across various segment"
   ]
  },
  {
   "cell_type": "code",
   "execution_count": null,
   "id": "4d25e00a",
   "metadata": {},
   "outputs": [],
   "source": [
    "# Identify missing value in the data \n",
    "# Inspect the missing values & do the necessary treatment"
   ]
  },
  {
   "cell_type": "code",
   "execution_count": null,
   "id": "86e28bad",
   "metadata": {},
   "outputs": [],
   "source": [
    "# Identify Outliers in data \n",
    "# Inspect outliers in data & do the necessary treatment"
   ]
  },
  {
   "cell_type": "code",
   "execution_count": null,
   "id": "4a0f7387",
   "metadata": {},
   "outputs": [],
   "source": [
    "# Change the name of the variable to something which can be easily understood"
   ]
  },
  {
   "cell_type": "markdown",
   "id": "3408f349",
   "metadata": {},
   "source": [
    "### Step 2 : Variable Creation"
   ]
  },
  {
   "cell_type": "code",
   "execution_count": null,
   "id": "73ea0edb",
   "metadata": {},
   "outputs": [],
   "source": [
    "# Create as many new variables as possible "
   ]
  }
 ],
 "metadata": {
  "kernelspec": {
   "display_name": "Python 3 (ipykernel)",
   "language": "python",
   "name": "python3"
  },
  "language_info": {
   "codemirror_mode": {
    "name": "ipython",
    "version": 3
   },
   "file_extension": ".py",
   "mimetype": "text/x-python",
   "name": "python",
   "nbconvert_exporter": "python",
   "pygments_lexer": "ipython3",
   "version": "3.10.8"
  }
 },
 "nbformat": 4,
 "nbformat_minor": 5
}
