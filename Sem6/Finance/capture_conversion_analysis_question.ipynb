{
 "cells": [
  {
   "cell_type": "code",
   "execution_count": null,
   "id": "7c020af6",
   "metadata": {},
   "outputs": [],
   "source": [
    "# import pandas & numpy\n",
    "\n",
    "import pandas as pd\n",
    "import numpy as np"
   ]
  },
  {
   "cell_type": "code",
   "execution_count": null,
   "id": "66fbdcf3",
   "metadata": {},
   "outputs": [],
   "source": [
    "# import dataset - sdbi_proxy_bad_def_dataset\n"
   ]
  },
  {
   "cell_type": "code",
   "execution_count": null,
   "id": "8757fed6",
   "metadata": {},
   "outputs": [],
   "source": [
    "# check the shape of the data set\n"
   ]
  },
  {
   "cell_type": "markdown",
   "id": "f1bc30fb",
   "metadata": {},
   "source": [
    "<p> The dataset should have 24months repayment record for every customer. \n",
    "<p> Check if we have all 24 months information for each customer. If not, please delete those records"
   ]
  },
  {
   "cell_type": "code",
   "execution_count": null,
   "id": "994a5d3b",
   "metadata": {},
   "outputs": [],
   "source": [
    "# Check unique count of id\n"
   ]
  },
  {
   "cell_type": "code",
   "execution_count": null,
   "id": "84072de5",
   "metadata": {},
   "outputs": [],
   "source": [
    "# create a 'max_mob' column for which is max of mob for each ID\n"
   ]
  },
  {
   "cell_type": "code",
   "execution_count": null,
   "id": "5ff09add",
   "metadata": {},
   "outputs": [],
   "source": [
    "# check cases for which max_mob is less than 24\n"
   ]
  },
  {
   "cell_type": "markdown",
   "id": "e3878a34",
   "metadata": {},
   "source": [
    "<p> We can see that for id 5253 & 5292 we do not have 24 months information. Please delete this records"
   ]
  },
  {
   "cell_type": "code",
   "execution_count": null,
   "id": "d9a4c24f",
   "metadata": {},
   "outputs": [],
   "source": [
    "# drop the record, where we do not have entire information\n"
   ]
  },
  {
   "cell_type": "markdown",
   "id": "2f6b5136",
   "metadata": {},
   "source": [
    "<p> Create the eventual bad definition column before we start testing other definitions.\n",
    "    \n",
    "  Eventual bad definition:\n",
    "* Ever 90+ in first 24 months of repayment then \"BAD\""
   ]
  },
  {
   "cell_type": "code",
   "execution_count": null,
   "id": "8d97855e",
   "metadata": {},
   "outputs": [],
   "source": [
    "# We need to create \n",
    "# -- max_dpd column, which is maximum dpd for every customer within first 24 months\n",
    "# -- using max_dpd create 'eventual_bad' which 1 if >=90 else 0\n"
   ]
  },
  {
   "cell_type": "code",
   "execution_count": null,
   "id": "368838b0",
   "metadata": {},
   "outputs": [],
   "source": [
    "# check proportion of eventual bad\n"
   ]
  },
  {
   "cell_type": "markdown",
   "id": "c47ed3a3",
   "metadata": {},
   "source": [
    "Example :\n",
    "<p> Proxy Bad Definition : Customer to be tagged as 'BAD' if x+ in first 12 months"
   ]
  },
  {
   "cell_type": "code",
   "execution_count": null,
   "id": "af2d7e0f",
   "metadata": {},
   "outputs": [],
   "source": [
    "# Proxy bad : x+ in 12 months\n",
    "\n",
    "# -- Defining cut-offs\n"
   ]
  },
  {
   "cell_type": "code",
   "execution_count": null,
   "id": "b868f75e",
   "metadata": {},
   "outputs": [],
   "source": [
    "# Proxy bad : x+ in 12 months\n",
    "\n",
    "# -- applying relevant filter\n"
   ]
  },
  {
   "cell_type": "code",
   "execution_count": null,
   "id": "b11829e2",
   "metadata": {},
   "outputs": [],
   "source": [
    "# Proxy bad : x+ in 12 months\n",
    "\n",
    "# -- identifying if the customer went x+ in the first 12 months\n"
   ]
  },
  {
   "cell_type": "code",
   "execution_count": null,
   "id": "50513996",
   "metadata": {},
   "outputs": [],
   "source": [
    "# Proxy bad : x+ in 12 months\n",
    "\n",
    "# -- Create a common data set where we have 'eventual_bad' as well as 'proxy_bad'\n"
   ]
  },
  {
   "cell_type": "code",
   "execution_count": null,
   "id": "3947ee88",
   "metadata": {},
   "outputs": [],
   "source": [
    "# import metric from sklearn\n"
   ]
  },
  {
   "cell_type": "code",
   "execution_count": null,
   "id": "3c7df32c",
   "metadata": {},
   "outputs": [],
   "source": [
    "# create crosstab of eventual_bad & proxy_bad\n"
   ]
  },
  {
   "cell_type": "code",
   "execution_count": null,
   "id": "e4759b87",
   "metadata": {},
   "outputs": [],
   "source": [
    "# Create a dictionary which captures :\n",
    "# -- name of the definition tested\n",
    "# -- count of unique records\n",
    "# -- Total eventual bad cases\n",
    "# -- Total proxy bad cases\n",
    "# -- accuracy score\n",
    "# -- precision score\n",
    "# -- recall score\n",
    "# -- f1_score\n"
   ]
  },
  {
   "cell_type": "code",
   "execution_count": null,
   "id": "a7730b42",
   "metadata": {},
   "outputs": [],
   "source": [
    "# repeat the same for all possibile list of definitions\n"
   ]
  },
  {
   "cell_type": "code",
   "execution_count": null,
   "id": "bdf8d0bc",
   "metadata": {},
   "outputs": [],
   "source": [
    "# print the head of the data set\n"
   ]
  },
  {
   "cell_type": "code",
   "execution_count": null,
   "id": "747ef643",
   "metadata": {},
   "outputs": [],
   "source": [
    "# Calculate 'bad_rate' for every definition i.e. proxy_bad_cnt / total_cnt\n"
   ]
  },
  {
   "cell_type": "code",
   "execution_count": null,
   "id": "b2bbf940",
   "metadata": {},
   "outputs": [],
   "source": [
    "# Identify a logical method to pick the top definition\n",
    "# -- How much weight/value you give to each score & identify the most appropriate definition\n"
   ]
  },
  {
   "cell_type": "code",
   "execution_count": null,
   "id": "92f9324c",
   "metadata": {},
   "outputs": [],
   "source": []
  },
  {
   "cell_type": "markdown",
   "id": "1afd542a",
   "metadata": {},
   "source": [
    "### Which definition do you recommed for the analysis ?"
   ]
  },
  {
   "cell_type": "markdown",
   "id": "2a36f9db",
   "metadata": {},
   "source": [
    "Your answer : "
   ]
  },
  {
   "cell_type": "markdown",
   "id": "26a3e7bf",
   "metadata": {},
   "source": [
    "# THE END"
   ]
  }
 ],
 "metadata": {
  "kernelspec": {
   "display_name": "Python 3 (ipykernel)",
   "language": "python",
   "name": "python3"
  },
  "language_info": {
   "codemirror_mode": {
    "name": "ipython",
    "version": 3
   },
   "file_extension": ".py",
   "mimetype": "text/x-python",
   "name": "python",
   "nbconvert_exporter": "python",
   "pygments_lexer": "ipython3",
   "version": "3.10.8"
  }
 },
 "nbformat": 4,
 "nbformat_minor": 5
}
