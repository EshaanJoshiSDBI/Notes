{
 "cells": [
  {
   "cell_type": "code",
   "execution_count": 100,
   "id": "6d60ab56-e7ce-4f28-8b4f-1c4d9043338f",
   "metadata": {},
   "outputs": [],
   "source": [
    "import numpy as np\n",
    "import pandas as pd\n",
    "from sklearn.metrics import confusion_matrix,accuracy_score,precision_score,recall_score,f1_score"
   ]
  },
  {
   "cell_type": "code",
   "execution_count": 3,
   "id": "77c30f8e-a8a4-465c-b88f-7d777431563d",
   "metadata": {},
   "outputs": [],
   "source": [
    "df = pd.read_excel('sdbi_proxy_bad_def_dataset.xlsx')"
   ]
  },
  {
   "cell_type": "code",
   "execution_count": 4,
   "id": "7d1a11c9-3848-4872-9090-02df2970b4e9",
   "metadata": {},
   "outputs": [],
   "source": [
    "df_copy = df.copy()"
   ]
  },
  {
   "cell_type": "code",
   "execution_count": 5,
   "id": "bde52034-e4e2-4288-82f5-5d8d70e7dfe9",
   "metadata": {},
   "outputs": [
    {
     "data": {
      "text/plain": [
       "(172929, 3)"
      ]
     },
     "execution_count": 5,
     "metadata": {},
     "output_type": "execute_result"
    }
   ],
   "source": [
    "df.shape"
   ]
  },
  {
   "cell_type": "code",
   "execution_count": 10,
   "id": "959d32e0-fbe3-4075-b936-401a86185bb0",
   "metadata": {},
   "outputs": [
    {
     "name": "stdout",
     "output_type": "stream",
     "text": [
      "<class 'pandas.core.frame.DataFrame'>\n",
      "RangeIndex: 172929 entries, 0 to 172928\n",
      "Data columns (total 3 columns):\n",
      " #   Column  Non-Null Count   Dtype\n",
      "---  ------  --------------   -----\n",
      " 0   id      172929 non-null  int64\n",
      " 1   mob     172929 non-null  int64\n",
      " 2   dpd     172929 non-null  int64\n",
      "dtypes: int64(3)\n",
      "memory usage: 4.0 MB\n"
     ]
    }
   ],
   "source": [
    "df.info()"
   ]
  },
  {
   "cell_type": "code",
   "execution_count": 6,
   "id": "27f793e9-610e-4aac-b76b-b6aed11fc754",
   "metadata": {},
   "outputs": [
    {
     "data": {
      "text/html": [
       "<div>\n",
       "<style scoped>\n",
       "    .dataframe tbody tr th:only-of-type {\n",
       "        vertical-align: middle;\n",
       "    }\n",
       "\n",
       "    .dataframe tbody tr th {\n",
       "        vertical-align: top;\n",
       "    }\n",
       "\n",
       "    .dataframe thead th {\n",
       "        text-align: right;\n",
       "    }\n",
       "</style>\n",
       "<table border=\"1\" class=\"dataframe\">\n",
       "  <thead>\n",
       "    <tr style=\"text-align: right;\">\n",
       "      <th></th>\n",
       "      <th>id</th>\n",
       "      <th>mob</th>\n",
       "      <th>dpd</th>\n",
       "    </tr>\n",
       "  </thead>\n",
       "  <tbody>\n",
       "    <tr>\n",
       "      <th>0</th>\n",
       "      <td>1</td>\n",
       "      <td>0</td>\n",
       "      <td>0</td>\n",
       "    </tr>\n",
       "    <tr>\n",
       "      <th>1</th>\n",
       "      <td>1</td>\n",
       "      <td>1</td>\n",
       "      <td>0</td>\n",
       "    </tr>\n",
       "    <tr>\n",
       "      <th>2</th>\n",
       "      <td>1</td>\n",
       "      <td>2</td>\n",
       "      <td>0</td>\n",
       "    </tr>\n",
       "  </tbody>\n",
       "</table>\n",
       "</div>"
      ],
      "text/plain": [
       "   id  mob  dpd\n",
       "0   1    0    0\n",
       "1   1    1    0\n",
       "2   1    2    0"
      ]
     },
     "execution_count": 6,
     "metadata": {},
     "output_type": "execute_result"
    }
   ],
   "source": [
    "df.head(3)"
   ]
  },
  {
   "cell_type": "markdown",
   "id": "9731af06-e1a9-493c-8d88-10ef52b79896",
   "metadata": {},
   "source": [
    "#### Unique ids"
   ]
  },
  {
   "cell_type": "code",
   "execution_count": 8,
   "id": "a997b9c2-0043-4205-abaa-3a79b09ba1b4",
   "metadata": {},
   "outputs": [
    {
     "data": {
      "text/plain": [
       "6999"
      ]
     },
     "execution_count": 8,
     "metadata": {},
     "output_type": "execute_result"
    }
   ],
   "source": [
    "df.id.nunique()"
   ]
  },
  {
   "cell_type": "code",
   "execution_count": 31,
   "id": "3fb4e2c8-06ee-402f-a8c4-abc76a53dd8b",
   "metadata": {},
   "outputs": [
    {
     "name": "stdout",
     "output_type": "stream",
     "text": [
      "id  5253  has some missing months\n",
      "id  5292  has some missing months\n"
     ]
    }
   ],
   "source": [
    "## Case 1: Some months can be missing\n",
    "all_months = list(range(0,25))\n",
    "rem_ids = []\n",
    "for i in df.id.unique():\n",
    "    if ((list(df.query('id == {}'.format(i))['mob'].values) == all_months) or (list(df.query('id == {}'.format(i))['mob'].values) == all_months[1:])):\n",
    "        continue\n",
    "    else:\n",
    "        print('id ',i,' has some missing months')\n",
    "        rem_ids.append(i)"
   ]
  },
  {
   "cell_type": "markdown",
   "id": "393e6277-9e77-4c32-80b4-4678b1f5ffc1",
   "metadata": {},
   "source": [
    "#### Dropping ids which do not have 24 months information"
   ]
  },
  {
   "cell_type": "code",
   "execution_count": 34,
   "id": "fef03428-99fd-464b-9dcc-84e03ae6e1ee",
   "metadata": {},
   "outputs": [],
   "source": [
    "for i in rem_ids:\n",
    "    df.drop(df[df['id'] == i].index,inplace=True)"
   ]
  },
  {
   "cell_type": "markdown",
   "id": "927f1747-9dcd-40f7-af6d-19840e79b17a",
   "metadata": {},
   "source": [
    "# Eventual bad definition:"
   ]
  },
  {
   "cell_type": "markdown",
   "id": "b837fb12-824b-4a67-a711-926be63954bc",
   "metadata": {},
   "source": [
    "- Ever 90+ in first 24 months of repayment then \"BAD\""
   ]
  },
  {
   "cell_type": "code",
   "execution_count": 35,
   "id": "f62a4e83-d918-4f7c-b64e-354ddbe57896",
   "metadata": {},
   "outputs": [],
   "source": [
    "df['max_dpd'] = df.groupby('id').dpd.max()[df.id].reset_index().dpd"
   ]
  },
  {
   "cell_type": "code",
   "execution_count": 43,
   "id": "4381012d-f71c-4574-bf39-9ce2c9704b9e",
   "metadata": {},
   "outputs": [],
   "source": [
    "grouped_df = df.groupby('id')[['dpd']].max()"
   ]
  },
  {
   "cell_type": "code",
   "execution_count": 46,
   "id": "d34df872-8f33-4852-8ce3-29f6325939ec",
   "metadata": {},
   "outputs": [],
   "source": [
    "grouped_df['eventual_bad'] = np.where(grouped_df['dpd'] >= 90,1,0)"
   ]
  },
  {
   "cell_type": "code",
   "execution_count": 54,
   "id": "d8dcbbde-e112-4967-b6b3-93ae58e6d6ca",
   "metadata": {},
   "outputs": [],
   "source": [
    "df['eventual_bad'] = np.where(df['max_dpd']>=90,1,0)"
   ]
  },
  {
   "cell_type": "code",
   "execution_count": 48,
   "id": "81900bb2-abc4-4c43-a6ba-5394eff3a58e",
   "metadata": {},
   "outputs": [
    {
     "data": {
      "text/html": [
       "<div>\n",
       "<style scoped>\n",
       "    .dataframe tbody tr th:only-of-type {\n",
       "        vertical-align: middle;\n",
       "    }\n",
       "\n",
       "    .dataframe tbody tr th {\n",
       "        vertical-align: top;\n",
       "    }\n",
       "\n",
       "    .dataframe thead th {\n",
       "        text-align: right;\n",
       "    }\n",
       "</style>\n",
       "<table border=\"1\" class=\"dataframe\">\n",
       "  <thead>\n",
       "    <tr style=\"text-align: right;\">\n",
       "      <th></th>\n",
       "      <th>dpd</th>\n",
       "      <th>eventual_bad</th>\n",
       "    </tr>\n",
       "    <tr>\n",
       "      <th>id</th>\n",
       "      <th></th>\n",
       "      <th></th>\n",
       "    </tr>\n",
       "  </thead>\n",
       "  <tbody>\n",
       "    <tr>\n",
       "      <th>1</th>\n",
       "      <td>0</td>\n",
       "      <td>0</td>\n",
       "    </tr>\n",
       "    <tr>\n",
       "      <th>2</th>\n",
       "      <td>28</td>\n",
       "      <td>0</td>\n",
       "    </tr>\n",
       "    <tr>\n",
       "      <th>3</th>\n",
       "      <td>0</td>\n",
       "      <td>0</td>\n",
       "    </tr>\n",
       "    <tr>\n",
       "      <th>4</th>\n",
       "      <td>0</td>\n",
       "      <td>0</td>\n",
       "    </tr>\n",
       "    <tr>\n",
       "      <th>5</th>\n",
       "      <td>0</td>\n",
       "      <td>0</td>\n",
       "    </tr>\n",
       "    <tr>\n",
       "      <th>6</th>\n",
       "      <td>0</td>\n",
       "      <td>0</td>\n",
       "    </tr>\n",
       "    <tr>\n",
       "      <th>7</th>\n",
       "      <td>0</td>\n",
       "      <td>0</td>\n",
       "    </tr>\n",
       "    <tr>\n",
       "      <th>8</th>\n",
       "      <td>0</td>\n",
       "      <td>0</td>\n",
       "    </tr>\n",
       "    <tr>\n",
       "      <th>9</th>\n",
       "      <td>0</td>\n",
       "      <td>0</td>\n",
       "    </tr>\n",
       "    <tr>\n",
       "      <th>10</th>\n",
       "      <td>0</td>\n",
       "      <td>0</td>\n",
       "    </tr>\n",
       "    <tr>\n",
       "      <th>11</th>\n",
       "      <td>0</td>\n",
       "      <td>0</td>\n",
       "    </tr>\n",
       "    <tr>\n",
       "      <th>12</th>\n",
       "      <td>0</td>\n",
       "      <td>0</td>\n",
       "    </tr>\n",
       "    <tr>\n",
       "      <th>13</th>\n",
       "      <td>105</td>\n",
       "      <td>1</td>\n",
       "    </tr>\n",
       "    <tr>\n",
       "      <th>14</th>\n",
       "      <td>0</td>\n",
       "      <td>0</td>\n",
       "    </tr>\n",
       "    <tr>\n",
       "      <th>15</th>\n",
       "      <td>0</td>\n",
       "      <td>0</td>\n",
       "    </tr>\n",
       "  </tbody>\n",
       "</table>\n",
       "</div>"
      ],
      "text/plain": [
       "    dpd  eventual_bad\n",
       "id                   \n",
       "1     0             0\n",
       "2    28             0\n",
       "3     0             0\n",
       "4     0             0\n",
       "5     0             0\n",
       "6     0             0\n",
       "7     0             0\n",
       "8     0             0\n",
       "9     0             0\n",
       "10    0             0\n",
       "11    0             0\n",
       "12    0             0\n",
       "13  105             1\n",
       "14    0             0\n",
       "15    0             0"
      ]
     },
     "execution_count": 48,
     "metadata": {},
     "output_type": "execute_result"
    }
   ],
   "source": [
    "grouped_df.head(15)"
   ]
  },
  {
   "cell_type": "markdown",
   "id": "82186f20-beb9-4dca-bba2-b334c99c0b3e",
   "metadata": {},
   "source": [
    "#### removing records older than 12 months"
   ]
  },
  {
   "cell_type": "code",
   "execution_count": 69,
   "id": "6dd75037-9576-4097-aba0-a5ca03a99145",
   "metadata": {},
   "outputs": [],
   "source": [
    "df_ = df_copy.drop(df[df['mob'] > 12].index)"
   ]
  },
  {
   "cell_type": "code",
   "execution_count": 70,
   "id": "ba477c01-5f18-4d94-83e5-28898c8c2980",
   "metadata": {},
   "outputs": [],
   "source": [
    "df_['max_dpd'] = df_.groupby('id').dpd.max()[df_.id].reset_index().dpd"
   ]
  },
  {
   "cell_type": "code",
   "execution_count": 90,
   "id": "2f51fc6f-dff1-405e-93a9-f8ab37917b4e",
   "metadata": {},
   "outputs": [],
   "source": [
    "grouped_df_ = df_.groupby('id')[['dpd']].max()"
   ]
  },
  {
   "cell_type": "code",
   "execution_count": 92,
   "id": "58083cc9-9b65-46a6-af25-928f4545252f",
   "metadata": {},
   "outputs": [],
   "source": [
    "grouped_df_['proxy_bad'] = np.where(grouped_df_['dpd']>0,1,0)"
   ]
  },
  {
   "cell_type": "code",
   "execution_count": 93,
   "id": "f83ff17a-d4e1-4d56-b0b1-d3c6f26fdd4a",
   "metadata": {},
   "outputs": [
    {
     "data": {
      "text/html": [
       "<div>\n",
       "<style scoped>\n",
       "    .dataframe tbody tr th:only-of-type {\n",
       "        vertical-align: middle;\n",
       "    }\n",
       "\n",
       "    .dataframe tbody tr th {\n",
       "        vertical-align: top;\n",
       "    }\n",
       "\n",
       "    .dataframe thead th {\n",
       "        text-align: right;\n",
       "    }\n",
       "</style>\n",
       "<table border=\"1\" class=\"dataframe\">\n",
       "  <thead>\n",
       "    <tr style=\"text-align: right;\">\n",
       "      <th></th>\n",
       "      <th>dpd</th>\n",
       "      <th>proxy_bad</th>\n",
       "    </tr>\n",
       "    <tr>\n",
       "      <th>id</th>\n",
       "      <th></th>\n",
       "      <th></th>\n",
       "    </tr>\n",
       "  </thead>\n",
       "  <tbody>\n",
       "    <tr>\n",
       "      <th>1</th>\n",
       "      <td>0</td>\n",
       "      <td>0</td>\n",
       "    </tr>\n",
       "    <tr>\n",
       "      <th>2</th>\n",
       "      <td>0</td>\n",
       "      <td>0</td>\n",
       "    </tr>\n",
       "    <tr>\n",
       "      <th>3</th>\n",
       "      <td>0</td>\n",
       "      <td>0</td>\n",
       "    </tr>\n",
       "    <tr>\n",
       "      <th>4</th>\n",
       "      <td>0</td>\n",
       "      <td>0</td>\n",
       "    </tr>\n",
       "    <tr>\n",
       "      <th>5</th>\n",
       "      <td>0</td>\n",
       "      <td>0</td>\n",
       "    </tr>\n",
       "    <tr>\n",
       "      <th>6</th>\n",
       "      <td>0</td>\n",
       "      <td>0</td>\n",
       "    </tr>\n",
       "    <tr>\n",
       "      <th>7</th>\n",
       "      <td>0</td>\n",
       "      <td>0</td>\n",
       "    </tr>\n",
       "    <tr>\n",
       "      <th>8</th>\n",
       "      <td>0</td>\n",
       "      <td>0</td>\n",
       "    </tr>\n",
       "    <tr>\n",
       "      <th>9</th>\n",
       "      <td>0</td>\n",
       "      <td>0</td>\n",
       "    </tr>\n",
       "    <tr>\n",
       "      <th>10</th>\n",
       "      <td>0</td>\n",
       "      <td>0</td>\n",
       "    </tr>\n",
       "    <tr>\n",
       "      <th>11</th>\n",
       "      <td>0</td>\n",
       "      <td>0</td>\n",
       "    </tr>\n",
       "    <tr>\n",
       "      <th>12</th>\n",
       "      <td>0</td>\n",
       "      <td>0</td>\n",
       "    </tr>\n",
       "    <tr>\n",
       "      <th>13</th>\n",
       "      <td>105</td>\n",
       "      <td>1</td>\n",
       "    </tr>\n",
       "    <tr>\n",
       "      <th>14</th>\n",
       "      <td>0</td>\n",
       "      <td>0</td>\n",
       "    </tr>\n",
       "  </tbody>\n",
       "</table>\n",
       "</div>"
      ],
      "text/plain": [
       "    dpd  proxy_bad\n",
       "id                \n",
       "1     0          0\n",
       "2     0          0\n",
       "3     0          0\n",
       "4     0          0\n",
       "5     0          0\n",
       "6     0          0\n",
       "7     0          0\n",
       "8     0          0\n",
       "9     0          0\n",
       "10    0          0\n",
       "11    0          0\n",
       "12    0          0\n",
       "13  105          1\n",
       "14    0          0"
      ]
     },
     "execution_count": 93,
     "metadata": {},
     "output_type": "execute_result"
    }
   ],
   "source": [
    "grouped_df_.head(14)"
   ]
  },
  {
   "cell_type": "code",
   "execution_count": 94,
   "id": "f7dfc44f-b3f6-401f-9dec-63a76fa83342",
   "metadata": {},
   "outputs": [
    {
     "data": {
      "text/html": [
       "<div>\n",
       "<style scoped>\n",
       "    .dataframe tbody tr th:only-of-type {\n",
       "        vertical-align: middle;\n",
       "    }\n",
       "\n",
       "    .dataframe tbody tr th {\n",
       "        vertical-align: top;\n",
       "    }\n",
       "\n",
       "    .dataframe thead th {\n",
       "        text-align: right;\n",
       "    }\n",
       "</style>\n",
       "<table border=\"1\" class=\"dataframe\">\n",
       "  <thead>\n",
       "    <tr style=\"text-align: right;\">\n",
       "      <th></th>\n",
       "      <th>dpd</th>\n",
       "      <th>eventual_bad</th>\n",
       "    </tr>\n",
       "    <tr>\n",
       "      <th>id</th>\n",
       "      <th></th>\n",
       "      <th></th>\n",
       "    </tr>\n",
       "  </thead>\n",
       "  <tbody>\n",
       "    <tr>\n",
       "      <th>1</th>\n",
       "      <td>0</td>\n",
       "      <td>0</td>\n",
       "    </tr>\n",
       "    <tr>\n",
       "      <th>2</th>\n",
       "      <td>28</td>\n",
       "      <td>0</td>\n",
       "    </tr>\n",
       "    <tr>\n",
       "      <th>3</th>\n",
       "      <td>0</td>\n",
       "      <td>0</td>\n",
       "    </tr>\n",
       "    <tr>\n",
       "      <th>4</th>\n",
       "      <td>0</td>\n",
       "      <td>0</td>\n",
       "    </tr>\n",
       "    <tr>\n",
       "      <th>5</th>\n",
       "      <td>0</td>\n",
       "      <td>0</td>\n",
       "    </tr>\n",
       "    <tr>\n",
       "      <th>6</th>\n",
       "      <td>0</td>\n",
       "      <td>0</td>\n",
       "    </tr>\n",
       "    <tr>\n",
       "      <th>7</th>\n",
       "      <td>0</td>\n",
       "      <td>0</td>\n",
       "    </tr>\n",
       "    <tr>\n",
       "      <th>8</th>\n",
       "      <td>0</td>\n",
       "      <td>0</td>\n",
       "    </tr>\n",
       "    <tr>\n",
       "      <th>9</th>\n",
       "      <td>0</td>\n",
       "      <td>0</td>\n",
       "    </tr>\n",
       "    <tr>\n",
       "      <th>10</th>\n",
       "      <td>0</td>\n",
       "      <td>0</td>\n",
       "    </tr>\n",
       "    <tr>\n",
       "      <th>11</th>\n",
       "      <td>0</td>\n",
       "      <td>0</td>\n",
       "    </tr>\n",
       "    <tr>\n",
       "      <th>12</th>\n",
       "      <td>0</td>\n",
       "      <td>0</td>\n",
       "    </tr>\n",
       "    <tr>\n",
       "      <th>13</th>\n",
       "      <td>105</td>\n",
       "      <td>1</td>\n",
       "    </tr>\n",
       "    <tr>\n",
       "      <th>14</th>\n",
       "      <td>0</td>\n",
       "      <td>0</td>\n",
       "    </tr>\n",
       "  </tbody>\n",
       "</table>\n",
       "</div>"
      ],
      "text/plain": [
       "    dpd  eventual_bad\n",
       "id                   \n",
       "1     0             0\n",
       "2    28             0\n",
       "3     0             0\n",
       "4     0             0\n",
       "5     0             0\n",
       "6     0             0\n",
       "7     0             0\n",
       "8     0             0\n",
       "9     0             0\n",
       "10    0             0\n",
       "11    0             0\n",
       "12    0             0\n",
       "13  105             1\n",
       "14    0             0"
      ]
     },
     "execution_count": 94,
     "metadata": {},
     "output_type": "execute_result"
    }
   ],
   "source": [
    "grouped_df.head(14)"
   ]
  },
  {
   "cell_type": "code",
   "execution_count": 97,
   "id": "23a66062-f078-4d30-ab34-0fe499ddf1a5",
   "metadata": {},
   "outputs": [],
   "source": [
    "merged_df = pd.merge(grouped_df,grouped_df_,left_index=True,right_index=True)"
   ]
  },
  {
   "cell_type": "code",
   "execution_count": 98,
   "id": "f9c08759-c3fc-426b-8b77-5d25469540f7",
   "metadata": {},
   "outputs": [
    {
     "data": {
      "text/html": [
       "<div>\n",
       "<style scoped>\n",
       "    .dataframe tbody tr th:only-of-type {\n",
       "        vertical-align: middle;\n",
       "    }\n",
       "\n",
       "    .dataframe tbody tr th {\n",
       "        vertical-align: top;\n",
       "    }\n",
       "\n",
       "    .dataframe thead th {\n",
       "        text-align: right;\n",
       "    }\n",
       "</style>\n",
       "<table border=\"1\" class=\"dataframe\">\n",
       "  <thead>\n",
       "    <tr style=\"text-align: right;\">\n",
       "      <th></th>\n",
       "      <th>dpd_x</th>\n",
       "      <th>eventual_bad</th>\n",
       "      <th>dpd_y</th>\n",
       "      <th>proxy_bad</th>\n",
       "    </tr>\n",
       "    <tr>\n",
       "      <th>id</th>\n",
       "      <th></th>\n",
       "      <th></th>\n",
       "      <th></th>\n",
       "      <th></th>\n",
       "    </tr>\n",
       "  </thead>\n",
       "  <tbody>\n",
       "    <tr>\n",
       "      <th>57</th>\n",
       "      <td>93</td>\n",
       "      <td>1</td>\n",
       "      <td>0</td>\n",
       "      <td>0</td>\n",
       "    </tr>\n",
       "  </tbody>\n",
       "</table>\n",
       "</div>"
      ],
      "text/plain": [
       "    dpd_x  eventual_bad  dpd_y  proxy_bad\n",
       "id                                       \n",
       "57     93             1      0          0"
      ]
     },
     "execution_count": 98,
     "metadata": {},
     "output_type": "execute_result"
    }
   ],
   "source": [
    "merged_df.query('id == 57')"
   ]
  },
  {
   "cell_type": "code",
   "execution_count": 101,
   "id": "eb534335-b2e5-4b16-af6f-835ff4ed96e4",
   "metadata": {},
   "outputs": [
    {
     "data": {
      "text/plain": [
       "array([[6513,  250],\n",
       "       [ 114,  120]])"
      ]
     },
     "execution_count": 101,
     "metadata": {},
     "output_type": "execute_result"
    }
   ],
   "source": [
    "confusion_matrix(merged_df['eventual_bad'],merged_df['proxy_bad'])"
   ]
  },
  {
   "cell_type": "code",
   "execution_count": 102,
   "id": "d5be84d6-4508-4a1c-8139-a7a41986686b",
   "metadata": {},
   "outputs": [
    {
     "data": {
      "text/plain": [
       "0.9479777047305988"
      ]
     },
     "execution_count": 102,
     "metadata": {},
     "output_type": "execute_result"
    }
   ],
   "source": [
    "accuracy_score(merged_df['eventual_bad'],merged_df['proxy_bad'])"
   ]
  },
  {
   "cell_type": "code",
   "execution_count": 103,
   "id": "56cee6e9-3730-4206-ab44-01c0f5cde43e",
   "metadata": {},
   "outputs": [
    {
     "data": {
      "text/plain": [
       "0.32432432432432434"
      ]
     },
     "execution_count": 103,
     "metadata": {},
     "output_type": "execute_result"
    }
   ],
   "source": [
    "precision_score(merged_df['eventual_bad'],merged_df['proxy_bad'])"
   ]
  },
  {
   "cell_type": "code",
   "execution_count": 104,
   "id": "4fbf8636-317a-4d0d-b13c-3adb3ed982c9",
   "metadata": {},
   "outputs": [
    {
     "data": {
      "text/plain": [
       "0.5128205128205128"
      ]
     },
     "execution_count": 104,
     "metadata": {},
     "output_type": "execute_result"
    }
   ],
   "source": [
    "recall_score(merged_df['eventual_bad'],merged_df['proxy_bad'])"
   ]
  },
  {
   "cell_type": "code",
   "execution_count": 105,
   "id": "973cf33f-2f93-47e4-84b4-bf903b3fd7ce",
   "metadata": {},
   "outputs": [
    {
     "data": {
      "text/plain": [
       "0.3973509933774834"
      ]
     },
     "execution_count": 105,
     "metadata": {},
     "output_type": "execute_result"
    }
   ],
   "source": [
    "f1_score(merged_df['eventual_bad'],merged_df['proxy_bad'])"
   ]
  }
 ],
 "metadata": {
  "kernelspec": {
   "display_name": "Python 3 (ipykernel)",
   "language": "python",
   "name": "python3"
  },
  "language_info": {
   "codemirror_mode": {
    "name": "ipython",
    "version": 3
   },
   "file_extension": ".py",
   "mimetype": "text/x-python",
   "name": "python",
   "nbconvert_exporter": "python",
   "pygments_lexer": "ipython3",
   "version": "3.10.8"
  }
 },
 "nbformat": 4,
 "nbformat_minor": 5
}
