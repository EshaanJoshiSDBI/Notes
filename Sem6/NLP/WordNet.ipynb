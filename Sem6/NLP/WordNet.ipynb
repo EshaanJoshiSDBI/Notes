{
 "cells": [
  {
   "cell_type": "code",
   "execution_count": 1,
   "id": "6f9a3712-1b49-4ea9-9617-c01540864dc3",
   "metadata": {},
   "outputs": [],
   "source": [
    "from nltk.corpus import wordnet"
   ]
  },
  {
   "cell_type": "code",
   "execution_count": 2,
   "id": "a5895456-c4f6-4943-9180-6e70e97a31ed",
   "metadata": {},
   "outputs": [
    {
     "data": {
      "text/plain": [
       "[Synset('book.n.01'),\n",
       " Synset('book.n.02'),\n",
       " Synset('record.n.05'),\n",
       " Synset('script.n.01'),\n",
       " Synset('ledger.n.01'),\n",
       " Synset('book.n.06'),\n",
       " Synset('book.n.07'),\n",
       " Synset('koran.n.01'),\n",
       " Synset('bible.n.01'),\n",
       " Synset('book.n.10'),\n",
       " Synset('book.n.11'),\n",
       " Synset('book.v.01'),\n",
       " Synset('reserve.v.04'),\n",
       " Synset('book.v.03'),\n",
       " Synset('book.v.04')]"
      ]
     },
     "execution_count": 2,
     "metadata": {},
     "output_type": "execute_result"
    }
   ],
   "source": [
    "wordnet.synsets('book')"
   ]
  },
  {
   "cell_type": "code",
   "execution_count": 4,
   "id": "d1ec2a02-8f33-4eb5-91f0-b8eb15a32298",
   "metadata": {},
   "outputs": [
    {
     "data": {
      "text/plain": [
       "'a score in baseball made by a runner touching all four bases safely'"
      ]
     },
     "execution_count": 4,
     "metadata": {},
     "output_type": "execute_result"
    }
   ],
   "source": [
    "wordnet.synsets('run')[0].definition()"
   ]
  },
  {
   "cell_type": "code",
   "execution_count": 3,
   "id": "56d893a7-43d0-4407-a665-3fad3bf54756",
   "metadata": {},
   "outputs": [],
   "source": [
    "syn = wordnet.synsets('run')[1]"
   ]
  },
  {
   "cell_type": "code",
   "execution_count": 5,
   "id": "6d749018-6079-45c0-bb59-c768b8ea0559",
   "metadata": {},
   "outputs": [
    {
     "name": "stdout",
     "output_type": "stream",
     "text": [
      "Synset('test.n.05')\n"
     ]
    }
   ],
   "source": [
    "print(syn)"
   ]
  },
  {
   "cell_type": "code",
   "execution_count": 6,
   "id": "cfba3d6b-69e6-4017-9606-87be59b6d5b4",
   "metadata": {},
   "outputs": [
    {
     "data": {
      "text/plain": [
       "'the act of testing something'"
      ]
     },
     "execution_count": 6,
     "metadata": {},
     "output_type": "execute_result"
    }
   ],
   "source": [
    "syn.definition()"
   ]
  },
  {
   "cell_type": "code",
   "execution_count": 7,
   "id": "74a0fae1-5e77-4374-ab0f-8b4a650de6ad",
   "metadata": {},
   "outputs": [],
   "source": [
    "syn = wordnet.synsets('run')[11]"
   ]
  },
  {
   "cell_type": "code",
   "execution_count": 8,
   "id": "36896d39-5171-4fa5-b91b-dbd4010488f2",
   "metadata": {},
   "outputs": [
    {
     "name": "stdout",
     "output_type": "stream",
     "text": [
      "Synset('political_campaign.n.01')\n"
     ]
    }
   ],
   "source": [
    "print(syn)"
   ]
  },
  {
   "cell_type": "code",
   "execution_count": 9,
   "id": "58ee1a58-7f43-43ca-824c-a045ba1bd1db",
   "metadata": {},
   "outputs": [
    {
     "data": {
      "text/plain": [
       "'a race between candidates for elective office'"
      ]
     },
     "execution_count": 9,
     "metadata": {},
     "output_type": "execute_result"
    }
   ],
   "source": [
    "syn.definition()"
   ]
  },
  {
   "cell_type": "code",
   "execution_count": 10,
   "id": "6f1d4d1a-3382-4dcd-ac52-92e42fb5813a",
   "metadata": {},
   "outputs": [],
   "source": [
    "syn = wordnet.synsets('run')[23]"
   ]
  },
  {
   "cell_type": "code",
   "execution_count": 11,
   "id": "875e1b2c-d940-454e-935a-60f9402f2d7f",
   "metadata": {},
   "outputs": [
    {
     "name": "stdout",
     "output_type": "stream",
     "text": [
      "Synset('range.v.01')\n"
     ]
    }
   ],
   "source": [
    "print(syn)"
   ]
  },
  {
   "cell_type": "code",
   "execution_count": 74,
   "id": "ff4f2673-0d11-4f6b-a704-aa121777c80e",
   "metadata": {},
   "outputs": [],
   "source": [
    "syn = wordnet.synsets('mango')[0]"
   ]
  },
  {
   "cell_type": "code",
   "execution_count": 75,
   "id": "105e4f14-fbc7-4f15-926a-68c0cfcd6ade",
   "metadata": {},
   "outputs": [
    {
     "data": {
      "text/plain": [
       "'large evergreen tropical tree cultivated for its large oval fruit'"
      ]
     },
     "execution_count": 75,
     "metadata": {},
     "output_type": "execute_result"
    }
   ],
   "source": [
    "syn.definition()"
   ]
  },
  {
   "cell_type": "code",
   "execution_count": 76,
   "id": "a5467595-62ea-463a-96b3-195f377433a6",
   "metadata": {},
   "outputs": [
    {
     "data": {
      "text/plain": [
       "'mango.n.01'"
      ]
     },
     "execution_count": 76,
     "metadata": {},
     "output_type": "execute_result"
    }
   ],
   "source": [
    "syn.name()"
   ]
  },
  {
   "cell_type": "code",
   "execution_count": 80,
   "id": "51321f64-c900-4419-9868-6ae1c276a692",
   "metadata": {},
   "outputs": [
    {
     "data": {
      "text/plain": [
       "[]"
      ]
     },
     "execution_count": 80,
     "metadata": {},
     "output_type": "execute_result"
    }
   ],
   "source": [
    "syn.examples()"
   ]
  },
  {
   "cell_type": "code",
   "execution_count": 78,
   "id": "baededa0-325a-4e1c-9178-f27c829a5154",
   "metadata": {},
   "outputs": [
    {
     "data": {
      "text/plain": [
       "[Synset('fruit_tree.n.01')]"
      ]
     },
     "execution_count": 78,
     "metadata": {},
     "output_type": "execute_result"
    }
   ],
   "source": [
    "syn.hypernyms()"
   ]
  },
  {
   "cell_type": "code",
   "execution_count": 55,
   "id": "b4ebb46b-997b-44ed-9527-287f7462e64b",
   "metadata": {},
   "outputs": [
    {
     "data": {
      "text/plain": [
       "[Synset('ackee.n.01'),\n",
       " Synset('anchovy_pear.n.02'),\n",
       " Synset('apple.n.01'),\n",
       " Synset('apricot.n.02'),\n",
       " Synset('avocado.n.01'),\n",
       " Synset('banana.n.02'),\n",
       " Synset('barbados_gooseberry.n.02'),\n",
       " Synset('berry.n.01'),\n",
       " Synset('breadfruit.n.02'),\n",
       " Synset('canistel.n.02'),\n",
       " Synset('carambola.n.02'),\n",
       " Synset('carissa_plum.n.01'),\n",
       " Synset('ceriman.n.02'),\n",
       " Synset('cherry.n.03'),\n",
       " Synset('citrus.n.01'),\n",
       " Synset('cling.n.01'),\n",
       " Synset('cocoa_plum.n.02'),\n",
       " Synset('custard_apple.n.02'),\n",
       " Synset('date.n.08'),\n",
       " Synset('dried_fruit.n.01'),\n",
       " Synset('durian.n.02'),\n",
       " Synset('elderberry.n.02'),\n",
       " Synset('feijoa.n.02'),\n",
       " Synset('fig.n.04'),\n",
       " Synset('freestone.n.01'),\n",
       " Synset('garambulla.n.02'),\n",
       " Synset('genip.n.02'),\n",
       " Synset('genipap.n.01'),\n",
       " Synset('grape.n.01'),\n",
       " Synset('guava.n.03'),\n",
       " Synset('hog_plum.n.03'),\n",
       " Synset('hog_plum.n.04'),\n",
       " Synset('jaboticaba.n.02'),\n",
       " Synset('jackfruit.n.02'),\n",
       " Synset('jujube.n.02'),\n",
       " Synset('kai_apple.n.01'),\n",
       " Synset('ketembilla.n.02'),\n",
       " Synset('kiwi.n.03'),\n",
       " Synset('lanseh.n.01'),\n",
       " Synset('litchi.n.02'),\n",
       " Synset('longanberry.n.02'),\n",
       " Synset('loquat.n.02'),\n",
       " Synset('mamey.n.02'),\n",
       " Synset('mango.n.02'),\n",
       " Synset('mangosteen.n.02'),\n",
       " Synset('marang.n.02'),\n",
       " Synset('medlar.n.03'),\n",
       " Synset('medlar.n.04'),\n",
       " Synset('melon.n.01'),\n",
       " Synset('mombin.n.02'),\n",
       " Synset('nectarine.n.02'),\n",
       " Synset('papaw.n.02'),\n",
       " Synset('papaya.n.02'),\n",
       " Synset('passion_fruit.n.01'),\n",
       " Synset('peach.n.03'),\n",
       " Synset('pear.n.01'),\n",
       " Synset('pineapple.n.02'),\n",
       " Synset('pitahaya.n.02'),\n",
       " Synset('plum.n.02'),\n",
       " Synset('plumcot.n.02'),\n",
       " Synset('pomegranate.n.02'),\n",
       " Synset('prickly_pear.n.02'),\n",
       " Synset('pulasan.n.02'),\n",
       " Synset('quandong.n.04'),\n",
       " Synset('quince.n.02'),\n",
       " Synset('rambutan.n.02'),\n",
       " Synset('rose_apple.n.02'),\n",
       " Synset('sapodilla.n.02'),\n",
       " Synset('sapote.n.02'),\n",
       " Synset('sorb.n.01'),\n",
       " Synset('sour_gourd.n.02'),\n",
       " Synset('sour_gourd.n.03'),\n",
       " Synset('tamarind.n.02'),\n",
       " Synset('tangelo.n.02'),\n",
       " Synset('windfall.n.01')]"
      ]
     },
     "execution_count": 55,
     "metadata": {},
     "output_type": "execute_result"
    }
   ],
   "source": [
    "syn.hypernyms()[0].hyponyms()"
   ]
  },
  {
   "cell_type": "code",
   "execution_count": 51,
   "id": "15411e94-dbe1-4e61-a629-96a59fa4c278",
   "metadata": {},
   "outputs": [
    {
     "data": {
      "text/plain": [
       "[]"
      ]
     },
     "execution_count": 51,
     "metadata": {},
     "output_type": "execute_result"
    }
   ],
   "source": [
    "syn.hyponyms()"
   ]
  },
  {
   "cell_type": "code",
   "execution_count": 52,
   "id": "a776bffd-d69e-4d1e-ac15-db2f42f2656a",
   "metadata": {},
   "outputs": [
    {
     "data": {
      "text/plain": [
       "[Synset('entity.n.01')]"
      ]
     },
     "execution_count": 52,
     "metadata": {},
     "output_type": "execute_result"
    }
   ],
   "source": [
    "syn.root_hypernyms()"
   ]
  },
  {
   "cell_type": "code",
   "execution_count": 86,
   "id": "2d545417-28c3-4479-a79b-7e054c7daa20",
   "metadata": {},
   "outputs": [],
   "source": [
    "def word_net(word):\n",
    "    res1 = {\"word\":word}\n",
    "    res2 = {word:wordnet.synsets(word)}\n",
    "    res3 = {i.name():{'definition':i.definition(),'example':i.examples()} for i in wordnet.synsets(word)}\n",
    "    res4 = {'hypernyms':[i.hypernyms() for i in wordnet.synsets(word)],'hyponyms':[i.hyponyms() for i in wordnet.synsets(word)]}\n",
    "    return res1,res2,res3,res4"
   ]
  },
  {
   "cell_type": "code",
   "execution_count": 87,
   "id": "18e92704-a5de-48c3-b230-c9aa9b8ccf01",
   "metadata": {},
   "outputs": [],
   "source": [
    "word,syns,defs,hyper = word_net('table')"
   ]
  },
  {
   "cell_type": "code",
   "execution_count": 88,
   "id": "414d7541-660d-4d81-80cb-837574feb351",
   "metadata": {},
   "outputs": [
    {
     "data": {
      "text/plain": [
       "{'word': 'table'}"
      ]
     },
     "execution_count": 88,
     "metadata": {},
     "output_type": "execute_result"
    }
   ],
   "source": [
    "word"
   ]
  },
  {
   "cell_type": "code",
   "execution_count": 89,
   "id": "de6e1d4c-7082-41c3-b6ab-844356efefec",
   "metadata": {},
   "outputs": [
    {
     "data": {
      "text/plain": [
       "{'table': [Synset('table.n.01'),\n",
       "  Synset('table.n.02'),\n",
       "  Synset('table.n.03'),\n",
       "  Synset('mesa.n.01'),\n",
       "  Synset('table.n.05'),\n",
       "  Synset('board.n.04'),\n",
       "  Synset('postpone.v.01'),\n",
       "  Synset('table.v.02')]}"
      ]
     },
     "execution_count": 89,
     "metadata": {},
     "output_type": "execute_result"
    }
   ],
   "source": [
    "syns"
   ]
  },
  {
   "cell_type": "code",
   "execution_count": 90,
   "id": "0597970f-b711-4add-ba51-bcafc9c563ee",
   "metadata": {},
   "outputs": [
    {
     "data": {
      "text/plain": [
       "{'table.n.01': {'definition': 'a set of data arranged in rows and columns',\n",
       "  'example': ['see table 1']},\n",
       " 'table.n.02': {'definition': 'a piece of furniture having a smooth flat top that is usually supported by one or more vertical legs',\n",
       "  'example': ['it was a sturdy table']},\n",
       " 'table.n.03': {'definition': 'a piece of furniture with tableware for a meal laid out on it',\n",
       "  'example': ['I reserved a table at my favorite restaurant']},\n",
       " 'mesa.n.01': {'definition': 'flat tableland with steep edges',\n",
       "  'example': ['the tribe was relatively safe on the mesa but they had to descend into the valley for water']},\n",
       " 'table.n.05': {'definition': 'a company of people assembled at a table for a meal or game',\n",
       "  'example': ['he entertained the whole table with his witty remarks']},\n",
       " 'board.n.04': {'definition': 'food or meals in general',\n",
       "  'example': ['she sets a fine table', 'room and board']},\n",
       " 'postpone.v.01': {'definition': 'hold back to a later time',\n",
       "  'example': [\"let's postpone the exam\"]},\n",
       " 'table.v.02': {'definition': 'arrange or enter in tabular form',\n",
       "  'example': []}}"
      ]
     },
     "execution_count": 90,
     "metadata": {},
     "output_type": "execute_result"
    }
   ],
   "source": [
    "defs"
   ]
  },
  {
   "cell_type": "code",
   "execution_count": 91,
   "id": "e674dc37-6137-46f6-8ba7-9d699b5cf35c",
   "metadata": {},
   "outputs": [
    {
     "data": {
      "text/plain": [
       "{'hypernyms': [[Synset('array.n.01')],\n",
       "  [Synset('furniture.n.01')],\n",
       "  [Synset('furniture.n.01')],\n",
       "  [Synset('tableland.n.01')],\n",
       "  [Synset('gathering.n.01')],\n",
       "  [Synset('fare.n.04')],\n",
       "  [Synset('delay.v.02')],\n",
       "  [Synset('arrange.v.06')]],\n",
       " 'hyponyms': [[Synset('actuarial_table.n.01'),\n",
       "   Synset('calendar.n.03'),\n",
       "   Synset('contents.n.01'),\n",
       "   Synset('correlation_table.n.01'),\n",
       "   Synset('file_allocation_table.n.01'),\n",
       "   Synset('periodic_table.n.01')],\n",
       "  [Synset('altar.n.01'),\n",
       "   Synset('booth.n.01'),\n",
       "   Synset('breakfast_table.n.01'),\n",
       "   Synset('card_table.n.01'),\n",
       "   Synset('card_table.n.02'),\n",
       "   Synset('coffee_table.n.01'),\n",
       "   Synset('conference_table.n.01'),\n",
       "   Synset('console_table.n.01'),\n",
       "   Synset('counter.n.01'),\n",
       "   Synset('desk.n.01'),\n",
       "   Synset('dressing_table.n.01'),\n",
       "   Synset('drop-leaf_table.n.01'),\n",
       "   Synset('gaming_table.n.01'),\n",
       "   Synset('gueridon.n.01'),\n",
       "   Synset('kitchen_table.n.01'),\n",
       "   Synset('operating_table.n.01'),\n",
       "   Synset('parsons_table.n.01'),\n",
       "   Synset('pedestal_table.n.01'),\n",
       "   Synset('pier_table.n.01'),\n",
       "   Synset('platen.n.01'),\n",
       "   Synset('pool_table.n.01'),\n",
       "   Synset('stand.n.04'),\n",
       "   Synset('table-tennis_table.n.01'),\n",
       "   Synset('tea_table.n.01'),\n",
       "   Synset('trestle_table.n.01'),\n",
       "   Synset('worktable.n.01')],\n",
       "  [Synset('dining_table.n.01')],\n",
       "  [],\n",
       "  [],\n",
       "  [Synset('training_table.n.01')],\n",
       "  [Synset('call.v.11'),\n",
       "   Synset('hold.v.26'),\n",
       "   Synset('probate.v.01'),\n",
       "   Synset('reprieve.v.01'),\n",
       "   Synset('suspend.v.06')],\n",
       "  []]}"
      ]
     },
     "execution_count": 91,
     "metadata": {},
     "output_type": "execute_result"
    }
   ],
   "source": [
    "hyper"
   ]
  }
 ],
 "metadata": {
  "kernelspec": {
   "display_name": "Python 3 (ipykernel)",
   "language": "python",
   "name": "python3"
  },
  "language_info": {
   "codemirror_mode": {
    "name": "ipython",
    "version": 3
   },
   "file_extension": ".py",
   "mimetype": "text/x-python",
   "name": "python",
   "nbconvert_exporter": "python",
   "pygments_lexer": "ipython3",
   "version": "3.10.8"
  }
 },
 "nbformat": 4,
 "nbformat_minor": 5
}
