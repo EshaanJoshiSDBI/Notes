{
 "cells": [
  {
   "cell_type": "code",
   "execution_count": 7,
   "id": "1cdebda7-f6cd-4868-b3f9-001c85d61fe3",
   "metadata": {
    "tags": []
   },
   "outputs": [],
   "source": [
    "import numpy as np\n",
    "import pandas as pd\n",
    "import re\n",
    "import matplotlib.pyplot as plt\n",
    "import seaborn as sns\n",
    "from wordcloud import WordCloud,STOPWORDS,ImageColorGenerator\n",
    "import nltk\n",
    "from string import punctuation\n",
    "from itertools import islice\n",
    "from nltk.corpus import wordnet\n",
    "from sklearn.model_selection import train_test_split\n",
    "from sklearn.feature_extraction.text import TfidfVectorizer, CountVectorizer\n",
    "from sklearn.linear_model import LogisticRegression\n",
    "from sklearn.svm import LinearSVC\n",
    "from sklearn.tree import DecisionTreeClassifier\n",
    "from sklearn.ensemble import RandomForestClassifier\n",
    "from sklearn.metrics import classification_report,f1_score\n",
    "from sklearn.cluster import KMeans\n",
    "from sklearn.metrics import adjusted_rand_score\n",
    "from sklearn.metrics.pairwise import cosine_similarity\n",
    "import gensim\n",
    "from afinn import Afinn\n",
    "from textblob import TextBlob\n",
    "from collections import Counter\n",
    "from sklearn.feature_extraction.text import CountVectorizer\n",
    "from sklearn.metrics.pairwise import cosine_similarity\n",
    "from pattern.en import lemma,lexeme\n",
    "lem = nltk.WordNetLemmatizer()"
   ]
  },
  {
   "cell_type": "code",
   "execution_count": 2,
   "id": "a531c8b6-557a-4f83-944f-08f44753a909",
   "metadata": {
    "tags": []
   },
   "outputs": [],
   "source": [
    "df = pd.read_csv('Tweets.csv')"
   ]
  },
  {
   "cell_type": "code",
   "execution_count": 3,
   "id": "4408fb9b-85e4-4fc7-8da5-7605f3059d5d",
   "metadata": {
    "tags": []
   },
   "outputs": [
    {
     "data": {
      "text/html": [
       "<div>\n",
       "<style scoped>\n",
       "    .dataframe tbody tr th:only-of-type {\n",
       "        vertical-align: middle;\n",
       "    }\n",
       "\n",
       "    .dataframe tbody tr th {\n",
       "        vertical-align: top;\n",
       "    }\n",
       "\n",
       "    .dataframe thead th {\n",
       "        text-align: right;\n",
       "    }\n",
       "</style>\n",
       "<table border=\"1\" class=\"dataframe\">\n",
       "  <thead>\n",
       "    <tr style=\"text-align: right;\">\n",
       "      <th></th>\n",
       "      <th>tweet_id</th>\n",
       "      <th>airline_sentiment</th>\n",
       "      <th>airline_sentiment_confidence</th>\n",
       "      <th>negativereason</th>\n",
       "      <th>negativereason_confidence</th>\n",
       "      <th>airline</th>\n",
       "      <th>airline_sentiment_gold</th>\n",
       "      <th>name</th>\n",
       "      <th>negativereason_gold</th>\n",
       "      <th>retweet_count</th>\n",
       "      <th>text</th>\n",
       "      <th>tweet_coord</th>\n",
       "      <th>tweet_created</th>\n",
       "      <th>tweet_location</th>\n",
       "      <th>user_timezone</th>\n",
       "    </tr>\n",
       "  </thead>\n",
       "  <tbody>\n",
       "    <tr>\n",
       "      <th>0</th>\n",
       "      <td>570306133677760513</td>\n",
       "      <td>neutral</td>\n",
       "      <td>1.0000</td>\n",
       "      <td>NaN</td>\n",
       "      <td>NaN</td>\n",
       "      <td>Virgin America</td>\n",
       "      <td>NaN</td>\n",
       "      <td>cairdin</td>\n",
       "      <td>NaN</td>\n",
       "      <td>0</td>\n",
       "      <td>@VirginAmerica What @dhepburn said.</td>\n",
       "      <td>NaN</td>\n",
       "      <td>2015-02-24 11:35:52 -0800</td>\n",
       "      <td>NaN</td>\n",
       "      <td>Eastern Time (US &amp; Canada)</td>\n",
       "    </tr>\n",
       "    <tr>\n",
       "      <th>1</th>\n",
       "      <td>570301130888122368</td>\n",
       "      <td>positive</td>\n",
       "      <td>0.3486</td>\n",
       "      <td>NaN</td>\n",
       "      <td>0.0</td>\n",
       "      <td>Virgin America</td>\n",
       "      <td>NaN</td>\n",
       "      <td>jnardino</td>\n",
       "      <td>NaN</td>\n",
       "      <td>0</td>\n",
       "      <td>@VirginAmerica plus you've added commercials t...</td>\n",
       "      <td>NaN</td>\n",
       "      <td>2015-02-24 11:15:59 -0800</td>\n",
       "      <td>NaN</td>\n",
       "      <td>Pacific Time (US &amp; Canada)</td>\n",
       "    </tr>\n",
       "  </tbody>\n",
       "</table>\n",
       "</div>"
      ],
      "text/plain": [
       "             tweet_id airline_sentiment  airline_sentiment_confidence  \\\n",
       "0  570306133677760513           neutral                        1.0000   \n",
       "1  570301130888122368          positive                        0.3486   \n",
       "\n",
       "  negativereason  negativereason_confidence         airline  \\\n",
       "0            NaN                        NaN  Virgin America   \n",
       "1            NaN                        0.0  Virgin America   \n",
       "\n",
       "  airline_sentiment_gold      name negativereason_gold  retweet_count  \\\n",
       "0                    NaN   cairdin                 NaN              0   \n",
       "1                    NaN  jnardino                 NaN              0   \n",
       "\n",
       "                                                text tweet_coord  \\\n",
       "0                @VirginAmerica What @dhepburn said.         NaN   \n",
       "1  @VirginAmerica plus you've added commercials t...         NaN   \n",
       "\n",
       "               tweet_created tweet_location               user_timezone  \n",
       "0  2015-02-24 11:35:52 -0800            NaN  Eastern Time (US & Canada)  \n",
       "1  2015-02-24 11:15:59 -0800            NaN  Pacific Time (US & Canada)  "
      ]
     },
     "execution_count": 3,
     "metadata": {},
     "output_type": "execute_result"
    }
   ],
   "source": [
    "df.head(2)"
   ]
  },
  {
   "cell_type": "markdown",
   "id": "9f7b31e7-6c5a-45b3-b3c2-e30bf0b6a52f",
   "metadata": {},
   "source": [
    "#### Text Preprocessing"
   ]
  },
  {
   "cell_type": "code",
   "execution_count": 4,
   "id": "cb534d80-6d40-4089-8937-93ef5bd30af9",
   "metadata": {
    "tags": []
   },
   "outputs": [],
   "source": [
    "def pos_tag_simplified(tag):\n",
    "    if tag.startswith('J'):\n",
    "        return wordnet.ADJ\n",
    "    elif tag.startswith('V'):\n",
    "        return wordnet.VERB\n",
    "    elif tag.startswith('N'):\n",
    "        return wordnet.NOUN\n",
    "    elif tag.startswith('R'):\n",
    "        return wordnet.ADV\n",
    "    else:\n",
    "        return None\n",
    "\n",
    "def contractions(s):\n",
    "    s = re.sub(r\"won't\", \"will not\",s)\n",
    "    s = re.sub(r\"would't\", \"would not\",s)\n",
    "    s = re.sub(r\"could't\", \"could not\",s)\n",
    "    s = re.sub(r\"\\'d\", \" would\",s)\n",
    "    s = re.sub(r\"can\\'t\", \"can not\",s)\n",
    "    s = re.sub(r\"n\\'t\", \" not\", s)\n",
    "    s= re.sub(r\"\\'re\", \" are\", s)\n",
    "    s = re.sub(r\"\\'s\", \" is\", s)\n",
    "    s = re.sub(r\"\\'ll\", \" will\", s)\n",
    "    s = re.sub(r\"\\'t\", \" not\", s)\n",
    "    s = re.sub(r\"\\'ve\", \" have\", s)\n",
    "    s = re.sub(r\"\\'m\", \" am\", s)\n",
    "    return s"
   ]
  },
  {
   "cell_type": "code",
   "execution_count": null,
   "id": "d198d464-da34-4aca-8309-5a31166b958e",
   "metadata": {
    "tags": []
   },
   "outputs": [],
   "source": [
    "df['pre_process'] = df['Description'].apply(lambda x: ' '.join(x.lower() for x in str(x).split()))\n",
    "\n",
    "df['pre_process'] = df['pre_process'].apply(lambda x:contractions(x))\n",
    "\n",
    "df['pre_process'] = df['pre_process'].apply(lambda x: ' '.join([re.sub('[^A-z]+','',x) for x in nltk.word_tokenize(x)]))\n",
    "\n",
    "df['pre_process'] = df['pre_process'].apply(lambda x: re.sub('Â |Â',' ',x))\n",
    "\n",
    "df['pre_process'] = df['pre_process'].apply(lambda x: ' '.join(filter(lambda y: len(y) > 3, x.split())))\n",
    "\n",
    "df['pre_process'] = df['pre_process'].apply(lambda x: re.sub('mm',' ',x))\n",
    "\n",
    "df['pre_process'] = df['pre_process'].apply(lambda x: re.sub('cm',' ',x))\n",
    "\n",
    "stop = nltk.corpus.stopwords.words('english')\n",
    "\n",
    "df['pre_process'] = df['pre_process'].apply(lambda x: ' '.join([x for x in x.split() if x not in stop]))\n",
    "\n",
    "tagged = nltk.pos_tag(df['pre_process'])\n",
    "\n",
    "simple_tagged = list(map(lambda x:(x[0],pos_tag_simplified(x[1])),tagged))\n",
    "\n",
    "lemmatized = [lem.lemmatize(i[0],i[1]) if i[1] != None else lem.lemmatize(i[0]) for i in simple_tagged]\n",
    "\n",
    "df['pre_process'] = lemmatized"
   ]
  },
  {
   "cell_type": "code",
   "execution_count": null,
   "id": "4353a07e-a585-426d-bcaa-8a17240e10f2",
   "metadata": {},
   "outputs": [],
   "source": [
    "df.head(3)"
   ]
  },
  {
   "cell_type": "markdown",
   "id": "93119b52-8d72-44f3-a59c-c580b263e917",
   "metadata": {},
   "source": [
    "#### WordCloud"
   ]
  },
  {
   "cell_type": "code",
   "execution_count": null,
   "id": "4fc491f8-6e21-4a3a-9e9f-2e369c2c0e9e",
   "metadata": {},
   "outputs": [],
   "source": [
    "txt = str(df['pre_process'].values)\n",
    "wcd = WordCloud(max_font_size=100,background_color=None,stopwords='english').generate(txt)\n",
    "plt.figure(figsize=(16,9))\n",
    "plt.imshow(wcd,interpolation='gaussian')\n",
    "plt.axis('off')\n",
    "plt.show()"
   ]
  },
  {
   "cell_type": "markdown",
   "id": "d77c594f-da27-4d96-81e5-e3399919d72a",
   "metadata": {},
   "source": [
    "#### EDA"
   ]
  },
  {
   "cell_type": "code",
   "execution_count": 23,
   "id": "ca685453-427d-4256-8708-1445cf2e2ac7",
   "metadata": {
    "tags": []
   },
   "outputs": [],
   "source": [
    "words = nltk.word_tokenize(str(df['pre_process'].values.tolist()))\n",
    "words = [i.lower() for i in words if i.isalpha()]"
   ]
  },
  {
   "cell_type": "code",
   "execution_count": 25,
   "id": "16bbc31a-200d-4040-a247-d2a9fbd4fe47",
   "metadata": {
    "tags": []
   },
   "outputs": [],
   "source": [
    "freq = nltk.FreqDist(words)"
   ]
  },
  {
   "cell_type": "code",
   "execution_count": 26,
   "id": "9fd5d984-b4f2-42ea-a773-597e3975a1b5",
   "metadata": {
    "tags": []
   },
   "outputs": [],
   "source": [
    "df_freq = pd.DataFrame.from_dict([freq]).T\n",
    "df_freq.columns=['words']"
   ]
  },
  {
   "cell_type": "code",
   "execution_count": 27,
   "id": "775125d1-6f8c-4c5a-ad00-5799ab6ae688",
   "metadata": {
    "tags": []
   },
   "outputs": [
    {
     "data": {
      "text/plain": [
       "Text(0, 0.5, 'count of word')"
      ]
     },
     "execution_count": 27,
     "metadata": {},
     "output_type": "execute_result"
    },
    {
     "data": {
      "image/png": "[encoded data removed]",
      "text/plain": [
       "<Figure size 640x480 with 1 Axes>"
      ]
     },
     "metadata": {},
     "output_type": "display_data"
    }
   ],
   "source": [
    "df_freq.sort_values(by='words',ascending=False)[:10]\\\n",
    ".plot(kind='bar',title='Top 25 most frequently occuring words')\n",
    "plt.ylabel('count of word')"
   ]
  },
  {
   "cell_type": "code",
   "execution_count": 28,
   "id": "bf8d9e37-252c-428a-91eb-5c2c47c92849",
   "metadata": {
    "tags": []
   },
   "outputs": [
    {
     "data": {
      "text/plain": [
       "<Axes: xlabel='Product Category', ylabel='count'>"
      ]
     },
     "execution_count": 28,
     "metadata": {},
     "output_type": "execute_result"
    },
    {
     "data": {
      "image/png": "[encoded data removed]",
      "text/plain": [
       "<Figure size 640x480 with 1 Axes>"
      ]
     },
     "metadata": {},
     "output_type": "display_data"
    }
   ],
   "source": [
    "sns.countplot(x=df['Product Category'])"
   ]
  },
  {
   "cell_type": "code",
   "execution_count": 29,
   "id": "3059c86b-4eab-413d-8baa-656eb0013e10",
   "metadata": {
    "tags": []
   },
   "outputs": [],
   "source": [
    "df['word_count'] = df['pre_process'].apply(lambda x: len(str(x).split()))"
   ]
  },
  {
   "cell_type": "code",
   "execution_count": 30,
   "id": "dff68559-a5f5-45d3-b8b2-6a6101faf234",
   "metadata": {
    "tags": []
   },
   "outputs": [
    {
     "name": "stdout",
     "output_type": "stream",
     "text": [
      "The average number of words in product description of Electronics is: 77\n"
     ]
    }
   ],
   "source": [
    "print('The average number of words in product description of Electronics is: {}'.format(round(df[df['Product Category'] == 'Electronics']['word_count'].mean())))"
   ]
  },
  {
   "cell_type": "code",
   "execution_count": 31,
   "id": "3577a3ba-5764-4f91-90c3-6da7f771b746",
   "metadata": {
    "tags": []
   },
   "outputs": [
    {
     "name": "stdout",
     "output_type": "stream",
     "text": [
      "The average number of words in product description of Household is: 64\n"
     ]
    }
   ],
   "source": [
    "print('The average number of words in product description of Household is: {}'.format(round(df[df['Product Category'] == 'Household']['word_count'].mean())))"
   ]
  },
  {
   "cell_type": "code",
   "execution_count": 32,
   "id": "a2d7afa0-f71b-42cd-a2ad-be3b71038397",
   "metadata": {
    "tags": []
   },
   "outputs": [
    {
     "name": "stdout",
     "output_type": "stream",
     "text": [
      "The average number of words in product description of Clothing & Accessories is: 44\n"
     ]
    }
   ],
   "source": [
    "print('The average number of words in product description of Clothing & Accessories is: {}'.format(round(df[df['Product Category'] == 'Clothing & Accessories']['word_count'].mean())))"
   ]
  },
  {
   "cell_type": "markdown",
   "id": "bc916e5c-2f54-43c5-ad84-8a99066f7324",
   "metadata": {},
   "source": [
    "#### Tf-Idf"
   ]
  },
  {
   "cell_type": "code",
   "execution_count": 36,
   "id": "cfbc86ff-2bfc-4b3d-a793-b351a8d03455",
   "metadata": {
    "tags": []
   },
   "outputs": [],
   "source": [
    "vec = TfidfVectorizer(use_idf=True)"
   ]
  },
  {
   "cell_type": "code",
   "execution_count": 37,
   "id": "94628106-1c06-4b5b-bd75-e5fd8e019084",
   "metadata": {
    "tags": []
   },
   "outputs": [],
   "source": [
    "x_train = vec.fit_transform(x_train)\n",
    "x_test = vec.transform(x_test)"
   ]
  },
  {
   "cell_type": "markdown",
   "id": "2782169a-7bfa-44b4-9cac-30bfa751139b",
   "metadata": {},
   "source": [
    "#### Text Classification"
   ]
  },
  {
   "cell_type": "markdown",
   "id": "4755cd2a-0e6b-405d-a87d-05c154c366ce",
   "metadata": {
    "tags": []
   },
   "source": [
    "##### SVM Model"
   ]
  },
  {
   "cell_type": "code",
   "execution_count": 38,
   "id": "a67082a7-f529-4267-81ec-e12f306d090e",
   "metadata": {
    "tags": []
   },
   "outputs": [],
   "source": [
    "model_svm = LinearSVC(random_state=0)"
   ]
  },
  {
   "cell_type": "code",
   "execution_count": 39,
   "id": "b6ce8b1a-5226-402a-8fec-bb398d154f8c",
   "metadata": {
    "tags": []
   },
   "outputs": [
    {
     "data": {
      "text/html": [
       "<style>#sk-container-id-1 {color: black;background-color: white;}#sk-container-id-1 pre{padding: 0;}#sk-container-id-1 div.sk-toggleable {background-color: white;}#sk-container-id-1 label.sk-toggleable__label {cursor: pointer;display: block;width: 100%;margin-bottom: 0;padding: 0.3em;box-sizing: border-box;text-align: center;}#sk-container-id-1 label.sk-toggleable__label-arrow:before {content: \"▸\";float: left;margin-right: 0.25em;color: #696969;}#sk-container-id-1 label.sk-toggleable__label-arrow:hover:before {color: black;}#sk-container-id-1 div.sk-estimator:hover label.sk-toggleable__label-arrow:before {color: black;}#sk-container-id-1 div.sk-toggleable__content {max-height: 0;max-width: 0;overflow: hidden;text-align: left;background-color: #f0f8ff;}#sk-container-id-1 div.sk-toggleable__content pre {margin: 0.2em;color: black;border-radius: 0.25em;background-color: #f0f8ff;}#sk-container-id-1 input.sk-toggleable__control:checked~div.sk-toggleable__content {max-height: 200px;max-width: 100%;overflow: auto;}#sk-container-id-1 input.sk-toggleable__control:checked~label.sk-toggleable__label-arrow:before {content: \"▾\";}#sk-container-id-1 div.sk-estimator input.sk-toggleable__control:checked~label.sk-toggleable__label {background-color: #d4ebff;}#sk-container-id-1 div.sk-label input.sk-toggleable__control:checked~label.sk-toggleable__label {background-color: #d4ebff;}#sk-container-id-1 input.sk-hidden--visually {border: 0;clip: rect(1px 1px 1px 1px);clip: rect(1px, 1px, 1px, 1px);height: 1px;margin: -1px;overflow: hidden;padding: 0;position: absolute;width: 1px;}#sk-container-id-1 div.sk-estimator {font-family: monospace;background-color: #f0f8ff;border: 1px dotted black;border-radius: 0.25em;box-sizing: border-box;margin-bottom: 0.5em;}#sk-container-id-1 div.sk-estimator:hover {background-color: #d4ebff;}#sk-container-id-1 div.sk-parallel-item::after {content: \"\";width: 100%;border-bottom: 1px solid gray;flex-grow: 1;}#sk-container-id-1 div.sk-label:hover label.sk-toggleable__label {background-color: #d4ebff;}#sk-container-id-1 div.sk-serial::before {content: \"\";position: absolute;border-left: 1px solid gray;box-sizing: border-box;top: 0;bottom: 0;left: 50%;z-index: 0;}#sk-container-id-1 div.sk-serial {display: flex;flex-direction: column;align-items: center;background-color: white;padding-right: 0.2em;padding-left: 0.2em;position: relative;}#sk-container-id-1 div.sk-item {position: relative;z-index: 1;}#sk-container-id-1 div.sk-parallel {display: flex;align-items: stretch;justify-content: center;background-color: white;position: relative;}#sk-container-id-1 div.sk-item::before, #sk-container-id-1 div.sk-parallel-item::before {content: \"\";position: absolute;border-left: 1px solid gray;box-sizing: border-box;top: 0;bottom: 0;left: 50%;z-index: -1;}#sk-container-id-1 div.sk-parallel-item {display: flex;flex-direction: column;z-index: 1;position: relative;background-color: white;}#sk-container-id-1 div.sk-parallel-item:first-child::after {align-self: flex-end;width: 50%;}#sk-container-id-1 div.sk-parallel-item:last-child::after {align-self: flex-start;width: 50%;}#sk-container-id-1 div.sk-parallel-item:only-child::after {width: 0;}#sk-container-id-1 div.sk-dashed-wrapped {border: 1px dashed gray;margin: 0 0.4em 0.5em 0.4em;box-sizing: border-box;padding-bottom: 0.4em;background-color: white;}#sk-container-id-1 div.sk-label label {font-family: monospace;font-weight: bold;display: inline-block;line-height: 1.2em;}#sk-container-id-1 div.sk-label-container {text-align: center;}#sk-container-id-1 div.sk-container {/* jupyter's `normalize.less` sets `[hidden] { display: none; }` but bootstrap.min.css set `[hidden] { display: none !important; }` so we also need the `!important` here to be able to override the default hidden behavior on the sphinx rendered scikit-learn.org. See: https://github.com/scikit-learn/scikit-learn/issues/21755 */display: inline-block !important;position: relative;}#sk-container-id-1 div.sk-text-repr-fallback {display: none;}</style><div id=\"sk-container-id-1\" class=\"sk-top-container\"><div class=\"sk-text-repr-fallback\"><pre>LinearSVC(random_state=0)</pre><b>In a Jupyter environment, please rerun this cell to show the HTML representation or trust the notebook. <br />On GitHub, the HTML representation is unable to render, please try loading this page with nbviewer.org.</b></div><div class=\"sk-container\" hidden><div class=\"sk-item\"><div class=\"sk-estimator sk-toggleable\"><input class=\"sk-toggleable__control sk-hidden--visually\" id=\"sk-estimator-id-1\" type=\"checkbox\" checked><label for=\"sk-estimator-id-1\" class=\"sk-toggleable__label sk-toggleable__label-arrow\">LinearSVC</label><div class=\"sk-toggleable__content\"><pre>LinearSVC(random_state=0)</pre></div></div></div></div></div>"
      ],
      "text/plain": [
       "LinearSVC(random_state=0)"
      ]
     },
     "execution_count": 39,
     "metadata": {},
     "output_type": "execute_result"
    }
   ],
   "source": [
    "model_svm.fit(x_train,y_train)"
   ]
  },
  {
   "cell_type": "code",
   "execution_count": 40,
   "id": "49fa89ad-27c2-4610-8baf-96fe0139d839",
   "metadata": {
    "tags": []
   },
   "outputs": [],
   "source": [
    "pred_svm = model_svm.predict(x_test)"
   ]
  },
  {
   "cell_type": "code",
   "execution_count": 41,
   "id": "c0d8a50e-c93f-44bd-9d20-552dbebb5aff",
   "metadata": {
    "tags": []
   },
   "outputs": [],
   "source": [
    "report_svm = classification_report(y_test,pred_svm)"
   ]
  },
  {
   "cell_type": "code",
   "execution_count": 42,
   "id": "c07fab29-64ab-43b2-81af-0d35d22cb903",
   "metadata": {
    "tags": []
   },
   "outputs": [
    {
     "name": "stdout",
     "output_type": "stream",
     "text": [
      "                        precision    recall  f1-score   support\n",
      "\n",
      "Clothing & Accessories       0.99      0.98      0.99      2074\n",
      "           Electronics       0.98      0.98      0.98      2676\n",
      "             Household       0.98      0.99      0.99      4902\n",
      "\n",
      "              accuracy                           0.98      9652\n",
      "             macro avg       0.99      0.98      0.98      9652\n",
      "          weighted avg       0.98      0.98      0.98      9652\n",
      "\n"
     ]
    }
   ],
   "source": [
    "print(report_svm)"
   ]
  },
  {
   "cell_type": "markdown",
   "id": "7bc12664-f88a-4b8b-ae15-337bee177404",
   "metadata": {},
   "source": [
    "##### Logistic Regression"
   ]
  },
  {
   "cell_type": "code",
   "execution_count": 43,
   "id": "1693f9b5-899e-4486-9f3d-140b276c36a9",
   "metadata": {
    "tags": []
   },
   "outputs": [],
   "source": [
    "model_log = LogisticRegression(max_iter=2000)"
   ]
  },
  {
   "cell_type": "code",
   "execution_count": 44,
   "id": "171a8243-91c7-487b-afcd-9b738b512f84",
   "metadata": {
    "tags": []
   },
   "outputs": [
    {
     "data": {
      "text/html": [
       "<style>#sk-container-id-2 {color: black;background-color: white;}#sk-container-id-2 pre{padding: 0;}#sk-container-id-2 div.sk-toggleable {background-color: white;}#sk-container-id-2 label.sk-toggleable__label {cursor: pointer;display: block;width: 100%;margin-bottom: 0;padding: 0.3em;box-sizing: border-box;text-align: center;}#sk-container-id-2 label.sk-toggleable__label-arrow:before {content: \"▸\";float: left;margin-right: 0.25em;color: #696969;}#sk-container-id-2 label.sk-toggleable__label-arrow:hover:before {color: black;}#sk-container-id-2 div.sk-estimator:hover label.sk-toggleable__label-arrow:before {color: black;}#sk-container-id-2 div.sk-toggleable__content {max-height: 0;max-width: 0;overflow: hidden;text-align: left;background-color: #f0f8ff;}#sk-container-id-2 div.sk-toggleable__content pre {margin: 0.2em;color: black;border-radius: 0.25em;background-color: #f0f8ff;}#sk-container-id-2 input.sk-toggleable__control:checked~div.sk-toggleable__content {max-height: 200px;max-width: 100%;overflow: auto;}#sk-container-id-2 input.sk-toggleable__control:checked~label.sk-toggleable__label-arrow:before {content: \"▾\";}#sk-container-id-2 div.sk-estimator input.sk-toggleable__control:checked~label.sk-toggleable__label {background-color: #d4ebff;}#sk-container-id-2 div.sk-label input.sk-toggleable__control:checked~label.sk-toggleable__label {background-color: #d4ebff;}#sk-container-id-2 input.sk-hidden--visually {border: 0;clip: rect(1px 1px 1px 1px);clip: rect(1px, 1px, 1px, 1px);height: 1px;margin: -1px;overflow: hidden;padding: 0;position: absolute;width: 1px;}#sk-container-id-2 div.sk-estimator {font-family: monospace;background-color: #f0f8ff;border: 1px dotted black;border-radius: 0.25em;box-sizing: border-box;margin-bottom: 0.5em;}#sk-container-id-2 div.sk-estimator:hover {background-color: #d4ebff;}#sk-container-id-2 div.sk-parallel-item::after {content: \"\";width: 100%;border-bottom: 1px solid gray;flex-grow: 1;}#sk-container-id-2 div.sk-label:hover label.sk-toggleable__label {background-color: #d4ebff;}#sk-container-id-2 div.sk-serial::before {content: \"\";position: absolute;border-left: 1px solid gray;box-sizing: border-box;top: 0;bottom: 0;left: 50%;z-index: 0;}#sk-container-id-2 div.sk-serial {display: flex;flex-direction: column;align-items: center;background-color: white;padding-right: 0.2em;padding-left: 0.2em;position: relative;}#sk-container-id-2 div.sk-item {position: relative;z-index: 1;}#sk-container-id-2 div.sk-parallel {display: flex;align-items: stretch;justify-content: center;background-color: white;position: relative;}#sk-container-id-2 div.sk-item::before, #sk-container-id-2 div.sk-parallel-item::before {content: \"\";position: absolute;border-left: 1px solid gray;box-sizing: border-box;top: 0;bottom: 0;left: 50%;z-index: -1;}#sk-container-id-2 div.sk-parallel-item {display: flex;flex-direction: column;z-index: 1;position: relative;background-color: white;}#sk-container-id-2 div.sk-parallel-item:first-child::after {align-self: flex-end;width: 50%;}#sk-container-id-2 div.sk-parallel-item:last-child::after {align-self: flex-start;width: 50%;}#sk-container-id-2 div.sk-parallel-item:only-child::after {width: 0;}#sk-container-id-2 div.sk-dashed-wrapped {border: 1px dashed gray;margin: 0 0.4em 0.5em 0.4em;box-sizing: border-box;padding-bottom: 0.4em;background-color: white;}#sk-container-id-2 div.sk-label label {font-family: monospace;font-weight: bold;display: inline-block;line-height: 1.2em;}#sk-container-id-2 div.sk-label-container {text-align: center;}#sk-container-id-2 div.sk-container {/* jupyter's `normalize.less` sets `[hidden] { display: none; }` but bootstrap.min.css set `[hidden] { display: none !important; }` so we also need the `!important` here to be able to override the default hidden behavior on the sphinx rendered scikit-learn.org. See: https://github.com/scikit-learn/scikit-learn/issues/21755 */display: inline-block !important;position: relative;}#sk-container-id-2 div.sk-text-repr-fallback {display: none;}</style><div id=\"sk-container-id-2\" class=\"sk-top-container\"><div class=\"sk-text-repr-fallback\"><pre>LogisticRegression(max_iter=2000)</pre><b>In a Jupyter environment, please rerun this cell to show the HTML representation or trust the notebook. <br />On GitHub, the HTML representation is unable to render, please try loading this page with nbviewer.org.</b></div><div class=\"sk-container\" hidden><div class=\"sk-item\"><div class=\"sk-estimator sk-toggleable\"><input class=\"sk-toggleable__control sk-hidden--visually\" id=\"sk-estimator-id-2\" type=\"checkbox\" checked><label for=\"sk-estimator-id-2\" class=\"sk-toggleable__label sk-toggleable__label-arrow\">LogisticRegression</label><div class=\"sk-toggleable__content\"><pre>LogisticRegression(max_iter=2000)</pre></div></div></div></div></div>"
      ],
      "text/plain": [
       "LogisticRegression(max_iter=2000)"
      ]
     },
     "execution_count": 44,
     "metadata": {},
     "output_type": "execute_result"
    }
   ],
   "source": [
    "model_log.fit(x_train,y_train)"
   ]
  },
  {
   "cell_type": "code",
   "execution_count": 45,
   "id": "7f8deab3-834c-4fdd-9ae0-5685e434793a",
   "metadata": {
    "tags": []
   },
   "outputs": [],
   "source": [
    "pred_log = model_log.predict(x_test)"
   ]
  },
  {
   "cell_type": "code",
   "execution_count": 46,
   "id": "6bc7dde0-5b25-4a0c-ac1c-b3bfa986d84c",
   "metadata": {
    "tags": []
   },
   "outputs": [],
   "source": [
    "report_log = classification_report(y_test,pred_log)"
   ]
  },
  {
   "cell_type": "code",
   "execution_count": 47,
   "id": "f81827fb-c951-4cf1-a7da-c04e3528e1c7",
   "metadata": {
    "tags": []
   },
   "outputs": [
    {
     "name": "stdout",
     "output_type": "stream",
     "text": [
      "                        precision    recall  f1-score   support\n",
      "\n",
      "Clothing & Accessories       0.99      0.97      0.98      2074\n",
      "           Electronics       0.98      0.96      0.97      2676\n",
      "             Household       0.97      0.99      0.98      4902\n",
      "\n",
      "              accuracy                           0.98      9652\n",
      "             macro avg       0.98      0.97      0.98      9652\n",
      "          weighted avg       0.98      0.98      0.98      9652\n",
      "\n"
     ]
    }
   ],
   "source": [
    "print(report_log)"
   ]
  },
  {
   "cell_type": "markdown",
   "id": "6336c463-cce5-47bd-a501-5d11ba6a8a40",
   "metadata": {},
   "source": [
    "#### Text Clustering"
   ]
  },
  {
   "cell_type": "code",
   "execution_count": 48,
   "id": "d5a000fb-5e90-4b5f-941b-62328d0501fb",
   "metadata": {
    "tags": []
   },
   "outputs": [],
   "source": [
    "x = vec.transform(df['pre_process'])"
   ]
  },
  {
   "cell_type": "code",
   "execution_count": 49,
   "id": "bd1ea5f6-1f82-4c3a-98c6-f051e7b3e529",
   "metadata": {
    "tags": []
   },
   "outputs": [],
   "source": [
    "wcss = []\n",
    "for i in range(1,5):\n",
    "    clustering = KMeans(n_clusters=i,init='k-means++',random_state=42)\n",
    "    clustering.fit(x)\n",
    "    wcss.append(clustering.inertia_)\n",
    "ks = [1,2,3,4]"
   ]
  },
  {
   "cell_type": "code",
   "execution_count": 50,
   "id": "71f93bbc-5d31-4d87-af4e-565da60aa249",
   "metadata": {
    "tags": []
   },
   "outputs": [
    {
     "data": {
      "text/plain": [
       "<Axes: >"
      ]
     },
     "execution_count": 50,
     "metadata": {},
     "output_type": "execute_result"
    },
    {
     "data": {
      "image/png": "[encoded data removed]",
      "text/plain": [
       "<Figure size 640x480 with 1 Axes>"
      ]
     },
     "metadata": {},
     "output_type": "display_data"
    }
   ],
   "source": [
    "sns.lineplot(x=ks,y=wcss)"
   ]
  },
  {
   "cell_type": "code",
   "execution_count": 51,
   "id": "f81be04d-b9ac-458d-b4d7-35f074fbdf11",
   "metadata": {
    "tags": []
   },
   "outputs": [
    {
     "data": {
      "text/html": [
       "<style>#sk-container-id-3 {color: black;background-color: white;}#sk-container-id-3 pre{padding: 0;}#sk-container-id-3 div.sk-toggleable {background-color: white;}#sk-container-id-3 label.sk-toggleable__label {cursor: pointer;display: block;width: 100%;margin-bottom: 0;padding: 0.3em;box-sizing: border-box;text-align: center;}#sk-container-id-3 label.sk-toggleable__label-arrow:before {content: \"▸\";float: left;margin-right: 0.25em;color: #696969;}#sk-container-id-3 label.sk-toggleable__label-arrow:hover:before {color: black;}#sk-container-id-3 div.sk-estimator:hover label.sk-toggleable__label-arrow:before {color: black;}#sk-container-id-3 div.sk-toggleable__content {max-height: 0;max-width: 0;overflow: hidden;text-align: left;background-color: #f0f8ff;}#sk-container-id-3 div.sk-toggleable__content pre {margin: 0.2em;color: black;border-radius: 0.25em;background-color: #f0f8ff;}#sk-container-id-3 input.sk-toggleable__control:checked~div.sk-toggleable__content {max-height: 200px;max-width: 100%;overflow: auto;}#sk-container-id-3 input.sk-toggleable__control:checked~label.sk-toggleable__label-arrow:before {content: \"▾\";}#sk-container-id-3 div.sk-estimator input.sk-toggleable__control:checked~label.sk-toggleable__label {background-color: #d4ebff;}#sk-container-id-3 div.sk-label input.sk-toggleable__control:checked~label.sk-toggleable__label {background-color: #d4ebff;}#sk-container-id-3 input.sk-hidden--visually {border: 0;clip: rect(1px 1px 1px 1px);clip: rect(1px, 1px, 1px, 1px);height: 1px;margin: -1px;overflow: hidden;padding: 0;position: absolute;width: 1px;}#sk-container-id-3 div.sk-estimator {font-family: monospace;background-color: #f0f8ff;border: 1px dotted black;border-radius: 0.25em;box-sizing: border-box;margin-bottom: 0.5em;}#sk-container-id-3 div.sk-estimator:hover {background-color: #d4ebff;}#sk-container-id-3 div.sk-parallel-item::after {content: \"\";width: 100%;border-bottom: 1px solid gray;flex-grow: 1;}#sk-container-id-3 div.sk-label:hover label.sk-toggleable__label {background-color: #d4ebff;}#sk-container-id-3 div.sk-serial::before {content: \"\";position: absolute;border-left: 1px solid gray;box-sizing: border-box;top: 0;bottom: 0;left: 50%;z-index: 0;}#sk-container-id-3 div.sk-serial {display: flex;flex-direction: column;align-items: center;background-color: white;padding-right: 0.2em;padding-left: 0.2em;position: relative;}#sk-container-id-3 div.sk-item {position: relative;z-index: 1;}#sk-container-id-3 div.sk-parallel {display: flex;align-items: stretch;justify-content: center;background-color: white;position: relative;}#sk-container-id-3 div.sk-item::before, #sk-container-id-3 div.sk-parallel-item::before {content: \"\";position: absolute;border-left: 1px solid gray;box-sizing: border-box;top: 0;bottom: 0;left: 50%;z-index: -1;}#sk-container-id-3 div.sk-parallel-item {display: flex;flex-direction: column;z-index: 1;position: relative;background-color: white;}#sk-container-id-3 div.sk-parallel-item:first-child::after {align-self: flex-end;width: 50%;}#sk-container-id-3 div.sk-parallel-item:last-child::after {align-self: flex-start;width: 50%;}#sk-container-id-3 div.sk-parallel-item:only-child::after {width: 0;}#sk-container-id-3 div.sk-dashed-wrapped {border: 1px dashed gray;margin: 0 0.4em 0.5em 0.4em;box-sizing: border-box;padding-bottom: 0.4em;background-color: white;}#sk-container-id-3 div.sk-label label {font-family: monospace;font-weight: bold;display: inline-block;line-height: 1.2em;}#sk-container-id-3 div.sk-label-container {text-align: center;}#sk-container-id-3 div.sk-container {/* jupyter's `normalize.less` sets `[hidden] { display: none; }` but bootstrap.min.css set `[hidden] { display: none !important; }` so we also need the `!important` here to be able to override the default hidden behavior on the sphinx rendered scikit-learn.org. See: https://github.com/scikit-learn/scikit-learn/issues/21755 */display: inline-block !important;position: relative;}#sk-container-id-3 div.sk-text-repr-fallback {display: none;}</style><div id=\"sk-container-id-3\" class=\"sk-top-container\"><div class=\"sk-text-repr-fallback\"><pre>KMeans(max_iter=100, n_clusters=3, n_init=1)</pre><b>In a Jupyter environment, please rerun this cell to show the HTML representation or trust the notebook. <br />On GitHub, the HTML representation is unable to render, please try loading this page with nbviewer.org.</b></div><div class=\"sk-container\" hidden><div class=\"sk-item\"><div class=\"sk-estimator sk-toggleable\"><input class=\"sk-toggleable__control sk-hidden--visually\" id=\"sk-estimator-id-3\" type=\"checkbox\" checked><label for=\"sk-estimator-id-3\" class=\"sk-toggleable__label sk-toggleable__label-arrow\">KMeans</label><div class=\"sk-toggleable__content\"><pre>KMeans(max_iter=100, n_clusters=3, n_init=1)</pre></div></div></div></div></div>"
      ],
      "text/plain": [
       "KMeans(max_iter=100, n_clusters=3, n_init=1)"
      ]
     },
     "execution_count": 51,
     "metadata": {},
     "output_type": "execute_result"
    }
   ],
   "source": [
    "model = KMeans(n_clusters=3,init='k-means++',max_iter=100,n_init=1)\n",
    "model.fit(x)"
   ]
  },
  {
   "cell_type": "code",
   "execution_count": 52,
   "id": "c51f072a-1497-4f2c-9545-992f1df7a036",
   "metadata": {
    "tags": []
   },
   "outputs": [
    {
     "name": "stdout",
     "output_type": "stream",
     "text": [
      "Top 10 terms per cluster:\n",
      "Cluster 0:\n",
      " steel \n",
      " home \n",
      " easy \n",
      " black \n",
      " stainless \n",
      " table \n",
      " color \n",
      " size \n",
      " quality \n",
      " product \n",
      "\n",
      "\n",
      "Cluster 1:\n",
      " cotton \n",
      " women \n",
      " wear \n",
      " fabric \n",
      " girls \n",
      " boys \n",
      " made \n",
      " soft \n",
      " look \n",
      " pack \n",
      "\n",
      "\n",
      "Cluster 2:\n",
      " bluetooth \n",
      " cable \n",
      " audio \n",
      " wireless \n",
      " camera \n",
      " speaker \n",
      " card \n",
      " music \n",
      " power \n",
      " black \n",
      "\n",
      "\n"
     ]
    }
   ],
   "source": [
    "print('Top 10 terms per cluster:')\n",
    "order_centroids = model.cluster_centers_.argsort()[:,::-1]\n",
    "terms = vec.get_feature_names_out()\n",
    "for i in range(3):\n",
    "    print('Cluster %d:'%i)\n",
    "    for ind in order_centroids[i,:10]:\n",
    "        print(' %s '%terms[ind])\n",
    "    print('\\n')"
   ]
  },
  {
   "cell_type": "code",
   "execution_count": 53,
   "id": "785b86cf-c5f9-4b66-8db3-b43b9357d61f",
   "metadata": {
    "tags": []
   },
   "outputs": [],
   "source": [
    "def cluster_tag(txt):\n",
    "    de = vec.transform([txt])\n",
    "    return model.predict(de)[0]"
   ]
  },
  {
   "cell_type": "code",
   "execution_count": 54,
   "id": "1d26db28-9baf-43ed-be57-c3278e34d36a",
   "metadata": {
    "tags": []
   },
   "outputs": [],
   "source": [
    "df['clusters'] = df['pre_process'].apply(lambda x: cluster_tag(x))"
   ]
  },
  {
   "cell_type": "markdown",
   "id": "623eb658-2ce9-45b8-bc12-328bbec71503",
   "metadata": {},
   "source": [
    "Checking the top 10 words in every cluster, we can say that:\n",
    "- Cluster 0 contains all Household products\n",
    "- Cluster 1 contains all Clothing and Accessories products\n",
    "- Cluster 2 contains all Electronics"
   ]
  },
  {
   "cell_type": "markdown",
   "id": "e05141a4-54cf-444d-88fb-7a621b129745",
   "metadata": {},
   "source": [
    "#### Topic Modelling"
   ]
  },
  {
   "cell_type": "code",
   "execution_count": 85,
   "id": "ac9b509e-1953-4643-913e-89776f6f3a03",
   "metadata": {
    "tags": []
   },
   "outputs": [],
   "source": [
    "dict_ = gensim.corpora.Dictionary(df['pre_process'].str.split())"
   ]
  },
  {
   "cell_type": "code",
   "execution_count": 86,
   "id": "5d051b3d-bf17-4637-a14e-ca288720c474",
   "metadata": {
    "tags": []
   },
   "outputs": [
    {
     "data": {
      "text/plain": [
       "[(0, 'achieve'),\n",
       " (1, 'apart'),\n",
       " (2, 'attracts'),\n",
       " (3, 'beautiful'),\n",
       " (4, 'blissso')]"
      ]
     },
     "execution_count": 86,
     "metadata": {},
     "output_type": "execute_result"
    }
   ],
   "source": [
    "list(islice(dict_.iteritems(), 5))"
   ]
  },
  {
   "cell_type": "code",
   "execution_count": 95,
   "id": "255b96f6-2df8-4109-bf72-c012926fe421",
   "metadata": {
    "tags": []
   },
   "outputs": [],
   "source": [
    "corpus = [dict_.doc2bow(i) for i in df['pre_process'].str.split()]"
   ]
  },
  {
   "cell_type": "code",
   "execution_count": 96,
   "id": "c59eb5d0-c6e9-46f8-893f-8f60efbc56b5",
   "metadata": {
    "tags": []
   },
   "outputs": [],
   "source": [
    "tf = gensim.models.TfidfModel(corpus)"
   ]
  },
  {
   "cell_type": "code",
   "execution_count": 97,
   "id": "68e98cd7-1d7a-4245-b209-e28eb4c5d1b4",
   "metadata": {
    "tags": []
   },
   "outputs": [],
   "source": [
    "tf_corpus = tf[corpus]"
   ]
  },
  {
   "cell_type": "code",
   "execution_count": 100,
   "id": "8aaac068-45eb-4f26-964e-f1a82a114f31",
   "metadata": {
    "tags": []
   },
   "outputs": [],
   "source": [
    "model_lda = gensim.models.LdaMulticore(tf_corpus,num_topics=3,id2word=dict_,workers=5,passes=5)"
   ]
  },
  {
   "cell_type": "code",
   "execution_count": 101,
   "id": "3cb5b153-c86d-4a94-be0e-ae49bf0c90fb",
   "metadata": {
    "tags": []
   },
   "outputs": [
    {
     "name": "stdout",
     "output_type": "stream",
     "text": [
      "Topic: 0:\t Word: 0.004*\"bluetooth\" + 0.003*\"audio\" + 0.003*\"cable\" + 0.003*\"wireless\" + 0.003*\"speaker\" + 0.003*\"camera\" + 0.003*\"music\" + 0.003*\"sound\" + 0.002*\"black\" + 0.002*\"power\"\n",
      "Topic: 1:\t Word: 0.002*\"cotton\" + 0.002*\"light\" + 0.002*\"table\" + 0.002*\"home\" + 0.001*\"color\" + 0.001*\"size\" + 0.001*\"made\" + 0.001*\"design\" + 0.001*\"water\" + 0.001*\"easy\"\n",
      "Topic: 2:\t Word: 0.003*\"cotton\" + 0.003*\"women\" + 0.002*\"wear\" + 0.002*\"size\" + 0.002*\"black\" + 0.002*\"amazonbasics\" + 0.002*\"steel\" + 0.002*\"fabric\" + 0.002*\"shirt\" + 0.002*\"maternity\"\n"
     ]
    }
   ],
   "source": [
    "for idx, topic in model_lda.print_topics(-1):\n",
    "    print('Topic: {}:\\t Word: {}'.format(idx,topic))"
   ]
  },
  {
   "cell_type": "markdown",
   "id": "0e9d9ed1-746e-4c35-91f9-030b14a80879",
   "metadata": {},
   "source": [
    "We can say that\n",
    "- Topic 0 is Electronics, Cluster 2\n",
    "- Topic 1 is Household products, Cluster 0\n",
    "- Topic 2 is Clothing and Accessories, Cluster 1"
   ]
  },
  {
   "cell_type": "markdown",
   "id": "0fc88d58-de87-4b97-b8ab-95427cd5afbc",
   "metadata": {},
   "source": [
    "#### Sentiment Analysis Lexicons approach"
   ]
  },
  {
   "cell_type": "markdown",
   "id": "abdf5498-fbe1-4820-8b48-d3d0fb929003",
   "metadata": {},
   "source": [
    "##### Afinn"
   ]
  },
  {
   "cell_type": "code",
   "execution_count": 7,
   "id": "269328db-269e-4283-86fa-77a3504392e2",
   "metadata": {},
   "outputs": [],
   "source": [
    "afn = Afinn()"
   ]
  },
  {
   "cell_type": "code",
   "execution_count": 9,
   "id": "09623cb3-6d01-4632-b566-228f20caf2be",
   "metadata": {},
   "outputs": [],
   "source": [
    "# Creating list sentences\n",
    "news_df = [\"les gens pensent aux chiens\",\"I hate flowers\",\"hes kind and smart\",\"we are kind to good people\"]"
   ]
  },
  {
   "cell_type": "code",
   "execution_count": 4,
   "id": "372fa7cf-9783-4184-9d6b-494641058396",
   "metadata": {},
   "outputs": [
    {
     "data": {
      "text/plain": [
       "'I hate flowers'"
      ]
     },
     "execution_count": 4,
     "metadata": {},
     "output_type": "execute_result"
    }
   ],
   "source": [
    "news_df[1]"
   ]
  },
  {
   "cell_type": "code",
   "execution_count": 13,
   "id": "34115aa9-ef2c-4ba6-bbc0-5ebe54879e70",
   "metadata": {},
   "outputs": [
    {
     "data": {
      "text/plain": [
       "-3.0"
      ]
     },
     "execution_count": 13,
     "metadata": {},
     "output_type": "execute_result"
    }
   ],
   "source": [
    "afn.score(news_df[1])"
   ]
  },
  {
   "cell_type": "code",
   "execution_count": 16,
   "id": "1c54c5af-9706-45d4-8300-b0c3916feda7",
   "metadata": {},
   "outputs": [
    {
     "name": "stdout",
     "output_type": "stream",
     "text": [
      "['neutral', 'negative', 'positive', 'positive']\n"
     ]
    }
   ],
   "source": [
    "scores = [afn.score(article) for article in news_df]\n",
    "sentiment = [\"positive\" if score >0 else 'negative' if score < 0 else \"neutral\" for score in scores]\n",
    "print(sentiment)"
   ]
  },
  {
   "cell_type": "code",
   "execution_count": 17,
   "id": "8781a7e8-c5e9-4165-95df-16c2464659f1",
   "metadata": {},
   "outputs": [],
   "source": [
    "## Dataframe creation\n",
    "df = pd.DataFrame()\n",
    "df[\"topic\"] = news_df\n",
    "df[\"scores\"] = scores\n",
    "df[\"sentiments\"] = sentiment"
   ]
  },
  {
   "cell_type": "code",
   "execution_count": 18,
   "id": "a550324f-26cb-4bd5-a7db-8bc43f683d1e",
   "metadata": {},
   "outputs": [
    {
     "data": {
      "text/html": [
       "<div>\n",
       "<style scoped>\n",
       "    .dataframe tbody tr th:only-of-type {\n",
       "        vertical-align: middle;\n",
       "    }\n",
       "\n",
       "    .dataframe tbody tr th {\n",
       "        vertical-align: top;\n",
       "    }\n",
       "\n",
       "    .dataframe thead th {\n",
       "        text-align: right;\n",
       "    }\n",
       "</style>\n",
       "<table border=\"1\" class=\"dataframe\">\n",
       "  <thead>\n",
       "    <tr style=\"text-align: right;\">\n",
       "      <th></th>\n",
       "      <th>topic</th>\n",
       "      <th>scores</th>\n",
       "      <th>sentiments</th>\n",
       "    </tr>\n",
       "  </thead>\n",
       "  <tbody>\n",
       "    <tr>\n",
       "      <th>0</th>\n",
       "      <td>les gens pensent aux chiens</td>\n",
       "      <td>0.0</td>\n",
       "      <td>neutral</td>\n",
       "    </tr>\n",
       "    <tr>\n",
       "      <th>1</th>\n",
       "      <td>I hate flowers</td>\n",
       "      <td>-3.0</td>\n",
       "      <td>negative</td>\n",
       "    </tr>\n",
       "    <tr>\n",
       "      <th>2</th>\n",
       "      <td>hes kind and smart</td>\n",
       "      <td>3.0</td>\n",
       "      <td>positive</td>\n",
       "    </tr>\n",
       "    <tr>\n",
       "      <th>3</th>\n",
       "      <td>we are kind to good people</td>\n",
       "      <td>5.0</td>\n",
       "      <td>positive</td>\n",
       "    </tr>\n",
       "  </tbody>\n",
       "</table>\n",
       "</div>"
      ],
      "text/plain": [
       "                         topic  scores sentiments\n",
       "0  les gens pensent aux chiens     0.0    neutral\n",
       "1               I hate flowers    -3.0   negative\n",
       "2           hes kind and smart     3.0   positive\n",
       "3   we are kind to good people     5.0   positive"
      ]
     },
     "execution_count": 18,
     "metadata": {},
     "output_type": "execute_result"
    }
   ],
   "source": [
    "df.head()"
   ]
  },
  {
   "cell_type": "markdown",
   "id": "c0c62bf1-6a4a-4b27-bf73-7f8a7e2ad802",
   "metadata": {},
   "source": [
    "##### TextBlob"
   ]
  },
  {
   "cell_type": "code",
   "execution_count": 35,
   "id": "95c434dc-0424-4c6d-a160-25536e8bf623",
   "metadata": {},
   "outputs": [],
   "source": [
    "sentence1 = \"everest is the highest mountain in the world\""
   ]
  },
  {
   "cell_type": "code",
   "execution_count": 43,
   "id": "b18275c1-c897-4184-b41e-769aef2537e7",
   "metadata": {},
   "outputs": [
    {
     "data": {
      "text/plain": [
       "TextBlob(\"we are kind to good people\")"
      ]
     },
     "execution_count": 43,
     "metadata": {},
     "output_type": "execute_result"
    }
   ],
   "source": [
    "s1 = TextBlob(news_df[3])\n",
    "s1"
   ]
  },
  {
   "cell_type": "code",
   "execution_count": 44,
   "id": "0c42d83a-538c-475c-86d2-22b58ecc6dd9",
   "metadata": {},
   "outputs": [
    {
     "name": "stdout",
     "output_type": "stream",
     "text": [
      "0.6499999999999999\n",
      "0.75\n"
     ]
    }
   ],
   "source": [
    "print(s1.polarity)\n",
    "print(s1.subjectivity)"
   ]
  },
  {
   "cell_type": "code",
   "execution_count": 90,
   "id": "1b19df3f-ebf7-4537-9375-2334a591eec7",
   "metadata": {},
   "outputs": [],
   "source": [
    "tweets_df= pd.read_csv(\"Tweets.csv\")"
   ]
  },
  {
   "cell_type": "code",
   "execution_count": 91,
   "id": "619ec14a-eb8d-4464-bb37-e2ac2aa4ff2a",
   "metadata": {},
   "outputs": [],
   "source": [
    "tweets_df[\"sentiment_score\"] = tweets_df[\"text\"].apply(afn.score)"
   ]
  },
  {
   "cell_type": "code",
   "execution_count": 92,
   "id": "c0b2d9f2-ca21-4487-bbb0-62df4c6bd0ee",
   "metadata": {},
   "outputs": [],
   "source": [
    "tweets_df[\"sentiment\"] = np.where(tweets_df[\"sentiment_score\"]>0,\"positive\",np.where(tweets_df[\"sentiment_score\"]<0,\"negative\",\"neutral\"))"
   ]
  },
  {
   "cell_type": "code",
   "execution_count": 93,
   "id": "9ae43715-f9a1-462e-928b-e5299429de5f",
   "metadata": {},
   "outputs": [],
   "source": [
    "tweets_df[\"polarity_score\"] = tweets_df[\"text\"].apply(lambda x : TextBlob(x).polarity)"
   ]
  },
  {
   "cell_type": "code",
   "execution_count": 94,
   "id": "74232f8a-594f-48ba-96c9-fef73b88358b",
   "metadata": {},
   "outputs": [],
   "source": [
    "tweets_df[\"subjectivity_score\"] = tweets_df[\"text\"].apply(lambda x : TextBlob(x).subjectivity)"
   ]
  },
  {
   "cell_type": "code",
   "execution_count": 95,
   "id": "d8c7e0b7-b356-49f4-8304-fb2cd0eb8e4a",
   "metadata": {},
   "outputs": [],
   "source": [
    "tweets_df[\"sentiment_textblob\"] = tweets_df[\"text\"].apply(lambda x :  TextBlob(x).sentiment[1])"
   ]
  },
  {
   "cell_type": "code",
   "execution_count": 96,
   "id": "b285bc05-a48c-4360-968a-920207aa130a",
   "metadata": {},
   "outputs": [],
   "source": [
    "tweets_df[\"textblob_Sentiment\"] = np.where(tweets_df[\"sentiment_textblob\"]>0,\"positive\",np.where(tweets_df[\"sentiment_textblob\"]<0,\"negative\",\"neutral\"))"
   ]
  },
  {
   "cell_type": "code",
   "execution_count": 98,
   "id": "7f9a0bad-4586-40f0-8389-d10b38cabf65",
   "metadata": {},
   "outputs": [],
   "source": [
    "tweets_df = tweets_df.loc[:,[\"text\",\"sentiment\",\"sentiment_score\",\"polarity_score\",\"subjectivity_score\",\"textblob_Sentiment\"]]"
   ]
  },
  {
   "cell_type": "code",
   "execution_count": 99,
   "id": "00f52ff1-31ad-4d18-9066-0ab313df4a56",
   "metadata": {},
   "outputs": [
    {
     "data": {
      "text/html": [
       "<div>\n",
       "<style scoped>\n",
       "    .dataframe tbody tr th:only-of-type {\n",
       "        vertical-align: middle;\n",
       "    }\n",
       "\n",
       "    .dataframe tbody tr th {\n",
       "        vertical-align: top;\n",
       "    }\n",
       "\n",
       "    .dataframe thead th {\n",
       "        text-align: right;\n",
       "    }\n",
       "</style>\n",
       "<table border=\"1\" class=\"dataframe\">\n",
       "  <thead>\n",
       "    <tr style=\"text-align: right;\">\n",
       "      <th></th>\n",
       "      <th>text</th>\n",
       "      <th>sentiment</th>\n",
       "      <th>sentiment_score</th>\n",
       "      <th>polarity_score</th>\n",
       "      <th>subjectivity_score</th>\n",
       "      <th>textblob_Sentiment</th>\n",
       "    </tr>\n",
       "  </thead>\n",
       "  <tbody>\n",
       "    <tr>\n",
       "      <th>0</th>\n",
       "      <td>@VirginAmerica What @dhepburn said.</td>\n",
       "      <td>neutral</td>\n",
       "      <td>0.0</td>\n",
       "      <td>0.000000</td>\n",
       "      <td>0.000000</td>\n",
       "      <td>neutral</td>\n",
       "    </tr>\n",
       "    <tr>\n",
       "      <th>1</th>\n",
       "      <td>@VirginAmerica plus you've added commercials t...</td>\n",
       "      <td>neutral</td>\n",
       "      <td>0.0</td>\n",
       "      <td>0.000000</td>\n",
       "      <td>0.000000</td>\n",
       "      <td>neutral</td>\n",
       "    </tr>\n",
       "    <tr>\n",
       "      <th>2</th>\n",
       "      <td>@VirginAmerica I didn't today... Must mean I n...</td>\n",
       "      <td>neutral</td>\n",
       "      <td>0.0</td>\n",
       "      <td>-0.390625</td>\n",
       "      <td>0.687500</td>\n",
       "      <td>positive</td>\n",
       "    </tr>\n",
       "    <tr>\n",
       "      <th>3</th>\n",
       "      <td>@VirginAmerica it's really aggressive to blast...</td>\n",
       "      <td>negative</td>\n",
       "      <td>-5.0</td>\n",
       "      <td>0.006250</td>\n",
       "      <td>0.350000</td>\n",
       "      <td>positive</td>\n",
       "    </tr>\n",
       "    <tr>\n",
       "      <th>4</th>\n",
       "      <td>@VirginAmerica and it's a really big bad thing...</td>\n",
       "      <td>negative</td>\n",
       "      <td>-2.0</td>\n",
       "      <td>-0.350000</td>\n",
       "      <td>0.383333</td>\n",
       "      <td>positive</td>\n",
       "    </tr>\n",
       "  </tbody>\n",
       "</table>\n",
       "</div>"
      ],
      "text/plain": [
       "                                                text sentiment  \\\n",
       "0                @VirginAmerica What @dhepburn said.   neutral   \n",
       "1  @VirginAmerica plus you've added commercials t...   neutral   \n",
       "2  @VirginAmerica I didn't today... Must mean I n...   neutral   \n",
       "3  @VirginAmerica it's really aggressive to blast...  negative   \n",
       "4  @VirginAmerica and it's a really big bad thing...  negative   \n",
       "\n",
       "   sentiment_score  polarity_score  subjectivity_score textblob_Sentiment  \n",
       "0              0.0        0.000000            0.000000            neutral  \n",
       "1              0.0        0.000000            0.000000            neutral  \n",
       "2              0.0       -0.390625            0.687500           positive  \n",
       "3             -5.0        0.006250            0.350000           positive  \n",
       "4             -2.0       -0.350000            0.383333           positive  "
      ]
     },
     "execution_count": 99,
     "metadata": {},
     "output_type": "execute_result"
    }
   ],
   "source": [
    "tweets_df.head()"
   ]
  },
  {
   "cell_type": "markdown",
   "id": "d3c3ba9a-8d32-4da4-ad41-5b61351d3a2e",
   "metadata": {},
   "source": [
    "#### Text Similarity"
   ]
  },
  {
   "cell_type": "code",
   "execution_count": 8,
   "id": "81ec8054-5b59-46ec-91a1-5c7b44544519",
   "metadata": {
    "tags": []
   },
   "outputs": [],
   "source": [
    "sent1 = \"The bottle is empty\"\n",
    "sent2  = \"There is nothing in the bottle\""
   ]
  },
  {
   "cell_type": "code",
   "execution_count": 9,
   "id": "1399b2f8-f6f6-422d-97e0-67dbe760140f",
   "metadata": {
    "tags": []
   },
   "outputs": [],
   "source": [
    "def get_jaccard_sim(str1,str2):\n",
    "    a = set(str1.split())\n",
    "    b = set(str2.split())\n",
    "    c = a.intersection(b)\n",
    "    return float(len(c)) / (len(a) + len(b) - len(c))"
   ]
  },
  {
   "cell_type": "code",
   "execution_count": 10,
   "id": "615c6698-1448-468b-b2b8-5df947d67851",
   "metadata": {
    "tags": []
   },
   "outputs": [
    {
     "data": {
      "text/plain": [
       "{'bottle', 'is'}"
      ]
     },
     "execution_count": 10,
     "metadata": {},
     "output_type": "execute_result"
    }
   ],
   "source": [
    "a = set(sent1.split())\n",
    "b = set(sent2.split())\n",
    "c = a.intersection(b)\n",
    "c"
   ]
  },
  {
   "cell_type": "code",
   "execution_count": 11,
   "id": "b9aa5cf9-dc0b-4eb0-8ad6-9f15c8dfc4c6",
   "metadata": {
    "tags": []
   },
   "outputs": [
    {
     "data": {
      "text/plain": [
       "0.25"
      ]
     },
     "execution_count": 11,
     "metadata": {},
     "output_type": "execute_result"
    }
   ],
   "source": [
    "get_jaccard_sim(sent1,sent2)"
   ]
  },
  {
   "cell_type": "code",
   "execution_count": 14,
   "id": "7da1aa5c-6bc7-401b-ad3c-f64bd3dcf974",
   "metadata": {
    "tags": []
   },
   "outputs": [],
   "source": [
    "def get_cosine_sim(*strs):\n",
    "    vectors = [t for t in get_vectors(*strs)]\n",
    "    return cosine_similarity(vectors)\n",
    "\n",
    "def get_vectors(*strs):\n",
    "    text = [t for t in strs]\n",
    "    vectorizer = CountVectorizer()\n",
    "    vectorizer.fit(text)\n",
    "    return vectorizer.transform(text).toarray()"
   ]
  },
  {
   "cell_type": "code",
   "execution_count": 15,
   "id": "c617a960-9eb5-4a8f-bf02-ed919eebabd8",
   "metadata": {
    "tags": []
   },
   "outputs": [
    {
     "data": {
      "text/plain": [
       "array([[1.        , 0.61237244, 0.35355339],\n",
       "       [0.61237244, 1.        , 0.28867513],\n",
       "       [0.35355339, 0.28867513, 1.        ]])"
      ]
     },
     "execution_count": 15,
     "metadata": {},
     "output_type": "execute_result"
    }
   ],
   "source": [
    "get_cosine_sim(sent1,sent2,\"water bottle\")"
   ]
  },
  {
   "cell_type": "markdown",
   "id": "7d453c8a-677d-4f82-814d-d560046b10c6",
   "metadata": {},
   "source": [
    "#### Synsets"
   ]
  },
  {
   "cell_type": "code",
   "execution_count": 89,
   "id": "06d4ba8a-5168-41c4-bc69-f65fe0f3a4be",
   "metadata": {},
   "outputs": [],
   "source": [
    "sys = wordnet.synsets(\"Book\")"
   ]
  },
  {
   "cell_type": "code",
   "execution_count": 90,
   "id": "dd4346b1-c5a2-4b3b-9704-2895fbf8a40e",
   "metadata": {},
   "outputs": [
    {
     "name": "stdout",
     "output_type": "stream",
     "text": [
      "book.n.01\n",
      "book.n.02\n",
      "record.n.05\n",
      "script.n.01\n",
      "ledger.n.01\n",
      "book.n.06\n",
      "book.n.07\n",
      "koran.n.01\n",
      "bible.n.01\n",
      "book.n.10\n",
      "book.n.11\n",
      "book.v.01\n",
      "reserve.v.04\n",
      "book.v.03\n",
      "book.v.04\n"
     ]
    }
   ],
   "source": [
    "for i in sys:\n",
    "    print(i.name())"
   ]
  },
  {
   "cell_type": "code",
   "execution_count": 14,
   "id": "e9367bbd-1bf8-4cc8-a6d1-9739dcfea4b7",
   "metadata": {},
   "outputs": [
    {
     "data": {
      "text/plain": [
       "'record a charge in a police register'"
      ]
     },
     "execution_count": 14,
     "metadata": {},
     "output_type": "execute_result"
    }
   ],
   "source": [
    "wordnet.synsets(\"Book\")[13].definition()"
   ]
  },
  {
   "cell_type": "code",
   "execution_count": 53,
   "id": "099f9802-d355-419e-9e0b-73afd4eb548f",
   "metadata": {},
   "outputs": [
    {
     "data": {
      "text/plain": [
       "Synset('test.n.05')"
      ]
     },
     "execution_count": 53,
     "metadata": {},
     "output_type": "execute_result"
    }
   ],
   "source": [
    "wordnet.synsets(\"run\")[1]"
   ]
  },
  {
   "cell_type": "code",
   "execution_count": 15,
   "id": "1da8329a-2a59-430a-b9a9-4abbfc9cc999",
   "metadata": {},
   "outputs": [
    {
     "data": {
      "text/plain": [
       "'a score in baseball made by a runner touching all four bases safely'"
      ]
     },
     "execution_count": 15,
     "metadata": {},
     "output_type": "execute_result"
    }
   ],
   "source": [
    "wordnet.synsets(\"run\")[0].definition()"
   ]
  },
  {
   "cell_type": "code",
   "execution_count": 30,
   "id": "42e759d1-ec3d-416d-9b89-33429c096b7b",
   "metadata": {},
   "outputs": [],
   "source": [
    "syn = wordnet.synsets(\"run\")[23]"
   ]
  },
  {
   "cell_type": "code",
   "execution_count": 31,
   "id": "68accb5a-c1d0-4b33-9917-a726875e2bfc",
   "metadata": {},
   "outputs": [
    {
     "name": "stdout",
     "output_type": "stream",
     "text": [
      "Synset name : range.v.01\n",
      "Synset definition : change or be different within limits\n",
      "Examples : ['Estimates for the losses in the earthquake range as high as $2 billion', 'Interest rates run from 5 to 10 percent', 'The instruments ranged from tuba to cymbals', 'My students range from very bright to dull']\n"
     ]
    }
   ],
   "source": [
    "print(f\"Synset name : {syn.name()}\\nSynset definition : {syn.definition()}\\nExamples : {syn.examples()}\")"
   ]
  },
  {
   "cell_type": "markdown",
   "id": "e5b0dfdc-a84f-43f7-b974-d029c2934be3",
   "metadata": {},
   "source": [
    "#### Hypernym and Hyponym"
   ]
  },
  {
   "cell_type": "code",
   "execution_count": 16,
   "id": "cb214170-fe9e-482d-adcc-762f9d3518f2",
   "metadata": {
    "tags": []
   },
   "outputs": [],
   "source": [
    "syn = wordnet.synsets(\"table\")[1]"
   ]
  },
  {
   "cell_type": "code",
   "execution_count": 19,
   "id": "84aaa2dd-85e2-4e96-9641-6d14e6432cd1",
   "metadata": {
    "tags": []
   },
   "outputs": [
    {
     "name": "stdout",
     "output_type": "stream",
     "text": [
      "Synset name : table.n.02\n",
      "\n",
      "Synset abstract term: [Synset('furniture.n.01')]\n",
      "\n",
      "\n",
      "Hyponyms : [Synset('altar.n.01'), Synset('booth.n.01'), Synset('breakfast_table.n.01'), Synset('card_table.n.01'), Synset('card_table.n.02'), Synset('coffee_table.n.01'), Synset('conference_table.n.01'), Synset('console_table.n.01'), Synset('counter.n.01'), Synset('desk.n.01'), Synset('dressing_table.n.01'), Synset('drop-leaf_table.n.01'), Synset('gaming_table.n.01'), Synset('gueridon.n.01'), Synset('kitchen_table.n.01'), Synset('operating_table.n.01'), Synset('parsons_table.n.01'), Synset('pedestal_table.n.01'), Synset('pier_table.n.01'), Synset('platen.n.01'), Synset('pool_table.n.01'), Synset('stand.n.04'), Synset('table-tennis_table.n.01'), Synset('tea_table.n.01'), Synset('trestle_table.n.01'), Synset('worktable.n.01')]\n",
      "\n",
      "Synset specific term : [Synset('baby_bed.n.01'), Synset('bedroom_furniture.n.01'), Synset('bedstead.n.01'), Synset('bookcase.n.01'), Synset('buffet.n.01'), Synset('cabinet.n.01'), Synset('chest_of_drawers.n.01'), Synset('dining-room_furniture.n.01'), Synset('etagere.n.01'), Synset('fitment.n.01'), Synset('hallstand.n.01'), Synset('lamp.n.02'), Synset('lawn_furniture.n.01'), Synset('nest.n.05'), Synset('office_furniture.n.01'), Synset('seat.n.03'), Synset('sectional.n.01'), Synset('sheraton.n.01'), Synset('sleeper.n.07'), Synset('table.n.02'), Synset('table.n.03'), Synset('wall_unit.n.01'), Synset('wardrobe.n.01'), Synset('washstand.n.01')] \n",
      "\n",
      "Synset root hypernym : [Synset('entity.n.01')]\n"
     ]
    }
   ],
   "source": [
    "print(f'''Synset name : {syn.name()}\\n\\nSynset abstract term: {syn.hypernyms()}\n",
    "\\n\\nHyponyms : {syn.hyponyms()}\\n\\nSynset specific term : {syn.hypernyms()[0].hyponyms()} \\\n",
    "\\n\\nSynset root hypernym : {syn.root_hypernyms()}''')"
   ]
  },
  {
   "cell_type": "code",
   "execution_count": 20,
   "id": "c7e64a6b-fddc-4bab-b5bc-9dc832ed4546",
   "metadata": {
    "tags": []
   },
   "outputs": [],
   "source": [
    "def get_synset(w):\n",
    "    syn = wordnet.synsets(w)\n",
    "    s =[i.name() for i in syn]\n",
    "    s1 = [i.definition() for i in syn]\n",
    "    s2 = [i.examples() for i in syn]\n",
    "    d1 = {\"Word\":w}\n",
    "    d2 = {w: [i.name() for i in syn]}\n",
    "    d3 = {k : v for k,v in zip(s,s1)}\n",
    "    d4 = {w: e for w,e in zip(s,s2)}\n",
    "    \n",
    "    return [d1 ,d2,d3,d4]"
   ]
  },
  {
   "cell_type": "code",
   "execution_count": 21,
   "id": "72dc71c2-090b-45e1-89c6-0d54e5262493",
   "metadata": {
    "tags": []
   },
   "outputs": [
    {
     "data": {
      "text/plain": [
       "[{'Word': 'banana'},\n",
       " {'banana': ['banana.n.01', 'banana.n.02']},\n",
       " {'banana.n.01': 'any of several tropical and subtropical treelike herbs of the genus Musa having a terminal crown of large entire leaves and usually bearing hanging clusters of elongated fruits',\n",
       "  'banana.n.02': 'elongated crescent-shaped yellow fruit with soft sweet flesh'},\n",
       " {'banana.n.01': [], 'banana.n.02': []}]"
      ]
     },
     "execution_count": 21,
     "metadata": {},
     "output_type": "execute_result"
    }
   ],
   "source": [
    "get_synset(\"banana\")"
   ]
  },
  {
   "cell_type": "markdown",
   "id": "f1f4382d-366a-4960-ab1b-a263e2ac2d07",
   "metadata": {},
   "source": [
    "#### Wu-Palmer and Path Length based"
   ]
  },
  {
   "cell_type": "code",
   "execution_count": 22,
   "id": "c8020cb8-aab8-460a-8f85-a18f78c2b541",
   "metadata": {
    "tags": []
   },
   "outputs": [],
   "source": [
    "syn1 = wordnet.synsets('apple')[0]\n",
    "syn2 = wordnet.synsets('banana')[0]\n"
   ]
  },
  {
   "cell_type": "code",
   "execution_count": 23,
   "id": "3e7c674b-8c20-4835-8bd5-7a78eafa52f4",
   "metadata": {
    "tags": []
   },
   "outputs": [
    {
     "name": "stdout",
     "output_type": "stream",
     "text": [
      "Path similarity:  0.07142857142857142\n",
      "Wu palmer similarity :  0.38095238095238093\n"
     ]
    }
   ],
   "source": [
    "print(\"Path similarity: \",syn1.path_similarity(syn2))\n",
    "print(\"Wu palmer similarity : \",syn1.wup_similarity(syn2))"
   ]
  },
  {
   "cell_type": "code",
   "execution_count": 24,
   "id": "fe730dab-7f7d-440e-a95a-1228e0e5e3a2",
   "metadata": {
    "tags": []
   },
   "outputs": [
    {
     "name": "stdout",
     "output_type": "stream",
     "text": [
      "{'positivist', 'irrefutable', 'positively_charged', 'confirming', 'positivistic', 'cocksure', 'prescribed', 'electropositive', 'overconfident', 'positive', 'confident', 'positive_degree', 'incontrovertible', 'convinced', 'plus'}\n",
      "\n",
      "\n",
      "{'negative'}\n"
     ]
    }
   ],
   "source": [
    "synonyms = []\n",
    "antonyms = []\n",
    "\n",
    "for syn in wordnet.synsets(\"positive\"):\n",
    "    for i in syn.lemmas():\n",
    "        synonyms.append(i.name())\n",
    "        if i.antonyms():\n",
    "            antonyms.append(i.antonyms()[0].name())\n",
    "            \n",
    "print(set(synonyms))\n",
    "print(\"\\n\")\n",
    "print(set(antonyms))"
   ]
  },
  {
   "cell_type": "code",
   "execution_count": 25,
   "id": "752ee643-6dd7-437d-aa60-b694ba8490a4",
   "metadata": {
    "tags": []
   },
   "outputs": [],
   "source": [
    "tree = wordnet.synsets(\"atom\")[0]"
   ]
  },
  {
   "cell_type": "code",
   "execution_count": 26,
   "id": "3acb3531-9c50-4a1e-889b-6b954307ea92",
   "metadata": {
    "tags": []
   },
   "outputs": [
    {
     "data": {
      "text/plain": [
       "[Synset('chemical_element.n.01'), Synset('molecule.n.01')]"
      ]
     },
     "execution_count": 26,
     "metadata": {},
     "output_type": "execute_result"
    }
   ],
   "source": [
    "tree.part_holonyms()"
   ]
  },
  {
   "cell_type": "code",
   "execution_count": 27,
   "id": "3b3142b3-f78b-44c5-aaa8-aee87a6d5270",
   "metadata": {
    "tags": []
   },
   "outputs": [
    {
     "data": {
      "text/plain": [
       "[Synset('elementary_particle.n.01'), Synset('nucleus.n.02')]"
      ]
     },
     "execution_count": 27,
     "metadata": {},
     "output_type": "execute_result"
    }
   ],
   "source": [
    "tree.part_meronyms()"
   ]
  },
  {
   "cell_type": "markdown",
   "id": "dbce6e0a-514c-4d40-a774-e06328653098",
   "metadata": {},
   "source": [
    "#### Pattern Lemmatizer"
   ]
  },
  {
   "cell_type": "code",
   "execution_count": null,
   "id": "fe93f959-5168-4baf-b25d-1f6555016b0e",
   "metadata": {
    "colab": {
     "base_uri": "https://localhost:8080/"
    },
    "id": "2iFcXk2hHdN_",
    "outputId": "b3d92e10-cbaf-4612-c62c-0a57966649a9"
   },
   "outputs": [
    {
     "data": {
      "text/plain": [
       "['play', 'plays', 'playing', 'played']"
      ]
     },
     "execution_count": 9,
     "metadata": {},
     "output_type": "execute_result"
    }
   ],
   "source": [
    "lemma(\"watching\")"
   ]
  },
  {
   "cell_type": "code",
   "execution_count": null,
   "id": "b962d0a8-2552-415f-88d1-4baf4ce8b29b",
   "metadata": {},
   "outputs": [],
   "source": [
    "lexeme(\"play\")"
   ]
  },
  {
   "cell_type": "code",
   "execution_count": null,
   "id": "574cad8d-32f0-4edf-8f35-fcafb999de28",
   "metadata": {
    "id": "40mb0pdaHnUV"
   },
   "outputs": [],
   "source": [
    "sentence = \"The striped bats were hanging on their feet and ate best fishes\""
   ]
  },
  {
   "cell_type": "code",
   "execution_count": null,
   "id": "19178556-a9e4-410e-84f8-c8bc5086369f",
   "metadata": {
    "colab": {
     "base_uri": "https://localhost:8080/"
    },
    "id": "T9NoB38UH8gZ",
    "outputId": "7953ce95-9830-4585-b875-0e0a5f097661"
   },
   "outputs": [
    {
     "data": {
      "text/plain": [
       "['the',\n",
       " 'stripe',\n",
       " 'bat',\n",
       " 'be',\n",
       " 'hang',\n",
       " 'on',\n",
       " 'their',\n",
       " 'feet',\n",
       " 'and',\n",
       " 'eat',\n",
       " 'best',\n",
       " 'fishes']"
      ]
     },
     "execution_count": 11,
     "metadata": {},
     "output_type": "execute_result"
    }
   ],
   "source": [
    "## Lemma for each word\n",
    "[lemma(wd) for wd in sentence.split()]"
   ]
  },
  {
   "cell_type": "code",
   "execution_count": null,
   "id": "e4e5bff5-17c5-444a-8a55-e898a17bc9b0",
   "metadata": {
    "colab": {
     "base_uri": "https://localhost:8080/"
    },
    "id": "wSsqWlSHICL6",
    "outputId": "c4db55a1-96a9-4795-a574-ee0e2664ec3e"
   },
   "outputs": [
    {
     "data": {
      "text/plain": [
       "['see', 'sees', 'seeing', 'saw', 'seen']"
      ]
     },
     "execution_count": 12,
     "metadata": {},
     "output_type": "execute_result"
    }
   ],
   "source": [
    "lexeme(\"saw\")"
   ]
  },
  {
   "cell_type": "code",
   "execution_count": null,
   "id": "0c4779dc-c10b-4829-84f4-f73eaa73a266",
   "metadata": {
    "colab": {
     "base_uri": "https://localhost:8080/"
    },
    "id": "9fmLpAv2IH7m",
    "outputId": "e3f9d240-c04b-4fac-cd3e-c40561b2cf19"
   },
   "outputs": [
    {
     "data": {
      "text/plain": [
       "[['the', 'thes', 'thing', 'thed'],\n",
       " ['stripe', 'stripes', 'striping', 'striped'],\n",
       " ['bat', 'bats', 'batting', 'batted'],\n",
       " ['be',\n",
       "  'am',\n",
       "  'are',\n",
       "  'is',\n",
       "  'being',\n",
       "  'was',\n",
       "  'were',\n",
       "  'been',\n",
       "  'am not',\n",
       "  \"aren't\",\n",
       "  \"isn't\",\n",
       "  \"wasn't\",\n",
       "  \"weren't\"],\n",
       " ['hang', 'hangs', 'hanging', 'hung'],\n",
       " ['on', 'ons', 'oning', 'oned'],\n",
       " ['their', 'theirs', 'theiring', 'theired'],\n",
       " ['feet', 'feets', 'feeting', 'feeted'],\n",
       " ['and', 'ands', 'anding', 'anded'],\n",
       " ['eat', 'eats', 'eating', 'ate', 'eaten'],\n",
       " ['best', 'bests', 'besting', 'bested'],\n",
       " ['fishes', 'fishing', 'fishesed']]"
      ]
     },
     "execution_count": 15,
     "metadata": {},
     "output_type": "execute_result"
    }
   ],
   "source": [
    "## lexeme's for each word\n",
    "[lexeme(word) for word in sentence.split()]"
   ]
  },
  {
   "cell_type": "markdown",
   "id": "64c7b293-0af9-4392-b9e4-9d2a7f35fb9f",
   "metadata": {},
   "source": [
    "#### TextBlob Lemmatizer"
   ]
  },
  {
   "cell_type": "code",
   "execution_count": null,
   "id": "646b08fe-2d12-4b5b-bf9f-e7d35e8cda0c",
   "metadata": {
    "tags": []
   },
   "outputs": [],
   "source": [
    "## define function to lemmatize each word with its POS tag\n",
    "def lemmatize_with_postag(sentence):\n",
    "    sent = TextBlob(sentence)\n",
    "    tag_dict  = {\n",
    "    \"J\" : \"a\",\n",
    "    \"N\" : \"n\",\n",
    "    \"V\" : 'v',\n",
    "    \"R\" : \"r\"}\n",
    "    words_and_tags = [(w,tag_dict.get(pos[0],\"n\")) for w , pos in sent.tags]\n",
    "    lemmatized_list = [wd.lemmatize(tag) for wd,tag in rds_and_tags]\n",
    "    return \" \".join(lemmatized_list)"
   ]
  },
  {
   "cell_type": "markdown",
   "id": "2d57dcf5-9682-42c5-8cb4-4182b7f4ddd5",
   "metadata": {},
   "source": [
    "#### Stemming"
   ]
  },
  {
   "cell_type": "markdown",
   "id": "622f0300-aa34-4a4f-b3aa-da4a23a59ea0",
   "metadata": {},
   "source": [
    "##### Porter Stemmer"
   ]
  },
  {
   "cell_type": "code",
   "execution_count": null,
   "id": "0f3174de-2e7b-4f18-805b-e44e37bff6f5",
   "metadata": {},
   "outputs": [],
   "source": [
    "from nltk.stem import PorterStemmer\n",
    "from nltk.tokenize import word_tokenize\n",
    "  \n",
    "ps = PorterStemmer()\n",
    "  \n",
    "# choose some words to be stemmed\n",
    "words = [\"program\", \"programs\", \"programmer\", \"programming\", \"programmers\"]\n",
    "  \n",
    "for w in words:\n",
    "    print(w, \" : \", ps.stem(w))\n",
    "    \n",
    "sentence = \"Programmers program with programming languages\"\n",
    "words = word_tokenize(sentence)\n",
    "  \n",
    "for w in words:\n",
    "    print(w, \" : \", ps.stem(w))"
   ]
  },
  {
   "cell_type": "markdown",
   "id": "a7ae410d-9095-4c8e-ad67-a920fccde3e8",
   "metadata": {},
   "source": [
    "##### SnowBall Stemmer"
   ]
  },
  {
   "cell_type": "code",
   "execution_count": null,
   "id": "0877f226-995e-4f2c-b529-79a3dba668d9",
   "metadata": {},
   "outputs": [],
   "source": [
    "from nltk.stem import SnowballStemmer\n",
    "snowball = SnowballStemmer(language='english')\n",
    "words = ['generous','generate','generously','generation']\n",
    "for word in words:\n",
    "    print(word,\"--->\",snowball.stem(word))"
   ]
  },
  {
   "cell_type": "markdown",
   "id": "ce67673c-92b5-4a58-a0ca-ebff0b967985",
   "metadata": {},
   "source": [
    "##### Lancaster Stemmer"
   ]
  },
  {
   "cell_type": "code",
   "execution_count": null,
   "id": "e068ee0d-8f9a-4f83-9d40-9056df45d424",
   "metadata": {},
   "outputs": [],
   "source": [
    "from nltk.stem import LancasterStemmer\n",
    "lancaster = LancasterStemmer()\n",
    "words = ['eating','eats','eaten','puts','putting']\n",
    "for word in words:\n",
    "    print(word,\"--->\",lancaster.stem(word))"
   ]
  },
  {
   "cell_type": "markdown",
   "id": "486e051b-2da8-415d-9780-84a92c959d5d",
   "metadata": {},
   "source": [
    "##### RegExp Stemmer"
   ]
  },
  {
   "cell_type": "code",
   "execution_count": null,
   "id": "2f8bc982-f385-4b65-9a4d-bc72af7930f6",
   "metadata": {},
   "outputs": [],
   "source": [
    "from nltk.stem import RegexpStemmer\n",
    "regexp = RegexpStemmer('ing$|s$|e$|able$', min=4)\n",
    "words = ['mass','was','bee','computer','advisable']\n",
    "for word in words:\n",
    "    print(word,\"--->\",regexp.stem(word))"
   ]
  }
 ],
 "metadata": {
  "kernelspec": {
   "display_name": "Python 3 (ipykernel)",
   "language": "python",
   "name": "python3"
  },
  "language_info": {
   "codemirror_mode": {
    "name": "ipython",
    "version": 3
   },
   "file_extension": ".py",
   "mimetype": "text/x-python",
   "name": "python",
   "nbconvert_exporter": "python",
   "pygments_lexer": "ipython3",
   "version": "3.11.2"
  }
 },
 "nbformat": 4,
 "nbformat_minor": 5
}
