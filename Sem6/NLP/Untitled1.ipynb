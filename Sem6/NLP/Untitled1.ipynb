{
 "cells": [
  {
   "cell_type": "code",
   "execution_count": 39,
   "id": "fd82ad33-97af-4a65-895f-872d627aba0b",
   "metadata": {},
   "outputs": [],
   "source": [
    "from afinn import Afinn\n",
    "import numpy as np\n",
    "import pandas as pd"
   ]
  },
  {
   "cell_type": "code",
   "execution_count": 2,
   "id": "7ee56843-26c4-4362-9859-7fe8b7acb3d3",
   "metadata": {},
   "outputs": [],
   "source": [
    "afn = Afinn()"
   ]
  },
  {
   "cell_type": "code",
   "execution_count": 3,
   "id": "af9279b8-7ddf-4aa7-9d65-9ff17f996826",
   "metadata": {},
   "outputs": [],
   "source": [
    "news_df = ['les gens pensent aux chiens','i hate flowers','hes kind and smart','we are kind to good people']"
   ]
  },
  {
   "cell_type": "code",
   "execution_count": 4,
   "id": "3840bbd3-0285-4c95-9c3a-9ef0895fae63",
   "metadata": {},
   "outputs": [
    {
     "data": {
      "text/plain": [
       "'i hate flowers'"
      ]
     },
     "execution_count": 4,
     "metadata": {},
     "output_type": "execute_result"
    }
   ],
   "source": [
    "news_df[1]"
   ]
  },
  {
   "cell_type": "code",
   "execution_count": 5,
   "id": "cb1b6389-9647-43fe-b751-f2e6e986b12e",
   "metadata": {},
   "outputs": [
    {
     "data": {
      "text/plain": [
       "-3.0"
      ]
     },
     "execution_count": 5,
     "metadata": {},
     "output_type": "execute_result"
    }
   ],
   "source": [
    "afn.score(news_df[1])"
   ]
  },
  {
   "cell_type": "code",
   "execution_count": 8,
   "id": "5bf42c26-cff4-44de-8f39-68d2653d4f57",
   "metadata": {},
   "outputs": [],
   "source": [
    "scores = [afn.score(ii) for ii in news_df]\n",
    "sentiment = ['positive' if i>0 else 'negative' if i<0 else 'neutral' for i in scores]"
   ]
  },
  {
   "cell_type": "code",
   "execution_count": 9,
   "id": "f5c67ad6-32a5-49aa-a50c-cf201527f275",
   "metadata": {},
   "outputs": [
    {
     "data": {
      "text/plain": [
       "['neutral', 'negative', 'positive', 'positive']"
      ]
     },
     "execution_count": 9,
     "metadata": {},
     "output_type": "execute_result"
    }
   ],
   "source": [
    "sentiment"
   ]
  },
  {
   "cell_type": "code",
   "execution_count": 10,
   "id": "5ff7a567-fe6b-49a4-8428-db5ff5866437",
   "metadata": {},
   "outputs": [
    {
     "data": {
      "text/plain": [
       "[0.0, -3.0, 3.0, 5.0]"
      ]
     },
     "execution_count": 10,
     "metadata": {},
     "output_type": "execute_result"
    }
   ],
   "source": [
    "scores"
   ]
  },
  {
   "cell_type": "code",
   "execution_count": 12,
   "id": "0f53a5f5-c53f-43c7-9024-829b5084da8f",
   "metadata": {},
   "outputs": [],
   "source": [
    "df = pd.DataFrame([news_df,scores,sentiment])"
   ]
  },
  {
   "cell_type": "code",
   "execution_count": 15,
   "id": "6a4288f3-7096-403b-8ee2-f7058f6b82d3",
   "metadata": {},
   "outputs": [],
   "source": [
    "df = df.T"
   ]
  },
  {
   "cell_type": "code",
   "execution_count": 18,
   "id": "bcfdbee4-7922-4109-b122-18eafa3517cd",
   "metadata": {},
   "outputs": [],
   "source": [
    "df.columns = ['topic','score','sentiment']"
   ]
  },
  {
   "cell_type": "code",
   "execution_count": 19,
   "id": "53146bb6-92a1-47b2-82c9-fb7f7e0a3f0f",
   "metadata": {},
   "outputs": [
    {
     "data": {
      "text/html": [
       "<div>\n",
       "<style scoped>\n",
       "    .dataframe tbody tr th:only-of-type {\n",
       "        vertical-align: middle;\n",
       "    }\n",
       "\n",
       "    .dataframe tbody tr th {\n",
       "        vertical-align: top;\n",
       "    }\n",
       "\n",
       "    .dataframe thead th {\n",
       "        text-align: right;\n",
       "    }\n",
       "</style>\n",
       "<table border=\"1\" class=\"dataframe\">\n",
       "  <thead>\n",
       "    <tr style=\"text-align: right;\">\n",
       "      <th></th>\n",
       "      <th>topic</th>\n",
       "      <th>score</th>\n",
       "      <th>sentiment</th>\n",
       "    </tr>\n",
       "  </thead>\n",
       "  <tbody>\n",
       "    <tr>\n",
       "      <th>0</th>\n",
       "      <td>les gens pensent aux chiens</td>\n",
       "      <td>0.0</td>\n",
       "      <td>neutral</td>\n",
       "    </tr>\n",
       "    <tr>\n",
       "      <th>1</th>\n",
       "      <td>i hate flowers</td>\n",
       "      <td>-3.0</td>\n",
       "      <td>negative</td>\n",
       "    </tr>\n",
       "    <tr>\n",
       "      <th>2</th>\n",
       "      <td>hes kind and smart</td>\n",
       "      <td>3.0</td>\n",
       "      <td>positive</td>\n",
       "    </tr>\n",
       "    <tr>\n",
       "      <th>3</th>\n",
       "      <td>we are kind to good people</td>\n",
       "      <td>5.0</td>\n",
       "      <td>positive</td>\n",
       "    </tr>\n",
       "  </tbody>\n",
       "</table>\n",
       "</div>"
      ],
      "text/plain": [
       "                         topic score sentiment\n",
       "0  les gens pensent aux chiens   0.0   neutral\n",
       "1               i hate flowers  -3.0  negative\n",
       "2           hes kind and smart   3.0  positive\n",
       "3   we are kind to good people   5.0  positive"
      ]
     },
     "execution_count": 19,
     "metadata": {},
     "output_type": "execute_result"
    }
   ],
   "source": [
    "df"
   ]
  },
  {
   "cell_type": "markdown",
   "id": "4b51896e-2bff-4f93-ba0a-8b8870fdce7e",
   "metadata": {},
   "source": [
    "## TextBlob"
   ]
  },
  {
   "cell_type": "code",
   "execution_count": 20,
   "id": "f0001fca-a899-49ba-8f61-164acf2ab465",
   "metadata": {},
   "outputs": [],
   "source": [
    "from textblob import TextBlob"
   ]
  },
  {
   "cell_type": "code",
   "execution_count": 21,
   "id": "a40ab2f2-149b-4e03-80cd-f6b0f3fb0be7",
   "metadata": {},
   "outputs": [],
   "source": [
    "sent1 = 'stock market crashed today'"
   ]
  },
  {
   "cell_type": "code",
   "execution_count": 25,
   "id": "5a5f71f9-57e8-433a-9703-f1f6bdca76f0",
   "metadata": {},
   "outputs": [],
   "source": [
    "sent1 = 'we are kind to good people'"
   ]
  },
  {
   "cell_type": "code",
   "execution_count": 26,
   "id": "fd1cbd76-fb8c-4357-b972-4beab7105588",
   "metadata": {},
   "outputs": [],
   "source": [
    "s1 = TextBlob(sent1)"
   ]
  },
  {
   "cell_type": "code",
   "execution_count": 27,
   "id": "cfa1d7c6-85ab-4b8c-b027-8266b478dd73",
   "metadata": {},
   "outputs": [
    {
     "data": {
      "text/plain": [
       "0.6499999999999999"
      ]
     },
     "execution_count": 27,
     "metadata": {},
     "output_type": "execute_result"
    }
   ],
   "source": [
    "s1.polarity"
   ]
  },
  {
   "cell_type": "code",
   "execution_count": 28,
   "id": "d60ca616-566d-4ac9-b210-ab0efde55724",
   "metadata": {},
   "outputs": [
    {
     "data": {
      "text/plain": [
       "0.75"
      ]
     },
     "execution_count": 28,
     "metadata": {},
     "output_type": "execute_result"
    }
   ],
   "source": [
    "s1.subjectivity"
   ]
  },
  {
   "cell_type": "markdown",
   "id": "af6208ab-77fe-4d4f-b936-5de8473b879d",
   "metadata": {},
   "source": [
    "----"
   ]
  },
  {
   "cell_type": "code",
   "execution_count": 29,
   "id": "d9bd4978-fef7-468a-a639-e4f07714bedf",
   "metadata": {},
   "outputs": [],
   "source": [
    "df = pd.read_csv('Tweets.csv')"
   ]
  },
  {
   "cell_type": "code",
   "execution_count": 30,
   "id": "bbe29895-de1c-4894-b969-df0ffa7ea237",
   "metadata": {},
   "outputs": [
    {
     "data": {
      "text/html": [
       "<div>\n",
       "<style scoped>\n",
       "    .dataframe tbody tr th:only-of-type {\n",
       "        vertical-align: middle;\n",
       "    }\n",
       "\n",
       "    .dataframe tbody tr th {\n",
       "        vertical-align: top;\n",
       "    }\n",
       "\n",
       "    .dataframe thead th {\n",
       "        text-align: right;\n",
       "    }\n",
       "</style>\n",
       "<table border=\"1\" class=\"dataframe\">\n",
       "  <thead>\n",
       "    <tr style=\"text-align: right;\">\n",
       "      <th></th>\n",
       "      <th>tweet_id</th>\n",
       "      <th>airline_sentiment</th>\n",
       "      <th>airline_sentiment_confidence</th>\n",
       "      <th>negativereason</th>\n",
       "      <th>negativereason_confidence</th>\n",
       "      <th>airline</th>\n",
       "      <th>airline_sentiment_gold</th>\n",
       "      <th>name</th>\n",
       "      <th>negativereason_gold</th>\n",
       "      <th>retweet_count</th>\n",
       "      <th>text</th>\n",
       "      <th>tweet_coord</th>\n",
       "      <th>tweet_created</th>\n",
       "      <th>tweet_location</th>\n",
       "      <th>user_timezone</th>\n",
       "    </tr>\n",
       "  </thead>\n",
       "  <tbody>\n",
       "    <tr>\n",
       "      <th>0</th>\n",
       "      <td>570306133677760513</td>\n",
       "      <td>neutral</td>\n",
       "      <td>1.0000</td>\n",
       "      <td>NaN</td>\n",
       "      <td>NaN</td>\n",
       "      <td>Virgin America</td>\n",
       "      <td>NaN</td>\n",
       "      <td>cairdin</td>\n",
       "      <td>NaN</td>\n",
       "      <td>0</td>\n",
       "      <td>@VirginAmerica What @dhepburn said.</td>\n",
       "      <td>NaN</td>\n",
       "      <td>2015-02-24 11:35:52 -0800</td>\n",
       "      <td>NaN</td>\n",
       "      <td>Eastern Time (US &amp; Canada)</td>\n",
       "    </tr>\n",
       "    <tr>\n",
       "      <th>1</th>\n",
       "      <td>570301130888122368</td>\n",
       "      <td>positive</td>\n",
       "      <td>0.3486</td>\n",
       "      <td>NaN</td>\n",
       "      <td>0.0</td>\n",
       "      <td>Virgin America</td>\n",
       "      <td>NaN</td>\n",
       "      <td>jnardino</td>\n",
       "      <td>NaN</td>\n",
       "      <td>0</td>\n",
       "      <td>@VirginAmerica plus you've added commercials t...</td>\n",
       "      <td>NaN</td>\n",
       "      <td>2015-02-24 11:15:59 -0800</td>\n",
       "      <td>NaN</td>\n",
       "      <td>Pacific Time (US &amp; Canada)</td>\n",
       "    </tr>\n",
       "  </tbody>\n",
       "</table>\n",
       "</div>"
      ],
      "text/plain": [
       "             tweet_id airline_sentiment  airline_sentiment_confidence  \\\n",
       "0  570306133677760513           neutral                        1.0000   \n",
       "1  570301130888122368          positive                        0.3486   \n",
       "\n",
       "  negativereason  negativereason_confidence         airline  \\\n",
       "0            NaN                        NaN  Virgin America   \n",
       "1            NaN                        0.0  Virgin America   \n",
       "\n",
       "  airline_sentiment_gold      name negativereason_gold  retweet_count  \\\n",
       "0                    NaN   cairdin                 NaN              0   \n",
       "1                    NaN  jnardino                 NaN              0   \n",
       "\n",
       "                                                text tweet_coord  \\\n",
       "0                @VirginAmerica What @dhepburn said.         NaN   \n",
       "1  @VirginAmerica plus you've added commercials t...         NaN   \n",
       "\n",
       "               tweet_created tweet_location               user_timezone  \n",
       "0  2015-02-24 11:35:52 -0800            NaN  Eastern Time (US & Canada)  \n",
       "1  2015-02-24 11:15:59 -0800            NaN  Pacific Time (US & Canada)  "
      ]
     },
     "execution_count": 30,
     "metadata": {},
     "output_type": "execute_result"
    }
   ],
   "source": [
    "df.head(2)"
   ]
  },
  {
   "cell_type": "code",
   "execution_count": 31,
   "id": "b2c61ae8-bb2b-42a4-b609-df34a22ccfbc",
   "metadata": {},
   "outputs": [],
   "source": [
    "res = df[['text']]"
   ]
  },
  {
   "cell_type": "code",
   "execution_count": 36,
   "id": "0601a139-7af5-4123-8f4e-ac4b4091d146",
   "metadata": {},
   "outputs": [
    {
     "name": "stderr",
     "output_type": "stream",
     "text": [
      "/tmp/ipykernel_8524/2627920306.py:1: SettingWithCopyWarning: \n",
      "A value is trying to be set on a copy of a slice from a DataFrame.\n",
      "Try using .loc[row_indexer,col_indexer] = value instead\n",
      "\n",
      "See the caveats in the documentation: https://pandas.pydata.org/pandas-docs/stable/user_guide/indexing.html#returning-a-view-versus-a-copy\n",
      "  res.loc[:,'afinn_score'] = res.loc[:,'text'].apply(afn.score)\n"
     ]
    }
   ],
   "source": [
    "res.loc[:,'afinn_score'] = res.loc[:,'text'].apply(afn.score)"
   ]
  },
  {
   "cell_type": "code",
   "execution_count": 41,
   "id": "71d7287f-4544-4adb-9de9-31e3be9c1693",
   "metadata": {},
   "outputs": [
    {
     "name": "stderr",
     "output_type": "stream",
     "text": [
      "/tmp/ipykernel_8524/4183280041.py:1: SettingWithCopyWarning: \n",
      "A value is trying to be set on a copy of a slice from a DataFrame.\n",
      "Try using .loc[row_indexer,col_indexer] = value instead\n",
      "\n",
      "See the caveats in the documentation: https://pandas.pydata.org/pandas-docs/stable/user_guide/indexing.html#returning-a-view-versus-a-copy\n",
      "  res.loc[:,'afinn_sentiment'] = np.where(res['afinn_score']<0,'negative',np.where(res['afinn_score']>0,'positive','neutral'))\n"
     ]
    }
   ],
   "source": [
    "res.loc[:,'afinn_sentiment'] = np.where(res['afinn_score']<0,'negative',np.where(res['afinn_score']>0,'positive','neutral'))"
   ]
  },
  {
   "cell_type": "code",
   "execution_count": 43,
   "id": "1280efa2-7a45-4c04-979e-b29ef70b90cc",
   "metadata": {},
   "outputs": [
    {
     "name": "stderr",
     "output_type": "stream",
     "text": [
      "/tmp/ipykernel_8524/3249561299.py:1: SettingWithCopyWarning: \n",
      "A value is trying to be set on a copy of a slice from a DataFrame.\n",
      "Try using .loc[row_indexer,col_indexer] = value instead\n",
      "\n",
      "See the caveats in the documentation: https://pandas.pydata.org/pandas-docs/stable/user_guide/indexing.html#returning-a-view-versus-a-copy\n",
      "  res.loc[:,'subjectivity'] = res.loc[:,'text'].apply(lambda x: TextBlob(x).subjectivity)\n"
     ]
    }
   ],
   "source": [
    "res.loc[:,'subjectivity'] = res.loc[:,'text'].apply(lambda x: TextBlob(x).subjectivity)"
   ]
  },
  {
   "cell_type": "code",
   "execution_count": 45,
   "id": "c218d689-03c1-46df-958a-ba574bb60d20",
   "metadata": {},
   "outputs": [
    {
     "name": "stderr",
     "output_type": "stream",
     "text": [
      "/tmp/ipykernel_8524/789639230.py:1: SettingWithCopyWarning: \n",
      "A value is trying to be set on a copy of a slice from a DataFrame.\n",
      "Try using .loc[row_indexer,col_indexer] = value instead\n",
      "\n",
      "See the caveats in the documentation: https://pandas.pydata.org/pandas-docs/stable/user_guide/indexing.html#returning-a-view-versus-a-copy\n",
      "  res.loc[:,'polarity'] = res.loc[:,'text'].apply(lambda x:TextBlob(x).polarity)\n"
     ]
    }
   ],
   "source": [
    "res.loc[:,'polarity'] = res.loc[:,'text'].apply(lambda x:TextBlob(x).polarity)"
   ]
  },
  {
   "cell_type": "code",
   "execution_count": 47,
   "id": "37a3a443-5e01-430d-9378-459052e53884",
   "metadata": {},
   "outputs": [
    {
     "name": "stderr",
     "output_type": "stream",
     "text": [
      "/tmp/ipykernel_8524/3602302459.py:1: SettingWithCopyWarning: \n",
      "A value is trying to be set on a copy of a slice from a DataFrame.\n",
      "Try using .loc[row_indexer,col_indexer] = value instead\n",
      "\n",
      "See the caveats in the documentation: https://pandas.pydata.org/pandas-docs/stable/user_guide/indexing.html#returning-a-view-versus-a-copy\n",
      "  res.loc[:,'textblob_sentiment'] = res.loc[:,'text'].apply(lambda x:TextBlob(x).sentiment)\n"
     ]
    }
   ],
   "source": [
    "res.loc[:,'textblob_sentiment'] = res.loc[:,'text'].apply(lambda x:TextBlob(x).sentiment)"
   ]
  },
  {
   "cell_type": "code",
   "execution_count": 49,
   "id": "00d0c355-0fbe-4dd7-aba2-101229b8f099",
   "metadata": {},
   "outputs": [
    {
     "name": "stderr",
     "output_type": "stream",
     "text": [
      "/tmp/ipykernel_8524/3792716078.py:1: SettingWithCopyWarning: \n",
      "A value is trying to be set on a copy of a slice from a DataFrame.\n",
      "Try using .loc[row_indexer,col_indexer] = value instead\n",
      "\n",
      "See the caveats in the documentation: https://pandas.pydata.org/pandas-docs/stable/user_guide/indexing.html#returning-a-view-versus-a-copy\n",
      "  res.loc[:,'textblob_sentiment'] = np.where(res['polarity']<0,'negative',np.where(res['polarity']>0,'positive','neutral'))\n"
     ]
    }
   ],
   "source": [
    "res.loc[:,'textblob_sentiment'] = np.where(res['polarity']<0,'negative',np.where(res['polarity']>0,'positive','neutral'))"
   ]
  },
  {
   "cell_type": "code",
   "execution_count": 50,
   "id": "51a7254f-01a9-48d7-8a89-0d3ce5fb8208",
   "metadata": {},
   "outputs": [
    {
     "data": {
      "text/html": [
       "<div>\n",
       "<style scoped>\n",
       "    .dataframe tbody tr th:only-of-type {\n",
       "        vertical-align: middle;\n",
       "    }\n",
       "\n",
       "    .dataframe tbody tr th {\n",
       "        vertical-align: top;\n",
       "    }\n",
       "\n",
       "    .dataframe thead th {\n",
       "        text-align: right;\n",
       "    }\n",
       "</style>\n",
       "<table border=\"1\" class=\"dataframe\">\n",
       "  <thead>\n",
       "    <tr style=\"text-align: right;\">\n",
       "      <th></th>\n",
       "      <th>text</th>\n",
       "      <th>afinn_score</th>\n",
       "      <th>afinn_sentiment</th>\n",
       "      <th>subjectivity</th>\n",
       "      <th>polarity</th>\n",
       "      <th>textblob_sentiment</th>\n",
       "    </tr>\n",
       "  </thead>\n",
       "  <tbody>\n",
       "    <tr>\n",
       "      <th>0</th>\n",
       "      <td>@VirginAmerica What @dhepburn said.</td>\n",
       "      <td>0.0</td>\n",
       "      <td>neutral</td>\n",
       "      <td>0.000000</td>\n",
       "      <td>0.000000</td>\n",
       "      <td>neutral</td>\n",
       "    </tr>\n",
       "    <tr>\n",
       "      <th>1</th>\n",
       "      <td>@VirginAmerica plus you've added commercials t...</td>\n",
       "      <td>0.0</td>\n",
       "      <td>neutral</td>\n",
       "      <td>0.000000</td>\n",
       "      <td>0.000000</td>\n",
       "      <td>neutral</td>\n",
       "    </tr>\n",
       "    <tr>\n",
       "      <th>2</th>\n",
       "      <td>@VirginAmerica I didn't today... Must mean I n...</td>\n",
       "      <td>0.0</td>\n",
       "      <td>neutral</td>\n",
       "      <td>0.687500</td>\n",
       "      <td>-0.390625</td>\n",
       "      <td>negative</td>\n",
       "    </tr>\n",
       "    <tr>\n",
       "      <th>3</th>\n",
       "      <td>@VirginAmerica it's really aggressive to blast...</td>\n",
       "      <td>-5.0</td>\n",
       "      <td>negative</td>\n",
       "      <td>0.350000</td>\n",
       "      <td>0.006250</td>\n",
       "      <td>positive</td>\n",
       "    </tr>\n",
       "    <tr>\n",
       "      <th>4</th>\n",
       "      <td>@VirginAmerica and it's a really big bad thing...</td>\n",
       "      <td>-2.0</td>\n",
       "      <td>negative</td>\n",
       "      <td>0.383333</td>\n",
       "      <td>-0.350000</td>\n",
       "      <td>negative</td>\n",
       "    </tr>\n",
       "  </tbody>\n",
       "</table>\n",
       "</div>"
      ],
      "text/plain": [
       "                                                text  afinn_score  \\\n",
       "0                @VirginAmerica What @dhepburn said.          0.0   \n",
       "1  @VirginAmerica plus you've added commercials t...          0.0   \n",
       "2  @VirginAmerica I didn't today... Must mean I n...          0.0   \n",
       "3  @VirginAmerica it's really aggressive to blast...         -5.0   \n",
       "4  @VirginAmerica and it's a really big bad thing...         -2.0   \n",
       "\n",
       "  afinn_sentiment  subjectivity  polarity textblob_sentiment  \n",
       "0         neutral      0.000000  0.000000            neutral  \n",
       "1         neutral      0.000000  0.000000            neutral  \n",
       "2         neutral      0.687500 -0.390625           negative  \n",
       "3        negative      0.350000  0.006250           positive  \n",
       "4        negative      0.383333 -0.350000           negative  "
      ]
     },
     "execution_count": 50,
     "metadata": {},
     "output_type": "execute_result"
    }
   ],
   "source": [
    "res.head()"
   ]
  }
 ],
 "metadata": {
  "kernelspec": {
   "display_name": "Python 3 (ipykernel)",
   "language": "python",
   "name": "python3"
  },
  "language_info": {
   "codemirror_mode": {
    "name": "ipython",
    "version": 3
   },
   "file_extension": ".py",
   "mimetype": "text/x-python",
   "name": "python",
   "nbconvert_exporter": "python",
   "pygments_lexer": "ipython3",
   "version": "3.10.8"
  }
 },
 "nbformat": 4,
 "nbformat_minor": 5
}
