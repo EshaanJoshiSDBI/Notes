{
 "cells": [
  {
   "cell_type": "code",
   "execution_count": 1,
   "id": "6c77b87b-0e9a-4f2e-b198-af7ff9eda200",
   "metadata": {},
   "outputs": [],
   "source": [
    "import nltk\n",
    "from nltk.corpus import stopwords"
   ]
  },
  {
   "cell_type": "code",
   "execution_count": 2,
   "id": "ff1ddca6-cf9d-483d-a09a-6d52ef060272",
   "metadata": {},
   "outputs": [
    {
     "name": "stderr",
     "output_type": "stream",
     "text": [
      "[nltk_data] Downloading package stopwords to /home/eshaan/nltk_data...\n",
      "[nltk_data]   Package stopwords is already up-to-date!\n",
      "[nltk_data] Downloading package punkt to /home/eshaan/nltk_data...\n",
      "[nltk_data]   Package punkt is already up-to-date!\n"
     ]
    },
    {
     "data": {
      "text/plain": [
       "True"
      ]
     },
     "execution_count": 2,
     "metadata": {},
     "output_type": "execute_result"
    }
   ],
   "source": [
    "nltk.download('stopwords')\n",
    "nltk.download('punkt')"
   ]
  },
  {
   "cell_type": "code",
   "execution_count": 3,
   "id": "9eed5a0f-add0-4727-82bc-06a34ce9ace6",
   "metadata": {},
   "outputs": [],
   "source": [
    "text= \"You've reached the website for Arch Linux, a lightweight and flexible Linux® distribution that tries to Keep It Simple.Currently we have official packages optimized for the x86-64 architecture.\""
   ]
  },
  {
   "cell_type": "code",
   "execution_count": 4,
   "id": "6ba7831f-98d8-4eba-a3ab-c162df75f9df",
   "metadata": {},
   "outputs": [],
   "source": [
    "from nltk.tokenize import word_tokenize"
   ]
  },
  {
   "cell_type": "code",
   "execution_count": 5,
   "id": "eff290a5-5024-420e-9820-d71a0813eefa",
   "metadata": {},
   "outputs": [],
   "source": [
    "tokens = word_tokenize(text)"
   ]
  },
  {
   "cell_type": "code",
   "execution_count": 6,
   "id": "5b8277f0-e3c0-4aef-88ce-e292c2a04ace",
   "metadata": {},
   "outputs": [
    {
     "data": {
      "text/plain": [
       "['You', \"'ve\", 'reached', 'the', 'website', 'for', 'Arch', 'Linux', ',', 'a']"
      ]
     },
     "execution_count": 6,
     "metadata": {},
     "output_type": "execute_result"
    }
   ],
   "source": [
    "tokens[:10]"
   ]
  },
  {
   "cell_type": "code",
   "execution_count": 7,
   "id": "9ce8ba62-2145-46c9-8768-46718fd7eed5",
   "metadata": {},
   "outputs": [],
   "source": [
    "from nltk.corpus import stopwords\n",
    "from string import punctuation\n",
    "punct = list(punctuation)\n",
    "sw = stopwords.words('english')"
   ]
  },
  {
   "cell_type": "code",
   "execution_count": 8,
   "id": "deea4b8d-b736-4691-974c-b85921bcb3e9",
   "metadata": {},
   "outputs": [],
   "source": [
    "l_tokens = [i.lower() for i in tokens]"
   ]
  },
  {
   "cell_type": "code",
   "execution_count": 9,
   "id": "82981c2e-d61c-4b83-b2ec-17f77d330b37",
   "metadata": {},
   "outputs": [],
   "source": [
    "c_tokens = [i for i in l_tokens if i not in sw and i not in punct and len(i) > 2]"
   ]
  },
  {
   "cell_type": "code",
   "execution_count": 10,
   "id": "37172be0-7913-4278-8505-e6d53ae51fbf",
   "metadata": {},
   "outputs": [
    {
     "data": {
      "text/plain": [
       "31"
      ]
     },
     "execution_count": 10,
     "metadata": {},
     "output_type": "execute_result"
    }
   ],
   "source": [
    "len(l_tokens)"
   ]
  },
  {
   "cell_type": "code",
   "execution_count": 11,
   "id": "56ddbfff-7f38-4a43-bb06-a7979d18d55b",
   "metadata": {},
   "outputs": [
    {
     "data": {
      "text/plain": [
       "17"
      ]
     },
     "execution_count": 11,
     "metadata": {},
     "output_type": "execute_result"
    }
   ],
   "source": [
    "len(c_tokens)"
   ]
  },
  {
   "cell_type": "code",
   "execution_count": 12,
   "id": "b9fccc90-96b7-4c35-8772-311ef8d0ca7c",
   "metadata": {},
   "outputs": [],
   "source": [
    "from nltk.stem import PorterStemmer\n",
    "pr = PorterStemmer()"
   ]
  },
  {
   "cell_type": "code",
   "execution_count": 13,
   "id": "e15ab1a8-8ad1-43d0-b52d-bcba81280dff",
   "metadata": {},
   "outputs": [
    {
     "data": {
      "text/plain": [
       "'beauti'"
      ]
     },
     "execution_count": 13,
     "metadata": {},
     "output_type": "execute_result"
    }
   ],
   "source": [
    "pr.stem('beautiful')"
   ]
  },
  {
   "cell_type": "code",
   "execution_count": 14,
   "id": "63f84032-59dc-494f-9bcf-ce328107950d",
   "metadata": {},
   "outputs": [],
   "source": [
    "stem = [pr.stem(i) for i in c_tokens]"
   ]
  },
  {
   "cell_type": "code",
   "execution_count": 15,
   "id": "e48637ea-ef75-4456-a3fd-6eb2100d9d7a",
   "metadata": {},
   "outputs": [
    {
     "data": {
      "text/plain": [
       "[\"'ve\", 'reach', 'websit', 'arch', 'linux']"
      ]
     },
     "execution_count": 15,
     "metadata": {},
     "output_type": "execute_result"
    }
   ],
   "source": [
    "stem[:5]"
   ]
  },
  {
   "cell_type": "code",
   "execution_count": 16,
   "id": "e4b9a737-62c6-42f5-8cf0-0d604ada9569",
   "metadata": {},
   "outputs": [],
   "source": [
    "from nltk.stem.snowball import SnowballStemmer"
   ]
  },
  {
   "cell_type": "code",
   "execution_count": 17,
   "id": "a88a42a3-b09c-4e4f-96b3-973a37abb2a3",
   "metadata": {},
   "outputs": [],
   "source": [
    "sstemer = SnowballStemmer(language='english')"
   ]
  },
  {
   "cell_type": "code",
   "execution_count": 18,
   "id": "c40fea2e-44ec-4ad2-9aec-d3c36e0f3129",
   "metadata": {},
   "outputs": [],
   "source": [
    "sstem = [sstemer.stem(i) for i in c_tokens]"
   ]
  },
  {
   "cell_type": "code",
   "execution_count": 19,
   "id": "edacdf3c-d6bd-4863-8af5-d23b3cbd0846",
   "metadata": {},
   "outputs": [
    {
     "data": {
      "text/plain": [
       "['ve', 'reach', 'websit', 'arch', 'linux']"
      ]
     },
     "execution_count": 19,
     "metadata": {},
     "output_type": "execute_result"
    }
   ],
   "source": [
    "sstem[:5]"
   ]
  },
  {
   "cell_type": "code",
   "execution_count": 20,
   "id": "d0553a96-88fd-46cb-aae9-c47b7ed28f35",
   "metadata": {},
   "outputs": [],
   "source": [
    "from nltk.stem import LancasterStemmer\n",
    "lstem = LancasterStemmer()"
   ]
  },
  {
   "cell_type": "code",
   "execution_count": 21,
   "id": "f018a08f-90f8-4309-a351-a82d345a4c20",
   "metadata": {},
   "outputs": [],
   "source": [
    "lstems = [lstem.stem(i) for i in c_tokens]"
   ]
  },
  {
   "cell_type": "code",
   "execution_count": 22,
   "id": "563e1598-2bdc-4092-9c0b-26c4aec400ff",
   "metadata": {},
   "outputs": [
    {
     "data": {
      "text/plain": [
       "[\"'ve\", 'reach', 'websit', 'arch', 'linux']"
      ]
     },
     "execution_count": 22,
     "metadata": {},
     "output_type": "execute_result"
    }
   ],
   "source": [
    "lstems[:5]"
   ]
  },
  {
   "cell_type": "code",
   "execution_count": 23,
   "id": "0ef0fc51-1053-41a5-8935-078e523f879f",
   "metadata": {},
   "outputs": [
    {
     "name": "stderr",
     "output_type": "stream",
     "text": [
      "[nltk_data] Downloading package wordnet to /home/eshaan/nltk_data...\n",
      "[nltk_data]   Package wordnet is already up-to-date!\n"
     ]
    },
    {
     "data": {
      "text/plain": [
       "True"
      ]
     },
     "execution_count": 23,
     "metadata": {},
     "output_type": "execute_result"
    }
   ],
   "source": [
    "nltk.download('wordnet')"
   ]
  },
  {
   "cell_type": "code",
   "execution_count": 24,
   "id": "6b7c1421-fd32-4432-9c77-a78f51a1e453",
   "metadata": {},
   "outputs": [
    {
     "name": "stderr",
     "output_type": "stream",
     "text": [
      "[nltk_data] Downloading package omw-1.4 to /home/eshaan/nltk_data...\n",
      "[nltk_data]   Package omw-1.4 is already up-to-date!\n"
     ]
    },
    {
     "data": {
      "text/plain": [
       "True"
      ]
     },
     "execution_count": 24,
     "metadata": {},
     "output_type": "execute_result"
    }
   ],
   "source": [
    "nltk.download('omw-1.4')"
   ]
  },
  {
   "cell_type": "code",
   "execution_count": 25,
   "id": "8c0b2e06-cfbe-4587-ac0d-70b0d112d31b",
   "metadata": {},
   "outputs": [],
   "source": [
    "from nltk import WordNetLemmatizer\n",
    "lem = WordNetLemmatizer()"
   ]
  },
  {
   "cell_type": "code",
   "execution_count": 26,
   "id": "a95d922b-3561-46c7-a6d4-1fa734db9b5e",
   "metadata": {},
   "outputs": [],
   "source": [
    "lemma = [lem.lemmatize(i) for i in c_tokens]"
   ]
  },
  {
   "cell_type": "code",
   "execution_count": 27,
   "id": "9c9b3745-37cc-4c45-bb67-3374a2a9c2c9",
   "metadata": {},
   "outputs": [
    {
     "data": {
      "text/plain": [
       "[\"'ve\", 'reached', 'website', 'arch', 'linux', 'lightweight', 'flexible']"
      ]
     },
     "execution_count": 27,
     "metadata": {},
     "output_type": "execute_result"
    }
   ],
   "source": [
    "lemma[:7]"
   ]
  },
  {
   "cell_type": "code",
   "execution_count": 28,
   "id": "6263f099-9b38-4ab3-b7a6-face5076e417",
   "metadata": {},
   "outputs": [
    {
     "data": {
      "text/plain": [
       "'start'"
      ]
     },
     "execution_count": 28,
     "metadata": {},
     "output_type": "execute_result"
    }
   ],
   "source": [
    "lem.lemmatize('starting','v')"
   ]
  },
  {
   "cell_type": "code",
   "execution_count": 29,
   "id": "1e0fc728-93ee-4823-9309-41441aeb8180",
   "metadata": {},
   "outputs": [
    {
     "data": {
      "text/plain": [
       "'good'"
      ]
     },
     "execution_count": 29,
     "metadata": {},
     "output_type": "execute_result"
    }
   ],
   "source": [
    "lem.lemmatize('better','a')"
   ]
  },
  {
   "cell_type": "code",
   "execution_count": 30,
   "id": "7cf683d3-619e-42e0-aae3-c4f7b3d70994",
   "metadata": {},
   "outputs": [
    {
     "name": "stderr",
     "output_type": "stream",
     "text": [
      "[nltk_data] Downloading package averaged_perceptron_tagger to\n",
      "[nltk_data]     /home/eshaan/nltk_data...\n",
      "[nltk_data]   Unzipping taggers/averaged_perceptron_tagger.zip.\n"
     ]
    },
    {
     "data": {
      "text/plain": [
       "True"
      ]
     },
     "execution_count": 30,
     "metadata": {},
     "output_type": "execute_result"
    }
   ],
   "source": [
    "nltk.download('averaged_perceptron_tagger')"
   ]
  },
  {
   "cell_type": "code",
   "execution_count": 32,
   "id": "81b17537-3517-4ab6-9384-a71c0f744547",
   "metadata": {},
   "outputs": [
    {
     "data": {
      "text/plain": [
       "[(\"'ve\", 'VBP'),\n",
       " ('reached', 'VBN'),\n",
       " ('website', 'JJ'),\n",
       " ('arch', 'NN'),\n",
       " ('linux', 'NN')]"
      ]
     },
     "execution_count": 32,
     "metadata": {},
     "output_type": "execute_result"
    }
   ],
   "source": [
    "nltk.pos_tag(c_tokens)[:5]"
   ]
  },
  {
   "cell_type": "code",
   "execution_count": 35,
   "id": "c3af6fcd-40aa-4b34-bdd8-0a098ded4678",
   "metadata": {},
   "outputs": [],
   "source": [
    "tagged = nltk.pos_tag(c_tokens)"
   ]
  },
  {
   "cell_type": "code",
   "execution_count": 38,
   "id": "598ef5fe-6da4-4d2d-94e8-5da082cdf461",
   "metadata": {},
   "outputs": [],
   "source": [
    "from nltk.corpus import wordnet"
   ]
  },
  {
   "cell_type": "code",
   "execution_count": 39,
   "id": "4fb2e197-eba4-45f4-ad6e-768348842d44",
   "metadata": {},
   "outputs": [],
   "source": [
    "def pos_tag_simplified(tag):\n",
    "    if tag.startswith('J'):\n",
    "        return wordnet.ADJ\n",
    "    elif tag.startswith('V'):\n",
    "        return wordnet.VERB\n",
    "    elif tag.startswith('N'):\n",
    "        return wordnet.NOUN\n",
    "    elif tag.startswith('R'):\n",
    "        return wordnet.ADV\n",
    "    else:\n",
    "        return None"
   ]
  },
  {
   "cell_type": "code",
   "execution_count": 40,
   "id": "bc0f0df8-ef15-461a-82ec-12db0c57fcb6",
   "metadata": {},
   "outputs": [],
   "source": [
    "simple_tagged = list(map(lambda x:(x[0],pos_tag_simplified(x[1])),tagged))"
   ]
  },
  {
   "cell_type": "code",
   "execution_count": 41,
   "id": "6fdfbfc3-6c19-4bd5-b7e6-29469b59f6dd",
   "metadata": {},
   "outputs": [
    {
     "data": {
      "text/plain": [
       "[(\"'ve\", 'v'),\n",
       " ('reached', 'v'),\n",
       " ('website', 'a'),\n",
       " ('arch', 'n'),\n",
       " ('linux', 'n'),\n",
       " ('lightweight', 'v')]"
      ]
     },
     "execution_count": 41,
     "metadata": {},
     "output_type": "execute_result"
    }
   ],
   "source": [
    "simple_tagged[:6]"
   ]
  },
  {
   "cell_type": "code",
   "execution_count": 54,
   "id": "9eee1684-d3f9-49f1-b5e3-64848e69ac32",
   "metadata": {},
   "outputs": [],
   "source": [
    "lemmatized = []\n",
    "for i in simple_tagged:\n",
    "    if i[1] != None:\n",
    "        lemmatized.append(lem.lemmatize(i[0],i[1]))\n",
    "    else:\n",
    "        lemmatized.append(lem.lemmatize(i[0]))"
   ]
  },
  {
   "cell_type": "code",
   "execution_count": 53,
   "id": "807aa1b7-bc7b-4ba8-92fe-bfc7f617428c",
   "metadata": {},
   "outputs": [],
   "source": [
    "lemmatized_ = [lem.lemmatize(i[0],i[1]) if i[1] != None else lem.lemmatize(i[0]) for i in simple_tagged]"
   ]
  },
  {
   "cell_type": "code",
   "execution_count": 55,
   "id": "84e73f56-af9c-4a37-8132-fdf923e99e58",
   "metadata": {},
   "outputs": [
    {
     "data": {
      "text/plain": [
       "True"
      ]
     },
     "execution_count": 55,
     "metadata": {},
     "output_type": "execute_result"
    }
   ],
   "source": [
    "lemmatized == lemmatized_"
   ]
  },
  {
   "cell_type": "code",
   "execution_count": 56,
   "id": "20a1d2ae-e4df-41de-92c8-7d4d3e5f592b",
   "metadata": {},
   "outputs": [],
   "source": [
    "from textblob import Word, TextBlob"
   ]
  },
  {
   "cell_type": "code",
   "execution_count": 57,
   "id": "dfa6d38e-f9af-4581-a9c1-cd7d44632282",
   "metadata": {},
   "outputs": [],
   "source": [
    "w1 = Word('starting')\n",
    "w2 = Word('better')\n",
    "w3 = Word('stripes')"
   ]
  },
  {
   "cell_type": "code",
   "execution_count": 58,
   "id": "e2e32b74-cb63-4b45-adbe-583945e74e70",
   "metadata": {},
   "outputs": [
    {
     "name": "stdout",
     "output_type": "stream",
     "text": [
      "start\n",
      "good\n",
      "stripe\n"
     ]
    }
   ],
   "source": [
    "print(w1.lemmatize('v'))\n",
    "print(w2.lemmatize('a'))\n",
    "print(w3.lemmatize('n'))"
   ]
  },
  {
   "cell_type": "code",
   "execution_count": 59,
   "id": "8716e1f1-4184-4c87-9b24-d9387afc3f8c",
   "metadata": {},
   "outputs": [],
   "source": [
    "text = 'The striped bats are hanging on their feet for best'"
   ]
  },
  {
   "cell_type": "code",
   "execution_count": 61,
   "id": "2324edaf-6797-4a2d-99cd-8577ab5c2502",
   "metadata": {},
   "outputs": [],
   "source": [
    "sent = TextBlob(text)"
   ]
  },
  {
   "cell_type": "code",
   "execution_count": 67,
   "id": "f62d965c-4866-4867-997f-65332427edfd",
   "metadata": {},
   "outputs": [
    {
     "data": {
      "text/plain": [
       "[('The', 'DT'),\n",
       " ('striped', 'JJ'),\n",
       " ('bats', 'NNS'),\n",
       " ('are', 'VBP'),\n",
       " ('hanging', 'VBG'),\n",
       " ('on', 'IN'),\n",
       " ('their', 'PRP$'),\n",
       " ('feet', 'NNS'),\n",
       " ('for', 'IN'),\n",
       " ('best', 'JJS')]"
      ]
     },
     "execution_count": 67,
     "metadata": {},
     "output_type": "execute_result"
    }
   ],
   "source": [
    "sent.tags"
   ]
  },
  {
   "cell_type": "code",
   "execution_count": 60,
   "id": "8ec2968a-e436-4e23-8677-f914bfa85ee7",
   "metadata": {},
   "outputs": [],
   "source": [
    "tag_dict = {'J':'a','N':'n','V':'v','R':'r'}"
   ]
  },
  {
   "cell_type": "code",
   "execution_count": 63,
   "id": "b5a9aaa2-f828-4dce-abbc-fd0640dc92b5",
   "metadata": {},
   "outputs": [],
   "source": [
    "rds_tags = [(i,tag_dict.get(ii[0],'n')) for i,ii in sent.tags]"
   ]
  },
  {
   "cell_type": "code",
   "execution_count": 64,
   "id": "0823a95a-f9d6-48e7-b2f3-877b13758cd4",
   "metadata": {},
   "outputs": [
    {
     "data": {
      "text/plain": [
       "[('The', 'n'),\n",
       " ('striped', 'a'),\n",
       " ('bats', 'n'),\n",
       " ('are', 'v'),\n",
       " ('hanging', 'v'),\n",
       " ('on', 'n'),\n",
       " ('their', 'n'),\n",
       " ('feet', 'n'),\n",
       " ('for', 'n'),\n",
       " ('best', 'a')]"
      ]
     },
     "execution_count": 64,
     "metadata": {},
     "output_type": "execute_result"
    }
   ],
   "source": [
    "rds_tags"
   ]
  },
  {
   "cell_type": "code",
   "execution_count": 65,
   "id": "76ff8f43-8cd2-4616-b205-338573b1410c",
   "metadata": {},
   "outputs": [],
   "source": [
    "leml = [i.lemmatize(tag) for i,tag in rds_tags]"
   ]
  },
  {
   "cell_type": "code",
   "execution_count": 66,
   "id": "836ecf9b-cc1a-466e-9224-df56e649f273",
   "metadata": {},
   "outputs": [
    {
     "data": {
      "text/plain": [
       "['The', 'striped', 'bat', 'be', 'hang', 'on', 'their', 'foot', 'for', 'best']"
      ]
     },
     "execution_count": 66,
     "metadata": {},
     "output_type": "execute_result"
    }
   ],
   "source": [
    "leml"
   ]
  },
  {
   "cell_type": "code",
   "execution_count": 72,
   "id": "df08439e-e32c-4bbd-80c7-b757e2a9a901",
   "metadata": {},
   "outputs": [],
   "source": [
    "def lemmatize_with_postag(sent):\n",
    "    sent = TextBlob(sent)\n",
    "    tag_dict = {'J':'a','N':'n','V':'v','R':'r'}\n",
    "    rds_tags = [(i,tag_dict.get(ii[0],'n')) for i,ii in sent.tags]\n",
    "    leml = [i.lemmatize(tag) for i,tag in rds_tags]\n",
    "    return ' '.join(leml)"
   ]
  },
  {
   "cell_type": "code",
   "execution_count": 73,
   "id": "773ab52d-11c3-41ef-8e2f-324b4ba4a016",
   "metadata": {},
   "outputs": [
    {
     "data": {
      "text/plain": [
       "'The striped bat be hang on their foot for best'"
      ]
     },
     "execution_count": 73,
     "metadata": {},
     "output_type": "execute_result"
    }
   ],
   "source": [
    "lemmatize_with_postag(text)"
   ]
  }
 ],
 "metadata": {
  "kernelspec": {
   "display_name": "Python 3 (ipykernel)",
   "language": "python",
   "name": "python3"
  },
  "language_info": {
   "codemirror_mode": {
    "name": "ipython",
    "version": 3
   },
   "file_extension": ".py",
   "mimetype": "text/x-python",
   "name": "python",
   "nbconvert_exporter": "python",
   "pygments_lexer": "ipython3",
   "version": "3.10.8"
  }
 },
 "nbformat": 4,
 "nbformat_minor": 5
}
