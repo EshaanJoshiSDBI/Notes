{
 "cells": [
  {
   "cell_type": "code",
   "execution_count": 1,
   "id": "5e23a5bc-da1b-4e34-9685-9460ba90d93e",
   "metadata": {},
   "outputs": [],
   "source": [
    "from nltk.corpus import wordnet"
   ]
  },
  {
   "cell_type": "code",
   "execution_count": 2,
   "id": "8c49c32f-8573-404c-a774-e8bf39afeff8",
   "metadata": {},
   "outputs": [],
   "source": [
    "syn1 = wordnet.synsets('apple')[0]\n",
    "syn2 = wordnet.synsets('banana')[0]"
   ]
  },
  {
   "cell_type": "code",
   "execution_count": 4,
   "id": "ee6091ee-f28d-4023-8f35-f65043e1d219",
   "metadata": {},
   "outputs": [
    {
     "name": "stdout",
     "output_type": "stream",
     "text": [
      "Path similarity is: 0.07142857142857142\n",
      "Wu Palmer similarity is: 0.38095238095238093\n"
     ]
    }
   ],
   "source": [
    "print('Path similarity is: {}'.format(syn1.path_similarity(syn2)))\n",
    "print('Wu Palmer similarity is: {}'.format(syn1.wup_similarity(syn2)))"
   ]
  },
  {
   "cell_type": "markdown",
   "id": "ee369291-0b78-428c-ac2d-7a4398391045",
   "metadata": {},
   "source": [
    "### Synonyms and antonyms"
   ]
  },
  {
   "cell_type": "code",
   "execution_count": 5,
   "id": "22745e5c-de19-4441-b3d0-cb56e9c5b698",
   "metadata": {},
   "outputs": [],
   "source": [
    "word = 'positive'"
   ]
  },
  {
   "cell_type": "code",
   "execution_count": 15,
   "id": "2cc66b42-101e-4fd9-889e-1ce0a8455240",
   "metadata": {},
   "outputs": [],
   "source": [
    "synonyms = list(set([ii.name() for i in wordnet.synsets(word) for ii in i.lemmas()]))\n",
    "antonyms = list(set([ii.antonyms()[0].name() for i in wordnet.synsets(word) for ii in i.lemmas() if ii.antonyms()]))"
   ]
  },
  {
   "cell_type": "code",
   "execution_count": 16,
   "id": "56aee1c0-80b5-444d-94e5-140324d5afeb",
   "metadata": {},
   "outputs": [
    {
     "data": {
      "text/plain": [
       "['confirming',\n",
       " 'irrefutable',\n",
       " 'positive',\n",
       " 'positively_charged',\n",
       " 'positive_degree',\n",
       " 'plus',\n",
       " 'incontrovertible',\n",
       " 'overconfident',\n",
       " 'positivistic',\n",
       " 'positivist',\n",
       " 'convinced',\n",
       " 'confident',\n",
       " 'cocksure',\n",
       " 'electropositive',\n",
       " 'prescribed']"
      ]
     },
     "execution_count": 16,
     "metadata": {},
     "output_type": "execute_result"
    }
   ],
   "source": [
    "synonyms"
   ]
  },
  {
   "cell_type": "code",
   "execution_count": 17,
   "id": "c126a52d-8183-4de7-b92a-781b32a6494f",
   "metadata": {},
   "outputs": [
    {
     "data": {
      "text/plain": [
       "['negative']"
      ]
     },
     "execution_count": 17,
     "metadata": {},
     "output_type": "execute_result"
    }
   ],
   "source": [
    "antonyms"
   ]
  },
  {
   "cell_type": "code",
   "execution_count": 27,
   "id": "3bf9206f-0975-4ebd-8796-ff680349185b",
   "metadata": {},
   "outputs": [],
   "source": [
    "tree = wordnet.synsets('water')[0]"
   ]
  },
  {
   "cell_type": "code",
   "execution_count": 28,
   "id": "091ba509-581b-4377-8dfe-902d6e615aa5",
   "metadata": {},
   "outputs": [
    {
     "data": {
      "text/plain": [
       "[]"
      ]
     },
     "execution_count": 28,
     "metadata": {},
     "output_type": "execute_result"
    }
   ],
   "source": [
    "tree.part_holonyms()"
   ]
  },
  {
   "cell_type": "code",
   "execution_count": 29,
   "id": "b6cc8ccb-4ed9-4e7e-ab87-9cb21d989c1b",
   "metadata": {},
   "outputs": [
    {
     "data": {
      "text/plain": [
       "[Synset('body_of_water.n.01'),\n",
       " Synset('ice.n.01'),\n",
       " Synset('ice_crystal.n.01'),\n",
       " Synset('perspiration.n.01'),\n",
       " Synset('snowflake.n.01'),\n",
       " Synset('tear.n.01')]"
      ]
     },
     "execution_count": 29,
     "metadata": {},
     "output_type": "execute_result"
    }
   ],
   "source": [
    "tree.substance_holonyms()"
   ]
  },
  {
   "cell_type": "code",
   "execution_count": 30,
   "id": "c802de4d-c32c-4241-b5af-83838e981e96",
   "metadata": {},
   "outputs": [
    {
     "data": {
      "text/plain": [
       "[Synset('hydrogen.n.01'), Synset('oxygen.n.01')]"
      ]
     },
     "execution_count": 30,
     "metadata": {},
     "output_type": "execute_result"
    }
   ],
   "source": [
    "tree.substance_meronyms()"
   ]
  },
  {
   "cell_type": "code",
   "execution_count": 31,
   "id": "042bd46c-f0e0-4301-ac94-da0351dd0c62",
   "metadata": {},
   "outputs": [
    {
     "data": {
      "text/plain": [
       "[]"
      ]
     },
     "execution_count": 31,
     "metadata": {},
     "output_type": "execute_result"
    }
   ],
   "source": [
    "tree.part_meronyms()"
   ]
  }
 ],
 "metadata": {
  "kernelspec": {
   "display_name": "Python 3 (ipykernel)",
   "language": "python",
   "name": "python3"
  },
  "language_info": {
   "codemirror_mode": {
    "name": "ipython",
    "version": 3
   },
   "file_extension": ".py",
   "mimetype": "text/x-python",
   "name": "python",
   "nbconvert_exporter": "python",
   "pygments_lexer": "ipython3",
   "version": "3.10.8"
  }
 },
 "nbformat": 4,
 "nbformat_minor": 5
}
