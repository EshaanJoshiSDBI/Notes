{
 "cells": [
  {
   "cell_type": "code",
   "execution_count": 13,
   "id": "4788d241-64a0-4921-8a29-4b442d08401e",
   "metadata": {},
   "outputs": [],
   "source": [
    "from collections import Counter\n",
    "from sklearn.feature_extraction.text import CountVectorizer\n",
    "from sklearn.metrics.pairwise import cosine_similarity"
   ]
  },
  {
   "cell_type": "markdown",
   "id": "4a7c10e6-704d-4758-a81c-baa00b81f4ac",
   "metadata": {},
   "source": [
    "# Jaccard Similarity"
   ]
  },
  {
   "cell_type": "code",
   "execution_count": 25,
   "id": "4581a12f-2109-44e2-bb0c-49196524d335",
   "metadata": {},
   "outputs": [],
   "source": [
    "sent1 = 'The bottle is empty'\n",
    "sent2 = 'There is nothing in the bottle'\n",
    "sent3 = 'deeznuts'"
   ]
  },
  {
   "cell_type": "code",
   "execution_count": 11,
   "id": "d886d42d-f54d-4f7a-8fab-6a1489afc4e9",
   "metadata": {},
   "outputs": [],
   "source": [
    "def get_jaccard_sim(str1,str2):\n",
    "    a,b = set(str1.split()),set(str2.split())\n",
    "    c = a.intersection(b)\n",
    "    return float(len(c)) / (len(a)+len(b)-len(c))"
   ]
  },
  {
   "cell_type": "code",
   "execution_count": 12,
   "id": "966509fd-061a-4622-98ec-f9dc0f3230b9",
   "metadata": {},
   "outputs": [
    {
     "data": {
      "text/plain": [
       "0.25"
      ]
     },
     "execution_count": 12,
     "metadata": {},
     "output_type": "execute_result"
    }
   ],
   "source": [
    "get_jaccard_sim(sent1,sent2)"
   ]
  },
  {
   "cell_type": "markdown",
   "id": "c3e2cbb2-060f-4cbc-8a68-f49e86f34edc",
   "metadata": {},
   "source": [
    "---"
   ]
  },
  {
   "cell_type": "markdown",
   "id": "986b2c1e-dca0-4011-9c9b-5c949bca5769",
   "metadata": {},
   "source": [
    "# Cosine similarity"
   ]
  },
  {
   "cell_type": "code",
   "execution_count": 22,
   "id": "0db46ffe-2470-44fa-bb16-d069dc8573fb",
   "metadata": {},
   "outputs": [],
   "source": [
    "def get_cosine_sim(*strs):\n",
    "    vectors = [i for i in get_vectors(*strs)]\n",
    "    return cosine_similarity(vectors)\n",
    "def get_vectors(*strs):\n",
    "    txt = [i for i in strs]\n",
    "    vectorizer = CountVectorizer(input=txt)\n",
    "    vectorizer.fit(txt)\n",
    "    return vectorizer.transform(txt).toarray()"
   ]
  },
  {
   "cell_type": "code",
   "execution_count": 26,
   "id": "4ab0d773-12f6-44d8-8eb4-067a58d01257",
   "metadata": {},
   "outputs": [
    {
     "data": {
      "text/plain": [
       "array([[1.        , 0.61237244, 0.        ],\n",
       "       [0.61237244, 1.        , 0.        ],\n",
       "       [0.        , 0.        , 1.        ]])"
      ]
     },
     "execution_count": 26,
     "metadata": {},
     "output_type": "execute_result"
    }
   ],
   "source": [
    "get_cosine_sim(sent1,sent2,sent3)"
   ]
  },
  {
   "cell_type": "code",
   "execution_count": 31,
   "id": "85ec16f1-eaa9-44ed-88b0-02b174cb3706",
   "metadata": {},
   "outputs": [],
   "source": [
    "from nltk.corpus import wordnet"
   ]
  },
  {
   "cell_type": "code",
   "execution_count": 34,
   "id": "68218d96-8e91-4459-8322-e9ea50f8666f",
   "metadata": {},
   "outputs": [
    {
     "data": {
      "text/plain": [
       "[Synset('book.n.01'),\n",
       " Synset('book.n.02'),\n",
       " Synset('record.n.05'),\n",
       " Synset('script.n.01'),\n",
       " Synset('ledger.n.01'),\n",
       " Synset('book.n.06'),\n",
       " Synset('book.n.07'),\n",
       " Synset('koran.n.01'),\n",
       " Synset('bible.n.01'),\n",
       " Synset('book.n.10'),\n",
       " Synset('book.n.11'),\n",
       " Synset('book.v.01'),\n",
       " Synset('reserve.v.04'),\n",
       " Synset('book.v.03'),\n",
       " Synset('book.v.04')]"
      ]
     },
     "execution_count": 34,
     "metadata": {},
     "output_type": "execute_result"
    }
   ],
   "source": [
    "wordnet.synsets('Book')"
   ]
  },
  {
   "cell_type": "code",
   "execution_count": 35,
   "id": "84b43ee9-9cda-40b6-8eff-b09d9787a2f1",
   "metadata": {},
   "outputs": [
    {
     "data": {
      "text/plain": [
       "'a written work or composition that has been published (printed on pages bound together)'"
      ]
     },
     "execution_count": 35,
     "metadata": {},
     "output_type": "execute_result"
    }
   ],
   "source": [
    "wordnet.synsets('Book')[0].definition()"
   ]
  },
  {
   "cell_type": "code",
   "execution_count": 36,
   "id": "2950f885-c599-4f6e-860a-9c00cf962c22",
   "metadata": {},
   "outputs": [
    {
     "data": {
      "text/plain": [
       "'physical objects consisting of a number of pages bound together'"
      ]
     },
     "execution_count": 36,
     "metadata": {},
     "output_type": "execute_result"
    }
   ],
   "source": [
    "wordnet.synsets('Book')[1].definition()"
   ]
  },
  {
   "cell_type": "code",
   "execution_count": 37,
   "id": "511c97ea-6894-47f1-bbd2-a9bca62e0d26",
   "metadata": {},
   "outputs": [
    {
     "data": {
      "text/plain": [
       "'record a charge in a police register'"
      ]
     },
     "execution_count": 37,
     "metadata": {},
     "output_type": "execute_result"
    }
   ],
   "source": [
    "wordnet.synsets('Book')[13].definition()"
   ]
  }
 ],
 "metadata": {
  "kernelspec": {
   "display_name": "Python 3 (ipykernel)",
   "language": "python",
   "name": "python3"
  },
  "language_info": {
   "codemirror_mode": {
    "name": "ipython",
    "version": 3
   },
   "file_extension": ".py",
   "mimetype": "text/x-python",
   "name": "python",
   "nbconvert_exporter": "python",
   "pygments_lexer": "ipython3",
   "version": "3.10.8"
  }
 },
 "nbformat": 4,
 "nbformat_minor": 5
}
