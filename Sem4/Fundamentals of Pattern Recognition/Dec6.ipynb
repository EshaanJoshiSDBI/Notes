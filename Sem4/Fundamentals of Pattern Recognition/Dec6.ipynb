{
 "cells": [
  {
   "cell_type": "code",
   "execution_count": 98,
   "id": "9b1ffd84-259b-4b30-92b4-95b9930a02ce",
   "metadata": {},
   "outputs": [],
   "source": [
    "import numpy as np\n",
    "import pandas as pd\n",
    "import seaborn as sns\n",
    "import scipy.stats as stats\n",
    "from sklearn.model_selection import train_test_split\n",
    "from sklearn.linear_model import LinearRegression\n",
    "from sklearn.metrics import r2_score\n",
    "from statsmodels.stats.stattools import durbin_watson\n",
    "from statsmodels.stats.diagnostic import het_breuschpagan\n",
    "from scipy.special import boxcox,boxcox1p, inv_boxcox"
   ]
  },
  {
   "cell_type": "markdown",
   "id": "cb36ec96-867b-46f9-8e9c-b163e946d721",
   "metadata": {},
   "source": [
    "for durbin-watson 1.5-2.5 is normal"
   ]
  },
  {
   "cell_type": "code",
   "execution_count": 54,
   "id": "b6b9b71b-b5f8-486b-8ea8-df6b440f934a",
   "metadata": {},
   "outputs": [],
   "source": [
    "df = pd.read_csv('Boston.csv',index_col=0)"
   ]
  },
  {
   "cell_type": "code",
   "execution_count": 55,
   "id": "61e6c526-386c-4121-aa00-a7aef4e8a06f",
   "metadata": {},
   "outputs": [
    {
     "data": {
      "text/html": [
       "<div>\n",
       "<style scoped>\n",
       "    .dataframe tbody tr th:only-of-type {\n",
       "        vertical-align: middle;\n",
       "    }\n",
       "\n",
       "    .dataframe tbody tr th {\n",
       "        vertical-align: top;\n",
       "    }\n",
       "\n",
       "    .dataframe thead th {\n",
       "        text-align: right;\n",
       "    }\n",
       "</style>\n",
       "<table border=\"1\" class=\"dataframe\">\n",
       "  <thead>\n",
       "    <tr style=\"text-align: right;\">\n",
       "      <th></th>\n",
       "      <th>crim</th>\n",
       "      <th>zn</th>\n",
       "      <th>indus</th>\n",
       "      <th>chas</th>\n",
       "      <th>nox</th>\n",
       "      <th>rm</th>\n",
       "      <th>age</th>\n",
       "      <th>dis</th>\n",
       "      <th>rad</th>\n",
       "      <th>tax</th>\n",
       "      <th>ptratio</th>\n",
       "      <th>black</th>\n",
       "      <th>lstat</th>\n",
       "      <th>medv</th>\n",
       "    </tr>\n",
       "  </thead>\n",
       "  <tbody>\n",
       "    <tr>\n",
       "      <th>1</th>\n",
       "      <td>0.00632</td>\n",
       "      <td>18.0</td>\n",
       "      <td>2.31</td>\n",
       "      <td>0</td>\n",
       "      <td>0.538</td>\n",
       "      <td>6.575</td>\n",
       "      <td>65.2</td>\n",
       "      <td>4.0900</td>\n",
       "      <td>1</td>\n",
       "      <td>296</td>\n",
       "      <td>15.3</td>\n",
       "      <td>396.90</td>\n",
       "      <td>4.98</td>\n",
       "      <td>24.0</td>\n",
       "    </tr>\n",
       "    <tr>\n",
       "      <th>2</th>\n",
       "      <td>0.02731</td>\n",
       "      <td>0.0</td>\n",
       "      <td>7.07</td>\n",
       "      <td>0</td>\n",
       "      <td>0.469</td>\n",
       "      <td>6.421</td>\n",
       "      <td>78.9</td>\n",
       "      <td>4.9671</td>\n",
       "      <td>2</td>\n",
       "      <td>242</td>\n",
       "      <td>17.8</td>\n",
       "      <td>396.90</td>\n",
       "      <td>9.14</td>\n",
       "      <td>21.6</td>\n",
       "    </tr>\n",
       "    <tr>\n",
       "      <th>3</th>\n",
       "      <td>0.02729</td>\n",
       "      <td>0.0</td>\n",
       "      <td>7.07</td>\n",
       "      <td>0</td>\n",
       "      <td>0.469</td>\n",
       "      <td>7.185</td>\n",
       "      <td>61.1</td>\n",
       "      <td>4.9671</td>\n",
       "      <td>2</td>\n",
       "      <td>242</td>\n",
       "      <td>17.8</td>\n",
       "      <td>392.83</td>\n",
       "      <td>4.03</td>\n",
       "      <td>34.7</td>\n",
       "    </tr>\n",
       "    <tr>\n",
       "      <th>4</th>\n",
       "      <td>0.03237</td>\n",
       "      <td>0.0</td>\n",
       "      <td>2.18</td>\n",
       "      <td>0</td>\n",
       "      <td>0.458</td>\n",
       "      <td>6.998</td>\n",
       "      <td>45.8</td>\n",
       "      <td>6.0622</td>\n",
       "      <td>3</td>\n",
       "      <td>222</td>\n",
       "      <td>18.7</td>\n",
       "      <td>394.63</td>\n",
       "      <td>2.94</td>\n",
       "      <td>33.4</td>\n",
       "    </tr>\n",
       "    <tr>\n",
       "      <th>5</th>\n",
       "      <td>0.06905</td>\n",
       "      <td>0.0</td>\n",
       "      <td>2.18</td>\n",
       "      <td>0</td>\n",
       "      <td>0.458</td>\n",
       "      <td>7.147</td>\n",
       "      <td>54.2</td>\n",
       "      <td>6.0622</td>\n",
       "      <td>3</td>\n",
       "      <td>222</td>\n",
       "      <td>18.7</td>\n",
       "      <td>396.90</td>\n",
       "      <td>5.33</td>\n",
       "      <td>36.2</td>\n",
       "    </tr>\n",
       "  </tbody>\n",
       "</table>\n",
       "</div>"
      ],
      "text/plain": [
       "      crim    zn  indus  chas    nox     rm   age     dis  rad  tax  ptratio  \\\n",
       "1  0.00632  18.0   2.31     0  0.538  6.575  65.2  4.0900    1  296     15.3   \n",
       "2  0.02731   0.0   7.07     0  0.469  6.421  78.9  4.9671    2  242     17.8   \n",
       "3  0.02729   0.0   7.07     0  0.469  7.185  61.1  4.9671    2  242     17.8   \n",
       "4  0.03237   0.0   2.18     0  0.458  6.998  45.8  6.0622    3  222     18.7   \n",
       "5  0.06905   0.0   2.18     0  0.458  7.147  54.2  6.0622    3  222     18.7   \n",
       "\n",
       "    black  lstat  medv  \n",
       "1  396.90   4.98  24.0  \n",
       "2  396.90   9.14  21.6  \n",
       "3  392.83   4.03  34.7  \n",
       "4  394.63   2.94  33.4  \n",
       "5  396.90   5.33  36.2  "
      ]
     },
     "execution_count": 55,
     "metadata": {},
     "output_type": "execute_result"
    }
   ],
   "source": [
    "df.head()"
   ]
  },
  {
   "cell_type": "markdown",
   "id": "341cbbc9-3836-48d9-8567-e4b3467d37b8",
   "metadata": {
    "tags": []
   },
   "source": [
    "# Full Model"
   ]
  },
  {
   "cell_type": "code",
   "execution_count": 56,
   "id": "bd1ad915-a60b-400b-bfb0-ce3d90433df6",
   "metadata": {},
   "outputs": [],
   "source": [
    "x = df.iloc[:,0:13]\n",
    "y = df.iloc[:,[13]]"
   ]
  },
  {
   "cell_type": "code",
   "execution_count": 57,
   "id": "a1c8aaa0-839a-4aec-b4cd-259ff31dfd49",
   "metadata": {},
   "outputs": [],
   "source": [
    "x_train,x_test,y_train,y_test = train_test_split(x,y,train_size = 0.8,random_state=100)"
   ]
  },
  {
   "cell_type": "code",
   "execution_count": 71,
   "id": "43cdea53-0ec0-4491-9f88-e38c6f15b032",
   "metadata": {},
   "outputs": [
    {
     "data": {
      "text/html": [
       "<div>\n",
       "<style scoped>\n",
       "    .dataframe tbody tr th:only-of-type {\n",
       "        vertical-align: middle;\n",
       "    }\n",
       "\n",
       "    .dataframe tbody tr th {\n",
       "        vertical-align: top;\n",
       "    }\n",
       "\n",
       "    .dataframe thead th {\n",
       "        text-align: right;\n",
       "    }\n",
       "</style>\n",
       "<table border=\"1\" class=\"dataframe\">\n",
       "  <thead>\n",
       "    <tr style=\"text-align: right;\">\n",
       "      <th></th>\n",
       "      <th>crim</th>\n",
       "      <th>zn</th>\n",
       "      <th>indus</th>\n",
       "      <th>chas</th>\n",
       "      <th>nox</th>\n",
       "      <th>rm</th>\n",
       "      <th>age</th>\n",
       "      <th>dis</th>\n",
       "      <th>rad</th>\n",
       "      <th>tax</th>\n",
       "      <th>ptratio</th>\n",
       "      <th>black</th>\n",
       "      <th>lstat</th>\n",
       "    </tr>\n",
       "  </thead>\n",
       "  <tbody>\n",
       "    <tr>\n",
       "      <th>380</th>\n",
       "      <td>17.86670</td>\n",
       "      <td>0.0</td>\n",
       "      <td>18.10</td>\n",
       "      <td>0</td>\n",
       "      <td>0.671</td>\n",
       "      <td>6.223</td>\n",
       "      <td>100.0</td>\n",
       "      <td>1.3861</td>\n",
       "      <td>24</td>\n",
       "      <td>666</td>\n",
       "      <td>20.2</td>\n",
       "      <td>393.74</td>\n",
       "      <td>21.78</td>\n",
       "    </tr>\n",
       "    <tr>\n",
       "      <th>312</th>\n",
       "      <td>0.79041</td>\n",
       "      <td>0.0</td>\n",
       "      <td>9.90</td>\n",
       "      <td>0</td>\n",
       "      <td>0.544</td>\n",
       "      <td>6.122</td>\n",
       "      <td>52.8</td>\n",
       "      <td>2.6403</td>\n",
       "      <td>4</td>\n",
       "      <td>304</td>\n",
       "      <td>18.4</td>\n",
       "      <td>396.90</td>\n",
       "      <td>5.98</td>\n",
       "    </tr>\n",
       "    <tr>\n",
       "      <th>158</th>\n",
       "      <td>1.22358</td>\n",
       "      <td>0.0</td>\n",
       "      <td>19.58</td>\n",
       "      <td>0</td>\n",
       "      <td>0.605</td>\n",
       "      <td>6.943</td>\n",
       "      <td>97.4</td>\n",
       "      <td>1.8773</td>\n",
       "      <td>5</td>\n",
       "      <td>403</td>\n",
       "      <td>14.7</td>\n",
       "      <td>363.43</td>\n",
       "      <td>4.59</td>\n",
       "    </tr>\n",
       "    <tr>\n",
       "      <th>245</th>\n",
       "      <td>0.20608</td>\n",
       "      <td>22.0</td>\n",
       "      <td>5.86</td>\n",
       "      <td>0</td>\n",
       "      <td>0.431</td>\n",
       "      <td>5.593</td>\n",
       "      <td>76.5</td>\n",
       "      <td>7.9549</td>\n",
       "      <td>7</td>\n",
       "      <td>330</td>\n",
       "      <td>19.1</td>\n",
       "      <td>372.49</td>\n",
       "      <td>12.50</td>\n",
       "    </tr>\n",
       "    <tr>\n",
       "      <th>57</th>\n",
       "      <td>0.02055</td>\n",
       "      <td>85.0</td>\n",
       "      <td>0.74</td>\n",
       "      <td>0</td>\n",
       "      <td>0.410</td>\n",
       "      <td>6.383</td>\n",
       "      <td>35.7</td>\n",
       "      <td>9.1876</td>\n",
       "      <td>2</td>\n",
       "      <td>313</td>\n",
       "      <td>17.3</td>\n",
       "      <td>396.90</td>\n",
       "      <td>5.77</td>\n",
       "    </tr>\n",
       "  </tbody>\n",
       "</table>\n",
       "</div>"
      ],
      "text/plain": [
       "         crim    zn  indus  chas    nox     rm    age     dis  rad  tax  \\\n",
       "380  17.86670   0.0  18.10     0  0.671  6.223  100.0  1.3861   24  666   \n",
       "312   0.79041   0.0   9.90     0  0.544  6.122   52.8  2.6403    4  304   \n",
       "158   1.22358   0.0  19.58     0  0.605  6.943   97.4  1.8773    5  403   \n",
       "245   0.20608  22.0   5.86     0  0.431  5.593   76.5  7.9549    7  330   \n",
       "57    0.02055  85.0   0.74     0  0.410  6.383   35.7  9.1876    2  313   \n",
       "\n",
       "     ptratio   black  lstat  \n",
       "380     20.2  393.74  21.78  \n",
       "312     18.4  396.90   5.98  \n",
       "158     14.7  363.43   4.59  \n",
       "245     19.1  372.49  12.50  \n",
       "57      17.3  396.90   5.77  "
      ]
     },
     "execution_count": 71,
     "metadata": {},
     "output_type": "execute_result"
    }
   ],
   "source": [
    "x_train.head()"
   ]
  },
  {
   "cell_type": "code",
   "execution_count": 58,
   "id": "c4b6223b-2b6d-4193-a462-36393d41f17b",
   "metadata": {},
   "outputs": [],
   "source": [
    "model_full_lm = LinearRegression().fit(x_train,y_train)"
   ]
  },
  {
   "cell_type": "code",
   "execution_count": 59,
   "id": "af34e6cc-a4ae-44c5-9a91-506d204ab824",
   "metadata": {},
   "outputs": [
    {
     "data": {
      "text/plain": [
       "array([[-8.14896492e-02,  4.80407782e-02, -5.47150249e-03,\n",
       "         3.06260576e+00, -1.61368815e+01,  3.67245067e+00,\n",
       "        -8.51525259e-03, -1.51740854e+00,  2.87271007e-01,\n",
       "        -1.21207598e-02, -9.24160757e-01,  9.53460812e-03,\n",
       "        -4.85895548e-01]])"
      ]
     },
     "execution_count": 59,
     "metadata": {},
     "output_type": "execute_result"
    }
   ],
   "source": [
    "model_full_lm.coef_"
   ]
  },
  {
   "cell_type": "code",
   "execution_count": 60,
   "id": "13dad605-8fcb-4f1c-a4f2-85e6b9f79a29",
   "metadata": {},
   "outputs": [
    {
     "data": {
      "text/plain": [
       "13"
      ]
     },
     "execution_count": 60,
     "metadata": {},
     "output_type": "execute_result"
    }
   ],
   "source": [
    "model_full_lm.rank_"
   ]
  },
  {
   "cell_type": "code",
   "execution_count": 61,
   "id": "4508b1fc-6835-42fb-97bc-4d3aeda0091a",
   "metadata": {},
   "outputs": [],
   "source": [
    "fitted = model_full_lm.predict(x_train)"
   ]
  },
  {
   "cell_type": "code",
   "execution_count": 62,
   "id": "6258a86a-4f53-4235-8b99-806bd70a1c7d",
   "metadata": {},
   "outputs": [],
   "source": [
    "residual = np.array(fitted) - np.array(y_train)"
   ]
  },
  {
   "cell_type": "code",
   "execution_count": 63,
   "id": "6df394b4-6c28-4d06-ac49-7b0d0a900493",
   "metadata": {},
   "outputs": [
    {
     "data": {
      "text/plain": [
       "array([[ 4.70189827],\n",
       "       [-8.914648  ],\n",
       "       [-1.55799061],\n",
       "       [ 0.06473869]])"
      ]
     },
     "execution_count": 63,
     "metadata": {},
     "output_type": "execute_result"
    }
   ],
   "source": [
    "residual[1:5]"
   ]
  },
  {
   "cell_type": "code",
   "execution_count": 64,
   "id": "7fdb0925-4aa9-4bc8-bb1b-5e659b721e5b",
   "metadata": {},
   "outputs": [],
   "source": [
    "pred = model_full_lm.predict(x_test)"
   ]
  },
  {
   "cell_type": "code",
   "execution_count": 65,
   "id": "dc217da1-63fb-472d-ba3a-5a3d56eda995",
   "metadata": {},
   "outputs": [],
   "source": [
    "residual_test = np.array(pred) - np.array(y_test)"
   ]
  },
  {
   "cell_type": "code",
   "execution_count": 66,
   "id": "c10571f7-2b14-4e72-8fe3-6f1247a3fe68",
   "metadata": {},
   "outputs": [
    {
     "data": {
      "text/plain": [
       "array([[-0.31475374],\n",
       "       [ 1.71286141],\n",
       "       [ 3.38613877],\n",
       "       [ 4.23572131]])"
      ]
     },
     "execution_count": 66,
     "metadata": {},
     "output_type": "execute_result"
    }
   ],
   "source": [
    "residual_test[1:5]"
   ]
  },
  {
   "cell_type": "code",
   "execution_count": 67,
   "id": "bb98cb49-6c10-433c-bc25-be5e24db8398",
   "metadata": {},
   "outputs": [
    {
     "data": {
      "text/plain": [
       "0.7337332767917557"
      ]
     },
     "execution_count": 67,
     "metadata": {},
     "output_type": "execute_result"
    }
   ],
   "source": [
    "r2_score(y_train,fitted)"
   ]
  },
  {
   "cell_type": "code",
   "execution_count": 68,
   "id": "27b9f4cf-293c-4e11-a939-939f557f52a6",
   "metadata": {},
   "outputs": [
    {
     "data": {
      "text/plain": [
       "0.7555033086871299"
      ]
     },
     "execution_count": 68,
     "metadata": {},
     "output_type": "execute_result"
    }
   ],
   "source": [
    "r2_score(y_test,pred)"
   ]
  },
  {
   "cell_type": "markdown",
   "id": "c81b3540-30b6-4172-84e2-ed958f02fc10",
   "metadata": {
    "tags": []
   },
   "source": [
    "## Tests for linear regression"
   ]
  },
  {
   "cell_type": "markdown",
   "id": "209bdca8-42ca-49f1-a9c0-c5770744fa52",
   "metadata": {},
   "source": [
    "#### Residual plot"
   ]
  },
  {
   "cell_type": "code",
   "execution_count": 69,
   "id": "e38abb41-c6fa-4abb-ab44-eae6861c02f0",
   "metadata": {},
   "outputs": [
    {
     "data": {
      "text/plain": [
       "<AxesSubplot:>"
      ]
     },
     "execution_count": 69,
     "metadata": {},
     "output_type": "execute_result"
    },
    {
     "data": {
      "image/png": "[encoded data removed]",
      "text/plain": [
       "<Figure size 432x288 with 1 Axes>"
      ]
     },
     "metadata": {
      "needs_background": "light"
     },
     "output_type": "display_data"
    }
   ],
   "source": [
    "sns.regplot(x = fitted,y = residual,order=2)"
   ]
  },
  {
   "cell_type": "markdown",
   "id": "f34781a3-e812-4fa3-af16-8540d99f09ea",
   "metadata": {},
   "source": [
    "The curve shows that the data is not linear"
   ]
  },
  {
   "cell_type": "code",
   "execution_count": 70,
   "id": "f2242a06-b94f-40ea-9d43-a0989ce3c49f",
   "metadata": {},
   "outputs": [
    {
     "data": {
      "text/plain": [
       "ShapiroResult(statistic=0.9052581191062927, pvalue=3.4911509006775848e-15)"
      ]
     },
     "execution_count": 70,
     "metadata": {},
     "output_type": "execute_result"
    }
   ],
   "source": [
    "stats.shapiro(residual)"
   ]
  },
  {
   "cell_type": "markdown",
   "id": "51f2601d-ed4f-49b1-b4e1-cb720c0f0941",
   "metadata": {},
   "source": [
    "p-value of shapiro test less than 0.05, meaning the residuals do not follow normal distribution"
   ]
  },
  {
   "cell_type": "markdown",
   "id": "7406ed44-3c9f-403d-a5f7-5235eb349b2e",
   "metadata": {},
   "source": [
    "#### QQ plot"
   ]
  },
  {
   "cell_type": "code",
   "execution_count": null,
   "id": "16300c6c-e4cb-4b30-ba15-29c4ebc38301",
   "metadata": {},
   "outputs": [],
   "source": [
    "import pylab\n",
    "stats.probplot(residual,dist = 'norm',plot = pylab)\n",
    "pylab.show()"
   ]
  },
  {
   "cell_type": "code",
   "execution_count": 81,
   "id": "3bc4ae57-0da9-40a6-a379-7e6d1920d28a",
   "metadata": {},
   "outputs": [
    {
     "name": "stderr",
     "output_type": "stream",
     "text": [
      "/home/eshaan/.local/lib/python3.9/site-packages/seaborn/distributions.py:2619: FutureWarning: `distplot` is a deprecated function and will be removed in a future version. Please adapt your code to use either `displot` (a figure-level function with similar flexibility) or `histplot` (an axes-level function for histograms).\n",
      "  warnings.warn(msg, FutureWarning)\n"
     ]
    },
    {
     "data": {
      "text/plain": [
       "<AxesSubplot:ylabel='Density'>"
      ]
     },
     "execution_count": 81,
     "metadata": {},
     "output_type": "execute_result"
    },
    {
     "data": {
      "image/png": "[encoded data removed]",
      "text/plain": [
       "<Figure size 432x288 with 1 Axes>"
      ]
     },
     "metadata": {
      "needs_background": "light"
     },
     "output_type": "display_data"
    }
   ],
   "source": [
    "sns.distplot(residual)"
   ]
  },
  {
   "cell_type": "code",
   "execution_count": 82,
   "id": "de22c754-02b9-45f3-abdd-b187be1457ec",
   "metadata": {},
   "outputs": [
    {
     "data": {
      "text/plain": [
       "array([-1.45158328])"
      ]
     },
     "execution_count": 82,
     "metadata": {},
     "output_type": "execute_result"
    }
   ],
   "source": [
    "stats.skew(residual)"
   ]
  },
  {
   "cell_type": "code",
   "execution_count": 83,
   "id": "36f89461-5a5b-47d9-8e11-3779fd955221",
   "metadata": {},
   "outputs": [
    {
     "data": {
      "text/plain": [
       "array([4.72169203])"
      ]
     },
     "execution_count": 83,
     "metadata": {},
     "output_type": "execute_result"
    }
   ],
   "source": [
    "stats.kurtosis(residual)"
   ]
  },
  {
   "cell_type": "code",
   "execution_count": 84,
   "id": "78e8b0fa-01ef-4d01-8808-101479e67436",
   "metadata": {},
   "outputs": [
    {
     "name": "stderr",
     "output_type": "stream",
     "text": [
      "/home/eshaan/.local/lib/python3.9/site-packages/seaborn/_decorators.py:36: FutureWarning: Pass the following variable as a keyword arg: x. From version 0.12, the only valid positional argument will be `data`, and passing other arguments without an explicit keyword will result in an error or misinterpretation.\n",
      "  warnings.warn(\n"
     ]
    },
    {
     "data": {
      "text/plain": [
       "<AxesSubplot:>"
      ]
     },
     "execution_count": 84,
     "metadata": {},
     "output_type": "execute_result"
    },
    {
     "data": {
      "image/png": "[encoded data removed]",
      "text/plain": [
       "<Figure size 432x288 with 1 Axes>"
      ]
     },
     "metadata": {
      "needs_background": "light"
     },
     "output_type": "display_data"
    }
   ],
   "source": [
    "sns.boxplot(residual)"
   ]
  },
  {
   "cell_type": "markdown",
   "id": "584e19aa-5567-4c5a-8c24-49c779c61b8e",
   "metadata": {
    "tags": []
   },
   "source": [
    "#### Testing for autocorrelation"
   ]
  },
  {
   "cell_type": "code",
   "execution_count": 91,
   "id": "d86f0e56-dab3-49b6-a0fd-5fd9d3336b44",
   "metadata": {},
   "outputs": [
    {
     "data": {
      "text/plain": [
       "array([2.02902141])"
      ]
     },
     "execution_count": 91,
     "metadata": {},
     "output_type": "execute_result"
    }
   ],
   "source": [
    "durbin_watson(residual)"
   ]
  },
  {
   "cell_type": "markdown",
   "id": "19b9d0b3-9de0-4076-b2a0-d1d77d4cef7b",
   "metadata": {},
   "source": [
    "The results for Durbin-Watson test is between 1.5 to 2.5 which means no autocorrelation"
   ]
  },
  {
   "cell_type": "markdown",
   "id": "ed420870-ae72-4317-b68e-a9ec7741e4c8",
   "metadata": {},
   "source": [
    "#### Heteroskedascity"
   ]
  },
  {
   "cell_type": "code",
   "execution_count": 93,
   "id": "5d4e39b1-964d-4bf5-96fb-88d94c88248a",
   "metadata": {},
   "outputs": [
    {
     "data": {
      "text/plain": [
       "(94.52162545397992,\n",
       " 6.540681130805439e-15,\n",
       " 9.186165792861688,\n",
       " 1.3284427708710318e-16)"
      ]
     },
     "execution_count": 93,
     "metadata": {},
     "output_type": "execute_result"
    }
   ],
   "source": [
    "het_breuschpagan(residual,x_train)"
   ]
  },
  {
   "cell_type": "markdown",
   "id": "53691010-58b1-4492-97d4-1a4967f6d7ac",
   "metadata": {},
   "source": [
    "The p-value of bptest is less than 0.05 which infers that the model has heteroskedascity"
   ]
  },
  {
   "cell_type": "markdown",
   "id": "05f78883-65be-42e5-b4c4-664386f3d351",
   "metadata": {},
   "source": [
    "1. stat\n",
    "2. P-value\n",
    "3. Fcalc\n",
    "4. Ftab"
   ]
  },
  {
   "cell_type": "code",
   "execution_count": 97,
   "id": "3da74e43-41f3-48b4-b471-17d6356977c6",
   "metadata": {},
   "outputs": [],
   "source": [
    "df_log = df.apply(lambda x: boxcox1p(x,0.0))"
   ]
  },
  {
   "cell_type": "code",
   "execution_count": 99,
   "id": "7f0e2276-3ccd-4bfc-8a70-55f9f57244e3",
   "metadata": {},
   "outputs": [],
   "source": [
    "x,y=df_log.iloc[:,0:13],df_log.iloc[:,[13]]"
   ]
  },
  {
   "cell_type": "code",
   "execution_count": 100,
   "id": "419e36be-bfa0-4c27-bfd2-95a60b07c516",
   "metadata": {},
   "outputs": [],
   "source": [
    "x_train,x_test,y_train,y_test = train_test_split(x,y,train_size = 0.8,random_state=100)"
   ]
  },
  {
   "cell_type": "code",
   "execution_count": 101,
   "id": "4ee5ab55-dd7b-447b-bf94-b52aa2c95dc4",
   "metadata": {},
   "outputs": [],
   "source": [
    "model_log = LinearRegression().fit(x_train,y_train)"
   ]
  },
  {
   "cell_type": "code",
   "execution_count": 102,
   "id": "fe6d3e89-d26d-44f7-8639-b5af5233dd12",
   "metadata": {},
   "outputs": [],
   "source": [
    "fitted_log = model_log.predict(x_train)"
   ]
  },
  {
   "cell_type": "code",
   "execution_count": 105,
   "id": "5df17dab-a0fa-45cd-b400-8d7748481b4a",
   "metadata": {},
   "outputs": [],
   "source": [
    "residual_log = np.array(fitted_log) - np.array(y_train)"
   ]
  },
  {
   "cell_type": "code",
   "execution_count": 104,
   "id": "eba5efbc-1730-4ec5-ae1e-585d1f81a927",
   "metadata": {},
   "outputs": [
    {
     "data": {
      "text/plain": [
       "0.796166619775725"
      ]
     },
     "execution_count": 104,
     "metadata": {},
     "output_type": "execute_result"
    }
   ],
   "source": [
    "r2_score(y_train,fitted_log)"
   ]
  },
  {
   "cell_type": "code",
   "execution_count": 106,
   "id": "1b63e721-72fd-4143-b229-d7452766c4a1",
   "metadata": {},
   "outputs": [],
   "source": [
    "pred_log = model_log.predict(x_test)"
   ]
  },
  {
   "cell_type": "code",
   "execution_count": 107,
   "id": "5aacda34-8680-4ece-a5fb-f70b60877a36",
   "metadata": {},
   "outputs": [],
   "source": [
    "residual_test_log = np.array(pred_log) - np.array(y_test)"
   ]
  },
  {
   "cell_type": "code",
   "execution_count": 109,
   "id": "727c0a07-becb-4de3-8a42-5ae41db4cc8f",
   "metadata": {},
   "outputs": [
    {
     "data": {
      "text/plain": [
       "0.7979312627950955"
      ]
     },
     "execution_count": 109,
     "metadata": {},
     "output_type": "execute_result"
    }
   ],
   "source": [
    "r2_score(y_test,pred_log)"
   ]
  },
  {
   "cell_type": "code",
   "execution_count": 110,
   "id": "8efa85d0-e349-408d-9b45-90eea6cffdd6",
   "metadata": {},
   "outputs": [
    {
     "data": {
      "text/plain": [
       "<AxesSubplot:>"
      ]
     },
     "execution_count": 110,
     "metadata": {},
     "output_type": "execute_result"
    },
    {
     "data": {
      "image/png": "[encoded data removed]",
      "text/plain": [
       "<Figure size 432x288 with 1 Axes>"
      ]
     },
     "metadata": {
      "needs_background": "light"
     },
     "output_type": "display_data"
    }
   ],
   "source": [
    "sns.regplot(x = fitted_log,y = residual_log,order=2)"
   ]
  },
  {
   "cell_type": "markdown",
   "id": "d8ee8e75-3caa-404b-b2d6-d00a50e5efd7",
   "metadata": {},
   "source": [
    "stats.probplot(residual_test_log,dist='norm',plot=pylab)\n",
    "<br>pylab.show()"
   ]
  },
  {
   "cell_type": "code",
   "execution_count": 118,
   "id": "34dab28f-0cbe-483e-b220-2ed963badc11",
   "metadata": {},
   "outputs": [
    {
     "data": {
      "text/plain": [
       "array([-0.09940116])"
      ]
     },
     "execution_count": 118,
     "metadata": {},
     "output_type": "execute_result"
    }
   ],
   "source": [
    "stats.skew(residual_log)"
   ]
  },
  {
   "cell_type": "code",
   "execution_count": 119,
   "id": "bae6811e-6b29-4720-bc47-6ac925c6a29b",
   "metadata": {},
   "outputs": [
    {
     "data": {
      "text/plain": [
       "array([2.9139164])"
      ]
     },
     "execution_count": 119,
     "metadata": {},
     "output_type": "execute_result"
    }
   ],
   "source": [
    "stats.kurtosis(residual_log)"
   ]
  },
  {
   "cell_type": "code",
   "execution_count": 120,
   "id": "fd044d32-2b90-42a2-a9d0-c0485aec4616",
   "metadata": {},
   "outputs": [
    {
     "data": {
      "text/plain": [
       "ShapiroResult(statistic=0.9611989259719849, pvalue=7.583791372667292e-09)"
      ]
     },
     "execution_count": 120,
     "metadata": {},
     "output_type": "execute_result"
    }
   ],
   "source": [
    "stats.shapiro(residual_log)"
   ]
  },
  {
   "cell_type": "markdown",
   "id": "87451694-74be-48e4-a089-74e85a0356f7",
   "metadata": {},
   "source": [
    "According to shapiro wilk test the residuals do not follow normal distribution"
   ]
  },
  {
   "cell_type": "code",
   "execution_count": 122,
   "id": "e3415b68-d898-4ba1-be2c-ab37b76a0beb",
   "metadata": {},
   "outputs": [
    {
     "data": {
      "text/plain": [
       "array([1.90231739])"
      ]
     },
     "execution_count": 122,
     "metadata": {},
     "output_type": "execute_result"
    }
   ],
   "source": [
    "durbin_watson(residual_log)"
   ]
  },
  {
   "cell_type": "markdown",
   "id": "3d7b2c40-6c10-4e14-bd89-b436fe42dcbf",
   "metadata": {},
   "source": [
    "There's no autocorrelation"
   ]
  },
  {
   "cell_type": "code",
   "execution_count": 121,
   "id": "618c955f-65d5-42af-b522-057173839168",
   "metadata": {},
   "outputs": [
    {
     "data": {
      "text/plain": [
       "(124.93540605033803,\n",
       " 6.387278600805559e-21,\n",
       " 13.465243097223503,\n",
       " 9.850923497253273e-25)"
      ]
     },
     "execution_count": 121,
     "metadata": {},
     "output_type": "execute_result"
    }
   ],
   "source": [
    "het_breuschpagan(residual_log,x_train)"
   ]
  },
  {
   "cell_type": "markdown",
   "id": "5829d442-b433-4ceb-8ef4-8551975f99de",
   "metadata": {},
   "source": [
    "P-value less than 0.05 hence there's heteroskedascity"
   ]
  },
  {
   "cell_type": "markdown",
   "id": "2c62f6ad-aaff-4bbf-bb61-87fccfb6cc92",
   "metadata": {
    "tags": []
   },
   "source": [
    "## Square root transformation"
   ]
  },
  {
   "cell_type": "code",
   "execution_count": 123,
   "id": "ea0b55d2-ed65-4e58-ad19-aea871bc7775",
   "metadata": {},
   "outputs": [],
   "source": [
    "df_sqrt = df.apply(lambda x: boxcox1p(x,0.5))"
   ]
  },
  {
   "cell_type": "code",
   "execution_count": 124,
   "id": "6ce49970-6b01-499c-b4b1-a42d8b1f02b6",
   "metadata": {},
   "outputs": [],
   "source": [
    "x,y = df_sqrt.iloc[:,0:13],df_sqrt.iloc[:,[13]]"
   ]
  },
  {
   "cell_type": "code",
   "execution_count": 125,
   "id": "193d7cd3-cac2-471e-bf0d-42d34f486e39",
   "metadata": {},
   "outputs": [],
   "source": [
    "x_train,x_test,y_train,y_test = train_test_split(x,y,train_size = 0.8,random_state=100)"
   ]
  },
  {
   "cell_type": "code",
   "execution_count": 126,
   "id": "b4c1887c-0e55-49f7-a1ba-1df6b1c7fe7f",
   "metadata": {},
   "outputs": [],
   "source": [
    "model_sqrt = LinearRegression().fit(x_train,y_train)"
   ]
  },
  {
   "cell_type": "code",
   "execution_count": 128,
   "id": "f0d20fbe-0bac-4e69-9ab9-95b1a93f4f28",
   "metadata": {},
   "outputs": [],
   "source": [
    "fitted_sqrt = model_sqrt.predict(x_train)"
   ]
  },
  {
   "cell_type": "code",
   "execution_count": 129,
   "id": "2682df09-f1ac-4480-b443-56fb8f71550f",
   "metadata": {},
   "outputs": [],
   "source": [
    "resid_sqrt = np.array(fitted_sqrt) - np.array(y_train)"
   ]
  },
  {
   "cell_type": "code",
   "execution_count": 130,
   "id": "da8c9ef0-f175-441f-97dd-6704a1946708",
   "metadata": {},
   "outputs": [],
   "source": [
    "pred_sqrt = model_sqrt.predict(x_test)"
   ]
  },
  {
   "cell_type": "code",
   "execution_count": 131,
   "id": "aff1efb9-9ba2-4e12-84c9-9fac0f5fd112",
   "metadata": {},
   "outputs": [],
   "source": [
    "resid_test_sqrt = np.array(pred_sqrt) - np.array(y_test)"
   ]
  },
  {
   "cell_type": "code",
   "execution_count": 134,
   "id": "ad661106-4c33-4a6d-8bb1-692c596f3853",
   "metadata": {},
   "outputs": [
    {
     "data": {
      "text/plain": [
       "0.7931055959153699"
      ]
     },
     "execution_count": 134,
     "metadata": {},
     "output_type": "execute_result"
    }
   ],
   "source": [
    "r2_score(y_train,fitted_sqrt)"
   ]
  },
  {
   "cell_type": "code",
   "execution_count": 133,
   "id": "7e85509e-ba55-4f33-a8b8-ba9385cb671d",
   "metadata": {},
   "outputs": [
    {
     "data": {
      "text/plain": [
       "0.8072599170960143"
      ]
     },
     "execution_count": 133,
     "metadata": {},
     "output_type": "execute_result"
    }
   ],
   "source": [
    "r2_score(y_test,pred_sqrt)"
   ]
  },
  {
   "cell_type": "code",
   "execution_count": 138,
   "id": "05105673-b662-4505-b282-d369909bbb13",
   "metadata": {},
   "outputs": [
    {
     "data": {
      "text/plain": [
       "<AxesSubplot:>"
      ]
     },
     "execution_count": 138,
     "metadata": {},
     "output_type": "execute_result"
    },
    {
     "data": {
      "image/png": "[encoded data removed]",
      "text/plain": [
       "<Figure size 432x288 with 1 Axes>"
      ]
     },
     "metadata": {
      "needs_background": "light"
     },
     "output_type": "display_data"
    }
   ],
   "source": [
    "sns.regplot(x = fitted_sqrt,y = resid_sqrt,order = 2)"
   ]
  }
 ],
 "metadata": {
  "kernelspec": {
   "display_name": "Python 3 (ipykernel)",
   "language": "python",
   "name": "python3"
  },
  "language_info": {
   "codemirror_mode": {
    "name": "ipython",
    "version": 3
   },
   "file_extension": ".py",
   "mimetype": "text/x-python",
   "name": "python",
   "nbconvert_exporter": "python",
   "pygments_lexer": "ipython3",
   "version": "3.10.1"
  }
 },
 "nbformat": 4,
 "nbformat_minor": 5
}
