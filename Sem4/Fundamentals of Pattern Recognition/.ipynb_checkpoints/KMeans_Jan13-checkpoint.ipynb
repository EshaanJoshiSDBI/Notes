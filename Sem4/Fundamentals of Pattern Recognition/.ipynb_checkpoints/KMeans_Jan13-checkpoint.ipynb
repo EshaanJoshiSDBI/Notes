{
 "cells": [
  {
   "cell_type": "code",
   "execution_count": 1,
   "id": "2b884886-9081-4a2b-9642-fc4ff7dc5d34",
   "metadata": {},
   "outputs": [],
   "source": [
    "import numpy as np\n",
    "import pandas as pd\n",
    "from sklearn.cluster import KMeans\n",
    "from scipy.spatial.distance import cdist\n",
    "import datetime as dt"
   ]
  },
  {
   "cell_type": "code",
   "execution_count": 2,
   "id": "172635b3-a874-40f1-84fc-bdc1ace1218f",
   "metadata": {},
   "outputs": [],
   "source": [
    "df = pd.read_csv('scanner_data.csv')"
   ]
  },
  {
   "cell_type": "code",
   "execution_count": 3,
   "id": "a4517276-186f-44da-badc-a34ad116f179",
   "metadata": {},
   "outputs": [
    {
     "data": {
      "text/html": [
       "<div>\n",
       "<style scoped>\n",
       "    .dataframe tbody tr th:only-of-type {\n",
       "        vertical-align: middle;\n",
       "    }\n",
       "\n",
       "    .dataframe tbody tr th {\n",
       "        vertical-align: top;\n",
       "    }\n",
       "\n",
       "    .dataframe thead th {\n",
       "        text-align: right;\n",
       "    }\n",
       "</style>\n",
       "<table border=\"1\" class=\"dataframe\">\n",
       "  <thead>\n",
       "    <tr style=\"text-align: right;\">\n",
       "      <th></th>\n",
       "      <th>Unnamed: 0</th>\n",
       "      <th>Date</th>\n",
       "      <th>Customer_ID</th>\n",
       "      <th>Transaction_ID</th>\n",
       "      <th>SKU_Category</th>\n",
       "      <th>SKU</th>\n",
       "      <th>Quantity</th>\n",
       "      <th>Sales_Amount</th>\n",
       "    </tr>\n",
       "  </thead>\n",
       "  <tbody>\n",
       "    <tr>\n",
       "      <th>0</th>\n",
       "      <td>1</td>\n",
       "      <td>02/01/2016</td>\n",
       "      <td>2547</td>\n",
       "      <td>1</td>\n",
       "      <td>X52</td>\n",
       "      <td>0EM7L</td>\n",
       "      <td>1.0</td>\n",
       "      <td>3.13</td>\n",
       "    </tr>\n",
       "    <tr>\n",
       "      <th>1</th>\n",
       "      <td>2</td>\n",
       "      <td>02/01/2016</td>\n",
       "      <td>822</td>\n",
       "      <td>2</td>\n",
       "      <td>2ML</td>\n",
       "      <td>68BRQ</td>\n",
       "      <td>1.0</td>\n",
       "      <td>5.46</td>\n",
       "    </tr>\n",
       "    <tr>\n",
       "      <th>2</th>\n",
       "      <td>3</td>\n",
       "      <td>02/01/2016</td>\n",
       "      <td>3686</td>\n",
       "      <td>3</td>\n",
       "      <td>0H2</td>\n",
       "      <td>CZUZX</td>\n",
       "      <td>1.0</td>\n",
       "      <td>6.35</td>\n",
       "    </tr>\n",
       "    <tr>\n",
       "      <th>3</th>\n",
       "      <td>4</td>\n",
       "      <td>02/01/2016</td>\n",
       "      <td>3719</td>\n",
       "      <td>4</td>\n",
       "      <td>0H2</td>\n",
       "      <td>549KK</td>\n",
       "      <td>1.0</td>\n",
       "      <td>5.59</td>\n",
       "    </tr>\n",
       "    <tr>\n",
       "      <th>4</th>\n",
       "      <td>5</td>\n",
       "      <td>02/01/2016</td>\n",
       "      <td>9200</td>\n",
       "      <td>5</td>\n",
       "      <td>0H2</td>\n",
       "      <td>K8EHH</td>\n",
       "      <td>1.0</td>\n",
       "      <td>6.88</td>\n",
       "    </tr>\n",
       "  </tbody>\n",
       "</table>\n",
       "</div>"
      ],
      "text/plain": [
       "   Unnamed: 0        Date  Customer_ID  Transaction_ID SKU_Category    SKU  \\\n",
       "0           1  02/01/2016         2547               1          X52  0EM7L   \n",
       "1           2  02/01/2016          822               2          2ML  68BRQ   \n",
       "2           3  02/01/2016         3686               3          0H2  CZUZX   \n",
       "3           4  02/01/2016         3719               4          0H2  549KK   \n",
       "4           5  02/01/2016         9200               5          0H2  K8EHH   \n",
       "\n",
       "   Quantity  Sales_Amount  \n",
       "0       1.0          3.13  \n",
       "1       1.0          5.46  \n",
       "2       1.0          6.35  \n",
       "3       1.0          5.59  \n",
       "4       1.0          6.88  "
      ]
     },
     "execution_count": 3,
     "metadata": {},
     "output_type": "execute_result"
    }
   ],
   "source": [
    "df.head()"
   ]
  },
  {
   "cell_type": "code",
   "execution_count": 4,
   "id": "bfe8502f-5b48-4fb4-a2a3-8ebe040b1d74",
   "metadata": {},
   "outputs": [],
   "source": [
    "df.drop('Unnamed: 0',axis=1,inplace=True)"
   ]
  },
  {
   "cell_type": "code",
   "execution_count": 5,
   "id": "434e17bc-c825-4b69-a58f-6cff9818bdbc",
   "metadata": {},
   "outputs": [],
   "source": [
    "df['tot_amt'] = df['Quantity']*df['Sales_Amount']"
   ]
  },
  {
   "cell_type": "code",
   "execution_count": 6,
   "id": "7ff31575-9686-434b-98aa-a793f215972d",
   "metadata": {},
   "outputs": [
    {
     "data": {
      "text/html": [
       "<div>\n",
       "<style scoped>\n",
       "    .dataframe tbody tr th:only-of-type {\n",
       "        vertical-align: middle;\n",
       "    }\n",
       "\n",
       "    .dataframe tbody tr th {\n",
       "        vertical-align: top;\n",
       "    }\n",
       "\n",
       "    .dataframe thead th {\n",
       "        text-align: right;\n",
       "    }\n",
       "</style>\n",
       "<table border=\"1\" class=\"dataframe\">\n",
       "  <thead>\n",
       "    <tr style=\"text-align: right;\">\n",
       "      <th></th>\n",
       "      <th>Date</th>\n",
       "      <th>Customer_ID</th>\n",
       "      <th>Transaction_ID</th>\n",
       "      <th>SKU_Category</th>\n",
       "      <th>SKU</th>\n",
       "      <th>Quantity</th>\n",
       "      <th>Sales_Amount</th>\n",
       "      <th>tot_amt</th>\n",
       "    </tr>\n",
       "  </thead>\n",
       "  <tbody>\n",
       "    <tr>\n",
       "      <th>0</th>\n",
       "      <td>02/01/2016</td>\n",
       "      <td>2547</td>\n",
       "      <td>1</td>\n",
       "      <td>X52</td>\n",
       "      <td>0EM7L</td>\n",
       "      <td>1.0</td>\n",
       "      <td>3.13</td>\n",
       "      <td>3.13</td>\n",
       "    </tr>\n",
       "    <tr>\n",
       "      <th>1</th>\n",
       "      <td>02/01/2016</td>\n",
       "      <td>822</td>\n",
       "      <td>2</td>\n",
       "      <td>2ML</td>\n",
       "      <td>68BRQ</td>\n",
       "      <td>1.0</td>\n",
       "      <td>5.46</td>\n",
       "      <td>5.46</td>\n",
       "    </tr>\n",
       "    <tr>\n",
       "      <th>2</th>\n",
       "      <td>02/01/2016</td>\n",
       "      <td>3686</td>\n",
       "      <td>3</td>\n",
       "      <td>0H2</td>\n",
       "      <td>CZUZX</td>\n",
       "      <td>1.0</td>\n",
       "      <td>6.35</td>\n",
       "      <td>6.35</td>\n",
       "    </tr>\n",
       "    <tr>\n",
       "      <th>3</th>\n",
       "      <td>02/01/2016</td>\n",
       "      <td>3719</td>\n",
       "      <td>4</td>\n",
       "      <td>0H2</td>\n",
       "      <td>549KK</td>\n",
       "      <td>1.0</td>\n",
       "      <td>5.59</td>\n",
       "      <td>5.59</td>\n",
       "    </tr>\n",
       "    <tr>\n",
       "      <th>4</th>\n",
       "      <td>02/01/2016</td>\n",
       "      <td>9200</td>\n",
       "      <td>5</td>\n",
       "      <td>0H2</td>\n",
       "      <td>K8EHH</td>\n",
       "      <td>1.0</td>\n",
       "      <td>6.88</td>\n",
       "      <td>6.88</td>\n",
       "    </tr>\n",
       "  </tbody>\n",
       "</table>\n",
       "</div>"
      ],
      "text/plain": [
       "         Date  Customer_ID  Transaction_ID SKU_Category    SKU  Quantity  \\\n",
       "0  02/01/2016         2547               1          X52  0EM7L       1.0   \n",
       "1  02/01/2016          822               2          2ML  68BRQ       1.0   \n",
       "2  02/01/2016         3686               3          0H2  CZUZX       1.0   \n",
       "3  02/01/2016         3719               4          0H2  549KK       1.0   \n",
       "4  02/01/2016         9200               5          0H2  K8EHH       1.0   \n",
       "\n",
       "   Sales_Amount  tot_amt  \n",
       "0          3.13     3.13  \n",
       "1          5.46     5.46  \n",
       "2          6.35     6.35  \n",
       "3          5.59     5.59  \n",
       "4          6.88     6.88  "
      ]
     },
     "execution_count": 6,
     "metadata": {},
     "output_type": "execute_result"
    }
   ],
   "source": [
    "df.head()"
   ]
  },
  {
   "cell_type": "code",
   "execution_count": 7,
   "id": "c41371c9-fff1-4d3f-bfa9-ebf07fb5f131",
   "metadata": {},
   "outputs": [],
   "source": [
    "df['Date'] = pd.to_datetime(df['Date'])"
   ]
  },
  {
   "cell_type": "code",
   "execution_count": 8,
   "id": "922ef903-1ab6-44a6-ac0a-522b0da7aa3c",
   "metadata": {},
   "outputs": [
    {
     "data": {
      "text/html": [
       "<div>\n",
       "<style scoped>\n",
       "    .dataframe tbody tr th:only-of-type {\n",
       "        vertical-align: middle;\n",
       "    }\n",
       "\n",
       "    .dataframe tbody tr th {\n",
       "        vertical-align: top;\n",
       "    }\n",
       "\n",
       "    .dataframe thead th {\n",
       "        text-align: right;\n",
       "    }\n",
       "</style>\n",
       "<table border=\"1\" class=\"dataframe\">\n",
       "  <thead>\n",
       "    <tr style=\"text-align: right;\">\n",
       "      <th></th>\n",
       "      <th>Date</th>\n",
       "      <th>Customer_ID</th>\n",
       "      <th>Transaction_ID</th>\n",
       "      <th>SKU_Category</th>\n",
       "      <th>SKU</th>\n",
       "      <th>Quantity</th>\n",
       "      <th>Sales_Amount</th>\n",
       "      <th>tot_amt</th>\n",
       "    </tr>\n",
       "  </thead>\n",
       "  <tbody>\n",
       "    <tr>\n",
       "      <th>0</th>\n",
       "      <td>2016-02-01</td>\n",
       "      <td>2547</td>\n",
       "      <td>1</td>\n",
       "      <td>X52</td>\n",
       "      <td>0EM7L</td>\n",
       "      <td>1.0</td>\n",
       "      <td>3.13</td>\n",
       "      <td>3.13</td>\n",
       "    </tr>\n",
       "    <tr>\n",
       "      <th>1</th>\n",
       "      <td>2016-02-01</td>\n",
       "      <td>822</td>\n",
       "      <td>2</td>\n",
       "      <td>2ML</td>\n",
       "      <td>68BRQ</td>\n",
       "      <td>1.0</td>\n",
       "      <td>5.46</td>\n",
       "      <td>5.46</td>\n",
       "    </tr>\n",
       "    <tr>\n",
       "      <th>2</th>\n",
       "      <td>2016-02-01</td>\n",
       "      <td>3686</td>\n",
       "      <td>3</td>\n",
       "      <td>0H2</td>\n",
       "      <td>CZUZX</td>\n",
       "      <td>1.0</td>\n",
       "      <td>6.35</td>\n",
       "      <td>6.35</td>\n",
       "    </tr>\n",
       "    <tr>\n",
       "      <th>3</th>\n",
       "      <td>2016-02-01</td>\n",
       "      <td>3719</td>\n",
       "      <td>4</td>\n",
       "      <td>0H2</td>\n",
       "      <td>549KK</td>\n",
       "      <td>1.0</td>\n",
       "      <td>5.59</td>\n",
       "      <td>5.59</td>\n",
       "    </tr>\n",
       "    <tr>\n",
       "      <th>4</th>\n",
       "      <td>2016-02-01</td>\n",
       "      <td>9200</td>\n",
       "      <td>5</td>\n",
       "      <td>0H2</td>\n",
       "      <td>K8EHH</td>\n",
       "      <td>1.0</td>\n",
       "      <td>6.88</td>\n",
       "      <td>6.88</td>\n",
       "    </tr>\n",
       "  </tbody>\n",
       "</table>\n",
       "</div>"
      ],
      "text/plain": [
       "        Date  Customer_ID  Transaction_ID SKU_Category    SKU  Quantity  \\\n",
       "0 2016-02-01         2547               1          X52  0EM7L       1.0   \n",
       "1 2016-02-01          822               2          2ML  68BRQ       1.0   \n",
       "2 2016-02-01         3686               3          0H2  CZUZX       1.0   \n",
       "3 2016-02-01         3719               4          0H2  549KK       1.0   \n",
       "4 2016-02-01         9200               5          0H2  K8EHH       1.0   \n",
       "\n",
       "   Sales_Amount  tot_amt  \n",
       "0          3.13     3.13  \n",
       "1          5.46     5.46  \n",
       "2          6.35     6.35  \n",
       "3          5.59     5.59  \n",
       "4          6.88     6.88  "
      ]
     },
     "execution_count": 8,
     "metadata": {},
     "output_type": "execute_result"
    }
   ],
   "source": [
    "df.head()"
   ]
  },
  {
   "cell_type": "code",
   "execution_count": 9,
   "id": "05bc1881-17ed-451c-82d1-96e925a2388d",
   "metadata": {},
   "outputs": [],
   "source": [
    "last_txn_date = df['Date'].max()"
   ]
  },
  {
   "cell_type": "code",
   "execution_count": 10,
   "id": "917467af-f989-4242-b61a-19f908b9a94f",
   "metadata": {},
   "outputs": [
    {
     "data": {
      "text/plain": [
       "Timestamp('2016-12-31 00:00:00')"
      ]
     },
     "execution_count": 10,
     "metadata": {},
     "output_type": "execute_result"
    }
   ],
   "source": [
    "last_txn_date"
   ]
  },
  {
   "cell_type": "code",
   "execution_count": 11,
   "id": "601873bd-b7bd-4bf5-935d-7d5c1d701d04",
   "metadata": {},
   "outputs": [],
   "source": [
    "last_txn = df.groupby('Customer_ID')['Date'].max()"
   ]
  },
  {
   "cell_type": "code",
   "execution_count": 12,
   "id": "47fed32b-d003-47b4-b732-e8e6285e7c75",
   "metadata": {},
   "outputs": [
    {
     "data": {
      "text/plain": [
       "Customer_ID\n",
       "1       2016-01-22\n",
       "2       2016-06-19\n",
       "3       2016-02-01\n",
       "4       2016-11-07\n",
       "5       2016-09-02\n",
       "           ...    \n",
       "22621   2016-10-12\n",
       "22622   2016-12-16\n",
       "22623   2016-12-21\n",
       "22624   2016-02-12\n",
       "22625   2016-12-31\n",
       "Name: Date, Length: 22625, dtype: datetime64[ns]"
      ]
     },
     "execution_count": 12,
     "metadata": {},
     "output_type": "execute_result"
    }
   ],
   "source": [
    "last_txn"
   ]
  },
  {
   "cell_type": "code",
   "execution_count": 13,
   "id": "fa2f1deb-6eea-4e9b-93a3-095db3deb815",
   "metadata": {},
   "outputs": [],
   "source": [
    "last_txn = pd.to_datetime(last_txn.values)"
   ]
  },
  {
   "cell_type": "code",
   "execution_count": 14,
   "id": "1faa49be-cda4-4320-a5eb-5f84eadd3276",
   "metadata": {},
   "outputs": [
    {
     "data": {
      "text/plain": [
       "DatetimeIndex(['2016-01-22', '2016-06-19', '2016-02-01', '2016-11-07',\n",
       "               '2016-09-02', '2016-03-31', '2016-05-10', '2016-06-21',\n",
       "               '2016-03-20', '2016-12-02',\n",
       "               ...\n",
       "               '2016-10-26', '2016-12-12', '2016-11-21', '2016-04-12',\n",
       "               '2016-01-11', '2016-10-12', '2016-12-16', '2016-12-21',\n",
       "               '2016-02-12', '2016-12-31'],\n",
       "              dtype='datetime64[ns]', length=22625, freq=None)"
      ]
     },
     "execution_count": 14,
     "metadata": {},
     "output_type": "execute_result"
    }
   ],
   "source": [
    "last_txn"
   ]
  },
  {
   "cell_type": "code",
   "execution_count": 15,
   "id": "75a54139-ce95-4367-b72c-146716511609",
   "metadata": {},
   "outputs": [],
   "source": [
    "recency= (last_txn_date-last_txn).days"
   ]
  },
  {
   "cell_type": "code",
   "execution_count": 16,
   "id": "bafe1d72-e0d8-457d-95a9-a951b98b48b7",
   "metadata": {},
   "outputs": [
    {
     "data": {
      "text/plain": [
       "Int64Index([344, 195, 334,  54, 120, 275, 235, 193, 286,  29,\n",
       "            ...\n",
       "             66,  19,  40, 263, 355,  80,  15,  10, 323,   0],\n",
       "           dtype='int64', length=22625)"
      ]
     },
     "execution_count": 16,
     "metadata": {},
     "output_type": "execute_result"
    }
   ],
   "source": [
    "recency"
   ]
  },
  {
   "cell_type": "code",
   "execution_count": 17,
   "id": "5ee6cae3-2ced-4007-84ea-ce0dd7ee9285",
   "metadata": {},
   "outputs": [],
   "source": [
    "frq_group = df.groupby('Customer_ID')['Transaction_ID'].count()"
   ]
  },
  {
   "cell_type": "code",
   "execution_count": 18,
   "id": "bae2d599-4bc8-4077-a9a3-7f3927a91d35",
   "metadata": {},
   "outputs": [
    {
     "data": {
      "text/plain": [
       "Customer_ID\n",
       "1        2\n",
       "2        2\n",
       "3        3\n",
       "4        5\n",
       "5        5\n",
       "        ..\n",
       "22621    2\n",
       "22622    1\n",
       "22623    2\n",
       "22624    2\n",
       "22625    9\n",
       "Name: Transaction_ID, Length: 22625, dtype: int64"
      ]
     },
     "execution_count": 18,
     "metadata": {},
     "output_type": "execute_result"
    }
   ],
   "source": [
    "frq_group"
   ]
  },
  {
   "cell_type": "code",
   "execution_count": 19,
   "id": "82ceae0b-9563-463c-baa1-749cbdb24a32",
   "metadata": {},
   "outputs": [],
   "source": [
    "paisa = df.groupby('Customer_ID')['tot_amt'].sum()"
   ]
  },
  {
   "cell_type": "code",
   "execution_count": 20,
   "id": "cd7d8cfe-8373-42d3-972f-0ed67eafd912",
   "metadata": {},
   "outputs": [
    {
     "data": {
      "text/plain": [
       "Customer_ID\n",
       "1         16.29\n",
       "2         22.77\n",
       "3         19.08\n",
       "4         33.29\n",
       "5        248.27\n",
       "          ...  \n",
       "22621     17.19\n",
       "22622      6.07\n",
       "22623    225.87\n",
       "22624     19.60\n",
       "22625     89.08\n",
       "Name: tot_amt, Length: 22625, dtype: float64"
      ]
     },
     "execution_count": 20,
     "metadata": {},
     "output_type": "execute_result"
    }
   ],
   "source": [
    "paisa"
   ]
  },
  {
   "cell_type": "code",
   "execution_count": 21,
   "id": "47d0fac9-d7c8-4fce-b9ca-dab93dad9fd7",
   "metadata": {},
   "outputs": [],
   "source": [
    "df_rfm = pd.DataFrame(list(zip(recency,frq_group,paisa)),columns=['Recency','Frequency','Monetary'])"
   ]
  },
  {
   "cell_type": "code",
   "execution_count": 22,
   "id": "bdbbe98a-d3a2-470f-981f-5f085d4e7368",
   "metadata": {},
   "outputs": [
    {
     "data": {
      "text/html": [
       "<div>\n",
       "<style scoped>\n",
       "    .dataframe tbody tr th:only-of-type {\n",
       "        vertical-align: middle;\n",
       "    }\n",
       "\n",
       "    .dataframe tbody tr th {\n",
       "        vertical-align: top;\n",
       "    }\n",
       "\n",
       "    .dataframe thead th {\n",
       "        text-align: right;\n",
       "    }\n",
       "</style>\n",
       "<table border=\"1\" class=\"dataframe\">\n",
       "  <thead>\n",
       "    <tr style=\"text-align: right;\">\n",
       "      <th></th>\n",
       "      <th>Recency</th>\n",
       "      <th>Frequency</th>\n",
       "      <th>Monetary</th>\n",
       "    </tr>\n",
       "  </thead>\n",
       "  <tbody>\n",
       "    <tr>\n",
       "      <th>0</th>\n",
       "      <td>344</td>\n",
       "      <td>2</td>\n",
       "      <td>16.29</td>\n",
       "    </tr>\n",
       "    <tr>\n",
       "      <th>1</th>\n",
       "      <td>195</td>\n",
       "      <td>2</td>\n",
       "      <td>22.77</td>\n",
       "    </tr>\n",
       "    <tr>\n",
       "      <th>2</th>\n",
       "      <td>334</td>\n",
       "      <td>3</td>\n",
       "      <td>19.08</td>\n",
       "    </tr>\n",
       "    <tr>\n",
       "      <th>3</th>\n",
       "      <td>54</td>\n",
       "      <td>5</td>\n",
       "      <td>33.29</td>\n",
       "    </tr>\n",
       "    <tr>\n",
       "      <th>4</th>\n",
       "      <td>120</td>\n",
       "      <td>5</td>\n",
       "      <td>248.27</td>\n",
       "    </tr>\n",
       "    <tr>\n",
       "      <th>...</th>\n",
       "      <td>...</td>\n",
       "      <td>...</td>\n",
       "      <td>...</td>\n",
       "    </tr>\n",
       "    <tr>\n",
       "      <th>22620</th>\n",
       "      <td>80</td>\n",
       "      <td>2</td>\n",
       "      <td>17.19</td>\n",
       "    </tr>\n",
       "    <tr>\n",
       "      <th>22621</th>\n",
       "      <td>15</td>\n",
       "      <td>1</td>\n",
       "      <td>6.07</td>\n",
       "    </tr>\n",
       "    <tr>\n",
       "      <th>22622</th>\n",
       "      <td>10</td>\n",
       "      <td>2</td>\n",
       "      <td>225.87</td>\n",
       "    </tr>\n",
       "    <tr>\n",
       "      <th>22623</th>\n",
       "      <td>323</td>\n",
       "      <td>2</td>\n",
       "      <td>19.60</td>\n",
       "    </tr>\n",
       "    <tr>\n",
       "      <th>22624</th>\n",
       "      <td>0</td>\n",
       "      <td>9</td>\n",
       "      <td>89.08</td>\n",
       "    </tr>\n",
       "  </tbody>\n",
       "</table>\n",
       "<p>22625 rows × 3 columns</p>\n",
       "</div>"
      ],
      "text/plain": [
       "       Recency  Frequency  Monetary\n",
       "0          344          2     16.29\n",
       "1          195          2     22.77\n",
       "2          334          3     19.08\n",
       "3           54          5     33.29\n",
       "4          120          5    248.27\n",
       "...        ...        ...       ...\n",
       "22620       80          2     17.19\n",
       "22621       15          1      6.07\n",
       "22622       10          2    225.87\n",
       "22623      323          2     19.60\n",
       "22624        0          9     89.08\n",
       "\n",
       "[22625 rows x 3 columns]"
      ]
     },
     "execution_count": 22,
     "metadata": {},
     "output_type": "execute_result"
    }
   ],
   "source": [
    "df_rfm"
   ]
  },
  {
   "cell_type": "markdown",
   "id": "57eba948-4a73-40cb-89e6-787bf4ea598e",
   "metadata": {},
   "source": [
    "#### Calculating RFM score"
   ]
  },
  {
   "cell_type": "markdown",
   "id": "7f33c3c1-db60-415c-9815-e2a815384553",
   "metadata": {},
   "source": [
    "1 - Not Good<br>\n",
    "5 - Good"
   ]
  },
  {
   "cell_type": "code",
   "execution_count": 23,
   "id": "ad159efa-6e54-451b-8b77-1e13697b69aa",
   "metadata": {},
   "outputs": [
    {
     "data": {
      "text/plain": [
       "count    22625.000000\n",
       "mean       144.408796\n",
       "std        109.263227\n",
       "min          0.000000\n",
       "25%         44.000000\n",
       "50%        120.000000\n",
       "75%        242.000000\n",
       "max        364.000000\n",
       "Name: Recency, dtype: float64"
      ]
     },
     "execution_count": 23,
     "metadata": {},
     "output_type": "execute_result"
    }
   ],
   "source": [
    "df_rfm['Recency'].describe()"
   ]
  },
  {
   "cell_type": "code",
   "execution_count": 24,
   "id": "14c8df65-7736-46a7-b0c9-1eae509e1582",
   "metadata": {},
   "outputs": [],
   "source": [
    "df_rfm_score = pd.DataFrame(columns=['Customer_ID','Recency','Frequency','Monetary'])"
   ]
  },
  {
   "cell_type": "code",
   "execution_count": 25,
   "id": "d7f28adb-f802-4b40-9235-bbb5145d6e5f",
   "metadata": {},
   "outputs": [],
   "source": [
    "r_bins = [-np.Inf,0,44,120,242,np.Inf]\n",
    "r_labels = ['5','4','3','2','1']\n",
    "df_rfm_score.Recency = pd.cut(df_rfm['Recency'],bins=r_bins,labels=r_labels)"
   ]
  },
  {
   "cell_type": "code",
   "execution_count": 26,
   "id": "ee8eb5f9-eef0-4f53-8f6c-4221e6ce6df5",
   "metadata": {},
   "outputs": [
    {
     "data": {
      "text/html": [
       "<div>\n",
       "<style scoped>\n",
       "    .dataframe tbody tr th:only-of-type {\n",
       "        vertical-align: middle;\n",
       "    }\n",
       "\n",
       "    .dataframe tbody tr th {\n",
       "        vertical-align: top;\n",
       "    }\n",
       "\n",
       "    .dataframe thead th {\n",
       "        text-align: right;\n",
       "    }\n",
       "</style>\n",
       "<table border=\"1\" class=\"dataframe\">\n",
       "  <thead>\n",
       "    <tr style=\"text-align: right;\">\n",
       "      <th></th>\n",
       "      <th>Customer_ID</th>\n",
       "      <th>Recency</th>\n",
       "      <th>Frequency</th>\n",
       "      <th>Monetary</th>\n",
       "    </tr>\n",
       "  </thead>\n",
       "  <tbody>\n",
       "    <tr>\n",
       "      <th>0</th>\n",
       "      <td>NaN</td>\n",
       "      <td>1</td>\n",
       "      <td>NaN</td>\n",
       "      <td>NaN</td>\n",
       "    </tr>\n",
       "    <tr>\n",
       "      <th>1</th>\n",
       "      <td>NaN</td>\n",
       "      <td>2</td>\n",
       "      <td>NaN</td>\n",
       "      <td>NaN</td>\n",
       "    </tr>\n",
       "    <tr>\n",
       "      <th>2</th>\n",
       "      <td>NaN</td>\n",
       "      <td>1</td>\n",
       "      <td>NaN</td>\n",
       "      <td>NaN</td>\n",
       "    </tr>\n",
       "    <tr>\n",
       "      <th>3</th>\n",
       "      <td>NaN</td>\n",
       "      <td>3</td>\n",
       "      <td>NaN</td>\n",
       "      <td>NaN</td>\n",
       "    </tr>\n",
       "    <tr>\n",
       "      <th>4</th>\n",
       "      <td>NaN</td>\n",
       "      <td>3</td>\n",
       "      <td>NaN</td>\n",
       "      <td>NaN</td>\n",
       "    </tr>\n",
       "  </tbody>\n",
       "</table>\n",
       "</div>"
      ],
      "text/plain": [
       "  Customer_ID Recency Frequency Monetary\n",
       "0         NaN       1       NaN      NaN\n",
       "1         NaN       2       NaN      NaN\n",
       "2         NaN       1       NaN      NaN\n",
       "3         NaN       3       NaN      NaN\n",
       "4         NaN       3       NaN      NaN"
      ]
     },
     "execution_count": 26,
     "metadata": {},
     "output_type": "execute_result"
    }
   ],
   "source": [
    "df_rfm_score.head()"
   ]
  },
  {
   "cell_type": "code",
   "execution_count": 27,
   "id": "f4a85ec8-7dcf-4e45-b0b4-0ea135e8b08e",
   "metadata": {},
   "outputs": [
    {
     "data": {
      "text/plain": [
       "count    22625.000000\n",
       "mean         5.821260\n",
       "std          9.887028\n",
       "min          1.000000\n",
       "25%          1.000000\n",
       "50%          3.000000\n",
       "75%          6.000000\n",
       "max        228.000000\n",
       "Name: Frequency, dtype: float64"
      ]
     },
     "execution_count": 27,
     "metadata": {},
     "output_type": "execute_result"
    }
   ],
   "source": [
    "df_rfm.Frequency.describe()"
   ]
  },
  {
   "cell_type": "code",
   "execution_count": 28,
   "id": "5faed1f1-d421-4796-a904-e3e36c8c984b",
   "metadata": {},
   "outputs": [],
   "source": [
    "f_bins = [-np.Inf,0,1,3,6,np.Inf]\n",
    "f_labels = ['1','2','3','4','5']\n",
    "df_rfm_score.Frequency = pd.cut(df_rfm.Frequency,bins=f_bins,labels=f_labels)"
   ]
  },
  {
   "cell_type": "code",
   "execution_count": 29,
   "id": "53ac2147-61de-4ae0-ba22-9957755bee32",
   "metadata": {},
   "outputs": [
    {
     "data": {
      "text/html": [
       "<div>\n",
       "<style scoped>\n",
       "    .dataframe tbody tr th:only-of-type {\n",
       "        vertical-align: middle;\n",
       "    }\n",
       "\n",
       "    .dataframe tbody tr th {\n",
       "        vertical-align: top;\n",
       "    }\n",
       "\n",
       "    .dataframe thead th {\n",
       "        text-align: right;\n",
       "    }\n",
       "</style>\n",
       "<table border=\"1\" class=\"dataframe\">\n",
       "  <thead>\n",
       "    <tr style=\"text-align: right;\">\n",
       "      <th></th>\n",
       "      <th>Customer_ID</th>\n",
       "      <th>Recency</th>\n",
       "      <th>Frequency</th>\n",
       "      <th>Monetary</th>\n",
       "    </tr>\n",
       "  </thead>\n",
       "  <tbody>\n",
       "    <tr>\n",
       "      <th>0</th>\n",
       "      <td>NaN</td>\n",
       "      <td>1</td>\n",
       "      <td>3</td>\n",
       "      <td>NaN</td>\n",
       "    </tr>\n",
       "    <tr>\n",
       "      <th>1</th>\n",
       "      <td>NaN</td>\n",
       "      <td>2</td>\n",
       "      <td>3</td>\n",
       "      <td>NaN</td>\n",
       "    </tr>\n",
       "    <tr>\n",
       "      <th>2</th>\n",
       "      <td>NaN</td>\n",
       "      <td>1</td>\n",
       "      <td>3</td>\n",
       "      <td>NaN</td>\n",
       "    </tr>\n",
       "    <tr>\n",
       "      <th>3</th>\n",
       "      <td>NaN</td>\n",
       "      <td>3</td>\n",
       "      <td>4</td>\n",
       "      <td>NaN</td>\n",
       "    </tr>\n",
       "    <tr>\n",
       "      <th>4</th>\n",
       "      <td>NaN</td>\n",
       "      <td>3</td>\n",
       "      <td>4</td>\n",
       "      <td>NaN</td>\n",
       "    </tr>\n",
       "  </tbody>\n",
       "</table>\n",
       "</div>"
      ],
      "text/plain": [
       "  Customer_ID Recency Frequency Monetary\n",
       "0         NaN       1         3      NaN\n",
       "1         NaN       2         3      NaN\n",
       "2         NaN       1         3      NaN\n",
       "3         NaN       3         4      NaN\n",
       "4         NaN       3         4      NaN"
      ]
     },
     "execution_count": 29,
     "metadata": {},
     "output_type": "execute_result"
    }
   ],
   "source": [
    "df_rfm_score.head()"
   ]
  },
  {
   "cell_type": "code",
   "execution_count": 30,
   "id": "c29984b6-d2cd-4767-93e2-866fc99ac2aa",
   "metadata": {},
   "outputs": [
    {
     "data": {
      "text/plain": [
       "count    22625.000000\n",
       "mean       122.011461\n",
       "std        482.101388\n",
       "min          0.140000\n",
       "25%         10.810000\n",
       "50%         27.260000\n",
       "75%         83.080000\n",
       "max      40070.491000\n",
       "Name: Monetary, dtype: float64"
      ]
     },
     "execution_count": 30,
     "metadata": {},
     "output_type": "execute_result"
    }
   ],
   "source": [
    "df_rfm.Monetary.describe()"
   ]
  },
  {
   "cell_type": "code",
   "execution_count": 31,
   "id": "50255825-a911-4f61-b14e-325857d02de1",
   "metadata": {},
   "outputs": [],
   "source": [
    "m_bins = [-np.Inf,0,10,27,83,np.Inf]\n",
    "m_labels = ['1','2','3','4','5']\n",
    "df_rfm_score.Monetary = pd.cut(df_rfm.Monetary,bins=m_bins,labels=m_labels)"
   ]
  },
  {
   "cell_type": "code",
   "execution_count": 32,
   "id": "049fb4bc-e3de-46a9-8beb-407bb74f55e6",
   "metadata": {},
   "outputs": [
    {
     "data": {
      "text/html": [
       "<div>\n",
       "<style scoped>\n",
       "    .dataframe tbody tr th:only-of-type {\n",
       "        vertical-align: middle;\n",
       "    }\n",
       "\n",
       "    .dataframe tbody tr th {\n",
       "        vertical-align: top;\n",
       "    }\n",
       "\n",
       "    .dataframe thead th {\n",
       "        text-align: right;\n",
       "    }\n",
       "</style>\n",
       "<table border=\"1\" class=\"dataframe\">\n",
       "  <thead>\n",
       "    <tr style=\"text-align: right;\">\n",
       "      <th></th>\n",
       "      <th>Customer_ID</th>\n",
       "      <th>Recency</th>\n",
       "      <th>Frequency</th>\n",
       "      <th>Monetary</th>\n",
       "    </tr>\n",
       "  </thead>\n",
       "  <tbody>\n",
       "    <tr>\n",
       "      <th>0</th>\n",
       "      <td>NaN</td>\n",
       "      <td>1</td>\n",
       "      <td>3</td>\n",
       "      <td>3</td>\n",
       "    </tr>\n",
       "    <tr>\n",
       "      <th>1</th>\n",
       "      <td>NaN</td>\n",
       "      <td>2</td>\n",
       "      <td>3</td>\n",
       "      <td>3</td>\n",
       "    </tr>\n",
       "    <tr>\n",
       "      <th>2</th>\n",
       "      <td>NaN</td>\n",
       "      <td>1</td>\n",
       "      <td>3</td>\n",
       "      <td>3</td>\n",
       "    </tr>\n",
       "    <tr>\n",
       "      <th>3</th>\n",
       "      <td>NaN</td>\n",
       "      <td>3</td>\n",
       "      <td>4</td>\n",
       "      <td>4</td>\n",
       "    </tr>\n",
       "    <tr>\n",
       "      <th>4</th>\n",
       "      <td>NaN</td>\n",
       "      <td>3</td>\n",
       "      <td>4</td>\n",
       "      <td>5</td>\n",
       "    </tr>\n",
       "  </tbody>\n",
       "</table>\n",
       "</div>"
      ],
      "text/plain": [
       "  Customer_ID Recency Frequency Monetary\n",
       "0         NaN       1         3        3\n",
       "1         NaN       2         3        3\n",
       "2         NaN       1         3        3\n",
       "3         NaN       3         4        4\n",
       "4         NaN       3         4        5"
      ]
     },
     "execution_count": 32,
     "metadata": {},
     "output_type": "execute_result"
    }
   ],
   "source": [
    "df_rfm_score.head()"
   ]
  },
  {
   "cell_type": "code",
   "execution_count": 33,
   "id": "472282b9-ca2b-407a-bf9b-60e5c9b058b5",
   "metadata": {},
   "outputs": [],
   "source": [
    "df_rfm_score.Customer_ID = paisa.index"
   ]
  },
  {
   "cell_type": "code",
   "execution_count": 34,
   "id": "633d88a5-1726-43fb-9529-f41fc6d6ac92",
   "metadata": {},
   "outputs": [
    {
     "data": {
      "text/html": [
       "<div>\n",
       "<style scoped>\n",
       "    .dataframe tbody tr th:only-of-type {\n",
       "        vertical-align: middle;\n",
       "    }\n",
       "\n",
       "    .dataframe tbody tr th {\n",
       "        vertical-align: top;\n",
       "    }\n",
       "\n",
       "    .dataframe thead th {\n",
       "        text-align: right;\n",
       "    }\n",
       "</style>\n",
       "<table border=\"1\" class=\"dataframe\">\n",
       "  <thead>\n",
       "    <tr style=\"text-align: right;\">\n",
       "      <th></th>\n",
       "      <th>Customer_ID</th>\n",
       "      <th>Recency</th>\n",
       "      <th>Frequency</th>\n",
       "      <th>Monetary</th>\n",
       "    </tr>\n",
       "  </thead>\n",
       "  <tbody>\n",
       "    <tr>\n",
       "      <th>0</th>\n",
       "      <td>1</td>\n",
       "      <td>1</td>\n",
       "      <td>3</td>\n",
       "      <td>3</td>\n",
       "    </tr>\n",
       "    <tr>\n",
       "      <th>1</th>\n",
       "      <td>2</td>\n",
       "      <td>2</td>\n",
       "      <td>3</td>\n",
       "      <td>3</td>\n",
       "    </tr>\n",
       "    <tr>\n",
       "      <th>2</th>\n",
       "      <td>3</td>\n",
       "      <td>1</td>\n",
       "      <td>3</td>\n",
       "      <td>3</td>\n",
       "    </tr>\n",
       "    <tr>\n",
       "      <th>3</th>\n",
       "      <td>4</td>\n",
       "      <td>3</td>\n",
       "      <td>4</td>\n",
       "      <td>4</td>\n",
       "    </tr>\n",
       "    <tr>\n",
       "      <th>4</th>\n",
       "      <td>5</td>\n",
       "      <td>3</td>\n",
       "      <td>4</td>\n",
       "      <td>5</td>\n",
       "    </tr>\n",
       "  </tbody>\n",
       "</table>\n",
       "</div>"
      ],
      "text/plain": [
       "   Customer_ID Recency Frequency Monetary\n",
       "0            1       1         3        3\n",
       "1            2       2         3        3\n",
       "2            3       1         3        3\n",
       "3            4       3         4        4\n",
       "4            5       3         4        5"
      ]
     },
     "execution_count": 34,
     "metadata": {},
     "output_type": "execute_result"
    }
   ],
   "source": [
    "df_rfm_score.head()"
   ]
  },
  {
   "cell_type": "code",
   "execution_count": 35,
   "id": "9e5ef037-1384-41b7-831e-678236661056",
   "metadata": {},
   "outputs": [
    {
     "data": {
      "text/plain": [
       "(22625, 4)"
      ]
     },
     "execution_count": 35,
     "metadata": {},
     "output_type": "execute_result"
    }
   ],
   "source": [
    "df_rfm_score.shape"
   ]
  },
  {
   "cell_type": "markdown",
   "id": "7d6fa028-1289-4c05-ba59-1c3861c7d113",
   "metadata": {},
   "source": [
    "### Clustering"
   ]
  },
  {
   "cell_type": "code",
   "execution_count": 42,
   "id": "c1b429d2-2884-4f8a-9bce-e35111fe08c6",
   "metadata": {},
   "outputs": [
    {
     "name": "stdout",
     "output_type": "stream",
     "text": [
      "<class 'pandas.core.frame.DataFrame'>\n",
      "RangeIndex: 22625 entries, 0 to 22624\n",
      "Data columns (total 4 columns):\n",
      " #   Column       Non-Null Count  Dtype   \n",
      "---  ------       --------------  -----   \n",
      " 0   Customer_ID  22625 non-null  int64   \n",
      " 1   Recency      22625 non-null  category\n",
      " 2   Frequency    22625 non-null  category\n",
      " 3   Monetary     22625 non-null  category\n",
      "dtypes: category(3), int64(1)\n",
      "memory usage: 243.8 KB\n"
     ]
    }
   ],
   "source": [
    "df_rfm_score.info()"
   ]
  },
  {
   "cell_type": "code",
   "execution_count": 60,
   "id": "afd9adf2-81e9-4ff9-ba80-aa6a4e905af6",
   "metadata": {},
   "outputs": [
    {
     "data": {
      "text/plain": [
       "numpy.ndarray"
      ]
     },
     "execution_count": 60,
     "metadata": {},
     "output_type": "execute_result"
    }
   ],
   "source": [
    "model = KMeans(n_clusters=1,init='random')\n",
    "model.fit(df_rfm_score.drop(columns='Customer_ID'))\n",
    "# dist = cdist(df_rfm_score.drop(columns='Customer_ID'),model.cluster_centers_,'euclidean')\n",
    "type(model.cluster_centers_)"
   ]
  },
  {
   "cell_type": "code",
   "execution_count": 61,
   "id": "1aa75e9e-36be-4704-b3ff-5979ba8b808a",
   "metadata": {},
   "outputs": [
    {
     "data": {
      "text/plain": [
       "array([[2.51230939, 3.36755801, 3.52154696]])"
      ]
     },
     "execution_count": 61,
     "metadata": {},
     "output_type": "execute_result"
    }
   ],
   "source": [
    "model.cluster_centers_"
   ]
  },
  {
   "cell_type": "code",
   "execution_count": 47,
   "id": "59d224f0-dce5-4c41-b8f9-6549b937ab84",
   "metadata": {},
   "outputs": [
    {
     "data": {
      "text/html": [
       "<div>\n",
       "<style scoped>\n",
       "    .dataframe tbody tr th:only-of-type {\n",
       "        vertical-align: middle;\n",
       "    }\n",
       "\n",
       "    .dataframe tbody tr th {\n",
       "        vertical-align: top;\n",
       "    }\n",
       "\n",
       "    .dataframe thead th {\n",
       "        text-align: right;\n",
       "    }\n",
       "</style>\n",
       "<table border=\"1\" class=\"dataframe\">\n",
       "  <thead>\n",
       "    <tr style=\"text-align: right;\">\n",
       "      <th></th>\n",
       "      <th>Recency</th>\n",
       "      <th>Frequency</th>\n",
       "      <th>Monetary</th>\n",
       "    </tr>\n",
       "  </thead>\n",
       "  <tbody>\n",
       "    <tr>\n",
       "      <th>0</th>\n",
       "      <td>1</td>\n",
       "      <td>3</td>\n",
       "      <td>3</td>\n",
       "    </tr>\n",
       "    <tr>\n",
       "      <th>1</th>\n",
       "      <td>2</td>\n",
       "      <td>3</td>\n",
       "      <td>3</td>\n",
       "    </tr>\n",
       "    <tr>\n",
       "      <th>2</th>\n",
       "      <td>1</td>\n",
       "      <td>3</td>\n",
       "      <td>3</td>\n",
       "    </tr>\n",
       "    <tr>\n",
       "      <th>3</th>\n",
       "      <td>3</td>\n",
       "      <td>4</td>\n",
       "      <td>4</td>\n",
       "    </tr>\n",
       "    <tr>\n",
       "      <th>4</th>\n",
       "      <td>3</td>\n",
       "      <td>4</td>\n",
       "      <td>5</td>\n",
       "    </tr>\n",
       "    <tr>\n",
       "      <th>...</th>\n",
       "      <td>...</td>\n",
       "      <td>...</td>\n",
       "      <td>...</td>\n",
       "    </tr>\n",
       "    <tr>\n",
       "      <th>22620</th>\n",
       "      <td>3</td>\n",
       "      <td>3</td>\n",
       "      <td>3</td>\n",
       "    </tr>\n",
       "    <tr>\n",
       "      <th>22621</th>\n",
       "      <td>4</td>\n",
       "      <td>2</td>\n",
       "      <td>2</td>\n",
       "    </tr>\n",
       "    <tr>\n",
       "      <th>22622</th>\n",
       "      <td>4</td>\n",
       "      <td>3</td>\n",
       "      <td>5</td>\n",
       "    </tr>\n",
       "    <tr>\n",
       "      <th>22623</th>\n",
       "      <td>1</td>\n",
       "      <td>3</td>\n",
       "      <td>3</td>\n",
       "    </tr>\n",
       "    <tr>\n",
       "      <th>22624</th>\n",
       "      <td>5</td>\n",
       "      <td>5</td>\n",
       "      <td>5</td>\n",
       "    </tr>\n",
       "  </tbody>\n",
       "</table>\n",
       "<p>22625 rows × 3 columns</p>\n",
       "</div>"
      ],
      "text/plain": [
       "      Recency Frequency Monetary\n",
       "0           1         3        3\n",
       "1           2         3        3\n",
       "2           1         3        3\n",
       "3           3         4        4\n",
       "4           3         4        5\n",
       "...       ...       ...      ...\n",
       "22620       3         3        3\n",
       "22621       4         2        2\n",
       "22622       4         3        5\n",
       "22623       1         3        3\n",
       "22624       5         5        5\n",
       "\n",
       "[22625 rows x 3 columns]"
      ]
     },
     "execution_count": 47,
     "metadata": {},
     "output_type": "execute_result"
    }
   ],
   "source": [
    "df_rfm_score.drop(columns='Customer_ID')"
   ]
  },
  {
   "cell_type": "code",
   "execution_count": 63,
   "id": "d69b8b2a-ab5b-484f-8742-6f02479e2e16",
   "metadata": {},
   "outputs": [],
   "source": [
    "df_rfm_score = df_rfm_score.astype({'Recency':'int','Frequency':'int','Monetary':'int'})"
   ]
  },
  {
   "cell_type": "code",
   "execution_count": 64,
   "id": "101975b8-2d9d-417c-aea3-1d3d37a6472f",
   "metadata": {},
   "outputs": [
    {
     "name": "stdout",
     "output_type": "stream",
     "text": [
      "1.8330878363568561\n",
      "1.29463167499579\n",
      "1.0986888897385536\n",
      "0.9489329157965031\n",
      "0.8706529344409387\n",
      "0.7911569853775214\n",
      "0.7456739207434949\n",
      "0.7414123941445115\n",
      "0.6843251686587859\n",
      "0.6734318044393856\n"
     ]
    }
   ],
   "source": [
    "wcss = []\n",
    "for i in range(1,11):\n",
    "    model = KMeans(n_clusters=i,init='random')\n",
    "    model.fit(df_rfm_score.drop(columns='Customer_ID'))\n",
    "    dist = cdist(df_rfm_score.drop(columns='Customer_ID'),model.cluster_centers_.tolist(),'euclidean')\n",
    "    min_dist = np.min(dist,axis=1)\n",
    "    avg_dist = sum(min_dist)/df_rfm_score.shape[0]\n",
    "    print(avg_dist)\n",
    "    wcss.append(avg_dist)"
   ]
  },
  {
   "cell_type": "code",
   "execution_count": 66,
   "id": "c070640f-a65f-4eb1-a47c-eae55eddd958",
   "metadata": {},
   "outputs": [
    {
     "data": {
      "text/plain": [
       "[<matplotlib.lines.Line2D at 0x7f2467ac8220>]"
      ]
     },
     "execution_count": 66,
     "metadata": {},
     "output_type": "execute_result"
    },
    {
     "data": {
      "image/png": "[encoded data removed]",
      "text/plain": [
       "<Figure size 1152x648 with 1 Axes>"
      ]
     },
     "metadata": {
      "needs_background": "light"
     },
     "output_type": "display_data"
    }
   ],
   "source": [
    "import matplotlib.pyplot as plt\n",
    "plt.figure(figsize=(16,9))\n",
    "plt.plot(range(1,11),wcss)"
   ]
  },
  {
   "cell_type": "code",
   "execution_count": 37,
   "id": "a152601c-c457-4761-8db4-abb40cccde2f",
   "metadata": {},
   "outputs": [],
   "source": [
    "wcss = []\n",
    "for i in range(1,11):\n",
    "    model = KMeans(n_clusters=i,init='k-means++')\n",
    "    model.fit(df_rfm_score.drop(columns='Customer_ID'))\n",
    "    # dist = cdist(df_rfm_score.drop(columns='Customer_ID'),model.cluster_centers_,'euclidean')\n",
    "    # min_dist = np.min(dist,axis=1)\n",
    "    # avg_dist = sum(min_dist)/df_rfm_score.shape[0]\n",
    "    # print(avg_dist)\n",
    "    wcss.append(model.inertia_)"
   ]
  },
  {
   "cell_type": "code",
   "execution_count": 39,
   "id": "4819040e-3d69-4445-8a62-080f330c1fa2",
   "metadata": {},
   "outputs": [
    {
     "data": {
      "text/plain": [
       "[<matplotlib.lines.Line2D at 0x7f24ac5c8730>]"
      ]
     },
     "execution_count": 39,
     "metadata": {},
     "output_type": "execute_result"
    },
    {
     "data": {
      "image/png": "[encoded data removed]",
      "text/plain": [
       "<Figure size 1152x648 with 1 Axes>"
      ]
     },
     "metadata": {
      "needs_background": "light"
     },
     "output_type": "display_data"
    }
   ],
   "source": [
    "import matplotlib.pyplot as plt\n",
    "plt.figure(figsize=(16,9))\n",
    "plt.plot(range(1,11),wcss`)"
   ]
  },
  {
   "cell_type": "code",
   "execution_count": 67,
   "id": "8eb07add-ee81-4dc6-a4be-8705fb84483a",
   "metadata": {},
   "outputs": [
    {
     "data": {
      "text/plain": [
       "KMeans(n_clusters=6)"
      ]
     },
     "execution_count": 67,
     "metadata": {},
     "output_type": "execute_result"
    }
   ],
   "source": [
    "model = KMeans(n_clusters=6,init='k-means++')\n",
    "model.fit(df_rfm_score.drop(columns='Customer_ID'))"
   ]
  },
  {
   "cell_type": "code",
   "execution_count": 68,
   "id": "8e74dfdc-dc55-4567-8bf1-38f6c25e9a8f",
   "metadata": {},
   "outputs": [],
   "source": [
    "p = model.fit_predict(df_rfm_score.drop(columns='Customer_ID'))"
   ]
  },
  {
   "cell_type": "code",
   "execution_count": 70,
   "id": "9969a555-02b4-4247-ba55-0259986d82fa",
   "metadata": {},
   "outputs": [
    {
     "data": {
      "text/plain": [
       "array([3, 3, 3, ..., 5, 3, 1], dtype=int32)"
      ]
     },
     "execution_count": 70,
     "metadata": {},
     "output_type": "execute_result"
    }
   ],
   "source": [
    "p"
   ]
  },
  {
   "cell_type": "code",
   "execution_count": 71,
   "id": "c1b50389-0c40-4a48-9789-83437f3bb16a",
   "metadata": {},
   "outputs": [],
   "source": [
    "df_rfm_score['Cluster'] = model.fit_predict(df_rfm_score.drop(columns='Customer_ID'))"
   ]
  },
  {
   "cell_type": "code",
   "execution_count": 72,
   "id": "ebb44e67-258d-4cd8-a97f-5c6791edecb1",
   "metadata": {},
   "outputs": [
    {
     "data": {
      "text/html": [
       "<div>\n",
       "<style scoped>\n",
       "    .dataframe tbody tr th:only-of-type {\n",
       "        vertical-align: middle;\n",
       "    }\n",
       "\n",
       "    .dataframe tbody tr th {\n",
       "        vertical-align: top;\n",
       "    }\n",
       "\n",
       "    .dataframe thead th {\n",
       "        text-align: right;\n",
       "    }\n",
       "</style>\n",
       "<table border=\"1\" class=\"dataframe\">\n",
       "  <thead>\n",
       "    <tr style=\"text-align: right;\">\n",
       "      <th></th>\n",
       "      <th>Customer_ID</th>\n",
       "      <th>Recency</th>\n",
       "      <th>Frequency</th>\n",
       "      <th>Monetary</th>\n",
       "      <th>Cluster</th>\n",
       "    </tr>\n",
       "  </thead>\n",
       "  <tbody>\n",
       "    <tr>\n",
       "      <th>0</th>\n",
       "      <td>1</td>\n",
       "      <td>1</td>\n",
       "      <td>3</td>\n",
       "      <td>3</td>\n",
       "      <td>3</td>\n",
       "    </tr>\n",
       "    <tr>\n",
       "      <th>1</th>\n",
       "      <td>2</td>\n",
       "      <td>2</td>\n",
       "      <td>3</td>\n",
       "      <td>3</td>\n",
       "      <td>3</td>\n",
       "    </tr>\n",
       "    <tr>\n",
       "      <th>2</th>\n",
       "      <td>3</td>\n",
       "      <td>1</td>\n",
       "      <td>3</td>\n",
       "      <td>3</td>\n",
       "      <td>3</td>\n",
       "    </tr>\n",
       "    <tr>\n",
       "      <th>3</th>\n",
       "      <td>4</td>\n",
       "      <td>3</td>\n",
       "      <td>4</td>\n",
       "      <td>4</td>\n",
       "      <td>1</td>\n",
       "    </tr>\n",
       "    <tr>\n",
       "      <th>4</th>\n",
       "      <td>5</td>\n",
       "      <td>3</td>\n",
       "      <td>4</td>\n",
       "      <td>5</td>\n",
       "      <td>4</td>\n",
       "    </tr>\n",
       "  </tbody>\n",
       "</table>\n",
       "</div>"
      ],
      "text/plain": [
       "   Customer_ID  Recency  Frequency  Monetary  Cluster\n",
       "0            1        1          3         3        3\n",
       "1            2        2          3         3        3\n",
       "2            3        1          3         3        3\n",
       "3            4        3          4         4        1\n",
       "4            5        3          4         5        4"
      ]
     },
     "execution_count": 72,
     "metadata": {},
     "output_type": "execute_result"
    }
   ],
   "source": [
    "df_rfm_score.head()"
   ]
  }
 ],
 "metadata": {
  "kernelspec": {
   "display_name": "Python 3 (ipykernel)",
   "language": "python",
   "name": "python3"
  },
  "language_info": {
   "codemirror_mode": {
    "name": "ipython",
    "version": 3
   },
   "file_extension": ".py",
   "mimetype": "text/x-python",
   "name": "python",
   "nbconvert_exporter": "python",
   "pygments_lexer": "ipython3",
   "version": "3.10.1"
  }
 },
 "nbformat": 4,
 "nbformat_minor": 5
}
