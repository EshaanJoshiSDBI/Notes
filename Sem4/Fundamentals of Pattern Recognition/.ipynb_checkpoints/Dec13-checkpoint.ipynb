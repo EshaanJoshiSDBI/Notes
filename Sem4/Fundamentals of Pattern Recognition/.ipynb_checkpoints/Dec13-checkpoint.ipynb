{
 "cells": [
  {
   "cell_type": "code",
   "execution_count": 33,
   "id": "97725c0f-1663-48d3-a34d-e09c2fc3aeb4",
   "metadata": {},
   "outputs": [],
   "source": [
    "import numpy as np\n",
    "import pandas as pd\n",
    "import seaborn as sns\n",
    "import scipy.stats as stats\n",
    "from sklearn.model_selection import train_test_split\n",
    "from sklearn.linear_model import LinearRegression\n",
    "from sklearn.metrics import r2_score\n",
    "from statsmodels.stats.stattools import durbin_watson\n",
    "from statsmodels.stats.diagnostic import het_breuschpagan\n",
    "from scipy.special import boxcox,boxcox1p, inv_boxcox\n",
    "from sklearn.preprocessing import StandardScaler\n",
    "from sklearn.decomposition import PCA"
   ]
  },
  {
   "cell_type": "code",
   "execution_count": 1,
   "id": "6ad04822-89de-4e6e-8577-80e61582d0d8",
   "metadata": {},
   "outputs": [],
   "source": [
    "import numpy as np\n",
    "import pandas as pd"
   ]
  },
  {
   "cell_type": "code",
   "execution_count": 6,
   "id": "d9d7ca35-daec-4bfe-9a06-445293b1141e",
   "metadata": {},
   "outputs": [
    {
     "name": "stderr",
     "output_type": "stream",
     "text": [
      "/home/eshaan/.local/lib/python3.9/site-packages/IPython/core/interactiveshell.py:3457: DtypeWarning: Columns (1) have mixed types.Specify dtype option on import or set low_memory=False.\n",
      "  exec(code_obj, self.user_global_ns, self.user_ns)\n"
     ]
    }
   ],
   "source": [
    "df = pd.read_csv('4. NSSO68 data set(1).csv')\n",
    "df.drop(df.columns[0],inplace=True,axis=1)"
   ]
  },
  {
   "cell_type": "code",
   "execution_count": 7,
   "id": "c098d1f9-6d41-465c-a1fc-becb488eba95",
   "metadata": {},
   "outputs": [
    {
     "data": {
      "text/html": [
       "<div>\n",
       "<style scoped>\n",
       "    .dataframe tbody tr th:only-of-type {\n",
       "        vertical-align: middle;\n",
       "    }\n",
       "\n",
       "    .dataframe tbody tr th {\n",
       "        vertical-align: top;\n",
       "    }\n",
       "\n",
       "    .dataframe thead th {\n",
       "        text-align: right;\n",
       "    }\n",
       "</style>\n",
       "<table border=\"1\" class=\"dataframe\">\n",
       "  <thead>\n",
       "    <tr style=\"text-align: right;\">\n",
       "      <th></th>\n",
       "      <th>grp</th>\n",
       "      <th>Round_Centre</th>\n",
       "      <th>FSU_number</th>\n",
       "      <th>Round</th>\n",
       "      <th>Schedule_Number</th>\n",
       "      <th>Sample</th>\n",
       "      <th>Sector</th>\n",
       "      <th>state</th>\n",
       "      <th>State_Region</th>\n",
       "      <th>District</th>\n",
       "      <th>...</th>\n",
       "      <th>pickle_v</th>\n",
       "      <th>sauce_jam_v</th>\n",
       "      <th>Othrprocessed_v</th>\n",
       "      <th>Beveragestotal_v</th>\n",
       "      <th>foodtotal_v</th>\n",
       "      <th>foodtotal_q</th>\n",
       "      <th>state_1</th>\n",
       "      <th>Region</th>\n",
       "      <th>fruits_df_tt_v</th>\n",
       "      <th>fv_tot</th>\n",
       "    </tr>\n",
       "  </thead>\n",
       "  <tbody>\n",
       "    <tr>\n",
       "      <th>0</th>\n",
       "      <td>40999999999999992652495293775872.0</td>\n",
       "      <td>1</td>\n",
       "      <td>41000</td>\n",
       "      <td>68</td>\n",
       "      <td>10</td>\n",
       "      <td>1</td>\n",
       "      <td>2</td>\n",
       "      <td>24</td>\n",
       "      <td>242</td>\n",
       "      <td>7</td>\n",
       "      <td>...</td>\n",
       "      <td>0.0</td>\n",
       "      <td>0.0</td>\n",
       "      <td>0.0</td>\n",
       "      <td>0.000000</td>\n",
       "      <td>1141.492400</td>\n",
       "      <td>30.942394</td>\n",
       "      <td>GUJ</td>\n",
       "      <td>2</td>\n",
       "      <td>12.000000</td>\n",
       "      <td>154.18</td>\n",
       "    </tr>\n",
       "    <tr>\n",
       "      <th>1</th>\n",
       "      <td>40999999999999992652495293775872.0</td>\n",
       "      <td>1</td>\n",
       "      <td>41000</td>\n",
       "      <td>68</td>\n",
       "      <td>10</td>\n",
       "      <td>1</td>\n",
       "      <td>2</td>\n",
       "      <td>24</td>\n",
       "      <td>242</td>\n",
       "      <td>7</td>\n",
       "      <td>...</td>\n",
       "      <td>0.0</td>\n",
       "      <td>0.0</td>\n",
       "      <td>0.0</td>\n",
       "      <td>17.500000</td>\n",
       "      <td>1244.553500</td>\n",
       "      <td>29.286153</td>\n",
       "      <td>GUJ</td>\n",
       "      <td>2</td>\n",
       "      <td>333.000000</td>\n",
       "      <td>484.95</td>\n",
       "    </tr>\n",
       "    <tr>\n",
       "      <th>2</th>\n",
       "      <td>40999999999999992652495293775872.0</td>\n",
       "      <td>1</td>\n",
       "      <td>41000</td>\n",
       "      <td>68</td>\n",
       "      <td>10</td>\n",
       "      <td>1</td>\n",
       "      <td>2</td>\n",
       "      <td>24</td>\n",
       "      <td>242</td>\n",
       "      <td>7</td>\n",
       "      <td>...</td>\n",
       "      <td>0.0</td>\n",
       "      <td>0.0</td>\n",
       "      <td>0.0</td>\n",
       "      <td>0.000000</td>\n",
       "      <td>1050.315400</td>\n",
       "      <td>31.527046</td>\n",
       "      <td>GUJ</td>\n",
       "      <td>2</td>\n",
       "      <td>35.000000</td>\n",
       "      <td>214.84</td>\n",
       "    </tr>\n",
       "    <tr>\n",
       "      <th>3</th>\n",
       "      <td>40999999999999992652495293775872.0</td>\n",
       "      <td>1</td>\n",
       "      <td>41000</td>\n",
       "      <td>68</td>\n",
       "      <td>10</td>\n",
       "      <td>1</td>\n",
       "      <td>2</td>\n",
       "      <td>24</td>\n",
       "      <td>242</td>\n",
       "      <td>7</td>\n",
       "      <td>...</td>\n",
       "      <td>0.0</td>\n",
       "      <td>0.0</td>\n",
       "      <td>0.0</td>\n",
       "      <td>33.333333</td>\n",
       "      <td>1142.591667</td>\n",
       "      <td>27.834607</td>\n",
       "      <td>GUJ</td>\n",
       "      <td>2</td>\n",
       "      <td>168.333333</td>\n",
       "      <td>302.30</td>\n",
       "    </tr>\n",
       "    <tr>\n",
       "      <th>4</th>\n",
       "      <td>40999999999999992652495293775872.0</td>\n",
       "      <td>1</td>\n",
       "      <td>41000</td>\n",
       "      <td>68</td>\n",
       "      <td>10</td>\n",
       "      <td>1</td>\n",
       "      <td>2</td>\n",
       "      <td>24</td>\n",
       "      <td>242</td>\n",
       "      <td>7</td>\n",
       "      <td>...</td>\n",
       "      <td>0.0</td>\n",
       "      <td>0.0</td>\n",
       "      <td>0.0</td>\n",
       "      <td>75.000000</td>\n",
       "      <td>945.249500</td>\n",
       "      <td>27.600713</td>\n",
       "      <td>GUJ</td>\n",
       "      <td>2</td>\n",
       "      <td>15.000000</td>\n",
       "      <td>148.00</td>\n",
       "    </tr>\n",
       "  </tbody>\n",
       "</table>\n",
       "<p>5 rows × 383 columns</p>\n",
       "</div>"
      ],
      "text/plain": [
       "                                  grp  Round_Centre  FSU_number  Round  \\\n",
       "0  40999999999999992652495293775872.0             1       41000     68   \n",
       "1  40999999999999992652495293775872.0             1       41000     68   \n",
       "2  40999999999999992652495293775872.0             1       41000     68   \n",
       "3  40999999999999992652495293775872.0             1       41000     68   \n",
       "4  40999999999999992652495293775872.0             1       41000     68   \n",
       "\n",
       "   Schedule_Number  Sample  Sector  state  State_Region  District  ...  \\\n",
       "0               10       1       2     24           242         7  ...   \n",
       "1               10       1       2     24           242         7  ...   \n",
       "2               10       1       2     24           242         7  ...   \n",
       "3               10       1       2     24           242         7  ...   \n",
       "4               10       1       2     24           242         7  ...   \n",
       "\n",
       "   pickle_v  sauce_jam_v  Othrprocessed_v  Beveragestotal_v  foodtotal_v  \\\n",
       "0       0.0          0.0              0.0          0.000000  1141.492400   \n",
       "1       0.0          0.0              0.0         17.500000  1244.553500   \n",
       "2       0.0          0.0              0.0          0.000000  1050.315400   \n",
       "3       0.0          0.0              0.0         33.333333  1142.591667   \n",
       "4       0.0          0.0              0.0         75.000000   945.249500   \n",
       "\n",
       "   foodtotal_q  state_1  Region  fruits_df_tt_v  fv_tot  \n",
       "0    30.942394      GUJ       2       12.000000  154.18  \n",
       "1    29.286153      GUJ       2      333.000000  484.95  \n",
       "2    31.527046      GUJ       2       35.000000  214.84  \n",
       "3    27.834607      GUJ       2      168.333333  302.30  \n",
       "4    27.600713      GUJ       2       15.000000  148.00  \n",
       "\n",
       "[5 rows x 383 columns]"
      ]
     },
     "execution_count": 7,
     "metadata": {},
     "output_type": "execute_result"
    }
   ],
   "source": [
    "df.head()"
   ]
  },
  {
   "cell_type": "code",
   "execution_count": 8,
   "id": "4110eb91-24ce-4cb1-ae36-59520c09eca4",
   "metadata": {},
   "outputs": [
    {
     "data": {
      "text/plain": [
       "(101662, 383)"
      ]
     },
     "execution_count": 8,
     "metadata": {},
     "output_type": "execute_result"
    }
   ],
   "source": [
    "df.shape"
   ]
  },
  {
   "cell_type": "code",
   "execution_count": 9,
   "id": "5be63a8c-5195-4ad9-864e-eb612793b865",
   "metadata": {},
   "outputs": [
    {
     "data": {
      "text/plain": [
       "Index(['grp', 'Round_Centre', 'FSU_number', 'Round', 'Schedule_Number',\n",
       "       'Sample', 'Sector', 'state', 'State_Region', 'District',\n",
       "       ...\n",
       "       'pickle_v', 'sauce_jam_v', 'Othrprocessed_v', 'Beveragestotal_v',\n",
       "       'foodtotal_v', 'foodtotal_q', 'state_1', 'Region', 'fruits_df_tt_v',\n",
       "       'fv_tot'],\n",
       "      dtype='object', length=383)"
      ]
     },
     "execution_count": 9,
     "metadata": {},
     "output_type": "execute_result"
    }
   ],
   "source": [
    "df.columns"
   ]
  },
  {
   "cell_type": "code",
   "execution_count": 10,
   "id": "d4e7dc47-f94d-433c-92cd-c8b861c46e29",
   "metadata": {},
   "outputs": [
    {
     "data": {
      "text/plain": [
       "50"
      ]
     },
     "execution_count": 10,
     "metadata": {},
     "output_type": "execute_result"
    }
   ],
   "source": [
    "df.columns.get_loc('MPCE_MRP')"
   ]
  },
  {
   "cell_type": "code",
   "execution_count": 11,
   "id": "0c15d429-87ac-427f-8937-4058fcc09a29",
   "metadata": {},
   "outputs": [],
   "source": [
    "df.drop(df.dtypes[df.dtypes == 'object'].index.tolist(),axis=1,inplace=True)"
   ]
  },
  {
   "cell_type": "code",
   "execution_count": 12,
   "id": "d29b242d-a1fb-4caf-b4ea-79ea822b06cb",
   "metadata": {},
   "outputs": [
    {
     "data": {
      "text/plain": [
       "(101662, 381)"
      ]
     },
     "execution_count": 12,
     "metadata": {},
     "output_type": "execute_result"
    }
   ],
   "source": [
    "df.shape"
   ]
  },
  {
   "cell_type": "code",
   "execution_count": 13,
   "id": "cd7cf101-4cf4-4bc4-90b3-6d3ae572e601",
   "metadata": {},
   "outputs": [
    {
     "data": {
      "text/plain": [
       "Round_Centre       0\n",
       "FSU_number         0\n",
       "Round              0\n",
       "Schedule_Number    0\n",
       "Sample             0\n",
       "                  ..\n",
       "foodtotal_v        0\n",
       "foodtotal_q        0\n",
       "Region             0\n",
       "fruits_df_tt_v     0\n",
       "fv_tot             0\n",
       "Length: 381, dtype: int64"
      ]
     },
     "execution_count": 13,
     "metadata": {},
     "output_type": "execute_result"
    }
   ],
   "source": [
    "df.isna().sum()"
   ]
  },
  {
   "cell_type": "code",
   "execution_count": 26,
   "id": "e7948497-afdc-47c0-9918-dbfce2e0a498",
   "metadata": {},
   "outputs": [],
   "source": [
    "df.drop(df.isna().sum()[df.isna().sum() > 0].index.tolist(),axis=1,inplace=True)"
   ]
  },
  {
   "cell_type": "code",
   "execution_count": 15,
   "id": "b91236ea-d4e0-40d5-b09b-c201717e69e8",
   "metadata": {},
   "outputs": [
    {
     "data": {
      "text/plain": [
       "(101662, 345)"
      ]
     },
     "execution_count": 15,
     "metadata": {},
     "output_type": "execute_result"
    }
   ],
   "source": [
    "df.shape"
   ]
  },
  {
   "cell_type": "code",
   "execution_count": 19,
   "id": "adeaca1d-00d8-4a3f-9c78-d8f80482c280",
   "metadata": {},
   "outputs": [],
   "source": [
    "x = df.loc[:,df.corr()['MPCE_MRP'][df.corr()['MPCE_MRP']>0.3].index]"
   ]
  },
  {
   "cell_type": "code",
   "execution_count": 20,
   "id": "a293be72-b8f4-459a-8de0-2e90b78992c1",
   "metadata": {},
   "outputs": [
    {
     "data": {
      "text/plain": [
       "(101662, 31)"
      ]
     },
     "execution_count": 20,
     "metadata": {},
     "output_type": "execute_result"
    }
   ],
   "source": [
    "x.shape"
   ]
  },
  {
   "cell_type": "code",
   "execution_count": 21,
   "id": "193bc401-a571-401e-a778-7091c2d820c9",
   "metadata": {},
   "outputs": [],
   "source": [
    "x.drop('MPCE_MRP',axis=1,inplace=True)"
   ]
  },
  {
   "cell_type": "code",
   "execution_count": 28,
   "id": "586d2d31-d413-4bfc-b4c8-38961f218517",
   "metadata": {},
   "outputs": [
    {
     "data": {
      "text/plain": [
       "MPCE_URP          False\n",
       "milk_q            False\n",
       "milkprott_q       False\n",
       "edibletotal_q     False\n",
       "bananano_q        False\n",
       "apple_q           False\n",
       "fruitt_total      False\n",
       "spicetot_q        False\n",
       "spicestotal_q     False\n",
       "pulsestot_v       False\n",
       "pulsestt_v        False\n",
       "milk_v            False\n",
       "Milktotal_v       False\n",
       "milkprott_v       False\n",
       "edibletotal_v     False\n",
       "emftt_v           False\n",
       "onion_v           False\n",
       "tamato_v          False\n",
       "vegtt_v           False\n",
       "bananano_v        False\n",
       "apple_v           False\n",
       "dftt_v            False\n",
       "sugartotal_v      False\n",
       "spicetot_v        False\n",
       "spicestotal_v     False\n",
       "Biscuits_v        False\n",
       "foodtotal_v       False\n",
       "foodtotal_q       False\n",
       "fruits_df_tt_v    False\n",
       "fv_tot            False\n",
       "dtype: bool"
      ]
     },
     "execution_count": 28,
     "metadata": {},
     "output_type": "execute_result"
    }
   ],
   "source": [
    "(x.isna().sum() > 0)"
   ]
  },
  {
   "cell_type": "code",
   "execution_count": 22,
   "id": "cc8d7091-9f01-4571-aa04-7a409e5a1180",
   "metadata": {},
   "outputs": [
    {
     "data": {
      "text/plain": [
       "25"
      ]
     },
     "execution_count": 22,
     "metadata": {},
     "output_type": "execute_result"
    }
   ],
   "source": [
    "df.columns.get_loc('MPCE_MRP')"
   ]
  },
  {
   "cell_type": "code",
   "execution_count": 30,
   "id": "f2800a4f-9c9f-461b-a371-8095fda2cf02",
   "metadata": {},
   "outputs": [],
   "source": [
    "x.drop(x.isna().sum()[x.isna().sum() > 0].index.tolist(),axis=1,inplace=True)"
   ]
  },
  {
   "cell_type": "code",
   "execution_count": 31,
   "id": "6e42e070-907b-40eb-ad6d-a751b986b26c",
   "metadata": {},
   "outputs": [],
   "source": [
    "y = df.iloc[:,25]"
   ]
  },
  {
   "cell_type": "code",
   "execution_count": 34,
   "id": "63d46cec-8a7d-45e3-8559-cf170121969c",
   "metadata": {},
   "outputs": [],
   "source": [
    "x_train,x_test,y_train,y_test = train_test_split(x,y,train_size = 0.8,random_state=100)"
   ]
  },
  {
   "cell_type": "code",
   "execution_count": 35,
   "id": "29f35a31-e693-444f-891a-189033ee6fa8",
   "metadata": {},
   "outputs": [],
   "source": [
    "model = LinearRegression().fit(x_train,y_train)"
   ]
  },
  {
   "cell_type": "code",
   "execution_count": 37,
   "id": "6c5b897c-e532-48af-ac6e-091e4e64a948",
   "metadata": {},
   "outputs": [],
   "source": [
    "pred = model.predict(x_test)"
   ]
  },
  {
   "cell_type": "code",
   "execution_count": 38,
   "id": "8981252b-fab3-4181-9aee-57532c4aa9d7",
   "metadata": {},
   "outputs": [
    {
     "data": {
      "text/plain": [
       "0.5719314601376304"
      ]
     },
     "execution_count": 38,
     "metadata": {},
     "output_type": "execute_result"
    }
   ],
   "source": [
    "r2_score(y_test,pred)"
   ]
  },
  {
   "cell_type": "markdown",
   "id": "a3b4f7bf-289c-4588-b1e0-2dc146e15aaf",
   "metadata": {},
   "source": [
    "### Normalization"
   ]
  },
  {
   "cell_type": "code",
   "execution_count": 39,
   "id": "ad050a67-099c-4d45-8e8f-59da2ad12aa2",
   "metadata": {},
   "outputs": [],
   "source": [
    "scaler = StandardScaler()"
   ]
  },
  {
   "cell_type": "code",
   "execution_count": 49,
   "id": "42f7ab79-6971-40ce-b077-b46fe18d9fc0",
   "metadata": {},
   "outputs": [],
   "source": [
    "x_scaled = scaler.fit_transform(x)"
   ]
  },
  {
   "cell_type": "code",
   "execution_count": 50,
   "id": "43118d08-8cf6-4700-b411-0fd40f3f9473",
   "metadata": {},
   "outputs": [
    {
     "data": {
      "text/plain": [
       "(101662, 30)"
      ]
     },
     "execution_count": 50,
     "metadata": {},
     "output_type": "execute_result"
    }
   ],
   "source": [
    "x_scaled.shape"
   ]
  },
  {
   "cell_type": "code",
   "execution_count": 51,
   "id": "99cd9579-e355-42aa-a16d-799a0af01092",
   "metadata": {},
   "outputs": [
    {
     "data": {
      "text/plain": [
       "False"
      ]
     },
     "execution_count": 51,
     "metadata": {},
     "output_type": "execute_result"
    }
   ],
   "source": [
    "np.any(np.isnan(x_scaled))"
   ]
  },
  {
   "cell_type": "code",
   "execution_count": 52,
   "id": "5a5c601b-85ba-43ac-8c14-d93c5a9d0c28",
   "metadata": {},
   "outputs": [
    {
     "data": {
      "text/plain": [
       "True"
      ]
     },
     "execution_count": 52,
     "metadata": {},
     "output_type": "execute_result"
    }
   ],
   "source": [
    "np.any(np.isfinite(x_scaled))"
   ]
  },
  {
   "cell_type": "code",
   "execution_count": 53,
   "id": "597de56a-c7ca-4b75-8597-01305a95e96d",
   "metadata": {},
   "outputs": [],
   "source": [
    "x_scaled = np.nan_to_num(x_scaled)"
   ]
  },
  {
   "cell_type": "code",
   "execution_count": 54,
   "id": "1e2b690a-8d57-4e34-84df-84a96e2a2de8",
   "metadata": {},
   "outputs": [
    {
     "data": {
      "text/plain": [
       "(101662, 30)"
      ]
     },
     "execution_count": 54,
     "metadata": {},
     "output_type": "execute_result"
    }
   ],
   "source": [
    "x_scaled.shape"
   ]
  },
  {
   "cell_type": "markdown",
   "id": "e3f5d11e-01cb-4bc4-9819-32741599ac5e",
   "metadata": {},
   "source": [
    "### Performing PCA"
   ]
  },
  {
   "cell_type": "code",
   "execution_count": 55,
   "id": "9f8d7090-f35a-4f33-a494-b81730f3a26a",
   "metadata": {},
   "outputs": [],
   "source": [
    "pca = PCA(n_components=0.95)"
   ]
  },
  {
   "cell_type": "code",
   "execution_count": 56,
   "id": "db5a477f-e411-4054-b848-48a0be35acf9",
   "metadata": {},
   "outputs": [],
   "source": [
    "X = x_scaled - np.mean(x_scaled,axis=0)\n",
    "cov_mat = np.dot(X.T,X)/X.shape[0]"
   ]
  },
  {
   "cell_type": "code",
   "execution_count": 57,
   "id": "4939c5dd-951f-40e1-b057-85d515baa23b",
   "metadata": {},
   "outputs": [
    {
     "data": {
      "text/plain": [
       "array([[ 1.        ,  0.17347082,  0.17915311,  0.16897859,  0.19207765,\n",
       "         0.19250031,  0.26479714,  0.1960377 ,  0.19206244,  0.18271764,\n",
       "         0.18271764,  0.19453592,  0.22287249,  0.22219512,  0.18612048,\n",
       "         0.1861996 ,  0.17659906,  0.16478809,  0.19373738,  0.2117967 ,\n",
       "         0.21403055,  0.16520506,  0.17615837,  0.22255855,  0.21616589,\n",
       "         0.15593969,  0.31560134,  0.19657759,  0.27145099,  0.28595461],\n",
       "       [ 0.17347082,  1.        ,  0.99851482,  0.29511031,  0.1534594 ,\n",
       "         0.27653781,  0.2857595 ,  0.18777648,  0.19218955,  0.29161606,\n",
       "         0.29161606,  0.95321303,  0.90731132,  0.91010455,  0.28050735,\n",
       "        -0.06069733,  0.23944036,  0.24515985,  0.18278401,  0.19340609,\n",
       "         0.24648217,  0.22401215,  0.44614384,  0.25391882,  0.26273137,\n",
       "         0.11249616,  0.59508268,  0.72793225,  0.3182997 ,  0.30791477],\n",
       "       [ 0.17915311,  0.99851482,  1.        ,  0.30564966,  0.16061786,\n",
       "         0.28327166,  0.29529465,  0.1961324 ,  0.20042968,  0.3018755 ,\n",
       "         0.3018755 ,  0.95303189,  0.91700123,  0.91946765,  0.29129607,\n",
       "        -0.05449049,  0.24807583,  0.25490424,  0.19248645,  0.20165447,\n",
       "         0.25311139,  0.23390283,  0.45585171,  0.26422394,  0.27294332,\n",
       "         0.11862339,  0.60924875,  0.73497267,  0.33026041,  0.32123402],\n",
       "       [ 0.16897859,  0.29511031,  0.30564966,  1.        ,  0.19323177,\n",
       "         0.19022594,  0.25389909,  0.47587956,  0.47500821,  0.61700336,\n",
       "         0.61700336,  0.30786359,  0.35294031,  0.35186065,  0.94577443,\n",
       "         0.17234587,  0.43364001,  0.40044368,  0.45343854,  0.19155213,\n",
       "         0.19135821,  0.34149769,  0.58558203,  0.5439314 ,  0.54231055,\n",
       "         0.12793857,  0.58433578,  0.5643807 ,  0.36181541,  0.50160404],\n",
       "       [ 0.19207765,  0.1534594 ,  0.16061786,  0.19323177,  1.        ,\n",
       "         0.26524642,  0.37103718,  0.29571051,  0.28495172,  0.2746526 ,\n",
       "         0.2746526 ,  0.16721899,  0.19237655,  0.19176783,  0.19380957,\n",
       "         0.21565664,  0.25602221,  0.20492695,  0.23403162,  0.87042154,\n",
       "         0.2909326 ,  0.20088138,  0.1542138 ,  0.30974754,  0.29361233,\n",
       "         0.17789416,  0.32314962,  0.19806572,  0.36338758,  0.36717797],\n",
       "       [ 0.19250031,  0.27653781,  0.28327166,  0.19022594,  0.26524642,\n",
       "         1.        ,  0.65479026,  0.15418327,  0.1519273 ,  0.21221965,\n",
       "         0.21221965,  0.29395185,  0.32499084,  0.324357  ,  0.2033755 ,\n",
       "         0.13130332,  0.22487939,  0.2186449 ,  0.23313594,  0.28347734,\n",
       "         0.91447125,  0.25570926,  0.19040945,  0.20997714,  0.20592662,\n",
       "         0.21790162,  0.36851399,  0.26713684,  0.58650097,  0.50339812],\n",
       "       [ 0.26479714,  0.2857595 ,  0.29529465,  0.25389909,  0.37103718,\n",
       "         0.65479026,  1.        ,  0.30107083,  0.29332668,  0.31222812,\n",
       "         0.31222812,  0.32272495,  0.36799958,  0.36693325,  0.29129942,\n",
       "         0.2654363 ,  0.27922768,  0.29317061,  0.34712706,  0.40665257,\n",
       "         0.7415666 ,  0.30697241,  0.25587085,  0.33711118,  0.32189873,\n",
       "         0.2703291 ,  0.495464  ,  0.31251852,  0.84937509,  0.73488578],\n",
       "       [ 0.1960377 ,  0.18777648,  0.1961324 ,  0.47587956,  0.29571051,\n",
       "         0.15418327,  0.30107083,  1.        ,  0.99456171,  0.49543162,\n",
       "         0.49543162,  0.18915381,  0.21688675,  0.21622216,  0.44668021,\n",
       "         0.3630851 ,  0.47626316,  0.37434425,  0.40530347,  0.29658079,\n",
       "         0.18963406,  0.21409836,  0.34772015,  0.89870373,  0.89081083,\n",
       "         0.11756975,  0.4811075 ,  0.42822954,  0.32320037,  0.44822947],\n",
       "       [ 0.19206244,  0.19218955,  0.20042968,  0.47500821,  0.28495172,\n",
       "         0.1519273 ,  0.29332668,  0.99456171,  1.        ,  0.48863125,\n",
       "         0.48863125,  0.19263281,  0.22051168,  0.21984691,  0.4455319 ,\n",
       "         0.35612011,  0.47207698,  0.37109127,  0.4021343 ,  0.28785457,\n",
       "         0.18444158,  0.20778799,  0.35168865,  0.8886727 ,  0.8964741 ,\n",
       "         0.11562516,  0.47917908,  0.43376268,  0.31444151,  0.44090451],\n",
       "       [ 0.18271764,  0.29161606,  0.3018755 ,  0.61700336,  0.2746526 ,\n",
       "         0.21221965,  0.31222812,  0.49543162,  0.48863125,  1.        ,\n",
       "         1.        ,  0.29996382,  0.33563917,  0.33485998,  0.5770107 ,\n",
       "         0.11536231,  0.43818565,  0.40983245,  0.40019485,  0.27321192,\n",
       "         0.23351446,  0.29883501,  0.51898873,  0.53502909,  0.52421433,\n",
       "         0.13303726,  0.56192894,  0.5371475 ,  0.3777697 ,  0.47852915],\n",
       "       [ 0.18271764,  0.29161606,  0.3018755 ,  0.61700336,  0.2746526 ,\n",
       "         0.21221965,  0.31222812,  0.49543162,  0.48863125,  1.        ,\n",
       "         1.        ,  0.29996382,  0.33563917,  0.33485998,  0.5770107 ,\n",
       "         0.11536231,  0.43818565,  0.40983245,  0.40019485,  0.27321192,\n",
       "         0.23351446,  0.29883501,  0.51898873,  0.53502909,  0.52421433,\n",
       "         0.13303726,  0.56192894,  0.5371475 ,  0.3777697 ,  0.47852915],\n",
       "       [ 0.19453592,  0.95321303,  0.95303189,  0.30786359,  0.16721899,\n",
       "         0.29395185,  0.32272495,  0.18915381,  0.19263281,  0.29996382,\n",
       "         0.29996382,  1.        ,  0.95979676,  0.96246403,  0.3053983 ,\n",
       "        -0.0541392 ,  0.24335108,  0.26638663,  0.21617821,  0.21140247,\n",
       "         0.27560575,  0.25041121,  0.45858225,  0.25914041,  0.26549827,\n",
       "         0.13971548,  0.63647948,  0.68248266,  0.35804437,  0.35288565],\n",
       "       [ 0.22287249,  0.90731132,  0.91700123,  0.35294031,  0.19237655,\n",
       "         0.32499084,  0.36799958,  0.21688675,  0.22051168,  0.33563917,\n",
       "         0.33563917,  0.95979676,  1.        ,  0.99995332,  0.35594447,\n",
       "        -0.01837955,  0.27008213,  0.31016229,  0.26914986,  0.24050296,\n",
       "         0.31109861,  0.32048404,  0.51537241,  0.29920625,  0.30533459,\n",
       "         0.17647677,  0.7058063 ,  0.69106184,  0.42765207,  0.42824383],\n",
       "       [ 0.22219512,  0.91010455,  0.91946765,  0.35186065,  0.19176783,\n",
       "         0.324357  ,  0.36693325,  0.21622216,  0.21984691,  0.33485998,\n",
       "         0.33485998,  0.96246403,  0.99995332,  1.        ,  0.35468056,\n",
       "        -0.01963502,  0.26952316,  0.30907021,  0.2676864 ,  0.23982287,\n",
       "         0.31029289,  0.31850057,  0.51410675,  0.29822721,  0.30437166,\n",
       "         0.17544738,  0.70436376,  0.69169061,  0.42582792,  0.42622253],\n",
       "       [ 0.18612048,  0.28050735,  0.29129607,  0.94577443,  0.19380957,\n",
       "         0.2033755 ,  0.29129942,  0.44668021,  0.4455319 ,  0.5770107 ,\n",
       "         0.5770107 ,  0.3053983 ,  0.35594447,  0.35468056,  1.        ,\n",
       "         0.22276131,  0.41880791,  0.38653744,  0.49991385,  0.20098735,\n",
       "         0.21565684,  0.32695824,  0.54554957,  0.5284852 ,  0.52493836,\n",
       "         0.1624656 ,  0.61894335,  0.54697873,  0.37915236,  0.54091053],\n",
       "       [ 0.1861996 , -0.06069733, -0.05449049,  0.17234587,  0.21565664,\n",
       "         0.13130332,  0.2654363 ,  0.3630851 ,  0.35612011,  0.11536231,\n",
       "         0.11536231, -0.0541392 , -0.01837955, -0.01963502,  0.22276131,\n",
       "         1.        ,  0.30534428,  0.13960395,  0.31793389,  0.22534007,\n",
       "         0.16421407,  0.0509247 ,  0.04964412,  0.3589027 ,  0.34790421,\n",
       "         0.17311916,  0.49298867,  0.20078556,  0.20850918,  0.32400824],\n",
       "       [ 0.17659906,  0.23944036,  0.24807583,  0.43364001,  0.25602221,\n",
       "         0.22487939,  0.27922768,  0.47626316,  0.47207698,  0.43818565,\n",
       "         0.43818565,  0.24335108,  0.27008213,  0.26952316,  0.41880791,\n",
       "         0.30534428,  1.        ,  0.49472387,  0.59798055,  0.2698205 ,\n",
       "         0.22064532,  0.1322818 ,  0.3230744 ,  0.52138542,  0.51656147,\n",
       "         0.14949856,  0.5162087 ,  0.49783842,  0.26299324,  0.53021693],\n",
       "       [ 0.16478809,  0.24515985,  0.25490424,  0.40044368,  0.20492695,\n",
       "         0.2186449 ,  0.29317061,  0.37434425,  0.37109127,  0.40983245,\n",
       "         0.40983245,  0.26638663,  0.31016229,  0.30907021,  0.38653744,\n",
       "         0.13960395,  0.49472387,  1.        ,  0.60778786,  0.23464298,\n",
       "         0.22526209,  0.14978003,  0.29810357,  0.42337833,  0.41651363,\n",
       "         0.15180689,  0.4587784 ,  0.41097618,  0.28216634,  0.54802222],\n",
       "       [ 0.19373738,  0.18278401,  0.19248645,  0.45343854,  0.23403162,\n",
       "         0.23313594,  0.34712706,  0.40530347,  0.4021343 ,  0.40019485,\n",
       "         0.40019485,  0.21617821,  0.26914986,  0.2676864 ,  0.49991385,\n",
       "         0.31793389,  0.59798055,  0.60778786,  1.        ,  0.24654138,\n",
       "         0.2597924 ,  0.15510064,  0.29981479,  0.48478484,  0.47549204,\n",
       "         0.2366115 ,  0.61255667,  0.55076331,  0.32176088,  0.81431752],\n",
       "       [ 0.2117967 ,  0.19340609,  0.20165447,  0.19155213,  0.87042154,\n",
       "         0.28347734,  0.40665257,  0.29658079,  0.28785457,  0.27321192,\n",
       "         0.27321192,  0.21140247,  0.24050296,  0.23982287,  0.20098735,\n",
       "         0.22534007,  0.2698205 ,  0.23464298,  0.24654138,  1.        ,\n",
       "         0.3078556 ,  0.20140441,  0.1652258 ,  0.32457414,  0.31174708,\n",
       "         0.1981127 ,  0.35445189,  0.21025412,  0.38786543,  0.38990279],\n",
       "       [ 0.21403055,  0.24648217,  0.25311139,  0.19135821,  0.2909326 ,\n",
       "         0.91447125,  0.7415666 ,  0.18963406,  0.18444158,  0.23351446,\n",
       "         0.23351446,  0.27560575,  0.31109861,  0.31029289,  0.21565684,\n",
       "         0.16421407,  0.22064532,  0.22526209,  0.2597924 ,  0.3078556 ,\n",
       "         1.        ,  0.28231376,  0.18370729,  0.23532077,  0.22482363,\n",
       "         0.24178466,  0.38541019,  0.23923763,  0.66018808,  0.56501871],\n",
       "       [ 0.16520506,  0.22401215,  0.23390283,  0.34149769,  0.20088138,\n",
       "         0.25570926,  0.30697241,  0.21409836,  0.20778799,  0.29883501,\n",
       "         0.29883501,  0.25041121,  0.32048404,  0.31850057,  0.32695824,\n",
       "         0.0509247 ,  0.1322818 ,  0.14978003,  0.15510064,  0.20140441,\n",
       "         0.28231376,  1.        ,  0.357216  ,  0.2721138 ,  0.26042068,\n",
       "         0.12194237,  0.39492152,  0.25334158,  0.76304188,  0.56346775],\n",
       "       [ 0.17615837,  0.44614384,  0.45585171,  0.58558203,  0.1542138 ,\n",
       "         0.19040945,  0.25587085,  0.34772015,  0.35168865,  0.51898873,\n",
       "         0.51898873,  0.45858225,  0.51537241,  0.51410675,  0.54554957,\n",
       "         0.04964412,  0.3230744 ,  0.29810357,  0.29981479,  0.1652258 ,\n",
       "         0.18370729,  0.357216  ,  1.        ,  0.39903538,  0.40477956,\n",
       "         0.11353173,  0.56696366,  0.59108094,  0.37187133,  0.41297162],\n",
       "       [ 0.22255855,  0.25391882,  0.26422394,  0.5439314 ,  0.30974754,\n",
       "         0.20997714,  0.33711118,  0.89870373,  0.8886727 ,  0.53502909,\n",
       "         0.53502909,  0.25914041,  0.29920625,  0.29822721,  0.5284852 ,\n",
       "         0.3589027 ,  0.52138542,  0.42337833,  0.48478484,  0.32457414,\n",
       "         0.23532077,  0.2721138 ,  0.39903538,  1.        ,  0.98505833,\n",
       "         0.15981872,  0.56450348,  0.4875903 ,  0.37985011,  0.53200257],\n",
       "       [ 0.21616589,  0.26273137,  0.27294332,  0.54231055,  0.29361233,\n",
       "         0.20592662,  0.32189873,  0.89081083,  0.8964741 ,  0.52421433,\n",
       "         0.52421433,  0.26549827,  0.30533459,  0.30437166,  0.52493836,\n",
       "         0.34790421,  0.51656147,  0.41651363,  0.47549204,  0.31174708,\n",
       "         0.22482363,  0.26042068,  0.40477956,  0.98505833,  1.        ,\n",
       "         0.15316085,  0.56044413,  0.49678635,  0.36303414,  0.51595974],\n",
       "       [ 0.15593969,  0.11249616,  0.11862339,  0.12793857,  0.17789416,\n",
       "         0.21790162,  0.2703291 ,  0.11756975,  0.11562516,  0.13303726,\n",
       "         0.13303726,  0.13971548,  0.17647677,  0.17544738,  0.1624656 ,\n",
       "         0.17311916,  0.14949856,  0.15180689,  0.2366115 ,  0.1981127 ,\n",
       "         0.24178466,  0.12194237,  0.11353173,  0.15981872,  0.15316085,\n",
       "         1.        ,  0.3125273 ,  0.12752096,  0.25121599,  0.30000657],\n",
       "       [ 0.31560134,  0.59508268,  0.60924875,  0.58433578,  0.32314962,\n",
       "         0.36851399,  0.495464  ,  0.4811075 ,  0.47917908,  0.56192894,\n",
       "         0.56192894,  0.63647948,  0.7058063 ,  0.70436376,  0.61894335,\n",
       "         0.49298867,  0.5162087 ,  0.4587784 ,  0.61255667,  0.35445189,\n",
       "         0.38541019,  0.39492152,  0.56696366,  0.56450348,  0.56044413,\n",
       "         0.3125273 ,  1.        ,  0.78793439,  0.55549854,  0.71852288],\n",
       "       [ 0.19657759,  0.72793225,  0.73497267,  0.5643807 ,  0.19806572,\n",
       "         0.26713684,  0.31251852,  0.42822954,  0.43376268,  0.5371475 ,\n",
       "         0.5371475 ,  0.68248266,  0.69106184,  0.69169061,  0.54697873,\n",
       "         0.20078556,  0.49783842,  0.41097618,  0.55076331,  0.21025412,\n",
       "         0.23923763,  0.25334158,  0.59108094,  0.4875903 ,  0.49678635,\n",
       "         0.12752096,  0.78793439,  1.        ,  0.35273786,  0.5560957 ],\n",
       "       [ 0.27145099,  0.3182997 ,  0.33026041,  0.36181541,  0.36338758,\n",
       "         0.58650097,  0.84937509,  0.32320037,  0.31444151,  0.3777697 ,\n",
       "         0.3777697 ,  0.35804437,  0.42765207,  0.42582792,  0.37915236,\n",
       "         0.20850918,  0.26299324,  0.28216634,  0.32176088,  0.38786543,\n",
       "         0.66018808,  0.76304188,  0.37187133,  0.37985011,  0.36303414,\n",
       "         0.25121599,  0.55549854,  0.35273786,  1.        ,  0.81156903],\n",
       "       [ 0.28595461,  0.30791477,  0.32123402,  0.50160404,  0.36717797,\n",
       "         0.50339812,  0.73488578,  0.44822947,  0.44090451,  0.47852915,\n",
       "         0.47852915,  0.35288565,  0.42824383,  0.42622253,  0.54091053,\n",
       "         0.32400824,  0.53021693,  0.54802222,  0.81431752,  0.38990279,\n",
       "         0.56501871,  0.56346775,  0.41297162,  0.53200257,  0.51595974,\n",
       "         0.30000657,  0.71852288,  0.5560957 ,  0.81156903,  1.        ]])"
      ]
     },
     "execution_count": 57,
     "metadata": {},
     "output_type": "execute_result"
    }
   ],
   "source": [
    "cov_mat"
   ]
  },
  {
   "cell_type": "code",
   "execution_count": 59,
   "id": "d03715dc-27be-4778-aba0-cedd567bcc3e",
   "metadata": {},
   "outputs": [],
   "source": [
    "x = pca.fit_transform(x_scaled)"
   ]
  },
  {
   "cell_type": "code",
   "execution_count": 60,
   "id": "2960c4a0-76b8-4c34-9626-fa11a48550e3",
   "metadata": {},
   "outputs": [],
   "source": [
    "x_train,x_test,y_train,y_test = train_test_split(x,y,train_size = 0.8,random_state=100)"
   ]
  },
  {
   "cell_type": "code",
   "execution_count": 61,
   "id": "63cd8e1f-5668-4b89-9a2e-1013b2926c0e",
   "metadata": {},
   "outputs": [],
   "source": [
    "model_pca = LinearRegression().fit(x_train,y_train)"
   ]
  },
  {
   "cell_type": "code",
   "execution_count": 62,
   "id": "759c5897-0906-4ec0-b158-477fc2f907ce",
   "metadata": {},
   "outputs": [],
   "source": [
    "pred_pca = model_pca.predict(x_test)"
   ]
  },
  {
   "cell_type": "code",
   "execution_count": 63,
   "id": "b0a3a4af-2483-426f-9e92-6443f12e64e2",
   "metadata": {},
   "outputs": [
    {
     "data": {
      "text/plain": [
       "0.5605539090335274"
      ]
     },
     "execution_count": 63,
     "metadata": {},
     "output_type": "execute_result"
    }
   ],
   "source": [
    "r2_score(y_test,pred_pca)"
   ]
  },
  {
   "cell_type": "code",
   "execution_count": 64,
   "id": "aa14cadc-ef63-4478-a396-d83728a8fd87",
   "metadata": {},
   "outputs": [
    {
     "data": {
      "text/plain": [
       "array([0.40007658, 0.12684011, 0.09379072, 0.05502317, 0.04635376,\n",
       "       0.04392408, 0.03530601, 0.03085276, 0.02787466, 0.02756175,\n",
       "       0.02355136, 0.01656072, 0.01535452, 0.01440669])"
      ]
     },
     "execution_count": 64,
     "metadata": {},
     "output_type": "execute_result"
    }
   ],
   "source": [
    "pca.explained_variance_ratio_"
   ]
  },
  {
   "cell_type": "code",
   "execution_count": null,
   "id": "499e4689-bcb3-4ade-911d-fb99801fc7b4",
   "metadata": {},
   "outputs": [],
   "source": []
  },
  {
   "cell_type": "code",
   "execution_count": null,
   "id": "8f38705a-9f5d-44ec-ac8f-c24a3d579790",
   "metadata": {},
   "outputs": [],
   "source": []
  }
 ],
 "metadata": {
  "kernelspec": {
   "display_name": "Python 3 (ipykernel)",
   "language": "python",
   "name": "python3"
  },
  "language_info": {
   "codemirror_mode": {
    "name": "ipython",
    "version": 3
   },
   "file_extension": ".py",
   "mimetype": "text/x-python",
   "name": "python",
   "nbconvert_exporter": "python",
   "pygments_lexer": "ipython3",
   "version": "3.9.9"
  }
 },
 "nbformat": 4,
 "nbformat_minor": 5
}
