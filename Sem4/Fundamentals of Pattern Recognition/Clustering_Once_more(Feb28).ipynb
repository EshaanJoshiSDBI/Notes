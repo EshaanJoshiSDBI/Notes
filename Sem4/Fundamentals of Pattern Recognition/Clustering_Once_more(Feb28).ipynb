{
 "cells": [
  {
   "cell_type": "code",
   "execution_count": 15,
   "id": "c0a12738-4a0f-4a4d-866d-145f95956929",
   "metadata": {},
   "outputs": [],
   "source": [
    "import numpy as np\n",
    "import pandas as pd\n",
    "import seaborn as sns\n",
    "from scipy.cluster.hierarchy import dendrogram, linkage, fcluster, cophenet\n",
    "from scipy.spatial.distance import cdist\n",
    "from sklearn.cluster import AgglomerativeClustering, KMeans, DBSCAN\n",
    "import matplotlib.pyplot as plt"
   ]
  },
  {
   "cell_type": "code",
   "execution_count": 2,
   "id": "819d7e95-311a-4478-8b87-a3fd754a41e1",
   "metadata": {},
   "outputs": [],
   "source": [
    "df = pd.read_csv('Mall_Customers.csv')"
   ]
  },
  {
   "cell_type": "code",
   "execution_count": 3,
   "id": "521d32e6-109f-474c-bad0-f466538ee6c5",
   "metadata": {},
   "outputs": [
    {
     "data": {
      "text/html": [
       "<div>\n",
       "<style scoped>\n",
       "    .dataframe tbody tr th:only-of-type {\n",
       "        vertical-align: middle;\n",
       "    }\n",
       "\n",
       "    .dataframe tbody tr th {\n",
       "        vertical-align: top;\n",
       "    }\n",
       "\n",
       "    .dataframe thead th {\n",
       "        text-align: right;\n",
       "    }\n",
       "</style>\n",
       "<table border=\"1\" class=\"dataframe\">\n",
       "  <thead>\n",
       "    <tr style=\"text-align: right;\">\n",
       "      <th></th>\n",
       "      <th>CustomerID</th>\n",
       "      <th>Genre</th>\n",
       "      <th>Age</th>\n",
       "      <th>Annual Income (k$)</th>\n",
       "      <th>Spending Score (1-100)</th>\n",
       "    </tr>\n",
       "  </thead>\n",
       "  <tbody>\n",
       "    <tr>\n",
       "      <th>0</th>\n",
       "      <td>1</td>\n",
       "      <td>Male</td>\n",
       "      <td>19</td>\n",
       "      <td>15</td>\n",
       "      <td>39</td>\n",
       "    </tr>\n",
       "    <tr>\n",
       "      <th>1</th>\n",
       "      <td>2</td>\n",
       "      <td>Male</td>\n",
       "      <td>21</td>\n",
       "      <td>15</td>\n",
       "      <td>81</td>\n",
       "    </tr>\n",
       "    <tr>\n",
       "      <th>2</th>\n",
       "      <td>3</td>\n",
       "      <td>Female</td>\n",
       "      <td>20</td>\n",
       "      <td>16</td>\n",
       "      <td>6</td>\n",
       "    </tr>\n",
       "    <tr>\n",
       "      <th>3</th>\n",
       "      <td>4</td>\n",
       "      <td>Female</td>\n",
       "      <td>23</td>\n",
       "      <td>16</td>\n",
       "      <td>77</td>\n",
       "    </tr>\n",
       "    <tr>\n",
       "      <th>4</th>\n",
       "      <td>5</td>\n",
       "      <td>Female</td>\n",
       "      <td>31</td>\n",
       "      <td>17</td>\n",
       "      <td>40</td>\n",
       "    </tr>\n",
       "  </tbody>\n",
       "</table>\n",
       "</div>"
      ],
      "text/plain": [
       "   CustomerID   Genre  Age  Annual Income (k$)  Spending Score (1-100)\n",
       "0           1    Male   19                  15                      39\n",
       "1           2    Male   21                  15                      81\n",
       "2           3  Female   20                  16                       6\n",
       "3           4  Female   23                  16                      77\n",
       "4           5  Female   31                  17                      40"
      ]
     },
     "execution_count": 3,
     "metadata": {},
     "output_type": "execute_result"
    }
   ],
   "source": [
    "df.head()"
   ]
  },
  {
   "cell_type": "code",
   "execution_count": 8,
   "id": "847db2ad-7457-4d66-8c85-fe67fb762b7f",
   "metadata": {},
   "outputs": [],
   "source": [
    "df['Genre'] = np.where(df['Genre'] == 'Male',1,0)"
   ]
  },
  {
   "cell_type": "code",
   "execution_count": 30,
   "id": "9cc11dc7-4b9f-431d-a19d-c1159adc07ac",
   "metadata": {},
   "outputs": [
    {
     "data": {
      "text/html": [
       "<div>\n",
       "<style scoped>\n",
       "    .dataframe tbody tr th:only-of-type {\n",
       "        vertical-align: middle;\n",
       "    }\n",
       "\n",
       "    .dataframe tbody tr th {\n",
       "        vertical-align: top;\n",
       "    }\n",
       "\n",
       "    .dataframe thead th {\n",
       "        text-align: right;\n",
       "    }\n",
       "</style>\n",
       "<table border=\"1\" class=\"dataframe\">\n",
       "  <thead>\n",
       "    <tr style=\"text-align: right;\">\n",
       "      <th></th>\n",
       "      <th>CustomerID</th>\n",
       "      <th>Genre</th>\n",
       "      <th>Age</th>\n",
       "      <th>Annual Income (k$)</th>\n",
       "      <th>Spending Score (1-100)</th>\n",
       "      <th>Cluster</th>\n",
       "    </tr>\n",
       "  </thead>\n",
       "  <tbody>\n",
       "    <tr>\n",
       "      <th>0</th>\n",
       "      <td>1</td>\n",
       "      <td>1</td>\n",
       "      <td>19</td>\n",
       "      <td>15</td>\n",
       "      <td>39</td>\n",
       "      <td>2</td>\n",
       "    </tr>\n",
       "    <tr>\n",
       "      <th>1</th>\n",
       "      <td>2</td>\n",
       "      <td>1</td>\n",
       "      <td>21</td>\n",
       "      <td>15</td>\n",
       "      <td>81</td>\n",
       "      <td>2</td>\n",
       "    </tr>\n",
       "    <tr>\n",
       "      <th>2</th>\n",
       "      <td>3</td>\n",
       "      <td>0</td>\n",
       "      <td>20</td>\n",
       "      <td>16</td>\n",
       "      <td>6</td>\n",
       "      <td>4</td>\n",
       "    </tr>\n",
       "    <tr>\n",
       "      <th>3</th>\n",
       "      <td>4</td>\n",
       "      <td>0</td>\n",
       "      <td>23</td>\n",
       "      <td>16</td>\n",
       "      <td>77</td>\n",
       "      <td>2</td>\n",
       "    </tr>\n",
       "    <tr>\n",
       "      <th>4</th>\n",
       "      <td>5</td>\n",
       "      <td>0</td>\n",
       "      <td>31</td>\n",
       "      <td>17</td>\n",
       "      <td>40</td>\n",
       "      <td>2</td>\n",
       "    </tr>\n",
       "  </tbody>\n",
       "</table>\n",
       "</div>"
      ],
      "text/plain": [
       "   CustomerID  Genre  Age  Annual Income (k$)  Spending Score (1-100)  Cluster\n",
       "0           1      1   19                  15                      39        2\n",
       "1           2      1   21                  15                      81        2\n",
       "2           3      0   20                  16                       6        4\n",
       "3           4      0   23                  16                      77        2\n",
       "4           5      0   31                  17                      40        2"
      ]
     },
     "execution_count": 30,
     "metadata": {},
     "output_type": "execute_result"
    }
   ],
   "source": [
    "df.head()"
   ]
  },
  {
   "cell_type": "code",
   "execution_count": 59,
   "id": "cdf64385-a691-4ee9-904c-358840ddcb4d",
   "metadata": {},
   "outputs": [],
   "source": [
    "x = df.iloc[:,[2,4]]"
   ]
  },
  {
   "cell_type": "code",
   "execution_count": 60,
   "id": "8ce1f833-5cf0-4b96-936b-a945cb089057",
   "metadata": {},
   "outputs": [],
   "source": [
    "wcss = []\n",
    "for i in range(1,11):\n",
    "    mod = KMeans(n_clusters=i,init='k-means++')\n",
    "    mod.fit(x)\n",
    "    wcss.append(mod.inertia_)"
   ]
  },
  {
   "cell_type": "code",
   "execution_count": 61,
   "id": "c36e8700-8269-42ba-b2f5-aad7aaee57e8",
   "metadata": {},
   "outputs": [
    {
     "name": "stdout",
     "output_type": "stream",
     "text": [
      "[171535.5, 75949.15601023019, 45840.67661610866, 28165.583566629335, 23810.46223307137, 19510.32880277617, 15523.68401432875, 13039.801560846563, 11518.901989274886, 10127.632747124051]\n"
     ]
    }
   ],
   "source": [
    "print(wcss)"
   ]
  },
  {
   "cell_type": "code",
   "execution_count": 62,
   "id": "79901b5a-23b0-4d2d-8aec-3245f747386a",
   "metadata": {},
   "outputs": [
    {
     "data": {
      "text/plain": [
       "[<matplotlib.lines.Line2D at 0x7f2b84e97310>]"
      ]
     },
     "execution_count": 62,
     "metadata": {},
     "output_type": "execute_result"
    },
    {
     "data": {
      "image/png": "[encoded data removed]",
      "text/plain": [
       "<Figure size 432x288 with 1 Axes>"
      ]
     },
     "metadata": {
      "needs_background": "light"
     },
     "output_type": "display_data"
    }
   ],
   "source": [
    "plt.plot(wcss,marker='X',markerfacecolor='red')"
   ]
  },
  {
   "cell_type": "code",
   "execution_count": 65,
   "id": "549e82b5-b583-4b71-95a4-3a9cb5df66e5",
   "metadata": {},
   "outputs": [],
   "source": [
    "model = KMeans(n_clusters=5,init='k-means++')"
   ]
  },
  {
   "cell_type": "code",
   "execution_count": 66,
   "id": "08d13642-b819-4794-9bb9-7984c3d9c745",
   "metadata": {},
   "outputs": [
    {
     "data": {
      "text/plain": [
       "KMeans(n_clusters=5)"
      ]
     },
     "execution_count": 66,
     "metadata": {},
     "output_type": "execute_result"
    }
   ],
   "source": [
    "model.fit(x)"
   ]
  },
  {
   "cell_type": "code",
   "execution_count": 67,
   "id": "65bdf612-8445-4bec-b69d-c5e39b23c097",
   "metadata": {},
   "outputs": [],
   "source": [
    "pred = model.predict(x)"
   ]
  },
  {
   "cell_type": "code",
   "execution_count": 68,
   "id": "27fb0537-5e3c-4f1d-ac42-bb0bd23a96f7",
   "metadata": {},
   "outputs": [
    {
     "data": {
      "text/plain": [
       "array([1, 0, 4, 0, 1, 0, 4, 0, 3, 0, 3, 0, 3, 0, 4, 0, 1, 1, 3, 0, 1, 0,\n",
       "       3, 0, 3, 0, 3, 1, 4, 0, 3, 0, 3, 0, 3, 0, 4, 0, 4, 0, 2, 0, 2, 1,\n",
       "       3, 1, 2, 1, 1, 1, 2, 1, 1, 2, 2, 2, 2, 2, 1, 2, 2, 1, 2, 2, 2, 1,\n",
       "       2, 2, 1, 1, 2, 2, 2, 2, 2, 1, 2, 1, 1, 2, 2, 1, 2, 2, 1, 2, 2, 1,\n",
       "       1, 2, 2, 1, 2, 1, 1, 1, 2, 1, 2, 1, 1, 2, 2, 1, 2, 1, 2, 2, 2, 2,\n",
       "       2, 1, 1, 1, 1, 1, 2, 2, 2, 2, 1, 1, 1, 0, 4, 0, 2, 0, 3, 0, 3, 0,\n",
       "       1, 0, 4, 0, 3, 0, 4, 0, 3, 0, 1, 0, 4, 0, 2, 0, 4, 0, 3, 0, 3, 0,\n",
       "       3, 0, 4, 0, 4, 0, 2, 0, 4, 0, 3, 0, 4, 0, 4, 1, 4, 0, 4, 0, 3, 0,\n",
       "       3, 0, 3, 0, 4, 0, 3, 0, 1, 0, 3, 0, 4, 0, 4, 0, 4, 0, 3, 0, 3, 0,\n",
       "       4, 0], dtype=int32)"
      ]
     },
     "execution_count": 68,
     "metadata": {},
     "output_type": "execute_result"
    }
   ],
   "source": [
    "pred"
   ]
  },
  {
   "cell_type": "code",
   "execution_count": 69,
   "id": "372a97b0-107e-4574-abfd-3905b8ea6ee6",
   "metadata": {},
   "outputs": [
    {
     "name": "stderr",
     "output_type": "stream",
     "text": [
      "/tmp/ipykernel_4812/366410570.py:1: SettingWithCopyWarning: \n",
      "A value is trying to be set on a copy of a slice from a DataFrame.\n",
      "Try using .loc[row_indexer,col_indexer] = value instead\n",
      "\n",
      "See the caveats in the documentation: https://pandas.pydata.org/pandas-docs/stable/user_guide/indexing.html#returning-a-view-versus-a-copy\n",
      "  x['Cluster'] = pred\n"
     ]
    }
   ],
   "source": [
    "x['Cluster'] = pred"
   ]
  },
  {
   "cell_type": "markdown",
   "id": "c9d335fd-5ad9-4a06-8d1c-caacbd39e742",
   "metadata": {},
   "source": [
    "sns.relplot(x['Annual Income (k$)'],x['Spending Score (1-100)'],hue=x['Cluster'])"
   ]
  },
  {
   "cell_type": "code",
   "execution_count": 70,
   "id": "8cbbf565-a3d3-413e-8812-7df919e85b0c",
   "metadata": {},
   "outputs": [
    {
     "name": "stderr",
     "output_type": "stream",
     "text": [
      "/home/eshaan/.local/lib/python3.10/site-packages/seaborn/_decorators.py:36: FutureWarning: Pass the following variables as keyword args: x, y. From version 0.12, the only valid positional argument will be `data`, and passing other arguments without an explicit keyword will result in an error or misinterpretation.\n",
      "  warnings.warn(\n"
     ]
    },
    {
     "data": {
      "text/plain": [
       "<seaborn.axisgrid.FacetGrid at 0x7f2b84e944c0>"
      ]
     },
     "execution_count": 70,
     "metadata": {},
     "output_type": "execute_result"
    },
    {
     "data": {
      "image/png": "[encoded data removed]",
      "text/plain": [
       "<Figure size 403.5x360 with 1 Axes>"
      ]
     },
     "metadata": {
      "needs_background": "light"
     },
     "output_type": "display_data"
    }
   ],
   "source": [
    "sns.relplot(x['Age'],x['Spending Score (1-100)'],hue=x['Cluster'])"
   ]
  },
  {
   "cell_type": "code",
   "execution_count": 71,
   "id": "2da0937b-c99a-483a-8ff8-a82a6ae5b74c",
   "metadata": {},
   "outputs": [],
   "source": [
    "from sklearn.metrics import silhouette_score"
   ]
  },
  {
   "cell_type": "code",
   "execution_count": 72,
   "id": "1c6861f2-2d95-445c-b7c0-d010bce0f823",
   "metadata": {},
   "outputs": [
    {
     "data": {
      "text/plain": [
       "0.46240937603341337"
      ]
     },
     "execution_count": 72,
     "metadata": {},
     "output_type": "execute_result"
    }
   ],
   "source": [
    "silhouette_score(x, model.labels_,metric='euclidean')"
   ]
  },
  {
   "cell_type": "markdown",
   "id": "b0efcef9-cf64-4850-86aa-d25cad49f540",
   "metadata": {},
   "source": [
    "# DBScan"
   ]
  },
  {
   "cell_type": "code",
   "execution_count": 74,
   "id": "0bc80725-15e7-4792-bdaf-0910225b9036",
   "metadata": {},
   "outputs": [],
   "source": [
    "mod_scan = DBSCAN(eps=5,min_samples=5)"
   ]
  },
  {
   "cell_type": "code",
   "execution_count": 75,
   "id": "ced13fe5-5746-4381-8066-1ceb6082d506",
   "metadata": {},
   "outputs": [],
   "source": [
    "lbl = mod_scan.fit_predict(x)"
   ]
  },
  {
   "cell_type": "code",
   "execution_count": 76,
   "id": "deb8bfdc-89f8-4ce8-804f-e24f6ae1bb9b",
   "metadata": {},
   "outputs": [
    {
     "data": {
      "text/plain": [
       "array([ 6,  0, -1,  0,  1,  0,  2, -1, -1,  0, -1,  0,  2,  0,  2,  0, -1,\n",
       "       -1, -1,  0, -1,  0, -1,  0,  2,  0, -1,  3, -1,  0, -1,  0, -1, -1,\n",
       "        2,  0,  2,  0, -1,  0, -1,  0, -1,  3, -1, -1,  4,  6,  1,  1,  4,\n",
       "        3,  6, -1,  4,  4,  4,  5,  6,  4,  5,  6,  5,  4,  5,  6,  4,  5,\n",
       "        6,  1,  5,  4,  5, -1, -1,  6,  4, -1,  6,  4, -1, -1,  5,  4,  6,\n",
       "        4, -1,  6,  3,  4,  5,  6,  4,  7,  1,  6,  4,  6,  4,  6,  6,  4,\n",
       "        5,  6,  4,  6,  5,  4,  5,  5,  5,  6,  7,  6,  6,  6,  5,  4,  4,\n",
       "        4,  6,  7, -1,  0, -1,  0,  7,  0,  2,  0, -1,  0, -1,  0, -1,  0,\n",
       "       -1,  0, -1,  0, -1,  0,  1,  0, -1,  0, -1,  0, -1,  0,  2,  0,  2,\n",
       "        0,  2,  0, -1,  0, -1,  0, -1,  0, -1,  0, -1,  0,  2,  0, -1,  3,\n",
       "        2,  0,  2,  0,  2,  0,  2,  0,  2,  0, -1,  0,  2,  0,  7,  0, -1,\n",
       "        0,  2,  0, -1,  0,  2,  0,  2,  0, -1,  0, -1,  0])"
      ]
     },
     "execution_count": 76,
     "metadata": {},
     "output_type": "execute_result"
    }
   ],
   "source": [
    "lbl"
   ]
  },
  {
   "cell_type": "code",
   "execution_count": 79,
   "id": "06f87954-c481-4cb2-b755-d6b7125f450d",
   "metadata": {},
   "outputs": [
    {
     "name": "stderr",
     "output_type": "stream",
     "text": [
      "/home/eshaan/.local/lib/python3.10/site-packages/pandas/core/indexing.py:1773: SettingWithCopyWarning: \n",
      "A value is trying to be set on a copy of a slice from a DataFrame.\n",
      "Try using .loc[row_indexer,col_indexer] = value instead\n",
      "\n",
      "See the caveats in the documentation: https://pandas.pydata.org/pandas-docs/stable/user_guide/indexing.html#returning-a-view-versus-a-copy\n",
      "  self._setitem_single_column(ilocs[0], value, pi)\n"
     ]
    }
   ],
   "source": [
    "x.loc[:,'Cluster'] = lbl"
   ]
  },
  {
   "cell_type": "code",
   "execution_count": 78,
   "id": "758d3fc9-9503-4f67-972e-cec51c63e216",
   "metadata": {},
   "outputs": [
    {
     "name": "stderr",
     "output_type": "stream",
     "text": [
      "/home/eshaan/.local/lib/python3.10/site-packages/seaborn/_decorators.py:36: FutureWarning: Pass the following variables as keyword args: x, y. From version 0.12, the only valid positional argument will be `data`, and passing other arguments without an explicit keyword will result in an error or misinterpretation.\n",
      "  warnings.warn(\n"
     ]
    },
    {
     "data": {
      "text/plain": [
       "<seaborn.axisgrid.FacetGrid at 0x7f2b84e4f640>"
      ]
     },
     "execution_count": 78,
     "metadata": {},
     "output_type": "execute_result"
    },
    {
     "data": {
      "image/png": "[encoded data removed]",
      "text/plain": [
       "<Figure size 410.75x360 with 1 Axes>"
      ]
     },
     "metadata": {
      "needs_background": "light"
     },
     "output_type": "display_data"
    }
   ],
   "source": [
    "sns.relplot(x['Age'],x['Spending Score (1-100)'],hue=x['Cluster'])"
   ]
  },
  {
   "cell_type": "code",
   "execution_count": 80,
   "id": "82ed2b63-3767-4e21-8b8d-4f877b7eb346",
   "metadata": {},
   "outputs": [
    {
     "name": "stderr",
     "output_type": "stream",
     "text": [
      "/home/eshaan/.local/lib/python3.10/site-packages/seaborn/_decorators.py:36: FutureWarning: Pass the following variable as a keyword arg: x. From version 0.12, the only valid positional argument will be `data`, and passing other arguments without an explicit keyword will result in an error or misinterpretation.\n",
      "  warnings.warn(\n"
     ]
    },
    {
     "data": {
      "text/plain": [
       "<AxesSubplot:xlabel='Cluster', ylabel='count'>"
      ]
     },
     "execution_count": 80,
     "metadata": {},
     "output_type": "execute_result"
    },
    {
     "data": {
      "image/png": "[encoded data removed]",
      "text/plain": [
       "<Figure size 432x288 with 1 Axes>"
      ]
     },
     "metadata": {
      "needs_background": "light"
     },
     "output_type": "display_data"
    }
   ],
   "source": [
    "sns.countplot(x['Cluster'])"
   ]
  },
  {
   "cell_type": "code",
   "execution_count": 87,
   "id": "9848a72b-3e7c-40ff-8ef2-4e01508c5ff2",
   "metadata": {},
   "outputs": [
    {
     "data": {
      "text/plain": [
       "0.18128660673220495"
      ]
     },
     "execution_count": 87,
     "metadata": {},
     "output_type": "execute_result"
    }
   ],
   "source": [
    "silhouette_score(x.iloc[:,[0,1]],mod_scan.labels_,metric='euclidean')"
   ]
  },
  {
   "cell_type": "code",
   "execution_count": 86,
   "id": "b2c507de-b564-4e16-a3ec-5d65b85e7929",
   "metadata": {},
   "outputs": [
    {
     "data": {
      "text/plain": [
       "0.174765864583864"
      ]
     },
     "execution_count": 86,
     "metadata": {},
     "output_type": "execute_result"
    }
   ],
   "source": [
    "silhouette_score(x.iloc[:,[0,1]],mod_scan.labels_,metric='manhattan')"
   ]
  },
  {
   "cell_type": "markdown",
   "id": "ed3cf9fd-95cd-4b14-b9a3-29143782d7e8",
   "metadata": {},
   "source": [
    "# IRIS"
   ]
  },
  {
   "cell_type": "code",
   "execution_count": 88,
   "id": "41c68cac-a9d0-471e-8766-a8beb7a6f0bf",
   "metadata": {},
   "outputs": [],
   "source": [
    "df = pd.read_csv('Iris.csv')"
   ]
  },
  {
   "cell_type": "code",
   "execution_count": 89,
   "id": "07ea5d3b-644a-4db8-a07f-fd3e242d4eaf",
   "metadata": {},
   "outputs": [
    {
     "data": {
      "text/html": [
       "<div>\n",
       "<style scoped>\n",
       "    .dataframe tbody tr th:only-of-type {\n",
       "        vertical-align: middle;\n",
       "    }\n",
       "\n",
       "    .dataframe tbody tr th {\n",
       "        vertical-align: top;\n",
       "    }\n",
       "\n",
       "    .dataframe thead th {\n",
       "        text-align: right;\n",
       "    }\n",
       "</style>\n",
       "<table border=\"1\" class=\"dataframe\">\n",
       "  <thead>\n",
       "    <tr style=\"text-align: right;\">\n",
       "      <th></th>\n",
       "      <th>Id</th>\n",
       "      <th>SepalLengthCm</th>\n",
       "      <th>SepalWidthCm</th>\n",
       "      <th>PetalLengthCm</th>\n",
       "      <th>PetalWidthCm</th>\n",
       "      <th>Species</th>\n",
       "    </tr>\n",
       "  </thead>\n",
       "  <tbody>\n",
       "    <tr>\n",
       "      <th>0</th>\n",
       "      <td>1</td>\n",
       "      <td>5.1</td>\n",
       "      <td>3.5</td>\n",
       "      <td>1.4</td>\n",
       "      <td>0.2</td>\n",
       "      <td>Iris-setosa</td>\n",
       "    </tr>\n",
       "    <tr>\n",
       "      <th>1</th>\n",
       "      <td>2</td>\n",
       "      <td>4.9</td>\n",
       "      <td>3.0</td>\n",
       "      <td>1.4</td>\n",
       "      <td>0.2</td>\n",
       "      <td>Iris-setosa</td>\n",
       "    </tr>\n",
       "    <tr>\n",
       "      <th>2</th>\n",
       "      <td>3</td>\n",
       "      <td>4.7</td>\n",
       "      <td>3.2</td>\n",
       "      <td>1.3</td>\n",
       "      <td>0.2</td>\n",
       "      <td>Iris-setosa</td>\n",
       "    </tr>\n",
       "    <tr>\n",
       "      <th>3</th>\n",
       "      <td>4</td>\n",
       "      <td>4.6</td>\n",
       "      <td>3.1</td>\n",
       "      <td>1.5</td>\n",
       "      <td>0.2</td>\n",
       "      <td>Iris-setosa</td>\n",
       "    </tr>\n",
       "    <tr>\n",
       "      <th>4</th>\n",
       "      <td>5</td>\n",
       "      <td>5.0</td>\n",
       "      <td>3.6</td>\n",
       "      <td>1.4</td>\n",
       "      <td>0.2</td>\n",
       "      <td>Iris-setosa</td>\n",
       "    </tr>\n",
       "  </tbody>\n",
       "</table>\n",
       "</div>"
      ],
      "text/plain": [
       "   Id  SepalLengthCm  SepalWidthCm  PetalLengthCm  PetalWidthCm      Species\n",
       "0   1            5.1           3.5            1.4           0.2  Iris-setosa\n",
       "1   2            4.9           3.0            1.4           0.2  Iris-setosa\n",
       "2   3            4.7           3.2            1.3           0.2  Iris-setosa\n",
       "3   4            4.6           3.1            1.5           0.2  Iris-setosa\n",
       "4   5            5.0           3.6            1.4           0.2  Iris-setosa"
      ]
     },
     "execution_count": 89,
     "metadata": {},
     "output_type": "execute_result"
    }
   ],
   "source": [
    "df.head()"
   ]
  },
  {
   "cell_type": "code",
   "execution_count": 90,
   "id": "251588e1-83a3-49c3-aa48-66f6729c6df6",
   "metadata": {},
   "outputs": [],
   "source": [
    "from sklearn.preprocessing import StandardScaler"
   ]
  },
  {
   "cell_type": "code",
   "execution_count": 93,
   "id": "cf02d943-c657-4e8e-8c01-9884d9a649eb",
   "metadata": {},
   "outputs": [],
   "source": [
    "df_scaled = StandardScaler().fit_transform(df.drop(['Id','Species'],axis=1))"
   ]
  },
  {
   "cell_type": "code",
   "execution_count": 95,
   "id": "fd37248b-1869-4fa2-b679-36d7166896ac",
   "metadata": {},
   "outputs": [],
   "source": [
    "z = linkage(df_scaled,'ward')"
   ]
  },
  {
   "cell_type": "code",
   "execution_count": 97,
   "id": "59e279fe-15b7-4e4c-8392-47f008146243",
   "metadata": {},
   "outputs": [
    {
     "data": {
      "text/plain": [
       "<matplotlib.lines.Line2D at 0x7f2b84881ba0>"
      ]
     },
     "execution_count": 97,
     "metadata": {},
     "output_type": "execute_result"
    },
    {
     "data": {
      "image/png": "[encoded data removed]",
      "text/plain": [
       "<Figure size 432x288 with 1 Axes>"
      ]
     },
     "metadata": {
      "needs_background": "light"
     },
     "output_type": "display_data"
    }
   ],
   "source": [
    "dendrogram(z,truncate_mode='lastp',p=12,leaf_rotation=45,leaf_font_size=15,show_contracted=True)\n",
    "plt.title('Trucated hierarchical clustering')\n",
    "plt.xlabel('Cluster size')\n",
    "plt.ylabel('Distance')\n",
    "plt.axhline(y=20)\n",
    "plt.axhline(y=5)"
   ]
  },
  {
   "cell_type": "code",
   "execution_count": 109,
   "id": "b519b6df-3d3f-4341-8654-6461792ee09a",
   "metadata": {},
   "outputs": [],
   "source": [
    "k=3\n",
    "hcluster = AgglomerativeClustering(n_clusters=k,affinity='euclidean',linkage='ward')"
   ]
  },
  {
   "cell_type": "code",
   "execution_count": 110,
   "id": "7c294e65-3079-4091-b3a7-bbdd78874648",
   "metadata": {},
   "outputs": [
    {
     "data": {
      "text/plain": [
       "AgglomerativeClustering(n_clusters=3)"
      ]
     },
     "execution_count": 110,
     "metadata": {},
     "output_type": "execute_result"
    }
   ],
   "source": [
    "hcluster.fit(df_scaled)"
   ]
  },
  {
   "cell_type": "code",
   "execution_count": 111,
   "id": "cb1ddcf9-fccc-4bee-b4f0-17e9432b3862",
   "metadata": {},
   "outputs": [],
   "source": [
    "pred = hcluster.fit_predict(df_scaled)"
   ]
  },
  {
   "cell_type": "code",
   "execution_count": 112,
   "id": "97dafc1f-12b5-43c5-9d47-a944598f6df4",
   "metadata": {},
   "outputs": [
    {
     "name": "stderr",
     "output_type": "stream",
     "text": [
      "/home/eshaan/.local/lib/python3.10/site-packages/seaborn/_decorators.py:36: FutureWarning: Pass the following variable as a keyword arg: x. From version 0.12, the only valid positional argument will be `data`, and passing other arguments without an explicit keyword will result in an error or misinterpretation.\n",
      "  warnings.warn(\n"
     ]
    },
    {
     "data": {
      "text/plain": [
       "<AxesSubplot:ylabel='count'>"
      ]
     },
     "execution_count": 112,
     "metadata": {},
     "output_type": "execute_result"
    },
    {
     "data": {
      "image/png": "[encoded data removed]",
      "text/plain": [
       "<Figure size 432x288 with 1 Axes>"
      ]
     },
     "metadata": {
      "needs_background": "light"
     },
     "output_type": "display_data"
    }
   ],
   "source": [
    "sns.countplot(pred)"
   ]
  },
  {
   "cell_type": "code",
   "execution_count": 108,
   "id": "b49e9ab1-523b-4c37-b09e-95f712390a13",
   "metadata": {},
   "outputs": [
    {
     "name": "stderr",
     "output_type": "stream",
     "text": [
      "/home/eshaan/.local/lib/python3.10/site-packages/seaborn/_decorators.py:36: FutureWarning: Pass the following variable as a keyword arg: x. From version 0.12, the only valid positional argument will be `data`, and passing other arguments without an explicit keyword will result in an error or misinterpretation.\n",
      "  warnings.warn(\n"
     ]
    },
    {
     "data": {
      "text/plain": [
       "<AxesSubplot:xlabel='Species', ylabel='count'>"
      ]
     },
     "execution_count": 108,
     "metadata": {},
     "output_type": "execute_result"
    },
    {
     "data": {
      "image/png": "[encoded data removed]",
      "text/plain": [
       "<Figure size 432x288 with 1 Axes>"
      ]
     },
     "metadata": {
      "needs_background": "light"
     },
     "output_type": "display_data"
    }
   ],
   "source": [
    "sns.countplot(df['Species'])"
   ]
  },
  {
   "cell_type": "code",
   "execution_count": 121,
   "id": "2f433d71-3476-4f49-8e10-d0febb7760e2",
   "metadata": {},
   "outputs": [
    {
     "data": {
      "text/plain": [
       "0.44553956399200406"
      ]
     },
     "execution_count": 121,
     "metadata": {},
     "output_type": "execute_result"
    }
   ],
   "source": [
    "silhouette_score(df_scaled,hcluster.labels_,metric='euclidean')"
   ]
  },
  {
   "cell_type": "code",
   "execution_count": 119,
   "id": "230c9c30-6350-42b1-84e4-8471b6c9df23",
   "metadata": {
    "tags": []
   },
   "outputs": [],
   "source": [
    "wcss = []\n",
    "for i in range(1,11):\n",
    "    model = KMeans(n_clusters=i,init='k-means++')\n",
    "    model.fit(df_scaled)\n",
    "    model.predict(df_scaled)\n",
    "    wcss.append(model.inertia_)"
   ]
  },
  {
   "cell_type": "code",
   "execution_count": 120,
   "id": "90111e9d-bbe2-4440-896a-1bd6a751b500",
   "metadata": {},
   "outputs": [
    {
     "data": {
      "text/plain": [
       "[<matplotlib.lines.Line2D at 0x7f2b8396f520>]"
      ]
     },
     "execution_count": 120,
     "metadata": {},
     "output_type": "execute_result"
    },
    {
     "data": {
      "image/png": "[encoded data removed]",
      "text/plain": [
       "<Figure size 432x288 with 1 Axes>"
      ]
     },
     "metadata": {
      "needs_background": "light"
     },
     "output_type": "display_data"
    }
   ],
   "source": [
    "plt.plot(range(1,11),wcss,marker='X',markerfacecolor='red')"
   ]
  },
  {
   "cell_type": "code",
   "execution_count": 122,
   "id": "4d5e63d9-3c6b-4d44-a759-997c4263ecb1",
   "metadata": {},
   "outputs": [],
   "source": [
    "from sklearn.metrics import accuracy_score"
   ]
  },
  {
   "cell_type": "code",
   "execution_count": 133,
   "id": "79da1524-82dc-4e86-b434-063c44ab5262",
   "metadata": {},
   "outputs": [],
   "source": [
    "df_new = df.copy()"
   ]
  },
  {
   "cell_type": "code",
   "execution_count": 134,
   "id": "b5d9cee0-12d4-422b-a15c-8b490e16758f",
   "metadata": {},
   "outputs": [
    {
     "data": {
      "text/plain": [
       "array(['Iris-setosa', 'Iris-versicolor', 'Iris-virginica'], dtype=object)"
      ]
     },
     "execution_count": 134,
     "metadata": {},
     "output_type": "execute_result"
    }
   ],
   "source": [
    "df.Species.unique()"
   ]
  },
  {
   "cell_type": "code",
   "execution_count": 135,
   "id": "a9f7ec1c-3363-4312-a3fc-62ea9477b14b",
   "metadata": {},
   "outputs": [],
   "source": [
    "df_new.replace(to_replace='Iris-setosa',value=0,inplace=True)\n",
    "df_new.replace(to_replace='Iris-virginica',value=2,inplace=True)\n",
    "df_new.replace(to_replace='Iris-versicolor',value=1,inplace=True)"
   ]
  },
  {
   "cell_type": "markdown",
   "id": "9641f736-df1d-4b2a-b09a-b45888bffb21",
   "metadata": {},
   "source": [
    "###### accuracy_score(df_new.Species,pred)"
   ]
  }
 ],
 "metadata": {
  "kernelspec": {
   "display_name": "Python 3 (ipykernel)",
   "language": "python",
   "name": "python3"
  },
  "language_info": {
   "codemirror_mode": {
    "name": "ipython",
    "version": 3
   },
   "file_extension": ".py",
   "mimetype": "text/x-python",
   "name": "python",
   "nbconvert_exporter": "python",
   "pygments_lexer": "ipython3",
   "version": "3.10.2"
  }
 },
 "nbformat": 4,
 "nbformat_minor": 5
}
