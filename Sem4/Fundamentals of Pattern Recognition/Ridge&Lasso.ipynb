{
 "cells": [
  {
   "cell_type": "markdown",
   "id": "3199f7fc-c2db-4748-9d56-e9abb18f73d3",
   "metadata": {},
   "source": [
    "- Bias: Difference between the prediction of the true model and the average models\n",
    "- True model: Models builds on a population data\n",
    "- Average model: Average of all the prediction results obtained from the various sample obtained from the population model\n",
    "- Variance: DIfference between the prediction of all the models obtained from the sample of average model"
   ]
  },
  {
   "cell_type": "markdown",
   "id": "9b87f39c-a197-40f6-9e8b-bced2cf194c7",
   "metadata": {},
   "source": [
    "|Model|Bias|Variance|\n",
    "|-----|----|--------|\n",
    "|Linear regression|high bias|less variance|\n",
    "|Decision tree|low |high lesser than LR|"
   ]
  },
  {
   "cell_type": "markdown",
   "id": "bb5203a1-01ac-4dda-b282-3ba7bb2e0742",
   "metadata": {},
   "source": [
    "- bias of x = Prediction of population model - Prediction of mean_model\n",
    "- bias of the model = Mean(abs(Prediction of population model - Prediction of mean model))"
   ]
  },
  {
   "cell_type": "markdown",
   "id": "ea0abc02-afb4-4cf0-ae5a-09ad9a707c00",
   "metadata": {},
   "source": [
    "- Bias maybe caused due to lack of sufficient features and related datasets used for training the models\n",
    "- The model may fail to capture essential regularities present in the dataset. As a result, the resulting Machine Learning models would end up reflecting the bias"
   ]
  },
  {
   "cell_type": "markdown",
   "id": "99f146d2-e1b1-4a78-844b-f17d51548498",
   "metadata": {},
   "source": [
    "## Underfitting\n",
    "*To simple to explain the pattern/variance*\n",
    "- ML model bias can be understood in terms of some of the following:\n",
    "    - Lack of an appropriate set of features may resilt in bias\n",
    "    - In such a condition underfitting may occur\n",
    "    - High bias and low variance"
   ]
  },
  {
   "cell_type": "markdown",
   "id": "420d8c5a-0cbe-491e-ad18-a8ba9923dd96",
   "metadata": {},
   "source": [
    "Banking: Imagine a scenario when a valid application loan request is not approved<br>\n",
    "This could as well happen as a result of bias in the system introduced to the features and related data used for model training such as gender, education, race, location etc."
   ]
  },
  {
   "cell_type": "markdown",
   "id": "790ccd7c-7553-4cfd-bd7f-51a649cf81e3",
   "metadata": {},
   "source": [
    "## Overfitting\n",
    "*Too good to be true*\n",
    "- When a model is able to fit almost perfectly your training data but is performing poorly on new data\n",
    "- It learns the very specific pattern seen in the training data"
   ]
  },
  {
   "cell_type": "markdown",
   "id": "2a924662-53a6-4275-8899-766779641785",
   "metadata": {},
   "source": [
    "## Regularization\n",
    "- If model has too few featurees or oversimplifies reality, the algortihm is going to undefit and probably not perform well\n",
    "- If model has too many features or features with multicollinearity you algorithm will overfit and not generalize well"
   ]
  },
  {
   "cell_type": "markdown",
   "id": "088c1c69-1138-42cb-b2ff-2acfd32b6f14",
   "metadata": {},
   "source": [
    "R-Square = 1 - sum(Yact - Ypred)^2"
   ]
  },
  {
   "cell_type": "markdown",
   "id": "37099735-517c-4258-a6a1-343ba0b9795f",
   "metadata": {},
   "source": [
    "## Ridge regression\n",
    "- If model overfitted it adds bias to the model\n",
    "- Starting with a worse fit, it gives more accuracy in the long term"
   ]
  },
  {
   "cell_type": "markdown",
   "id": "8fe6d69e-bc5c-495e-b1e0-07c6dbb3b51b",
   "metadata": {},
   "source": [
    "Least Square\n",
    "Size = y-axis intercept + slop * Weight\n",
    "Ridge\n",
    "Size = y-axis intercept + slop * Weight\n",
    "Sum of residual squares + lambda * slope^2"
   ]
  },
  {
   "cell_type": "markdown",
   "id": "10e31137-0f42-4035-ac12-7216269dc712",
   "metadata": {},
   "source": [
    "y = 0.4 + 1.3*x\n",
    "MSR = 0 overfitted + Lambda * (1.3*1.3)\n",
    "Penalty = 1.69\n",
    "y = 0.9 + 0.8*x\n",
    "MSR = 0.3*0.3 + 0.1*0.1\n",
    "lambda = 1"
   ]
  },
  {
   "cell_type": "markdown",
   "id": "2216501f-2c1c-4948-a799-83ee310f9681",
   "metadata": {},
   "source": [
    "Lasso<br>\n",
    "The sum of the squared residuals + lambda * |slope|"
   ]
  },
  {
   "cell_type": "markdown",
   "id": "1a1d7fcd-6ba8-4df2-9a14-35bd617dc71d",
   "metadata": {},
   "source": [
    "---"
   ]
  },
  {
   "cell_type": "code",
   "execution_count": 75,
   "id": "72b710ef-d49b-4cd0-9f0b-e4cbaef971cf",
   "metadata": {},
   "outputs": [],
   "source": [
    "import numpy as np\n",
    "import pandas as pd\n",
    "import seaborn as sns\n",
    "import scipy.stats as stats\n",
    "from sklearn.model_selection import train_test_split\n",
    "from sklearn.linear_model import LinearRegression, Ridge, Lasso\n",
    "from sklearn.metrics import r2_score\n",
    "from statsmodels.stats.stattools import durbin_watson\n",
    "from statsmodels.stats.diagnostic import het_breuschpagan\n",
    "from scipy.special import boxcox,boxcox1p, inv_boxcox\n",
    "from mlxtend.evaluate import bias_variance_decomp\n",
    "import matplotlib.pyplot as plt"
   ]
  },
  {
   "cell_type": "code",
   "execution_count": 11,
   "id": "9d10c918-9404-4b69-97d4-b37aff024120",
   "metadata": {},
   "outputs": [],
   "source": [
    "df = pd.read_csv('Boston.csv')"
   ]
  },
  {
   "cell_type": "code",
   "execution_count": 12,
   "id": "e742a21d-980e-47cd-9df7-46314ecd897f",
   "metadata": {},
   "outputs": [],
   "source": [
    "df.drop('Unnamed: 0',axis=1,inplace=True)"
   ]
  },
  {
   "cell_type": "code",
   "execution_count": 13,
   "id": "bd215f85-26db-4389-a0a4-4760af9f010d",
   "metadata": {},
   "outputs": [
    {
     "data": {
      "text/html": [
       "<div>\n",
       "<style scoped>\n",
       "    .dataframe tbody tr th:only-of-type {\n",
       "        vertical-align: middle;\n",
       "    }\n",
       "\n",
       "    .dataframe tbody tr th {\n",
       "        vertical-align: top;\n",
       "    }\n",
       "\n",
       "    .dataframe thead th {\n",
       "        text-align: right;\n",
       "    }\n",
       "</style>\n",
       "<table border=\"1\" class=\"dataframe\">\n",
       "  <thead>\n",
       "    <tr style=\"text-align: right;\">\n",
       "      <th></th>\n",
       "      <th>crim</th>\n",
       "      <th>zn</th>\n",
       "      <th>indus</th>\n",
       "      <th>chas</th>\n",
       "      <th>nox</th>\n",
       "      <th>rm</th>\n",
       "      <th>age</th>\n",
       "      <th>dis</th>\n",
       "      <th>rad</th>\n",
       "      <th>tax</th>\n",
       "      <th>ptratio</th>\n",
       "      <th>black</th>\n",
       "      <th>lstat</th>\n",
       "      <th>medv</th>\n",
       "    </tr>\n",
       "  </thead>\n",
       "  <tbody>\n",
       "    <tr>\n",
       "      <th>0</th>\n",
       "      <td>0.00632</td>\n",
       "      <td>18.0</td>\n",
       "      <td>2.31</td>\n",
       "      <td>0</td>\n",
       "      <td>0.538</td>\n",
       "      <td>6.575</td>\n",
       "      <td>65.2</td>\n",
       "      <td>4.0900</td>\n",
       "      <td>1</td>\n",
       "      <td>296</td>\n",
       "      <td>15.3</td>\n",
       "      <td>396.90</td>\n",
       "      <td>4.98</td>\n",
       "      <td>24.0</td>\n",
       "    </tr>\n",
       "    <tr>\n",
       "      <th>1</th>\n",
       "      <td>0.02731</td>\n",
       "      <td>0.0</td>\n",
       "      <td>7.07</td>\n",
       "      <td>0</td>\n",
       "      <td>0.469</td>\n",
       "      <td>6.421</td>\n",
       "      <td>78.9</td>\n",
       "      <td>4.9671</td>\n",
       "      <td>2</td>\n",
       "      <td>242</td>\n",
       "      <td>17.8</td>\n",
       "      <td>396.90</td>\n",
       "      <td>9.14</td>\n",
       "      <td>21.6</td>\n",
       "    </tr>\n",
       "    <tr>\n",
       "      <th>2</th>\n",
       "      <td>0.02729</td>\n",
       "      <td>0.0</td>\n",
       "      <td>7.07</td>\n",
       "      <td>0</td>\n",
       "      <td>0.469</td>\n",
       "      <td>7.185</td>\n",
       "      <td>61.1</td>\n",
       "      <td>4.9671</td>\n",
       "      <td>2</td>\n",
       "      <td>242</td>\n",
       "      <td>17.8</td>\n",
       "      <td>392.83</td>\n",
       "      <td>4.03</td>\n",
       "      <td>34.7</td>\n",
       "    </tr>\n",
       "    <tr>\n",
       "      <th>3</th>\n",
       "      <td>0.03237</td>\n",
       "      <td>0.0</td>\n",
       "      <td>2.18</td>\n",
       "      <td>0</td>\n",
       "      <td>0.458</td>\n",
       "      <td>6.998</td>\n",
       "      <td>45.8</td>\n",
       "      <td>6.0622</td>\n",
       "      <td>3</td>\n",
       "      <td>222</td>\n",
       "      <td>18.7</td>\n",
       "      <td>394.63</td>\n",
       "      <td>2.94</td>\n",
       "      <td>33.4</td>\n",
       "    </tr>\n",
       "    <tr>\n",
       "      <th>4</th>\n",
       "      <td>0.06905</td>\n",
       "      <td>0.0</td>\n",
       "      <td>2.18</td>\n",
       "      <td>0</td>\n",
       "      <td>0.458</td>\n",
       "      <td>7.147</td>\n",
       "      <td>54.2</td>\n",
       "      <td>6.0622</td>\n",
       "      <td>3</td>\n",
       "      <td>222</td>\n",
       "      <td>18.7</td>\n",
       "      <td>396.90</td>\n",
       "      <td>5.33</td>\n",
       "      <td>36.2</td>\n",
       "    </tr>\n",
       "  </tbody>\n",
       "</table>\n",
       "</div>"
      ],
      "text/plain": [
       "      crim    zn  indus  chas    nox     rm   age     dis  rad  tax  ptratio  \\\n",
       "0  0.00632  18.0   2.31     0  0.538  6.575  65.2  4.0900    1  296     15.3   \n",
       "1  0.02731   0.0   7.07     0  0.469  6.421  78.9  4.9671    2  242     17.8   \n",
       "2  0.02729   0.0   7.07     0  0.469  7.185  61.1  4.9671    2  242     17.8   \n",
       "3  0.03237   0.0   2.18     0  0.458  6.998  45.8  6.0622    3  222     18.7   \n",
       "4  0.06905   0.0   2.18     0  0.458  7.147  54.2  6.0622    3  222     18.7   \n",
       "\n",
       "    black  lstat  medv  \n",
       "0  396.90   4.98  24.0  \n",
       "1  396.90   9.14  21.6  \n",
       "2  392.83   4.03  34.7  \n",
       "3  394.63   2.94  33.4  \n",
       "4  396.90   5.33  36.2  "
      ]
     },
     "execution_count": 13,
     "metadata": {},
     "output_type": "execute_result"
    }
   ],
   "source": [
    "df.head()"
   ]
  },
  {
   "cell_type": "code",
   "execution_count": 53,
   "id": "a365340f-c858-4289-9c46-01c906df5fd8",
   "metadata": {},
   "outputs": [],
   "source": [
    "x = df.iloc[:,0:13]\n",
    "y = df.iloc[:,13]"
   ]
  },
  {
   "cell_type": "code",
   "execution_count": 54,
   "id": "e19fb24c-ab68-4867-baf7-bcdc443f2eb0",
   "metadata": {},
   "outputs": [],
   "source": [
    "x_train,x_test,y_train,y_test = train_test_split(x,y,test_size=0.2,random_state=100)"
   ]
  },
  {
   "cell_type": "code",
   "execution_count": 55,
   "id": "5d70f761-a887-4f3a-9bf9-8c894dd45701",
   "metadata": {},
   "outputs": [],
   "source": [
    "model_full = LinearRegression()"
   ]
  },
  {
   "cell_type": "code",
   "execution_count": 56,
   "id": "734050d7-5da4-42b4-84c8-067054fd9e97",
   "metadata": {},
   "outputs": [
    {
     "data": {
      "text/plain": [
       "(102,)"
      ]
     },
     "execution_count": 56,
     "metadata": {},
     "output_type": "execute_result"
    }
   ],
   "source": [
    "y_test.shape"
   ]
  },
  {
   "cell_type": "code",
   "execution_count": 58,
   "id": "4442d3ea-0b31-4169-86e6-4fdf5522c033",
   "metadata": {},
   "outputs": [],
   "source": [
    "mse,bias,var = bias_variance_decomp(model_full,x_train.values,y_train.values,x_test.values,y_test.values,loss = 'mse',num_rounds=200,random_seed=100)"
   ]
  },
  {
   "cell_type": "code",
   "execution_count": 64,
   "id": "da2fad99-9055-4c12-bd0e-0cebf8086f93",
   "metadata": {},
   "outputs": [
    {
     "name": "stdout",
     "output_type": "stream",
     "text": [
      "24.88904482606189\n",
      "23.722773821407955\n",
      "1.1662710046539206\n"
     ]
    }
   ],
   "source": [
    "print(mse)\n",
    "print(bias)\n",
    "print(var)"
   ]
  },
  {
   "cell_type": "code",
   "execution_count": 59,
   "id": "1f36c6b1-ed47-493b-8746-8aa1033f6784",
   "metadata": {},
   "outputs": [],
   "source": [
    "model_full = model_full.fit(x_train,y_train)"
   ]
  },
  {
   "cell_type": "code",
   "execution_count": 60,
   "id": "595f8c5a-1f4f-4e91-a918-5cfc1572721e",
   "metadata": {},
   "outputs": [],
   "source": [
    "pred = model_full.predict(x_test)"
   ]
  },
  {
   "cell_type": "code",
   "execution_count": 61,
   "id": "56749962-37b0-45be-ad76-d677535511d4",
   "metadata": {},
   "outputs": [
    {
     "data": {
      "text/plain": [
       "0.7555033086871299"
      ]
     },
     "execution_count": 61,
     "metadata": {},
     "output_type": "execute_result"
    }
   ],
   "source": [
    "r2_score(y_test,pred)"
   ]
  },
  {
   "cell_type": "code",
   "execution_count": 81,
   "id": "9c445f53-de53-455a-8957-f4ef0ba5070a",
   "metadata": {},
   "outputs": [],
   "source": [
    "model_ridge = Ridge(alpha = 1.0)"
   ]
  },
  {
   "cell_type": "markdown",
   "id": "cf2f828c-ad46-4d26-b71a-06a164076ff2",
   "metadata": {},
   "source": [
    "mse, bias, var = bias_variance_decomp(model_ridge,x_train.values,x_test.values,y_train.values,y_test.values,loss='mse',num_rounds=200,random_seed=100)"
   ]
  },
  {
   "cell_type": "markdown",
   "id": "5e4bda29-57ef-4ecd-a7a2-b7d837b400a9",
   "metadata": {
    "tags": []
   },
   "source": [
    "## Ridge"
   ]
  },
  {
   "cell_type": "code",
   "execution_count": 82,
   "id": "54cdf761-b6ed-4e34-a150-0712978948da",
   "metadata": {},
   "outputs": [],
   "source": [
    "model_ridge = model_ridge.fit(x_train,y_train)"
   ]
  },
  {
   "cell_type": "code",
   "execution_count": 83,
   "id": "7ff192b9-7ca2-484e-804a-123f5c1f0216",
   "metadata": {},
   "outputs": [],
   "source": [
    "pred_r = model_ridge.predict(x_test)"
   ]
  },
  {
   "cell_type": "code",
   "execution_count": 84,
   "id": "011fbe17-f3ca-4d83-ae4f-e1bf959b6a95",
   "metadata": {},
   "outputs": [
    {
     "data": {
      "text/plain": [
       "0.7500978146031213"
      ]
     },
     "execution_count": 84,
     "metadata": {},
     "output_type": "execute_result"
    }
   ],
   "source": [
    "r2_score(y_test,pred_r)"
   ]
  },
  {
   "cell_type": "code",
   "execution_count": 88,
   "id": "c21c756a-2b6b-4286-8832-b365fbe6566e",
   "metadata": {},
   "outputs": [],
   "source": [
    "df_coef = pd.DataFrame({'coef':model_ridge.coef_,'columns':x_train.columns})"
   ]
  },
  {
   "cell_type": "code",
   "execution_count": 89,
   "id": "12d75217-ae64-4df2-9990-87137d721044",
   "metadata": {},
   "outputs": [
    {
     "data": {
      "text/html": [
       "<div>\n",
       "<style scoped>\n",
       "    .dataframe tbody tr th:only-of-type {\n",
       "        vertical-align: middle;\n",
       "    }\n",
       "\n",
       "    .dataframe tbody tr th {\n",
       "        vertical-align: top;\n",
       "    }\n",
       "\n",
       "    .dataframe thead th {\n",
       "        text-align: right;\n",
       "    }\n",
       "</style>\n",
       "<table border=\"1\" class=\"dataframe\">\n",
       "  <thead>\n",
       "    <tr style=\"text-align: right;\">\n",
       "      <th></th>\n",
       "      <th>coef</th>\n",
       "      <th>columns</th>\n",
       "    </tr>\n",
       "  </thead>\n",
       "  <tbody>\n",
       "    <tr>\n",
       "      <th>0</th>\n",
       "      <td>-0.077191</td>\n",
       "      <td>crim</td>\n",
       "    </tr>\n",
       "    <tr>\n",
       "      <th>1</th>\n",
       "      <td>0.049234</td>\n",
       "      <td>zn</td>\n",
       "    </tr>\n",
       "    <tr>\n",
       "      <th>2</th>\n",
       "      <td>-0.033538</td>\n",
       "      <td>indus</td>\n",
       "    </tr>\n",
       "    <tr>\n",
       "      <th>3</th>\n",
       "      <td>2.897073</td>\n",
       "      <td>chas</td>\n",
       "    </tr>\n",
       "    <tr>\n",
       "      <th>4</th>\n",
       "      <td>-8.907673</td>\n",
       "      <td>nox</td>\n",
       "    </tr>\n",
       "  </tbody>\n",
       "</table>\n",
       "</div>"
      ],
      "text/plain": [
       "       coef columns\n",
       "0 -0.077191    crim\n",
       "1  0.049234      zn\n",
       "2 -0.033538   indus\n",
       "3  2.897073    chas\n",
       "4 -8.907673     nox"
      ]
     },
     "execution_count": 89,
     "metadata": {},
     "output_type": "execute_result"
    }
   ],
   "source": [
    "df_coef.head()"
   ]
  },
  {
   "cell_type": "code",
   "execution_count": 90,
   "id": "fd461678-5552-4126-8ea3-43f7463591e8",
   "metadata": {},
   "outputs": [
    {
     "data": {
      "text/plain": [
       "<AxesSubplot:xlabel='columns', ylabel='coef'>"
      ]
     },
     "execution_count": 90,
     "metadata": {},
     "output_type": "execute_result"
    },
    {
     "data": {
      "image/png": "[encoded data removed]",
      "text/plain": [
       "<Figure size 720x432 with 1 Axes>"
      ]
     },
     "metadata": {
      "needs_background": "light"
     },
     "output_type": "display_data"
    }
   ],
   "source": [
    "plt.figure(figsize=(10,6))\n",
    "sns.barplot(x = 'columns',y = 'coef',data = df_coef)"
   ]
  },
  {
   "cell_type": "code",
   "execution_count": 93,
   "id": "08720ed9-4f90-42ef-8daf-5f92032756a7",
   "metadata": {},
   "outputs": [],
   "source": [
    "df_ridge_coef = pd.DataFrame({\"coef\":model_ridge.coef_,'columns':x_train.columns})"
   ]
  },
  {
   "cell_type": "code",
   "execution_count": 94,
   "id": "2f5b619e-136c-45ea-97ab-596d5448442a",
   "metadata": {},
   "outputs": [
    {
     "data": {
      "text/plain": [
       "<AxesSubplot:xlabel='columns', ylabel='coef'>"
      ]
     },
     "execution_count": 94,
     "metadata": {},
     "output_type": "execute_result"
    },
    {
     "data": {
      "image/png": "[encoded data removed]",
      "text/plain": [
       "<Figure size 720x432 with 1 Axes>"
      ]
     },
     "metadata": {
      "needs_background": "light"
     },
     "output_type": "display_data"
    }
   ],
   "source": [
    "plt.figure(figsize=(10,6))\n",
    "sns.barplot(x = 'columns',y = 'coef',data = df_ridge_coef)"
   ]
  },
  {
   "cell_type": "markdown",
   "id": "b7bc1e28-1838-4b0b-9f24-49a505c02409",
   "metadata": {},
   "source": [
    "## Lasso Regression"
   ]
  },
  {
   "cell_type": "code",
   "execution_count": 95,
   "id": "3bac86fa-88ae-42e6-88c9-e278255f54ad",
   "metadata": {},
   "outputs": [],
   "source": [
    "model_lasso = Lasso(1.0)"
   ]
  },
  {
   "cell_type": "code",
   "execution_count": 97,
   "id": "b5e37fab-533e-4069-9c38-d44b8cf2716a",
   "metadata": {},
   "outputs": [],
   "source": [
    "mse,bias,var = bias_variance_decomp(model_lasso,x_train.values,y_train.values,x_test.values,y_test.values,loss = 'mse',num_rounds=200,random_seed=100)"
   ]
  },
  {
   "cell_type": "code",
   "execution_count": 98,
   "id": "e84b4d92-0db8-4344-9061-d7d7c03b31e0",
   "metadata": {},
   "outputs": [
    {
     "name": "stdout",
     "output_type": "stream",
     "text": [
      "mse:  32.30287544745072 \n",
      "bias:  31.372428672342313 \n",
      "variance:  0.9304467751084223\n"
     ]
    }
   ],
   "source": [
    "print('mse: ',mse,'\\nbias: ',bias,'\\nvariance: ',var)"
   ]
  },
  {
   "cell_type": "code",
   "execution_count": 99,
   "id": "b614aed6-268e-4ecc-bfc0-c96190df607e",
   "metadata": {},
   "outputs": [],
   "source": [
    "model_lasso = model_lasso.fit(x_train,y_train)"
   ]
  },
  {
   "cell_type": "code",
   "execution_count": 100,
   "id": "3ff04b38-19a0-4e78-8795-b6bdd0658261",
   "metadata": {},
   "outputs": [],
   "source": [
    "pred_lasso = model_lasso.predict(x_test)"
   ]
  },
  {
   "cell_type": "code",
   "execution_count": 101,
   "id": "3db5174c-0e14-45e8-8ec3-e74791356c5d",
   "metadata": {},
   "outputs": [
    {
     "data": {
      "text/plain": [
       "0.6776294232065305"
      ]
     },
     "execution_count": 101,
     "metadata": {},
     "output_type": "execute_result"
    }
   ],
   "source": [
    "r2_score(y_test,pred_lasso)"
   ]
  },
  {
   "cell_type": "code",
   "execution_count": 103,
   "id": "db45ea9a-ecf3-4a75-a692-0c1a600468b3",
   "metadata": {},
   "outputs": [],
   "source": [
    "df_lasso_coef = pd.DataFrame({\"coef\": model_lasso.coef_,\"columns\":x_train.columns})"
   ]
  },
  {
   "cell_type": "code",
   "execution_count": 104,
   "id": "da2f470e-93ed-48ff-b50a-56d97ad136d5",
   "metadata": {},
   "outputs": [
    {
     "data": {
      "text/html": [
       "<div>\n",
       "<style scoped>\n",
       "    .dataframe tbody tr th:only-of-type {\n",
       "        vertical-align: middle;\n",
       "    }\n",
       "\n",
       "    .dataframe tbody tr th {\n",
       "        vertical-align: top;\n",
       "    }\n",
       "\n",
       "    .dataframe thead th {\n",
       "        text-align: right;\n",
       "    }\n",
       "</style>\n",
       "<table border=\"1\" class=\"dataframe\">\n",
       "  <thead>\n",
       "    <tr style=\"text-align: right;\">\n",
       "      <th></th>\n",
       "      <th>coef</th>\n",
       "      <th>columns</th>\n",
       "    </tr>\n",
       "  </thead>\n",
       "  <tbody>\n",
       "    <tr>\n",
       "      <th>0</th>\n",
       "      <td>-0.032581</td>\n",
       "      <td>crim</td>\n",
       "    </tr>\n",
       "    <tr>\n",
       "      <th>1</th>\n",
       "      <td>0.053265</td>\n",
       "      <td>zn</td>\n",
       "    </tr>\n",
       "    <tr>\n",
       "      <th>2</th>\n",
       "      <td>-0.000000</td>\n",
       "      <td>indus</td>\n",
       "    </tr>\n",
       "    <tr>\n",
       "      <th>3</th>\n",
       "      <td>0.000000</td>\n",
       "      <td>chas</td>\n",
       "    </tr>\n",
       "    <tr>\n",
       "      <th>4</th>\n",
       "      <td>-0.000000</td>\n",
       "      <td>nox</td>\n",
       "    </tr>\n",
       "  </tbody>\n",
       "</table>\n",
       "</div>"
      ],
      "text/plain": [
       "       coef columns\n",
       "0 -0.032581    crim\n",
       "1  0.053265      zn\n",
       "2 -0.000000   indus\n",
       "3  0.000000    chas\n",
       "4 -0.000000     nox"
      ]
     },
     "execution_count": 104,
     "metadata": {},
     "output_type": "execute_result"
    }
   ],
   "source": [
    "df_lasso_coef.head()"
   ]
  },
  {
   "cell_type": "code",
   "execution_count": 107,
   "id": "8bf38c34-79ff-4e5f-96dd-9e590cfa2ac3",
   "metadata": {},
   "outputs": [
    {
     "data": {
      "text/plain": [
       "(array([2, 3, 4]),)"
      ]
     },
     "execution_count": 107,
     "metadata": {},
     "output_type": "execute_result"
    }
   ],
   "source": [
    "np.where(df_lasso_coef.coef == 0)"
   ]
  },
  {
   "cell_type": "code",
   "execution_count": 106,
   "id": "bc2ae0c6-dbb1-44ff-8981-3fd7303a0da0",
   "metadata": {},
   "outputs": [
    {
     "data": {
      "text/plain": [
       "<AxesSubplot:xlabel='columns', ylabel='coef'>"
      ]
     },
     "execution_count": 106,
     "metadata": {},
     "output_type": "execute_result"
    },
    {
     "data": {
      "image/png": "[encoded data removed]",
      "text/plain": [
       "<Figure size 720x432 with 1 Axes>"
      ]
     },
     "metadata": {
      "needs_background": "light"
     },
     "output_type": "display_data"
    }
   ],
   "source": [
    "plt.figure(figsize=(10,6))\n",
    "sns.barplot(x = 'columns',y = 'coef',data = df_lasso_coef)"
   ]
  },
  {
   "cell_type": "code",
   "execution_count": 108,
   "id": "5daafaac-e3b6-4427-b966-14f57ad24b90",
   "metadata": {},
   "outputs": [
    {
     "data": {
      "text/plain": [
       "<seaborn.axisgrid.FacetGrid at 0x7f2221fa3460>"
      ]
     },
     "execution_count": 108,
     "metadata": {},
     "output_type": "execute_result"
    },
    {
     "data": {
      "image/png": "[encoded data removed]",
      "text/plain": [
       "<Figure size 360x360 with 1 Axes>"
      ]
     },
     "metadata": {
      "needs_background": "light"
     },
     "output_type": "display_data"
    },
    {
     "data": {
      "image/png": "[encoded data removed]",
      "text/plain": [
       "<Figure size 360x360 with 1 Axes>"
      ]
     },
     "metadata": {
      "needs_background": "light"
     },
     "output_type": "display_data"
    }
   ],
   "source": [
    "alpha = [0.0001,0.001,0.01,0.05,0.1,0.2,0.3,0.4,0.5,0.6,0.7,0.8,0.9,1.0,2.0,3.0,4.0,5.0,6.0,7.0,8.0,9.0,10.0]\n",
    "biases = []\n",
    "mses = []\n",
    "variances = []\n",
    "for i in alpha:\n",
    "    model = Ridge(alpha = i)\n",
    "    mse,bias,var = bias_variance_decomp(model,x_train.values,y_train.values,x_test.values,y_test.values,loss = 'mse',num_rounds=200,random_seed=100)\n",
    "    mses.append(mse)\n",
    "    biases.append(bias)\n",
    "    variances.append(var)\n",
    "plt1 = sns.relplot(x=variances,y=mses,kind = 'line')\n",
    "plt2 = sns.relplot(x = biases,y = mses,kind = 'line')\n",
    "plt1.set_xlabels('Variance')\n",
    "plt1.set_ylabels('MSE')\n",
    "plt2.set_xlabels('Bias')\n",
    "plt2.set_ylabels('MSE')"
   ]
  },
  {
   "cell_type": "code",
   "execution_count": null,
   "id": "1d5841bd-0e87-477e-8ae3-9292199038b8",
   "metadata": {},
   "outputs": [],
   "source": []
  }
 ],
 "metadata": {
  "kernelspec": {
   "display_name": "Python 3 (ipykernel)",
   "language": "python",
   "name": "python3"
  },
  "language_info": {
   "codemirror_mode": {
    "name": "ipython",
    "version": 3
   },
   "file_extension": ".py",
   "mimetype": "text/x-python",
   "name": "python",
   "nbconvert_exporter": "python",
   "pygments_lexer": "ipython3",
   "version": "3.10.1"
  }
 },
 "nbformat": 4,
 "nbformat_minor": 5
}
