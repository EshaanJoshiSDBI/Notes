{
 "cells": [
  {
   "cell_type": "code",
   "execution_count": 11,
   "id": "49ea5a22-ec60-49cb-b21e-3adb3b1998c2",
   "metadata": {},
   "outputs": [],
   "source": [
    "import pandas as pd\n",
    "import numpy as np\n",
    "import cv2"
   ]
  },
  {
   "cell_type": "code",
   "execution_count": 12,
   "id": "e3cf1b64-8bdd-433e-97a5-05d1ec39a482",
   "metadata": {},
   "outputs": [],
   "source": [
    "img = cv2.imread('/home/eshaan/Downloads/cat.jpeg')"
   ]
  },
  {
   "cell_type": "code",
   "execution_count": 13,
   "id": "d4ab373a-18e6-4df9-9562-c7cce30cedae",
   "metadata": {},
   "outputs": [],
   "source": [
    "cv2.imshow('window',img)"
   ]
  },
  {
   "cell_type": "code",
   "execution_count": 14,
   "id": "9484f9b9-dc35-4dbe-965a-d3ab58086013",
   "metadata": {},
   "outputs": [],
   "source": [
    "l = [11,12,13,14]"
   ]
  },
  {
   "cell_type": "code",
   "execution_count": 15,
   "id": "cf139fba-b134-4309-8ec4-b9f6d9f6be23",
   "metadata": {},
   "outputs": [],
   "source": [
    "l2 = [1+(i%10) for i in l]"
   ]
  },
  {
   "cell_type": "code",
   "execution_count": 16,
   "id": "47cf302d-3090-4575-9276-d1e21c904bf1",
   "metadata": {},
   "outputs": [
    {
     "data": {
      "text/plain": [
       "[2, 3, 4, 5]"
      ]
     },
     "execution_count": 16,
     "metadata": {},
     "output_type": "execute_result"
    }
   ],
   "source": [
    "l2"
   ]
  },
  {
   "cell_type": "code",
   "execution_count": 17,
   "id": "9e990fe5-da2a-4011-9e9e-5cebf6718d66",
   "metadata": {},
   "outputs": [
    {
     "data": {
      "text/plain": [
       "'\\nGeneral configuration for OpenCV 4.6.0 =====================================\\n  Version control:               unknown\\n\\n  Platform:\\n    Timestamp:                   2022-06-07T10:28:59Z\\n    Host:                        Linux 5.13.0-1025-azure x86_64\\n    CMake:                       3.22.5\\n    CMake generator:             Unix Makefiles\\n    CMake build tool:            /bin/gmake\\n    Configuration:               Release\\n\\n  CPU/HW features:\\n    Baseline:                    SSE SSE2 SSE3\\n      requested:                 SSE3\\n    Dispatched code generation:  SSE4_1 SSE4_2 FP16 AVX AVX2 AVX512_SKX\\n      requested:                 SSE4_1 SSE4_2 AVX FP16 AVX2 AVX512_SKX\\n      SSE4_1 (16 files):         + SSSE3 SSE4_1\\n      SSE4_2 (1 files):          + SSSE3 SSE4_1 POPCNT SSE4_2\\n      FP16 (0 files):            + SSSE3 SSE4_1 POPCNT SSE4_2 FP16 AVX\\n      AVX (4 files):             + SSSE3 SSE4_1 POPCNT SSE4_2 AVX\\n      AVX2 (31 files):           + SSSE3 SSE4_1 POPCNT SSE4_2 FP16 FMA3 AVX AVX2\\n      AVX512_SKX (5 files):      + SSSE3 SSE4_1 POPCNT SSE4_2 FP16 FMA3 AVX AVX2 AVX_512F AVX512_COMMON AVX512_SKX\\n\\n  C/C++:\\n    Built as dynamic libs?:      NO\\n    C++ standard:                11\\n    C++ Compiler:                /usr/lib/ccache/compilers/c++  (ver 10.2.1)\\n    C++ flags (Release):         -Wl,-strip-all   -fsigned-char -W -Wall -Wreturn-type -Wnon-virtual-dtor -Waddress -Wsequence-point -Wformat -Wformat-security -Wmissing-declarations -Wundef -Winit-self -Wpointer-arith -Wshadow -Wsign-promo -Wuninitialized -Wsuggest-override -Wno-delete-non-virtual-dtor -Wno-comment -Wimplicit-fallthrough=3 -Wno-strict-overflow -fdiagnostics-show-option -Wno-long-long -pthread -fomit-frame-pointer -ffunction-sections -fdata-sections  -msse -msse2 -msse3 -fvisibility=hidden -fvisibility-inlines-hidden -O3 -DNDEBUG  -DNDEBUG\\n    C++ flags (Debug):           -Wl,-strip-all   -fsigned-char -W -Wall -Wreturn-type -Wnon-virtual-dtor -Waddress -Wsequence-point -Wformat -Wformat-security -Wmissing-declarations -Wundef -Winit-self -Wpointer-arith -Wshadow -Wsign-promo -Wuninitialized -Wsuggest-override -Wno-delete-non-virtual-dtor -Wno-comment -Wimplicit-fallthrough=3 -Wno-strict-overflow -fdiagnostics-show-option -Wno-long-long -pthread -fomit-frame-pointer -ffunction-sections -fdata-sections  -msse -msse2 -msse3 -fvisibility=hidden -fvisibility-inlines-hidden -g  -O0 -DDEBUG -D_DEBUG\\n    C Compiler:                  /usr/lib/ccache/compilers/cc\\n    C flags (Release):           -Wl,-strip-all   -fsigned-char -W -Wall -Wreturn-type -Waddress -Wsequence-point -Wformat -Wformat-security -Wmissing-declarations -Wmissing-prototypes -Wstrict-prototypes -Wundef -Winit-self -Wpointer-arith -Wshadow -Wuninitialized -Wno-comment -Wno-strict-overflow -fdiagnostics-show-option -Wno-long-long -pthread -fomit-frame-pointer -ffunction-sections -fdata-sections  -msse -msse2 -msse3 -fvisibility=hidden -O3 -DNDEBUG  -DNDEBUG\\n    C flags (Debug):             -Wl,-strip-all   -fsigned-char -W -Wall -Wreturn-type -Waddress -Wsequence-point -Wformat -Wformat-security -Wmissing-declarations -Wmissing-prototypes -Wstrict-prototypes -Wundef -Winit-self -Wpointer-arith -Wshadow -Wuninitialized -Wno-comment -Wno-strict-overflow -fdiagnostics-show-option -Wno-long-long -pthread -fomit-frame-pointer -ffunction-sections -fdata-sections  -msse -msse2 -msse3 -fvisibility=hidden -g  -O0 -DDEBUG -D_DEBUG\\n    Linker flags (Release):      -Wl,--exclude-libs,libippicv.a -Wl,--exclude-libs,libippiw.a -L/root/ffmpeg_build/lib  -Wl,--gc-sections -Wl,--as-needed -Wl,--no-undefined  \\n    Linker flags (Debug):        -Wl,--exclude-libs,libippicv.a -Wl,--exclude-libs,libippiw.a -L/root/ffmpeg_build/lib  -Wl,--gc-sections -Wl,--as-needed -Wl,--no-undefined  \\n    ccache:                      YES\\n    Precompiled headers:         NO\\n    Extra dependencies:          /lib64/libopenblas.so Qt5::Core Qt5::Gui Qt5::Widgets Qt5::Test Qt5::Concurrent /usr/local/lib/libpng.so /lib64/libz.so dl m pthread rt\\n    3rdparty dependencies:       libprotobuf ade ittnotify libjpeg-turbo libwebp libtiff libopenjp2 IlmImf quirc ippiw ippicv\\n\\n  OpenCV modules:\\n    To be built:                 calib3d core dnn features2d flann gapi highgui imgcodecs imgproc ml objdetect photo python3 stitching video videoio\\n    Disabled:                    world\\n    Disabled by dependency:      -\\n    Unavailable:                 java python2 ts\\n    Applications:                -\\n    Documentation:               NO\\n    Non-free algorithms:         NO\\n\\n  GUI:                           QT5\\n    QT:                          YES (ver 5.15.0 )\\n      QT OpenGL support:         NO\\n    GTK+:                        NO\\n    VTK support:                 NO\\n\\n  Media I/O: \\n    ZLib:                        /lib64/libz.so (ver 1.2.7)\\n    JPEG:                        libjpeg-turbo (ver 2.1.2-62)\\n    WEBP:                        build (ver encoder: 0x020f)\\n    PNG:                         /usr/local/lib/libpng.so (ver 1.6.37)\\n    TIFF:                        build (ver 42 - 4.2.0)\\n    JPEG 2000:                   build (ver 2.4.0)\\n    OpenEXR:                     build (ver 2.3.0)\\n    HDR:                         YES\\n    SUNRASTER:                   YES\\n    PXM:                         YES\\n    PFM:                         YES\\n\\n  Video I/O:\\n    DC1394:                      NO\\n    FFMPEG:                      YES\\n      avcodec:                   YES (58.134.100)\\n      avformat:                  YES (58.76.100)\\n      avutil:                    YES (56.70.100)\\n      swscale:                   YES (5.9.100)\\n      avresample:                NO\\n    GStreamer:                   NO\\n    v4l/v4l2:                    YES (linux/videodev2.h)\\n\\n  Parallel framework:            pthreads\\n\\n  Trace:                         YES (with Intel ITT)\\n\\n  Other third-party libraries:\\n    Intel IPP:                   2020.0.0 Gold [2020.0.0]\\n           at:                   /io/_skbuild/linux-x86_64-3.6/cmake-build/3rdparty/ippicv/ippicv_lnx/icv\\n    Intel IPP IW:                sources (2020.0.0)\\n              at:                /io/_skbuild/linux-x86_64-3.6/cmake-build/3rdparty/ippicv/ippicv_lnx/iw\\n    VA:                          NO\\n    Lapack:                      YES (/lib64/libopenblas.so)\\n    Eigen:                       NO\\n    Custom HAL:                  NO\\n    Protobuf:                    build (3.19.1)\\n\\n  OpenCL:                        YES (no extra features)\\n    Include path:                /io/opencv/3rdparty/include/opencl/1.2\\n    Link libraries:              Dynamic load\\n\\n  Python 3:\\n    Interpreter:                 /opt/python/cp36-cp36m/bin/python3.6 (ver 3.6.15)\\n    Libraries:                   libpython3.6m.a (ver 3.6.15)\\n    numpy:                       /opt/python/cp36-cp36m/lib/python3.6/site-packages/numpy/core/include (ver 1.13.3)\\n    install path:                python/cv2/python-3\\n\\n  Python (for build):            /bin/python2.7\\n\\n  Java:                          \\n    ant:                         NO\\n    JNI:                         NO\\n    Java wrappers:               NO\\n    Java tests:                  NO\\n\\n  Install to:                    /io/_skbuild/linux-x86_64-3.6/cmake-install\\n-----------------------------------------------------------------\\n\\n'"
      ]
     },
     "execution_count": 17,
     "metadata": {},
     "output_type": "execute_result"
    }
   ],
   "source": [
    "cv2.getBuildInformation()"
   ]
  }
 ],
 "metadata": {
  "kernelspec": {
   "display_name": "Python 3 (ipykernel)",
   "language": "python",
   "name": "python3"
  },
  "language_info": {
   "codemirror_mode": {
    "name": "ipython",
    "version": 3
   },
   "file_extension": ".py",
   "mimetype": "text/x-python",
   "name": "python",
   "nbconvert_exporter": "python",
   "pygments_lexer": "ipython3",
   "version": "3.10.5"
  }
 },
 "nbformat": 4,
 "nbformat_minor": 5
}
