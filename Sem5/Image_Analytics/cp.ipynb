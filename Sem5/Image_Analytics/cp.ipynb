{
 "cells": [
  {
   "cell_type": "code",
   "execution_count": 29,
   "id": "a4c9a95c-542e-434b-a2e8-eedcc8367840",
   "metadata": {},
   "outputs": [],
   "source": [
    "import pandas as pd\n",
    "import numpy as np\n",
    "import matplotlib.pyplot as plt\n",
    "from sklearn.preprocessing import LabelEncoder"
   ]
  },
  {
   "cell_type": "code",
   "execution_count": 48,
   "id": "a9404cc9-b6c4-478c-9900-53ed12d26c49",
   "metadata": {},
   "outputs": [],
   "source": [
    "df = pd.read_csv('data(1).csv')"
   ]
  },
  {
   "cell_type": "code",
   "execution_count": 49,
   "id": "2dfd19f3-9e2e-4d0b-9e41-4a46abf9fc37",
   "metadata": {},
   "outputs": [
    {
     "data": {
      "text/html": [
       "<div>\n",
       "<style scoped>\n",
       "    .dataframe tbody tr th:only-of-type {\n",
       "        vertical-align: middle;\n",
       "    }\n",
       "\n",
       "    .dataframe tbody tr th {\n",
       "        vertical-align: top;\n",
       "    }\n",
       "\n",
       "    .dataframe thead th {\n",
       "        text-align: right;\n",
       "    }\n",
       "</style>\n",
       "<table border=\"1\" class=\"dataframe\">\n",
       "  <thead>\n",
       "    <tr style=\"text-align: right;\">\n",
       "      <th></th>\n",
       "      <th>id</th>\n",
       "      <th>diagnosis</th>\n",
       "      <th>radius_mean</th>\n",
       "      <th>texture_mean</th>\n",
       "      <th>perimeter_mean</th>\n",
       "      <th>area_mean</th>\n",
       "      <th>smoothness_mean</th>\n",
       "      <th>compactness_mean</th>\n",
       "      <th>concavity_mean</th>\n",
       "      <th>concave points_mean</th>\n",
       "      <th>...</th>\n",
       "      <th>texture_worst</th>\n",
       "      <th>perimeter_worst</th>\n",
       "      <th>area_worst</th>\n",
       "      <th>smoothness_worst</th>\n",
       "      <th>compactness_worst</th>\n",
       "      <th>concavity_worst</th>\n",
       "      <th>concave points_worst</th>\n",
       "      <th>symmetry_worst</th>\n",
       "      <th>fractal_dimension_worst</th>\n",
       "      <th>Unnamed: 32</th>\n",
       "    </tr>\n",
       "  </thead>\n",
       "  <tbody>\n",
       "    <tr>\n",
       "      <th>0</th>\n",
       "      <td>842302</td>\n",
       "      <td>M</td>\n",
       "      <td>17.99</td>\n",
       "      <td>10.38</td>\n",
       "      <td>122.80</td>\n",
       "      <td>1001.0</td>\n",
       "      <td>0.11840</td>\n",
       "      <td>0.27760</td>\n",
       "      <td>0.3001</td>\n",
       "      <td>0.14710</td>\n",
       "      <td>...</td>\n",
       "      <td>17.33</td>\n",
       "      <td>184.60</td>\n",
       "      <td>2019.0</td>\n",
       "      <td>0.1622</td>\n",
       "      <td>0.6656</td>\n",
       "      <td>0.7119</td>\n",
       "      <td>0.2654</td>\n",
       "      <td>0.4601</td>\n",
       "      <td>0.11890</td>\n",
       "      <td>NaN</td>\n",
       "    </tr>\n",
       "    <tr>\n",
       "      <th>1</th>\n",
       "      <td>842517</td>\n",
       "      <td>M</td>\n",
       "      <td>20.57</td>\n",
       "      <td>17.77</td>\n",
       "      <td>132.90</td>\n",
       "      <td>1326.0</td>\n",
       "      <td>0.08474</td>\n",
       "      <td>0.07864</td>\n",
       "      <td>0.0869</td>\n",
       "      <td>0.07017</td>\n",
       "      <td>...</td>\n",
       "      <td>23.41</td>\n",
       "      <td>158.80</td>\n",
       "      <td>1956.0</td>\n",
       "      <td>0.1238</td>\n",
       "      <td>0.1866</td>\n",
       "      <td>0.2416</td>\n",
       "      <td>0.1860</td>\n",
       "      <td>0.2750</td>\n",
       "      <td>0.08902</td>\n",
       "      <td>NaN</td>\n",
       "    </tr>\n",
       "    <tr>\n",
       "      <th>2</th>\n",
       "      <td>84300903</td>\n",
       "      <td>M</td>\n",
       "      <td>19.69</td>\n",
       "      <td>21.25</td>\n",
       "      <td>130.00</td>\n",
       "      <td>1203.0</td>\n",
       "      <td>0.10960</td>\n",
       "      <td>0.15990</td>\n",
       "      <td>0.1974</td>\n",
       "      <td>0.12790</td>\n",
       "      <td>...</td>\n",
       "      <td>25.53</td>\n",
       "      <td>152.50</td>\n",
       "      <td>1709.0</td>\n",
       "      <td>0.1444</td>\n",
       "      <td>0.4245</td>\n",
       "      <td>0.4504</td>\n",
       "      <td>0.2430</td>\n",
       "      <td>0.3613</td>\n",
       "      <td>0.08758</td>\n",
       "      <td>NaN</td>\n",
       "    </tr>\n",
       "    <tr>\n",
       "      <th>3</th>\n",
       "      <td>84348301</td>\n",
       "      <td>M</td>\n",
       "      <td>11.42</td>\n",
       "      <td>20.38</td>\n",
       "      <td>77.58</td>\n",
       "      <td>386.1</td>\n",
       "      <td>0.14250</td>\n",
       "      <td>0.28390</td>\n",
       "      <td>0.2414</td>\n",
       "      <td>0.10520</td>\n",
       "      <td>...</td>\n",
       "      <td>26.50</td>\n",
       "      <td>98.87</td>\n",
       "      <td>567.7</td>\n",
       "      <td>0.2098</td>\n",
       "      <td>0.8663</td>\n",
       "      <td>0.6869</td>\n",
       "      <td>0.2575</td>\n",
       "      <td>0.6638</td>\n",
       "      <td>0.17300</td>\n",
       "      <td>NaN</td>\n",
       "    </tr>\n",
       "    <tr>\n",
       "      <th>4</th>\n",
       "      <td>84358402</td>\n",
       "      <td>M</td>\n",
       "      <td>20.29</td>\n",
       "      <td>14.34</td>\n",
       "      <td>135.10</td>\n",
       "      <td>1297.0</td>\n",
       "      <td>0.10030</td>\n",
       "      <td>0.13280</td>\n",
       "      <td>0.1980</td>\n",
       "      <td>0.10430</td>\n",
       "      <td>...</td>\n",
       "      <td>16.67</td>\n",
       "      <td>152.20</td>\n",
       "      <td>1575.0</td>\n",
       "      <td>0.1374</td>\n",
       "      <td>0.2050</td>\n",
       "      <td>0.4000</td>\n",
       "      <td>0.1625</td>\n",
       "      <td>0.2364</td>\n",
       "      <td>0.07678</td>\n",
       "      <td>NaN</td>\n",
       "    </tr>\n",
       "  </tbody>\n",
       "</table>\n",
       "<p>5 rows × 33 columns</p>\n",
       "</div>"
      ],
      "text/plain": [
       "         id diagnosis  radius_mean  texture_mean  perimeter_mean  area_mean  \\\n",
       "0    842302         M        17.99         10.38          122.80     1001.0   \n",
       "1    842517         M        20.57         17.77          132.90     1326.0   \n",
       "2  84300903         M        19.69         21.25          130.00     1203.0   \n",
       "3  84348301         M        11.42         20.38           77.58      386.1   \n",
       "4  84358402         M        20.29         14.34          135.10     1297.0   \n",
       "\n",
       "   smoothness_mean  compactness_mean  concavity_mean  concave points_mean  \\\n",
       "0          0.11840           0.27760          0.3001              0.14710   \n",
       "1          0.08474           0.07864          0.0869              0.07017   \n",
       "2          0.10960           0.15990          0.1974              0.12790   \n",
       "3          0.14250           0.28390          0.2414              0.10520   \n",
       "4          0.10030           0.13280          0.1980              0.10430   \n",
       "\n",
       "   ...  texture_worst  perimeter_worst  area_worst  smoothness_worst  \\\n",
       "0  ...          17.33           184.60      2019.0            0.1622   \n",
       "1  ...          23.41           158.80      1956.0            0.1238   \n",
       "2  ...          25.53           152.50      1709.0            0.1444   \n",
       "3  ...          26.50            98.87       567.7            0.2098   \n",
       "4  ...          16.67           152.20      1575.0            0.1374   \n",
       "\n",
       "   compactness_worst  concavity_worst  concave points_worst  symmetry_worst  \\\n",
       "0             0.6656           0.7119                0.2654          0.4601   \n",
       "1             0.1866           0.2416                0.1860          0.2750   \n",
       "2             0.4245           0.4504                0.2430          0.3613   \n",
       "3             0.8663           0.6869                0.2575          0.6638   \n",
       "4             0.2050           0.4000                0.1625          0.2364   \n",
       "\n",
       "   fractal_dimension_worst  Unnamed: 32  \n",
       "0                  0.11890          NaN  \n",
       "1                  0.08902          NaN  \n",
       "2                  0.08758          NaN  \n",
       "3                  0.17300          NaN  \n",
       "4                  0.07678          NaN  \n",
       "\n",
       "[5 rows x 33 columns]"
      ]
     },
     "execution_count": 49,
     "metadata": {},
     "output_type": "execute_result"
    }
   ],
   "source": [
    "df.head()"
   ]
  },
  {
   "cell_type": "code",
   "execution_count": 32,
   "id": "94da6def-4fd8-486d-9255-313d701d8051",
   "metadata": {},
   "outputs": [],
   "source": [
    "data = np.array(df)"
   ]
  },
  {
   "cell_type": "code",
   "execution_count": 33,
   "id": "2221d5c6-ea6e-41d4-a123-bbaf192d7234",
   "metadata": {},
   "outputs": [
    {
     "data": {
      "text/plain": [
       "array([[842302, 'M', 17.99, ..., 0.4601, 0.1189, nan],\n",
       "       [842517, 'M', 20.57, ..., 0.275, 0.08902, nan],\n",
       "       [84300903, 'M', 19.69, ..., 0.3613, 0.08758, nan],\n",
       "       ...,\n",
       "       [926954, 'M', 16.6, ..., 0.2218, 0.0782, nan],\n",
       "       [927241, 'M', 20.6, ..., 0.4087, 0.124, nan],\n",
       "       [92751, 'B', 7.76, ..., 0.2871, 0.07039, nan]], dtype=object)"
      ]
     },
     "execution_count": 33,
     "metadata": {},
     "output_type": "execute_result"
    }
   ],
   "source": [
    "data"
   ]
  },
  {
   "cell_type": "code",
   "execution_count": 14,
   "id": "b2b6b16a-0089-482e-9dcc-ccad2f73b9a1",
   "metadata": {},
   "outputs": [],
   "source": [
    "y = data[:,30]\n"
   ]
  },
  {
   "cell_type": "code",
   "execution_count": 13,
   "id": "2b0d72d9-6fb5-4870-a2ec-0122cf3f755d",
   "metadata": {},
   "outputs": [
    {
     "data": {
      "text/plain": [
       "Index(['id', 'diagnosis', 'radius_mean', 'texture_mean', 'perimeter_mean',\n",
       "       'area_mean', 'smoothness_mean', 'compactness_mean', 'concavity_mean',\n",
       "       'concave points_mean', 'symmetry_mean', 'fractal_dimension_mean',\n",
       "       'radius_se', 'texture_se', 'perimeter_se', 'area_se', 'smoothness_se',\n",
       "       'compactness_se', 'concavity_se', 'concave points_se', 'symmetry_se',\n",
       "       'fractal_dimension_se', 'radius_worst', 'texture_worst',\n",
       "       'perimeter_worst', 'area_worst', 'smoothness_worst',\n",
       "       'compactness_worst', 'concavity_worst', 'concave points_worst',\n",
       "       'symmetry_worst', 'fractal_dimension_worst', 'Unnamed: 32'],\n",
       "      dtype='object')"
      ]
     },
     "execution_count": 13,
     "metadata": {},
     "output_type": "execute_result"
    }
   ],
   "source": [
    "df.columns"
   ]
  },
  {
   "cell_type": "code",
   "execution_count": null,
   "id": "56d9b457-3811-476f-866f-a5988cb405d1",
   "metadata": {},
   "outputs": [],
   "source": []
  },
  {
   "cell_type": "code",
   "execution_count": 16,
   "id": "376bf160-da1a-400a-84da-6e4854269715",
   "metadata": {},
   "outputs": [],
   "source": [
    "# converting diagnonosis column into malagnint and benigin\n",
    "b = pd.get_dummies(df,columns = [\"diagnosis\"])"
   ]
  },
  {
   "cell_type": "code",
   "execution_count": 17,
   "id": "7f2c13d5-2c21-463b-992f-58b6a974b154",
   "metadata": {},
   "outputs": [
    {
     "data": {
      "text/plain": [
       "Index(['id', 'radius_mean', 'texture_mean', 'perimeter_mean', 'area_mean',\n",
       "       'smoothness_mean', 'compactness_mean', 'concavity_mean',\n",
       "       'concave points_mean', 'symmetry_mean', 'fractal_dimension_mean',\n",
       "       'radius_se', 'texture_se', 'perimeter_se', 'area_se', 'smoothness_se',\n",
       "       'compactness_se', 'concavity_se', 'concave points_se', 'symmetry_se',\n",
       "       'fractal_dimension_se', 'radius_worst', 'texture_worst',\n",
       "       'perimeter_worst', 'area_worst', 'smoothness_worst',\n",
       "       'compactness_worst', 'concavity_worst', 'concave points_worst',\n",
       "       'symmetry_worst', 'fractal_dimension_worst', 'Unnamed: 32',\n",
       "       'diagnosis_B', 'diagnosis_M'],\n",
       "      dtype='object')"
      ]
     },
     "execution_count": 17,
     "metadata": {},
     "output_type": "execute_result"
    }
   ],
   "source": [
    "b.columns"
   ]
  },
  {
   "cell_type": "code",
   "execution_count": 19,
   "id": "53de4086-0386-409e-b0e5-a8dab80de946",
   "metadata": {},
   "outputs": [
    {
     "data": {
      "text/plain": [
       "array([[0, 1],\n",
       "       [0, 1],\n",
       "       [0, 1],\n",
       "       ...,\n",
       "       [0, 1],\n",
       "       [0, 1],\n",
       "       [1, 0]], dtype=uint8)"
      ]
     },
     "execution_count": 19,
     "metadata": {},
     "output_type": "execute_result"
    }
   ],
   "source": [
    "x = np.column_stack((b.diagnosis_B,b.diagnosis_M))\n",
    "x"
   ]
  },
  {
   "cell_type": "code",
   "execution_count": 20,
   "id": "8a13bd8c-efb2-43bf-a1d1-fa643fe06950",
   "metadata": {},
   "outputs": [
    {
     "data": {
      "text/plain": [
       "(569, 2)"
      ]
     },
     "execution_count": 20,
     "metadata": {},
     "output_type": "execute_result"
    }
   ],
   "source": [
    "x.shape"
   ]
  },
  {
   "cell_type": "code",
   "execution_count": 23,
   "id": "d90a5e02-aa33-4efd-8ada-0d1e2890b066",
   "metadata": {},
   "outputs": [],
   "source": [
    "from sklearn.svm import SVC"
   ]
  },
  {
   "cell_type": "code",
   "execution_count": 28,
   "id": "247d381e-9f71-4045-89b4-a3ca0722f50c",
   "metadata": {},
   "outputs": [
    {
     "ename": "ValueError",
     "evalue": "Expected 2D array, got 1D array instead:\narray=[0.4601 0.275  0.3613 0.6638 0.2364 0.3985 0.3063 0.3196 0.4378 0.4366\n 0.2948 0.3792 0.3176 0.2809 0.3596 0.4218 0.3029 0.3706 0.2768 0.2977\n 0.3184 0.245  0.4667 0.2822 0.3613 0.4066 0.4264 0.2341 0.4027 0.2756\n 0.3444 0.4761 0.353  0.3672 0.427  0.4863 0.3591 0.1987 0.1565 0.2807\n 0.2994 0.2964 0.467  0.3739 0.3693 0.3799 0.3105 0.39   0.2747 0.2871\n 0.2433 0.2346 0.2785 0.3021 0.2675 0.3306 0.3537 0.3698 0.2439 0.322\n 0.3557 0.2972 0.2844 0.3282 0.3383 0.3321 0.2878 0.24   0.4228 0.2383\n 0.2551 0.2254 0.3313 0.2589 0.2618 0.265  0.271  0.3751 0.544  0.2779\n 0.2762 0.3527 0.2355 0.2311 0.3379 0.3695 0.302  0.3956 0.2972 0.3151\n 0.2522 0.2556 0.2027 0.2678 0.2834 0.3689 0.2227 0.1934 0.2772 0.2718\n 0.2651 0.2932 0.2694 0.2622 0.2826 0.3147 0.2806 0.2983 0.4055 0.2829\n 0.2533 0.2226 0.2398 0.2383 0.2926 0.2438 0.1652 0.3585 0.3274 0.4882\n 0.3016 0.2894 0.3222 0.2889 0.2048 0.2364 0.347  0.2841 0.259  0.3305\n 0.3469 0.2837 0.348  0.2723 0.3109 0.2829 0.1712 0.2676 0.3414 0.2102\n 0.3105 0.2792 0.2584 0.3549 0.23   0.2727 0.5774 0.2852 0.2691 0.235\n 0.3196 0.3322 0.3108 0.2859 0.3849 0.3113 0.2463 0.2527 0.2514 0.2738\n 0.3168 0.2443 0.3643 0.2268 0.3589 0.2646 0.209  0.281  0.216  0.2404\n 0.2827 0.2884 0.3216 0.1902 0.271  0.2592 0.2614 0.3054 0.2295 0.1783\n 0.2856 0.4098 0.3437 0.1811 0.3175 0.2933 0.3206 0.2572 0.32   0.2482\n 0.5166 0.2179 0.1909 0.3215 0.3    0.3024 0.308  0.2369 0.3193 0.4753\n 0.2668 0.2928 0.3198 0.4432 0.3014 0.3415 0.2989 0.3275 0.4128 0.232\n 0.2909 0.2535 0.1648 0.1603 0.4724 0.363  0.3397 0.2868 0.307  0.2713\n 0.238  0.3065 0.3055 0.3993 0.2506 0.3062 0.2615 0.2954 0.2826 0.3407\n 0.3109 0.2849 0.2911 0.2437 0.2757 0.2226 0.3103 0.2238 0.189  0.2853\n 0.253  0.2901 0.3308 0.2663 0.292  0.2883 0.2767 0.2639 0.3409 0.2664\n 0.3126 0.274  0.2749 0.3138 0.3379 0.3068 0.2818 0.3258 0.3277 0.3512\n 0.3151 0.2452 0.3067 0.2683 0.3216 0.2868 0.294  0.2446 0.3604 0.2605\n 0.2458 0.2733 0.2833 0.2841 0.2504 0.222  0.2758 0.2567 0.2335 0.2955\n 0.3258 0.3101 0.359  0.277  0.1999 0.2505 0.2465 0.2309 0.2955 0.3267\n 0.2272 0.2962 0.338  0.3101 0.2369 0.2823 0.2143 0.1978 0.2636 0.2227\n 0.2968 0.2685 0.3294 0.2213 0.2208 0.3244 0.2651 0.2991 0.2267 0.2107\n 0.3487 0.253  0.2564 0.339  0.3142 0.1917 0.2293 0.2812 0.3135 0.1901\n 0.2608 0.3055 0.2382 0.5558 0.2661 0.2688 0.21   0.2171 0.3103 0.2736\n 0.3019 0.3596 0.3292 0.2815 0.2554 0.2623 0.2432 0.3679 0.2894 0.2593\n 0.3053 0.2982 0.3301 0.4045 0.2765 0.2434 0.288  0.3109 0.2851 0.3124\n 0.2731 0.4245 0.369  0.2654 0.2576 0.2121 0.3113 0.2362 0.2434 0.2454\n 0.2233 0.2637 0.2744 0.2394 0.2741 0.2609 0.3271 0.3218 0.251  0.2741\n 0.4824 0.2487 0.273  0.2689 0.3323 0.3153 0.2597 0.2694 0.3387 0.4154\n 0.3343 0.3202 0.2191 0.2819 0.2736 0.2477 0.2677 0.2542 0.2157 0.2576\n 0.2937 0.2445 0.3187 0.3828 0.3049 0.2523 0.2666 0.1988 0.259  0.2779\n 0.3245 0.246  0.3207 0.3297 0.2298 0.2251 0.2778 0.2488 0.306  0.3455\n 0.2973 0.2998 0.2376 0.3163 0.3233 0.3075 0.2872 0.3003 0.2775 0.2976\n 0.3035 0.2827 0.2787 0.2744 0.3196 0.2349 0.302  0.2965 0.2383 0.2165\n 0.2866 0.2556 0.3032 0.3007 0.2525 0.3179 0.3313 0.2725 0.2513 0.2136\n 0.254  0.25   0.1859 0.2699 0.2842 0.2599 0.2972 0.36   0.2471 0.2268\n 0.2305 0.2293 0.2447 0.2606 0.327  0.2196 0.2884 0.2444 0.2306 0.2321\n 0.301  0.2641 0.2345 0.321  0.2235 0.2845 0.2563 0.3057 0.2301 0.266\n 0.3174 0.2404 0.2688 0.2409 0.2581 0.3006 0.2534 0.2679 0.2941 0.3318\n 0.2406 0.2356 0.3227 0.2518 0.2557 0.3231 0.2455 0.3266 0.2804 0.4677\n 0.31   0.1783 0.3251 0.228  0.2687 0.2369 0.323  0.3035 0.251  0.248\n 0.2177 0.3651 0.3155 0.2908 0.3038 0.2848 0.2709 0.278  0.23   0.3013\n 0.2604 0.2334 0.3585 0.2626 0.2282 0.306  0.3074 0.2549 0.2582 0.3071\n 0.3681 0.3157 0.2557 0.2849 0.2502 0.2983 0.3518 0.311  0.216  0.2781\n 0.2478 0.3206 0.2806 0.322  0.2289 0.3077 0.2698 0.2803 0.3058 0.279\n 0.2329 0.3187 0.2722 0.2473 0.2249 0.2642 0.2681 0.2691 0.2552 0.3059\n 0.2458 0.3169 0.2407 0.2435 0.2372 0.2226 0.2262 0.2475 0.2258 0.2112\n 0.225  0.1566 0.4089 0.2929 0.206  0.2572 0.2218 0.4087 0.2871].\nReshape your data either using array.reshape(-1, 1) if your data has a single feature or array.reshape(1, -1) if it contains a single sample.",
     "output_type": "error",
     "traceback": [
      "\u001b[0;31m---------------------------------------------------------------------------\u001b[0m",
      "\u001b[0;31mValueError\u001b[0m                                Traceback (most recent call last)",
      "\u001b[0;32m/tmp/ipykernel_219818/3880810866.py\u001b[0m in \u001b[0;36m<module>\u001b[0;34m\u001b[0m\n\u001b[1;32m      1\u001b[0m \u001b[0msv\u001b[0m \u001b[0;34m=\u001b[0m \u001b[0mSVC\u001b[0m\u001b[0;34m(\u001b[0m\u001b[0mkernel\u001b[0m \u001b[0;34m=\u001b[0m \u001b[0;34m\"linear\"\u001b[0m\u001b[0;34m)\u001b[0m\u001b[0;34m\u001b[0m\u001b[0;34m\u001b[0m\u001b[0m\n\u001b[0;32m----> 2\u001b[0;31m \u001b[0msv\u001b[0m\u001b[0;34m.\u001b[0m\u001b[0mfit\u001b[0m\u001b[0;34m(\u001b[0m\u001b[0my\u001b[0m\u001b[0;34m,\u001b[0m\u001b[0mx\u001b[0m\u001b[0;34m)\u001b[0m\u001b[0;34m\u001b[0m\u001b[0;34m\u001b[0m\u001b[0m\n\u001b[0m",
      "\u001b[0;32m~/.local/lib/python3.10/site-packages/sklearn/svm/_base.py\u001b[0m in \u001b[0;36mfit\u001b[0;34m(self, X, y, sample_weight)\u001b[0m\n\u001b[1;32m    188\u001b[0m             \u001b[0mcheck_consistent_length\u001b[0m\u001b[0;34m(\u001b[0m\u001b[0mX\u001b[0m\u001b[0;34m,\u001b[0m \u001b[0my\u001b[0m\u001b[0;34m)\u001b[0m\u001b[0;34m\u001b[0m\u001b[0;34m\u001b[0m\u001b[0m\n\u001b[1;32m    189\u001b[0m         \u001b[0;32melse\u001b[0m\u001b[0;34m:\u001b[0m\u001b[0;34m\u001b[0m\u001b[0;34m\u001b[0m\u001b[0m\n\u001b[0;32m--> 190\u001b[0;31m             X, y = self._validate_data(\n\u001b[0m\u001b[1;32m    191\u001b[0m                 \u001b[0mX\u001b[0m\u001b[0;34m,\u001b[0m\u001b[0;34m\u001b[0m\u001b[0;34m\u001b[0m\u001b[0m\n\u001b[1;32m    192\u001b[0m                 \u001b[0my\u001b[0m\u001b[0;34m,\u001b[0m\u001b[0;34m\u001b[0m\u001b[0;34m\u001b[0m\u001b[0m\n",
      "\u001b[0;32m~/.local/lib/python3.10/site-packages/sklearn/base.py\u001b[0m in \u001b[0;36m_validate_data\u001b[0;34m(self, X, y, reset, validate_separately, **check_params)\u001b[0m\n\u001b[1;32m    574\u001b[0m                 \u001b[0my\u001b[0m \u001b[0;34m=\u001b[0m \u001b[0mcheck_array\u001b[0m\u001b[0;34m(\u001b[0m\u001b[0my\u001b[0m\u001b[0;34m,\u001b[0m \u001b[0;34m**\u001b[0m\u001b[0mcheck_y_params\u001b[0m\u001b[0;34m)\u001b[0m\u001b[0;34m\u001b[0m\u001b[0;34m\u001b[0m\u001b[0m\n\u001b[1;32m    575\u001b[0m             \u001b[0;32melse\u001b[0m\u001b[0;34m:\u001b[0m\u001b[0;34m\u001b[0m\u001b[0;34m\u001b[0m\u001b[0m\n\u001b[0;32m--> 576\u001b[0;31m                 \u001b[0mX\u001b[0m\u001b[0;34m,\u001b[0m \u001b[0my\u001b[0m \u001b[0;34m=\u001b[0m \u001b[0mcheck_X_y\u001b[0m\u001b[0;34m(\u001b[0m\u001b[0mX\u001b[0m\u001b[0;34m,\u001b[0m \u001b[0my\u001b[0m\u001b[0;34m,\u001b[0m \u001b[0;34m**\u001b[0m\u001b[0mcheck_params\u001b[0m\u001b[0;34m)\u001b[0m\u001b[0;34m\u001b[0m\u001b[0;34m\u001b[0m\u001b[0m\n\u001b[0m\u001b[1;32m    577\u001b[0m             \u001b[0mout\u001b[0m \u001b[0;34m=\u001b[0m \u001b[0mX\u001b[0m\u001b[0;34m,\u001b[0m \u001b[0my\u001b[0m\u001b[0;34m\u001b[0m\u001b[0;34m\u001b[0m\u001b[0m\n\u001b[1;32m    578\u001b[0m \u001b[0;34m\u001b[0m\u001b[0m\n",
      "\u001b[0;32m~/.local/lib/python3.10/site-packages/sklearn/utils/validation.py\u001b[0m in \u001b[0;36mcheck_X_y\u001b[0;34m(X, y, accept_sparse, accept_large_sparse, dtype, order, copy, force_all_finite, ensure_2d, allow_nd, multi_output, ensure_min_samples, ensure_min_features, y_numeric, estimator)\u001b[0m\n\u001b[1;32m    954\u001b[0m         \u001b[0;32mraise\u001b[0m \u001b[0mValueError\u001b[0m\u001b[0;34m(\u001b[0m\u001b[0;34m\"y cannot be None\"\u001b[0m\u001b[0;34m)\u001b[0m\u001b[0;34m\u001b[0m\u001b[0;34m\u001b[0m\u001b[0m\n\u001b[1;32m    955\u001b[0m \u001b[0;34m\u001b[0m\u001b[0m\n\u001b[0;32m--> 956\u001b[0;31m     X = check_array(\n\u001b[0m\u001b[1;32m    957\u001b[0m         \u001b[0mX\u001b[0m\u001b[0;34m,\u001b[0m\u001b[0;34m\u001b[0m\u001b[0;34m\u001b[0m\u001b[0m\n\u001b[1;32m    958\u001b[0m         \u001b[0maccept_sparse\u001b[0m\u001b[0;34m=\u001b[0m\u001b[0maccept_sparse\u001b[0m\u001b[0;34m,\u001b[0m\u001b[0;34m\u001b[0m\u001b[0;34m\u001b[0m\u001b[0m\n",
      "\u001b[0;32m~/.local/lib/python3.10/site-packages/sklearn/utils/validation.py\u001b[0m in \u001b[0;36mcheck_array\u001b[0;34m(array, accept_sparse, accept_large_sparse, dtype, order, copy, force_all_finite, ensure_2d, allow_nd, ensure_min_samples, ensure_min_features, estimator)\u001b[0m\n\u001b[1;32m    759\u001b[0m             \u001b[0;31m# If input is 1D raise error\u001b[0m\u001b[0;34m\u001b[0m\u001b[0;34m\u001b[0m\u001b[0m\n\u001b[1;32m    760\u001b[0m             \u001b[0;32mif\u001b[0m \u001b[0marray\u001b[0m\u001b[0;34m.\u001b[0m\u001b[0mndim\u001b[0m \u001b[0;34m==\u001b[0m \u001b[0;36m1\u001b[0m\u001b[0;34m:\u001b[0m\u001b[0;34m\u001b[0m\u001b[0;34m\u001b[0m\u001b[0m\n\u001b[0;32m--> 761\u001b[0;31m                 raise ValueError(\n\u001b[0m\u001b[1;32m    762\u001b[0m                     \u001b[0;34m\"Expected 2D array, got 1D array instead:\\narray={}.\\n\"\u001b[0m\u001b[0;34m\u001b[0m\u001b[0;34m\u001b[0m\u001b[0m\n\u001b[1;32m    763\u001b[0m                     \u001b[0;34m\"Reshape your data either using array.reshape(-1, 1) if \"\u001b[0m\u001b[0;34m\u001b[0m\u001b[0;34m\u001b[0m\u001b[0m\n",
      "\u001b[0;31mValueError\u001b[0m: Expected 2D array, got 1D array instead:\narray=[0.4601 0.275  0.3613 0.6638 0.2364 0.3985 0.3063 0.3196 0.4378 0.4366\n 0.2948 0.3792 0.3176 0.2809 0.3596 0.4218 0.3029 0.3706 0.2768 0.2977\n 0.3184 0.245  0.4667 0.2822 0.3613 0.4066 0.4264 0.2341 0.4027 0.2756\n 0.3444 0.4761 0.353  0.3672 0.427  0.4863 0.3591 0.1987 0.1565 0.2807\n 0.2994 0.2964 0.467  0.3739 0.3693 0.3799 0.3105 0.39   0.2747 0.2871\n 0.2433 0.2346 0.2785 0.3021 0.2675 0.3306 0.3537 0.3698 0.2439 0.322\n 0.3557 0.2972 0.2844 0.3282 0.3383 0.3321 0.2878 0.24   0.4228 0.2383\n 0.2551 0.2254 0.3313 0.2589 0.2618 0.265  0.271  0.3751 0.544  0.2779\n 0.2762 0.3527 0.2355 0.2311 0.3379 0.3695 0.302  0.3956 0.2972 0.3151\n 0.2522 0.2556 0.2027 0.2678 0.2834 0.3689 0.2227 0.1934 0.2772 0.2718\n 0.2651 0.2932 0.2694 0.2622 0.2826 0.3147 0.2806 0.2983 0.4055 0.2829\n 0.2533 0.2226 0.2398 0.2383 0.2926 0.2438 0.1652 0.3585 0.3274 0.4882\n 0.3016 0.2894 0.3222 0.2889 0.2048 0.2364 0.347  0.2841 0.259  0.3305\n 0.3469 0.2837 0.348  0.2723 0.3109 0.2829 0.1712 0.2676 0.3414 0.2102\n 0.3105 0.2792 0.2584 0.3549 0.23   0.2727 0.5774 0.2852 0.2691 0.235\n 0.3196 0.3322 0.3108 0.2859 0.3849 0.3113 0.2463 0.2527 0.2514 0.2738\n 0.3168 0.2443 0.3643 0.2268 0.3589 0.2646 0.209  0.281  0.216  0.2404\n 0.2827 0.2884 0.3216 0.1902 0.271  0.2592 0.2614 0.3054 0.2295 0.1783\n 0.2856 0.4098 0.3437 0.1811 0.3175 0.2933 0.3206 0.2572 0.32   0.2482\n 0.5166 0.2179 0.1909 0.3215 0.3    0.3024 0.308  0.2369 0.3193 0.4753\n 0.2668 0.2928 0.3198 0.4432 0.3014 0.3415 0.2989 0.3275 0.4128 0.232\n 0.2909 0.2535 0.1648 0.1603 0.4724 0.363  0.3397 0.2868 0.307  0.2713\n 0.238  0.3065 0.3055 0.3993 0.2506 0.3062 0.2615 0.2954 0.2826 0.3407\n 0.3109 0.2849 0.2911 0.2437 0.2757 0.2226 0.3103 0.2238 0.189  0.2853\n 0.253  0.2901 0.3308 0.2663 0.292  0.2883 0.2767 0.2639 0.3409 0.2664\n 0.3126 0.274  0.2749 0.3138 0.3379 0.3068 0.2818 0.3258 0.3277 0.3512\n 0.3151 0.2452 0.3067 0.2683 0.3216 0.2868 0.294  0.2446 0.3604 0.2605\n 0.2458 0.2733 0.2833 0.2841 0.2504 0.222  0.2758 0.2567 0.2335 0.2955\n 0.3258 0.3101 0.359  0.277  0.1999 0.2505 0.2465 0.2309 0.2955 0.3267\n 0.2272 0.2962 0.338  0.3101 0.2369 0.2823 0.2143 0.1978 0.2636 0.2227\n 0.2968 0.2685 0.3294 0.2213 0.2208 0.3244 0.2651 0.2991 0.2267 0.2107\n 0.3487 0.253  0.2564 0.339  0.3142 0.1917 0.2293 0.2812 0.3135 0.1901\n 0.2608 0.3055 0.2382 0.5558 0.2661 0.2688 0.21   0.2171 0.3103 0.2736\n 0.3019 0.3596 0.3292 0.2815 0.2554 0.2623 0.2432 0.3679 0.2894 0.2593\n 0.3053 0.2982 0.3301 0.4045 0.2765 0.2434 0.288  0.3109 0.2851 0.3124\n 0.2731 0.4245 0.369  0.2654 0.2576 0.2121 0.3113 0.2362 0.2434 0.2454\n 0.2233 0.2637 0.2744 0.2394 0.2741 0.2609 0.3271 0.3218 0.251  0.2741\n 0.4824 0.2487 0.273  0.2689 0.3323 0.3153 0.2597 0.2694 0.3387 0.4154\n 0.3343 0.3202 0.2191 0.2819 0.2736 0.2477 0.2677 0.2542 0.2157 0.2576\n 0.2937 0.2445 0.3187 0.3828 0.3049 0.2523 0.2666 0.1988 0.259  0.2779\n 0.3245 0.246  0.3207 0.3297 0.2298 0.2251 0.2778 0.2488 0.306  0.3455\n 0.2973 0.2998 0.2376 0.3163 0.3233 0.3075 0.2872 0.3003 0.2775 0.2976\n 0.3035 0.2827 0.2787 0.2744 0.3196 0.2349 0.302  0.2965 0.2383 0.2165\n 0.2866 0.2556 0.3032 0.3007 0.2525 0.3179 0.3313 0.2725 0.2513 0.2136\n 0.254  0.25   0.1859 0.2699 0.2842 0.2599 0.2972 0.36   0.2471 0.2268\n 0.2305 0.2293 0.2447 0.2606 0.327  0.2196 0.2884 0.2444 0.2306 0.2321\n 0.301  0.2641 0.2345 0.321  0.2235 0.2845 0.2563 0.3057 0.2301 0.266\n 0.3174 0.2404 0.2688 0.2409 0.2581 0.3006 0.2534 0.2679 0.2941 0.3318\n 0.2406 0.2356 0.3227 0.2518 0.2557 0.3231 0.2455 0.3266 0.2804 0.4677\n 0.31   0.1783 0.3251 0.228  0.2687 0.2369 0.323  0.3035 0.251  0.248\n 0.2177 0.3651 0.3155 0.2908 0.3038 0.2848 0.2709 0.278  0.23   0.3013\n 0.2604 0.2334 0.3585 0.2626 0.2282 0.306  0.3074 0.2549 0.2582 0.3071\n 0.3681 0.3157 0.2557 0.2849 0.2502 0.2983 0.3518 0.311  0.216  0.2781\n 0.2478 0.3206 0.2806 0.322  0.2289 0.3077 0.2698 0.2803 0.3058 0.279\n 0.2329 0.3187 0.2722 0.2473 0.2249 0.2642 0.2681 0.2691 0.2552 0.3059\n 0.2458 0.3169 0.2407 0.2435 0.2372 0.2226 0.2262 0.2475 0.2258 0.2112\n 0.225  0.1566 0.4089 0.2929 0.206  0.2572 0.2218 0.4087 0.2871].\nReshape your data either using array.reshape(-1, 1) if your data has a single feature or array.reshape(1, -1) if it contains a single sample."
     ]
    }
   ],
   "source": [
    "sv = SVC(kernel = \"linear\")\n",
    "sv.fit(y,x)"
   ]
  },
  {
   "cell_type": "code",
   "execution_count": 41,
   "id": "3891dd8f-095b-41cd-8f83-773ec61dfbbb",
   "metadata": {},
   "outputs": [],
   "source": [
    "df['diagnosis'] = LabelEncoder().fit_transform(df['diagnosis'])"
   ]
  },
  {
   "cell_type": "code",
   "execution_count": 42,
   "id": "d700daf7-a184-41d1-8bed-eee88b0df127",
   "metadata": {},
   "outputs": [],
   "source": [
    "sv = SVC(kernel='Linear')"
   ]
  },
  {
   "cell_type": "code",
   "execution_count": 43,
   "id": "64913423-82c3-4db8-95cb-73cd0d2a6d31",
   "metadata": {},
   "outputs": [
    {
     "data": {
      "text/plain": [
       "0      1\n",
       "1      1\n",
       "2      1\n",
       "3      1\n",
       "4      1\n",
       "      ..\n",
       "564    1\n",
       "565    1\n",
       "566    1\n",
       "567    1\n",
       "568    0\n",
       "Name: diagnosis, Length: 569, dtype: int64"
      ]
     },
     "execution_count": 43,
     "metadata": {},
     "output_type": "execute_result"
    }
   ],
   "source": [
    "df['diagnosis']"
   ]
  },
  {
   "cell_type": "code",
   "execution_count": 50,
   "id": "ada43260-0ea0-4cc1-8f7f-7f5df92fc536",
   "metadata": {},
   "outputs": [],
   "source": [
    "df.dropna(inplace=True)"
   ]
  },
  {
   "cell_type": "code",
   "execution_count": 51,
   "id": "7e73d904-ee7f-454d-9a5e-a3c2c4b23bfc",
   "metadata": {},
   "outputs": [
    {
     "data": {
      "text/html": [
       "<div>\n",
       "<style scoped>\n",
       "    .dataframe tbody tr th:only-of-type {\n",
       "        vertical-align: middle;\n",
       "    }\n",
       "\n",
       "    .dataframe tbody tr th {\n",
       "        vertical-align: top;\n",
       "    }\n",
       "\n",
       "    .dataframe thead th {\n",
       "        text-align: right;\n",
       "    }\n",
       "</style>\n",
       "<table border=\"1\" class=\"dataframe\">\n",
       "  <thead>\n",
       "    <tr style=\"text-align: right;\">\n",
       "      <th></th>\n",
       "      <th>id</th>\n",
       "      <th>diagnosis</th>\n",
       "      <th>radius_mean</th>\n",
       "      <th>texture_mean</th>\n",
       "      <th>perimeter_mean</th>\n",
       "      <th>area_mean</th>\n",
       "      <th>smoothness_mean</th>\n",
       "      <th>compactness_mean</th>\n",
       "      <th>concavity_mean</th>\n",
       "      <th>concave points_mean</th>\n",
       "      <th>...</th>\n",
       "      <th>texture_worst</th>\n",
       "      <th>perimeter_worst</th>\n",
       "      <th>area_worst</th>\n",
       "      <th>smoothness_worst</th>\n",
       "      <th>compactness_worst</th>\n",
       "      <th>concavity_worst</th>\n",
       "      <th>concave points_worst</th>\n",
       "      <th>symmetry_worst</th>\n",
       "      <th>fractal_dimension_worst</th>\n",
       "      <th>Unnamed: 32</th>\n",
       "    </tr>\n",
       "  </thead>\n",
       "  <tbody>\n",
       "  </tbody>\n",
       "</table>\n",
       "<p>0 rows × 33 columns</p>\n",
       "</div>"
      ],
      "text/plain": [
       "Empty DataFrame\n",
       "Columns: [id, diagnosis, radius_mean, texture_mean, perimeter_mean, area_mean, smoothness_mean, compactness_mean, concavity_mean, concave points_mean, symmetry_mean, fractal_dimension_mean, radius_se, texture_se, perimeter_se, area_se, smoothness_se, compactness_se, concavity_se, concave points_se, symmetry_se, fractal_dimension_se, radius_worst, texture_worst, perimeter_worst, area_worst, smoothness_worst, compactness_worst, concavity_worst, concave points_worst, symmetry_worst, fractal_dimension_worst, Unnamed: 32]\n",
       "Index: []\n",
       "\n",
       "[0 rows x 33 columns]"
      ]
     },
     "execution_count": 51,
     "metadata": {},
     "output_type": "execute_result"
    }
   ],
   "source": [
    "df.head(10)"
   ]
  },
  {
   "cell_type": "code",
   "execution_count": 46,
   "id": "a23163da-7f20-4d19-8607-8cf64d84a5e3",
   "metadata": {},
   "outputs": [
    {
     "ename": "ValueError",
     "evalue": "Found array with 0 sample(s) (shape=(0, 32)) while a minimum of 1 is required.",
     "output_type": "error",
     "traceback": [
      "\u001b[0;31m---------------------------------------------------------------------------\u001b[0m",
      "\u001b[0;31mValueError\u001b[0m                                Traceback (most recent call last)",
      "\u001b[0;32m/tmp/ipykernel_219818/3014408992.py\u001b[0m in \u001b[0;36m<module>\u001b[0;34m\u001b[0m\n\u001b[0;32m----> 1\u001b[0;31m \u001b[0msv\u001b[0m\u001b[0;34m.\u001b[0m\u001b[0mfit\u001b[0m\u001b[0;34m(\u001b[0m\u001b[0mdf\u001b[0m\u001b[0;34m.\u001b[0m\u001b[0mdrop\u001b[0m\u001b[0;34m(\u001b[0m\u001b[0;34m'diagnosis'\u001b[0m\u001b[0;34m,\u001b[0m\u001b[0maxis\u001b[0m\u001b[0;34m=\u001b[0m\u001b[0;36m1\u001b[0m\u001b[0;34m)\u001b[0m\u001b[0;34m,\u001b[0m\u001b[0mdf\u001b[0m\u001b[0;34m[\u001b[0m\u001b[0;34m'diagnosis'\u001b[0m\u001b[0;34m]\u001b[0m\u001b[0;34m)\u001b[0m\u001b[0;34m\u001b[0m\u001b[0;34m\u001b[0m\u001b[0m\n\u001b[0m",
      "\u001b[0;32m~/.local/lib/python3.10/site-packages/sklearn/svm/_base.py\u001b[0m in \u001b[0;36mfit\u001b[0;34m(self, X, y, sample_weight)\u001b[0m\n\u001b[1;32m    188\u001b[0m             \u001b[0mcheck_consistent_length\u001b[0m\u001b[0;34m(\u001b[0m\u001b[0mX\u001b[0m\u001b[0;34m,\u001b[0m \u001b[0my\u001b[0m\u001b[0;34m)\u001b[0m\u001b[0;34m\u001b[0m\u001b[0;34m\u001b[0m\u001b[0m\n\u001b[1;32m    189\u001b[0m         \u001b[0;32melse\u001b[0m\u001b[0;34m:\u001b[0m\u001b[0;34m\u001b[0m\u001b[0;34m\u001b[0m\u001b[0m\n\u001b[0;32m--> 190\u001b[0;31m             X, y = self._validate_data(\n\u001b[0m\u001b[1;32m    191\u001b[0m                 \u001b[0mX\u001b[0m\u001b[0;34m,\u001b[0m\u001b[0;34m\u001b[0m\u001b[0;34m\u001b[0m\u001b[0m\n\u001b[1;32m    192\u001b[0m                 \u001b[0my\u001b[0m\u001b[0;34m,\u001b[0m\u001b[0;34m\u001b[0m\u001b[0;34m\u001b[0m\u001b[0m\n",
      "\u001b[0;32m~/.local/lib/python3.10/site-packages/sklearn/base.py\u001b[0m in \u001b[0;36m_validate_data\u001b[0;34m(self, X, y, reset, validate_separately, **check_params)\u001b[0m\n\u001b[1;32m    574\u001b[0m                 \u001b[0my\u001b[0m \u001b[0;34m=\u001b[0m \u001b[0mcheck_array\u001b[0m\u001b[0;34m(\u001b[0m\u001b[0my\u001b[0m\u001b[0;34m,\u001b[0m \u001b[0;34m**\u001b[0m\u001b[0mcheck_y_params\u001b[0m\u001b[0;34m)\u001b[0m\u001b[0;34m\u001b[0m\u001b[0;34m\u001b[0m\u001b[0m\n\u001b[1;32m    575\u001b[0m             \u001b[0;32melse\u001b[0m\u001b[0;34m:\u001b[0m\u001b[0;34m\u001b[0m\u001b[0;34m\u001b[0m\u001b[0m\n\u001b[0;32m--> 576\u001b[0;31m                 \u001b[0mX\u001b[0m\u001b[0;34m,\u001b[0m \u001b[0my\u001b[0m \u001b[0;34m=\u001b[0m \u001b[0mcheck_X_y\u001b[0m\u001b[0;34m(\u001b[0m\u001b[0mX\u001b[0m\u001b[0;34m,\u001b[0m \u001b[0my\u001b[0m\u001b[0;34m,\u001b[0m \u001b[0;34m**\u001b[0m\u001b[0mcheck_params\u001b[0m\u001b[0;34m)\u001b[0m\u001b[0;34m\u001b[0m\u001b[0;34m\u001b[0m\u001b[0m\n\u001b[0m\u001b[1;32m    577\u001b[0m             \u001b[0mout\u001b[0m \u001b[0;34m=\u001b[0m \u001b[0mX\u001b[0m\u001b[0;34m,\u001b[0m \u001b[0my\u001b[0m\u001b[0;34m\u001b[0m\u001b[0;34m\u001b[0m\u001b[0m\n\u001b[1;32m    578\u001b[0m \u001b[0;34m\u001b[0m\u001b[0m\n",
      "\u001b[0;32m~/.local/lib/python3.10/site-packages/sklearn/utils/validation.py\u001b[0m in \u001b[0;36mcheck_X_y\u001b[0;34m(X, y, accept_sparse, accept_large_sparse, dtype, order, copy, force_all_finite, ensure_2d, allow_nd, multi_output, ensure_min_samples, ensure_min_features, y_numeric, estimator)\u001b[0m\n\u001b[1;32m    954\u001b[0m         \u001b[0;32mraise\u001b[0m \u001b[0mValueError\u001b[0m\u001b[0;34m(\u001b[0m\u001b[0;34m\"y cannot be None\"\u001b[0m\u001b[0;34m)\u001b[0m\u001b[0;34m\u001b[0m\u001b[0;34m\u001b[0m\u001b[0m\n\u001b[1;32m    955\u001b[0m \u001b[0;34m\u001b[0m\u001b[0m\n\u001b[0;32m--> 956\u001b[0;31m     X = check_array(\n\u001b[0m\u001b[1;32m    957\u001b[0m         \u001b[0mX\u001b[0m\u001b[0;34m,\u001b[0m\u001b[0;34m\u001b[0m\u001b[0;34m\u001b[0m\u001b[0m\n\u001b[1;32m    958\u001b[0m         \u001b[0maccept_sparse\u001b[0m\u001b[0;34m=\u001b[0m\u001b[0maccept_sparse\u001b[0m\u001b[0;34m,\u001b[0m\u001b[0;34m\u001b[0m\u001b[0;34m\u001b[0m\u001b[0m\n",
      "\u001b[0;32m~/.local/lib/python3.10/site-packages/sklearn/utils/validation.py\u001b[0m in \u001b[0;36mcheck_array\u001b[0;34m(array, accept_sparse, accept_large_sparse, dtype, order, copy, force_all_finite, ensure_2d, allow_nd, ensure_min_samples, ensure_min_features, estimator)\u001b[0m\n\u001b[1;32m    795\u001b[0m         \u001b[0mn_samples\u001b[0m \u001b[0;34m=\u001b[0m \u001b[0m_num_samples\u001b[0m\u001b[0;34m(\u001b[0m\u001b[0marray\u001b[0m\u001b[0;34m)\u001b[0m\u001b[0;34m\u001b[0m\u001b[0;34m\u001b[0m\u001b[0m\n\u001b[1;32m    796\u001b[0m         \u001b[0;32mif\u001b[0m \u001b[0mn_samples\u001b[0m \u001b[0;34m<\u001b[0m \u001b[0mensure_min_samples\u001b[0m\u001b[0;34m:\u001b[0m\u001b[0;34m\u001b[0m\u001b[0;34m\u001b[0m\u001b[0m\n\u001b[0;32m--> 797\u001b[0;31m             raise ValueError(\n\u001b[0m\u001b[1;32m    798\u001b[0m                 \u001b[0;34m\"Found array with %d sample(s) (shape=%s) while a\"\u001b[0m\u001b[0;34m\u001b[0m\u001b[0;34m\u001b[0m\u001b[0m\n\u001b[1;32m    799\u001b[0m                 \u001b[0;34m\" minimum of %d is required%s.\"\u001b[0m\u001b[0;34m\u001b[0m\u001b[0;34m\u001b[0m\u001b[0m\n",
      "\u001b[0;31mValueError\u001b[0m: Found array with 0 sample(s) (shape=(0, 32)) while a minimum of 1 is required."
     ]
    }
   ],
   "source": [
    "sv.fit(df.drop('diagnosis',axis=1),df['diagnosis'])"
   ]
  }
 ],
 "metadata": {
  "kernelspec": {
   "display_name": "Python 3 (ipykernel)",
   "language": "python",
   "name": "python3"
  },
  "language_info": {
   "codemirror_mode": {
    "name": "ipython",
    "version": 3
   },
   "file_extension": ".py",
   "mimetype": "text/x-python",
   "name": "python",
   "nbconvert_exporter": "python",
   "pygments_lexer": "ipython3",
   "version": "3.10.5"
  }
 },
 "nbformat": 4,
 "nbformat_minor": 5
}
