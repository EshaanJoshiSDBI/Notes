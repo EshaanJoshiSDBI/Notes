{
 "cells": [
  {
   "cell_type": "code",
   "execution_count": 1,
   "id": "5bdfb676-adc7-46c1-bbee-002f20081830",
   "metadata": {},
   "outputs": [],
   "source": [
    "import numpy as np\n",
    "import pandas as pd\n",
    "from sklearn.model_selection import train_test_split\n",
    "from sklearn.linear_model import LinearRegression, Lasso, Ridge\n",
    "from sklearn.metrics import r2_score, mean_squared_error, mean_absolute_percentage_error\n",
    "import seaborn as sns"
   ]
  },
  {
   "cell_type": "code",
   "execution_count": 2,
   "id": "2f51071f-e1d4-44e2-ada9-74120b6b0b84",
   "metadata": {},
   "outputs": [],
   "source": [
    "def acc_metrics(act,pred):\n",
    "    print('MAPE: ',mean_absolute_percentage_error(act,pred))\n",
    "    print('R2_Score: ',r2_score(act,pred))\n",
    "    print('MSE: ',mean_squared_error(act,pred))"
   ]
  },
  {
   "cell_type": "code",
   "execution_count": 3,
   "id": "c75f9f84-cb5c-4639-8d2c-05b5bc23b079",
   "metadata": {},
   "outputs": [],
   "source": [
    "df = pd.read_csv('Marketing_Data.csv')"
   ]
  },
  {
   "cell_type": "code",
   "execution_count": 4,
   "id": "d8ab1ff9-b835-4ed4-9ba9-10a122eb3d30",
   "metadata": {},
   "outputs": [
    {
     "data": {
      "text/html": [
       "<div>\n",
       "<style scoped>\n",
       "    .dataframe tbody tr th:only-of-type {\n",
       "        vertical-align: middle;\n",
       "    }\n",
       "\n",
       "    .dataframe tbody tr th {\n",
       "        vertical-align: top;\n",
       "    }\n",
       "\n",
       "    .dataframe thead th {\n",
       "        text-align: right;\n",
       "    }\n",
       "</style>\n",
       "<table border=\"1\" class=\"dataframe\">\n",
       "  <thead>\n",
       "    <tr style=\"text-align: right;\">\n",
       "      <th></th>\n",
       "      <th>youtube</th>\n",
       "      <th>facebook</th>\n",
       "      <th>newspaper</th>\n",
       "      <th>sales</th>\n",
       "    </tr>\n",
       "  </thead>\n",
       "  <tbody>\n",
       "    <tr>\n",
       "      <th>0</th>\n",
       "      <td>84.72</td>\n",
       "      <td>19.20</td>\n",
       "      <td>48.96</td>\n",
       "      <td>12.60</td>\n",
       "    </tr>\n",
       "    <tr>\n",
       "      <th>1</th>\n",
       "      <td>351.48</td>\n",
       "      <td>33.96</td>\n",
       "      <td>51.84</td>\n",
       "      <td>25.68</td>\n",
       "    </tr>\n",
       "    <tr>\n",
       "      <th>2</th>\n",
       "      <td>135.48</td>\n",
       "      <td>20.88</td>\n",
       "      <td>46.32</td>\n",
       "      <td>14.28</td>\n",
       "    </tr>\n",
       "    <tr>\n",
       "      <th>3</th>\n",
       "      <td>116.64</td>\n",
       "      <td>1.80</td>\n",
       "      <td>36.00</td>\n",
       "      <td>11.52</td>\n",
       "    </tr>\n",
       "    <tr>\n",
       "      <th>4</th>\n",
       "      <td>318.72</td>\n",
       "      <td>24.00</td>\n",
       "      <td>0.36</td>\n",
       "      <td>20.88</td>\n",
       "    </tr>\n",
       "  </tbody>\n",
       "</table>\n",
       "</div>"
      ],
      "text/plain": [
       "   youtube  facebook  newspaper  sales\n",
       "0    84.72     19.20      48.96  12.60\n",
       "1   351.48     33.96      51.84  25.68\n",
       "2   135.48     20.88      46.32  14.28\n",
       "3   116.64      1.80      36.00  11.52\n",
       "4   318.72     24.00       0.36  20.88"
      ]
     },
     "execution_count": 4,
     "metadata": {},
     "output_type": "execute_result"
    }
   ],
   "source": [
    "df.head()"
   ]
  },
  {
   "cell_type": "code",
   "execution_count": 5,
   "id": "5289727f-e2c4-4a08-bd2b-40249c949091",
   "metadata": {},
   "outputs": [
    {
     "data": {
      "text/plain": [
       "youtube      0\n",
       "facebook     0\n",
       "newspaper    0\n",
       "sales        0\n",
       "dtype: int64"
      ]
     },
     "execution_count": 5,
     "metadata": {},
     "output_type": "execute_result"
    }
   ],
   "source": [
    "df.isna().sum()"
   ]
  },
  {
   "cell_type": "code",
   "execution_count": 6,
   "id": "cd4b1051-41e6-4789-ae2c-0f906c3d8cab",
   "metadata": {},
   "outputs": [
    {
     "data": {
      "text/plain": [
       "<AxesSubplot:>"
      ]
     },
     "execution_count": 6,
     "metadata": {},
     "output_type": "execute_result"
    },
    {
     "data": {
      "image/png": "[encoded data removed]",
      "text/plain": [
       "<Figure size 432x288 with 2 Axes>"
      ]
     },
     "metadata": {
      "needs_background": "light"
     },
     "output_type": "display_data"
    }
   ],
   "source": [
    "sns.heatmap(df.corr(), cmap=\"YlGnBu\", annot=True)"
   ]
  },
  {
   "cell_type": "code",
   "execution_count": 7,
   "id": "0e626d12-cc7e-4945-9af7-da51738e814b",
   "metadata": {},
   "outputs": [],
   "source": [
    "x_train,x_test,y_train,y_test = train_test_split(df.drop(columns='sales'),df.sales,test_size=0.25)"
   ]
  },
  {
   "cell_type": "markdown",
   "id": "c10ac2e9-6758-4513-8c50-9c776f0853a0",
   "metadata": {},
   "source": [
    "# Linear Models"
   ]
  },
  {
   "cell_type": "markdown",
   "id": "38aa962a-e93d-4510-b42b-7e564ad16077",
   "metadata": {},
   "source": [
    "## Linear Regression"
   ]
  },
  {
   "cell_type": "code",
   "execution_count": 8,
   "id": "91170b62-a19e-4d46-874c-0ffbc2ccc5a0",
   "metadata": {},
   "outputs": [
    {
     "data": {
      "text/plain": [
       "LinearRegression()"
      ]
     },
     "execution_count": 8,
     "metadata": {},
     "output_type": "execute_result"
    }
   ],
   "source": [
    "model_lr = LinearRegression()\n",
    "model_lr.fit(x_train,y_train)"
   ]
  },
  {
   "cell_type": "code",
   "execution_count": 9,
   "id": "2f2a3794-b43e-458c-8d71-f49c3168882e",
   "metadata": {},
   "outputs": [
    {
     "name": "stdout",
     "output_type": "stream",
     "text": [
      "MAPE:  0.14773718194393418\n",
      "R2_Score:  0.891227850707494\n",
      "MSE:  3.870862739252784\n"
     ]
    }
   ],
   "source": [
    "acc_metrics(y_train,model_lr.predict(x_train))"
   ]
  },
  {
   "cell_type": "code",
   "execution_count": 10,
   "id": "791debad-2e5f-47c8-b35e-2b5654f445f0",
   "metadata": {
    "tags": []
   },
   "outputs": [],
   "source": [
    "pred_lr = model_lr.predict(x_test)"
   ]
  },
  {
   "cell_type": "code",
   "execution_count": 11,
   "id": "0b5eb549-75a3-4441-b0cc-8be024bf7977",
   "metadata": {},
   "outputs": [
    {
     "name": "stdout",
     "output_type": "stream",
     "text": [
      "MAPE:  0.1309380033627604\n",
      "R2_Score:  0.9136168009061204\n",
      "MSE:  4.374793239042114\n"
     ]
    }
   ],
   "source": [
    "acc_metrics(y_test,pred_lr)"
   ]
  },
  {
   "cell_type": "markdown",
   "id": "a0cd4c1f-b164-4862-9e01-5d833baf93cd",
   "metadata": {},
   "source": [
    "## Lasso Regression"
   ]
  },
  {
   "cell_type": "code",
   "execution_count": 12,
   "id": "ac938893-eca6-403c-b921-41c36297d808",
   "metadata": {
    "tags": []
   },
   "outputs": [
    {
     "data": {
      "text/plain": [
       "Lasso(alpha=0.1)"
      ]
     },
     "execution_count": 12,
     "metadata": {},
     "output_type": "execute_result"
    }
   ],
   "source": [
    "model_ls = Lasso(alpha=0.1)\n",
    "model_ls.fit(x_train,y_train)"
   ]
  },
  {
   "cell_type": "code",
   "execution_count": 13,
   "id": "deebe20a-4bda-49b2-b073-e2ffd49fc86d",
   "metadata": {},
   "outputs": [
    {
     "name": "stdout",
     "output_type": "stream",
     "text": [
      "MAPE:  0.14765703012501924\n",
      "R2_Score:  0.8912266548332167\n",
      "MSE:  3.870905296701645\n"
     ]
    }
   ],
   "source": [
    "acc_metrics(y_train,model_ls.predict(x_train))"
   ]
  },
  {
   "cell_type": "code",
   "execution_count": 14,
   "id": "1c27cd61-c43b-4afc-9da8-7aa0a9c5b52f",
   "metadata": {},
   "outputs": [],
   "source": [
    "pred_ls = model_ls.predict(x_test)"
   ]
  },
  {
   "cell_type": "code",
   "execution_count": 15,
   "id": "785b1003-2495-4ee4-a52c-561be9a9c75e",
   "metadata": {},
   "outputs": [
    {
     "name": "stdout",
     "output_type": "stream",
     "text": [
      "MAPE:  0.13072391632473082\n",
      "R2_Score:  0.9137529913693443\n",
      "MSE:  4.367896005274628\n"
     ]
    }
   ],
   "source": [
    "acc_metrics(y_test,pred_ls)"
   ]
  },
  {
   "cell_type": "code",
   "execution_count": 16,
   "id": "eb27a763-d7af-4f24-a93c-ef984cf0cec3",
   "metadata": {},
   "outputs": [],
   "source": [
    "acc_train = []\n",
    "acc_test = []\n",
    "for alpha in np.arange(0.1,1,0.1):\n",
    "    model_ls = Lasso(alpha=alpha)\n",
    "    model_ls.fit(x_train,y_train)\n",
    "    acc_train.append(mean_squared_error(model_ls.predict(x_train),y_train))\n",
    "    acc_test.append(mean_squared_error(model_ls.predict(x_test),y_test))"
   ]
  },
  {
   "cell_type": "code",
   "execution_count": 17,
   "id": "545ae8a0-cf5f-47bd-adef-2436b603e65e",
   "metadata": {},
   "outputs": [
    {
     "name": "stdout",
     "output_type": "stream",
     "text": [
      "[3.870905296701645, 3.8710330100070376, 3.871245879173403, 3.871543904200741, 3.8719270850890517, 3.8723954218383354, 3.8729489144485925, 3.8735875629198224, 3.8743113672520226]\n"
     ]
    }
   ],
   "source": [
    "print(acc_train)"
   ]
  },
  {
   "cell_type": "code",
   "execution_count": 18,
   "id": "283e69d2-0d94-440d-8120-9dad9da02815",
   "metadata": {
    "tags": []
   },
   "outputs": [
    {
     "name": "stdout",
     "output_type": "stream",
     "text": [
      "[4.367896005274628, 4.361130357977452, 4.354496649335743, 4.3479948793495, 4.341625048018721, 4.3353871553434065, 4.329281201323552, 4.323307185959166, 4.317465109250241]\n"
     ]
    }
   ],
   "source": [
    "print(acc_test)"
   ]
  },
  {
   "cell_type": "code",
   "execution_count": 19,
   "id": "d5737c17-2b15-45a0-b8e3-e3a14e971f1a",
   "metadata": {},
   "outputs": [
    {
     "name": "stdout",
     "output_type": "stream",
     "text": [
      "0\n",
      "8\n"
     ]
    }
   ],
   "source": [
    "print(acc_train.index(min(acc_train)))\n",
    "print(acc_test.index(min(acc_test)))"
   ]
  },
  {
   "cell_type": "code",
   "execution_count": 20,
   "id": "73579663-6b2a-4bba-80bb-261f7dc1e1b8",
   "metadata": {},
   "outputs": [
    {
     "data": {
      "text/plain": [
       "3.870905296701645"
      ]
     },
     "execution_count": 20,
     "metadata": {},
     "output_type": "execute_result"
    }
   ],
   "source": [
    "acc_train[acc_train.index(min(acc_train))]"
   ]
  },
  {
   "cell_type": "code",
   "execution_count": 21,
   "id": "38c605b2-5d32-4ba6-9389-3d6457056fd0",
   "metadata": {},
   "outputs": [
    {
     "data": {
      "text/plain": [
       "4.317465109250241"
      ]
     },
     "execution_count": 21,
     "metadata": {},
     "output_type": "execute_result"
    }
   ],
   "source": [
    "acc_test[acc_test.index(min(acc_test))]"
   ]
  },
  {
   "cell_type": "markdown",
   "id": "e7b1bd0e-9c3d-4d4b-8765-d7d23277dd9d",
   "metadata": {},
   "source": [
    "## Ridge Regression"
   ]
  },
  {
   "cell_type": "code",
   "execution_count": 22,
   "id": "55636a3d-48fe-4ed7-a980-6c084132a840",
   "metadata": {},
   "outputs": [
    {
     "data": {
      "text/plain": [
       "Ridge(alpha=7)"
      ]
     },
     "execution_count": 22,
     "metadata": {},
     "output_type": "execute_result"
    }
   ],
   "source": [
    "model_ri = Ridge(alpha=7)\n",
    "model_ri.fit(x_train,y_train)"
   ]
  },
  {
   "cell_type": "code",
   "execution_count": 23,
   "id": "e0217539-8c23-4aca-b367-1caaa47954ff",
   "metadata": {},
   "outputs": [
    {
     "name": "stdout",
     "output_type": "stream",
     "text": [
      "MAPE:  0.1477278400549527\n",
      "R2_Score:  0.891227839922783\n",
      "MSE:  3.870863123047132\n"
     ]
    }
   ],
   "source": [
    "acc_metrics(y_train,model_ri.predict(x_train))"
   ]
  },
  {
   "cell_type": "code",
   "execution_count": 24,
   "id": "1fccd202-6ce7-4517-93e2-a462be44dbeb",
   "metadata": {},
   "outputs": [],
   "source": [
    "pred_ri = model_ri.predict(x_test)"
   ]
  },
  {
   "cell_type": "code",
   "execution_count": 25,
   "id": "c875e8bb-9288-4c03-83b0-2d1e5a590202",
   "metadata": {},
   "outputs": [
    {
     "name": "stdout",
     "output_type": "stream",
     "text": [
      "MAPE:  0.13092338983947138\n",
      "R2_Score:  0.9136206017145803\n",
      "MSE:  4.374600750788293\n"
     ]
    }
   ],
   "source": [
    "acc_metrics(y_test,pred_ri)"
   ]
  },
  {
   "cell_type": "code",
   "execution_count": 26,
   "id": "16554c51-64ff-48bf-84a5-d21fb8164893",
   "metadata": {
    "tags": []
   },
   "outputs": [],
   "source": [
    "acc_train = []\n",
    "acc_test = []\n",
    "for alpha in np.arange(1,20000,10):\n",
    "    model_ri = Ridge(alpha=alpha)\n",
    "    model_ri.fit(x_train,y_train)\n",
    "    acc_train.append(mean_squared_error(model_ri.predict(x_train),y_train))\n",
    "    acc_test.append(mean_squared_error(model_ri.predict(x_test),y_test))"
   ]
  },
  {
   "cell_type": "code",
   "execution_count": 27,
   "id": "95ae4912-3ca4-4eed-8e55-54975a80c816",
   "metadata": {},
   "outputs": [
    {
     "data": {
      "text/plain": [
       "3.8708627470880352"
      ]
     },
     "execution_count": 27,
     "metadata": {},
     "output_type": "execute_result"
    }
   ],
   "source": [
    "acc_train[acc_train.index(min(acc_train))]"
   ]
  },
  {
   "cell_type": "code",
   "execution_count": 28,
   "id": "745d6e8f-24c2-4eed-8a98-25c887476476",
   "metadata": {},
   "outputs": [
    {
     "data": {
      "text/plain": [
       "4.354541354811342"
      ]
     },
     "execution_count": 28,
     "metadata": {},
     "output_type": "execute_result"
    }
   ],
   "source": [
    "acc_test[acc_test.index(min(acc_test))]"
   ]
  },
  {
   "cell_type": "markdown",
   "id": "e0e650aa-0545-4a34-98fb-b421c2333249",
   "metadata": {},
   "source": [
    "# Conclusion"
   ]
  },
  {
   "cell_type": "markdown",
   "id": "f2e0168a-3462-4f31-b13a-8370de0fbca7",
   "metadata": {},
   "source": [
    "## Comparing the MAPE and MSE for all 3 models, we can say that all 3 models are suitable for the given data. In our trial Lasso Regression gave the best MAPE and MSE scores"
   ]
  }
 ],
 "metadata": {
  "kernelspec": {
   "display_name": "Python 3 (ipykernel)",
   "language": "python",
   "name": "python3"
  },
  "language_info": {
   "codemirror_mode": {
    "name": "ipython",
    "version": 3
   },
   "file_extension": ".py",
   "mimetype": "text/x-python",
   "name": "python",
   "nbconvert_exporter": "python",
   "pygments_lexer": "ipython3",
   "version": "3.10.5"
  }
 },
 "nbformat": 4,
 "nbformat_minor": 5
}
