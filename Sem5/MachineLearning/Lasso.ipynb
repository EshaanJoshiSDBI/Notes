{
 "cells": [
  {
   "cell_type": "code",
   "execution_count": 1,
   "id": "c5aa5ee5-45e3-4189-b777-d98cea48b022",
   "metadata": {},
   "outputs": [],
   "source": [
    "import numpy as np\n",
    "import pandas as pd\n",
    "import matplotlib.pyplot as plt\n",
    "import matplotlib.ticker as ticker\n",
    "from sklearn.datasets import load_boston\n",
    "from sklearn import preprocessing\n",
    "from sklearn.model_selection import train_test_split\n",
    "from sklearn.linear_model import LinearRegression, Lasso\n",
    "from sklearn.metrics import r2_score, mean_squared_error"
   ]
  },
  {
   "cell_type": "code",
   "execution_count": 8,
   "id": "6a2f79aa-c6c5-4193-a81e-e4a3748aa869",
   "metadata": {},
   "outputs": [
    {
     "name": "stderr",
     "output_type": "stream",
     "text": [
      "/home/eshaan/.local/lib/python3.10/site-packages/sklearn/utils/deprecation.py:87: FutureWarning: Function load_boston is deprecated; `load_boston` is deprecated in 1.0 and will be removed in 1.2.\n",
      "\n",
      "    The Boston housing prices dataset has an ethical problem. You can refer to\n",
      "    the documentation of this function for further details.\n",
      "\n",
      "    The scikit-learn maintainers therefore strongly discourage the use of this\n",
      "    dataset unless the purpose of the code is to study and educate about\n",
      "    ethical issues in data science and machine learning.\n",
      "\n",
      "    In this special case, you can fetch the dataset from the original\n",
      "    source::\n",
      "\n",
      "        import pandas as pd\n",
      "        import numpy as np\n",
      "\n",
      "\n",
      "        data_url = \"http://lib.stat.cmu.edu/datasets/boston\"\n",
      "        raw_df = pd.read_csv(data_url, sep=\"\\s+\", skiprows=22, header=None)\n",
      "        data = np.hstack([raw_df.values[::2, :], raw_df.values[1::2, :2]])\n",
      "        target = raw_df.values[1::2, 2]\n",
      "\n",
      "    Alternative datasets include the California housing dataset (i.e.\n",
      "    :func:`~sklearn.datasets.fetch_california_housing`) and the Ames housing\n",
      "    dataset. You can load the datasets as follows::\n",
      "\n",
      "        from sklearn.datasets import fetch_california_housing\n",
      "        housing = fetch_california_housing()\n",
      "\n",
      "    for the California housing dataset and::\n",
      "\n",
      "        from sklearn.datasets import fetch_openml\n",
      "        housing = fetch_openml(name=\"house_prices\", as_frame=True)\n",
      "\n",
      "    for the Ames housing dataset.\n",
      "    \n",
      "  warnings.warn(msg, category=FutureWarning)\n"
     ]
    }
   ],
   "source": [
    "house_price = load_boston()"
   ]
  },
  {
   "cell_type": "code",
   "execution_count": 3,
   "id": "77f1c248-5dae-402a-9a08-48cef57d20a7",
   "metadata": {},
   "outputs": [],
   "source": [
    "df = pd.DataFrame(house_price.data,columns=house_price.feature_names)"
   ]
  },
  {
   "cell_type": "code",
   "execution_count": 4,
   "id": "58aa7c22-b079-4332-bc1f-13d1f64ead8a",
   "metadata": {},
   "outputs": [],
   "source": [
    "df['price'] = house_price.target"
   ]
  },
  {
   "cell_type": "code",
   "execution_count": 5,
   "id": "e8b2625d-7f2b-4f3c-9e11-bbce62c663fd",
   "metadata": {},
   "outputs": [
    {
     "data": {
      "text/html": [
       "<div>\n",
       "<style scoped>\n",
       "    .dataframe tbody tr th:only-of-type {\n",
       "        vertical-align: middle;\n",
       "    }\n",
       "\n",
       "    .dataframe tbody tr th {\n",
       "        vertical-align: top;\n",
       "    }\n",
       "\n",
       "    .dataframe thead th {\n",
       "        text-align: right;\n",
       "    }\n",
       "</style>\n",
       "<table border=\"1\" class=\"dataframe\">\n",
       "  <thead>\n",
       "    <tr style=\"text-align: right;\">\n",
       "      <th></th>\n",
       "      <th>CRIM</th>\n",
       "      <th>ZN</th>\n",
       "      <th>INDUS</th>\n",
       "      <th>CHAS</th>\n",
       "      <th>NOX</th>\n",
       "      <th>RM</th>\n",
       "      <th>AGE</th>\n",
       "      <th>DIS</th>\n",
       "      <th>RAD</th>\n",
       "      <th>TAX</th>\n",
       "      <th>PTRATIO</th>\n",
       "      <th>B</th>\n",
       "      <th>LSTAT</th>\n",
       "      <th>price</th>\n",
       "    </tr>\n",
       "  </thead>\n",
       "  <tbody>\n",
       "    <tr>\n",
       "      <th>0</th>\n",
       "      <td>0.00632</td>\n",
       "      <td>18.0</td>\n",
       "      <td>2.31</td>\n",
       "      <td>0.0</td>\n",
       "      <td>0.538</td>\n",
       "      <td>6.575</td>\n",
       "      <td>65.2</td>\n",
       "      <td>4.0900</td>\n",
       "      <td>1.0</td>\n",
       "      <td>296.0</td>\n",
       "      <td>15.3</td>\n",
       "      <td>396.90</td>\n",
       "      <td>4.98</td>\n",
       "      <td>24.0</td>\n",
       "    </tr>\n",
       "    <tr>\n",
       "      <th>1</th>\n",
       "      <td>0.02731</td>\n",
       "      <td>0.0</td>\n",
       "      <td>7.07</td>\n",
       "      <td>0.0</td>\n",
       "      <td>0.469</td>\n",
       "      <td>6.421</td>\n",
       "      <td>78.9</td>\n",
       "      <td>4.9671</td>\n",
       "      <td>2.0</td>\n",
       "      <td>242.0</td>\n",
       "      <td>17.8</td>\n",
       "      <td>396.90</td>\n",
       "      <td>9.14</td>\n",
       "      <td>21.6</td>\n",
       "    </tr>\n",
       "    <tr>\n",
       "      <th>2</th>\n",
       "      <td>0.02729</td>\n",
       "      <td>0.0</td>\n",
       "      <td>7.07</td>\n",
       "      <td>0.0</td>\n",
       "      <td>0.469</td>\n",
       "      <td>7.185</td>\n",
       "      <td>61.1</td>\n",
       "      <td>4.9671</td>\n",
       "      <td>2.0</td>\n",
       "      <td>242.0</td>\n",
       "      <td>17.8</td>\n",
       "      <td>392.83</td>\n",
       "      <td>4.03</td>\n",
       "      <td>34.7</td>\n",
       "    </tr>\n",
       "    <tr>\n",
       "      <th>3</th>\n",
       "      <td>0.03237</td>\n",
       "      <td>0.0</td>\n",
       "      <td>2.18</td>\n",
       "      <td>0.0</td>\n",
       "      <td>0.458</td>\n",
       "      <td>6.998</td>\n",
       "      <td>45.8</td>\n",
       "      <td>6.0622</td>\n",
       "      <td>3.0</td>\n",
       "      <td>222.0</td>\n",
       "      <td>18.7</td>\n",
       "      <td>394.63</td>\n",
       "      <td>2.94</td>\n",
       "      <td>33.4</td>\n",
       "    </tr>\n",
       "    <tr>\n",
       "      <th>4</th>\n",
       "      <td>0.06905</td>\n",
       "      <td>0.0</td>\n",
       "      <td>2.18</td>\n",
       "      <td>0.0</td>\n",
       "      <td>0.458</td>\n",
       "      <td>7.147</td>\n",
       "      <td>54.2</td>\n",
       "      <td>6.0622</td>\n",
       "      <td>3.0</td>\n",
       "      <td>222.0</td>\n",
       "      <td>18.7</td>\n",
       "      <td>396.90</td>\n",
       "      <td>5.33</td>\n",
       "      <td>36.2</td>\n",
       "    </tr>\n",
       "  </tbody>\n",
       "</table>\n",
       "</div>"
      ],
      "text/plain": [
       "      CRIM    ZN  INDUS  CHAS    NOX     RM   AGE     DIS  RAD    TAX  \\\n",
       "0  0.00632  18.0   2.31   0.0  0.538  6.575  65.2  4.0900  1.0  296.0   \n",
       "1  0.02731   0.0   7.07   0.0  0.469  6.421  78.9  4.9671  2.0  242.0   \n",
       "2  0.02729   0.0   7.07   0.0  0.469  7.185  61.1  4.9671  2.0  242.0   \n",
       "3  0.03237   0.0   2.18   0.0  0.458  6.998  45.8  6.0622  3.0  222.0   \n",
       "4  0.06905   0.0   2.18   0.0  0.458  7.147  54.2  6.0622  3.0  222.0   \n",
       "\n",
       "   PTRATIO       B  LSTAT  price  \n",
       "0     15.3  396.90   4.98   24.0  \n",
       "1     17.8  396.90   9.14   21.6  \n",
       "2     17.8  392.83   4.03   34.7  \n",
       "3     18.7  394.63   2.94   33.4  \n",
       "4     18.7  396.90   5.33   36.2  "
      ]
     },
     "execution_count": 5,
     "metadata": {},
     "output_type": "execute_result"
    }
   ],
   "source": [
    "df.head()"
   ]
  },
  {
   "cell_type": "code",
   "execution_count": 9,
   "id": "46cb8909-ebf4-49b4-ad2a-02edfcf74ed8",
   "metadata": {},
   "outputs": [],
   "source": [
    "house_price.data = preprocessing.scale(house_price.data)"
   ]
  },
  {
   "cell_type": "code",
   "execution_count": 10,
   "id": "b3b86aca-f998-4daf-8661-9abfb11f6922",
   "metadata": {},
   "outputs": [],
   "source": [
    "x_train,x_test,y_train,y_test = train_test_split(house_price.data,house_price.target,test_size=0.3,random_state=10)"
   ]
  },
  {
   "cell_type": "code",
   "execution_count": 12,
   "id": "c6c4b36f-ed51-4b45-ab2b-50ddaf1bd6e4",
   "metadata": {},
   "outputs": [
    {
     "data": {
      "text/plain": [
       "LinearRegression()"
      ]
     },
     "execution_count": 12,
     "metadata": {},
     "output_type": "execute_result"
    }
   ],
   "source": [
    "ols = LinearRegression()\n",
    "ols.fit(x_train,y_train)"
   ]
  },
  {
   "cell_type": "code",
   "execution_count": 13,
   "id": "e6ead3df-feca-421e-b17b-b7f26f526fb1",
   "metadata": {},
   "outputs": [],
   "source": [
    "ols_pred = ols.predict(x_test)"
   ]
  },
  {
   "cell_type": "code",
   "execution_count": 14,
   "id": "1bc1ba3b-3771-407c-99b4-b6883eb0fce2",
   "metadata": {},
   "outputs": [
    {
     "data": {
      "text/plain": [
       "29.326596526123286"
      ]
     },
     "execution_count": 14,
     "metadata": {},
     "output_type": "execute_result"
    }
   ],
   "source": [
    "mean_squared_error(y_test,ols_pred)"
   ]
  },
  {
   "cell_type": "code",
   "execution_count": 20,
   "id": "a5129158-e98b-49be-9965-31ffcb72c870",
   "metadata": {},
   "outputs": [
    {
     "data": {
      "text/plain": [
       "5.415403634644724"
      ]
     },
     "execution_count": 20,
     "metadata": {},
     "output_type": "execute_result"
    }
   ],
   "source": [
    "np.sqrt(mean_squared_error(y_test,ols_pred))"
   ]
  },
  {
   "cell_type": "code",
   "execution_count": 15,
   "id": "f275b746-39d1-49b4-8f6b-9eb85a5bf669",
   "metadata": {},
   "outputs": [
    {
     "data": {
      "text/plain": [
       "array([-1.32140428,  1.51483181, -0.16626579,  0.41157944, -1.77116763,\n",
       "        2.35282088,  0.31849871, -3.25664538,  2.63257618, -2.05946639,\n",
       "       -1.75520086,  1.18114343, -3.88704342])"
      ]
     },
     "execution_count": 15,
     "metadata": {},
     "output_type": "execute_result"
    }
   ],
   "source": [
    "ols.coef_"
   ]
  },
  {
   "cell_type": "code",
   "execution_count": 21,
   "id": "91ee00a6-a419-4821-bfae-7ce5414018c9",
   "metadata": {},
   "outputs": [
    {
     "data": {
      "text/plain": [
       "22.39477120628105"
      ]
     },
     "execution_count": 21,
     "metadata": {},
     "output_type": "execute_result"
    }
   ],
   "source": [
    "ols.intercept_"
   ]
  },
  {
   "cell_type": "code",
   "execution_count": 16,
   "id": "ca550fb1-8f10-410c-b6dc-a7b11f6f6b28",
   "metadata": {},
   "outputs": [
    {
     "data": {
      "text/plain": [
       "Lasso(alpha=0.1)"
      ]
     },
     "execution_count": 16,
     "metadata": {},
     "output_type": "execute_result"
    }
   ],
   "source": [
    "lasso_reg = Lasso(alpha=0.1)\n",
    "lasso_reg.fit(x_train,y_train)"
   ]
  },
  {
   "cell_type": "code",
   "execution_count": 17,
   "id": "679e90d1-3ad9-4102-9541-8d21544542e3",
   "metadata": {},
   "outputs": [
    {
     "data": {
      "text/plain": [
       "array([-0.98892433,  1.14170678, -0.19546736,  0.37591538, -1.17909369,\n",
       "        2.5696011 ,  0.        , -2.61088961,  1.22037945, -0.92860018,\n",
       "       -1.59991536,  1.10554496, -3.79279694])"
      ]
     },
     "execution_count": 17,
     "metadata": {},
     "output_type": "execute_result"
    }
   ],
   "source": [
    "lasso_reg.coef_"
   ]
  },
  {
   "cell_type": "code",
   "execution_count": 19,
   "id": "18943916-44b8-46ba-8a56-d6bab8144d19",
   "metadata": {},
   "outputs": [
    {
     "data": {
      "text/plain": [
       "29.253605566346664"
      ]
     },
     "execution_count": 19,
     "metadata": {},
     "output_type": "execute_result"
    }
   ],
   "source": [
    "lasso_pred = lasso_reg.predict(x_test)\n",
    "mean_squared_error(y_test,lasso_pred)"
   ]
  },
  {
   "cell_type": "code",
   "execution_count": 22,
   "id": "c151417e-d899-4add-90b9-70f6a1ffab7d",
   "metadata": {},
   "outputs": [
    {
     "name": "stderr",
     "output_type": "stream",
     "text": [
      "/tmp/ipykernel_237745/2198041586.py:2: UserWarning: With alpha=0, this algorithm does not converge well. You are advised to use the LinearRegression estimator\n",
      "  lasso_reg.fit(x_train,y_train)\n",
      "/home/eshaan/.local/lib/python3.10/site-packages/sklearn/linear_model/_coordinate_descent.py:647: UserWarning: Coordinate descent with no regularization may lead to unexpected results and is discouraged.\n",
      "  model = cd_fast.enet_coordinate_descent(\n",
      "/home/eshaan/.local/lib/python3.10/site-packages/sklearn/linear_model/_coordinate_descent.py:647: ConvergenceWarning: Objective did not converge. You might want to increase the number of iterations, check the scale of the features or consider increasing regularisation. Duality gap: 3.444e+03, tolerance: 2.750e+00 Linear regression models with null weight for the l1 regularization term are more efficiently fitted using one of the solvers implemented in sklearn.linear_model.Ridge/RidgeCV instead.\n",
      "  model = cd_fast.enet_coordinate_descent(\n"
     ]
    }
   ],
   "source": [
    "lasso_reg = Lasso(alpha=0)\n",
    "lasso_reg.fit(x_train,y_train)\n",
    "lasso_df = pd.DataFrame({'variable':house_price.feature_names,'estimate':lasso_reg.coef_})"
   ]
  },
  {
   "cell_type": "code",
   "execution_count": 23,
   "id": "76640665-6b3d-415f-bbd8-aba998a89c6b",
   "metadata": {},
   "outputs": [],
   "source": [
    "lasso_train_pred = []\n",
    "lasso_test_pred = []"
   ]
  },
  {
   "cell_type": "code",
   "execution_count": 24,
   "id": "6ba7e9dc-a25f-4daf-96ea-93787ac6a584",
   "metadata": {},
   "outputs": [
    {
     "data": {
      "text/plain": [
       "array([-1.32140428,  1.51483181, -0.16626579,  0.41157944, -1.77116763,\n",
       "        2.35282088,  0.31849871, -3.25664538,  2.63257618, -2.05946639,\n",
       "       -1.75520086,  1.18114343, -3.88704342])"
      ]
     },
     "execution_count": 24,
     "metadata": {},
     "output_type": "execute_result"
    }
   ],
   "source": [
    "lasso_reg.coef_"
   ]
  },
  {
   "cell_type": "code",
   "execution_count": 25,
   "id": "e6069746-594f-4fc4-a8dc-8adcc54847e6",
   "metadata": {},
   "outputs": [
    {
     "data": {
      "text/plain": [
       "array([-1.32140428,  1.51483181, -0.16626579,  0.41157944, -1.77116763,\n",
       "        2.35282088,  0.31849871, -3.25664538,  2.63257618, -2.05946639,\n",
       "       -1.75520086,  1.18114343, -3.88704342])"
      ]
     },
     "execution_count": 25,
     "metadata": {},
     "output_type": "execute_result"
    }
   ],
   "source": [
    "ols.coef_"
   ]
  },
  {
   "cell_type": "code",
   "execution_count": 26,
   "id": "f7fdf269-faa8-4ec3-80b6-fd11258bf2ce",
   "metadata": {},
   "outputs": [
    {
     "name": "stderr",
     "output_type": "stream",
     "text": [
      "/tmp/ipykernel_237745/1066362713.py:3: UserWarning: With alpha=0, this algorithm does not converge well. You are advised to use the LinearRegression estimator\n",
      "  lasso_reg.fit(x_train,y_train)\n",
      "/home/eshaan/.local/lib/python3.10/site-packages/sklearn/linear_model/_coordinate_descent.py:647: UserWarning: Coordinate descent with no regularization may lead to unexpected results and is discouraged.\n",
      "  model = cd_fast.enet_coordinate_descent(\n",
      "/home/eshaan/.local/lib/python3.10/site-packages/sklearn/linear_model/_coordinate_descent.py:647: ConvergenceWarning: Objective did not converge. You might want to increase the number of iterations, check the scale of the features or consider increasing regularisation. Duality gap: 3.444e+03, tolerance: 2.750e+00 Linear regression models with null weight for the l1 regularization term are more efficiently fitted using one of the solvers implemented in sklearn.linear_model.Ridge/RidgeCV instead.\n",
      "  model = cd_fast.enet_coordinate_descent(\n"
     ]
    }
   ],
   "source": [
    "for alpha in np.arange(0,1,0.1):\n",
    "    lasso_reg = Lasso(alpha=alpha)\n",
    "    lasso_reg.fit(x_train,y_train)\n",
    "    var_name = 'estimate: ' + str(alpha)\n",
    "    lasso_df[var_name] = lasso_reg.coef_\n",
    "    lasso_train_pred.append(lasso_reg.predict(x_train))\n",
    "    lasso_test_pred.append(lasso_reg.predict(x_test))\n",
    "lasso_df = lasso_df.set_index('variable').T.rename_axis('estimate').rename_axis(None).reset_index()"
   ]
  },
  {
   "cell_type": "code",
   "execution_count": 27,
   "id": "d6040bba-6639-4e8c-8fbc-58865698dbb1",
   "metadata": {},
   "outputs": [
    {
     "data": {
      "text/html": [
       "<div>\n",
       "<style scoped>\n",
       "    .dataframe tbody tr th:only-of-type {\n",
       "        vertical-align: middle;\n",
       "    }\n",
       "\n",
       "    .dataframe tbody tr th {\n",
       "        vertical-align: top;\n",
       "    }\n",
       "\n",
       "    .dataframe thead th {\n",
       "        text-align: right;\n",
       "    }\n",
       "</style>\n",
       "<table border=\"1\" class=\"dataframe\">\n",
       "  <thead>\n",
       "    <tr style=\"text-align: right;\">\n",
       "      <th>variable</th>\n",
       "      <th>index</th>\n",
       "      <th>CRIM</th>\n",
       "      <th>ZN</th>\n",
       "      <th>INDUS</th>\n",
       "      <th>CHAS</th>\n",
       "      <th>NOX</th>\n",
       "      <th>RM</th>\n",
       "      <th>AGE</th>\n",
       "      <th>DIS</th>\n",
       "      <th>RAD</th>\n",
       "      <th>TAX</th>\n",
       "      <th>PTRATIO</th>\n",
       "      <th>B</th>\n",
       "      <th>LSTAT</th>\n",
       "    </tr>\n",
       "  </thead>\n",
       "  <tbody>\n",
       "    <tr>\n",
       "      <th>0</th>\n",
       "      <td>estimate</td>\n",
       "      <td>-1.321404</td>\n",
       "      <td>1.514832</td>\n",
       "      <td>-0.166266</td>\n",
       "      <td>0.411579</td>\n",
       "      <td>-1.771168</td>\n",
       "      <td>2.352821</td>\n",
       "      <td>0.318499</td>\n",
       "      <td>-3.256645</td>\n",
       "      <td>2.632576</td>\n",
       "      <td>-2.059466</td>\n",
       "      <td>-1.755201</td>\n",
       "      <td>1.181143</td>\n",
       "      <td>-3.887043</td>\n",
       "    </tr>\n",
       "    <tr>\n",
       "      <th>1</th>\n",
       "      <td>estimate: 0.0</td>\n",
       "      <td>-1.321404</td>\n",
       "      <td>1.514832</td>\n",
       "      <td>-0.166266</td>\n",
       "      <td>0.411579</td>\n",
       "      <td>-1.771168</td>\n",
       "      <td>2.352821</td>\n",
       "      <td>0.318499</td>\n",
       "      <td>-3.256645</td>\n",
       "      <td>2.632576</td>\n",
       "      <td>-2.059466</td>\n",
       "      <td>-1.755201</td>\n",
       "      <td>1.181143</td>\n",
       "      <td>-3.887043</td>\n",
       "    </tr>\n",
       "    <tr>\n",
       "      <th>2</th>\n",
       "      <td>estimate: 0.1</td>\n",
       "      <td>-0.988924</td>\n",
       "      <td>1.141707</td>\n",
       "      <td>-0.195467</td>\n",
       "      <td>0.375915</td>\n",
       "      <td>-1.179094</td>\n",
       "      <td>2.569601</td>\n",
       "      <td>0.000000</td>\n",
       "      <td>-2.610890</td>\n",
       "      <td>1.220379</td>\n",
       "      <td>-0.928600</td>\n",
       "      <td>-1.599915</td>\n",
       "      <td>1.105545</td>\n",
       "      <td>-3.792797</td>\n",
       "    </tr>\n",
       "    <tr>\n",
       "      <th>3</th>\n",
       "      <td>estimate: 0.2</td>\n",
       "      <td>-0.670677</td>\n",
       "      <td>0.822300</td>\n",
       "      <td>-0.191857</td>\n",
       "      <td>0.317322</td>\n",
       "      <td>-0.683412</td>\n",
       "      <td>2.723007</td>\n",
       "      <td>0.000000</td>\n",
       "      <td>-1.879586</td>\n",
       "      <td>0.000000</td>\n",
       "      <td>-0.000000</td>\n",
       "      <td>-1.461582</td>\n",
       "      <td>1.015825</td>\n",
       "      <td>-3.805293</td>\n",
       "    </tr>\n",
       "    <tr>\n",
       "      <th>4</th>\n",
       "      <td>estimate: 0.30000000000000004</td>\n",
       "      <td>-0.557588</td>\n",
       "      <td>0.535393</td>\n",
       "      <td>-0.008835</td>\n",
       "      <td>0.207917</td>\n",
       "      <td>-0.361195</td>\n",
       "      <td>2.781692</td>\n",
       "      <td>-0.000000</td>\n",
       "      <td>-1.170976</td>\n",
       "      <td>0.000000</td>\n",
       "      <td>-0.000000</td>\n",
       "      <td>-1.473136</td>\n",
       "      <td>0.991887</td>\n",
       "      <td>-3.787052</td>\n",
       "    </tr>\n",
       "  </tbody>\n",
       "</table>\n",
       "</div>"
      ],
      "text/plain": [
       "variable                          index      CRIM        ZN     INDUS  \\\n",
       "0                              estimate -1.321404  1.514832 -0.166266   \n",
       "1                         estimate: 0.0 -1.321404  1.514832 -0.166266   \n",
       "2                         estimate: 0.1 -0.988924  1.141707 -0.195467   \n",
       "3                         estimate: 0.2 -0.670677  0.822300 -0.191857   \n",
       "4         estimate: 0.30000000000000004 -0.557588  0.535393 -0.008835   \n",
       "\n",
       "variable      CHAS       NOX        RM       AGE       DIS       RAD  \\\n",
       "0         0.411579 -1.771168  2.352821  0.318499 -3.256645  2.632576   \n",
       "1         0.411579 -1.771168  2.352821  0.318499 -3.256645  2.632576   \n",
       "2         0.375915 -1.179094  2.569601  0.000000 -2.610890  1.220379   \n",
       "3         0.317322 -0.683412  2.723007  0.000000 -1.879586  0.000000   \n",
       "4         0.207917 -0.361195  2.781692 -0.000000 -1.170976  0.000000   \n",
       "\n",
       "variable       TAX   PTRATIO         B     LSTAT  \n",
       "0        -2.059466 -1.755201  1.181143 -3.887043  \n",
       "1        -2.059466 -1.755201  1.181143 -3.887043  \n",
       "2        -0.928600 -1.599915  1.105545 -3.792797  \n",
       "3        -0.000000 -1.461582  1.015825 -3.805293  \n",
       "4        -0.000000 -1.473136  0.991887 -3.787052  "
      ]
     },
     "execution_count": 27,
     "metadata": {},
     "output_type": "execute_result"
    }
   ],
   "source": [
    "lasso_df.head()"
   ]
  },
  {
   "cell_type": "code",
   "execution_count": 32,
   "id": "bc0e46f0-e6f3-44fc-a20f-6d32966b2e1e",
   "metadata": {},
   "outputs": [
    {
     "data": {
      "image/png": "[encoded data removed]",
      "text/plain": [
       "<Figure size 1152x648 with 1 Axes>"
      ]
     },
     "metadata": {
      "needs_background": "light"
     },
     "output_type": "display_data"
    }
   ],
   "source": [
    "fig,ax = plt.subplots(figsize=(16,9))\n",
    "ax.plot(lasso_df.RM,'r',lasso_df.ZN,'g',lasso_df.RAD,'b',lasso_df.CRIM,'c',lasso_df.TAX,'y')\n",
    "ax.axhline(y=0,color='black',linestyle='--')\n",
    "ax.set_xlabel('Lambda')\n",
    "ax.set_ylabel('Beta Estimate')\n",
    "ax.set_title('Lasso Regression Trace',fontsize=16)\n",
    "ax.legend(labels=['Room','Residential Zone','Highway Access',\"Crime Rate\",'Tax'],loc='best')\n",
    "ax.grid(True)"
   ]
  },
  {
   "cell_type": "code",
   "execution_count": 38,
   "id": "ffdd519f-0abf-4822-86eb-5ff5913e345e",
   "metadata": {},
   "outputs": [
    {
     "data": {
      "text/plain": [
       "10"
      ]
     },
     "execution_count": 38,
     "metadata": {},
     "output_type": "execute_result"
    }
   ],
   "source": [
    "len(lasso_test_pred)"
   ]
  },
  {
   "cell_type": "code",
   "execution_count": 37,
   "id": "0bd34b54-6eac-4336-bf59-bdf70ed08b58",
   "metadata": {},
   "outputs": [
    {
     "data": {
      "text/plain": [
       "[29.32659652612324,\n",
       " 29.253605566346664,\n",
       " 30.17738577028309,\n",
       " 30.921076779791484,\n",
       " 31.977138542473096,\n",
       " 32.691636141759446,\n",
       " 33.30619417080997,\n",
       " 33.584476284899736,\n",
       " 33.937509166571786,\n",
       " 34.365578756049764]"
      ]
     },
     "execution_count": 37,
     "metadata": {},
     "output_type": "execute_result"
    }
   ],
   "source": [
    "lasso_mse_test"
   ]
  },
  {
   "cell_type": "code",
   "execution_count": 36,
   "id": "5afc0dff-8eef-4735-a342-66d416b4a4ed",
   "metadata": {},
   "outputs": [
    {
     "data": {
      "text/plain": [
       "Text(0, 0.5, 'MSE')"
      ]
     },
     "execution_count": 36,
     "metadata": {},
     "output_type": "execute_result"
    },
    {
     "data": {
      "image/png": "[encoded data removed]",
      "text/plain": [
       "<Figure size 1152x648 with 1 Axes>"
      ]
     },
     "metadata": {
      "needs_background": "light"
     },
     "output_type": "display_data"
    }
   ],
   "source": [
    "lasso_mse_test = [mean_squared_error(y_test,p) for p in lasso_test_pred]\n",
    "ols_mse = mean_squared_error(y_test,ols_pred)\n",
    "plt.figure(figsize=(16,9))\n",
    "plt.plot(lasso_mse_test[:25],'ro')\n",
    "plt.axhline(y=ols_mse,color='g',linestyle = '--')\n",
    "plt.title('Lasse Test Set MSE',fontsize = 16)\n",
    "plt.xlabel('Model Simplicity$\\longrightarrow$')\n",
    "plt.ylabel('MSE')"
   ]
  }
 ],
 "metadata": {
  "kernelspec": {
   "display_name": "Python 3 (ipykernel)",
   "language": "python",
   "name": "python3"
  },
  "language_info": {
   "codemirror_mode": {
    "name": "ipython",
    "version": 3
   },
   "file_extension": ".py",
   "mimetype": "text/x-python",
   "name": "python",
   "nbconvert_exporter": "python",
   "pygments_lexer": "ipython3",
   "version": "3.10.6"
  }
 },
 "nbformat": 4,
 "nbformat_minor": 5
}
