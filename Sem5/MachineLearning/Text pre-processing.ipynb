{
 "cells": [
  {
   "cell_type": "code",
   "execution_count": 29,
   "id": "3550a087-138f-4b34-9645-bc3e21c05dce",
   "metadata": {},
   "outputs": [],
   "source": [
    "import nltk\n",
    "from string import punctuation"
   ]
  },
  {
   "cell_type": "markdown",
   "id": "a79edee3-b659-4e2c-beb9-319d46ae681d",
   "metadata": {},
   "source": [
    "`nltk.corpus` needed for  nltk.pos_tag function <br>\n",
    "`nltk.stem` needed for WordNetLemmatizer"
   ]
  },
  {
   "cell_type": "code",
   "execution_count": 2,
   "id": "d60578a1-4507-4a8c-b8c2-3486845bb93d",
   "metadata": {},
   "outputs": [
    {
     "name": "stderr",
     "output_type": "stream",
     "text": [
      "[nltk_data] Downloading package stopwords to /home/eshaan/nltk_data...\n",
      "[nltk_data]   Unzipping corpora/stopwords.zip.\n"
     ]
    },
    {
     "data": {
      "text/plain": [
       "True"
      ]
     },
     "execution_count": 2,
     "metadata": {},
     "output_type": "execute_result"
    }
   ],
   "source": [
    "nltk.download('stopwords')"
   ]
  },
  {
   "cell_type": "code",
   "execution_count": 3,
   "id": "9e350968-5d07-4231-8e5c-4c00ad1fcdbe",
   "metadata": {},
   "outputs": [
    {
     "name": "stderr",
     "output_type": "stream",
     "text": [
      "[nltk_data] Downloading package punkt to /home/eshaan/nltk_data...\n",
      "[nltk_data]   Unzipping tokenizers/punkt.zip.\n"
     ]
    },
    {
     "data": {
      "text/plain": [
       "True"
      ]
     },
     "execution_count": 3,
     "metadata": {},
     "output_type": "execute_result"
    }
   ],
   "source": [
    "nltk.download('punkt')"
   ]
  },
  {
   "cell_type": "code",
   "execution_count": 4,
   "id": "3f03a9e3-f588-4fd5-a23c-f35449532ab8",
   "metadata": {},
   "outputs": [
    {
     "name": "stderr",
     "output_type": "stream",
     "text": [
      "[nltk_data] Downloading package averaged_perceptron_tagger to\n",
      "[nltk_data]     /home/eshaan/nltk_data...\n",
      "[nltk_data]   Unzipping taggers/averaged_perceptron_tagger.zip.\n"
     ]
    },
    {
     "data": {
      "text/plain": [
       "True"
      ]
     },
     "execution_count": 4,
     "metadata": {},
     "output_type": "execute_result"
    }
   ],
   "source": [
    "nltk.download('averaged_perceptron_tagger')"
   ]
  },
  {
   "cell_type": "code",
   "execution_count": 5,
   "id": "de16864f-7a09-4497-83eb-c79b59e4e28d",
   "metadata": {},
   "outputs": [
    {
     "name": "stderr",
     "output_type": "stream",
     "text": [
      "[nltk_data] Downloading package wordnet to /home/eshaan/nltk_data...\n"
     ]
    },
    {
     "data": {
      "text/plain": [
       "True"
      ]
     },
     "execution_count": 5,
     "metadata": {},
     "output_type": "execute_result"
    }
   ],
   "source": [
    "nltk.download('wordnet')"
   ]
  },
  {
   "cell_type": "code",
   "execution_count": 44,
   "id": "45b5fc1a-6d87-423d-ab3f-7d7d1bc9fe4a",
   "metadata": {},
   "outputs": [
    {
     "name": "stderr",
     "output_type": "stream",
     "text": [
      "[nltk_data] Downloading package omw-1.4 to /home/eshaan/nltk_data...\n"
     ]
    },
    {
     "data": {
      "text/plain": [
       "True"
      ]
     },
     "execution_count": 44,
     "metadata": {},
     "output_type": "execute_result"
    }
   ],
   "source": [
    "nltk.download('omw-1.4')"
   ]
  },
  {
   "cell_type": "code",
   "execution_count": 12,
   "id": "d6b58dbf-f16b-4c76-91d4-6db71b753397",
   "metadata": {},
   "outputs": [],
   "source": [
    "text = '''Harshad Shantilal Mehta (29 July 1954 — 31 December 2001) was an Indian stockbroker. Mehta's involvement in the 1992 Indian securities scam made him infamous as a market manipulator.Of the 27 criminal charges brought against Mehta, he was only convicted of four, before his death (by sudden heart attack) at age 47 in 2001. It was alleged that Mehta engaged in a massive stock manipulation scheme financed by worthless bank receipts, which his firm brokered for \"ready forward\" transactions between banks. Mehta was convicted by the Bombay High Court and the Supreme Court of India for his part in a financial scandal valued at ₹100 billion (US$1.3 billion) which took place on the Bombay Stock Exchange (BSE). The scandal exposed the loopholes in the Indian banking system and the Bombay Stock Exchange (BSE) transaction system, and consequently the SEBI introduced new rules to cover those loopholes. He was on trial for 9 years, until he died at the end of 2001 from heart attack.'''"
   ]
  },
  {
   "cell_type": "markdown",
   "id": "f4a70947-7c55-448e-921e-8b8e6b42ef3a",
   "metadata": {},
   "source": [
    "## Tokenizing"
   ]
  },
  {
   "cell_type": "code",
   "execution_count": 13,
   "id": "0b538b25-4735-4e55-86df-436a4a993d2e",
   "metadata": {},
   "outputs": [],
   "source": [
    "tokens = nltk.tokenize.word_tokenize(text)"
   ]
  },
  {
   "cell_type": "code",
   "execution_count": 14,
   "id": "62336d65-4f13-416b-9892-0850bdad38b4",
   "metadata": {},
   "outputs": [
    {
     "data": {
      "text/plain": [
       "['Harshad',\n",
       " 'Shantilal',\n",
       " 'Mehta',\n",
       " '(',\n",
       " '29',\n",
       " 'July',\n",
       " '1954',\n",
       " '—',\n",
       " '31',\n",
       " 'December',\n",
       " '2001',\n",
       " ')',\n",
       " 'was',\n",
       " 'an',\n",
       " 'Indian',\n",
       " 'stockbroker',\n",
       " '.',\n",
       " 'Mehta',\n",
       " \"'s\",\n",
       " 'involvement',\n",
       " 'in',\n",
       " 'the',\n",
       " '1992',\n",
       " 'Indian',\n",
       " 'securities']"
      ]
     },
     "execution_count": 14,
     "metadata": {},
     "output_type": "execute_result"
    }
   ],
   "source": [
    "tokens[:25]"
   ]
  },
  {
   "cell_type": "code",
   "execution_count": 15,
   "id": "2151c958-3863-45ae-ae47-cae36fbfec28",
   "metadata": {},
   "outputs": [],
   "source": [
    "sent_tokens = nltk.tokenize.sent_tokenize(text)"
   ]
  },
  {
   "cell_type": "code",
   "execution_count": 16,
   "id": "1f1771d9-c806-4d16-9728-3e082b9bf8a3",
   "metadata": {},
   "outputs": [
    {
     "data": {
      "text/plain": [
       "['Harshad Shantilal Mehta (29 July 1954 — 31 December 2001) was an Indian stockbroker.',\n",
       " \"Mehta's involvement in the 1992 Indian securities scam made him infamous as a market manipulator.Of the 27 criminal charges brought against Mehta, he was only convicted of four, before his death (by sudden heart attack) at age 47 in 2001.\",\n",
       " 'It was alleged that Mehta engaged in a massive stock manipulation scheme financed by worthless bank receipts, which his firm brokered for \"ready forward\" transactions between banks.',\n",
       " 'Mehta was convicted by the Bombay High Court and the Supreme Court of India for his part in a financial scandal valued at ₹100 billion (US$1.3 billion) which took place on the Bombay Stock Exchange (BSE).',\n",
       " 'The scandal exposed the loopholes in the Indian banking system and the Bombay Stock Exchange (BSE) transaction system, and consequently the SEBI introduced new rules to cover those loopholes.',\n",
       " 'He was on trial for 9 years, until he died at the end of 2001 from heart attack.']"
      ]
     },
     "execution_count": 16,
     "metadata": {},
     "output_type": "execute_result"
    }
   ],
   "source": [
    "sent_tokens[:7]"
   ]
  },
  {
   "cell_type": "code",
   "execution_count": 17,
   "id": "e5aae3d4-0d4b-4218-a615-095d4dda5f1b",
   "metadata": {},
   "outputs": [],
   "source": [
    "lowercase_tokens = [i.lower() for i in tokens]"
   ]
  },
  {
   "cell_type": "code",
   "execution_count": 18,
   "id": "16ccc778-e231-4856-b1ac-541888c3903f",
   "metadata": {},
   "outputs": [
    {
     "data": {
      "text/plain": [
       "['harshad',\n",
       " 'shantilal',\n",
       " 'mehta',\n",
       " '(',\n",
       " '29',\n",
       " 'july',\n",
       " '1954',\n",
       " '—',\n",
       " '31',\n",
       " 'december',\n",
       " '2001',\n",
       " ')',\n",
       " 'was',\n",
       " 'an',\n",
       " 'indian',\n",
       " 'stockbroker',\n",
       " '.',\n",
       " 'mehta',\n",
       " \"'s\",\n",
       " 'involvement',\n",
       " 'in',\n",
       " 'the',\n",
       " '1992',\n",
       " 'indian',\n",
       " 'securities']"
      ]
     },
     "execution_count": 18,
     "metadata": {},
     "output_type": "execute_result"
    }
   ],
   "source": [
    "lowercase_tokens[:25]"
   ]
  },
  {
   "cell_type": "code",
   "execution_count": 25,
   "id": "ce55af58-a3da-4fff-83c0-44bdf6a1a0ad",
   "metadata": {},
   "outputs": [],
   "source": [
    "bigrams = nltk.ngrams(text.split(),2)"
   ]
  },
  {
   "cell_type": "code",
   "execution_count": 26,
   "id": "7ae46cf4-25f3-4724-b515-7ed6be09d07b",
   "metadata": {},
   "outputs": [
    {
     "data": {
      "text/plain": [
       "[('Harshad', 'Shantilal'),\n",
       " ('Shantilal', 'Mehta'),\n",
       " ('Mehta', '(29'),\n",
       " ('(29', 'July'),\n",
       " ('July', '1954'),\n",
       " ('1954', '—'),\n",
       " ('—', '31'),\n",
       " ('31', 'December'),\n",
       " ('December', '2001)'),\n",
       " ('2001)', 'was'),\n",
       " ('was', 'an'),\n",
       " ('an', 'Indian'),\n",
       " ('Indian', 'stockbroker.'),\n",
       " ('stockbroker.', \"Mehta's\"),\n",
       " (\"Mehta's\", 'involvement'),\n",
       " ('involvement', 'in'),\n",
       " ('in', 'the'),\n",
       " ('the', '1992'),\n",
       " ('1992', 'Indian'),\n",
       " ('Indian', 'securities'),\n",
       " ('securities', 'scam'),\n",
       " ('scam', 'made'),\n",
       " ('made', 'him'),\n",
       " ('him', 'infamous'),\n",
       " ('infamous', 'as'),\n",
       " ('as', 'a'),\n",
       " ('a', 'market'),\n",
       " ('market', 'manipulator.Of'),\n",
       " ('manipulator.Of', 'the'),\n",
       " ('the', '27'),\n",
       " ('27', 'criminal'),\n",
       " ('criminal', 'charges'),\n",
       " ('charges', 'brought'),\n",
       " ('brought', 'against'),\n",
       " ('against', 'Mehta,'),\n",
       " ('Mehta,', 'he'),\n",
       " ('he', 'was'),\n",
       " ('was', 'only'),\n",
       " ('only', 'convicted'),\n",
       " ('convicted', 'of'),\n",
       " ('of', 'four,'),\n",
       " ('four,', 'before'),\n",
       " ('before', 'his'),\n",
       " ('his', 'death'),\n",
       " ('death', '(by'),\n",
       " ('(by', 'sudden'),\n",
       " ('sudden', 'heart'),\n",
       " ('heart', 'attack)'),\n",
       " ('attack)', 'at'),\n",
       " ('at', 'age'),\n",
       " ('age', '47'),\n",
       " ('47', 'in'),\n",
       " ('in', '2001.'),\n",
       " ('2001.', 'It'),\n",
       " ('It', 'was'),\n",
       " ('was', 'alleged'),\n",
       " ('alleged', 'that'),\n",
       " ('that', 'Mehta'),\n",
       " ('Mehta', 'engaged'),\n",
       " ('engaged', 'in'),\n",
       " ('in', 'a'),\n",
       " ('a', 'massive'),\n",
       " ('massive', 'stock'),\n",
       " ('stock', 'manipulation'),\n",
       " ('manipulation', 'scheme'),\n",
       " ('scheme', 'financed'),\n",
       " ('financed', 'by'),\n",
       " ('by', 'worthless'),\n",
       " ('worthless', 'bank'),\n",
       " ('bank', 'receipts,'),\n",
       " ('receipts,', 'which'),\n",
       " ('which', 'his'),\n",
       " ('his', 'firm'),\n",
       " ('firm', 'brokered'),\n",
       " ('brokered', 'for'),\n",
       " ('for', '\"ready'),\n",
       " ('\"ready', 'forward\"'),\n",
       " ('forward\"', 'transactions'),\n",
       " ('transactions', 'between'),\n",
       " ('between', 'banks.'),\n",
       " ('banks.', 'Mehta'),\n",
       " ('Mehta', 'was'),\n",
       " ('was', 'convicted'),\n",
       " ('convicted', 'by'),\n",
       " ('by', 'the'),\n",
       " ('the', 'Bombay'),\n",
       " ('Bombay', 'High'),\n",
       " ('High', 'Court'),\n",
       " ('Court', 'and'),\n",
       " ('and', 'the'),\n",
       " ('the', 'Supreme'),\n",
       " ('Supreme', 'Court'),\n",
       " ('Court', 'of'),\n",
       " ('of', 'India'),\n",
       " ('India', 'for'),\n",
       " ('for', 'his'),\n",
       " ('his', 'part'),\n",
       " ('part', 'in'),\n",
       " ('in', 'a'),\n",
       " ('a', 'financial'),\n",
       " ('financial', 'scandal'),\n",
       " ('scandal', 'valued'),\n",
       " ('valued', 'at'),\n",
       " ('at', '₹100'),\n",
       " ('₹100', 'billion'),\n",
       " ('billion', '(US$1.3'),\n",
       " ('(US$1.3', 'billion)'),\n",
       " ('billion)', 'which'),\n",
       " ('which', 'took'),\n",
       " ('took', 'place'),\n",
       " ('place', 'on'),\n",
       " ('on', 'the'),\n",
       " ('the', 'Bombay'),\n",
       " ('Bombay', 'Stock'),\n",
       " ('Stock', 'Exchange'),\n",
       " ('Exchange', '(BSE).'),\n",
       " ('(BSE).', 'The'),\n",
       " ('The', 'scandal'),\n",
       " ('scandal', 'exposed'),\n",
       " ('exposed', 'the'),\n",
       " ('the', 'loopholes'),\n",
       " ('loopholes', 'in'),\n",
       " ('in', 'the'),\n",
       " ('the', 'Indian'),\n",
       " ('Indian', 'banking'),\n",
       " ('banking', 'system'),\n",
       " ('system', 'and'),\n",
       " ('and', 'the'),\n",
       " ('the', 'Bombay'),\n",
       " ('Bombay', 'Stock'),\n",
       " ('Stock', 'Exchange'),\n",
       " ('Exchange', '(BSE)'),\n",
       " ('(BSE)', 'transaction'),\n",
       " ('transaction', 'system,'),\n",
       " ('system,', 'and'),\n",
       " ('and', 'consequently'),\n",
       " ('consequently', 'the'),\n",
       " ('the', 'SEBI'),\n",
       " ('SEBI', 'introduced'),\n",
       " ('introduced', 'new'),\n",
       " ('new', 'rules'),\n",
       " ('rules', 'to'),\n",
       " ('to', 'cover'),\n",
       " ('cover', 'those'),\n",
       " ('those', 'loopholes.'),\n",
       " ('loopholes.', 'He'),\n",
       " ('He', 'was'),\n",
       " ('was', 'on'),\n",
       " ('on', 'trial'),\n",
       " ('trial', 'for'),\n",
       " ('for', '9'),\n",
       " ('9', 'years,'),\n",
       " ('years,', 'until'),\n",
       " ('until', 'he'),\n",
       " ('he', 'died'),\n",
       " ('died', 'at'),\n",
       " ('at', 'the'),\n",
       " ('the', 'end'),\n",
       " ('end', 'of'),\n",
       " ('of', '2001'),\n",
       " ('2001', 'from'),\n",
       " ('from', 'heart'),\n",
       " ('heart', 'attack.')]"
      ]
     },
     "execution_count": 26,
     "metadata": {},
     "output_type": "execute_result"
    }
   ],
   "source": [
    "list(bigrams)"
   ]
  },
  {
   "cell_type": "markdown",
   "id": "bce5ed67-c0ba-44fe-9270-ff3e31c4ef65",
   "metadata": {},
   "source": [
    "## Removing stop words"
   ]
  },
  {
   "cell_type": "code",
   "execution_count": 27,
   "id": "9a1e0a75-4abb-41f7-bf04-6780fa7ab481",
   "metadata": {},
   "outputs": [],
   "source": [
    "stop_words = nltk.corpus.stopwords.words('english')"
   ]
  },
  {
   "cell_type": "code",
   "execution_count": 30,
   "id": "9c7a1470-21a0-43bc-96c6-4370ae9bc541",
   "metadata": {},
   "outputs": [],
   "source": [
    "punct = list(punctuation)"
   ]
  },
  {
   "cell_type": "code",
   "execution_count": 31,
   "id": "367735be-8805-4bda-b6bf-c8fe68fad7ff",
   "metadata": {},
   "outputs": [],
   "source": [
    "cleaned_tokens = [i for i in lowercase_tokens if i not in stop_words and i not in punct]"
   ]
  },
  {
   "cell_type": "code",
   "execution_count": 32,
   "id": "aef2d08d-ca72-4417-a55d-f209c44ba654",
   "metadata": {},
   "outputs": [
    {
     "data": {
      "text/plain": [
       "['harshad',\n",
       " 'shantilal',\n",
       " 'mehta',\n",
       " '29',\n",
       " 'july',\n",
       " '1954',\n",
       " '—',\n",
       " '31',\n",
       " 'december',\n",
       " '2001',\n",
       " 'indian',\n",
       " 'stockbroker',\n",
       " 'mehta',\n",
       " \"'s\",\n",
       " 'involvement',\n",
       " '1992',\n",
       " 'indian',\n",
       " 'securities',\n",
       " 'scam',\n",
       " 'made',\n",
       " 'infamous',\n",
       " 'market',\n",
       " 'manipulator.of',\n",
       " '27',\n",
       " 'criminal']"
      ]
     },
     "execution_count": 32,
     "metadata": {},
     "output_type": "execute_result"
    }
   ],
   "source": [
    "cleaned_tokens[:25]"
   ]
  },
  {
   "cell_type": "markdown",
   "id": "eeb3633d-464b-42fb-ace5-7976d4fc537f",
   "metadata": {},
   "source": [
    "## Stemming"
   ]
  },
  {
   "cell_type": "code",
   "execution_count": 35,
   "id": "f26de36a-a257-4ce8-8596-de6eaa4dc1b4",
   "metadata": {},
   "outputs": [],
   "source": [
    "ps = nltk.stem.PorterStemmer()"
   ]
  },
  {
   "cell_type": "code",
   "execution_count": 36,
   "id": "0ae532a4-07ea-438b-ad6b-848abcf67a4d",
   "metadata": {},
   "outputs": [
    {
     "data": {
      "text/plain": [
       "'jump'"
      ]
     },
     "execution_count": 36,
     "metadata": {},
     "output_type": "execute_result"
    }
   ],
   "source": [
    "ps.stem('jumping')"
   ]
  },
  {
   "cell_type": "code",
   "execution_count": 37,
   "id": "c88338e7-3379-4302-82f3-1431690b9dc3",
   "metadata": {},
   "outputs": [
    {
     "data": {
      "text/plain": [
       "'late'"
      ]
     },
     "execution_count": 37,
     "metadata": {},
     "output_type": "execute_result"
    }
   ],
   "source": [
    "ps.stem('lately')"
   ]
  },
  {
   "cell_type": "code",
   "execution_count": 38,
   "id": "381b87db-c5a6-453d-ae94-fdc27511906f",
   "metadata": {},
   "outputs": [
    {
     "data": {
      "text/plain": [
       "'assess'"
      ]
     },
     "execution_count": 38,
     "metadata": {},
     "output_type": "execute_result"
    }
   ],
   "source": [
    "ps.stem('assess')"
   ]
  },
  {
   "cell_type": "code",
   "execution_count": 39,
   "id": "db282906-9d11-42d7-b315-08693f51542e",
   "metadata": {},
   "outputs": [
    {
     "data": {
      "text/plain": [
       "'ran'"
      ]
     },
     "execution_count": 39,
     "metadata": {},
     "output_type": "execute_result"
    }
   ],
   "source": [
    "ps.stem('ran')"
   ]
  },
  {
   "cell_type": "code",
   "execution_count": 40,
   "id": "86cc6dd3-97d6-4ffa-9dc1-330e10703306",
   "metadata": {},
   "outputs": [],
   "source": [
    "stems = [ps.stem(i) for i in cleaned_tokens]"
   ]
  },
  {
   "cell_type": "code",
   "execution_count": 41,
   "id": "0e9201b2-898a-4088-a142-631149687dd9",
   "metadata": {},
   "outputs": [
    {
     "data": {
      "text/plain": [
       "['harshad',\n",
       " 'shantil',\n",
       " 'mehta',\n",
       " '29',\n",
       " 'juli',\n",
       " '1954',\n",
       " '—',\n",
       " '31',\n",
       " 'decemb',\n",
       " '2001',\n",
       " 'indian',\n",
       " 'stockbrok',\n",
       " 'mehta',\n",
       " \"'s\",\n",
       " 'involv',\n",
       " '1992',\n",
       " 'indian',\n",
       " 'secur',\n",
       " 'scam',\n",
       " 'made',\n",
       " 'infam',\n",
       " 'market',\n",
       " 'manipulator.of',\n",
       " '27',\n",
       " 'crimin']"
      ]
     },
     "execution_count": 41,
     "metadata": {},
     "output_type": "execute_result"
    }
   ],
   "source": [
    "stems[:25]"
   ]
  },
  {
   "cell_type": "markdown",
   "id": "5dcd2d3a-a79c-4e32-9801-e246764ff618",
   "metadata": {},
   "source": [
    "## Lemmatization"
   ]
  },
  {
   "cell_type": "code",
   "execution_count": 42,
   "id": "1f5d88ce-45a4-4f14-ba3d-b2a6e59c009e",
   "metadata": {},
   "outputs": [],
   "source": [
    "lmt = nltk.WordNetLemmatizer()"
   ]
  },
  {
   "cell_type": "code",
   "execution_count": 45,
   "id": "5ecd6d01-4069-498a-a099-5eaa677fe650",
   "metadata": {},
   "outputs": [
    {
     "data": {
      "text/plain": [
       "'start'"
      ]
     },
     "execution_count": 45,
     "metadata": {},
     "output_type": "execute_result"
    }
   ],
   "source": [
    "lmt.lemmatize('starting','v')"
   ]
  },
  {
   "cell_type": "code",
   "execution_count": 46,
   "id": "f6aac384-3313-4178-895e-d2facb473d42",
   "metadata": {},
   "outputs": [
    {
     "data": {
      "text/plain": [
       "'good'"
      ]
     },
     "execution_count": 46,
     "metadata": {},
     "output_type": "execute_result"
    }
   ],
   "source": [
    "lmt.lemmatize('better','a')"
   ]
  },
  {
   "cell_type": "code",
   "execution_count": 49,
   "id": "8b18d6ac-aa46-48a7-8ada-0b0d92c8de80",
   "metadata": {},
   "outputs": [
    {
     "data": {
      "text/plain": [
       "'run'"
      ]
     },
     "execution_count": 49,
     "metadata": {},
     "output_type": "execute_result"
    }
   ],
   "source": [
    "lmt.lemmatize('ran','v')"
   ]
  },
  {
   "cell_type": "code",
   "execution_count": 47,
   "id": "50c54f19-25b1-4700-97c3-7a9e53b9d2ba",
   "metadata": {},
   "outputs": [],
   "source": [
    "lemma = [lmt.lemmatize(i) for i in cleaned_tokens]"
   ]
  },
  {
   "cell_type": "code",
   "execution_count": 48,
   "id": "b856320a-a1c6-43f7-afcb-4f80d6e36c9c",
   "metadata": {},
   "outputs": [
    {
     "data": {
      "text/plain": [
       "['harshad',\n",
       " 'shantilal',\n",
       " 'mehta',\n",
       " '29',\n",
       " 'july',\n",
       " '1954',\n",
       " '—',\n",
       " '31',\n",
       " 'december',\n",
       " '2001',\n",
       " 'indian',\n",
       " 'stockbroker',\n",
       " 'mehta',\n",
       " \"'s\",\n",
       " 'involvement',\n",
       " '1992',\n",
       " 'indian',\n",
       " 'security',\n",
       " 'scam',\n",
       " 'made',\n",
       " 'infamous',\n",
       " 'market',\n",
       " 'manipulator.of',\n",
       " '27',\n",
       " 'criminal']"
      ]
     },
     "execution_count": 48,
     "metadata": {},
     "output_type": "execute_result"
    }
   ],
   "source": [
    "lemma[:25]"
   ]
  },
  {
   "cell_type": "markdown",
   "id": "e7bec01c-fae4-4d20-ae27-34b98fad2ff3",
   "metadata": {},
   "source": [
    "### POS tagging"
   ]
  },
  {
   "cell_type": "code",
   "execution_count": 50,
   "id": "e633a814-edb8-4f37-97f9-5302da4e60f2",
   "metadata": {},
   "outputs": [
    {
     "data": {
      "text/plain": [
       "[('harshad', 'NN'),\n",
       " ('shantilal', 'NN'),\n",
       " ('mehta', 'VBD'),\n",
       " ('29', 'CD'),\n",
       " ('july', 'NN'),\n",
       " ('1954', 'CD'),\n",
       " ('—', 'NN'),\n",
       " ('31', 'CD'),\n",
       " ('december', 'NN'),\n",
       " ('2001', 'CD'),\n",
       " ('indian', 'JJ'),\n",
       " ('stockbroker', 'NN'),\n",
       " ('mehta', 'NN'),\n",
       " (\"'s\", 'POS'),\n",
       " ('involvement', 'NN'),\n",
       " ('1992', 'CD'),\n",
       " ('indian', 'JJ'),\n",
       " ('securities', 'NNS'),\n",
       " ('scam', 'NN'),\n",
       " ('made', 'VBD'),\n",
       " ('infamous', 'JJ'),\n",
       " ('market', 'NN'),\n",
       " ('manipulator.of', 'VBD'),\n",
       " ('27', 'CD'),\n",
       " ('criminal', 'NN'),\n",
       " ('charges', 'NNS'),\n",
       " ('brought', 'VBN'),\n",
       " ('mehta', 'RB'),\n",
       " ('convicted', 'VBN'),\n",
       " ('four', 'CD'),\n",
       " ('death', 'NN'),\n",
       " ('sudden', 'JJ'),\n",
       " ('heart', 'NN'),\n",
       " ('attack', 'NN'),\n",
       " ('age', 'NN'),\n",
       " ('47', 'CD'),\n",
       " ('2001', 'CD'),\n",
       " ('alleged', 'VBD'),\n",
       " ('mehta', 'NNS'),\n",
       " ('engaged', 'VBD'),\n",
       " ('massive', 'JJ'),\n",
       " ('stock', 'NN'),\n",
       " ('manipulation', 'NN'),\n",
       " ('scheme', 'NN'),\n",
       " ('financed', 'VBD'),\n",
       " ('worthless', 'JJ'),\n",
       " ('bank', 'NN'),\n",
       " ('receipts', 'NNS'),\n",
       " ('firm', 'NN'),\n",
       " ('brokered', 'VBD'),\n",
       " ('``', '``'),\n",
       " ('ready', 'JJ'),\n",
       " ('forward', 'NN'),\n",
       " (\"''\", \"''\"),\n",
       " ('transactions', 'NNS'),\n",
       " ('banks', 'NNS'),\n",
       " ('mehta', 'VBP'),\n",
       " ('convicted', 'VBN'),\n",
       " ('bombay', 'RB'),\n",
       " ('high', 'JJ'),\n",
       " ('court', 'NN'),\n",
       " ('supreme', 'JJ'),\n",
       " ('court', 'NN'),\n",
       " ('india', 'VBP'),\n",
       " ('part', 'NN'),\n",
       " ('financial', 'JJ'),\n",
       " ('scandal', 'NN'),\n",
       " ('valued', 'VBN'),\n",
       " ('₹100', 'CD'),\n",
       " ('billion', 'CD'),\n",
       " ('us', 'PRP'),\n",
       " ('1.3', 'CD'),\n",
       " ('billion', 'CD'),\n",
       " ('took', 'VBD'),\n",
       " ('place', 'NN'),\n",
       " ('bombay', 'NN'),\n",
       " ('stock', 'NN'),\n",
       " ('exchange', 'NN'),\n",
       " ('bse', 'NN'),\n",
       " ('scandal', 'NN'),\n",
       " ('exposed', 'VBD'),\n",
       " ('loopholes', 'NNS'),\n",
       " ('indian', 'JJ'),\n",
       " ('banking', 'NN'),\n",
       " ('system', 'NN'),\n",
       " ('bombay', 'VBD'),\n",
       " ('stock', 'NN'),\n",
       " ('exchange', 'NN'),\n",
       " ('bse', 'JJ'),\n",
       " ('transaction', 'NN'),\n",
       " ('system', 'NN'),\n",
       " ('consequently', 'RB'),\n",
       " ('sebi', 'RB'),\n",
       " ('introduced', 'JJ'),\n",
       " ('new', 'JJ'),\n",
       " ('rules', 'NNS'),\n",
       " ('cover', 'VBP'),\n",
       " ('loopholes', 'VBZ'),\n",
       " ('trial', 'NN'),\n",
       " ('9', 'CD'),\n",
       " ('years', 'NNS'),\n",
       " ('died', 'VBD'),\n",
       " ('end', 'NN'),\n",
       " ('2001', 'CD'),\n",
       " ('heart', 'NN'),\n",
       " ('attack', 'NN')]"
      ]
     },
     "execution_count": 50,
     "metadata": {},
     "output_type": "execute_result"
    }
   ],
   "source": [
    "nltk.pos_tag(cleaned_tokens)"
   ]
  },
  {
   "cell_type": "code",
   "execution_count": null,
   "id": "aaceb3ab-d4bc-49a3-a766-e54bb12ab753",
   "metadata": {},
   "outputs": [],
   "source": []
  }
 ],
 "metadata": {
  "kernelspec": {
   "display_name": "Python 3 (ipykernel)",
   "language": "python",
   "name": "python3"
  },
  "language_info": {
   "codemirror_mode": {
    "name": "ipython",
    "version": 3
   },
   "file_extension": ".py",
   "mimetype": "text/x-python",
   "name": "python",
   "nbconvert_exporter": "python",
   "pygments_lexer": "ipython3",
   "version": "3.10.6"
  }
 },
 "nbformat": 4,
 "nbformat_minor": 5
}
