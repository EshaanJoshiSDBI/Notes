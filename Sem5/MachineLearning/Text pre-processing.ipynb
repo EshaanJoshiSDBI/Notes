{
 "cells": [
  {
   "cell_type": "code",
   "execution_count": 75,
   "id": "3550a087-138f-4b34-9645-bc3e21c05dce",
   "metadata": {},
   "outputs": [],
   "source": [
    "import pandas as pd\n",
    "from sklearn.feature_extraction.text import CountVectorizer\n",
    "from sklearn.feature_extraction.text import TfidfVectorizer\n",
    "import nltk\n",
    "from string import punctuation\n",
    "from nltk.corpus import wordnet"
   ]
  },
  {
   "cell_type": "markdown",
   "id": "a79edee3-b659-4e2c-beb9-319d46ae681d",
   "metadata": {},
   "source": [
    "`nltk.corpus` needed for  nltk.pos_tag function <br>\n",
    "`nltk.stem` needed for WordNetLemmatizer"
   ]
  },
  {
   "cell_type": "markdown",
   "id": "037b6db6-4e9c-42dc-bbf2-bf84d469790d",
   "metadata": {},
   "source": [
    "```python\n",
    "nltk.download('stopwords')\n",
    "nltk.download('punkt')\n",
    "nltk.download('averaged_perceptron_tagger')\n",
    "nltk.download('wordnet')\n",
    "nltk.download('omw-1.4')\n",
    "```"
   ]
  },
  {
   "cell_type": "code",
   "execution_count": 3,
   "id": "d6b58dbf-f16b-4c76-91d4-6db71b753397",
   "metadata": {},
   "outputs": [],
   "source": [
    "text = '''Harshad Shantilal Mehta (29 July 1954 — 31 December 2001) was an Indian stockbroker. Mehta's involvement in the 1992 Indian securities scam made him infamous as a market manipulator.Of the 27 criminal charges brought against Mehta, he was only convicted of four, before his death (by sudden heart attack) at age 47 in 2001. It was alleged that Mehta engaged in a massive stock manipulation scheme financed by worthless bank receipts, which his firm brokered for \"ready forward\" transactions between banks. Mehta was convicted by the Bombay High Court and the Supreme Court of India for his part in a financial scandal valued at ₹100 billion (US$1.3 billion) which took place on the Bombay Stock Exchange (BSE). The scandal exposed the loopholes in the Indian banking system and the Bombay Stock Exchange (BSE) transaction system, and consequently the SEBI introduced new rules to cover those loopholes. He was on trial for 9 years, until he died at the end of 2001 from heart attack.'''"
   ]
  },
  {
   "cell_type": "markdown",
   "id": "f4a70947-7c55-448e-921e-8b8e6b42ef3a",
   "metadata": {},
   "source": [
    "## Tokenizing"
   ]
  },
  {
   "cell_type": "code",
   "execution_count": 4,
   "id": "0b538b25-4735-4e55-86df-436a4a993d2e",
   "metadata": {},
   "outputs": [],
   "source": [
    "tokens = nltk.tokenize.word_tokenize(text)"
   ]
  },
  {
   "cell_type": "code",
   "execution_count": 5,
   "id": "62336d65-4f13-416b-9892-0850bdad38b4",
   "metadata": {},
   "outputs": [
    {
     "data": {
      "text/plain": [
       "['Harshad',\n",
       " 'Shantilal',\n",
       " 'Mehta',\n",
       " '(',\n",
       " '29',\n",
       " 'July',\n",
       " '1954',\n",
       " '—',\n",
       " '31',\n",
       " 'December',\n",
       " '2001',\n",
       " ')',\n",
       " 'was',\n",
       " 'an',\n",
       " 'Indian',\n",
       " 'stockbroker',\n",
       " '.',\n",
       " 'Mehta',\n",
       " \"'s\",\n",
       " 'involvement',\n",
       " 'in',\n",
       " 'the',\n",
       " '1992',\n",
       " 'Indian',\n",
       " 'securities']"
      ]
     },
     "execution_count": 5,
     "metadata": {},
     "output_type": "execute_result"
    }
   ],
   "source": [
    "tokens[:25]"
   ]
  },
  {
   "cell_type": "code",
   "execution_count": 6,
   "id": "2151c958-3863-45ae-ae47-cae36fbfec28",
   "metadata": {},
   "outputs": [],
   "source": [
    "sent_tokens = nltk.tokenize.sent_tokenize(text)"
   ]
  },
  {
   "cell_type": "code",
   "execution_count": 7,
   "id": "1f1771d9-c806-4d16-9728-3e082b9bf8a3",
   "metadata": {},
   "outputs": [
    {
     "data": {
      "text/plain": [
       "['Harshad Shantilal Mehta (29 July 1954 — 31 December 2001) was an Indian stockbroker.',\n",
       " \"Mehta's involvement in the 1992 Indian securities scam made him infamous as a market manipulator.Of the 27 criminal charges brought against Mehta, he was only convicted of four, before his death (by sudden heart attack) at age 47 in 2001.\",\n",
       " 'It was alleged that Mehta engaged in a massive stock manipulation scheme financed by worthless bank receipts, which his firm brokered for \"ready forward\" transactions between banks.',\n",
       " 'Mehta was convicted by the Bombay High Court and the Supreme Court of India for his part in a financial scandal valued at ₹100 billion (US$1.3 billion) which took place on the Bombay Stock Exchange (BSE).',\n",
       " 'The scandal exposed the loopholes in the Indian banking system and the Bombay Stock Exchange (BSE) transaction system, and consequently the SEBI introduced new rules to cover those loopholes.',\n",
       " 'He was on trial for 9 years, until he died at the end of 2001 from heart attack.']"
      ]
     },
     "execution_count": 7,
     "metadata": {},
     "output_type": "execute_result"
    }
   ],
   "source": [
    "sent_tokens[:7]"
   ]
  },
  {
   "cell_type": "code",
   "execution_count": 8,
   "id": "e5aae3d4-0d4b-4218-a615-095d4dda5f1b",
   "metadata": {},
   "outputs": [],
   "source": [
    "lowercase_tokens = [i.lower() for i in tokens]"
   ]
  },
  {
   "cell_type": "code",
   "execution_count": 9,
   "id": "16ccc778-e231-4856-b1ac-541888c3903f",
   "metadata": {},
   "outputs": [
    {
     "data": {
      "text/plain": [
       "['harshad',\n",
       " 'shantilal',\n",
       " 'mehta',\n",
       " '(',\n",
       " '29',\n",
       " 'july',\n",
       " '1954',\n",
       " '—',\n",
       " '31',\n",
       " 'december',\n",
       " '2001',\n",
       " ')',\n",
       " 'was',\n",
       " 'an',\n",
       " 'indian',\n",
       " 'stockbroker',\n",
       " '.',\n",
       " 'mehta',\n",
       " \"'s\",\n",
       " 'involvement',\n",
       " 'in',\n",
       " 'the',\n",
       " '1992',\n",
       " 'indian',\n",
       " 'securities']"
      ]
     },
     "execution_count": 9,
     "metadata": {},
     "output_type": "execute_result"
    }
   ],
   "source": [
    "lowercase_tokens[:25]"
   ]
  },
  {
   "cell_type": "code",
   "execution_count": 10,
   "id": "ce55af58-a3da-4fff-83c0-44bdf6a1a0ad",
   "metadata": {},
   "outputs": [],
   "source": [
    "bigrams = nltk.ngrams(text.split(),2)"
   ]
  },
  {
   "cell_type": "code",
   "execution_count": 11,
   "id": "7ae46cf4-25f3-4724-b515-7ed6be09d07b",
   "metadata": {},
   "outputs": [
    {
     "data": {
      "text/plain": [
       "[('Harshad', 'Shantilal'),\n",
       " ('Shantilal', 'Mehta'),\n",
       " ('Mehta', '(29'),\n",
       " ('(29', 'July'),\n",
       " ('July', '1954'),\n",
       " ('1954', '—'),\n",
       " ('—', '31'),\n",
       " ('31', 'December'),\n",
       " ('December', '2001)'),\n",
       " ('2001)', 'was'),\n",
       " ('was', 'an'),\n",
       " ('an', 'Indian'),\n",
       " ('Indian', 'stockbroker.'),\n",
       " ('stockbroker.', \"Mehta's\"),\n",
       " (\"Mehta's\", 'involvement'),\n",
       " ('involvement', 'in'),\n",
       " ('in', 'the'),\n",
       " ('the', '1992'),\n",
       " ('1992', 'Indian'),\n",
       " ('Indian', 'securities'),\n",
       " ('securities', 'scam'),\n",
       " ('scam', 'made'),\n",
       " ('made', 'him'),\n",
       " ('him', 'infamous'),\n",
       " ('infamous', 'as'),\n",
       " ('as', 'a'),\n",
       " ('a', 'market'),\n",
       " ('market', 'manipulator.Of'),\n",
       " ('manipulator.Of', 'the'),\n",
       " ('the', '27'),\n",
       " ('27', 'criminal'),\n",
       " ('criminal', 'charges'),\n",
       " ('charges', 'brought'),\n",
       " ('brought', 'against'),\n",
       " ('against', 'Mehta,'),\n",
       " ('Mehta,', 'he'),\n",
       " ('he', 'was'),\n",
       " ('was', 'only'),\n",
       " ('only', 'convicted'),\n",
       " ('convicted', 'of'),\n",
       " ('of', 'four,'),\n",
       " ('four,', 'before'),\n",
       " ('before', 'his'),\n",
       " ('his', 'death'),\n",
       " ('death', '(by'),\n",
       " ('(by', 'sudden'),\n",
       " ('sudden', 'heart'),\n",
       " ('heart', 'attack)'),\n",
       " ('attack)', 'at'),\n",
       " ('at', 'age'),\n",
       " ('age', '47'),\n",
       " ('47', 'in'),\n",
       " ('in', '2001.'),\n",
       " ('2001.', 'It'),\n",
       " ('It', 'was'),\n",
       " ('was', 'alleged'),\n",
       " ('alleged', 'that'),\n",
       " ('that', 'Mehta'),\n",
       " ('Mehta', 'engaged'),\n",
       " ('engaged', 'in'),\n",
       " ('in', 'a'),\n",
       " ('a', 'massive'),\n",
       " ('massive', 'stock'),\n",
       " ('stock', 'manipulation'),\n",
       " ('manipulation', 'scheme'),\n",
       " ('scheme', 'financed'),\n",
       " ('financed', 'by'),\n",
       " ('by', 'worthless'),\n",
       " ('worthless', 'bank'),\n",
       " ('bank', 'receipts,'),\n",
       " ('receipts,', 'which'),\n",
       " ('which', 'his'),\n",
       " ('his', 'firm'),\n",
       " ('firm', 'brokered'),\n",
       " ('brokered', 'for'),\n",
       " ('for', '\"ready'),\n",
       " ('\"ready', 'forward\"'),\n",
       " ('forward\"', 'transactions'),\n",
       " ('transactions', 'between'),\n",
       " ('between', 'banks.'),\n",
       " ('banks.', 'Mehta'),\n",
       " ('Mehta', 'was'),\n",
       " ('was', 'convicted'),\n",
       " ('convicted', 'by'),\n",
       " ('by', 'the'),\n",
       " ('the', 'Bombay'),\n",
       " ('Bombay', 'High'),\n",
       " ('High', 'Court'),\n",
       " ('Court', 'and'),\n",
       " ('and', 'the'),\n",
       " ('the', 'Supreme'),\n",
       " ('Supreme', 'Court'),\n",
       " ('Court', 'of'),\n",
       " ('of', 'India'),\n",
       " ('India', 'for'),\n",
       " ('for', 'his'),\n",
       " ('his', 'part'),\n",
       " ('part', 'in'),\n",
       " ('in', 'a'),\n",
       " ('a', 'financial'),\n",
       " ('financial', 'scandal'),\n",
       " ('scandal', 'valued'),\n",
       " ('valued', 'at'),\n",
       " ('at', '₹100'),\n",
       " ('₹100', 'billion'),\n",
       " ('billion', '(US$1.3'),\n",
       " ('(US$1.3', 'billion)'),\n",
       " ('billion)', 'which'),\n",
       " ('which', 'took'),\n",
       " ('took', 'place'),\n",
       " ('place', 'on'),\n",
       " ('on', 'the'),\n",
       " ('the', 'Bombay'),\n",
       " ('Bombay', 'Stock'),\n",
       " ('Stock', 'Exchange'),\n",
       " ('Exchange', '(BSE).'),\n",
       " ('(BSE).', 'The'),\n",
       " ('The', 'scandal'),\n",
       " ('scandal', 'exposed'),\n",
       " ('exposed', 'the'),\n",
       " ('the', 'loopholes'),\n",
       " ('loopholes', 'in'),\n",
       " ('in', 'the'),\n",
       " ('the', 'Indian'),\n",
       " ('Indian', 'banking'),\n",
       " ('banking', 'system'),\n",
       " ('system', 'and'),\n",
       " ('and', 'the'),\n",
       " ('the', 'Bombay'),\n",
       " ('Bombay', 'Stock'),\n",
       " ('Stock', 'Exchange'),\n",
       " ('Exchange', '(BSE)'),\n",
       " ('(BSE)', 'transaction'),\n",
       " ('transaction', 'system,'),\n",
       " ('system,', 'and'),\n",
       " ('and', 'consequently'),\n",
       " ('consequently', 'the'),\n",
       " ('the', 'SEBI'),\n",
       " ('SEBI', 'introduced'),\n",
       " ('introduced', 'new'),\n",
       " ('new', 'rules'),\n",
       " ('rules', 'to'),\n",
       " ('to', 'cover'),\n",
       " ('cover', 'those'),\n",
       " ('those', 'loopholes.'),\n",
       " ('loopholes.', 'He'),\n",
       " ('He', 'was'),\n",
       " ('was', 'on'),\n",
       " ('on', 'trial'),\n",
       " ('trial', 'for'),\n",
       " ('for', '9'),\n",
       " ('9', 'years,'),\n",
       " ('years,', 'until'),\n",
       " ('until', 'he'),\n",
       " ('he', 'died'),\n",
       " ('died', 'at'),\n",
       " ('at', 'the'),\n",
       " ('the', 'end'),\n",
       " ('end', 'of'),\n",
       " ('of', '2001'),\n",
       " ('2001', 'from'),\n",
       " ('from', 'heart'),\n",
       " ('heart', 'attack.')]"
      ]
     },
     "execution_count": 11,
     "metadata": {},
     "output_type": "execute_result"
    }
   ],
   "source": [
    "list(bigrams)"
   ]
  },
  {
   "cell_type": "markdown",
   "id": "bce5ed67-c0ba-44fe-9270-ff3e31c4ef65",
   "metadata": {},
   "source": [
    "## Removing stop words"
   ]
  },
  {
   "cell_type": "code",
   "execution_count": 12,
   "id": "9a1e0a75-4abb-41f7-bf04-6780fa7ab481",
   "metadata": {},
   "outputs": [],
   "source": [
    "stop_words = nltk.corpus.stopwords.words('english')"
   ]
  },
  {
   "cell_type": "code",
   "execution_count": 13,
   "id": "9c7a1470-21a0-43bc-96c6-4370ae9bc541",
   "metadata": {},
   "outputs": [],
   "source": [
    "punct = list(punctuation)"
   ]
  },
  {
   "cell_type": "code",
   "execution_count": 14,
   "id": "367735be-8805-4bda-b6bf-c8fe68fad7ff",
   "metadata": {},
   "outputs": [],
   "source": [
    "cleaned_tokens = [i for i in lowercase_tokens if i not in stop_words and i not in punct]"
   ]
  },
  {
   "cell_type": "code",
   "execution_count": 15,
   "id": "aef2d08d-ca72-4417-a55d-f209c44ba654",
   "metadata": {},
   "outputs": [
    {
     "data": {
      "text/plain": [
       "['harshad',\n",
       " 'shantilal',\n",
       " 'mehta',\n",
       " '29',\n",
       " 'july',\n",
       " '1954',\n",
       " '—',\n",
       " '31',\n",
       " 'december',\n",
       " '2001',\n",
       " 'indian',\n",
       " 'stockbroker',\n",
       " 'mehta',\n",
       " \"'s\",\n",
       " 'involvement',\n",
       " '1992',\n",
       " 'indian',\n",
       " 'securities',\n",
       " 'scam',\n",
       " 'made',\n",
       " 'infamous',\n",
       " 'market',\n",
       " 'manipulator.of',\n",
       " '27',\n",
       " 'criminal']"
      ]
     },
     "execution_count": 15,
     "metadata": {},
     "output_type": "execute_result"
    }
   ],
   "source": [
    "cleaned_tokens[:25]"
   ]
  },
  {
   "cell_type": "markdown",
   "id": "eeb3633d-464b-42fb-ace5-7976d4fc537f",
   "metadata": {},
   "source": [
    "## Stemming"
   ]
  },
  {
   "cell_type": "code",
   "execution_count": 16,
   "id": "f26de36a-a257-4ce8-8596-de6eaa4dc1b4",
   "metadata": {},
   "outputs": [],
   "source": [
    "ps = nltk.stem.PorterStemmer()"
   ]
  },
  {
   "cell_type": "code",
   "execution_count": 17,
   "id": "0ae532a4-07ea-438b-ad6b-848abcf67a4d",
   "metadata": {},
   "outputs": [
    {
     "data": {
      "text/plain": [
       "'jump'"
      ]
     },
     "execution_count": 17,
     "metadata": {},
     "output_type": "execute_result"
    }
   ],
   "source": [
    "ps.stem('jumping')"
   ]
  },
  {
   "cell_type": "code",
   "execution_count": 18,
   "id": "c88338e7-3379-4302-82f3-1431690b9dc3",
   "metadata": {},
   "outputs": [
    {
     "data": {
      "text/plain": [
       "'late'"
      ]
     },
     "execution_count": 18,
     "metadata": {},
     "output_type": "execute_result"
    }
   ],
   "source": [
    "ps.stem('lately')"
   ]
  },
  {
   "cell_type": "code",
   "execution_count": 19,
   "id": "381b87db-c5a6-453d-ae94-fdc27511906f",
   "metadata": {},
   "outputs": [
    {
     "data": {
      "text/plain": [
       "'assess'"
      ]
     },
     "execution_count": 19,
     "metadata": {},
     "output_type": "execute_result"
    }
   ],
   "source": [
    "ps.stem('assess')"
   ]
  },
  {
   "cell_type": "code",
   "execution_count": 20,
   "id": "db282906-9d11-42d7-b315-08693f51542e",
   "metadata": {},
   "outputs": [
    {
     "data": {
      "text/plain": [
       "'ran'"
      ]
     },
     "execution_count": 20,
     "metadata": {},
     "output_type": "execute_result"
    }
   ],
   "source": [
    "ps.stem('ran')"
   ]
  },
  {
   "cell_type": "code",
   "execution_count": 21,
   "id": "86cc6dd3-97d6-4ffa-9dc1-330e10703306",
   "metadata": {},
   "outputs": [],
   "source": [
    "stems = [ps.stem(i) for i in cleaned_tokens]"
   ]
  },
  {
   "cell_type": "code",
   "execution_count": 22,
   "id": "0e9201b2-898a-4088-a142-631149687dd9",
   "metadata": {},
   "outputs": [
    {
     "data": {
      "text/plain": [
       "['harshad',\n",
       " 'shantil',\n",
       " 'mehta',\n",
       " '29',\n",
       " 'juli',\n",
       " '1954',\n",
       " '—',\n",
       " '31',\n",
       " 'decemb',\n",
       " '2001',\n",
       " 'indian',\n",
       " 'stockbrok',\n",
       " 'mehta',\n",
       " \"'s\",\n",
       " 'involv',\n",
       " '1992',\n",
       " 'indian',\n",
       " 'secur',\n",
       " 'scam',\n",
       " 'made',\n",
       " 'infam',\n",
       " 'market',\n",
       " 'manipulator.of',\n",
       " '27',\n",
       " 'crimin']"
      ]
     },
     "execution_count": 22,
     "metadata": {},
     "output_type": "execute_result"
    }
   ],
   "source": [
    "stems[:25]"
   ]
  },
  {
   "cell_type": "markdown",
   "id": "5dcd2d3a-a79c-4e32-9801-e246764ff618",
   "metadata": {},
   "source": [
    "## Lemmatization"
   ]
  },
  {
   "cell_type": "code",
   "execution_count": 23,
   "id": "1f5d88ce-45a4-4f14-ba3d-b2a6e59c009e",
   "metadata": {},
   "outputs": [],
   "source": [
    "lmt = nltk.WordNetLemmatizer()"
   ]
  },
  {
   "cell_type": "code",
   "execution_count": 24,
   "id": "5ecd6d01-4069-498a-a099-5eaa677fe650",
   "metadata": {},
   "outputs": [
    {
     "data": {
      "text/plain": [
       "'start'"
      ]
     },
     "execution_count": 24,
     "metadata": {},
     "output_type": "execute_result"
    }
   ],
   "source": [
    "lmt.lemmatize('starting','v')"
   ]
  },
  {
   "cell_type": "code",
   "execution_count": 25,
   "id": "f6aac384-3313-4178-895e-d2facb473d42",
   "metadata": {},
   "outputs": [
    {
     "data": {
      "text/plain": [
       "'good'"
      ]
     },
     "execution_count": 25,
     "metadata": {},
     "output_type": "execute_result"
    }
   ],
   "source": [
    "lmt.lemmatize('better','a')"
   ]
  },
  {
   "cell_type": "code",
   "execution_count": 26,
   "id": "8b18d6ac-aa46-48a7-8ada-0b0d92c8de80",
   "metadata": {},
   "outputs": [
    {
     "data": {
      "text/plain": [
       "'run'"
      ]
     },
     "execution_count": 26,
     "metadata": {},
     "output_type": "execute_result"
    }
   ],
   "source": [
    "lmt.lemmatize('ran','v')"
   ]
  },
  {
   "cell_type": "code",
   "execution_count": 27,
   "id": "50c54f19-25b1-4700-97c3-7a9e53b9d2ba",
   "metadata": {},
   "outputs": [],
   "source": [
    "lemma = [lmt.lemmatize(i) for i in cleaned_tokens]"
   ]
  },
  {
   "cell_type": "code",
   "execution_count": 28,
   "id": "b856320a-a1c6-43f7-afcb-4f80d6e36c9c",
   "metadata": {},
   "outputs": [
    {
     "data": {
      "text/plain": [
       "['harshad',\n",
       " 'shantilal',\n",
       " 'mehta',\n",
       " '29',\n",
       " 'july',\n",
       " '1954',\n",
       " '—',\n",
       " '31',\n",
       " 'december',\n",
       " '2001',\n",
       " 'indian',\n",
       " 'stockbroker',\n",
       " 'mehta',\n",
       " \"'s\",\n",
       " 'involvement',\n",
       " '1992',\n",
       " 'indian',\n",
       " 'security',\n",
       " 'scam',\n",
       " 'made',\n",
       " 'infamous',\n",
       " 'market',\n",
       " 'manipulator.of',\n",
       " '27',\n",
       " 'criminal']"
      ]
     },
     "execution_count": 28,
     "metadata": {},
     "output_type": "execute_result"
    }
   ],
   "source": [
    "lemma[:25]"
   ]
  },
  {
   "cell_type": "markdown",
   "id": "e7bec01c-fae4-4d20-ae27-34b98fad2ff3",
   "metadata": {},
   "source": [
    "### POS tagging"
   ]
  },
  {
   "cell_type": "code",
   "execution_count": 30,
   "id": "e633a814-edb8-4f37-97f9-5302da4e60f2",
   "metadata": {},
   "outputs": [],
   "source": [
    "tagged = nltk.pos_tag(cleaned_tokens)"
   ]
  },
  {
   "cell_type": "code",
   "execution_count": 37,
   "id": "b0e588ce-76b0-4891-ad07-b537a6b7364a",
   "metadata": {},
   "outputs": [],
   "source": [
    "def pos_tag_simplified(tag):\n",
    "    if tag.startswith('J'):\n",
    "        return wordnet.ADJ\n",
    "    elif tag.startswith('V'):\n",
    "        return wordnet.VERB\n",
    "    elif tag.startswith('N'):\n",
    "        return wordnet.NOUN\n",
    "    elif tag.startswith('R'):\n",
    "        return wordnet.ADV\n",
    "    else:\n",
    "        return None"
   ]
  },
  {
   "cell_type": "code",
   "execution_count": 41,
   "id": "17be029a-a50d-4587-8066-8d7c1251bf5e",
   "metadata": {},
   "outputs": [],
   "source": [
    "simple_tagged = list(map(lambda x:(x[0],pos_tag_simplified(x[1])),tagged))"
   ]
  },
  {
   "cell_type": "code",
   "execution_count": 44,
   "id": "a69c1435-3652-43a2-9bf1-b499d62b3fa2",
   "metadata": {},
   "outputs": [
    {
     "data": {
      "text/plain": [
       "[('harshad', 'n'),\n",
       " ('shantilal', 'n'),\n",
       " ('mehta', 'v'),\n",
       " ('29', None),\n",
       " ('july', 'n')]"
      ]
     },
     "execution_count": 44,
     "metadata": {},
     "output_type": "execute_result"
    }
   ],
   "source": [
    "simple_tagged[:5]"
   ]
  },
  {
   "cell_type": "code",
   "execution_count": 48,
   "id": "92eff851-bea9-4f83-b37d-c6d263a7c382",
   "metadata": {},
   "outputs": [],
   "source": [
    "lema = [lmt.lemmatize(i[0],i[1]) if i[1] != None else lmt.lemmatize(i[0]) for i in simple_tagged]"
   ]
  },
  {
   "cell_type": "code",
   "execution_count": 49,
   "id": "a3585da4-9380-4123-904b-0826161c3288",
   "metadata": {},
   "outputs": [
    {
     "data": {
      "text/plain": [
       "['harshad',\n",
       " 'shantilal',\n",
       " 'mehta',\n",
       " '29',\n",
       " 'july',\n",
       " '1954',\n",
       " '—',\n",
       " '31',\n",
       " 'december',\n",
       " '2001',\n",
       " 'indian',\n",
       " 'stockbroker',\n",
       " 'mehta',\n",
       " \"'s\",\n",
       " 'involvement',\n",
       " '1992',\n",
       " 'indian',\n",
       " 'security',\n",
       " 'scam',\n",
       " 'make',\n",
       " 'infamous',\n",
       " 'market',\n",
       " 'manipulator.of',\n",
       " '27',\n",
       " 'criminal',\n",
       " 'charge',\n",
       " 'bring',\n",
       " 'mehta',\n",
       " 'convict',\n",
       " 'four',\n",
       " 'death',\n",
       " 'sudden',\n",
       " 'heart',\n",
       " 'attack',\n",
       " 'age',\n",
       " '47',\n",
       " '2001',\n",
       " 'allege',\n",
       " 'mehta',\n",
       " 'engage',\n",
       " 'massive',\n",
       " 'stock',\n",
       " 'manipulation',\n",
       " 'scheme',\n",
       " 'finance',\n",
       " 'worthless',\n",
       " 'bank',\n",
       " 'receipt',\n",
       " 'firm',\n",
       " 'broker',\n",
       " '``',\n",
       " 'ready',\n",
       " 'forward',\n",
       " \"''\",\n",
       " 'transaction',\n",
       " 'bank',\n",
       " 'mehta',\n",
       " 'convict',\n",
       " 'bombay',\n",
       " 'high',\n",
       " 'court',\n",
       " 'supreme',\n",
       " 'court',\n",
       " 'india',\n",
       " 'part',\n",
       " 'financial',\n",
       " 'scandal',\n",
       " 'value',\n",
       " '₹100',\n",
       " 'billion',\n",
       " 'u',\n",
       " '1.3',\n",
       " 'billion',\n",
       " 'take',\n",
       " 'place',\n",
       " 'bombay',\n",
       " 'stock',\n",
       " 'exchange',\n",
       " 'bse',\n",
       " 'scandal',\n",
       " 'expose',\n",
       " 'loophole',\n",
       " 'indian',\n",
       " 'banking',\n",
       " 'system',\n",
       " 'bombay',\n",
       " 'stock',\n",
       " 'exchange',\n",
       " 'bse',\n",
       " 'transaction',\n",
       " 'system',\n",
       " 'consequently',\n",
       " 'sebi',\n",
       " 'introduced',\n",
       " 'new',\n",
       " 'rule',\n",
       " 'cover',\n",
       " 'loopholes',\n",
       " 'trial',\n",
       " '9',\n",
       " 'year',\n",
       " 'die',\n",
       " 'end',\n",
       " '2001',\n",
       " 'heart',\n",
       " 'attack']"
      ]
     },
     "execution_count": 49,
     "metadata": {},
     "output_type": "execute_result"
    }
   ],
   "source": [
    "lema"
   ]
  },
  {
   "cell_type": "markdown",
   "id": "8e4d705e-160d-4136-b4aa-a6a2e8d70773",
   "metadata": {},
   "source": [
    "# Bag of Words"
   ]
  },
  {
   "cell_type": "code",
   "execution_count": 51,
   "id": "d97c4d08-9c46-4de5-a62c-dfc8803b8033",
   "metadata": {},
   "outputs": [],
   "source": [
    "sentence1 = 'This is a good job. I will not miss it for anything'\n",
    "sentence2 = 'This is not good at all'"
   ]
  },
  {
   "cell_type": "code",
   "execution_count": 52,
   "id": "c8e11ae6-b1c8-4b8c-8e52-25528b2a8676",
   "metadata": {},
   "outputs": [],
   "source": [
    "c_vec = CountVectorizer(ngram_range=(1,1),# to use bigrams use (2,2)\n",
    "                       stop_words='english')"
   ]
  },
  {
   "cell_type": "code",
   "execution_count": 67,
   "id": "e462fae2-6e88-4cf0-8c7f-fe251e1b45a1",
   "metadata": {},
   "outputs": [],
   "source": [
    "c_vec = CountVectorizer(ngram_range=(1,1),# to use bigrams use (2,2)\n",
    "                       )"
   ]
  },
  {
   "cell_type": "code",
   "execution_count": 63,
   "id": "f18b7bdd-beff-4757-bc17-7f85800e8d21",
   "metadata": {},
   "outputs": [],
   "source": [
    "c_vec = CountVectorizer(ngram_range=(2,2),# to use bigrams use (2,2)\n",
    "                       )"
   ]
  },
  {
   "cell_type": "code",
   "execution_count": 71,
   "id": "650a9508-dd63-45b0-96f0-75858a5b6ac5",
   "metadata": {},
   "outputs": [],
   "source": [
    "c_vec = CountVectorizer(ngram_range=(1,2),# to use bigrams use (2,2)\n",
    "                       )"
   ]
  },
  {
   "cell_type": "markdown",
   "id": "8d4f915f-8138-4358-87f2-b0ca4640fbc8",
   "metadata": {},
   "source": [
    "## transform"
   ]
  },
  {
   "cell_type": "code",
   "execution_count": 72,
   "id": "41ee4b56-18d7-423f-98ac-ce50fd94b505",
   "metadata": {},
   "outputs": [],
   "source": [
    "c_data = c_vec.fit_transform([sentence1,sentence2])"
   ]
  },
  {
   "cell_type": "markdown",
   "id": "e5d36cc8-4bfd-4682-b080-b5f0841e7bf6",
   "metadata": {},
   "source": [
    "## Creating data frame"
   ]
  },
  {
   "cell_type": "code",
   "execution_count": 73,
   "id": "34f7892d-043c-4889-83a7-1b4866982d40",
   "metadata": {},
   "outputs": [],
   "source": [
    "cv_df = pd.DataFrame(c_data.toarray(),columns=c_vec.get_feature_names_out())"
   ]
  },
  {
   "cell_type": "code",
   "execution_count": 74,
   "id": "6158dab6-9d0d-4b2f-9bca-3242c39eb241",
   "metadata": {},
   "outputs": [
    {
     "data": {
      "text/html": [
       "<div>\n",
       "<style scoped>\n",
       "    .dataframe tbody tr th:only-of-type {\n",
       "        vertical-align: middle;\n",
       "    }\n",
       "\n",
       "    .dataframe tbody tr th {\n",
       "        vertical-align: top;\n",
       "    }\n",
       "\n",
       "    .dataframe thead th {\n",
       "        text-align: right;\n",
       "    }\n",
       "</style>\n",
       "<table border=\"1\" class=\"dataframe\">\n",
       "  <thead>\n",
       "    <tr style=\"text-align: right;\">\n",
       "      <th></th>\n",
       "      <th>all</th>\n",
       "      <th>anything</th>\n",
       "      <th>at</th>\n",
       "      <th>at all</th>\n",
       "      <th>for</th>\n",
       "      <th>for anything</th>\n",
       "      <th>good</th>\n",
       "      <th>good at</th>\n",
       "      <th>good job</th>\n",
       "      <th>is</th>\n",
       "      <th>...</th>\n",
       "      <th>job will</th>\n",
       "      <th>miss</th>\n",
       "      <th>miss it</th>\n",
       "      <th>not</th>\n",
       "      <th>not good</th>\n",
       "      <th>not miss</th>\n",
       "      <th>this</th>\n",
       "      <th>this is</th>\n",
       "      <th>will</th>\n",
       "      <th>will not</th>\n",
       "    </tr>\n",
       "  </thead>\n",
       "  <tbody>\n",
       "    <tr>\n",
       "      <th>0</th>\n",
       "      <td>0</td>\n",
       "      <td>1</td>\n",
       "      <td>0</td>\n",
       "      <td>0</td>\n",
       "      <td>1</td>\n",
       "      <td>1</td>\n",
       "      <td>1</td>\n",
       "      <td>0</td>\n",
       "      <td>1</td>\n",
       "      <td>1</td>\n",
       "      <td>...</td>\n",
       "      <td>1</td>\n",
       "      <td>1</td>\n",
       "      <td>1</td>\n",
       "      <td>1</td>\n",
       "      <td>0</td>\n",
       "      <td>1</td>\n",
       "      <td>1</td>\n",
       "      <td>1</td>\n",
       "      <td>1</td>\n",
       "      <td>1</td>\n",
       "    </tr>\n",
       "    <tr>\n",
       "      <th>1</th>\n",
       "      <td>1</td>\n",
       "      <td>0</td>\n",
       "      <td>1</td>\n",
       "      <td>1</td>\n",
       "      <td>0</td>\n",
       "      <td>0</td>\n",
       "      <td>1</td>\n",
       "      <td>1</td>\n",
       "      <td>0</td>\n",
       "      <td>1</td>\n",
       "      <td>...</td>\n",
       "      <td>0</td>\n",
       "      <td>0</td>\n",
       "      <td>0</td>\n",
       "      <td>1</td>\n",
       "      <td>1</td>\n",
       "      <td>0</td>\n",
       "      <td>1</td>\n",
       "      <td>1</td>\n",
       "      <td>0</td>\n",
       "      <td>0</td>\n",
       "    </tr>\n",
       "  </tbody>\n",
       "</table>\n",
       "<p>2 rows × 25 columns</p>\n",
       "</div>"
      ],
      "text/plain": [
       "   all  anything  at  at all  for  for anything  good  good at  good job  is  \\\n",
       "0    0         1   0       0    1             1     1        0         1   1   \n",
       "1    1         0   1       1    0             0     1        1         0   1   \n",
       "\n",
       "   ...  job will  miss  miss it  not  not good  not miss  this  this is  will  \\\n",
       "0  ...         1     1        1    1         0         1     1        1     1   \n",
       "1  ...         0     0        0    1         1         0     1        1     0   \n",
       "\n",
       "   will not  \n",
       "0         1  \n",
       "1         0  \n",
       "\n",
       "[2 rows x 25 columns]"
      ]
     },
     "execution_count": 74,
     "metadata": {},
     "output_type": "execute_result"
    }
   ],
   "source": [
    "cv_df"
   ]
  },
  {
   "cell_type": "markdown",
   "id": "74b7fd64-ed6c-48bd-a7f1-124a3915117e",
   "metadata": {},
   "source": [
    "# TF - IDF"
   ]
  },
  {
   "cell_type": "code",
   "execution_count": 76,
   "id": "12d68223-34e4-4fe8-9fb5-95f60173d672",
   "metadata": {},
   "outputs": [],
   "source": [
    "sentence1 = 'This is a good job. I will not miss it for anything'\n",
    "sentence2 = 'This is not good at all'"
   ]
  },
  {
   "cell_type": "code",
   "execution_count": 77,
   "id": "1f05e426-2f93-4020-8933-4503a888e3ee",
   "metadata": {},
   "outputs": [],
   "source": [
    "tf_idf_vec = TfidfVectorizer(use_idf=True,\n",
    "                            ngram_range=(1,1)) # to use only bigrams use (2,2)"
   ]
  },
  {
   "cell_type": "code",
   "execution_count": 78,
   "id": "1102bbe4-023c-460f-99fe-8f296ab21865",
   "metadata": {},
   "outputs": [],
   "source": [
    "tf_idf_data = tf_idf_vec.fit_transform([sentence1,sentence2])"
   ]
  },
  {
   "cell_type": "code",
   "execution_count": 79,
   "id": "cd66ebb6-5760-4181-982f-be1745e2032a",
   "metadata": {},
   "outputs": [],
   "source": [
    "tf_idf_df = pd.DataFrame(tf_idf_data.toarray(),columns=tf_idf_vec.get_feature_names_out())"
   ]
  },
  {
   "cell_type": "code",
   "execution_count": 80,
   "id": "e7fb0ce2-af18-438c-91b2-4e41631ce2ef",
   "metadata": {},
   "outputs": [
    {
     "data": {
      "text/html": [
       "<div>\n",
       "<style scoped>\n",
       "    .dataframe tbody tr th:only-of-type {\n",
       "        vertical-align: middle;\n",
       "    }\n",
       "\n",
       "    .dataframe tbody tr th {\n",
       "        vertical-align: top;\n",
       "    }\n",
       "\n",
       "    .dataframe thead th {\n",
       "        text-align: right;\n",
       "    }\n",
       "</style>\n",
       "<table border=\"1\" class=\"dataframe\">\n",
       "  <thead>\n",
       "    <tr style=\"text-align: right;\">\n",
       "      <th></th>\n",
       "      <th>all</th>\n",
       "      <th>anything</th>\n",
       "      <th>at</th>\n",
       "      <th>for</th>\n",
       "      <th>good</th>\n",
       "      <th>is</th>\n",
       "      <th>it</th>\n",
       "      <th>job</th>\n",
       "      <th>miss</th>\n",
       "      <th>not</th>\n",
       "      <th>this</th>\n",
       "      <th>will</th>\n",
       "    </tr>\n",
       "  </thead>\n",
       "  <tbody>\n",
       "    <tr>\n",
       "      <th>0</th>\n",
       "      <td>0.000000</td>\n",
       "      <td>0.353003</td>\n",
       "      <td>0.000000</td>\n",
       "      <td>0.353003</td>\n",
       "      <td>0.251164</td>\n",
       "      <td>0.251164</td>\n",
       "      <td>0.353003</td>\n",
       "      <td>0.353003</td>\n",
       "      <td>0.353003</td>\n",
       "      <td>0.251164</td>\n",
       "      <td>0.251164</td>\n",
       "      <td>0.353003</td>\n",
       "    </tr>\n",
       "    <tr>\n",
       "      <th>1</th>\n",
       "      <td>0.498446</td>\n",
       "      <td>0.000000</td>\n",
       "      <td>0.498446</td>\n",
       "      <td>0.000000</td>\n",
       "      <td>0.354649</td>\n",
       "      <td>0.354649</td>\n",
       "      <td>0.000000</td>\n",
       "      <td>0.000000</td>\n",
       "      <td>0.000000</td>\n",
       "      <td>0.354649</td>\n",
       "      <td>0.354649</td>\n",
       "      <td>0.000000</td>\n",
       "    </tr>\n",
       "  </tbody>\n",
       "</table>\n",
       "</div>"
      ],
      "text/plain": [
       "        all  anything        at       for      good        is        it  \\\n",
       "0  0.000000  0.353003  0.000000  0.353003  0.251164  0.251164  0.353003   \n",
       "1  0.498446  0.000000  0.498446  0.000000  0.354649  0.354649  0.000000   \n",
       "\n",
       "        job      miss       not      this      will  \n",
       "0  0.353003  0.353003  0.251164  0.251164  0.353003  \n",
       "1  0.000000  0.000000  0.354649  0.354649  0.000000  "
      ]
     },
     "execution_count": 80,
     "metadata": {},
     "output_type": "execute_result"
    }
   ],
   "source": [
    "tf_idf_df"
   ]
  }
 ],
 "metadata": {
  "kernelspec": {
   "display_name": "Python 3 (ipykernel)",
   "language": "python",
   "name": "python3"
  },
  "language_info": {
   "codemirror_mode": {
    "name": "ipython",
    "version": 3
   },
   "file_extension": ".py",
   "mimetype": "text/x-python",
   "name": "python",
   "nbconvert_exporter": "python",
   "pygments_lexer": "ipython3",
   "version": "3.10.6"
  }
 },
 "nbformat": 4,
 "nbformat_minor": 5
}
