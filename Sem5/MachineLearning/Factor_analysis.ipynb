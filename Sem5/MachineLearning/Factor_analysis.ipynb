{
 "cells": [
  {
   "cell_type": "code",
   "execution_count": 2,
   "id": "84ac57a0-fd97-41db-b046-411180489c03",
   "metadata": {},
   "outputs": [],
   "source": [
    "from factor_analyzer import FactorAnalyzer\n",
    "import pandas as pd\n",
    "import matplotlib.pyplot as plt\n",
    "import seaborn as sns\n",
    "from factor_analyzer import calculate_bartlett_sphericity\n",
    "from factor_analyzer.factor_analyzer import calculate_kmo"
   ]
  },
  {
   "cell_type": "code",
   "execution_count": 3,
   "id": "6b2cef01-52c4-4bd2-86a0-92af80f04b7d",
   "metadata": {},
   "outputs": [],
   "source": [
    "df = pd.read_csv('train.csv')"
   ]
  },
  {
   "cell_type": "code",
   "execution_count": 4,
   "id": "b1e68bd4-8fd8-42ab-94af-ae6a88c3cd5b",
   "metadata": {},
   "outputs": [
    {
     "data": {
      "text/html": [
       "<div>\n",
       "<style scoped>\n",
       "    .dataframe tbody tr th:only-of-type {\n",
       "        vertical-align: middle;\n",
       "    }\n",
       "\n",
       "    .dataframe tbody tr th {\n",
       "        vertical-align: top;\n",
       "    }\n",
       "\n",
       "    .dataframe thead th {\n",
       "        text-align: right;\n",
       "    }\n",
       "</style>\n",
       "<table border=\"1\" class=\"dataframe\">\n",
       "  <thead>\n",
       "    <tr style=\"text-align: right;\">\n",
       "      <th></th>\n",
       "      <th>id</th>\n",
       "      <th>Gender</th>\n",
       "      <th>Customer Type</th>\n",
       "      <th>Age</th>\n",
       "      <th>Type of Travel</th>\n",
       "      <th>Class</th>\n",
       "      <th>Flight Distance</th>\n",
       "      <th>Inflight wifi service</th>\n",
       "      <th>Departure/Arrival time convenient</th>\n",
       "      <th>Ease of Online booking</th>\n",
       "      <th>...</th>\n",
       "      <th>Inflight entertainment</th>\n",
       "      <th>On-board service</th>\n",
       "      <th>Leg room service</th>\n",
       "      <th>Baggage handling</th>\n",
       "      <th>Checkin service</th>\n",
       "      <th>Inflight service</th>\n",
       "      <th>Cleanliness</th>\n",
       "      <th>Departure Delay in Minutes</th>\n",
       "      <th>Arrival Delay in Minutes</th>\n",
       "      <th>satisfaction</th>\n",
       "    </tr>\n",
       "  </thead>\n",
       "  <tbody>\n",
       "    <tr>\n",
       "      <th>0</th>\n",
       "      <td>70172</td>\n",
       "      <td>Male</td>\n",
       "      <td>Loyal Customer</td>\n",
       "      <td>13</td>\n",
       "      <td>Personal Travel</td>\n",
       "      <td>Eco Plus</td>\n",
       "      <td>460</td>\n",
       "      <td>3</td>\n",
       "      <td>4</td>\n",
       "      <td>3</td>\n",
       "      <td>...</td>\n",
       "      <td>5</td>\n",
       "      <td>4</td>\n",
       "      <td>3</td>\n",
       "      <td>4</td>\n",
       "      <td>4</td>\n",
       "      <td>5</td>\n",
       "      <td>5</td>\n",
       "      <td>25</td>\n",
       "      <td>18.0</td>\n",
       "      <td>neutral or dissatisfied</td>\n",
       "    </tr>\n",
       "    <tr>\n",
       "      <th>1</th>\n",
       "      <td>5047</td>\n",
       "      <td>Male</td>\n",
       "      <td>disloyal Customer</td>\n",
       "      <td>25</td>\n",
       "      <td>Business travel</td>\n",
       "      <td>Business</td>\n",
       "      <td>235</td>\n",
       "      <td>3</td>\n",
       "      <td>2</td>\n",
       "      <td>3</td>\n",
       "      <td>...</td>\n",
       "      <td>1</td>\n",
       "      <td>1</td>\n",
       "      <td>5</td>\n",
       "      <td>3</td>\n",
       "      <td>1</td>\n",
       "      <td>4</td>\n",
       "      <td>1</td>\n",
       "      <td>1</td>\n",
       "      <td>6.0</td>\n",
       "      <td>neutral or dissatisfied</td>\n",
       "    </tr>\n",
       "    <tr>\n",
       "      <th>2</th>\n",
       "      <td>110028</td>\n",
       "      <td>Female</td>\n",
       "      <td>Loyal Customer</td>\n",
       "      <td>26</td>\n",
       "      <td>Business travel</td>\n",
       "      <td>Business</td>\n",
       "      <td>1142</td>\n",
       "      <td>2</td>\n",
       "      <td>2</td>\n",
       "      <td>2</td>\n",
       "      <td>...</td>\n",
       "      <td>5</td>\n",
       "      <td>4</td>\n",
       "      <td>3</td>\n",
       "      <td>4</td>\n",
       "      <td>4</td>\n",
       "      <td>4</td>\n",
       "      <td>5</td>\n",
       "      <td>0</td>\n",
       "      <td>0.0</td>\n",
       "      <td>satisfied</td>\n",
       "    </tr>\n",
       "    <tr>\n",
       "      <th>3</th>\n",
       "      <td>24026</td>\n",
       "      <td>Female</td>\n",
       "      <td>Loyal Customer</td>\n",
       "      <td>25</td>\n",
       "      <td>Business travel</td>\n",
       "      <td>Business</td>\n",
       "      <td>562</td>\n",
       "      <td>2</td>\n",
       "      <td>5</td>\n",
       "      <td>5</td>\n",
       "      <td>...</td>\n",
       "      <td>2</td>\n",
       "      <td>2</td>\n",
       "      <td>5</td>\n",
       "      <td>3</td>\n",
       "      <td>1</td>\n",
       "      <td>4</td>\n",
       "      <td>2</td>\n",
       "      <td>11</td>\n",
       "      <td>9.0</td>\n",
       "      <td>neutral or dissatisfied</td>\n",
       "    </tr>\n",
       "    <tr>\n",
       "      <th>4</th>\n",
       "      <td>119299</td>\n",
       "      <td>Male</td>\n",
       "      <td>Loyal Customer</td>\n",
       "      <td>61</td>\n",
       "      <td>Business travel</td>\n",
       "      <td>Business</td>\n",
       "      <td>214</td>\n",
       "      <td>3</td>\n",
       "      <td>3</td>\n",
       "      <td>3</td>\n",
       "      <td>...</td>\n",
       "      <td>3</td>\n",
       "      <td>3</td>\n",
       "      <td>4</td>\n",
       "      <td>4</td>\n",
       "      <td>3</td>\n",
       "      <td>3</td>\n",
       "      <td>3</td>\n",
       "      <td>0</td>\n",
       "      <td>0.0</td>\n",
       "      <td>satisfied</td>\n",
       "    </tr>\n",
       "  </tbody>\n",
       "</table>\n",
       "<p>5 rows × 24 columns</p>\n",
       "</div>"
      ],
      "text/plain": [
       "       id  Gender      Customer Type  Age   Type of Travel     Class  \\\n",
       "0   70172    Male     Loyal Customer   13  Personal Travel  Eco Plus   \n",
       "1    5047    Male  disloyal Customer   25  Business travel  Business   \n",
       "2  110028  Female     Loyal Customer   26  Business travel  Business   \n",
       "3   24026  Female     Loyal Customer   25  Business travel  Business   \n",
       "4  119299    Male     Loyal Customer   61  Business travel  Business   \n",
       "\n",
       "   Flight Distance  Inflight wifi service  Departure/Arrival time convenient  \\\n",
       "0              460                      3                                  4   \n",
       "1              235                      3                                  2   \n",
       "2             1142                      2                                  2   \n",
       "3              562                      2                                  5   \n",
       "4              214                      3                                  3   \n",
       "\n",
       "   Ease of Online booking  ...  Inflight entertainment  On-board service  \\\n",
       "0                       3  ...                       5                 4   \n",
       "1                       3  ...                       1                 1   \n",
       "2                       2  ...                       5                 4   \n",
       "3                       5  ...                       2                 2   \n",
       "4                       3  ...                       3                 3   \n",
       "\n",
       "   Leg room service  Baggage handling  Checkin service  Inflight service  \\\n",
       "0                 3                 4                4                 5   \n",
       "1                 5                 3                1                 4   \n",
       "2                 3                 4                4                 4   \n",
       "3                 5                 3                1                 4   \n",
       "4                 4                 4                3                 3   \n",
       "\n",
       "   Cleanliness  Departure Delay in Minutes  Arrival Delay in Minutes  \\\n",
       "0            5                          25                      18.0   \n",
       "1            1                           1                       6.0   \n",
       "2            5                           0                       0.0   \n",
       "3            2                          11                       9.0   \n",
       "4            3                           0                       0.0   \n",
       "\n",
       "              satisfaction  \n",
       "0  neutral or dissatisfied  \n",
       "1  neutral or dissatisfied  \n",
       "2                satisfied  \n",
       "3  neutral or dissatisfied  \n",
       "4                satisfied  \n",
       "\n",
       "[5 rows x 24 columns]"
      ]
     },
     "execution_count": 4,
     "metadata": {},
     "output_type": "execute_result"
    }
   ],
   "source": [
    "df.head()"
   ]
  },
  {
   "cell_type": "code",
   "execution_count": 5,
   "id": "92fa6d26-f0c7-4843-8c0e-9aaa5462a545",
   "metadata": {},
   "outputs": [
    {
     "data": {
      "image/png": "[encoded data removed]",
      "text/plain": [
       "<Figure size 1440x720 with 2 Axes>"
      ]
     },
     "metadata": {
      "needs_background": "light"
     },
     "output_type": "display_data"
    }
   ],
   "source": [
    "plt.figure(figsize=(20,10))\n",
    "c=df.corr()\n",
    "sns.heatmap(c);"
   ]
  },
  {
   "cell_type": "code",
   "execution_count": 6,
   "id": "0129c7e1-68ba-4caa-b791-bb2553b7978b",
   "metadata": {},
   "outputs": [],
   "source": [
    "df.drop([\"Arrival Delay in Minutes\"],axis=1,inplace=True)"
   ]
  },
  {
   "cell_type": "code",
   "execution_count": 7,
   "id": "256aee56-de3f-4075-8ba8-4d34c25f0cf3",
   "metadata": {},
   "outputs": [
    {
     "data": {
      "text/plain": [
       "Index(['Inflight wifi service', 'Departure/Arrival time convenient',\n",
       "       'Ease of Online booking', 'Gate location', 'Food and drink',\n",
       "       'Online boarding', 'Seat comfort', 'Inflight entertainment',\n",
       "       'On-board service', 'Leg room service', 'Baggage handling',\n",
       "       'Checkin service', 'Inflight service', 'Cleanliness'],\n",
       "      dtype='object')"
      ]
     },
     "execution_count": 7,
     "metadata": {},
     "output_type": "execute_result"
    }
   ],
   "source": [
    "x = df[df.columns[7:21]]\n",
    "x.columns"
   ]
  },
  {
   "cell_type": "code",
   "execution_count": 8,
   "id": "bd2a0f4f-1e7d-4153-9070-db92c0e63665",
   "metadata": {},
   "outputs": [
    {
     "data": {
      "text/plain": [
       "14"
      ]
     },
     "execution_count": 8,
     "metadata": {},
     "output_type": "execute_result"
    }
   ],
   "source": [
    "len(x.columns)"
   ]
  },
  {
   "cell_type": "code",
   "execution_count": 9,
   "id": "ff290cea-4c36-41a6-ac03-de48f39c336e",
   "metadata": {},
   "outputs": [],
   "source": [
    "chi_square_value,p_value = calculate_bartlett_sphericity(x)"
   ]
  },
  {
   "cell_type": "code",
   "execution_count": 10,
   "id": "7a66a6d0-9b94-4d09-a51a-14ccbc0a248c",
   "metadata": {},
   "outputs": [
    {
     "data": {
      "text/plain": [
       "(601690.8930479626, 0.0)"
      ]
     },
     "execution_count": 10,
     "metadata": {},
     "output_type": "execute_result"
    }
   ],
   "source": [
    "chi_square_value,p_value"
   ]
  },
  {
   "cell_type": "code",
   "execution_count": 11,
   "id": "72dd5d59-447f-495c-b042-2ba2cc909021",
   "metadata": {},
   "outputs": [
    {
     "data": {
      "text/plain": [
       "0.7812294257164378"
      ]
     },
     "execution_count": 11,
     "metadata": {},
     "output_type": "execute_result"
    }
   ],
   "source": [
    "kmo_all,kmo_model = calculate_kmo(x)\n",
    "kmo_model"
   ]
  },
  {
   "cell_type": "code",
   "execution_count": 12,
   "id": "0702f24f-c950-4ba6-8741-0160796e2cb8",
   "metadata": {},
   "outputs": [],
   "source": [
    "##Create factor analysis"
   ]
  },
  {
   "cell_type": "code",
   "execution_count": 13,
   "id": "9ca3af03-cd74-46a3-acaf-8cfa64d29816",
   "metadata": {},
   "outputs": [
    {
     "data": {
      "text/plain": [
       "array([3.80011677, 2.36198598, 2.16589224, 1.06327401, 0.95093123,\n",
       "       0.7003355 , 0.53995637, 0.51465504, 0.46947475, 0.36866001,\n",
       "       0.32840792, 0.29509562, 0.25317089, 0.18804368])"
      ]
     },
     "execution_count": 13,
     "metadata": {},
     "output_type": "execute_result"
    }
   ],
   "source": [
    "fa = FactorAnalyzer()\n",
    "fa.fit(x,14)\n",
    "ev,v = fa.get_eigenvalues()\n",
    "ev"
   ]
  },
  {
   "cell_type": "code",
   "execution_count": 14,
   "id": "d3bebdd6-f0cb-4e39-be66-2f22594d99bc",
   "metadata": {},
   "outputs": [
    {
     "data": {
      "image/png": "[encoded data removed]",
      "text/plain": [
       "<Figure size 432x288 with 1 Axes>"
      ]
     },
     "metadata": {
      "needs_background": "light"
     },
     "output_type": "display_data"
    }
   ],
   "source": [
    "#Creates scree plot using matplotlib\n",
    "\n",
    "plt.scatter(range(1,x.shape[1]+1),ev)\n",
    "plt.plot(range(1,x.shape[1]+1),ev)\n",
    "plt.title(\"ScreePlot\")\n",
    "plt.xlabel(\"Factors\")\n",
    "plt.ylabel(\"Eigenvalue\")\n",
    "plt.grid()\n",
    "plt.show()"
   ]
  },
  {
   "cell_type": "code",
   "execution_count": 15,
   "id": "135089f1-45d2-4113-800f-d5efbc16d600",
   "metadata": {},
   "outputs": [],
   "source": [
    "fa = FactorAnalyzer(4,rotation='promax')\n",
    "fa.fit(x)\n",
    "loads=fa.loadings_"
   ]
  },
  {
   "cell_type": "code",
   "execution_count": 16,
   "id": "fa0772bf-d137-48c4-80c2-63752a64f89e",
   "metadata": {},
   "outputs": [],
   "source": [
    "loadings=pd.DataFrame(loads)"
   ]
  },
  {
   "cell_type": "code",
   "execution_count": 17,
   "id": "b2ebd328-936b-41c5-b0a6-bf6872ea52f0",
   "metadata": {},
   "outputs": [
    {
     "data": {
      "text/html": [
       "<div>\n",
       "<style scoped>\n",
       "    .dataframe tbody tr th:only-of-type {\n",
       "        vertical-align: middle;\n",
       "    }\n",
       "\n",
       "    .dataframe tbody tr th {\n",
       "        vertical-align: top;\n",
       "    }\n",
       "\n",
       "    .dataframe thead th {\n",
       "        text-align: right;\n",
       "    }\n",
       "</style>\n",
       "<table border=\"1\" class=\"dataframe\">\n",
       "  <thead>\n",
       "    <tr style=\"text-align: right;\">\n",
       "      <th></th>\n",
       "      <th>0</th>\n",
       "      <th>1</th>\n",
       "      <th>2</th>\n",
       "      <th>3</th>\n",
       "    </tr>\n",
       "  </thead>\n",
       "  <tbody>\n",
       "    <tr>\n",
       "      <th>0</th>\n",
       "      <td>-0.017943</td>\n",
       "      <td>0.041272</td>\n",
       "      <td>0.499750</td>\n",
       "      <td>0.464001</td>\n",
       "    </tr>\n",
       "    <tr>\n",
       "      <th>1</th>\n",
       "      <td>0.016234</td>\n",
       "      <td>0.054087</td>\n",
       "      <td>0.606817</td>\n",
       "      <td>-0.068733</td>\n",
       "    </tr>\n",
       "    <tr>\n",
       "      <th>2</th>\n",
       "      <td>-0.128669</td>\n",
       "      <td>-0.049021</td>\n",
       "      <td>0.665939</td>\n",
       "      <td>0.450739</td>\n",
       "    </tr>\n",
       "    <tr>\n",
       "      <th>3</th>\n",
       "      <td>0.082610</td>\n",
       "      <td>-0.041434</td>\n",
       "      <td>0.730367</td>\n",
       "      <td>-0.187674</td>\n",
       "    </tr>\n",
       "    <tr>\n",
       "      <th>4</th>\n",
       "      <td>0.810338</td>\n",
       "      <td>-0.120425</td>\n",
       "      <td>0.057920</td>\n",
       "      <td>-0.032733</td>\n",
       "    </tr>\n",
       "    <tr>\n",
       "      <th>5</th>\n",
       "      <td>0.088286</td>\n",
       "      <td>-0.041303</td>\n",
       "      <td>-0.092479</td>\n",
       "      <td>0.823187</td>\n",
       "    </tr>\n",
       "    <tr>\n",
       "      <th>6</th>\n",
       "      <td>0.732636</td>\n",
       "      <td>-0.065415</td>\n",
       "      <td>-0.053318</td>\n",
       "      <td>0.169248</td>\n",
       "    </tr>\n",
       "    <tr>\n",
       "      <th>7</th>\n",
       "      <td>0.747024</td>\n",
       "      <td>0.367021</td>\n",
       "      <td>0.058879</td>\n",
       "      <td>-0.080358</td>\n",
       "    </tr>\n",
       "    <tr>\n",
       "      <th>8</th>\n",
       "      <td>-0.013403</td>\n",
       "      <td>0.715014</td>\n",
       "      <td>-0.013177</td>\n",
       "      <td>-0.008602</td>\n",
       "    </tr>\n",
       "    <tr>\n",
       "      <th>9</th>\n",
       "      <td>-0.027662</td>\n",
       "      <td>0.483435</td>\n",
       "      <td>0.008883</td>\n",
       "      <td>0.061796</td>\n",
       "    </tr>\n",
       "    <tr>\n",
       "      <th>10</th>\n",
       "      <td>-0.051890</td>\n",
       "      <td>0.801769</td>\n",
       "      <td>0.043494</td>\n",
       "      <td>-0.107953</td>\n",
       "    </tr>\n",
       "    <tr>\n",
       "      <th>11</th>\n",
       "      <td>0.048957</td>\n",
       "      <td>0.262046</td>\n",
       "      <td>-0.061756</td>\n",
       "      <td>0.119487</td>\n",
       "    </tr>\n",
       "    <tr>\n",
       "      <th>12</th>\n",
       "      <td>-0.051829</td>\n",
       "      <td>0.843393</td>\n",
       "      <td>0.048264</td>\n",
       "      <td>-0.135092</td>\n",
       "    </tr>\n",
       "    <tr>\n",
       "      <th>13</th>\n",
       "      <td>0.870436</td>\n",
       "      <td>-0.059179</td>\n",
       "      <td>0.009305</td>\n",
       "      <td>0.028748</td>\n",
       "    </tr>\n",
       "  </tbody>\n",
       "</table>\n",
       "</div>"
      ],
      "text/plain": [
       "           0         1         2         3\n",
       "0  -0.017943  0.041272  0.499750  0.464001\n",
       "1   0.016234  0.054087  0.606817 -0.068733\n",
       "2  -0.128669 -0.049021  0.665939  0.450739\n",
       "3   0.082610 -0.041434  0.730367 -0.187674\n",
       "4   0.810338 -0.120425  0.057920 -0.032733\n",
       "5   0.088286 -0.041303 -0.092479  0.823187\n",
       "6   0.732636 -0.065415 -0.053318  0.169248\n",
       "7   0.747024  0.367021  0.058879 -0.080358\n",
       "8  -0.013403  0.715014 -0.013177 -0.008602\n",
       "9  -0.027662  0.483435  0.008883  0.061796\n",
       "10 -0.051890  0.801769  0.043494 -0.107953\n",
       "11  0.048957  0.262046 -0.061756  0.119487\n",
       "12 -0.051829  0.843393  0.048264 -0.135092\n",
       "13  0.870436 -0.059179  0.009305  0.028748"
      ]
     },
     "execution_count": 17,
     "metadata": {},
     "output_type": "execute_result"
    }
   ],
   "source": [
    "loadings"
   ]
  },
  {
   "cell_type": "code",
   "execution_count": 18,
   "id": "70a2e3dc-3ba5-4725-b9b1-6fd154606752",
   "metadata": {},
   "outputs": [],
   "source": [
    "loadings.index = x.columns\n",
    "loadings.columns=[\"Factor 1\",\"Factor 2\",\"Factor 3\",\"Factor 4\"]\n"
   ]
  },
  {
   "cell_type": "code",
   "execution_count": 19,
   "id": "3eafb2f7-4aec-4692-9a96-5cd5741ada79",
   "metadata": {},
   "outputs": [],
   "source": [
    "loadings.to_csv(\"factor_loadings2.csv\")"
   ]
  },
  {
   "cell_type": "code",
   "execution_count": 20,
   "id": "64d20e2f-d3a9-4545-a518-cf61b4cdad9c",
   "metadata": {},
   "outputs": [],
   "source": [
    "loadings.columns=[\"Comfort\",\"Service\",\"Convinience\",\"f4\"]\n"
   ]
  },
  {
   "cell_type": "code",
   "execution_count": 21,
   "id": "d2d9b98c-7e9f-4e71-b84c-3a866596b1ec",
   "metadata": {},
   "outputs": [
    {
     "data": {
      "text/html": [
       "<div>\n",
       "<style scoped>\n",
       "    .dataframe tbody tr th:only-of-type {\n",
       "        vertical-align: middle;\n",
       "    }\n",
       "\n",
       "    .dataframe tbody tr th {\n",
       "        vertical-align: top;\n",
       "    }\n",
       "\n",
       "    .dataframe thead th {\n",
       "        text-align: right;\n",
       "    }\n",
       "</style>\n",
       "<table border=\"1\" class=\"dataframe\">\n",
       "  <thead>\n",
       "    <tr style=\"text-align: right;\">\n",
       "      <th></th>\n",
       "      <th>Comfort</th>\n",
       "      <th>Service</th>\n",
       "      <th>Convinience</th>\n",
       "      <th>f4</th>\n",
       "    </tr>\n",
       "  </thead>\n",
       "  <tbody>\n",
       "    <tr>\n",
       "      <th>Inflight wifi service</th>\n",
       "      <td>-0.017943</td>\n",
       "      <td>0.041272</td>\n",
       "      <td>0.499750</td>\n",
       "      <td>0.464001</td>\n",
       "    </tr>\n",
       "    <tr>\n",
       "      <th>Departure/Arrival time convenient</th>\n",
       "      <td>0.016234</td>\n",
       "      <td>0.054087</td>\n",
       "      <td>0.606817</td>\n",
       "      <td>-0.068733</td>\n",
       "    </tr>\n",
       "    <tr>\n",
       "      <th>Ease of Online booking</th>\n",
       "      <td>-0.128669</td>\n",
       "      <td>-0.049021</td>\n",
       "      <td>0.665939</td>\n",
       "      <td>0.450739</td>\n",
       "    </tr>\n",
       "    <tr>\n",
       "      <th>Gate location</th>\n",
       "      <td>0.082610</td>\n",
       "      <td>-0.041434</td>\n",
       "      <td>0.730367</td>\n",
       "      <td>-0.187674</td>\n",
       "    </tr>\n",
       "    <tr>\n",
       "      <th>Food and drink</th>\n",
       "      <td>0.810338</td>\n",
       "      <td>-0.120425</td>\n",
       "      <td>0.057920</td>\n",
       "      <td>-0.032733</td>\n",
       "    </tr>\n",
       "    <tr>\n",
       "      <th>Online boarding</th>\n",
       "      <td>0.088286</td>\n",
       "      <td>-0.041303</td>\n",
       "      <td>-0.092479</td>\n",
       "      <td>0.823187</td>\n",
       "    </tr>\n",
       "    <tr>\n",
       "      <th>Seat comfort</th>\n",
       "      <td>0.732636</td>\n",
       "      <td>-0.065415</td>\n",
       "      <td>-0.053318</td>\n",
       "      <td>0.169248</td>\n",
       "    </tr>\n",
       "    <tr>\n",
       "      <th>Inflight entertainment</th>\n",
       "      <td>0.747024</td>\n",
       "      <td>0.367021</td>\n",
       "      <td>0.058879</td>\n",
       "      <td>-0.080358</td>\n",
       "    </tr>\n",
       "    <tr>\n",
       "      <th>On-board service</th>\n",
       "      <td>-0.013403</td>\n",
       "      <td>0.715014</td>\n",
       "      <td>-0.013177</td>\n",
       "      <td>-0.008602</td>\n",
       "    </tr>\n",
       "    <tr>\n",
       "      <th>Leg room service</th>\n",
       "      <td>-0.027662</td>\n",
       "      <td>0.483435</td>\n",
       "      <td>0.008883</td>\n",
       "      <td>0.061796</td>\n",
       "    </tr>\n",
       "    <tr>\n",
       "      <th>Baggage handling</th>\n",
       "      <td>-0.051890</td>\n",
       "      <td>0.801769</td>\n",
       "      <td>0.043494</td>\n",
       "      <td>-0.107953</td>\n",
       "    </tr>\n",
       "    <tr>\n",
       "      <th>Checkin service</th>\n",
       "      <td>0.048957</td>\n",
       "      <td>0.262046</td>\n",
       "      <td>-0.061756</td>\n",
       "      <td>0.119487</td>\n",
       "    </tr>\n",
       "    <tr>\n",
       "      <th>Inflight service</th>\n",
       "      <td>-0.051829</td>\n",
       "      <td>0.843393</td>\n",
       "      <td>0.048264</td>\n",
       "      <td>-0.135092</td>\n",
       "    </tr>\n",
       "    <tr>\n",
       "      <th>Cleanliness</th>\n",
       "      <td>0.870436</td>\n",
       "      <td>-0.059179</td>\n",
       "      <td>0.009305</td>\n",
       "      <td>0.028748</td>\n",
       "    </tr>\n",
       "  </tbody>\n",
       "</table>\n",
       "</div>"
      ],
      "text/plain": [
       "                                    Comfort   Service  Convinience        f4\n",
       "Inflight wifi service             -0.017943  0.041272     0.499750  0.464001\n",
       "Departure/Arrival time convenient  0.016234  0.054087     0.606817 -0.068733\n",
       "Ease of Online booking            -0.128669 -0.049021     0.665939  0.450739\n",
       "Gate location                      0.082610 -0.041434     0.730367 -0.187674\n",
       "Food and drink                     0.810338 -0.120425     0.057920 -0.032733\n",
       "Online boarding                    0.088286 -0.041303    -0.092479  0.823187\n",
       "Seat comfort                       0.732636 -0.065415    -0.053318  0.169248\n",
       "Inflight entertainment             0.747024  0.367021     0.058879 -0.080358\n",
       "On-board service                  -0.013403  0.715014    -0.013177 -0.008602\n",
       "Leg room service                  -0.027662  0.483435     0.008883  0.061796\n",
       "Baggage handling                  -0.051890  0.801769     0.043494 -0.107953\n",
       "Checkin service                    0.048957  0.262046    -0.061756  0.119487\n",
       "Inflight service                  -0.051829  0.843393     0.048264 -0.135092\n",
       "Cleanliness                        0.870436 -0.059179     0.009305  0.028748"
      ]
     },
     "execution_count": 21,
     "metadata": {},
     "output_type": "execute_result"
    }
   ],
   "source": [
    "loadings"
   ]
  },
  {
   "cell_type": "code",
   "execution_count": 22,
   "id": "0094b638-1832-4777-b4df-f869e93d8800",
   "metadata": {},
   "outputs": [
    {
     "data": {
      "text/plain": [
       "array([0.46707234, 0.37614035, 0.6655997 , 0.57719837, 0.67557595,\n",
       "       0.69568925, 0.57252234, 0.70267238, 0.51167184, 0.2383724 ,\n",
       "       0.65907191, 0.08915608, 0.73457752, 0.76207342])"
      ]
     },
     "execution_count": 22,
     "metadata": {},
     "output_type": "execute_result"
    }
   ],
   "source": [
    "fa.get_communalities()"
   ]
  },
  {
   "cell_type": "code",
   "execution_count": 23,
   "id": "ed25d4fe-3373-49ef-93da-adb72f22b039",
   "metadata": {},
   "outputs": [
    {
     "data": {
      "text/plain": [
       "array([0.53292766, 0.62385965, 0.3344003 , 0.42280163, 0.32442405,\n",
       "       0.30431075, 0.42747766, 0.29732762, 0.48832816, 0.7616276 ,\n",
       "       0.34092809, 0.91084392, 0.26542248, 0.23792658])"
      ]
     },
     "execution_count": 23,
     "metadata": {},
     "output_type": "execute_result"
    }
   ],
   "source": [
    "fa.get_uniquenesses()"
   ]
  }
 ],
 "metadata": {
  "kernelspec": {
   "display_name": "Python 3 (ipykernel)",
   "language": "python",
   "name": "python3"
  },
  "language_info": {
   "codemirror_mode": {
    "name": "ipython",
    "version": 3
   },
   "file_extension": ".py",
   "mimetype": "text/x-python",
   "name": "python",
   "nbconvert_exporter": "python",
   "pygments_lexer": "ipython3",
   "version": "3.10.6"
  }
 },
 "nbformat": 4,
 "nbformat_minor": 5
}
