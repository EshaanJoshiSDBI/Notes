{
 "cells": [
  {
   "cell_type": "code",
   "execution_count": 1,
   "id": "3990e189-d500-4a46-9137-a2f1e835c669",
   "metadata": {},
   "outputs": [],
   "source": [
    "import pandas as pd\n",
    "from sklearn.feature_extraction.text import TfidfVectorizer\n",
    "from sklearn.metrics.pairwise import linear_kernel"
   ]
  },
  {
   "cell_type": "code",
   "execution_count": 2,
   "id": "55c05fa6-2b41-4ee4-9f6c-f80b03cb52f7",
   "metadata": {},
   "outputs": [],
   "source": [
    "df = pd.read_csv('content_based_filtering.csv')"
   ]
  },
  {
   "cell_type": "code",
   "execution_count": 3,
   "id": "bb2d42a1-df71-4047-9336-9a5f3ac67989",
   "metadata": {},
   "outputs": [
    {
     "data": {
      "text/html": [
       "<div>\n",
       "<style scoped>\n",
       "    .dataframe tbody tr th:only-of-type {\n",
       "        vertical-align: middle;\n",
       "    }\n",
       "\n",
       "    .dataframe tbody tr th {\n",
       "        vertical-align: top;\n",
       "    }\n",
       "\n",
       "    .dataframe thead th {\n",
       "        text-align: right;\n",
       "    }\n",
       "</style>\n",
       "<table border=\"1\" class=\"dataframe\">\n",
       "  <thead>\n",
       "    <tr style=\"text-align: right;\">\n",
       "      <th></th>\n",
       "      <th>id</th>\n",
       "      <th>description</th>\n",
       "    </tr>\n",
       "  </thead>\n",
       "  <tbody>\n",
       "    <tr>\n",
       "      <th>0</th>\n",
       "      <td>1</td>\n",
       "      <td>Active classic boxers - There's a reason why o...</td>\n",
       "    </tr>\n",
       "    <tr>\n",
       "      <th>1</th>\n",
       "      <td>2</td>\n",
       "      <td>Active sport boxer briefs - Skinning up Glory ...</td>\n",
       "    </tr>\n",
       "    <tr>\n",
       "      <th>2</th>\n",
       "      <td>3</td>\n",
       "      <td>Active sport briefs - These superbreathable no...</td>\n",
       "    </tr>\n",
       "    <tr>\n",
       "      <th>3</th>\n",
       "      <td>4</td>\n",
       "      <td>Alpine guide pants - Skin in, climb ice, switc...</td>\n",
       "    </tr>\n",
       "    <tr>\n",
       "      <th>4</th>\n",
       "      <td>5</td>\n",
       "      <td>Alpine wind jkt - On high ridges, steep ice an...</td>\n",
       "    </tr>\n",
       "  </tbody>\n",
       "</table>\n",
       "</div>"
      ],
      "text/plain": [
       "   id                                        description\n",
       "0   1  Active classic boxers - There's a reason why o...\n",
       "1   2  Active sport boxer briefs - Skinning up Glory ...\n",
       "2   3  Active sport briefs - These superbreathable no...\n",
       "3   4  Alpine guide pants - Skin in, climb ice, switc...\n",
       "4   5  Alpine wind jkt - On high ridges, steep ice an..."
      ]
     },
     "execution_count": 3,
     "metadata": {},
     "output_type": "execute_result"
    }
   ],
   "source": [
    "df.head()"
   ]
  },
  {
   "cell_type": "code",
   "execution_count": 4,
   "id": "aa5d3f85-80b5-4a40-818f-a44a582f9007",
   "metadata": {},
   "outputs": [],
   "source": [
    "tf = TfidfVectorizer(analyzer='word',ngram_range=(1,3),min_df=0,stop_words='english')"
   ]
  },
  {
   "cell_type": "code",
   "execution_count": 5,
   "id": "cba90354-eb7a-496d-ada9-9649058fb9a6",
   "metadata": {},
   "outputs": [],
   "source": [
    "matrix = tf.fit_transform(df['description'])"
   ]
  },
  {
   "cell_type": "code",
   "execution_count": 7,
   "id": "33779535-7385-4be2-a796-c8faf26c57ff",
   "metadata": {},
   "outputs": [
    {
     "data": {
      "text/plain": [
       "(499, 52205)"
      ]
     },
     "execution_count": 7,
     "metadata": {},
     "output_type": "execute_result"
    }
   ],
   "source": [
    "tf.get_feature_names_out()[:200]\n",
    "matrix.shape"
   ]
  },
  {
   "cell_type": "code",
   "execution_count": 8,
   "id": "5105cdb8-6575-44e0-8676-ce1811abae27",
   "metadata": {},
   "outputs": [],
   "source": [
    "cosine_sim = linear_kernel(matrix,matrix)"
   ]
  },
  {
   "cell_type": "code",
   "execution_count": 10,
   "id": "faf46338-6424-465c-89fc-b13c76c18e01",
   "metadata": {},
   "outputs": [],
   "source": [
    "results = {}\n",
    "for i,ii in df.iterrows():\n",
    "    similar_ind = cosine_sim[i].argsort()[:100:-1]\n",
    "    similar_itm = [{cosine_sim[i][iii],df['id'][iii]} for iii in similar_ind]\n",
    "    results[ii['id']] = similar_itm[1:]"
   ]
  },
  {
   "cell_type": "code",
   "execution_count": 14,
   "id": "b01e5d49-4d9b-43cb-a28a-cd6040dee212",
   "metadata": {},
   "outputs": [
    {
     "ename": "TypeError",
     "evalue": "unhashable type: 'slice'",
     "output_type": "error",
     "traceback": [
      "\u001b[0;31m---------------------------------------------------------------------------\u001b[0m",
      "\u001b[0;31mTypeError\u001b[0m                                 Traceback (most recent call last)",
      "\u001b[0;32m/tmp/ipykernel_28643/308382339.py\u001b[0m in \u001b[0;36m<module>\u001b[0;34m\u001b[0m\n\u001b[0;32m----> 1\u001b[0;31m \u001b[0mresults\u001b[0m\u001b[0;34m[\u001b[0m\u001b[0;34m:\u001b[0m\u001b[0;36m5\u001b[0m\u001b[0;34m]\u001b[0m\u001b[0;34m\u001b[0m\u001b[0;34m\u001b[0m\u001b[0m\n\u001b[0m",
      "\u001b[0;31mTypeError\u001b[0m: unhashable type: 'slice'"
     ]
    }
   ],
   "source": [
    "results"
   ]
  },
  {
   "cell_type": "code",
   "execution_count": 16,
   "id": "805a8d36-28e7-4fb2-b3da-6bd771238f5f",
   "metadata": {},
   "outputs": [],
   "source": [
    "def item(iid):\n",
    "    return df.loc[df['id'] == iid]['description'].tolist()[0].split(' - ')[0]"
   ]
  },
  {
   "cell_type": "code",
   "execution_count": 33,
   "id": "1215825d-9af1-4a66-adb8-9dd9002190e0",
   "metadata": {},
   "outputs": [],
   "source": [
    "def recommend(item_id,n):\n",
    "    print('Recommending {} products similar '+item(item_id))\n",
    "    print('----')\n",
    "    recs = list(results[item_id][:n])\n",
    "    for i in recs:\n",
    "        # print(list(i))\n",
    "        print('Recommended: '+ item(list(i)[1]) + '(score: ' + str(list(i)[0]) + ')')"
   ]
  },
  {
   "cell_type": "code",
   "execution_count": 26,
   "id": "a5e82e8f-2353-4e1a-8aef-7ee56824af82",
   "metadata": {},
   "outputs": [
    {
     "data": {
      "text/plain": [
       "'Active sport boxer briefs'"
      ]
     },
     "execution_count": 26,
     "metadata": {},
     "output_type": "execute_result"
    }
   ],
   "source": [
    "item(2)"
   ]
  },
  {
   "cell_type": "code",
   "execution_count": 34,
   "id": "b220cc87-a3e9-4fe5-8587-cc37827d37f6",
   "metadata": {},
   "outputs": [
    {
     "name": "stdout",
     "output_type": "stream",
     "text": [
      "Recommending {} products similar Cap 2 zip neck\n",
      "----\n",
      "[0.6345242474961805, 175]\n",
      "Recommended: Cap 2 zip neck(score: 0.6345242474961805)\n",
      "[0.6225142552491962, 22]\n",
      "Recommended: Cap 2 t-shirt(score: 0.6225142552491962)\n",
      "[0.5692200866763218, 360]\n",
      "Recommended: Cap 2 t-shirt(score: 0.5692200866763218)\n",
      "[0.5672670261866899, 497]\n",
      "Recommended: Cap 2 crew(score: 0.5672670261866899)\n",
      "[0.5669717029664847, 359]\n",
      "Recommended: Cap 2 cap sleeve(score: 0.5669717029664847)\n",
      "[0.47305012960158394, 174]\n",
      "Recommended: Cap 2 v-neck(score: 0.47305012960158394)\n",
      "[0.38577150210743105, 496]\n",
      "Recommended: Cap 2 bottoms(score: 0.38577150210743105)\n",
      "[0.36147383646316106, 173]\n",
      "Recommended: Cap 2 bottoms(score: 0.36147383646316106)\n",
      "[0.30888095164070484, 24]\n",
      "Recommended: Cap 3 zip neck(score: 0.30888095164070484)\n",
      "[0.25266927427892943, 277]\n",
      "Recommended: Cap 4 zip neck(score: 0.25266927427892943)\n"
     ]
    }
   ],
   "source": [
    "recommend(23,10)"
   ]
  }
 ],
 "metadata": {
  "kernelspec": {
   "display_name": "Python 3 (ipykernel)",
   "language": "python",
   "name": "python3"
  },
  "language_info": {
   "codemirror_mode": {
    "name": "ipython",
    "version": 3
   },
   "file_extension": ".py",
   "mimetype": "text/x-python",
   "name": "python",
   "nbconvert_exporter": "python",
   "pygments_lexer": "ipython3",
   "version": "3.10.6"
  }
 },
 "nbformat": 4,
 "nbformat_minor": 5
}
