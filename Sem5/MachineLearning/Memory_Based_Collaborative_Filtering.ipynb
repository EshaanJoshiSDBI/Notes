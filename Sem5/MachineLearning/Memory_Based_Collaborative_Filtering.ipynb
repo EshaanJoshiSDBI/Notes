{
 "cells": [
  {
   "cell_type": "code",
   "execution_count": 42,
   "id": "3af5a296-1a4b-4a03-af8c-e8d8ff6fad6b",
   "metadata": {},
   "outputs": [],
   "source": [
    "import numpy as np\n",
    "import pandas as pd\n",
    "from surprise import Dataset\n",
    "from surprise import Reader\n",
    "from surprise import KNNWithMeans"
   ]
  },
  {
   "cell_type": "code",
   "execution_count": 2,
   "id": "e7d6c7a3-dc41-48fa-9026-1ff196dcdf61",
   "metadata": {},
   "outputs": [],
   "source": [
    "ratings_dict = {\n",
    "    'item':[1,2,1,2,1,2,1,2,1],\n",
    "    'user':['A','A','B','B','C','C','D','D','E'],\n",
    "    'rating':[1,2,2,4,2.5,4,4.5,5,3]\n",
    "}"
   ]
  },
  {
   "cell_type": "code",
   "execution_count": 3,
   "id": "1db7dd60-dddc-4fcb-a5d7-e003a21d0f1b",
   "metadata": {},
   "outputs": [
    {
     "data": {
      "text/plain": [
       "{'item': [1, 2, 1, 2, 1, 2, 1, 2, 1],\n",
       " 'user': ['A', 'A', 'B', 'B', 'C', 'C', 'D', 'D', 'E'],\n",
       " 'rating': [1, 2, 2, 4, 2.5, 4, 4.5, 5, 3]}"
      ]
     },
     "execution_count": 3,
     "metadata": {},
     "output_type": "execute_result"
    }
   ],
   "source": [
    "ratings_dict"
   ]
  },
  {
   "cell_type": "code",
   "execution_count": 5,
   "id": "32e21634-177c-43b6-84ee-5e57da746a50",
   "metadata": {},
   "outputs": [],
   "source": [
    "df = pd.DataFrame(ratings_dict)"
   ]
  },
  {
   "cell_type": "code",
   "execution_count": 8,
   "id": "9e324b2d-643a-4383-ad0a-6674200909bc",
   "metadata": {},
   "outputs": [
    {
     "data": {
      "text/html": [
       "<div>\n",
       "<style scoped>\n",
       "    .dataframe tbody tr th:only-of-type {\n",
       "        vertical-align: middle;\n",
       "    }\n",
       "\n",
       "    .dataframe tbody tr th {\n",
       "        vertical-align: top;\n",
       "    }\n",
       "\n",
       "    .dataframe thead th {\n",
       "        text-align: right;\n",
       "    }\n",
       "</style>\n",
       "<table border=\"1\" class=\"dataframe\">\n",
       "  <thead>\n",
       "    <tr style=\"text-align: right;\">\n",
       "      <th></th>\n",
       "      <th>item</th>\n",
       "      <th>user</th>\n",
       "      <th>rating</th>\n",
       "    </tr>\n",
       "  </thead>\n",
       "  <tbody>\n",
       "    <tr>\n",
       "      <th>0</th>\n",
       "      <td>1</td>\n",
       "      <td>A</td>\n",
       "      <td>1.0</td>\n",
       "    </tr>\n",
       "    <tr>\n",
       "      <th>1</th>\n",
       "      <td>2</td>\n",
       "      <td>A</td>\n",
       "      <td>2.0</td>\n",
       "    </tr>\n",
       "    <tr>\n",
       "      <th>2</th>\n",
       "      <td>1</td>\n",
       "      <td>B</td>\n",
       "      <td>2.0</td>\n",
       "    </tr>\n",
       "    <tr>\n",
       "      <th>3</th>\n",
       "      <td>2</td>\n",
       "      <td>B</td>\n",
       "      <td>4.0</td>\n",
       "    </tr>\n",
       "    <tr>\n",
       "      <th>4</th>\n",
       "      <td>1</td>\n",
       "      <td>C</td>\n",
       "      <td>2.5</td>\n",
       "    </tr>\n",
       "    <tr>\n",
       "      <th>5</th>\n",
       "      <td>2</td>\n",
       "      <td>C</td>\n",
       "      <td>4.0</td>\n",
       "    </tr>\n",
       "    <tr>\n",
       "      <th>6</th>\n",
       "      <td>1</td>\n",
       "      <td>D</td>\n",
       "      <td>4.5</td>\n",
       "    </tr>\n",
       "    <tr>\n",
       "      <th>7</th>\n",
       "      <td>2</td>\n",
       "      <td>D</td>\n",
       "      <td>5.0</td>\n",
       "    </tr>\n",
       "    <tr>\n",
       "      <th>8</th>\n",
       "      <td>1</td>\n",
       "      <td>E</td>\n",
       "      <td>3.0</td>\n",
       "    </tr>\n",
       "  </tbody>\n",
       "</table>\n",
       "</div>"
      ],
      "text/plain": [
       "   item user  rating\n",
       "0     1    A     1.0\n",
       "1     2    A     2.0\n",
       "2     1    B     2.0\n",
       "3     2    B     4.0\n",
       "4     1    C     2.5\n",
       "5     2    C     4.0\n",
       "6     1    D     4.5\n",
       "7     2    D     5.0\n",
       "8     1    E     3.0"
      ]
     },
     "execution_count": 8,
     "metadata": {},
     "output_type": "execute_result"
    }
   ],
   "source": [
    "df"
   ]
  },
  {
   "cell_type": "code",
   "execution_count": 7,
   "id": "46b110f4-7e7c-4caa-aba9-0c6638a86c14",
   "metadata": {},
   "outputs": [],
   "source": [
    "reader = Reader(rating_scale=(1,5))"
   ]
  },
  {
   "cell_type": "code",
   "execution_count": 9,
   "id": "0c9b09c8-9b35-4888-94be-a302a52f54be",
   "metadata": {},
   "outputs": [],
   "source": [
    "data = Dataset.load_from_df(df[['user','item','rating']],reader)"
   ]
  },
  {
   "cell_type": "markdown",
   "id": "0dc42e7b-578c-480f-b5d8-dedb0b3eac4e",
   "metadata": {},
   "source": [
    "- To use item based cosine similarity\n",
    "- Name contains the similarity metric to use. Options are cosine, msd, pearson or pearson_baseline. The default is msd\n",
    "\n",
    "- user based is a boolean that tells whether the approach will be user-based or item-based. The default is true, which means the user-based approach will be used.\n",
    "- min_support is the minimum number of common items needed between users to consider them for similarity\n",
    "- For the item-based approach, this corresponds to the minimum number of common users for two items."
   ]
  },
  {
   "cell_type": "code",
   "execution_count": 12,
   "id": "446a3594-683f-443d-a0e0-7b22f98360eb",
   "metadata": {},
   "outputs": [],
   "source": [
    "sim_options = {\n",
    "    'name':'cosine',\n",
    "    'user_based':False # Compute similarities between items\n",
    "}"
   ]
  },
  {
   "cell_type": "code",
   "execution_count": 13,
   "id": "b3953c3e-04bb-4643-b332-9e2d5289ae51",
   "metadata": {},
   "outputs": [],
   "source": [
    "algo = KNNWithMeans(sim_options=sim_options)"
   ]
  },
  {
   "cell_type": "markdown",
   "id": "5db8a2a2-48c8-4b82-be3e-4fe75255c539",
   "metadata": {},
   "source": [
    "# Build training data"
   ]
  },
  {
   "cell_type": "code",
   "execution_count": 14,
   "id": "18f94306-a82b-483b-a442-fedd8cc289e3",
   "metadata": {},
   "outputs": [],
   "source": [
    "training_data = data.build_full_trainset()"
   ]
  },
  {
   "cell_type": "code",
   "execution_count": 15,
   "id": "35e69abc-e50f-4f9d-bdfb-fd55ca0fb6ac",
   "metadata": {},
   "outputs": [
    {
     "name": "stdout",
     "output_type": "stream",
     "text": [
      "Computing the cosine similarity matrix...\n",
      "Done computing similarity matrix.\n"
     ]
    },
    {
     "data": {
      "text/plain": [
       "<surprise.prediction_algorithms.knns.KNNWithMeans at 0x7fbba139d570>"
      ]
     },
     "execution_count": 15,
     "metadata": {},
     "output_type": "execute_result"
    }
   ],
   "source": [
    "algo.fit(training_data)"
   ]
  },
  {
   "cell_type": "code",
   "execution_count": 16,
   "id": "2e76ae51-ecf0-4ccb-b642-c016b370b60e",
   "metadata": {},
   "outputs": [],
   "source": [
    "pred = algo.predict('A',3)"
   ]
  },
  {
   "cell_type": "code",
   "execution_count": 17,
   "id": "5b72b5b2-137a-4337-8aa3-0b0495369290",
   "metadata": {},
   "outputs": [
    {
     "data": {
      "text/plain": [
       "Prediction(uid='A', iid=3, r_ui=None, est=3.111111111111111, details={'was_impossible': True, 'reason': 'User and/or item is unknown.'})"
      ]
     },
     "execution_count": 17,
     "metadata": {},
     "output_type": "execute_result"
    }
   ],
   "source": [
    "pred"
   ]
  },
  {
   "cell_type": "code",
   "execution_count": 18,
   "id": "d7258664-3868-4255-9f5b-09a3a030b0df",
   "metadata": {},
   "outputs": [
    {
     "data": {
      "text/plain": [
       "3.111111111111111"
      ]
     },
     "execution_count": 18,
     "metadata": {},
     "output_type": "execute_result"
    }
   ],
   "source": [
    "pred.est"
   ]
  },
  {
   "cell_type": "code",
   "execution_count": 19,
   "id": "d95de7e3-38be-4a9a-90da-61703af81e5f",
   "metadata": {},
   "outputs": [],
   "source": [
    "pred = algo.predict('A',2)"
   ]
  },
  {
   "cell_type": "code",
   "execution_count": 20,
   "id": "2596cfa0-e16b-43e6-8cf9-90d11f2e41a4",
   "metadata": {},
   "outputs": [
    {
     "data": {
      "text/plain": [
       "Prediction(uid='A', iid=2, r_ui=None, est=2.0738403438383686, details={'actual_k': 2, 'was_impossible': False})"
      ]
     },
     "execution_count": 20,
     "metadata": {},
     "output_type": "execute_result"
    }
   ],
   "source": [
    "pred"
   ]
  },
  {
   "cell_type": "code",
   "execution_count": 21,
   "id": "6de94469-18ff-4676-b8b5-0f312a5473aa",
   "metadata": {},
   "outputs": [
    {
     "data": {
      "text/plain": [
       "2.0738403438383686"
      ]
     },
     "execution_count": 21,
     "metadata": {},
     "output_type": "execute_result"
    }
   ],
   "source": [
    "pred.est"
   ]
  },
  {
   "cell_type": "markdown",
   "id": "d84b25e2-04f0-490b-90a6-8195afe4f3b6",
   "metadata": {},
   "source": [
    "---"
   ]
  },
  {
   "cell_type": "code",
   "execution_count": 23,
   "id": "e17fe87f-c6d4-4f73-924e-14b4cbe09556",
   "metadata": {},
   "outputs": [],
   "source": [
    "sim_options = {\n",
    "    'name':'pearson',\n",
    "    'user_based':True # Compute similarities between items\n",
    "}"
   ]
  },
  {
   "cell_type": "code",
   "execution_count": 24,
   "id": "c7c5b93b-65f4-4f11-a250-bb49907bf541",
   "metadata": {},
   "outputs": [],
   "source": [
    "algo = KNNWithMeans(sim_options=sim_options)"
   ]
  },
  {
   "cell_type": "code",
   "execution_count": 25,
   "id": "90740080-4a98-4175-964e-f03ec1356e5f",
   "metadata": {},
   "outputs": [],
   "source": [
    "training_data = data.build_full_trainset()"
   ]
  },
  {
   "cell_type": "code",
   "execution_count": 26,
   "id": "436bff30-6dc6-41e7-bafb-34543ca651b7",
   "metadata": {},
   "outputs": [
    {
     "name": "stdout",
     "output_type": "stream",
     "text": [
      "Computing the pearson similarity matrix...\n",
      "Done computing similarity matrix.\n"
     ]
    },
    {
     "data": {
      "text/plain": [
       "<surprise.prediction_algorithms.knns.KNNWithMeans at 0x7fbba1151480>"
      ]
     },
     "execution_count": 26,
     "metadata": {},
     "output_type": "execute_result"
    }
   ],
   "source": [
    "algo.fit(training_data)"
   ]
  },
  {
   "cell_type": "code",
   "execution_count": 30,
   "id": "eeba7a08-d50d-4197-8744-7b7daaad347b",
   "metadata": {},
   "outputs": [],
   "source": [
    "pred = algo.predict('E',2)"
   ]
  },
  {
   "cell_type": "code",
   "execution_count": 31,
   "id": "5784c3b7-c373-4127-b766-55066f9bbcb1",
   "metadata": {},
   "outputs": [
    {
     "data": {
      "text/plain": [
       "Prediction(uid='E', iid=2, r_ui=None, est=3.0, details={'actual_k': 0, 'was_impossible': False})"
      ]
     },
     "execution_count": 31,
     "metadata": {},
     "output_type": "execute_result"
    }
   ],
   "source": [
    "pred"
   ]
  },
  {
   "cell_type": "code",
   "execution_count": 32,
   "id": "40bccf8d-9807-4bd9-9804-c415a553a72d",
   "metadata": {},
   "outputs": [
    {
     "data": {
      "text/plain": [
       "3.0"
      ]
     },
     "execution_count": 32,
     "metadata": {},
     "output_type": "execute_result"
    }
   ],
   "source": [
    "pred.est"
   ]
  },
  {
   "cell_type": "markdown",
   "id": "306bef68-55a6-4d68-b80f-828e76aa7f90",
   "metadata": {},
   "source": [
    "---"
   ]
  },
  {
   "cell_type": "markdown",
   "id": "059f4a97-2ed7-4c64-a5af-df29016994d5",
   "metadata": {},
   "source": [
    "# Building collaborative filtering with the built-in data set movielens"
   ]
  },
  {
   "cell_type": "code",
   "execution_count": 33,
   "id": "9c323e5d-5efc-41d5-94bd-acadec8832a9",
   "metadata": {},
   "outputs": [
    {
     "name": "stdout",
     "output_type": "stream",
     "text": [
      "Dataset ml-100k could not be found. Do you want to download it? [Y/n] "
     ]
    },
    {
     "name": "stdin",
     "output_type": "stream",
     "text": [
      " \n"
     ]
    },
    {
     "name": "stdout",
     "output_type": "stream",
     "text": [
      "Trying to download dataset from https://files.grouplens.org/datasets/movielens/ml-100k.zip...\n",
      "Done! Dataset ml-100k has been saved to /home/eshaan/.surprise_data/ml-100k\n"
     ]
    }
   ],
   "source": [
    "data = Dataset.load_builtin('ml-100k')"
   ]
  },
  {
   "cell_type": "code",
   "execution_count": 34,
   "id": "2de5b3bd-4137-42ed-a148-7e05923d510a",
   "metadata": {},
   "outputs": [],
   "source": [
    "df = pd.DataFrame(data.raw_ratings)"
   ]
  },
  {
   "cell_type": "code",
   "execution_count": 35,
   "id": "e096a881-6d34-441a-816a-fad8fd4fd270",
   "metadata": {},
   "outputs": [
    {
     "data": {
      "text/html": [
       "<div>\n",
       "<style scoped>\n",
       "    .dataframe tbody tr th:only-of-type {\n",
       "        vertical-align: middle;\n",
       "    }\n",
       "\n",
       "    .dataframe tbody tr th {\n",
       "        vertical-align: top;\n",
       "    }\n",
       "\n",
       "    .dataframe thead th {\n",
       "        text-align: right;\n",
       "    }\n",
       "</style>\n",
       "<table border=\"1\" class=\"dataframe\">\n",
       "  <thead>\n",
       "    <tr style=\"text-align: right;\">\n",
       "      <th></th>\n",
       "      <th>0</th>\n",
       "      <th>1</th>\n",
       "      <th>2</th>\n",
       "      <th>3</th>\n",
       "    </tr>\n",
       "  </thead>\n",
       "  <tbody>\n",
       "    <tr>\n",
       "      <th>0</th>\n",
       "      <td>196</td>\n",
       "      <td>242</td>\n",
       "      <td>3.0</td>\n",
       "      <td>881250949</td>\n",
       "    </tr>\n",
       "    <tr>\n",
       "      <th>1</th>\n",
       "      <td>186</td>\n",
       "      <td>302</td>\n",
       "      <td>3.0</td>\n",
       "      <td>891717742</td>\n",
       "    </tr>\n",
       "    <tr>\n",
       "      <th>2</th>\n",
       "      <td>22</td>\n",
       "      <td>377</td>\n",
       "      <td>1.0</td>\n",
       "      <td>878887116</td>\n",
       "    </tr>\n",
       "    <tr>\n",
       "      <th>3</th>\n",
       "      <td>244</td>\n",
       "      <td>51</td>\n",
       "      <td>2.0</td>\n",
       "      <td>880606923</td>\n",
       "    </tr>\n",
       "    <tr>\n",
       "      <th>4</th>\n",
       "      <td>166</td>\n",
       "      <td>346</td>\n",
       "      <td>1.0</td>\n",
       "      <td>886397596</td>\n",
       "    </tr>\n",
       "  </tbody>\n",
       "</table>\n",
       "</div>"
      ],
      "text/plain": [
       "     0    1    2          3\n",
       "0  196  242  3.0  881250949\n",
       "1  186  302  3.0  891717742\n",
       "2   22  377  1.0  878887116\n",
       "3  244   51  2.0  880606923\n",
       "4  166  346  1.0  886397596"
      ]
     },
     "execution_count": 35,
     "metadata": {},
     "output_type": "execute_result"
    }
   ],
   "source": [
    "df.head()"
   ]
  },
  {
   "cell_type": "code",
   "execution_count": 38,
   "id": "23d5ed02-86eb-4fd8-8489-ba8732203159",
   "metadata": {},
   "outputs": [],
   "source": [
    "df = df[[0,1,2]]"
   ]
  },
  {
   "cell_type": "code",
   "execution_count": 40,
   "id": "a3c4ad8e-fe78-44b1-a79a-25c191d71219",
   "metadata": {},
   "outputs": [],
   "source": [
    "df.columns = ['user_id','item_id','rating']"
   ]
  },
  {
   "cell_type": "code",
   "execution_count": 41,
   "id": "cb4d04f5-be7a-4dab-a333-e5b3e7c412ba",
   "metadata": {},
   "outputs": [
    {
     "data": {
      "text/html": [
       "<div>\n",
       "<style scoped>\n",
       "    .dataframe tbody tr th:only-of-type {\n",
       "        vertical-align: middle;\n",
       "    }\n",
       "\n",
       "    .dataframe tbody tr th {\n",
       "        vertical-align: top;\n",
       "    }\n",
       "\n",
       "    .dataframe thead th {\n",
       "        text-align: right;\n",
       "    }\n",
       "</style>\n",
       "<table border=\"1\" class=\"dataframe\">\n",
       "  <thead>\n",
       "    <tr style=\"text-align: right;\">\n",
       "      <th></th>\n",
       "      <th>user_id</th>\n",
       "      <th>item_id</th>\n",
       "      <th>rating</th>\n",
       "    </tr>\n",
       "  </thead>\n",
       "  <tbody>\n",
       "    <tr>\n",
       "      <th>0</th>\n",
       "      <td>196</td>\n",
       "      <td>242</td>\n",
       "      <td>3.0</td>\n",
       "    </tr>\n",
       "    <tr>\n",
       "      <th>1</th>\n",
       "      <td>186</td>\n",
       "      <td>302</td>\n",
       "      <td>3.0</td>\n",
       "    </tr>\n",
       "    <tr>\n",
       "      <th>2</th>\n",
       "      <td>22</td>\n",
       "      <td>377</td>\n",
       "      <td>1.0</td>\n",
       "    </tr>\n",
       "    <tr>\n",
       "      <th>3</th>\n",
       "      <td>244</td>\n",
       "      <td>51</td>\n",
       "      <td>2.0</td>\n",
       "    </tr>\n",
       "    <tr>\n",
       "      <th>4</th>\n",
       "      <td>166</td>\n",
       "      <td>346</td>\n",
       "      <td>1.0</td>\n",
       "    </tr>\n",
       "  </tbody>\n",
       "</table>\n",
       "</div>"
      ],
      "text/plain": [
       "  user_id item_id  rating\n",
       "0     196     242     3.0\n",
       "1     186     302     3.0\n",
       "2      22     377     1.0\n",
       "3     244      51     2.0\n",
       "4     166     346     1.0"
      ]
     },
     "execution_count": 41,
     "metadata": {},
     "output_type": "execute_result"
    }
   ],
   "source": [
    "df.head()"
   ]
  },
  {
   "cell_type": "markdown",
   "id": "57c99ccd-ca80-477d-aea9-a5912b701f2d",
   "metadata": {},
   "source": [
    "## Splitting into train and test"
   ]
  },
  {
   "cell_type": "code",
   "execution_count": 43,
   "id": "de59ee6a-a7ba-4f01-b6bc-b7cc381cda45",
   "metadata": {},
   "outputs": [],
   "source": [
    "msk = np.random.rand(len(df)) < 0.8\n",
    "train = df[msk]\n",
    "test = df[~msk]"
   ]
  },
  {
   "cell_type": "code",
   "execution_count": 44,
   "id": "c037e31b-ab74-4c1f-9f03-dfeb810052ee",
   "metadata": {},
   "outputs": [],
   "source": [
    "reader = Reader(rating_scale=(1,5))"
   ]
  },
  {
   "cell_type": "code",
   "execution_count": 51,
   "id": "56ada874-0ac3-4465-b4eb-ea1a7cd43bdb",
   "metadata": {},
   "outputs": [],
   "source": [
    "data = Dataset.load_from_df(train,reader)"
   ]
  },
  {
   "cell_type": "code",
   "execution_count": 57,
   "id": "a90c2d46-4f05-4277-8722-44d57829a3a9",
   "metadata": {},
   "outputs": [],
   "source": [
    "sim_options = {\n",
    "    'name':'cosine',\n",
    "    'user_based':False # Compute similarities between items\n",
    "}"
   ]
  },
  {
   "cell_type": "code",
   "execution_count": 58,
   "id": "5c7ed4e5-f6a5-4f5a-b6ab-993b508921ad",
   "metadata": {},
   "outputs": [],
   "source": [
    "algo = KNNWithMeans(sim_options=sim_options)"
   ]
  },
  {
   "cell_type": "code",
   "execution_count": 59,
   "id": "ef64524a-0747-4f8c-a79e-fd63f93a51c9",
   "metadata": {},
   "outputs": [],
   "source": [
    "training_data = data.build_full_trainset()"
   ]
  },
  {
   "cell_type": "code",
   "execution_count": 60,
   "id": "67bb97ec-e4a5-40dd-9bdf-02acdd27369f",
   "metadata": {},
   "outputs": [
    {
     "name": "stdout",
     "output_type": "stream",
     "text": [
      "Computing the cosine similarity matrix...\n",
      "Done computing similarity matrix.\n"
     ]
    },
    {
     "data": {
      "text/plain": [
       "<surprise.prediction_algorithms.knns.KNNWithMeans at 0x7fbb9d3e7d30>"
      ]
     },
     "execution_count": 60,
     "metadata": {},
     "output_type": "execute_result"
    }
   ],
   "source": [
    "algo.fit(training_data)"
   ]
  },
  {
   "cell_type": "code",
   "execution_count": 67,
   "id": "f06f2b07-17d5-4451-bf48-eb468000e294",
   "metadata": {},
   "outputs": [],
   "source": [
    "pred = algo.predict('500','1600')"
   ]
  },
  {
   "cell_type": "code",
   "execution_count": 68,
   "id": "ac967d1a-e01e-4eb3-8bb5-7c08d16459f8",
   "metadata": {},
   "outputs": [
    {
     "data": {
      "text/plain": [
       "Prediction(uid='500', iid='1600', r_ui=None, est=3.309642727088844, details={'actual_k': 40, 'was_impossible': False})"
      ]
     },
     "execution_count": 68,
     "metadata": {},
     "output_type": "execute_result"
    }
   ],
   "source": [
    "pred"
   ]
  },
  {
   "cell_type": "code",
   "execution_count": 69,
   "id": "9d23e111-dcad-4bb0-be26-9f74528ef097",
   "metadata": {},
   "outputs": [
    {
     "data": {
      "text/plain": [
       "3.309642727088844"
      ]
     },
     "execution_count": 69,
     "metadata": {},
     "output_type": "execute_result"
    }
   ],
   "source": [
    "pred.est"
   ]
  },
  {
   "cell_type": "code",
   "execution_count": 71,
   "id": "4fe28074-64ac-421f-82ee-84a672c11ec0",
   "metadata": {},
   "outputs": [],
   "source": [
    "predicted = []\n",
    "for _, row in test.iterrows():\n",
    "    predicted.append(algo.predict(row.user_id,row.item_id))"
   ]
  },
  {
   "cell_type": "code",
   "execution_count": 75,
   "id": "cc11d4be-cd2d-4671-87aa-bdc68587bb08",
   "metadata": {},
   "outputs": [
    {
     "name": "stderr",
     "output_type": "stream",
     "text": [
      "/tmp/ipykernel_2596/2035776715.py:1: SettingWithCopyWarning: \n",
      "A value is trying to be set on a copy of a slice from a DataFrame.\n",
      "Try using .loc[row_indexer,col_indexer] = value instead\n",
      "\n",
      "See the caveats in the documentation: https://pandas.pydata.org/pandas-docs/stable/user_guide/indexing.html#returning-a-view-versus-a-copy\n",
      "  test['predicted'] = [i.est for i in predicted]\n"
     ]
    }
   ],
   "source": [
    "test['predicted'] = [i.est for i in predicted]"
   ]
  },
  {
   "cell_type": "code",
   "execution_count": 77,
   "id": "3fb0986a-2828-4204-ba54-b10062aa0130",
   "metadata": {},
   "outputs": [
    {
     "data": {
      "text/html": [
       "<div>\n",
       "<style scoped>\n",
       "    .dataframe tbody tr th:only-of-type {\n",
       "        vertical-align: middle;\n",
       "    }\n",
       "\n",
       "    .dataframe tbody tr th {\n",
       "        vertical-align: top;\n",
       "    }\n",
       "\n",
       "    .dataframe thead th {\n",
       "        text-align: right;\n",
       "    }\n",
       "</style>\n",
       "<table border=\"1\" class=\"dataframe\">\n",
       "  <thead>\n",
       "    <tr style=\"text-align: right;\">\n",
       "      <th></th>\n",
       "      <th>user_id</th>\n",
       "      <th>item_id</th>\n",
       "      <th>rating</th>\n",
       "      <th>predicted</th>\n",
       "    </tr>\n",
       "  </thead>\n",
       "  <tbody>\n",
       "    <tr>\n",
       "      <th>0</th>\n",
       "      <td>196</td>\n",
       "      <td>242</td>\n",
       "      <td>3.0</td>\n",
       "      <td>4.140810</td>\n",
       "    </tr>\n",
       "    <tr>\n",
       "      <th>7</th>\n",
       "      <td>253</td>\n",
       "      <td>465</td>\n",
       "      <td>5.0</td>\n",
       "      <td>3.800859</td>\n",
       "    </tr>\n",
       "    <tr>\n",
       "      <th>18</th>\n",
       "      <td>291</td>\n",
       "      <td>1042</td>\n",
       "      <td>4.0</td>\n",
       "      <td>3.595976</td>\n",
       "    </tr>\n",
       "    <tr>\n",
       "      <th>20</th>\n",
       "      <td>119</td>\n",
       "      <td>392</td>\n",
       "      <td>4.0</td>\n",
       "      <td>4.100358</td>\n",
       "    </tr>\n",
       "    <tr>\n",
       "      <th>22</th>\n",
       "      <td>299</td>\n",
       "      <td>144</td>\n",
       "      <td>4.0</td>\n",
       "      <td>3.631697</td>\n",
       "    </tr>\n",
       "    <tr>\n",
       "      <th>...</th>\n",
       "      <td>...</td>\n",
       "      <td>...</td>\n",
       "      <td>...</td>\n",
       "      <td>...</td>\n",
       "    </tr>\n",
       "    <tr>\n",
       "      <th>99942</th>\n",
       "      <td>363</td>\n",
       "      <td>181</td>\n",
       "      <td>5.0</td>\n",
       "      <td>3.554705</td>\n",
       "    </tr>\n",
       "    <tr>\n",
       "      <th>99949</th>\n",
       "      <td>823</td>\n",
       "      <td>134</td>\n",
       "      <td>5.0</td>\n",
       "      <td>4.727691</td>\n",
       "    </tr>\n",
       "    <tr>\n",
       "      <th>99953</th>\n",
       "      <td>655</td>\n",
       "      <td>913</td>\n",
       "      <td>4.0</td>\n",
       "      <td>3.530915</td>\n",
       "    </tr>\n",
       "    <tr>\n",
       "      <th>99984</th>\n",
       "      <td>654</td>\n",
       "      <td>370</td>\n",
       "      <td>2.0</td>\n",
       "      <td>2.965667</td>\n",
       "    </tr>\n",
       "    <tr>\n",
       "      <th>99994</th>\n",
       "      <td>378</td>\n",
       "      <td>78</td>\n",
       "      <td>3.0</td>\n",
       "      <td>2.213424</td>\n",
       "    </tr>\n",
       "  </tbody>\n",
       "</table>\n",
       "<p>20119 rows × 4 columns</p>\n",
       "</div>"
      ],
      "text/plain": [
       "      user_id item_id  rating  predicted\n",
       "0         196     242     3.0   4.140810\n",
       "7         253     465     5.0   3.800859\n",
       "18        291    1042     4.0   3.595976\n",
       "20        119     392     4.0   4.100358\n",
       "22        299     144     4.0   3.631697\n",
       "...       ...     ...     ...        ...\n",
       "99942     363     181     5.0   3.554705\n",
       "99949     823     134     5.0   4.727691\n",
       "99953     655     913     4.0   3.530915\n",
       "99984     654     370     2.0   2.965667\n",
       "99994     378      78     3.0   2.213424\n",
       "\n",
       "[20119 rows x 4 columns]"
      ]
     },
     "execution_count": 77,
     "metadata": {},
     "output_type": "execute_result"
    }
   ],
   "source": [
    "test"
   ]
  },
  {
   "cell_type": "code",
   "execution_count": 84,
   "id": "7de927ab-0b57-4541-b5ad-3d000301aa35",
   "metadata": {},
   "outputs": [
    {
     "name": "stderr",
     "output_type": "stream",
     "text": [
      "/tmp/ipykernel_2596/3634456746.py:1: SettingWithCopyWarning: \n",
      "A value is trying to be set on a copy of a slice from a DataFrame.\n",
      "Try using .loc[row_indexer,col_indexer] = value instead\n",
      "\n",
      "See the caveats in the documentation: https://pandas.pydata.org/pandas-docs/stable/user_guide/indexing.html#returning-a-view-versus-a-copy\n",
      "  test['error'] = test['rating'] - test['predicted']\n"
     ]
    }
   ],
   "source": [
    "test['error'] = test['rating'] - test['predicted']"
   ]
  },
  {
   "cell_type": "code",
   "execution_count": 88,
   "id": "202a8363-ce1d-43a3-b111-de7c1ef59692",
   "metadata": {},
   "outputs": [
    {
     "name": "stderr",
     "output_type": "stream",
     "text": [
      "/tmp/ipykernel_2596/2305740033.py:1: SettingWithCopyWarning: \n",
      "A value is trying to be set on a copy of a slice from a DataFrame.\n",
      "Try using .loc[row_indexer,col_indexer] = value instead\n",
      "\n",
      "See the caveats in the documentation: https://pandas.pydata.org/pandas-docs/stable/user_guide/indexing.html#returning-a-view-versus-a-copy\n",
      "  test['error'] = np.square(test['error'])\n"
     ]
    }
   ],
   "source": [
    "test['error'] = np.square(test['error'])"
   ]
  },
  {
   "cell_type": "code",
   "execution_count": 92,
   "id": "177382de-a383-4817-89e8-563054c30e70",
   "metadata": {},
   "outputs": [],
   "source": [
    "r_mean_abs_error = np.sqrt(np.mean(test['error']))"
   ]
  },
  {
   "cell_type": "code",
   "execution_count": 93,
   "id": "4fc42f12-3477-4d09-81dd-ec61b587f53f",
   "metadata": {},
   "outputs": [
    {
     "data": {
      "text/plain": [
       "0.9384361943355847"
      ]
     },
     "execution_count": 93,
     "metadata": {},
     "output_type": "execute_result"
    }
   ],
   "source": [
    "r_mean_abs_error"
   ]
  },
  {
   "cell_type": "code",
   "execution_count": 87,
   "id": "dcb02262-1b3c-4ba8-8395-93c6082cd56a",
   "metadata": {},
   "outputs": [
    {
     "data": {
      "text/html": [
       "<div>\n",
       "<style scoped>\n",
       "    .dataframe tbody tr th:only-of-type {\n",
       "        vertical-align: middle;\n",
       "    }\n",
       "\n",
       "    .dataframe tbody tr th {\n",
       "        vertical-align: top;\n",
       "    }\n",
       "\n",
       "    .dataframe thead th {\n",
       "        text-align: right;\n",
       "    }\n",
       "</style>\n",
       "<table border=\"1\" class=\"dataframe\">\n",
       "  <thead>\n",
       "    <tr style=\"text-align: right;\">\n",
       "      <th></th>\n",
       "      <th>user_id</th>\n",
       "      <th>item_id</th>\n",
       "      <th>rating</th>\n",
       "      <th>predicted</th>\n",
       "      <th>error</th>\n",
       "    </tr>\n",
       "  </thead>\n",
       "  <tbody>\n",
       "    <tr>\n",
       "      <th>0</th>\n",
       "      <td>196</td>\n",
       "      <td>242</td>\n",
       "      <td>3.0</td>\n",
       "      <td>4.140810</td>\n",
       "      <td>-1.140810</td>\n",
       "    </tr>\n",
       "    <tr>\n",
       "      <th>7</th>\n",
       "      <td>253</td>\n",
       "      <td>465</td>\n",
       "      <td>5.0</td>\n",
       "      <td>3.800859</td>\n",
       "      <td>1.199141</td>\n",
       "    </tr>\n",
       "    <tr>\n",
       "      <th>18</th>\n",
       "      <td>291</td>\n",
       "      <td>1042</td>\n",
       "      <td>4.0</td>\n",
       "      <td>3.595976</td>\n",
       "      <td>0.404024</td>\n",
       "    </tr>\n",
       "    <tr>\n",
       "      <th>20</th>\n",
       "      <td>119</td>\n",
       "      <td>392</td>\n",
       "      <td>4.0</td>\n",
       "      <td>4.100358</td>\n",
       "      <td>-0.100358</td>\n",
       "    </tr>\n",
       "    <tr>\n",
       "      <th>22</th>\n",
       "      <td>299</td>\n",
       "      <td>144</td>\n",
       "      <td>4.0</td>\n",
       "      <td>3.631697</td>\n",
       "      <td>0.368303</td>\n",
       "    </tr>\n",
       "    <tr>\n",
       "      <th>23</th>\n",
       "      <td>291</td>\n",
       "      <td>118</td>\n",
       "      <td>2.0</td>\n",
       "      <td>3.592201</td>\n",
       "      <td>-1.592201</td>\n",
       "    </tr>\n",
       "    <tr>\n",
       "      <th>29</th>\n",
       "      <td>160</td>\n",
       "      <td>234</td>\n",
       "      <td>5.0</td>\n",
       "      <td>4.104074</td>\n",
       "      <td>0.895926</td>\n",
       "    </tr>\n",
       "    <tr>\n",
       "      <th>32</th>\n",
       "      <td>225</td>\n",
       "      <td>193</td>\n",
       "      <td>4.0</td>\n",
       "      <td>4.635102</td>\n",
       "      <td>-0.635102</td>\n",
       "    </tr>\n",
       "    <tr>\n",
       "      <th>38</th>\n",
       "      <td>276</td>\n",
       "      <td>796</td>\n",
       "      <td>1.0</td>\n",
       "      <td>3.247553</td>\n",
       "      <td>-2.247553</td>\n",
       "    </tr>\n",
       "    <tr>\n",
       "      <th>42</th>\n",
       "      <td>201</td>\n",
       "      <td>979</td>\n",
       "      <td>2.0</td>\n",
       "      <td>2.658667</td>\n",
       "      <td>-0.658667</td>\n",
       "    </tr>\n",
       "  </tbody>\n",
       "</table>\n",
       "</div>"
      ],
      "text/plain": [
       "   user_id item_id  rating  predicted     error\n",
       "0      196     242     3.0   4.140810 -1.140810\n",
       "7      253     465     5.0   3.800859  1.199141\n",
       "18     291    1042     4.0   3.595976  0.404024\n",
       "20     119     392     4.0   4.100358 -0.100358\n",
       "22     299     144     4.0   3.631697  0.368303\n",
       "23     291     118     2.0   3.592201 -1.592201\n",
       "29     160     234     5.0   4.104074  0.895926\n",
       "32     225     193     4.0   4.635102 -0.635102\n",
       "38     276     796     1.0   3.247553 -2.247553\n",
       "42     201     979     2.0   2.658667 -0.658667"
      ]
     },
     "execution_count": 87,
     "metadata": {},
     "output_type": "execute_result"
    }
   ],
   "source": [
    "test.head(10)"
   ]
  }
 ],
 "metadata": {
  "kernelspec": {
   "display_name": "Python 3 (ipykernel)",
   "language": "python",
   "name": "python3"
  },
  "language_info": {
   "codemirror_mode": {
    "name": "ipython",
    "version": 3
   },
   "file_extension": ".py",
   "mimetype": "text/x-python",
   "name": "python",
   "nbconvert_exporter": "python",
   "pygments_lexer": "ipython3",
   "version": "3.10.6"
  }
 },
 "nbformat": 4,
 "nbformat_minor": 5
}
