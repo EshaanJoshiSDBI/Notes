{
 "cells": [
  {
   "cell_type": "code",
   "execution_count": 1,
   "id": "0ca4bd78-50da-4380-9425-fc7f0939d29d",
   "metadata": {},
   "outputs": [],
   "source": [
    "import pandas as pd\n",
    "from surprise import Dataset\n",
    "from surprise import Reader\n",
    "from surprise.model_selection import train_test_split, cross_validate\n",
    "from surprise import SVD, accuracy\n",
    "from surprise import KNNWithMeans\n",
    "import random"
   ]
  },
  {
   "cell_type": "code",
   "execution_count": 51,
   "id": "6068b1da-7c5a-422d-8b80-f22460ceadb0",
   "metadata": {},
   "outputs": [],
   "source": [
    "df = pd.read_csv('CaseStudy1/rating.csv')"
   ]
  },
  {
   "cell_type": "code",
   "execution_count": 52,
   "id": "f7a3aa16-96c0-476d-b021-a17c8ef5419a",
   "metadata": {},
   "outputs": [
    {
     "data": {
      "text/html": [
       "<div>\n",
       "<style scoped>\n",
       "    .dataframe tbody tr th:only-of-type {\n",
       "        vertical-align: middle;\n",
       "    }\n",
       "\n",
       "    .dataframe tbody tr th {\n",
       "        vertical-align: top;\n",
       "    }\n",
       "\n",
       "    .dataframe thead th {\n",
       "        text-align: right;\n",
       "    }\n",
       "</style>\n",
       "<table border=\"1\" class=\"dataframe\">\n",
       "  <thead>\n",
       "    <tr style=\"text-align: right;\">\n",
       "      <th></th>\n",
       "      <th>user_id</th>\n",
       "      <th>anime_id</th>\n",
       "      <th>rating</th>\n",
       "    </tr>\n",
       "  </thead>\n",
       "  <tbody>\n",
       "    <tr>\n",
       "      <th>0</th>\n",
       "      <td>1</td>\n",
       "      <td>20</td>\n",
       "      <td>-1</td>\n",
       "    </tr>\n",
       "    <tr>\n",
       "      <th>1</th>\n",
       "      <td>1</td>\n",
       "      <td>24</td>\n",
       "      <td>-1</td>\n",
       "    </tr>\n",
       "    <tr>\n",
       "      <th>2</th>\n",
       "      <td>1</td>\n",
       "      <td>79</td>\n",
       "      <td>-1</td>\n",
       "    </tr>\n",
       "    <tr>\n",
       "      <th>3</th>\n",
       "      <td>1</td>\n",
       "      <td>226</td>\n",
       "      <td>-1</td>\n",
       "    </tr>\n",
       "    <tr>\n",
       "      <th>4</th>\n",
       "      <td>1</td>\n",
       "      <td>241</td>\n",
       "      <td>-1</td>\n",
       "    </tr>\n",
       "  </tbody>\n",
       "</table>\n",
       "</div>"
      ],
      "text/plain": [
       "   user_id  anime_id  rating\n",
       "0        1        20      -1\n",
       "1        1        24      -1\n",
       "2        1        79      -1\n",
       "3        1       226      -1\n",
       "4        1       241      -1"
      ]
     },
     "execution_count": 52,
     "metadata": {},
     "output_type": "execute_result"
    }
   ],
   "source": [
    "df.head()"
   ]
  },
  {
   "cell_type": "code",
   "execution_count": 53,
   "id": "1efd93a1-c5e0-4784-8e44-09e16c718eb0",
   "metadata": {},
   "outputs": [
    {
     "data": {
      "text/plain": [
       "(7813737, 3)"
      ]
     },
     "execution_count": 53,
     "metadata": {},
     "output_type": "execute_result"
    }
   ],
   "source": [
    "df.shape"
   ]
  },
  {
   "cell_type": "code",
   "execution_count": 54,
   "id": "e4f4a63c-9e07-4a8e-9611-3375a49d0fd0",
   "metadata": {},
   "outputs": [],
   "source": [
    "df = df[df['rating'] != -1]"
   ]
  },
  {
   "cell_type": "code",
   "execution_count": 6,
   "id": "018b74d4-a9a1-4ac3-8f77-41261574c1aa",
   "metadata": {},
   "outputs": [],
   "source": [
    "df = df.iloc[:3500000,:]"
   ]
  },
  {
   "cell_type": "code",
   "execution_count": 7,
   "id": "f4089101-6d92-4926-a6ed-2df98a1cc88f",
   "metadata": {},
   "outputs": [
    {
     "data": {
      "text/plain": [
       "(3500000, 3)"
      ]
     },
     "execution_count": 7,
     "metadata": {},
     "output_type": "execute_result"
    }
   ],
   "source": [
    "df.shape"
   ]
  },
  {
   "cell_type": "code",
   "execution_count": 8,
   "id": "0fa227c3-7193-4a13-aec2-572855df91f6",
   "metadata": {},
   "outputs": [],
   "source": [
    "reader = Reader(rating_scale=(1,10))"
   ]
  },
  {
   "cell_type": "code",
   "execution_count": 55,
   "id": "68d7e862-0746-4890-b06d-6500ae265784",
   "metadata": {},
   "outputs": [],
   "source": [
    "data = Dataset.load_from_df(df,reader)"
   ]
  },
  {
   "cell_type": "markdown",
   "id": "cbb09437-8ec6-4353-bf8c-24f4a385475c",
   "metadata": {},
   "source": [
    "# Memory based collaborative filtering"
   ]
  },
  {
   "cell_type": "markdown",
   "id": "78bf238e-47be-496d-8dd3-ea997fb0e298",
   "metadata": {},
   "source": [
    "## Item based"
   ]
  },
  {
   "cell_type": "code",
   "execution_count": 10,
   "id": "db1234d4-c80b-42a9-ae4d-05724c2c37c9",
   "metadata": {},
   "outputs": [],
   "source": [
    "sim_options = {\n",
    "    'name':'cosine',\n",
    "    'user_based':False\n",
    "}"
   ]
  },
  {
   "cell_type": "code",
   "execution_count": 11,
   "id": "2eedc260-fd3a-4df8-ad68-2c840213d54f",
   "metadata": {},
   "outputs": [],
   "source": [
    "algo = KNNWithMeans(sim_options=sim_options)"
   ]
  },
  {
   "cell_type": "code",
   "execution_count": 12,
   "id": "c59c6dc2-bf3b-4484-886b-80152994c9b1",
   "metadata": {},
   "outputs": [],
   "source": [
    "train = data.build_full_trainset()"
   ]
  },
  {
   "cell_type": "code",
   "execution_count": 13,
   "id": "88805045-cb9a-486a-b74d-0b2762f42187",
   "metadata": {},
   "outputs": [
    {
     "name": "stdout",
     "output_type": "stream",
     "text": [
      "Computing the cosine similarity matrix...\n",
      "Done computing similarity matrix.\n"
     ]
    },
    {
     "data": {
      "text/plain": [
       "<surprise.prediction_algorithms.knns.KNNWithMeans at 0x7f2cfee3a4d0>"
      ]
     },
     "execution_count": 13,
     "metadata": {},
     "output_type": "execute_result"
    }
   ],
   "source": [
    "algo.fit(train)"
   ]
  },
  {
   "cell_type": "code",
   "execution_count": 26,
   "id": "19188fa6-8329-4ed0-83b1-6df8f6642f00",
   "metadata": {},
   "outputs": [
    {
     "data": {
      "text/plain": [
       "7.966723730190104"
      ]
     },
     "execution_count": 26,
     "metadata": {},
     "output_type": "execute_result"
    }
   ],
   "source": [
    "pred = algo.predict(df.iloc[[rand_indx]]['user_id'].values[0],df.iloc[[rand_indx]]['anime_id'].values[0])\n",
    "pred.est"
   ]
  },
  {
   "cell_type": "code",
   "execution_count": 16,
   "id": "501244ea-b3c1-447f-93c4-85da5d199216",
   "metadata": {},
   "outputs": [],
   "source": [
    "rand_indx = random.randint(0,len(df))"
   ]
  },
  {
   "cell_type": "code",
   "execution_count": 25,
   "id": "eb978a8d-ee6c-4b9e-9650-6a5fa04de0d9",
   "metadata": {},
   "outputs": [
    {
     "data": {
      "text/html": [
       "<div>\n",
       "<style scoped>\n",
       "    .dataframe tbody tr th:only-of-type {\n",
       "        vertical-align: middle;\n",
       "    }\n",
       "\n",
       "    .dataframe tbody tr th {\n",
       "        vertical-align: top;\n",
       "    }\n",
       "\n",
       "    .dataframe thead th {\n",
       "        text-align: right;\n",
       "    }\n",
       "</style>\n",
       "<table border=\"1\" class=\"dataframe\">\n",
       "  <thead>\n",
       "    <tr style=\"text-align: right;\">\n",
       "      <th></th>\n",
       "      <th>user_id</th>\n",
       "      <th>anime_id</th>\n",
       "      <th>rating</th>\n",
       "    </tr>\n",
       "  </thead>\n",
       "  <tbody>\n",
       "    <tr>\n",
       "      <th>1406179</th>\n",
       "      <td>13411</td>\n",
       "      <td>10321</td>\n",
       "      <td>8</td>\n",
       "    </tr>\n",
       "  </tbody>\n",
       "</table>\n",
       "</div>"
      ],
      "text/plain": [
       "         user_id  anime_id  rating\n",
       "1406179    13411     10321       8"
      ]
     },
     "execution_count": 25,
     "metadata": {},
     "output_type": "execute_result"
    }
   ],
   "source": [
    "df.iloc[[rand_indx]]"
   ]
  },
  {
   "cell_type": "code",
   "execution_count": 27,
   "id": "06a6a0e1-fa16-4ff5-b726-90444662e225",
   "metadata": {},
   "outputs": [
    {
     "name": "stdout",
     "output_type": "stream",
     "text": [
      "Computing the cosine similarity matrix...\n",
      "Done computing similarity matrix.\n",
      "Computing the cosine similarity matrix...\n",
      "Done computing similarity matrix.\n",
      "Computing the cosine similarity matrix...\n",
      "Done computing similarity matrix.\n",
      "Evaluating RMSE, MAE of algorithm KNNWithMeans on 3 split(s).\n",
      "\n",
      "                  Fold 1  Fold 2  Fold 3  Mean    Std     \n",
      "RMSE (testset)    1.1960  1.1968  1.1954  1.1961  0.0006  \n",
      "MAE (testset)     0.8984  0.9000  0.8981  0.8988  0.0008  \n",
      "Fit time          32.15   32.03   32.52   32.23   0.21    \n",
      "Test time         162.16  162.83  160.94  161.98  0.78    \n"
     ]
    },
    {
     "data": {
      "text/plain": [
       "{'test_rmse': array([1.19601929, 1.19683296, 1.19544854]),\n",
       " 'test_mae': array([0.89837697, 0.89995083, 0.89805149]),\n",
       " 'fit_time': (32.145565032958984, 32.03176164627075, 32.521087646484375),\n",
       " 'test_time': (162.1636815071106, 162.82727479934692, 160.9365668296814)}"
      ]
     },
     "execution_count": 27,
     "metadata": {},
     "output_type": "execute_result"
    }
   ],
   "source": [
    "cross_validate(algo,data,measures = ['RMSE','MAE'],cv=3,verbose=True)"
   ]
  },
  {
   "cell_type": "markdown",
   "id": "c42788b6-efda-4457-b966-f183c844eac6",
   "metadata": {},
   "source": [
    "## User-based"
   ]
  },
  {
   "cell_type": "code",
   "execution_count": 43,
   "id": "97890579-a53b-4b64-83ee-f0f3cf052314",
   "metadata": {},
   "outputs": [],
   "source": [
    "sim_options = {\n",
    "    'name': 'cosine',\n",
    "    'user_based': True\n",
    "}"
   ]
  },
  {
   "cell_type": "code",
   "execution_count": 44,
   "id": "35f48f7e-e47b-417e-a158-c5fdd8e66d1a",
   "metadata": {},
   "outputs": [],
   "source": [
    "algo = KNNWithMeans(sim_options=sim_options)"
   ]
  },
  {
   "cell_type": "code",
   "execution_count": 45,
   "id": "5722ec3e-acc0-4a5a-8a61-72a05c88998d",
   "metadata": {},
   "outputs": [],
   "source": [
    "train = data.build_full_trainset()"
   ]
  },
  {
   "cell_type": "code",
   "execution_count": 46,
   "id": "7e97f65a-c69e-45ad-ac5c-8a99fdfcc67c",
   "metadata": {},
   "outputs": [
    {
     "name": "stdout",
     "output_type": "stream",
     "text": [
      "Computing the cosine similarity matrix...\n",
      "Done computing similarity matrix.\n"
     ]
    },
    {
     "data": {
      "text/plain": [
       "<surprise.prediction_algorithms.knns.KNNWithMeans at 0x7f2c24043820>"
      ]
     },
     "execution_count": 46,
     "metadata": {},
     "output_type": "execute_result"
    }
   ],
   "source": [
    "algo.fit(train)"
   ]
  },
  {
   "cell_type": "code",
   "execution_count": 47,
   "id": "5f0c20f8-d100-447e-aa2c-b8f88b763608",
   "metadata": {},
   "outputs": [],
   "source": [
    "rand_indx = random.randint(0,len(df))"
   ]
  },
  {
   "cell_type": "code",
   "execution_count": 48,
   "id": "3d3fc3c2-86b3-4b46-85b2-29ea6cfc4aa0",
   "metadata": {},
   "outputs": [
    {
     "data": {
      "text/html": [
       "<div>\n",
       "<style scoped>\n",
       "    .dataframe tbody tr th:only-of-type {\n",
       "        vertical-align: middle;\n",
       "    }\n",
       "\n",
       "    .dataframe tbody tr th {\n",
       "        vertical-align: top;\n",
       "    }\n",
       "\n",
       "    .dataframe thead th {\n",
       "        text-align: right;\n",
       "    }\n",
       "</style>\n",
       "<table border=\"1\" class=\"dataframe\">\n",
       "  <thead>\n",
       "    <tr style=\"text-align: right;\">\n",
       "      <th></th>\n",
       "      <th>user_id</th>\n",
       "      <th>anime_id</th>\n",
       "      <th>rating</th>\n",
       "    </tr>\n",
       "  </thead>\n",
       "  <tbody>\n",
       "    <tr>\n",
       "      <th>38802</th>\n",
       "      <td>427</td>\n",
       "      <td>24415</td>\n",
       "      <td>9</td>\n",
       "    </tr>\n",
       "  </tbody>\n",
       "</table>\n",
       "</div>"
      ],
      "text/plain": [
       "       user_id  anime_id  rating\n",
       "38802      427     24415       9"
      ]
     },
     "execution_count": 48,
     "metadata": {},
     "output_type": "execute_result"
    }
   ],
   "source": [
    "df.iloc[[rand_indx]]"
   ]
  },
  {
   "cell_type": "code",
   "execution_count": 49,
   "id": "96aee6da-728f-4cd4-be02-e611a718b831",
   "metadata": {},
   "outputs": [
    {
     "data": {
      "text/plain": [
       "8.387617800008092"
      ]
     },
     "execution_count": 49,
     "metadata": {},
     "output_type": "execute_result"
    }
   ],
   "source": [
    "pred = algo.predict(df.iloc[[rand_indx]]['user_id'].values[0],df.iloc[[rand_indx]]['anime_id'].values[0])\n",
    "pred.est"
   ]
  },
  {
   "cell_type": "code",
   "execution_count": 35,
   "id": "ef837edc-e59f-4396-90b3-3e79ecf98803",
   "metadata": {},
   "outputs": [
    {
     "name": "stdout",
     "output_type": "stream",
     "text": [
      "Computing the cosine similarity matrix...\n",
      "Done computing similarity matrix.\n",
      "Computing the cosine similarity matrix...\n",
      "Done computing similarity matrix.\n",
      "Computing the cosine similarity matrix...\n",
      "Done computing similarity matrix.\n",
      "Evaluating RMSE, MAE of algorithm KNNWithMeans on 3 split(s).\n",
      "\n",
      "                  Fold 1  Fold 2  Fold 3  Mean    Std     \n",
      "RMSE (testset)    1.1966  1.1959  1.1955  1.1960  0.0004  \n",
      "MAE (testset)     0.8996  0.8986  0.8979  0.8987  0.0007  \n",
      "Fit time          33.74   35.17   35.50   34.80   0.76    \n",
      "Test time         171.73  172.37  175.36  173.16  1.58    \n"
     ]
    },
    {
     "data": {
      "text/plain": [
       "{'test_rmse': array([1.19655322, 1.19594153, 1.19553995]),\n",
       " 'test_mae': array([0.89959171, 0.89855232, 0.89791945]),\n",
       " 'fit_time': (33.73641538619995, 35.17265558242798, 35.496763706207275),\n",
       " 'test_time': (171.72997379302979, 172.3741738796234, 175.36313486099243)}"
      ]
     },
     "execution_count": 35,
     "metadata": {},
     "output_type": "execute_result"
    }
   ],
   "source": [
    "cross_validate(algo,data,measures = ['RMSE','MAE'],cv=3,verbose=True)"
   ]
  },
  {
   "cell_type": "markdown",
   "id": "f492ff3c-e1c8-4acb-bd7c-2cb19a738988",
   "metadata": {},
   "source": [
    "# Collaborative Filtering Matrix Factorization"
   ]
  },
  {
   "cell_type": "code",
   "execution_count": 50,
   "id": "ee88ebac-5fec-4892-a8c8-d971f0e7b9d7",
   "metadata": {},
   "outputs": [],
   "source": [
    "algo = SVD()"
   ]
  },
  {
   "cell_type": "code",
   "execution_count": 58,
   "id": "28e4eb44-d551-4f80-b139-ee7d67ff13c1",
   "metadata": {},
   "outputs": [],
   "source": [
    "train = data.build_full_trainset()"
   ]
  },
  {
   "cell_type": "code",
   "execution_count": 78,
   "id": "4a9bce26-be9c-4820-9912-007c67c26461",
   "metadata": {
    "tags": []
   },
   "outputs": [
    {
     "data": {
      "text/plain": [
       "<surprise.prediction_algorithms.matrix_factorization.SVD at 0x7f2c23d64640>"
      ]
     },
     "execution_count": 78,
     "metadata": {},
     "output_type": "execute_result"
    }
   ],
   "source": [
    "algo.fit(train)"
   ]
  },
  {
   "cell_type": "code",
   "execution_count": 79,
   "id": "f8818143-3cd4-4c80-9430-e7ab2626e004",
   "metadata": {},
   "outputs": [],
   "source": [
    "rand_indx = random.randint(0,len(df))"
   ]
  },
  {
   "cell_type": "code",
   "execution_count": 80,
   "id": "e634e39c-bff3-4fa1-bb0d-bcb99a39a170",
   "metadata": {},
   "outputs": [
    {
     "data": {
      "text/html": [
       "<div>\n",
       "<style scoped>\n",
       "    .dataframe tbody tr th:only-of-type {\n",
       "        vertical-align: middle;\n",
       "    }\n",
       "\n",
       "    .dataframe tbody tr th {\n",
       "        vertical-align: top;\n",
       "    }\n",
       "\n",
       "    .dataframe thead th {\n",
       "        text-align: right;\n",
       "    }\n",
       "</style>\n",
       "<table border=\"1\" class=\"dataframe\">\n",
       "  <thead>\n",
       "    <tr style=\"text-align: right;\">\n",
       "      <th></th>\n",
       "      <th>user_id</th>\n",
       "      <th>anime_id</th>\n",
       "      <th>rating</th>\n",
       "    </tr>\n",
       "  </thead>\n",
       "  <tbody>\n",
       "    <tr>\n",
       "      <th>5490100</th>\n",
       "      <td>51734</td>\n",
       "      <td>31043</td>\n",
       "      <td>9</td>\n",
       "    </tr>\n",
       "  </tbody>\n",
       "</table>\n",
       "</div>"
      ],
      "text/plain": [
       "         user_id  anime_id  rating\n",
       "5490100    51734     31043       9"
      ]
     },
     "execution_count": 80,
     "metadata": {},
     "output_type": "execute_result"
    }
   ],
   "source": [
    "df.iloc[[rand_indx]]"
   ]
  },
  {
   "cell_type": "code",
   "execution_count": 83,
   "id": "a9e085bc-25e6-4cff-8a0f-66dc1b87711d",
   "metadata": {},
   "outputs": [
    {
     "data": {
      "text/plain": [
       "8.550904234837699"
      ]
     },
     "execution_count": 83,
     "metadata": {},
     "output_type": "execute_result"
    }
   ],
   "source": [
    "pred = algo.predict(df.iloc[[rand_indx]]['user_id'].values[0],df.iloc[[rand_indx]]['anime_id'].values[0])\n",
    "pred.est"
   ]
  },
  {
   "cell_type": "code",
   "execution_count": 86,
   "id": "1ea21a00-948c-45f3-a801-0ba33ed84674",
   "metadata": {},
   "outputs": [
    {
     "name": "stdout",
     "output_type": "stream",
     "text": [
      "Evaluating RMSE, MAE of algorithm SVD on 3 split(s).\n",
      "\n",
      "                  Fold 1  Fold 2  Fold 3  Mean    Std     \n",
      "RMSE (testset)    1.2068  1.2208  1.2172  1.2149  0.0059  \n",
      "MAE (testset)     0.9138  0.9226  0.9266  0.9210  0.0053  \n",
      "Fit time          0.61    0.62    0.62    0.62    0.01    \n",
      "Test time         0.21    0.21    0.22    0.21    0.00    \n"
     ]
    },
    {
     "data": {
      "text/plain": [
       "{'test_rmse': array([1.2068498 , 1.22081777, 1.21715802]),\n",
       " 'test_mae': array([0.91377368, 0.92257305, 0.92657716]),\n",
       " 'fit_time': (0.609809160232544, 0.6211960315704346, 0.6231136322021484),\n",
       " 'test_time': (0.21317076683044434, 0.21088075637817383, 0.2195425033569336)}"
      ]
     },
     "execution_count": 86,
     "metadata": {},
     "output_type": "execute_result"
    }
   ],
   "source": [
    "cross_validate(algo,data,measures = ['RMSE','MAE'],cv=3,verbose=True)"
   ]
  }
 ],
 "metadata": {
  "kernelspec": {
   "display_name": "Python 3 (ipykernel)",
   "language": "python",
   "name": "python3"
  },
  "language_info": {
   "codemirror_mode": {
    "name": "ipython",
    "version": 3
   },
   "file_extension": ".py",
   "mimetype": "text/x-python",
   "name": "python",
   "nbconvert_exporter": "python",
   "pygments_lexer": "ipython3",
   "version": "3.10.6"
  }
 },
 "nbformat": 4,
 "nbformat_minor": 5
}
