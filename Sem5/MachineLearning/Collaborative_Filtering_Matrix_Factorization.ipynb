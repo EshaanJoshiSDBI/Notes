{
 "cells": [
  {
   "cell_type": "code",
   "execution_count": 1,
   "id": "9dd72dd1-70df-449b-b0b2-2a7d05945d0c",
   "metadata": {},
   "outputs": [],
   "source": [
    "import pandas as pd\n",
    "# from surprise import Dataset\n",
    "# from surprise import Reader\n",
    "# from surprise.model_selection import train_test_split\n",
    "# from surprise import SVD, accuracy"
   ]
  },
  {
   "cell_type": "code",
   "execution_count": 21,
   "id": "6b7d16f9-40c2-4a7b-9b4d-8b75b2eb8ef5",
   "metadata": {},
   "outputs": [],
   "source": [
    "data = Dataset.load_builtin('ml-100k')"
   ]
  },
  {
   "cell_type": "code",
   "execution_count": 22,
   "id": "11f2356e-9e1a-4b9f-a90f-3a4cb7b463fb",
   "metadata": {},
   "outputs": [],
   "source": [
    "df = pd.DataFrame(data.raw_ratings)\n",
    "df = df[[0,1,2]]\n",
    "df.columns = ['user_id','item_id','rating']"
   ]
  },
  {
   "cell_type": "code",
   "execution_count": 23,
   "id": "173796ce-08bd-47c2-8ade-470e40cd44ed",
   "metadata": {},
   "outputs": [
    {
     "data": {
      "text/html": [
       "<div>\n",
       "<style scoped>\n",
       "    .dataframe tbody tr th:only-of-type {\n",
       "        vertical-align: middle;\n",
       "    }\n",
       "\n",
       "    .dataframe tbody tr th {\n",
       "        vertical-align: top;\n",
       "    }\n",
       "\n",
       "    .dataframe thead th {\n",
       "        text-align: right;\n",
       "    }\n",
       "</style>\n",
       "<table border=\"1\" class=\"dataframe\">\n",
       "  <thead>\n",
       "    <tr style=\"text-align: right;\">\n",
       "      <th></th>\n",
       "      <th>user_id</th>\n",
       "      <th>item_id</th>\n",
       "      <th>rating</th>\n",
       "    </tr>\n",
       "  </thead>\n",
       "  <tbody>\n",
       "    <tr>\n",
       "      <th>0</th>\n",
       "      <td>196</td>\n",
       "      <td>242</td>\n",
       "      <td>3.0</td>\n",
       "    </tr>\n",
       "    <tr>\n",
       "      <th>1</th>\n",
       "      <td>186</td>\n",
       "      <td>302</td>\n",
       "      <td>3.0</td>\n",
       "    </tr>\n",
       "    <tr>\n",
       "      <th>2</th>\n",
       "      <td>22</td>\n",
       "      <td>377</td>\n",
       "      <td>1.0</td>\n",
       "    </tr>\n",
       "    <tr>\n",
       "      <th>3</th>\n",
       "      <td>244</td>\n",
       "      <td>51</td>\n",
       "      <td>2.0</td>\n",
       "    </tr>\n",
       "    <tr>\n",
       "      <th>4</th>\n",
       "      <td>166</td>\n",
       "      <td>346</td>\n",
       "      <td>1.0</td>\n",
       "    </tr>\n",
       "  </tbody>\n",
       "</table>\n",
       "</div>"
      ],
      "text/plain": [
       "  user_id item_id  rating\n",
       "0     196     242     3.0\n",
       "1     186     302     3.0\n",
       "2      22     377     1.0\n",
       "3     244      51     2.0\n",
       "4     166     346     1.0"
      ]
     },
     "execution_count": 23,
     "metadata": {},
     "output_type": "execute_result"
    }
   ],
   "source": [
    "df.head()"
   ]
  },
  {
   "cell_type": "code",
   "execution_count": 24,
   "id": "70ccda32-64a7-46a0-b411-e8169adeb659",
   "metadata": {},
   "outputs": [],
   "source": [
    "reader = Reader(rating_scale=(1,5))"
   ]
  },
  {
   "cell_type": "code",
   "execution_count": 29,
   "id": "be8214e9-454c-4ae6-9ff1-5c616849dafb",
   "metadata": {},
   "outputs": [],
   "source": [
    "f_data = Dataset.load_from_df(df,reader)"
   ]
  },
  {
   "cell_type": "markdown",
   "id": "160c5aae-2d39-42f3-9b40-0f22b9975735",
   "metadata": {},
   "source": [
    "## Splitting into train and test"
   ]
  },
  {
   "cell_type": "code",
   "execution_count": 30,
   "id": "fa582370-4f35-4f52-bf86-5860c6016850",
   "metadata": {},
   "outputs": [],
   "source": [
    "train, test = train_test_split(f_data,test_size=0.25)"
   ]
  },
  {
   "cell_type": "code",
   "execution_count": 31,
   "id": "fd2adef4-aec1-48c1-a192-ffa6e34752c2",
   "metadata": {},
   "outputs": [
    {
     "data": {
      "text/plain": [
       "<surprise.prediction_algorithms.matrix_factorization.SVD at 0x7f016928f550>"
      ]
     },
     "execution_count": 31,
     "metadata": {},
     "output_type": "execute_result"
    }
   ],
   "source": [
    "algo = SVD()\n",
    "algo.fit(train)"
   ]
  },
  {
   "cell_type": "code",
   "execution_count": 33,
   "id": "e7414578-f2e8-4335-a27b-43f27a7243bd",
   "metadata": {},
   "outputs": [],
   "source": [
    "pred = algo.test(test)"
   ]
  },
  {
   "cell_type": "code",
   "execution_count": 36,
   "id": "600b994a-5ee7-4e2a-850f-3671b99ec135",
   "metadata": {},
   "outputs": [
    {
     "data": {
      "text/plain": [
       "[Prediction(uid='41', iid='152', r_ui=4.0, est=3.5293796406111664, details={'was_impossible': False}),\n",
       " Prediction(uid='774', iid='739', r_ui=2.0, est=1.7404266310948764, details={'was_impossible': False}),\n",
       " Prediction(uid='109', iid='291', r_ui=3.0, est=3.7230327701639236, details={'was_impossible': False}),\n",
       " Prediction(uid='435', iid='123', r_ui=2.0, est=3.0790165046516034, details={'was_impossible': False}),\n",
       " Prediction(uid='213', iid='715', r_ui=5.0, est=3.613771141079499, details={'was_impossible': False}),\n",
       " Prediction(uid='705', iid='419', r_ui=3.0, est=4.238788426078429, details={'was_impossible': False}),\n",
       " Prediction(uid='707', iid='83', r_ui=3.0, est=3.6231490591872286, details={'was_impossible': False}),\n",
       " Prediction(uid='184', iid='522', r_ui=3.0, est=3.686101198360579, details={'was_impossible': False}),\n",
       " Prediction(uid='450', iid='78', r_ui=2.0, est=3.1534263781234624, details={'was_impossible': False}),\n",
       " Prediction(uid='302', iid='680', r_ui=2.0, est=1.84999365547734, details={'was_impossible': False})]"
      ]
     },
     "execution_count": 36,
     "metadata": {},
     "output_type": "execute_result"
    }
   ],
   "source": [
    "pred[:10]"
   ]
  },
  {
   "cell_type": "markdown",
   "id": "3f0c2f15-3865-44f6-b9cd-22f5194542aa",
   "metadata": {},
   "source": [
    "## Evaluation"
   ]
  },
  {
   "cell_type": "code",
   "execution_count": 37,
   "id": "d2745821-2f6c-427d-8c1d-92a7859d1b8a",
   "metadata": {},
   "outputs": [
    {
     "name": "stdout",
     "output_type": "stream",
     "text": [
      "RMSE: 0.9323\n"
     ]
    },
    {
     "data": {
      "text/plain": [
       "0.9323444089419921"
      ]
     },
     "execution_count": 37,
     "metadata": {},
     "output_type": "execute_result"
    }
   ],
   "source": [
    "accuracy.rmse(pred)"
   ]
  },
  {
   "cell_type": "code",
   "execution_count": 39,
   "id": "9d0638d7-31c0-42d9-a639-f6ea547a9971",
   "metadata": {},
   "outputs": [
    {
     "name": "stdout",
     "output_type": "stream",
     "text": [
      "MAE:  0.7359\n"
     ]
    },
    {
     "data": {
      "text/plain": [
       "0.7358918952337637"
      ]
     },
     "execution_count": 39,
     "metadata": {},
     "output_type": "execute_result"
    }
   ],
   "source": [
    "accuracy.mae(pred)"
   ]
  },
  {
   "cell_type": "code",
   "execution_count": 40,
   "id": "9c748e96-3a41-44d6-a16c-ddc5830435a9",
   "metadata": {},
   "outputs": [
    {
     "name": "stdout",
     "output_type": "stream",
     "text": [
      "MSE: 0.8693\n"
     ]
    },
    {
     "data": {
      "text/plain": [
       "0.8692660968853926"
      ]
     },
     "execution_count": 40,
     "metadata": {},
     "output_type": "execute_result"
    }
   ],
   "source": [
    "accuracy.mse(pred)"
   ]
  }
 ],
 "metadata": {
  "kernelspec": {
   "display_name": "Python 3 (ipykernel)",
   "language": "python",
   "name": "python3"
  },
  "language_info": {
   "codemirror_mode": {
    "name": "ipython",
    "version": 3
   },
   "file_extension": ".py",
   "mimetype": "text/x-python",
   "name": "python",
   "nbconvert_exporter": "python",
   "pygments_lexer": "ipython3",
   "version": "3.10.8"
  }
 },
 "nbformat": 4,
 "nbformat_minor": 5
}
